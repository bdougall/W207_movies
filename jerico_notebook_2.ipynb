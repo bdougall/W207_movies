{
 "cells": [
  {
   "cell_type": "markdown",
   "metadata": {},
   "source": [
    "# W207 Final Project Notebook"
   ]
  },
  {
   "cell_type": "code",
   "execution_count": 1,
   "metadata": {},
   "outputs": [
    {
     "name": "stdout",
     "output_type": "stream",
     "text": [
      "Requirement already satisfied: scikit-surprise in /opt/anaconda3/lib/python3.8/site-packages (1.1.1)\n",
      "Requirement already satisfied: numpy>=1.11.2 in /opt/anaconda3/lib/python3.8/site-packages (from scikit-surprise) (1.19.5)\n",
      "Requirement already satisfied: scipy>=1.0.0 in /opt/anaconda3/lib/python3.8/site-packages (from scikit-surprise) (1.7.0)\n",
      "Requirement already satisfied: joblib>=0.11 in /opt/anaconda3/lib/python3.8/site-packages (from scikit-surprise) (0.16.0)\n",
      "Requirement already satisfied: six>=1.10.0 in /opt/anaconda3/lib/python3.8/site-packages (from scikit-surprise) (1.15.0)\n"
     ]
    }
   ],
   "source": [
    "#Well be using surprise package heavily as it features packages specifically for recommender systems\n",
    "!pip install scikit-surprise"
   ]
  },
  {
   "cell_type": "code",
   "execution_count": 2,
   "metadata": {},
   "outputs": [],
   "source": [
    "#Install recmetrics directly from Github repo\n",
    "#in terminal by using: pip install git+https://github.com/statisticianinstilettos/recmetrics.git\n",
    "import recmetrics"
   ]
  },
  {
   "cell_type": "code",
   "execution_count": 109,
   "metadata": {},
   "outputs": [],
   "source": [
    "# This tells matplotlib not to try opening a new window for each plot.\n",
    "%matplotlib inline\n",
    "\n",
    "# Import a bunch of libraries.\n",
    "import time\n",
    "import numpy as np\n",
    "import matplotlib.pyplot as plt\n",
    "import pandas as pd\n",
    "from collections import defaultdict\n",
    "\n",
    "from IPython.display import display\n",
    "\n",
    "from matplotlib.ticker import MultipleLocator\n",
    "\n",
    "from sklearn.pipeline import Pipeline\n",
    "from sklearn.datasets import fetch_openml\n",
    "from sklearn.neighbors import KNeighborsClassifier\n",
    "from sklearn.metrics import confusion_matrix\n",
    "from sklearn.linear_model import LinearRegression\n",
    "from sklearn.naive_bayes import BernoulliNB\n",
    "from sklearn.naive_bayes import MultinomialNB\n",
    "from sklearn.naive_bayes import GaussianNB\n",
    "from sklearn.model_selection import GridSearchCV\n",
    "from sklearn.metrics import classification_report\n",
    "\n",
    "from datetime import datetime\n",
    "\n",
    "import random\n",
    "import warnings\n",
    "\n",
    "import copy\n",
    "\n",
    "# Set the randomizer seed so results are the same each time.\n",
    "np.random.seed(0)\n",
    "random.seed(0)\n",
    "warnings.filterwarnings('ignore')"
   ]
  },
  {
   "cell_type": "markdown",
   "metadata": {},
   "source": [
    "### Part 1: Load Dataset"
   ]
  },
  {
   "cell_type": "code",
   "execution_count": 4,
   "metadata": {},
   "outputs": [
    {
     "data": {
      "text/plain": [
       "'/Users/jericojohns/Desktop/W207/W207_movies'"
      ]
     },
     "execution_count": 4,
     "metadata": {},
     "output_type": "execute_result"
    }
   ],
   "source": [
    "%pwd"
   ]
  },
  {
   "cell_type": "code",
   "execution_count": 5,
   "metadata": {},
   "outputs": [],
   "source": [
    "#Load data into ratings_df. \n",
    "ratings_df = pd.read_csv(\"/Users/jericojohns/Desktop/W207/data/ratings_small.csv\", low_memory=False)"
   ]
  },
  {
   "cell_type": "markdown",
   "metadata": {},
   "source": [
    "### Part 2: EDA"
   ]
  },
  {
   "cell_type": "code",
   "execution_count": 6,
   "metadata": {},
   "outputs": [
    {
     "name": "stdout",
     "output_type": "stream",
     "text": [
      "   userId  movieId  rating   timestamp\n",
      "0       1       31     2.5  1260759144\n",
      "1       1     1029     3.0  1260759179\n",
      "2       1     1061     3.0  1260759182\n",
      "3       1     1129     2.0  1260759185\n",
      "4       1     1172     4.0  1260759205\n",
      "(100004, 4)\n"
     ]
    }
   ],
   "source": [
    "#Check structure. \n",
    "print(ratings_df.head())\n",
    "\n",
    "#Check length. \n",
    "print(ratings_df.shape)"
   ]
  },
  {
   "cell_type": "code",
   "execution_count": 7,
   "metadata": {},
   "outputs": [
    {
     "data": {
      "text/html": [
       "<div>\n",
       "<style scoped>\n",
       "    .dataframe tbody tr th:only-of-type {\n",
       "        vertical-align: middle;\n",
       "    }\n",
       "\n",
       "    .dataframe tbody tr th {\n",
       "        vertical-align: top;\n",
       "    }\n",
       "\n",
       "    .dataframe thead th {\n",
       "        text-align: right;\n",
       "    }\n",
       "</style>\n",
       "<table border=\"1\" class=\"dataframe\">\n",
       "  <thead>\n",
       "    <tr style=\"text-align: right;\">\n",
       "      <th></th>\n",
       "      <th>userId</th>\n",
       "      <th>movieId</th>\n",
       "      <th>rating</th>\n",
       "      <th>timestamp</th>\n",
       "      <th>datetime</th>\n",
       "    </tr>\n",
       "  </thead>\n",
       "  <tbody>\n",
       "    <tr>\n",
       "      <th>0</th>\n",
       "      <td>1</td>\n",
       "      <td>31</td>\n",
       "      <td>2.5</td>\n",
       "      <td>1260759144</td>\n",
       "      <td>2009-12-14 02:52:24</td>\n",
       "    </tr>\n",
       "    <tr>\n",
       "      <th>1</th>\n",
       "      <td>1</td>\n",
       "      <td>1029</td>\n",
       "      <td>3.0</td>\n",
       "      <td>1260759179</td>\n",
       "      <td>2009-12-14 02:52:59</td>\n",
       "    </tr>\n",
       "    <tr>\n",
       "      <th>2</th>\n",
       "      <td>1</td>\n",
       "      <td>1061</td>\n",
       "      <td>3.0</td>\n",
       "      <td>1260759182</td>\n",
       "      <td>2009-12-14 02:53:02</td>\n",
       "    </tr>\n",
       "    <tr>\n",
       "      <th>3</th>\n",
       "      <td>1</td>\n",
       "      <td>1129</td>\n",
       "      <td>2.0</td>\n",
       "      <td>1260759185</td>\n",
       "      <td>2009-12-14 02:53:05</td>\n",
       "    </tr>\n",
       "    <tr>\n",
       "      <th>4</th>\n",
       "      <td>1</td>\n",
       "      <td>1172</td>\n",
       "      <td>4.0</td>\n",
       "      <td>1260759205</td>\n",
       "      <td>2009-12-14 02:53:25</td>\n",
       "    </tr>\n",
       "    <tr>\n",
       "      <th>...</th>\n",
       "      <td>...</td>\n",
       "      <td>...</td>\n",
       "      <td>...</td>\n",
       "      <td>...</td>\n",
       "      <td>...</td>\n",
       "    </tr>\n",
       "    <tr>\n",
       "      <th>99999</th>\n",
       "      <td>671</td>\n",
       "      <td>6268</td>\n",
       "      <td>2.5</td>\n",
       "      <td>1065579370</td>\n",
       "      <td>2003-10-08 02:16:10</td>\n",
       "    </tr>\n",
       "    <tr>\n",
       "      <th>100000</th>\n",
       "      <td>671</td>\n",
       "      <td>6269</td>\n",
       "      <td>4.0</td>\n",
       "      <td>1065149201</td>\n",
       "      <td>2003-10-03 02:46:41</td>\n",
       "    </tr>\n",
       "    <tr>\n",
       "      <th>100001</th>\n",
       "      <td>671</td>\n",
       "      <td>6365</td>\n",
       "      <td>4.0</td>\n",
       "      <td>1070940363</td>\n",
       "      <td>2003-12-09 03:26:03</td>\n",
       "    </tr>\n",
       "    <tr>\n",
       "      <th>100002</th>\n",
       "      <td>671</td>\n",
       "      <td>6385</td>\n",
       "      <td>2.5</td>\n",
       "      <td>1070979663</td>\n",
       "      <td>2003-12-09 14:21:03</td>\n",
       "    </tr>\n",
       "    <tr>\n",
       "      <th>100003</th>\n",
       "      <td>671</td>\n",
       "      <td>6565</td>\n",
       "      <td>3.5</td>\n",
       "      <td>1074784724</td>\n",
       "      <td>2004-01-22 15:18:44</td>\n",
       "    </tr>\n",
       "  </tbody>\n",
       "</table>\n",
       "<p>100004 rows × 5 columns</p>\n",
       "</div>"
      ],
      "text/plain": [
       "        userId  movieId  rating   timestamp            datetime\n",
       "0            1       31     2.5  1260759144 2009-12-14 02:52:24\n",
       "1            1     1029     3.0  1260759179 2009-12-14 02:52:59\n",
       "2            1     1061     3.0  1260759182 2009-12-14 02:53:02\n",
       "3            1     1129     2.0  1260759185 2009-12-14 02:53:05\n",
       "4            1     1172     4.0  1260759205 2009-12-14 02:53:25\n",
       "...        ...      ...     ...         ...                 ...\n",
       "99999      671     6268     2.5  1065579370 2003-10-08 02:16:10\n",
       "100000     671     6269     4.0  1065149201 2003-10-03 02:46:41\n",
       "100001     671     6365     4.0  1070940363 2003-12-09 03:26:03\n",
       "100002     671     6385     2.5  1070979663 2003-12-09 14:21:03\n",
       "100003     671     6565     3.5  1074784724 2004-01-22 15:18:44\n",
       "\n",
       "[100004 rows x 5 columns]"
      ]
     },
     "execution_count": 7,
     "metadata": {},
     "output_type": "execute_result"
    }
   ],
   "source": [
    "#Let's convert the timestamp to a more intuitive datetime\n",
    "ratings_df['datetime'] = pd.to_datetime(ratings_df['timestamp'], infer_datetime_format = True, yearfirst = True, unit = 's')\n",
    "\n",
    "#And check our new dataframe\n",
    "ratings_df"
   ]
  },
  {
   "cell_type": "code",
   "execution_count": 8,
   "metadata": {},
   "outputs": [
    {
     "data": {
      "text/plain": [
       "<AxesSubplot:>"
      ]
     },
     "execution_count": 8,
     "metadata": {},
     "output_type": "execute_result"
    },
    {
     "data": {
      "image/png": "[encoded data removed]",
      "text/plain": [
       "<Figure size 432x288 with 1 Axes>"
      ]
     },
     "metadata": {
      "needs_background": "light"
     },
     "output_type": "display_data"
    }
   ],
   "source": [
    "ratings_df[['rating']].plot.box()"
   ]
  },
  {
   "cell_type": "code",
   "execution_count": 9,
   "metadata": {},
   "outputs": [
    {
     "data": {
      "image/png": "[encoded data removed]",
      "text/plain": [
       "<Figure size 1080x504 with 1 Axes>"
      ]
     },
     "metadata": {
      "needs_background": "light"
     },
     "output_type": "display_data"
    }
   ],
   "source": [
    "#Use recmetrics for Long Tail Plot Example of MovieID\n",
    "fig = plt.figure(figsize=(15, 7))\n",
    "recmetrics.long_tail_plot(df=ratings_df, \n",
    "             item_id_column=\"movieId\", \n",
    "             interaction_type=\"movie ratings\", \n",
    "             percentage=0.5,\n",
    "             x_labels=False)"
   ]
  },
  {
   "cell_type": "code",
   "execution_count": 10,
   "metadata": {},
   "outputs": [
    {
     "data": {
      "image/png": "[encoded data removed]",
      "text/plain": [
       "<Figure size 1080x504 with 1 Axes>"
      ]
     },
     "metadata": {
      "needs_background": "light"
     },
     "output_type": "display_data"
    }
   ],
   "source": [
    "#Use recmetrics for Long Tail Plot Example of useriD\n",
    "fig = plt.figure(figsize=(15, 7))\n",
    "recmetrics.long_tail_plot(df=ratings_df, \n",
    "             item_id_column=\"userId\", \n",
    "             interaction_type=\"movie ratings\", \n",
    "             percentage=0.5,\n",
    "             x_labels=False)"
   ]
  },
  {
   "cell_type": "code",
   "execution_count": 11,
   "metadata": {},
   "outputs": [
    {
     "name": "stdout",
     "output_type": "stream",
     "text": [
      "Ratings per User:\n"
     ]
    },
    {
     "data": {
      "text/html": [
       "<div>\n",
       "<style scoped>\n",
       "    .dataframe tbody tr th:only-of-type {\n",
       "        vertical-align: middle;\n",
       "    }\n",
       "\n",
       "    .dataframe tbody tr th {\n",
       "        vertical-align: top;\n",
       "    }\n",
       "\n",
       "    .dataframe thead th {\n",
       "        text-align: right;\n",
       "    }\n",
       "</style>\n",
       "<table border=\"1\" class=\"dataframe\">\n",
       "  <thead>\n",
       "    <tr style=\"text-align: right;\">\n",
       "      <th></th>\n",
       "      <th>rating</th>\n",
       "    </tr>\n",
       "    <tr>\n",
       "      <th>userId</th>\n",
       "      <th></th>\n",
       "    </tr>\n",
       "  </thead>\n",
       "  <tbody>\n",
       "    <tr>\n",
       "      <th>1</th>\n",
       "      <td>20</td>\n",
       "    </tr>\n",
       "    <tr>\n",
       "      <th>498</th>\n",
       "      <td>20</td>\n",
       "    </tr>\n",
       "    <tr>\n",
       "      <th>448</th>\n",
       "      <td>20</td>\n",
       "    </tr>\n",
       "    <tr>\n",
       "      <th>445</th>\n",
       "      <td>20</td>\n",
       "    </tr>\n",
       "    <tr>\n",
       "      <th>444</th>\n",
       "      <td>20</td>\n",
       "    </tr>\n",
       "    <tr>\n",
       "      <th>...</th>\n",
       "      <td>...</td>\n",
       "    </tr>\n",
       "    <tr>\n",
       "      <th>73</th>\n",
       "      <td>1610</td>\n",
       "    </tr>\n",
       "    <tr>\n",
       "      <th>15</th>\n",
       "      <td>1700</td>\n",
       "    </tr>\n",
       "    <tr>\n",
       "      <th>624</th>\n",
       "      <td>1735</td>\n",
       "    </tr>\n",
       "    <tr>\n",
       "      <th>564</th>\n",
       "      <td>1868</td>\n",
       "    </tr>\n",
       "    <tr>\n",
       "      <th>547</th>\n",
       "      <td>2391</td>\n",
       "    </tr>\n",
       "  </tbody>\n",
       "</table>\n",
       "<p>671 rows × 1 columns</p>\n",
       "</div>"
      ],
      "text/plain": [
       "        rating\n",
       "userId        \n",
       "1           20\n",
       "498         20\n",
       "448         20\n",
       "445         20\n",
       "444         20\n",
       "...        ...\n",
       "73        1610\n",
       "15        1700\n",
       "624       1735\n",
       "564       1868\n",
       "547       2391\n",
       "\n",
       "[671 rows x 1 columns]"
      ]
     },
     "metadata": {},
     "output_type": "display_data"
    },
    {
     "data": {
      "image/png": "[encoded data removed]",
      "text/plain": [
       "<Figure size 432x288 with 1 Axes>"
      ]
     },
     "metadata": {
      "needs_background": "light"
     },
     "output_type": "display_data"
    },
    {
     "name": "stdout",
     "output_type": "stream",
     "text": [
      "Ratings per Movie\n"
     ]
    },
    {
     "data": {
      "text/html": [
       "<div>\n",
       "<style scoped>\n",
       "    .dataframe tbody tr th:only-of-type {\n",
       "        vertical-align: middle;\n",
       "    }\n",
       "\n",
       "    .dataframe tbody tr th {\n",
       "        vertical-align: top;\n",
       "    }\n",
       "\n",
       "    .dataframe thead th {\n",
       "        text-align: right;\n",
       "    }\n",
       "</style>\n",
       "<table border=\"1\" class=\"dataframe\">\n",
       "  <thead>\n",
       "    <tr style=\"text-align: right;\">\n",
       "      <th></th>\n",
       "      <th>rating</th>\n",
       "    </tr>\n",
       "    <tr>\n",
       "      <th>movieId</th>\n",
       "      <th></th>\n",
       "    </tr>\n",
       "  </thead>\n",
       "  <tbody>\n",
       "    <tr>\n",
       "      <th>163949</th>\n",
       "      <td>1</td>\n",
       "    </tr>\n",
       "    <tr>\n",
       "      <th>26485</th>\n",
       "      <td>1</td>\n",
       "    </tr>\n",
       "    <tr>\n",
       "      <th>26480</th>\n",
       "      <td>1</td>\n",
       "    </tr>\n",
       "    <tr>\n",
       "      <th>26471</th>\n",
       "      <td>1</td>\n",
       "    </tr>\n",
       "    <tr>\n",
       "      <th>26467</th>\n",
       "      <td>1</td>\n",
       "    </tr>\n",
       "    <tr>\n",
       "      <th>...</th>\n",
       "      <td>...</td>\n",
       "    </tr>\n",
       "    <tr>\n",
       "      <th>260</th>\n",
       "      <td>291</td>\n",
       "    </tr>\n",
       "    <tr>\n",
       "      <th>593</th>\n",
       "      <td>304</td>\n",
       "    </tr>\n",
       "    <tr>\n",
       "      <th>318</th>\n",
       "      <td>311</td>\n",
       "    </tr>\n",
       "    <tr>\n",
       "      <th>296</th>\n",
       "      <td>324</td>\n",
       "    </tr>\n",
       "    <tr>\n",
       "      <th>356</th>\n",
       "      <td>341</td>\n",
       "    </tr>\n",
       "  </tbody>\n",
       "</table>\n",
       "<p>9066 rows × 1 columns</p>\n",
       "</div>"
      ],
      "text/plain": [
       "         rating\n",
       "movieId        \n",
       "163949        1\n",
       "26485         1\n",
       "26480         1\n",
       "26471         1\n",
       "26467         1\n",
       "...         ...\n",
       "260         291\n",
       "593         304\n",
       "318         311\n",
       "296         324\n",
       "356         341\n",
       "\n",
       "[9066 rows x 1 columns]"
      ]
     },
     "metadata": {},
     "output_type": "display_data"
    },
    {
     "data": {
      "image/png": "[encoded data removed]",
      "text/plain": [
       "<Figure size 432x288 with 1 Axes>"
      ]
     },
     "metadata": {
      "needs_background": "light"
     },
     "output_type": "display_data"
    }
   ],
   "source": [
    "#Check number of ratings per user\n",
    "print(\"Ratings per User:\")\n",
    "display(ratings_df[['userId','rating']].groupby('userId').count().sort_values(by = 'rating', ascending = True))\n",
    "\n",
    "\n",
    "#Show histogram of number of ratings per user\n",
    "plt.hist(ratings_df['userId'], bins = 100)\n",
    "plt.title(\"Histogram of userId\")\n",
    "plt.show()\n",
    "\n",
    "#Check number of ratings per movie\n",
    "print(\"Ratings per Movie\")\n",
    "display(ratings_df[['movieId','rating']].groupby('movieId').count().sort_values(by = 'rating', ascending = True))\n",
    "\n",
    "#Show histogram of number of ratings per movie\n",
    "plt.hist(ratings_df['movieId'], bins = 100)\n",
    "plt.ylim(0,1000)\n",
    "plt.title(\"Histogram of movieId\")\n",
    "plt.show()"
   ]
  },
  {
   "cell_type": "code",
   "execution_count": 12,
   "metadata": {},
   "outputs": [
    {
     "data": {
      "text/html": [
       "<div>\n",
       "<style scoped>\n",
       "    .dataframe tbody tr th:only-of-type {\n",
       "        vertical-align: middle;\n",
       "    }\n",
       "\n",
       "    .dataframe tbody tr th {\n",
       "        vertical-align: top;\n",
       "    }\n",
       "\n",
       "    .dataframe thead th {\n",
       "        text-align: right;\n",
       "    }\n",
       "</style>\n",
       "<table border=\"1\" class=\"dataframe\">\n",
       "  <thead>\n",
       "    <tr style=\"text-align: right;\">\n",
       "      <th></th>\n",
       "      <th>rating</th>\n",
       "    </tr>\n",
       "    <tr>\n",
       "      <th>userId</th>\n",
       "      <th></th>\n",
       "    </tr>\n",
       "  </thead>\n",
       "  <tbody>\n",
       "    <tr>\n",
       "      <th>1</th>\n",
       "      <td>20</td>\n",
       "    </tr>\n",
       "    <tr>\n",
       "      <th>498</th>\n",
       "      <td>20</td>\n",
       "    </tr>\n",
       "    <tr>\n",
       "      <th>448</th>\n",
       "      <td>20</td>\n",
       "    </tr>\n",
       "    <tr>\n",
       "      <th>445</th>\n",
       "      <td>20</td>\n",
       "    </tr>\n",
       "    <tr>\n",
       "      <th>444</th>\n",
       "      <td>20</td>\n",
       "    </tr>\n",
       "    <tr>\n",
       "      <th>...</th>\n",
       "      <td>...</td>\n",
       "    </tr>\n",
       "    <tr>\n",
       "      <th>73</th>\n",
       "      <td>1610</td>\n",
       "    </tr>\n",
       "    <tr>\n",
       "      <th>15</th>\n",
       "      <td>1700</td>\n",
       "    </tr>\n",
       "    <tr>\n",
       "      <th>624</th>\n",
       "      <td>1735</td>\n",
       "    </tr>\n",
       "    <tr>\n",
       "      <th>564</th>\n",
       "      <td>1868</td>\n",
       "    </tr>\n",
       "    <tr>\n",
       "      <th>547</th>\n",
       "      <td>2391</td>\n",
       "    </tr>\n",
       "  </tbody>\n",
       "</table>\n",
       "<p>671 rows × 1 columns</p>\n",
       "</div>"
      ],
      "text/plain": [
       "        rating\n",
       "userId        \n",
       "1           20\n",
       "498         20\n",
       "448         20\n",
       "445         20\n",
       "444         20\n",
       "...        ...\n",
       "73        1610\n",
       "15        1700\n",
       "624       1735\n",
       "564       1868\n",
       "547       2391\n",
       "\n",
       "[671 rows x 1 columns]"
      ]
     },
     "metadata": {},
     "output_type": "display_data"
    }
   ],
   "source": [
    "# Check how many users have 2 or more ratings\n",
    "display(ratings_df[['userId','rating']].groupby('userId').count().sort_values(by = 'rating', ascending = True))"
   ]
  },
  {
   "cell_type": "code",
   "execution_count": 13,
   "metadata": {},
   "outputs": [
    {
     "data": {
      "text/plain": [
       "<AxesSubplot:xlabel='datetime'>"
      ]
     },
     "execution_count": 13,
     "metadata": {},
     "output_type": "execute_result"
    },
    {
     "data": {
      "image/png": "[encoded data removed]",
      "text/plain": [
       "<Figure size 432x288 with 1 Axes>"
      ]
     },
     "metadata": {
      "needs_background": "light"
     },
     "output_type": "display_data"
    }
   ],
   "source": [
    "ratings_by_date = ratings_df[['datetime','rating']].groupby('datetime').count().sort_values(by = 'rating', ascending = True)\n",
    "\n",
    "ratings_by_date.plot()"
   ]
  },
  {
   "cell_type": "markdown",
   "metadata": {},
   "source": [
    "### Part 3: Baseline Collaborative Filtering Model"
   ]
  },
  {
   "cell_type": "code",
   "execution_count": 14,
   "metadata": {},
   "outputs": [
    {
     "name": "stdout",
     "output_type": "stream",
     "text": [
      "Requirement already satisfied: recmetrics in /opt/anaconda3/lib/python3.8/site-packages (0.1.0)\n",
      "Requirement already satisfied: pandas<2.0.0,>=1.1.3 in /opt/anaconda3/lib/python3.8/site-packages (from recmetrics) (1.3.0)\n",
      "Requirement already satisfied: funcsigs<2.0.0,>=1.0.2 in /opt/anaconda3/lib/python3.8/site-packages (from recmetrics) (1.0.2)\n",
      "Requirement already satisfied: ipython<8.0.0,>=7.18.1 in /opt/anaconda3/lib/python3.8/site-packages (from recmetrics) (7.25.0)\n",
      "Requirement already satisfied: pytest-cov<3.0.0,>=2.10.1 in /opt/anaconda3/lib/python3.8/site-packages (from recmetrics) (2.12.1)\n",
      "Requirement already satisfied: scipy<2.0.0,>=1.5.2 in /opt/anaconda3/lib/python3.8/site-packages (from recmetrics) (1.7.0)\n",
      "Requirement already satisfied: seaborn<0.12.0,>=0.11.0 in /opt/anaconda3/lib/python3.8/site-packages (from recmetrics) (0.11.1)\n",
      "Requirement already satisfied: plotly<5.0.0,>=4.11.0 in /opt/anaconda3/lib/python3.8/site-packages (from recmetrics) (4.14.3)\n",
      "Requirement already satisfied: matplotlib<4.0.0,>=3.3.2 in /opt/anaconda3/lib/python3.8/site-packages (from recmetrics) (3.4.2)\n",
      "Requirement already satisfied: scikit-learn<0.24.0,>=0.23.2 in /opt/anaconda3/lib/python3.8/site-packages (from recmetrics) (0.23.2)\n",
      "Requirement already satisfied: scikit-surprise<2.0.0,>=1.1.1 in /opt/anaconda3/lib/python3.8/site-packages (from recmetrics) (1.1.1)\n",
      "Requirement already satisfied: pytz>=2017.3 in /opt/anaconda3/lib/python3.8/site-packages (from pandas<2.0.0,>=1.1.3->recmetrics) (2020.1)\n",
      "Requirement already satisfied: python-dateutil>=2.7.3 in /opt/anaconda3/lib/python3.8/site-packages (from pandas<2.0.0,>=1.1.3->recmetrics) (2.8.1)\n",
      "Requirement already satisfied: numpy>=1.17.3 in /opt/anaconda3/lib/python3.8/site-packages (from pandas<2.0.0,>=1.1.3->recmetrics) (1.19.5)\n",
      "Requirement already satisfied: setuptools>=18.5 in /opt/anaconda3/lib/python3.8/site-packages (from ipython<8.0.0,>=7.18.1->recmetrics) (49.2.0.post20200714)\n",
      "Requirement already satisfied: decorator in /opt/anaconda3/lib/python3.8/site-packages (from ipython<8.0.0,>=7.18.1->recmetrics) (4.4.2)\n",
      "Requirement already satisfied: prompt-toolkit!=3.0.0,!=3.0.1,<3.1.0,>=2.0.0 in /opt/anaconda3/lib/python3.8/site-packages (from ipython<8.0.0,>=7.18.1->recmetrics) (3.0.5)\n",
      "Requirement already satisfied: jedi>=0.16 in /opt/anaconda3/lib/python3.8/site-packages (from ipython<8.0.0,>=7.18.1->recmetrics) (0.17.1)\n",
      "Requirement already satisfied: traitlets>=4.2 in /opt/anaconda3/lib/python3.8/site-packages (from ipython<8.0.0,>=7.18.1->recmetrics) (4.3.3)\n",
      "Requirement already satisfied: backcall in /opt/anaconda3/lib/python3.8/site-packages (from ipython<8.0.0,>=7.18.1->recmetrics) (0.2.0)\n",
      "Requirement already satisfied: pexpect>4.3; sys_platform != \"win32\" in /opt/anaconda3/lib/python3.8/site-packages (from ipython<8.0.0,>=7.18.1->recmetrics) (4.8.0)\n",
      "Requirement already satisfied: appnope; sys_platform == \"darwin\" in /opt/anaconda3/lib/python3.8/site-packages (from ipython<8.0.0,>=7.18.1->recmetrics) (0.1.0)\n",
      "Requirement already satisfied: pygments in /opt/anaconda3/lib/python3.8/site-packages (from ipython<8.0.0,>=7.18.1->recmetrics) (2.6.1)\n",
      "Requirement already satisfied: matplotlib-inline in /opt/anaconda3/lib/python3.8/site-packages (from ipython<8.0.0,>=7.18.1->recmetrics) (0.1.2)\n",
      "Requirement already satisfied: pickleshare in /opt/anaconda3/lib/python3.8/site-packages (from ipython<8.0.0,>=7.18.1->recmetrics) (0.7.5)\n",
      "Requirement already satisfied: toml in /opt/anaconda3/lib/python3.8/site-packages (from pytest-cov<3.0.0,>=2.10.1->recmetrics) (0.10.1)\n",
      "Requirement already satisfied: pytest>=4.6 in /opt/anaconda3/lib/python3.8/site-packages (from pytest-cov<3.0.0,>=2.10.1->recmetrics) (5.4.3)\n",
      "Requirement already satisfied: coverage>=5.2.1 in /opt/anaconda3/lib/python3.8/site-packages (from pytest-cov<3.0.0,>=2.10.1->recmetrics) (5.5)\n",
      "Requirement already satisfied: retrying>=1.3.3 in /opt/anaconda3/lib/python3.8/site-packages (from plotly<5.0.0,>=4.11.0->recmetrics) (1.3.3)\n",
      "Requirement already satisfied: six in /opt/anaconda3/lib/python3.8/site-packages (from plotly<5.0.0,>=4.11.0->recmetrics) (1.15.0)\n",
      "Requirement already satisfied: pillow>=6.2.0 in /opt/anaconda3/lib/python3.8/site-packages (from matplotlib<4.0.0,>=3.3.2->recmetrics) (7.2.0)\n",
      "Requirement already satisfied: pyparsing>=2.2.1 in /opt/anaconda3/lib/python3.8/site-packages (from matplotlib<4.0.0,>=3.3.2->recmetrics) (2.4.7)\n",
      "Requirement already satisfied: kiwisolver>=1.0.1 in /opt/anaconda3/lib/python3.8/site-packages (from matplotlib<4.0.0,>=3.3.2->recmetrics) (1.2.0)\n",
      "Requirement already satisfied: cycler>=0.10 in /opt/anaconda3/lib/python3.8/site-packages (from matplotlib<4.0.0,>=3.3.2->recmetrics) (0.10.0)\n",
      "Requirement already satisfied: threadpoolctl>=2.0.0 in /opt/anaconda3/lib/python3.8/site-packages (from scikit-learn<0.24.0,>=0.23.2->recmetrics) (2.1.0)\n",
      "Requirement already satisfied: joblib>=0.11 in /opt/anaconda3/lib/python3.8/site-packages (from scikit-learn<0.24.0,>=0.23.2->recmetrics) (0.16.0)\n",
      "Requirement already satisfied: wcwidth in /opt/anaconda3/lib/python3.8/site-packages (from prompt-toolkit!=3.0.0,!=3.0.1,<3.1.0,>=2.0.0->ipython<8.0.0,>=7.18.1->recmetrics) (0.2.5)\n",
      "Requirement already satisfied: parso<0.8.0,>=0.7.0 in /opt/anaconda3/lib/python3.8/site-packages (from jedi>=0.16->ipython<8.0.0,>=7.18.1->recmetrics) (0.7.0)\n",
      "Requirement already satisfied: ipython-genutils in /opt/anaconda3/lib/python3.8/site-packages (from traitlets>=4.2->ipython<8.0.0,>=7.18.1->recmetrics) (0.2.0)\n",
      "Requirement already satisfied: ptyprocess>=0.5 in /opt/anaconda3/lib/python3.8/site-packages (from pexpect>4.3; sys_platform != \"win32\"->ipython<8.0.0,>=7.18.1->recmetrics) (0.6.0)\n",
      "Requirement already satisfied: py>=1.5.0 in /opt/anaconda3/lib/python3.8/site-packages (from pytest>=4.6->pytest-cov<3.0.0,>=2.10.1->recmetrics) (1.9.0)\n",
      "Requirement already satisfied: packaging in /opt/anaconda3/lib/python3.8/site-packages (from pytest>=4.6->pytest-cov<3.0.0,>=2.10.1->recmetrics) (20.4)\n",
      "Requirement already satisfied: attrs>=17.4.0 in /opt/anaconda3/lib/python3.8/site-packages (from pytest>=4.6->pytest-cov<3.0.0,>=2.10.1->recmetrics) (19.3.0)\n",
      "Requirement already satisfied: more-itertools>=4.0.0 in /opt/anaconda3/lib/python3.8/site-packages (from pytest>=4.6->pytest-cov<3.0.0,>=2.10.1->recmetrics) (8.4.0)\n",
      "Requirement already satisfied: pluggy<1.0,>=0.12 in /opt/anaconda3/lib/python3.8/site-packages (from pytest>=4.6->pytest-cov<3.0.0,>=2.10.1->recmetrics) (0.13.1)\n"
     ]
    }
   ],
   "source": [
    "#Install recmetrics library for calculating diversity metrics \n",
    "#Source: https://github.com/statisticianinstilettos/recmetrics\n",
    "!pip install recmetrics"
   ]
  },
  {
   "cell_type": "code",
   "execution_count": 125,
   "metadata": {},
   "outputs": [],
   "source": [
    "#Load surprise packages which is a modified sklearn for recommender systems. \n",
    "from surprise import Reader\n",
    "from surprise import SVD, SVDpp, NMF\n",
    "from surprise import KNNBasic\n",
    "from surprise import Dataset\n",
    "from surprise import Trainset\n",
    "from surprise import accuracy\n",
    "from surprise.model_selection import LeaveOneOut\n",
    "from sklearn.preprocessing import MinMaxScaler\n",
    "from sklearn.preprocessing import StandardScaler\n",
    "from sklearn.preprocessing import RobustScaler\n",
    "from surprise.model_selection.search import GridSearchCV\n",
    "\n",
    "from itertools import combinations\n",
    "\n",
    "#Load recmetrics package\n",
    "#import recmetrics.metrics"
   ]
  },
  {
   "cell_type": "code",
   "execution_count": 16,
   "metadata": {},
   "outputs": [],
   "source": [
    "def filter_ratings(df, min_ratings):\n",
    "    \n",
    "    '''Filter users with num_ratings below min_ratings\n",
    "    params: df, min_ratings\n",
    "    return: sorted_filtered_df\n",
    "    '''\n",
    "    \n",
    "    # Value counts of user ratings\n",
    "    user_ratings_counts = df['userId'].value_counts()\n",
    "    # List of users with ratings counts greater than min_ratings\n",
    "    filtered_users = user_ratings_counts[user_ratings_counts >= min_ratings].index\n",
    "    # Filter df to list of users above\n",
    "    filtered_df = df[df['userId'].isin(filtered_users)]\n",
    "    \n",
    "    return filtered_df"
   ]
  },
  {
   "cell_type": "code",
   "execution_count": 17,
   "metadata": {},
   "outputs": [],
   "source": [
    "def train_dev_test_split(ratings_df, dev_size=1, test_size=1):\n",
    "    \n",
    "    '''\n",
    "    Split user ratings data into train, development and test sets holding the last \n",
    "    [test_size] ratings per user for test and last [dev_size] ratings per user for \n",
    "    development, following reverse chronological order\n",
    "    \n",
    "    Parameters\n",
    "    ----------\n",
    "    ratings_df : A dataframe of ratings data\n",
    "    dev_size : The number of ratings per user to set asside development data\n",
    "    test_size : The number of ratings per user to set asside test data\n",
    "    \n",
    "    Returns\n",
    "    -------\n",
    "    train_df : Dataframe of training ratings data\n",
    "    dev_df : Dataframe of development ratings data\n",
    "    test_df :  Dataframe of test ratings data\n",
    "    '''\n",
    "    \n",
    "    # Add a column that ranks each rating in reverse chronolgical grouped by user\n",
    "    ratings_df['rank'] = ratings_df.groupby(['userId'])['timestamp'] \\\n",
    "                         .rank(method='first', ascending=False).copy()\n",
    "    \n",
    "    # Filter to test data using rank column\n",
    "    test_df = ratings_df[ratings_df['rank'].isin(range(1,1+test_size))][['userId', 'movieId', 'rating']]\n",
    "    \n",
    "    # Filter to dev data using rank column\n",
    "    dev_df = ratings_df[ratings_df['rank'].isin(range(1+test_size, 1+test_size+dev_size))][['userId', 'movieId', 'rating']]\n",
    "    \n",
    "    # Filter to train data using rank column\n",
    "    train_df = ratings_df[ratings_df['rank'] >= (1+test_size+dev_size)][['userId', 'movieId', 'rating']]\n",
    "        \n",
    "    return train_df, dev_df, test_df"
   ]
  },
  {
   "cell_type": "code",
   "execution_count": 18,
   "metadata": {},
   "outputs": [],
   "source": [
    "def create_evaluation_pools(train_df, test_df, pool_size=100):\n",
    "    \n",
    "    '''\n",
    "    Create pools of movies to evaluate the collaborative filtering models.\n",
    "    Each pool will contain pool_size movies per user. Each pool includes the \n",
    "    movies in the test_df and randomly selects the rest of the movies from \n",
    "    those not watched by the user.\n",
    "    \n",
    "    Parameters\n",
    "    ----------\n",
    "    train_df : A dataframe of the training ratings data\n",
    "    test_df : A dataframe of the test ratings data\n",
    "    pool_size : The size of each movie pool\n",
    "    \n",
    "    Returns\n",
    "    -------\n",
    "    evaluation_pools_dict : A dictionary from user to the pool of movies on \n",
    "                            which to evaluate the recommender system\n",
    "    \n",
    "    '''\n",
    "    \n",
    "    # Find the list of unique users and movies in the training data\n",
    "    users = set(train_df['userId'].unique())\n",
    "    movies = set(train_df['movieId'].unique())\n",
    "    \n",
    "    # Instantiate the output dictionary\n",
    "    evaluation_pools_dict = {}\n",
    "    \n",
    "    # Loop through each user\n",
    "    for user in users:\n",
    "        \n",
    "        # Find set of movies rated by the user in the training and test data\n",
    "        train_movies = set(train_df[train_df['userId']==user]['movieId'])\n",
    "        test_movies = set(test_df[test_df['userId']==user]['movieId'])\n",
    "        \n",
    "        # Find the set of movies not rated by the user\n",
    "        movies_not_rated = movies - train_movies - test_movies\n",
    "        \n",
    "        # Randomly sample movies from the movies not rated by the user\n",
    "        n_movies_to_choose = pool_size - len(test_movies)\n",
    "        sample_movies_not_rated = set(random.sample(movies_not_rated, n_movies_to_choose))\n",
    "        \n",
    "        # Combine the test movies with the random sample of movies\n",
    "        evaluation_pool = list(test_movies | sample_movies_not_rated)\n",
    "        \n",
    "        # Add each evaluation_pool to the output dictionary \n",
    "        evaluation_pools_dict[user] = evaluation_pool\n",
    "    \n",
    "    return evaluation_pools_dict"
   ]
  },
  {
   "cell_type": "code",
   "execution_count": 78,
   "metadata": {},
   "outputs": [],
   "source": [
    "def sort_evaluation_pools(model, evaluation_pools, ranking_list, ranking_movies):\n",
    "    '''\n",
    "    Take evaluation pool for each user and sort it based on ratings predicted by a \n",
    "    trained model in descending order of predicted ratings\n",
    "    Parameters\n",
    "    ----------\n",
    "    model : A trained surprise model\n",
    "    evaluation_pools : A dictionary from user to the pool of movies on \n",
    "                       which to evaluate the recommender system \n",
    "    ranking_list = movie novelty scores\n",
    "    ranking_movies = movieIDs tied to novelty scores\n",
    "    \n",
    "    Returns\n",
    "    -------\n",
    "    sorted_evaluation_pools : A dictionary from user to the pool of movies where each \n",
    "                              movie is sorted in descending order of predicted movie \n",
    "                              rating\n",
    "    '''\n",
    "    \n",
    "    # Instantiate output dictionary\n",
    "    sorted_evaluation_pools = {}\n",
    "    \n",
    "    # Loop through each key-value pair in the input dictionary\n",
    "    for user, movie_pool in evaluation_pools.items():\n",
    "        \n",
    "        # Create a dictionary for the predicted rating of each movie in the user's pool\n",
    "        predictions = {}\n",
    "        for movie in movie_pool:\n",
    "            pred = model.predict(user, movie)\n",
    "            novelty = ranking_list[ranking_movies.index(movie)]\n",
    "            predictions[movie] = (pred[3],novelty)\n",
    "            #Add in the novelty score\n",
    "            \n",
    "        \n",
    "        # Sort the pool in descending order of predicted ratings\n",
    "        sorted_pool = [(k,v) for k, v in sorted(predictions.items(), key=lambda item: item[1], reverse=True)]\n",
    "        \n",
    "        # Add key-value pair of user and sorted evalualtion pool to the output dictionary\n",
    "        sorted_evaluation_pools[user] = sorted_pool\n",
    "        \n",
    "        #Finally reformat our dictionary to be in format userID: (movieID, rating, novelty)\n",
    "        final_pool = defaultdict(list)\n",
    "        for userID in sorted_evaluation_pools: \n",
    "            for movieID, tup in sorted_evaluation_pools[userID]: \n",
    "                final_pool[int(userID)].append((int(movieID), tup[0], tup[1]))\n",
    "\n",
    "\n",
    "    return final_pool"
   ]
  },
  {
   "cell_type": "code",
   "execution_count": 20,
   "metadata": {},
   "outputs": [],
   "source": [
    "def GetTopN(predictions, n=10, minimumRating=0.0):\n",
    "    '''Get the top n predicted movie ratings for a given user.'''\n",
    "    topN = defaultdict(list)\n",
    "    for userID, movieID, actualRating, estimatedRating, _ in predictions:\n",
    "        if (estimatedRating >= minimumRating):\n",
    "            topN[int(userID)].append((int(movieID), estimatedRating))\n",
    "\n",
    "    for userID, ratings in topN.items():\n",
    "        ratings.sort(key=lambda x: x[1], reverse=True)\n",
    "        topN[int(userID)] = ratings[:n]\n",
    "\n",
    "    return topN"
   ]
  },
  {
   "cell_type": "code",
   "execution_count": 21,
   "metadata": {},
   "outputs": [],
   "source": [
    "def HitRate(topNpredictions,leftoutpredictions):\n",
    "    '''Take the most recent rating out of the training set to use in our test set, \n",
    "    and the second most recent to use in our dev set. If the top-n list of recommendations (predicted ratings)\n",
    "    for a user contain the dev / test movie, we increase hit ratio by 1\n",
    "    \n",
    "    Source: https://medium.com/@rishabhbhatia315/recommendation-system-evaluation-metrics-3f6739288870''' \n",
    "    \n",
    "    hits=0\n",
    "    total=0\n",
    "    for leftout in leftoutpredictions:\n",
    "        userID = leftout[0]\n",
    "        leftoutmovieId = leftout[1]\n",
    "        hit = False\n",
    "        for movieId ,predictedRating in topNpredictions[int(userID)]:\n",
    "            if(int(movieId)==int(leftoutmovieId)):\n",
    "                hit = True\n",
    "        if(hit):\n",
    "            hits+=1\n",
    "        total+=1 \n",
    "    \n",
    "    return hits/total "
   ]
  },
  {
   "cell_type": "code",
   "execution_count": 81,
   "metadata": {},
   "outputs": [],
   "source": [
    "def calc_hit_rate_pools(sorted_evaluation_pools, test_df, top_n=10):\n",
    "    '''\n",
    "    Calculate hit rate given a dictionary of sorted evaluation pools and the corrsponding \n",
    "    test data frame. A hit is defined as finding a test movie in the top_n of sorted \n",
    "    evalutation pool of a user\n",
    "    Parameters\n",
    "    ----------\n",
    "    sorted_evaluation_pools : A dictionary from user to the pool of movies where each \n",
    "                              movie is sorted in descending order of predicted movie \n",
    "                              rating\n",
    "    test_df : A dataframe of ratings for movies being tested in the evaluation pools\n",
    "    top_n : The threshold above which a test movies should be found to be called a hit\n",
    "    \n",
    "    Returns\n",
    "    -------\n",
    "    hit_rate : A hit rate across pools\n",
    "    \n",
    "    '''\n",
    "    \n",
    "    # Start with hits and totals at 0\n",
    "    hits=0\n",
    "    total=0\n",
    "    \n",
    "    # Loop through the each key-value pair in the input dictionary\n",
    "    for user, sorted_pool in sorted_evaluation_pools.items():\n",
    "        \n",
    "        # Filter to test movies for the user\n",
    "        test_movies = test_df[test_df['userId']==user]\n",
    "        \n",
    "        # Find top_n movies from the pool\n",
    "        top_movies = sorted_pool[:top_n]\n",
    "        \n",
    "        # Loop through each test movie\n",
    "        for index, test_movie in test_movies.iterrows():\n",
    "            test_movie_id = test_movie['movieId']\n",
    "            \n",
    "            # If test movie is in top_movies, then add one to hits\n",
    "            for movie, rating, novelty in top_movies: \n",
    "                if test_movie_id == movie:\n",
    "                    hits += 1\n",
    "                \n",
    "            # Add one to total for each test movie  \n",
    "            total += 1\n",
    "     \n",
    "    hit_rate = hits/total\n",
    "    return hit_rate"
   ]
  },
  {
   "cell_type": "code",
   "execution_count": 82,
   "metadata": {},
   "outputs": [],
   "source": [
    "def calc_hit_rate_pools_with_cutoff(sorted_evaluation_pools, test_df, top_n=10, rating_cutoff=0):\n",
    "    '''\n",
    "    Calculate hit rate given a dictionary of sorted evaluation pools and a corresponding \n",
    "    test data frame. A hit is defined as finding a test movie that has a rating greater \n",
    "    than a rating_cutoff in the top_n of sorted evalutation pool of a user.\n",
    "    Parameters\n",
    "    ----------\n",
    "    sorted_evaluation_pools : A dictionary from user to the pool of movies where each \n",
    "                              movie is sorted in descending order of predicted movie \n",
    "                              rating\n",
    "    test_df : A dataframe of ratings for movies being tested in the evaluation pools\n",
    "    top_n : The threshold above which a test movies should be found to be called a hit\n",
    "    rating_cutoff : The threshold rating above which a test movie should be evaluated\n",
    "    \n",
    "    Returns\n",
    "    -------\n",
    "    hit_rate : A hit rate across pools\n",
    "    '''\n",
    "    \n",
    "    # Start with hits and totals at 0\n",
    "    hits=0\n",
    "    total=0\n",
    "    \n",
    "    # Loop through the each key-value pair in the input dictionary\n",
    "    for user, sorted_pool in sorted_evaluation_pools.items():\n",
    "        \n",
    "        # Filter to test movies for the user\n",
    "        test_movies = test_df[test_df['userId']==user]\n",
    "\n",
    "         # Find top_n movies from the pool\n",
    "        top_movies = sorted_pool[:top_n]\n",
    "        \n",
    "        # Loop through each test movie\n",
    "        for index, test_movie in test_movies.iterrows():\n",
    "            test_movie_rating = test_movie['rating']\n",
    "            test_movie_id = test_movie['movieId']\n",
    "            \n",
    "             # If test movie has a rating above rating_cutoff then evaluate\n",
    "            if test_movie_rating >= rating_cutoff:\n",
    "                \n",
    "                # If test movie is in top_movies, then add one to hits\n",
    "                # If test movie is in top_movies, then add one to hits\n",
    "                for movie, rating, novelty in top_movies: \n",
    "                    if test_movie_id == movie:\n",
    "                        hits += 1\n",
    "                \n",
    "                # Add one to total for each test movie\n",
    "                total += 1\n",
    "\n",
    "    return hits/total"
   ]
  },
  {
   "cell_type": "code",
   "execution_count": 24,
   "metadata": {},
   "outputs": [],
   "source": [
    "def HitRateAdjusted(topNpredictions,leftoutpredictions):\n",
    "    '''Take the most recent rating out of the training set to use in our test set, \n",
    "    and the second most recent to use in our dev set. If the top-n list of recommendations (predicted ratings)\n",
    "    for a user contain the dev / test movie, we increase hit ratio by 1 \n",
    "    OR if the leftout movie is lower rated than the top n list (i.e. we correctly would not recommend to user) increase hit rate by 1.\n",
    "    \n",
    "    Source: https://medium.com/@rishabhbhatia315/recommendation-system-evaluation-metrics-3f6739288870''' \n",
    "    \n",
    "    hits=0\n",
    "    total=0\n",
    "    for leftout in leftoutpredictions:\n",
    "        userID = leftout[0]\n",
    "        leftoutmovieId = leftout[1]\n",
    "        leftoutrating = leftout[2]\n",
    "        \n",
    "        hit = False\n",
    "        \n",
    "        topNmovies = []\n",
    "        topNRatings = []\n",
    "        \n",
    "        for movieId ,predictedRating in topNpredictions[int(userID)]:\n",
    "            topNmovies.append(movieId)\n",
    "            topNRatings.append(predictedRating)\n",
    "        \n",
    "        max_top_N_rating = max(topNRatings)\n",
    "        min_top_N_rating = min(topNRatings)\n",
    "        \n",
    "        if leftoutrating < min_top_N_rating and leftoutmovieId not in topNmovies: \n",
    "            hit = True\n",
    "        elif leftoutrating > min_top_N_rating and leftoutmovieId in topNmovies: \n",
    "            hit = True\n",
    "        else: \n",
    "            hit = False\n",
    "        \n",
    "        if(hit):\n",
    "            hits+=1\n",
    "        total+=1 \n",
    "    \n",
    "    return hits/total "
   ]
  },
  {
   "cell_type": "code",
   "execution_count": 25,
   "metadata": {},
   "outputs": [],
   "source": [
    "def Diversity(topNPredicted, simsAlgo):\n",
    "    '''where simsalgo = similarities.cosine() from surprise.'''\n",
    "    n = 0\n",
    "    total = 0\n",
    "    simsMatrix = simsAlgo.compute_similarities()\n",
    "    for userID in topNPredicted.keys():\n",
    "        pairs = itertools.combinations(topNPredicted[userID], 2)\n",
    "        for pair in pairs:\n",
    "            movie1 = pair[0][0]\n",
    "            movie2 = pair[1][0]\n",
    "            innerID1 = simsAlgo.trainset.to_inner_iid(str(movie1))\n",
    "            innerID2 = simsAlgo.trainset.to_inner_iid(str(movie2))\n",
    "            similarity = simsMatrix[innerID1][innerID2]\n",
    "            total += similarity\n",
    "            n += 1\n",
    "            \n",
    "    S = total / n\n",
    "    return (1-S)"
   ]
  },
  {
   "cell_type": "code",
   "execution_count": 26,
   "metadata": {},
   "outputs": [],
   "source": [
    "def Novelty(topNPredicted, rankings):\n",
    "    n = 0\n",
    "    total = 0\n",
    "    for userID in topNPredicted.keys():\n",
    "        for rating in topNPredicted[userID]:\n",
    "            movieID = rating[0]\n",
    "            rank = rankings[movieID]\n",
    "            total += rank\n",
    "            n += 1\n",
    "    return total / n"
   ]
  },
  {
   "cell_type": "markdown",
   "metadata": {},
   "source": [
    "Good image to load in this spot: \n",
    "    https://www.google.com/url?sa=i&url=https%3A%2F%2Fstats.stackexchange.com%2Fquestions%2F390629%2Freference-point-in-projection-axis-of-svd-singular-value-decomposition&psig=AOvVaw1Lsj4Ue1mqmrwy-4FUoV7X&ust=1625783276443000&source=images&cd=vfe&ved=0CAoQjRxqFwoTCLDL7_GA0vECFQAAAAAdAAAAABA1   "
   ]
  },
  {
   "cell_type": "markdown",
   "metadata": {},
   "source": [
    "### Implementation of our SVD Algorithm for Matrix Factorization based Collaborative Filtering: "
   ]
  },
  {
   "cell_type": "markdown",
   "metadata": {},
   "source": [
    "#### Normalize Movie Ratings by User. This way ratings are not impacted by \"optimistic\" and \"pessimistic\" reviewers. \n",
    "##### Normalized Rating = (Item_Rating - User_Avg_Rating) / User_Std_Dev. "
   ]
  },
  {
   "cell_type": "code",
   "execution_count": 27,
   "metadata": {},
   "outputs": [],
   "source": [
    "def custStandardScaler(train_df, dev_df, test_df): \n",
    "    '''Apply both StandardScaler and MinMaxScaler operations on our\n",
    "    data, by user. Return both non-adjusted and adjusted dataframes.\n",
    "    6 dataframes in total.'''\n",
    "    \n",
    "\n",
    "    #Rename columns\n",
    "    train_df.columns = [\"userId\", \"movieId\",\"rating\"]\n",
    "    dev_df.columns = [\"userId\", \"movieId\",\"rating\"]\n",
    "    test_df.columns = [\"userId\", \"movieId\",\"rating\"]\n",
    "\n",
    "    #Calculate mean and std. for each user's ratings in the training data (i.e. fit on training data). \n",
    "    #Equivalent to StandardScaler in sklearn. \n",
    "    train_df['user_avg_ratings'] = train_df.groupby(\"userId\")[\"rating\"].transform('mean')\n",
    "    train_df['user_std_dev'] = train_df.groupby(\"userId\")[\"rating\"].transform('std')\n",
    "    train_df['std_rating'] = (train_df['rating'] - train_df['user_avg_ratings']) / train_df['user_std_dev']\n",
    "\n",
    "    #Now apply to dev and test data\n",
    "    dev_df['user_avg_ratings'] = train_df.groupby(\"userId\")[\"rating\"].transform('mean')\n",
    "    dev_df['user_std_dev'] = train_df.groupby(\"userId\")[\"rating\"].transform('std')\n",
    "    dev_df['std_rating'] = (dev_df['rating'] - train_df['user_avg_ratings']) / train_df['user_std_dev']\n",
    "\n",
    "    test_df['user_avg_ratings'] = train_df.groupby(\"userId\")[\"rating\"].transform('mean')\n",
    "    test_df['user_std_dev'] = train_df.groupby(\"userId\")[\"rating\"].transform('std')\n",
    "    test_df['std_rating'] = (test_df['rating'] - train_df['user_avg_ratings']) / train_df['user_std_dev']\n",
    "\n",
    "    #Now we must scale the data to get back to ratings between 0 and 5. \n",
    "    #Equivalent of MinMaxScaler() in sklearn. \n",
    "    train_df['min_std_rating'] = train_df.groupby(\"userId\")[\"std_rating\"].transform('min')\n",
    "    train_df['max_std_rating'] = train_df.groupby(\"userId\")[\"std_rating\"].transform('max')\n",
    "    train_df['std_sc_rating'] = ((train_df['std_rating'] - train_df['min_std_rating']) / (train_df['max_std_rating']- train_df['min_std_rating'])) * 5\n",
    "\n",
    "    #Now apply to dev and test data\n",
    "    dev_df['min_std_rating'] = train_df.groupby(\"userId\")[\"std_rating\"].transform('min')\n",
    "    dev_df['max_std_rating'] = train_df.groupby(\"userId\")[\"std_rating\"].transform('max')\n",
    "    dev_df['std_sc_rating'] = ((dev_df['std_rating'] - train_df['min_std_rating']) / (train_df['max_std_rating']- train_df['min_std_rating'])) * 5\n",
    "\n",
    "    test_df['min_std_rating'] = train_df.groupby(\"userId\")[\"std_rating\"].transform('min')\n",
    "    test_df['max_std_rating'] = train_df.groupby(\"userId\")[\"std_rating\"].transform('max')\n",
    "    test_df['std_sc_rating'] = ((test_df['std_rating'] - train_df['min_std_rating']) / (train_df['max_std_rating']- train_df['min_std_rating'])) * 5\n",
    "\n",
    "    #Finally we return the raw and adjusted ratings as two different df objects\n",
    "    train_df_abs = train_df[['userId','movieId','rating']]\n",
    "    dev_df_abs = dev_df[['userId','movieId','rating']]\n",
    "    test_df_abs = test_df[['userId','movieId','rating']]\n",
    "\n",
    "    \n",
    "    train_df_sc = train_df[['userId','movieId','std_sc_rating']]\n",
    "    dev_df_sc = dev_df[['userId','movieId','std_sc_rating']]\n",
    "    test_df_sc = test_df[['userId','movieId','std_sc_rating']]\n",
    "    \n",
    "    #Rename rating column so that all dataframes are consistent. \n",
    "    train_df_sc.columns = [\"userId\", \"movieId\",\"rating\"]\n",
    "    dev_df_sc.columns = [\"userId\", \"movieId\",\"rating\"]\n",
    "    test_df_sc.columns = [\"userId\", \"movieId\",\"rating\"]\n",
    "    \n",
    "    return train_df_abs, dev_df_abs, test_df_abs, train_df_sc, dev_df_sc, test_df_sc"
   ]
  },
  {
   "cell_type": "markdown",
   "metadata": {},
   "source": [
    "#### Train, Val, Test Splits for both Unadjusted and Adjusted Ratings"
   ]
  },
  {
   "cell_type": "code",
   "execution_count": 29,
   "metadata": {},
   "outputs": [],
   "source": [
    "#Filter our user list to those users who have 30+ ratings\n",
    "filtered_data = filter_ratings(ratings_df, min_ratings = 30)\n",
    "\n",
    "#Now split our data so that we take the n-1 (most recent) rating as our test rating, \n",
    "#and n-2 (second most recent) rating as our dev rating \n",
    "train_df, dev_df, test_df = train_dev_test_split(filtered_data)\n",
    "\n",
    "dev_evaluation_pools = create_evaluation_pools(train_df, dev_df)\n",
    "\n",
    "#Create a surprise Reader object to help us create a Surprise DataSet object. \n",
    "reader = Reader()\n",
    "\n",
    "#Now we load training data as is (no folding) by calling the .build_full_trainset() method. \n",
    "train_data = Dataset.load_from_df(train_df, reader).build_full_trainset()\n",
    "\n",
    "\n",
    "#Convert dev_data to DataSet object, and then as testset object by calling .buildtestset()\n",
    "dev_data = Dataset.load_from_df(dev_df, reader).build_full_trainset()\n",
    "dev_data = dev_data.build_testset()\n",
    "\n",
    "#Convert test_data to DataSet object, and then as testset object by calling .buildtestset()\n",
    "test_data = Dataset.load_from_df(test_df, reader).build_full_trainset()\n",
    "test_data = test_data.build_testset()"
   ]
  },
  {
   "cell_type": "markdown",
   "metadata": {},
   "source": [
    "#### Train and Test Baseline Model"
   ]
  },
  {
   "cell_type": "markdown",
   "metadata": {},
   "source": [
    "##### First compare our adjusted and unadjusted ratings performance to\n",
    "##### ensure we can move forward with the normalized and scaled ratings. "
   ]
  },
  {
   "cell_type": "markdown",
   "metadata": {},
   "source": [
    "#### Item Based Diversity Calculations"
   ]
  },
  {
   "cell_type": "markdown",
   "metadata": {},
   "source": [
    "1.) Novelty scaled from 0,5"
   ]
  },
  {
   "cell_type": "code",
   "execution_count": 152,
   "metadata": {},
   "outputs": [],
   "source": [
    "#Create a dictionary of rating counts for movies\n",
    "rankings = ratings_df[\"movieId\"].value_counts()\n",
    "\n",
    "#Let's standardize our rankings to be able to be used together \n",
    "scaler = MinMaxScaler(feature_range = (0,5))\n",
    "ranking_movieID = rankings.index.to_numpy()\n",
    "\n",
    "sc_rankings = rankings.to_numpy().reshape(-1,1)\n",
    "sc_rankings = scaler.fit_transform(sc_rankings)\n",
    "\n",
    "sc_rankings = sc_rankings.tolist()\n",
    "\n",
    "#TODO: Check that this adjustment makes sense and keeps ranking meaning \n",
    "#Since ranking is actually just a movieID count in the dataset, we need to inverse the value\n",
    "#by multiplying by -1, and then renormalize to 0,5 scale by adding 5. So that least popular movies\n",
    "#have rating close to 5 and most popular movies have ratings close to 0. \n",
    "sc_rankings = [(float(i[0])*-1)+5 for i in sc_rankings]\n",
    "\n",
    "ranking_movieID = ranking_movieID.tolist()"
   ]
  },
  {
   "cell_type": "markdown",
   "metadata": {},
   "source": [
    "2.) Novelty scaled on same distribution as ratings (to use with blended swap logic) "
   ]
  },
  {
   "cell_type": "code",
   "execution_count": 176,
   "metadata": {},
   "outputs": [],
   "source": [
    "#Create a dictionary of rating counts for movies\n",
    "rankings = ratings_df[\"movieId\"].value_counts()\n",
    "ratings =  ratings_df[['movieId','rating']].groupby('movieId').mean()\n",
    "\n",
    "#Let's standardize our rankings to be able to be used together \n",
    "scaler = MinMaxScaler(feature_range = (0,5))\n",
    "scaler2 = RobustScaler()\n",
    "ranking_movieID = rankings.index.to_numpy()\n",
    "ratings = ratings.to_numpy().reshape(-1,1)\n",
    "\n",
    "scaler.fit(ratings)\n",
    "scaler2.fit(ratings)\n",
    "sc_rankings = rankings.to_numpy().reshape(-1,1)\n",
    "sc_rankings = scaler2.transform(sc_rankings)\n",
    "sc_rankings = scaler.fit_transform(sc_rankings)\n",
    "\n",
    "\n",
    "\n",
    "sc_rankings = sc_rankings.tolist()\n",
    "\n",
    "sc_rankings = [(float(i[0])*-1)+5 for i in sc_rankings]\n",
    "\n",
    "\n",
    "ranking_movieID = ranking_movieID.tolist()"
   ]
  },
  {
   "cell_type": "code",
   "execution_count": 228,
   "metadata": {},
   "outputs": [
    {
     "data": {
      "text/plain": [
       "(array([3.00e+00, 3.00e+00, 3.00e+00, 1.10e+01, 2.00e+01, 2.50e+01,\n",
       "        7.80e+01, 1.29e+02, 4.24e+02, 8.37e+03]),\n",
       " array([0. , 0.5, 1. , 1.5, 2. , 2.5, 3. , 3.5, 4. , 4.5, 5. ]),\n",
       " <BarContainer object of 10 artists>)"
      ]
     },
     "execution_count": 228,
     "metadata": {},
     "output_type": "execute_result"
    },
    {
     "data": {
      "image/png": "[encoded data removed]",
      "text/plain": [
       "<Figure size 432x288 with 1 Axes>"
      ]
     },
     "metadata": {
      "needs_background": "light"
     },
     "output_type": "display_data"
    }
   ],
   "source": [
    "plt.hist(sc_rankings)"
   ]
  },
  {
   "cell_type": "code",
   "execution_count": 229,
   "metadata": {},
   "outputs": [
    {
     "data": {
      "text/plain": [
       "(array([ 105.,  208.,  267.,  583.,  848., 1644., 2003., 2261.,  785.,\n",
       "         362.]),\n",
       " array([0.5 , 0.95, 1.4 , 1.85, 2.3 , 2.75, 3.2 , 3.65, 4.1 , 4.55, 5.  ]),\n",
       " <BarContainer object of 10 artists>)"
      ]
     },
     "execution_count": 229,
     "metadata": {},
     "output_type": "execute_result"
    },
    {
     "data": {
      "image/png": "[encoded data removed]",
      "text/plain": [
       "<Figure size 432x288 with 1 Axes>"
      ]
     },
     "metadata": {
      "needs_background": "light"
     },
     "output_type": "display_data"
    }
   ],
   "source": [
    "plt.hist(ratings)"
   ]
  },
  {
   "cell_type": "markdown",
   "metadata": {},
   "source": [
    "3.) Novelty adjusted by days the movie has existed for ratings (i.e. movies that have been around longer get hurt by having more ratings). "
   ]
  },
  {
   "cell_type": "code",
   "execution_count": 230,
   "metadata": {},
   "outputs": [
    {
     "name": "stdout",
     "output_type": "stream",
     "text": [
      "HR@10 for random pools and n = 10: 0.322\n",
      "Cumulative HR@10 for random pools > 4 and n = 10: 0.434\n"
     ]
    }
   ],
   "source": [
    "#Train and test algorithm (Matrix Factorization for Collaborative Filtering)\n",
    "\n",
    "#Train and test algorithm (Matrix Factorization for Collaborative Filtering)\n",
    "algo = SVD()\n",
    "\n",
    "#Train our train_data (all user's that have liked 30+ movies, train on the n-2 movie set)\n",
    "algo.fit(train_data)\n",
    "\n",
    "# Sort dev evaluation pools based on SVD model\n",
    "sorted_dev_evaluation_pools = sort_evaluation_pools(algo, dev_evaluation_pools, sc_rankings, ranking_movieID)\n",
    "\n",
    "#Set our n value for how how many top predicted movies we'll test against\n",
    "n = 10\n",
    "rating_cutoff = 4\n",
    "\n",
    "#hit_rate = HitRate(topNPredicted, leftoutpredictions)\n",
    "hit_rate_pools = calc_hit_rate_pools(sorted_dev_evaluation_pools, dev_df)\n",
    "hit_rate_pools_with_cutoff = calc_hit_rate_pools_with_cutoff(sorted_dev_evaluation_pools, dev_df, rating_cutoff=4)\n",
    "\n",
    "#Print Summary\n",
    "print(f'HR@10 for random pools and n = {n}: {hit_rate_pools:.3f}')\n",
    "print(f'Cumulative HR@10 for random pools > {rating_cutoff} and n = {n}: {hit_rate_pools_with_cutoff:.3f}')"
   ]
  },
  {
   "cell_type": "markdown",
   "metadata": {},
   "source": [
    "#### Function to Evaluate the different surprise models to select the best baseline model for HR@10. "
   ]
  },
  {
   "cell_type": "code",
   "execution_count": 231,
   "metadata": {},
   "outputs": [],
   "source": [
    "def compareModels(models, train_data, dev_data): \n",
    "    for algo in models: \n",
    "        #Print model type \n",
    "        print(type(algo).__name__)\n",
    "        \n",
    "        #Train our train_data (all user's that have liked 30+ movies, train on the n-2 movie set)\n",
    "        algo.fit(train_data)\n",
    "        \n",
    "        #Sort our evaluation pool, using the algo. \n",
    "        sorted_dev_evaluation_pools = sort_evaluation_pools(algo, dev_evaluation_pools)\n",
    "\n",
    "        #Set our n value for how how many top predicted movies we'll test against and rating cutoff. \n",
    "        n = 10\n",
    "        ratingCutoff = 4\n",
    "        \n",
    "        #Calculate the two hit rates\n",
    "        hit_rate_pools = calc_hit_rate_pools(sorted_dev_evaluation_pools, dev_df)\n",
    "        hit_rate_pools_with_cutoff = calc_hit_rate_pools_with_cutoff(sorted_dev_evaluation_pools, dev_df, rating_cutoff=4)\n",
    "\n",
    "        print(f'HR@10 for random pools and n = {n}: {hit_rate_pools:.3f}')\n",
    "        print(f'Cumulative HR@10 for random pools > {ratingCutoff} and n = {n}: {hit_rate_pools_with_cutoff:.3f}')"
   ]
  },
  {
   "cell_type": "code",
   "execution_count": 65,
   "metadata": {},
   "outputs": [
    {
     "name": "stdout",
     "output_type": "stream",
     "text": [
      "SVD\n",
      "HR@10 for random pools and n = 10: 0.336\n",
      "Cumulative HR@10 for random pools > 4 and n = 10: 0.437\n",
      "SVDpp\n",
      "HR@10 for random pools and n = 10: 0.315\n",
      "Cumulative HR@10 for random pools > 4 and n = 10: 0.386\n",
      "NMF\n",
      "HR@10 for random pools and n = 10: 0.145\n",
      "Cumulative HR@10 for random pools > 4 and n = 10: 0.177\n"
     ]
    }
   ],
   "source": [
    "#Compare the matrix factorization models from Surprise to pick the baseline model that optimizes HR@10 \n",
    "models = [SVD(), SVDpp(), NMF()]\n",
    "compareModels(models, train_data, dev_df)"
   ]
  },
  {
   "cell_type": "markdown",
   "metadata": {},
   "source": [
    "#### Now finetune the best baseline model using our own param passes. \n",
    "##### This is necessary because GridSearchCV uses Surprise's own train/dev split methods and accuracy scores. This would create spillover. "
   ]
  },
  {
   "cell_type": "code",
   "execution_count": 69,
   "metadata": {},
   "outputs": [
    {
     "name": "stdout",
     "output_type": "stream",
     "text": [
      "Best HR@10: 0.38517179023508136\n",
      "n_factors = 50, n_epochs = 30, lr_all = 0.001, reg_all = 0\n"
     ]
    }
   ],
   "source": [
    "#To optimize: \n",
    "#Note default values n_factors = 100, n_epochs = 20, lr_all = 0.005, reg_all = 0.02\n",
    "n_factors = [50, 100, 200, 500]\n",
    "n_epochs = [10,20,30]\n",
    "lr_all = [0.001, 0.005, 0.01]\n",
    "reg_all = [0, 0.01, 0.02, 0.04]\n",
    "\n",
    "best_hr = 0\n",
    "best_n_factors = 0\n",
    "best_n_epochs = 0 \n",
    "best_lr_all = 0 \n",
    "best_reg_all = 0\n",
    "\n",
    "for n_factor in n_factors: \n",
    "    for n_epoch in n_epochs: \n",
    "        for lr in lr_all: \n",
    "            for reg in reg_all: \n",
    "                algo = SVD(n_factors = n_factor, n_epochs = n_epoch, lr_all = lr, reg_all = reg)\n",
    "                algo.fit(train_data)\n",
    "                sorted_dev_evaluation_pools = sort_evaluation_pools(algo, dev_evaluation_pools)\n",
    "                #Set our n value for how how many top predicted movies we'll test against and rating cutoff. \n",
    "                n = 10\n",
    "                ratingCutoff = 4\n",
    "\n",
    "                #Calculate the two hit rates\n",
    "                hit_rate_pools = calc_hit_rate_pools(sorted_dev_evaluation_pools, dev_df)\n",
    "                hit_rate_pools_with_cutoff = calc_hit_rate_pools_with_cutoff(sorted_dev_evaluation_pools, dev_df, rating_cutoff=4)\n",
    "                #print(f'n_factors = {n_factor}, n_epochs = {n_epoch}, lr_all = {lr}, reg_all = {reg}')\n",
    "                #print(f'HR@10 for random pools and n = {n}: {hit_rate_pools:.3f}')\n",
    "                #print(f'Cumulative HR@10 for random pools > {ratingCutoff} and n = {n}: {hit_rate_pools_with_cutoff:.3f}')\n",
    "                \n",
    "                if hit_rate_pools > best_hr: \n",
    "                    best_hr = hit_rate_pools\n",
    "                    best_n_factors = n_factor\n",
    "                    best_n_epochs = n_epoch\n",
    "                    best_lr_all = lr\n",
    "                    best_reg_all = reg\n",
    "                    \n",
    "                    \n",
    "print(f'Best HR@10: {best_hr}')\n",
    "print(f'n_factors = {best_n_factors}, n_epochs = {best_n_epochs}, lr_all = {best_lr_all}, reg_all = {best_reg_all}')\n",
    "                \n",
    "                "
   ]
  },
  {
   "cell_type": "markdown",
   "metadata": {},
   "source": [
    "#### Create a dictionary of \"rankings\" (number of ratings in dataset, which will be our popularity measure). "
   ]
  },
  {
   "cell_type": "markdown",
   "metadata": {},
   "source": [
    "##### Scale our rankings (popularity) to be on same scale as ratings (0,5) using min_max scaler. "
   ]
  },
  {
   "cell_type": "markdown",
   "metadata": {},
   "source": [
    "#### Add Diversity Into Optimization Problem (Modified Cost Function)"
   ]
  },
  {
   "cell_type": "code",
   "execution_count": 29,
   "metadata": {},
   "outputs": [],
   "source": [
    "#Pull top-10 predicted ratings + rankings. This is our new ordered list. \n",
    "# def GetTopNBlended(predictions, ranking_list, ranking_movies, n=10, minimumRating=0.0, w1 = 0.5, w2 = 0.5):\n",
    "#     '''Get the top n predicted movie ratings for a given user.'''\n",
    "#     topN = defaultdict(list)\n",
    "#     remainingN = defaultdict(list)\n",
    "    \n",
    "#     for userID, movieID, actualRating, estimatedRating, _ in predictions:\n",
    "#         if (estimatedRating >= minimumRating):\n",
    "            \n",
    "#             #Adjustment to solve for novelty within equation\n",
    "#             noveltyRanking = ranking_list[ranking_movies.index(movieID)]\n",
    "            \n",
    "#             estBlendedRating = (w1 * estimatedRating) + (w2 * noveltyRanking)\n",
    "            \n",
    "#             topN[int(userID)].append((int(movieID), estBlendedRating))\n",
    "            \n",
    "#     for userID, ratings in topN.items():\n",
    "#         ratings.sort(key=lambda x: x[1], reverse=True)\n",
    "#         topN[int(userID)] = ratings[:n]\n",
    "#         #Pull the next n items as the remainingN list \n",
    "#         remainingN[int(userID)] = ratings[n:(n+n)]\n",
    "\n",
    "#     return topN, remainingN"
   ]
  },
  {
   "cell_type": "markdown",
   "metadata": {},
   "source": [
    "#### Split and Swap Method of Diverifying List. \n",
    "##### Inspiration: http://ceur-ws.org/Vol-1181/pia2014_paper_02.pdf\n",
    "##### Note: Current implementation is solely based on increasing novelty. Can update to swap based on blended rating & novelty. "
   ]
  },
  {
   "cell_type": "code",
   "execution_count": 62,
   "metadata": {},
   "outputs": [],
   "source": [
    "#Create a topN list and remainingN list, to use with diversity swapping method. \n",
    "def GetTopNSplitPools(sorted_evaluation_pool, n):\n",
    "    '''Get the top n predicted movie ratings for a given user.'''\n",
    "    predictions = sorted_evaluation_pool\n",
    "    topN = defaultdict(list)\n",
    "    nextN = defaultdict(list)\n",
    "    remainingN = defaultdict(list)\n",
    "    \n",
    "    #Select top_n and remaining_n\n",
    "    for userID, movies in predictions.items():\n",
    "        topN[int(userID)] = movies[:n]\n",
    "        #Pull the next n items as the remainingN list \n",
    "        nextN[int(userID)] = movies[n:(n+n)]\n",
    "        remainingN[int(userID)] = movies[(n+n):]\n",
    "        \n",
    "\n",
    "    return topN, nextN, remainingN"
   ]
  },
  {
   "cell_type": "code",
   "execution_count": 232,
   "metadata": {},
   "outputs": [],
   "source": [
    "#Return the first 10 movies (in predicted rating) from the evaluation_pool, \n",
    "#and then the remaining n. We will use this structure to swap our predictions for diversity. \n",
    "algo = SVD()\n",
    "algo.fit(train_data)\n",
    "sorted_dev_evaluation_pool = sort_evaluation_pools(algo, dev_evaluation_pools,sc_rankings, ranking_movieID)\n",
    "\n",
    "#Need to pass algo so that we can build the proper dictionary with predictions\n",
    "topNPredicted_Split, nextNPredicted_Split, remainingNPredicted_Split = GetTopNSplitPools(sorted_dev_evaluation_pool, n = 20)"
   ]
  },
  {
   "cell_type": "code",
   "execution_count": 243,
   "metadata": {},
   "outputs": [],
   "source": [
    "def diversificationSwap(topNPredicted, nextNPredicted, remainingNPredicted, iterations = 1): \n",
    "    '''For iteration in desired number of iterations (hyperparam): \n",
    "    drop the lowest novelty item from the topN list and\n",
    "    replace with the highest novelty item from the remainingN list.'''\n",
    "    \n",
    "    \n",
    "    topNPredicted_temp = copy.deepcopy(topNPredicted)\n",
    "    nextNPredicted_temp = copy.deepcopy(nextNPredicted)\n",
    "    \n",
    "    for i in range(iterations): \n",
    "        for userID in topNPredicted_temp.keys():\n",
    "            #Create a boolean that indicates whether swap is found\n",
    "            swap_top = False\n",
    "            \n",
    "            #Drop items from topN and add to remainingN\n",
    "            min_ranking = 5 \n",
    "            min_movieID = None\n",
    "            min_rating = None\n",
    "            \n",
    "            for item in topNPredicted_temp[userID]:\n",
    "                movieID = item[0]\n",
    "                rating = item[1]\n",
    "                rank = item[2]\n",
    "                \n",
    "                if rank < min_ranking: \n",
    "                    swap_top = True\n",
    "                    min_ranking = rank\n",
    "                    min_movieID = movieID\n",
    "                    min_rating = rating\n",
    "                    \n",
    "                    \n",
    "            #Now shuffle (only if swap is found)\n",
    "            if swap_top == True: \n",
    "                nextNPredicted_temp[int(userID)].append((int(min_movieID), min_rating, min_ranking))\n",
    "                topNPredicted_temp[int(userID)].remove((int(min_movieID), min_rating, min_ranking))\n",
    "            \n",
    "            #Create a boolean that indicates whether swap is found\n",
    "            swap_bottom  = False\n",
    "            \n",
    "            #Add items to topN and drop from remainingN\n",
    "            max_ranking = 0 \n",
    "            max_movieID = None\n",
    "            max_rating = None\n",
    "            \n",
    "            for item in nextNPredicted_temp[userID]:\n",
    "                movieID = item[0]\n",
    "                rating = item[1]\n",
    "                rank = item[2]\n",
    "                \n",
    "                if rank > max_ranking: \n",
    "                    swap_bottom = True\n",
    "                    max_ranking = rank\n",
    "                    max_movieID = movieID\n",
    "                    max_rating = rating\n",
    "                    \n",
    "            #Now shuffle (only if swap is found)\n",
    "            if swap_bottom == True: \n",
    "                topNPredicted_temp[int(userID)].append((int(max_movieID), max_rating, max_ranking))\n",
    "                nextNPredicted_temp[int(userID)].remove((int(max_movieID), max_rating, max_ranking))\n",
    "    \n",
    "    #Now drop the ranking as this isn't needed for hit rate calcs. \n",
    "    #topNPredicted_temp.update(item[:-1] for item in value[items] for value in topNPredicted_temp.values())\n",
    "    #remainingNPredicted_temp.update(item[:-1] for item in value[items] for value in remainingNPredicted.values())\n",
    "    final_sorted_pool = defaultdict(list)\n",
    "    \n",
    "    #Add the top predicted, diversified items to our final evaluation_pool\n",
    "    for userID in topNPredicted_temp.keys(): \n",
    "        for item in topNPredicted_temp[userID]: \n",
    "            #To drop tuple value we must first convert to list since tuples are immutable. \n",
    "            final_sorted_pool[int(userID)].append((int(item[0]), item[1], item[2]))\n",
    "            #final_topN[int(userID)].append(int(item[0]))\n",
    "    \n",
    "    #Add the next N \n",
    "    for userID in nextNPredicted_temp.keys(): \n",
    "        for item in nextNPredicted_temp[userID]: \n",
    "            #To drop tuple value we must first convert to list since tuples are immutable. \n",
    "            final_sorted_pool[int(userID)].append((int(item[0]), item[1], item[2]))\n",
    "            #final_topN[int(userID)].append(int(item[0]))\n",
    "    \n",
    "    #Add the remaining (unswapped) N items to create the full diversified evaluation pool \n",
    "    for userID in remainingNPredicted.keys(): \n",
    "        for item in remainingNPredicted[userID]: \n",
    "            #To drop tuple value we must first convert to list since tuples are immutable. \n",
    "            final_sorted_pool[int(userID)].append((int(item[0]), item[1], item[2]))\n",
    "        \n",
    "    return final_sorted_pool\n",
    "        "
   ]
  },
  {
   "cell_type": "code",
   "execution_count": 254,
   "metadata": {},
   "outputs": [],
   "source": [
    "def diversificationSwapBlended(topNPredicted, nextNPredicted, remainingNPredicted, iterations = 1, w1 = 0.5, w2 = 0.5): \n",
    "    '''For iteration in desired number of iterations (hyperparam): \n",
    "    drop the lowest blended rating and novelty item from the topN list and\n",
    "    replace with the highest blended rating and novelty item from the remainingN list.\n",
    "    This methods approximate's a movie's 'Hidden Gem' score (i..e high rating, low ranking)'''\n",
    "    \n",
    "    \n",
    "    topNPredicted_temp = copy.deepcopy(topNPredicted)\n",
    "    nextNPredicted_temp = copy.deepcopy(nextNPredicted)\n",
    "    \n",
    "    for i in range(iterations): \n",
    "        for userID in topNPredicted_temp.keys():\n",
    "            #Create a boolean that indicates whether swap is found\n",
    "            swap_top = False\n",
    "            \n",
    "            #Drop items from topN and add to remainingN\n",
    "            min_blended_rank = 5\n",
    "            min_movieID = None\n",
    "            min_rating = None\n",
    "            \n",
    "            for item in topNPredicted_temp[userID]:\n",
    "                movieID = item[0]\n",
    "                rating = item[1]\n",
    "                rank = item[2]\n",
    "                blended_rank = (w1*rating) + (w2*rank)\n",
    "                \n",
    "                if blended_rank < min_blended_rank: \n",
    "                    swap_top = True\n",
    "                    min_blended_rank = blended_rank\n",
    "                    min_movieID = movieID\n",
    "                    min_ranking = rank\n",
    "                    min_rating = rating\n",
    "                    \n",
    "                    \n",
    "            #Now shuffle (only if swap is found)\n",
    "            if swap_top == True: \n",
    "                nextNPredicted_temp[int(userID)].append((int(min_movieID), min_rating, min_ranking))\n",
    "                topNPredicted_temp[int(userID)].remove((int(min_movieID), min_rating, min_ranking))\n",
    "            \n",
    "            #Create a boolean that indicates whether swap is found\n",
    "            swap_bottom  = False\n",
    "            \n",
    "            #Add items to topN and drop from remainingN\n",
    "            max_blended_rank = 0 \n",
    "            max_movieID = None\n",
    "            max_rating = None\n",
    "            \n",
    "            for item in nextNPredicted_temp[userID]:\n",
    "                movieID = item[0]\n",
    "                rating = item[1]\n",
    "                rank = item[2]\n",
    "                blended_rank = (w1*rating) + (w2*rank)\n",
    "                \n",
    "                if blended_rank > max_blended_rank: \n",
    "                    swap_bottom = True\n",
    "                    max_blended_rank = blended_rank\n",
    "                    max_ranking = rank\n",
    "                    max_movieID = movieID\n",
    "                    max_rating = rating\n",
    "                    \n",
    "            #Now shuffle (only if swap is found)\n",
    "            if swap_bottom == True: \n",
    "                topNPredicted_temp[int(userID)].append((int(max_movieID), max_rating, max_ranking))\n",
    "                nextNPredicted_temp[int(userID)].remove((int(max_movieID), max_rating, max_ranking))\n",
    "    \n",
    "    #Now drop the ranking as this isn't needed for hit rate calcs. \n",
    "    #topNPredicted_temp.update(item[:-1] for item in value[items] for value in topNPredicted_temp.values())\n",
    "    #remainingNPredicted_temp.update(item[:-1] for item in value[items] for value in remainingNPredicted.values())\n",
    "    final_sorted_pool = defaultdict(list)\n",
    "    \n",
    "    #Add the top predicted, diversified items to our final evaluation_pool\n",
    "    for userID in topNPredicted_temp.keys(): \n",
    "        for item in topNPredicted_temp[userID]: \n",
    "            #To drop tuple value we must first convert to list since tuples are immutable. \n",
    "            final_sorted_pool[int(userID)].append((int(item[0]), item[1], item[2]))\n",
    "            #final_topN[int(userID)].append(int(item[0]))\n",
    "    \n",
    "    #Add the next N \n",
    "    for userID in nextNPredicted_temp.keys(): \n",
    "        for item in nextNPredicted_temp[userID]: \n",
    "            #To drop tuple value we must first convert to list since tuples are immutable. \n",
    "            final_sorted_pool[int(userID)].append((int(item[0]), item[1], item[2]))\n",
    "            #final_topN[int(userID)].append(int(item[0]))\n",
    "    \n",
    "    #Add the remaining (unswapped) N items to create the full diversified evaluation pool \n",
    "    for userID in remainingNPredicted.keys(): \n",
    "        for item in remainingNPredicted[userID]: \n",
    "            #To drop tuple value we must first convert to list since tuples are immutable. \n",
    "            final_sorted_pool[int(userID)].append((int(item[0]), item[1], item[2]))\n",
    "        \n",
    "    return final_sorted_pool\n",
    "        "
   ]
  },
  {
   "cell_type": "code",
   "execution_count": 248,
   "metadata": {},
   "outputs": [],
   "source": [
    "diversified_evaluation_pools = diversificationSwap(topNPredicted_Split, nextNPredicted_Split, remainingNPredicted_Split, iterations = 2)"
   ]
  },
  {
   "cell_type": "code",
   "execution_count": 249,
   "metadata": {},
   "outputs": [
    {
     "name": "stdout",
     "output_type": "stream",
     "text": [
      "HR@10 for random pools and n = 10: 0.156\n",
      "Cumulative HR@10 for random pools > 4 and n = 10: 0.158\n"
     ]
    }
   ],
   "source": [
    "#Calculate diversified hit rate\n",
    "hit_rate_diversified_pools = calc_hit_rate_pools(diversified_evaluation_pools, dev_df)\n",
    "hit_rate_diversified_pools_with_cutoff =  calc_hit_rate_pools_with_cutoff(diversified_evaluation_pools, dev_df, rating_cutoff=4)\n",
    "print(f'HR@10 for random pools and n = 10: {hit_rate_diversified_pools:.3f}')\n",
    "print(f'Cumulative HR@10 for random pools > 4 and n = 10: {hit_rate_diversified_pools_with_cutoff:.3f}')"
   ]
  },
  {
   "cell_type": "code",
   "execution_count": 160,
   "metadata": {},
   "outputs": [],
   "source": [
    "#Calculate average novelty, average rating, and hit rate for the top 10 of final sorted_evaluation_pool. \n",
    "\n",
    "def summaryStats(diversified_evaluation_pools, test_df, rating_cutoff = None): \n",
    "    hit_rate_diversified_pools = calc_hit_rate_pools(diversified_evaluation_pools, test_df)\n",
    "    hit_rate_diversified_pools_with_cutoff =  calc_hit_rate_pools_with_cutoff(diversified_evaluation_pools, dev_df, rating_cutoff=rating_cutoff)\n",
    "    \n",
    "    total_est_rating = 0 \n",
    "    total_novelty = 0 \n",
    "    total_items = 0 \n",
    "    for userID in diversified_evaluation_pools.keys(): \n",
    "        for tup in diversified_evaluation_pools[userID][:10]: \n",
    "            total_est_rating += tup[1]\n",
    "            total_novelty += tup[2]\n",
    "            total_items += 1\n",
    "    \n",
    "    avg_est_rating  = total_est_rating / total_items\n",
    "    avg_novelty = total_novelty / total_items\n",
    "    \n",
    "    return hit_rate_diversified_pools, hit_rate_diversified_pools_with_cutoff, avg_est_rating, avg_novelty \n",
    "        \n"
   ]
  },
  {
   "cell_type": "code",
   "execution_count": 279,
   "metadata": {},
   "outputs": [
    {
     "data": {
      "text/plain": [
       "<matplotlib.legend.Legend at 0x7fbb6bd14c70>"
      ]
     },
     "execution_count": 279,
     "metadata": {},
     "output_type": "execute_result"
    },
    {
     "data": {
      "image/png": "[encoded data removed]",
      "text/plain": [
       "<Figure size 432x288 with 1 Axes>"
      ]
     },
     "metadata": {
      "needs_background": "light"
     },
     "output_type": "display_data"
    }
   ],
   "source": [
    "#Plot our novelty / HR@10 tradeoff by increasing number of iterations of our dviersificationSwap. \n",
    "method = []\n",
    "average_novelty = [] \n",
    "hit_rate = [] \n",
    "\n",
    "method_blended = []\n",
    "average_novelty_blended = []\n",
    "hit_rate_blended = []\n",
    "\n",
    "hit_rate_cutoff = []\n",
    "hit_rate_cutoff_blended = [] \n",
    "\n",
    "swapping_iterations = []\n",
    "swapping_iterations_blended = []\n",
    "\n",
    "for i in range(0,20): \n",
    "    diversified_evaluation_pools = diversificationSwap(topNPredicted_Split, nextNPredicted_Split, remainingNPredicted_Split, iterations = i)\n",
    "    diversified_evaluation_pools_blended = diversificationSwapBlended(topNPredicted_Split, nextNPredicted_Split, remainingNPredicted_Split, iterations = i, w1 = 0.7, w2 = 0.3)\n",
    "    hit_rate_diversified_pools, hit_rate_diversified_pools_with_cutoff, avg_est_rating, avg_novelty = summaryStats(diversified_evaluation_pools, dev_df, rating_cutoff = 4)\n",
    "    hit_rate_diversified_pools_blended, hit_rate_diversified_pools_with_cutoff_blended, avg_est_rating_blended, avg_novelty_blended = summaryStats(diversified_evaluation_pools_blended, dev_df, rating_cutoff = 4)\n",
    "    model = 'Matrix Factorization with SVD()'\n",
    "    blended_model = 'Matrix Factoriziation with SVD(), blended swapping'\n",
    "    \n",
    "    method.append(model)\n",
    "    method_blended.append(model)\n",
    "    \n",
    "    average_novelty.append(avg_novelty)\n",
    "    average_novelty_blended.append(avg_novelty_blended)\n",
    "    \n",
    "    swapping_iterations.append(i)\n",
    "    swapping_iterations_blended.append(i)\n",
    "    \n",
    "    hit_rate.append(hit_rate_diversified_pools)\n",
    "    hit_rate_blended.append(hit_rate_diversified_pools_blended)\n",
    "    \n",
    "    hit_rate_cutoff.append(hit_rate_diversified_pools_with_cutoff)\n",
    "    hit_rate_cutoff_blended.append(hit_rate_diversified_pools_with_cutoff_blended)\n",
    "\n",
    "\n",
    "plt.plot(swapping_iterations, hit_rate, label = 'Matrix Factorization with SVD()')\n",
    "plt.plot(swapping_iterations_blended, hit_rate_blended, label = 'Matrix Factoriziation with SVD(), blended swapping')\n",
    "plt.title(\"Trade-Off of Diversification Swapping Iterations and HR@10\")\n",
    "plt.xlabel(\"Diversification Swapping Iterations\")\n",
    "plt.ylabel(\"HR@10\")\n",
    "plt.legend(loc = 'best')"
   ]
  },
  {
   "cell_type": "code",
   "execution_count": 280,
   "metadata": {},
   "outputs": [
    {
     "data": {
      "text/plain": [
       "<matplotlib.legend.Legend at 0x7fbb29d67730>"
      ]
     },
     "execution_count": 280,
     "metadata": {},
     "output_type": "execute_result"
    },
    {
     "data": {
      "image/png": "[encoded data removed]",
      "text/plain": [
       "<Figure size 432x288 with 1 Axes>"
      ]
     },
     "metadata": {
      "needs_background": "light"
     },
     "output_type": "display_data"
    }
   ],
   "source": [
    "plt.plot(swapping_iterations, hit_rate_cutoff, label = 'Matrix Factorization with SVD()')\n",
    "plt.plot(swapping_iterations_blended, hit_rate_cutoff_blended, label = 'Matrix Factoriziation with SVD(), blended swapping')\n",
    "plt.title(\"Trade-Off of Diversification Swapping Iterations and HR@10\")\n",
    "plt.xlabel(\"Diversification Swapping Iterations\")\n",
    "plt.ylabel(\"HR@10 with Cutoff\")\n",
    "plt.legend(loc = 'best')"
   ]
  },
  {
   "cell_type": "code",
   "execution_count": 264,
   "metadata": {},
   "outputs": [
    {
     "data": {
      "text/plain": [
       "<matplotlib.legend.Legend at 0x7fbb59b76a60>"
      ]
     },
     "execution_count": 264,
     "metadata": {},
     "output_type": "execute_result"
    },
    {
     "data": {
      "image/png": "[encoded data removed]",
      "text/plain": [
       "<Figure size 432x288 with 1 Axes>"
      ]
     },
     "metadata": {
      "needs_background": "light"
     },
     "output_type": "display_data"
    }
   ],
   "source": [
    "plt.plot(average_novelty, hit_rate, label = 'Matrix Factorization with SVD()')\n",
    "plt.plot(average_novelty_blended, hit_rate_blended, label = 'Matrix Factoriziation with SVD(), blended swapping')\n",
    "plt.title(\"Trade-Off of Novelty and HR@10\")\n",
    "plt.xlabel(\"Novelty (0 = Popular, 5 = Novel)\")\n",
    "plt.ylabel(\"HR@10\")\n",
    "plt.legend(loc = 'best')"
   ]
  },
  {
   "cell_type": "markdown",
   "metadata": {},
   "source": [
    "#### Create a Random Recommender and Popular Movie Recommender as comparison points to our algo. "
   ]
  },
  {
   "cell_type": "markdown",
   "metadata": {},
   "source": [
    "#### Compare performance of different models. "
   ]
  },
  {
   "cell_type": "code",
   "execution_count": 276,
   "metadata": {},
   "outputs": [],
   "source": [
    "def sort_evaluation_pools_Random(model, evaluation_pools, ranking_list, ranking_movies):\n",
    "    '''\n",
    "    Take evaluation pool for each user and sort it randomly. \n",
    "    Parameters\n",
    "    ----------\n",
    "    model : A trained surprise model\n",
    "    evaluation_pools : A dictionary from user to the pool of movies on \n",
    "                       which to evaluate the recommender system \n",
    "    ranking_list = movie novelty scores\n",
    "    ranking_movies = movieIDs tied to novelty scores\n",
    "    \n",
    "    Returns\n",
    "    -------\n",
    "    sorted_evaluation_pools : A dictionary from user to the pool of movies where each \n",
    "                              movie is sorted in descending order of predicted movie \n",
    "                              rating\n",
    "    '''\n",
    "    \n",
    "    # Instantiate output dictionary\n",
    "    sorted_evaluation_pools = {}\n",
    "    \n",
    "    # Loop through each key-value pair in the input dictionary\n",
    "    for user, movie_pool in evaluation_pools.items():\n",
    "        \n",
    "        # Create a dictionary for the predicted rating of each movie in the user's pool\n",
    "        predictions = {}\n",
    "        for movie in movie_pool:\n",
    "            pred = model.predict(user, movie)\n",
    "            novelty = ranking_list[ranking_movies.index(movie)]\n",
    "            predictions[movie] = (pred[3],novelty)\n",
    "            #Add in the novelty score\n",
    "            \n",
    "        \n",
    "        # Sort the pool in descending order of predicted ratings\n",
    "        sorted_pool = [(k,v) for k, v in random.shuffle(list(predictions.items()))]\n",
    "        \n",
    "        # Add key-value pair of user and sorted evalualtion pool to the output dictionary\n",
    "        sorted_evaluation_pools[user] = sorted_pool\n",
    "        \n",
    "        #Finally reformat our dictionary to be in format userID: (movieID, rating, novelty)\n",
    "        final_pool = defaultdict(list)\n",
    "        for userID in sorted_evaluation_pools: \n",
    "            for movieID, tup in sorted_evaluation_pools[userID]: \n",
    "                final_pool[int(userID)].append((int(movieID), tup[0], tup[1]))\n",
    "\n",
    "\n",
    "    return final_pool"
   ]
  },
  {
   "cell_type": "code",
   "execution_count": 277,
   "metadata": {},
   "outputs": [
    {
     "ename": "TypeError",
     "evalue": "'NoneType' object is not iterable",
     "output_type": "error",
     "traceback": [
      "\u001b[0;31m---------------------------------------------------------------------------\u001b[0m",
      "\u001b[0;31mTypeError\u001b[0m                                 Traceback (most recent call last)",
      "\u001b[0;32m<ipython-input-277-9f568b9063e9>\u001b[0m in \u001b[0;36m<module>\u001b[0;34m\u001b[0m\n\u001b[0;32m----> 1\u001b[0;31m \u001b[0mrandom_pools\u001b[0m \u001b[0;34m=\u001b[0m \u001b[0msort_evaluation_pools_Random\u001b[0m\u001b[0;34m(\u001b[0m\u001b[0malgo\u001b[0m\u001b[0;34m,\u001b[0m \u001b[0mdev_evaluation_pools\u001b[0m\u001b[0;34m,\u001b[0m \u001b[0msc_rankings\u001b[0m\u001b[0;34m,\u001b[0m \u001b[0mranking_movieID\u001b[0m\u001b[0;34m)\u001b[0m\u001b[0;34m\u001b[0m\u001b[0;34m\u001b[0m\u001b[0m\n\u001b[0m",
      "\u001b[0;32m<ipython-input-276-4ca554f36835>\u001b[0m in \u001b[0;36msort_evaluation_pools_Random\u001b[0;34m(model, evaluation_pools, ranking_list, ranking_movies)\u001b[0m\n\u001b[1;32m     33\u001b[0m \u001b[0;34m\u001b[0m\u001b[0m\n\u001b[1;32m     34\u001b[0m         \u001b[0;31m# Sort the pool in descending order of predicted ratings\u001b[0m\u001b[0;34m\u001b[0m\u001b[0;34m\u001b[0m\u001b[0;34m\u001b[0m\u001b[0m\n\u001b[0;32m---> 35\u001b[0;31m         \u001b[0msorted_pool\u001b[0m \u001b[0;34m=\u001b[0m \u001b[0;34m[\u001b[0m\u001b[0;34m(\u001b[0m\u001b[0mk\u001b[0m\u001b[0;34m,\u001b[0m\u001b[0mv\u001b[0m\u001b[0;34m)\u001b[0m \u001b[0;32mfor\u001b[0m \u001b[0mk\u001b[0m\u001b[0;34m,\u001b[0m \u001b[0mv\u001b[0m \u001b[0;32min\u001b[0m \u001b[0mrandom\u001b[0m\u001b[0;34m.\u001b[0m\u001b[0mshuffle\u001b[0m\u001b[0;34m(\u001b[0m\u001b[0mlist\u001b[0m\u001b[0;34m(\u001b[0m\u001b[0mpredictions\u001b[0m\u001b[0;34m.\u001b[0m\u001b[0mitems\u001b[0m\u001b[0;34m(\u001b[0m\u001b[0;34m)\u001b[0m\u001b[0;34m)\u001b[0m\u001b[0;34m)\u001b[0m\u001b[0;34m]\u001b[0m\u001b[0;34m\u001b[0m\u001b[0;34m\u001b[0m\u001b[0m\n\u001b[0m\u001b[1;32m     36\u001b[0m \u001b[0;34m\u001b[0m\u001b[0m\n\u001b[1;32m     37\u001b[0m         \u001b[0;31m# Add key-value pair of user and sorted evalualtion pool to the output dictionary\u001b[0m\u001b[0;34m\u001b[0m\u001b[0;34m\u001b[0m\u001b[0;34m\u001b[0m\u001b[0m\n",
      "\u001b[0;31mTypeError\u001b[0m: 'NoneType' object is not iterable"
     ]
    }
   ],
   "source": [
    "random_pools = sort_evaluation_pools_Random(algo, dev_evaluation_pools, sc_rankings, ranking_movieID)"
   ]
  },
  {
   "cell_type": "markdown",
   "metadata": {},
   "source": [
    "## DNU\n",
    "##### General Optimization Problem for use with different diversity metrics. "
   ]
  },
  {
   "cell_type": "code",
   "execution_count": null,
   "metadata": {},
   "outputs": [],
   "source": []
  },
  {
   "cell_type": "code",
   "execution_count": 36,
   "metadata": {},
   "outputs": [],
   "source": [
    "#Compute top 10 recs for each user using our defined topNPredicted Function above\n",
    "topNPredicted = GetTopN(allPredictions, n=10)"
   ]
  },
  {
   "cell_type": "code",
   "execution_count": 37,
   "metadata": {},
   "outputs": [
    {
     "ename": "KeyboardInterrupt",
     "evalue": "",
     "output_type": "error",
     "traceback": [
      "\u001b[0;31m---------------------------------------------------------------------------\u001b[0m",
      "\u001b[0;31mKeyboardInterrupt\u001b[0m                         Traceback (most recent call last)",
      "\u001b[0;32m<ipython-input-37-6a473e16e616>\u001b[0m in \u001b[0;36m<module>\u001b[0;34m\u001b[0m\n\u001b[1;32m      1\u001b[0m \u001b[0;31m#Note: w1 = weight * rating, w2 = weight * ranking (novelty)\u001b[0m\u001b[0;34m\u001b[0m\u001b[0;34m\u001b[0m\u001b[0;34m\u001b[0m\u001b[0m\n\u001b[0;32m----> 2\u001b[0;31m \u001b[0mtopNPredicted_Blended\u001b[0m\u001b[0;34m,\u001b[0m \u001b[0mremainingNPredicted\u001b[0m \u001b[0;34m=\u001b[0m \u001b[0mGetTopNBlended\u001b[0m\u001b[0;34m(\u001b[0m\u001b[0mallPredictions\u001b[0m\u001b[0;34m,\u001b[0m \u001b[0msc_rankings\u001b[0m\u001b[0;34m,\u001b[0m \u001b[0mranking_movieID\u001b[0m\u001b[0;34m,\u001b[0m \u001b[0mn\u001b[0m\u001b[0;34m=\u001b[0m\u001b[0;36m10\u001b[0m\u001b[0;34m,\u001b[0m \u001b[0mw1\u001b[0m \u001b[0;34m=\u001b[0m \u001b[0;36m0.9\u001b[0m\u001b[0;34m,\u001b[0m \u001b[0mw2\u001b[0m \u001b[0;34m=\u001b[0m \u001b[0;36m0.1\u001b[0m\u001b[0;34m)\u001b[0m\u001b[0;34m\u001b[0m\u001b[0;34m\u001b[0m\u001b[0m\n\u001b[0m",
      "\u001b[0;32m<ipython-input-29-e9d8cf77820e>\u001b[0m in \u001b[0;36mGetTopNBlended\u001b[0;34m(predictions, ranking_list, ranking_movies, n, minimumRating, w1, w2)\u001b[0m\n\u001b[1;32m      9\u001b[0m \u001b[0;34m\u001b[0m\u001b[0m\n\u001b[1;32m     10\u001b[0m             \u001b[0;31m#Adjustment to solve for novelty within equation\u001b[0m\u001b[0;34m\u001b[0m\u001b[0;34m\u001b[0m\u001b[0;34m\u001b[0m\u001b[0m\n\u001b[0;32m---> 11\u001b[0;31m             \u001b[0mnoveltyRanking\u001b[0m \u001b[0;34m=\u001b[0m \u001b[0mranking_list\u001b[0m\u001b[0;34m[\u001b[0m\u001b[0mranking_movies\u001b[0m\u001b[0;34m.\u001b[0m\u001b[0mindex\u001b[0m\u001b[0;34m(\u001b[0m\u001b[0mmovieID\u001b[0m\u001b[0;34m)\u001b[0m\u001b[0;34m]\u001b[0m\u001b[0;34m\u001b[0m\u001b[0;34m\u001b[0m\u001b[0m\n\u001b[0m\u001b[1;32m     12\u001b[0m \u001b[0;34m\u001b[0m\u001b[0m\n\u001b[1;32m     13\u001b[0m             \u001b[0mestBlendedRating\u001b[0m \u001b[0;34m=\u001b[0m \u001b[0;34m(\u001b[0m\u001b[0mw1\u001b[0m \u001b[0;34m*\u001b[0m \u001b[0mestimatedRating\u001b[0m\u001b[0;34m)\u001b[0m \u001b[0;34m+\u001b[0m \u001b[0;34m(\u001b[0m\u001b[0mw2\u001b[0m \u001b[0;34m*\u001b[0m \u001b[0mnoveltyRanking\u001b[0m\u001b[0;34m)\u001b[0m\u001b[0;34m\u001b[0m\u001b[0;34m\u001b[0m\u001b[0m\n",
      "\u001b[0;31mKeyboardInterrupt\u001b[0m: "
     ]
    }
   ],
   "source": [
    "#Note: w1 = weight * rating, w2 = weight * ranking (novelty)\n",
    "\n",
    "topNPredicted_Blended, remainingNPredicted = GetTopNBlended(allPredictions, sc_rankings, ranking_movieID, n=10, w1 = 0.9, w2 = 0.1)"
   ]
  },
  {
   "cell_type": "code",
   "execution_count": null,
   "metadata": {},
   "outputs": [],
   "source": [
    "#Select the 10 most popular (i.e. least novel) movies from the predictions list for each user. \n",
    "topNPredicted_Popular = GetTopNPopular(allPredictions, sc_rankings, ranking_movieID, n = 10)"
   ]
  },
  {
   "cell_type": "code",
   "execution_count": null,
   "metadata": {},
   "outputs": [],
   "source": [
    "#Randomly select 10 movie recs for each user. \n",
    "topNPredicted_Random = GetTopNRandom(allPredictions, n=10)"
   ]
  },
  {
   "cell_type": "code",
   "execution_count": null,
   "metadata": {},
   "outputs": [],
   "source": [
    "#COMPARE MODELS \n",
    "#Calculate our evaluation metrics of interest\n",
    "hit_rate = HitRate(topNPredicted, leftoutpredictions)\n",
    "hit_rate_Blended = HitRate(topNPredicted_Blended, leftoutpredictions)\n",
    "hit_rate_Swapped = HitRate(topNPredicted_Split_Swapped, leftoutpredictions)\n",
    "hit_rate_Random = HitRate(topNPredicted_Random, leftoutpredictions)\n",
    "hit_rate_Popular = HitRate(topNPredicted_Popular, leftoutpredictions)\n",
    "# adjusted_hit_rate = HitRateAdjusted(topNPredicted, leftoutpredictions)\n",
    "# adjusted_hit_rate_Blended = HitRateAdjusted(topNPredicted_Blended, leftoutpredictions)\n",
    "#rmse = accuracy.rmse(leftoutpredictions, verbose = False)\n",
    "#Print our evaluation metrics of interest\n",
    "print(f'Standard: Hit Rate for n = {n}: {hit_rate:.4f}')\n",
    "print(f'Blended: Hit Rate for n = {n}: {hit_rate_Blended:.4f}')\n",
    "print(f'Swapped: Hit Rate for n = {n}: {hit_rate_Swapped:.4f}')\n",
    "print(f'Random: Hit Rate for n = {n}: {hit_rate_Random:.4f}')\n",
    "print(f'Popular: Hit Rate for n = {n}: {hit_rate_Popular:.4f}')\n",
    "# print(f'Adjusted Hit Rate for n = {n}: {adjusted_hit_rate:.3f}')\n",
    "# print(f'Blended, Adjusted Hit Rate for n = {n}: {adjusted_hit_rate_Blended:.3f}')"
   ]
  },
  {
   "cell_type": "code",
   "execution_count": 34,
   "metadata": {},
   "outputs": [],
   "source": [
    "#Random Recommender System\n",
    "def GetTopNRandom(predictions, n=10, minimumRating=0.0):\n",
    "    '''Get the top n predicted movie ratings for a given user.'''\n",
    "    topN = defaultdict(list)\n",
    "    for userID, movieID, actualRating, estimatedRating, _ in predictions:\n",
    "        if (estimatedRating >= minimumRating):\n",
    "            topN[int(userID)].append((int(movieID), estimatedRating))\n",
    "\n",
    "    for userID, ratings in topN.items():\n",
    "        random.shuffle(ratings)\n",
    "        topN[int(userID)] = ratings[:n]\n",
    "\n",
    "    return topN"
   ]
  },
  {
   "cell_type": "code",
   "execution_count": 35,
   "metadata": {},
   "outputs": [],
   "source": [
    "#Popular Recommender System\n",
    "def GetTopNPopular(predictions, ranking_list, ranking_movies, n=10, minimumRating=0.0):\n",
    "    '''Get the top n predicted movie ratings for a given user.'''\n",
    "    topN = defaultdict(list)\n",
    "    \n",
    "    for userID, movieID, actualRating, estimatedRating, _ in predictions:\n",
    "        if (estimatedRating >= minimumRating):\n",
    "            \n",
    "            #Adjustment to solve for novelty within equation\n",
    "            noveltyRanking = ranking_list[ranking_movies.index(movieID)]\n",
    "            \n",
    "            popularity_rating = noveltyRanking\n",
    "            \n",
    "            topN[int(userID)].append((int(movieID), popularity_rating))\n",
    "            \n",
    "    for userID, ratings in topN.items():\n",
    "        #Select the least novel (i.e. most popular) movies\n",
    "        ratings.sort(key=lambda x: x[1], reverse=False)\n",
    "        topN[int(userID)] = ratings[:n]\n",
    "\n",
    "    return topN"
   ]
  },
  {
   "cell_type": "code",
   "execution_count": null,
   "metadata": {},
   "outputs": [],
   "source": [
    "#Create list of user's movieID's, movie rankings (for novelty), and movie estimated rating \n",
    "%load_ext autotime\n",
    "\n",
    "w1 = 0.5 \n",
    "w2 = 1 - w1 \n",
    "\n",
    "blendedtopN = defaultdict(list)\n",
    "\n",
    "best_combo = ()\n",
    "\n",
    "for userID in list(topNPredicted.keys())[:1]:\n",
    "    user_list = [] \n",
    "    movie_list = []\n",
    "    rank_list = []\n",
    "    rating_list = [] \n",
    "    \n",
    "    best_score = 0 \n",
    "    \n",
    "    for rating in topNPredicted[userID]: \n",
    "        user_list.append(userID)\n",
    "        movie_list.append(rating[0])\n",
    "        rank_list.append(rankings[rating[0]])\n",
    "        rating_list.append(rating[1])\n",
    "    \n",
    "    \n",
    "    \n",
    "    for combo in combinations(movie_list, 10): \n",
    "        #Initialize running sums to zero\n",
    "        rating_sum = 0 \n",
    "        novelty_sum = 0\n",
    "        \n",
    "        for movie in combo: \n",
    "            idx = movie_list.index(movie)\n",
    "            rating_sum += rating_list[idx]\n",
    "            novelty_sum += rank_list[idx]\n",
    "            \n",
    "        blended_score = (w1*rating_sum) + (w2*novelty_sum)\n",
    "        \n",
    "        if blended_score > best_score: \n",
    "            best_combo = combo \n",
    "            best_score = blended_score\n",
    "        \n",
    "    print(f'User ID: {userID}, Best Combo: {best_combo}, Best Score: {best_score}')\n",
    "            \n",
    "            \n",
    "            \n",
    "            \n",
    "# print(user_list)\n",
    "# print(movie_list)\n",
    "# print(rank_list)\n",
    "# print(rating_list)"
   ]
  },
  {
   "cell_type": "markdown",
   "metadata": {},
   "source": [
    "We are pulling the SVD initialization (below) from Surprise code directly to create our modified SVD class: \n",
    "https://github.com/NicolasHug/Surprise/blob/master/surprise/prediction_algorithms/matrix_factorization.pyx"
   ]
  },
  {
   "cell_type": "code",
   "execution_count": null,
   "metadata": {},
   "outputs": [],
   "source": [
    "#NOT USED\n",
    "\n",
    "#https://realpython.com/python-scipy-cluster-optimize/#using-the-optimize-module-in-scipy\n",
    "\n",
    "#Pull top 100 predicted movies, then select top 10 movie rating + novelty from this constrained list\n",
    "def objective_function(topNPredicted, rankings): \n",
    "    for userID in topNPredicted.keys(): \n",
    "        for rating in topNPredicted[userID]: \n",
    "            movieID = rating[0]\n",
    "            est_rating = rating[1]\n",
    "            rank = rankings[movieID]\n",
    "            \n",
    "            \n",
    "            \n",
    "            \n",
    "    \n",
    "    \n",
    "    "
   ]
  },
  {
   "cell_type": "markdown",
   "metadata": {},
   "source": [
    "Notes: \n",
    "- Might help to break out the adjusted hit rate by the positive hit rate and negative hit rate (in list, vs lower ranked than top n list and not in list, vs higher ranked than top n list and not in list). \n"
   ]
  },
  {
   "cell_type": "code",
   "execution_count": null,
   "metadata": {},
   "outputs": [],
   "source": []
  }
 ],
 "metadata": {
  "kernelspec": {
   "display_name": "Python 3",
   "language": "python",
   "name": "python3"
  },
  "language_info": {
   "codemirror_mode": {
    "name": "ipython",
    "version": 3
   },
   "file_extension": ".py",
   "mimetype": "text/x-python",
   "name": "python",
   "nbconvert_exporter": "python",
   "pygments_lexer": "ipython3",
   "version": "3.8.3"
  }
 },
 "nbformat": 4,
 "nbformat_minor": 4
}
