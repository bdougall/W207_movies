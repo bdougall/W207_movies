{
 "cells": [
  {
   "cell_type": "markdown",
   "metadata": {},
   "source": [
    "# W207 Final Project Notebook"
   ]
  },
  {
   "cell_type": "code",
   "execution_count": 1,
   "metadata": {},
   "outputs": [
    {
     "name": "stdout",
     "output_type": "stream",
     "text": [
      "Requirement already satisfied: scikit-surprise in /opt/anaconda3/lib/python3.8/site-packages (1.1.1)\n",
      "Requirement already satisfied: numpy>=1.11.2 in /opt/anaconda3/lib/python3.8/site-packages (from scikit-surprise) (1.19.5)\n",
      "Requirement already satisfied: scipy>=1.0.0 in /opt/anaconda3/lib/python3.8/site-packages (from scikit-surprise) (1.7.0)\n",
      "Requirement already satisfied: joblib>=0.11 in /opt/anaconda3/lib/python3.8/site-packages (from scikit-surprise) (0.16.0)\n",
      "Requirement already satisfied: six>=1.10.0 in /opt/anaconda3/lib/python3.8/site-packages (from scikit-surprise) (1.15.0)\n"
     ]
    }
   ],
   "source": [
    "#Well be using surprise package heavily as it features packages specifically for recommender systems\n",
    "!pip install scikit-surprise"
   ]
  },
  {
   "cell_type": "code",
   "execution_count": 2,
   "metadata": {},
   "outputs": [],
   "source": [
    "#Install recmetrics directly from Github repo\n",
    "#in terminal by using: pip install git+https://github.com/statisticianinstilettos/recmetrics.git\n",
    "import recmetrics"
   ]
  },
  {
   "cell_type": "code",
   "execution_count": 32,
   "metadata": {},
   "outputs": [
    {
     "name": "stdout",
     "output_type": "stream",
     "text": [
      "time: 2.03 ms (started: 2021-07-25 11:13:38 -06:00)\n"
     ]
    }
   ],
   "source": [
    "# This tells matplotlib not to try opening a new window for each plot.\n",
    "%matplotlib inline\n",
    "\n",
    "# Import a bunch of libraries.\n",
    "import time\n",
    "import numpy as np\n",
    "import matplotlib.pyplot as plt\n",
    "import pandas as pd\n",
    "from collections import defaultdict\n",
    "\n",
    "from IPython.display import display\n",
    "\n",
    "from matplotlib.ticker import MultipleLocator\n",
    "\n",
    "from sklearn.pipeline import Pipeline\n",
    "from sklearn.datasets import fetch_openml\n",
    "from sklearn.neighbors import KNeighborsClassifier\n",
    "from sklearn.metrics import confusion_matrix\n",
    "from sklearn.linear_model import LinearRegression\n",
    "from sklearn.naive_bayes import BernoulliNB\n",
    "from sklearn.naive_bayes import MultinomialNB\n",
    "from sklearn.naive_bayes import GaussianNB\n",
    "from sklearn.model_selection import GridSearchCV\n",
    "from sklearn.metrics import classification_report\n",
    "\n",
    "from datetime import datetime\n",
    "\n",
    "import random\n",
    "\n",
    "# Set the randomizer seed so results are the same each time.\n",
    "np.random.seed(0)"
   ]
  },
  {
   "cell_type": "markdown",
   "metadata": {},
   "source": [
    "### Part 1: Load Dataset"
   ]
  },
  {
   "cell_type": "code",
   "execution_count": 4,
   "metadata": {},
   "outputs": [
    {
     "data": {
      "text/plain": [
       "'/Users/jericojohns/Desktop/W207'"
      ]
     },
     "execution_count": 4,
     "metadata": {},
     "output_type": "execute_result"
    }
   ],
   "source": [
    "%pwd"
   ]
  },
  {
   "cell_type": "code",
   "execution_count": 102,
   "metadata": {},
   "outputs": [
    {
     "name": "stdout",
     "output_type": "stream",
     "text": [
      "time: 36.3 ms (started: 2021-07-25 15:20:05 -06:00)\n"
     ]
    }
   ],
   "source": [
    "#Load data into ratings_df. \n",
    "ratings_df = pd.read_csv(\"/Users/jericojohns/Desktop/W207/data/ratings_small.csv\", low_memory=False)"
   ]
  },
  {
   "cell_type": "markdown",
   "metadata": {},
   "source": [
    "### Part 2: EDA"
   ]
  },
  {
   "cell_type": "code",
   "execution_count": 6,
   "metadata": {},
   "outputs": [
    {
     "name": "stdout",
     "output_type": "stream",
     "text": [
      "   userId  movieId  rating   timestamp\n",
      "0       1       31     2.5  1260759144\n",
      "1       1     1029     3.0  1260759179\n",
      "2       1     1061     3.0  1260759182\n",
      "3       1     1129     2.0  1260759185\n",
      "4       1     1172     4.0  1260759205\n",
      "(100004, 4)\n"
     ]
    }
   ],
   "source": [
    "#Check structure. \n",
    "print(ratings_df.head())\n",
    "\n",
    "#Check length. \n",
    "print(ratings_df.shape)"
   ]
  },
  {
   "cell_type": "code",
   "execution_count": 103,
   "metadata": {},
   "outputs": [
    {
     "data": {
      "text/html": [
       "<div>\n",
       "<style scoped>\n",
       "    .dataframe tbody tr th:only-of-type {\n",
       "        vertical-align: middle;\n",
       "    }\n",
       "\n",
       "    .dataframe tbody tr th {\n",
       "        vertical-align: top;\n",
       "    }\n",
       "\n",
       "    .dataframe thead th {\n",
       "        text-align: right;\n",
       "    }\n",
       "</style>\n",
       "<table border=\"1\" class=\"dataframe\">\n",
       "  <thead>\n",
       "    <tr style=\"text-align: right;\">\n",
       "      <th></th>\n",
       "      <th>userId</th>\n",
       "      <th>movieId</th>\n",
       "      <th>rating</th>\n",
       "      <th>timestamp</th>\n",
       "      <th>datetime</th>\n",
       "    </tr>\n",
       "  </thead>\n",
       "  <tbody>\n",
       "    <tr>\n",
       "      <th>0</th>\n",
       "      <td>1</td>\n",
       "      <td>31</td>\n",
       "      <td>2.5</td>\n",
       "      <td>1260759144</td>\n",
       "      <td>2009-12-14 02:52:24</td>\n",
       "    </tr>\n",
       "    <tr>\n",
       "      <th>1</th>\n",
       "      <td>1</td>\n",
       "      <td>1029</td>\n",
       "      <td>3.0</td>\n",
       "      <td>1260759179</td>\n",
       "      <td>2009-12-14 02:52:59</td>\n",
       "    </tr>\n",
       "    <tr>\n",
       "      <th>2</th>\n",
       "      <td>1</td>\n",
       "      <td>1061</td>\n",
       "      <td>3.0</td>\n",
       "      <td>1260759182</td>\n",
       "      <td>2009-12-14 02:53:02</td>\n",
       "    </tr>\n",
       "    <tr>\n",
       "      <th>3</th>\n",
       "      <td>1</td>\n",
       "      <td>1129</td>\n",
       "      <td>2.0</td>\n",
       "      <td>1260759185</td>\n",
       "      <td>2009-12-14 02:53:05</td>\n",
       "    </tr>\n",
       "    <tr>\n",
       "      <th>4</th>\n",
       "      <td>1</td>\n",
       "      <td>1172</td>\n",
       "      <td>4.0</td>\n",
       "      <td>1260759205</td>\n",
       "      <td>2009-12-14 02:53:25</td>\n",
       "    </tr>\n",
       "    <tr>\n",
       "      <th>...</th>\n",
       "      <td>...</td>\n",
       "      <td>...</td>\n",
       "      <td>...</td>\n",
       "      <td>...</td>\n",
       "      <td>...</td>\n",
       "    </tr>\n",
       "    <tr>\n",
       "      <th>99999</th>\n",
       "      <td>671</td>\n",
       "      <td>6268</td>\n",
       "      <td>2.5</td>\n",
       "      <td>1065579370</td>\n",
       "      <td>2003-10-08 02:16:10</td>\n",
       "    </tr>\n",
       "    <tr>\n",
       "      <th>100000</th>\n",
       "      <td>671</td>\n",
       "      <td>6269</td>\n",
       "      <td>4.0</td>\n",
       "      <td>1065149201</td>\n",
       "      <td>2003-10-03 02:46:41</td>\n",
       "    </tr>\n",
       "    <tr>\n",
       "      <th>100001</th>\n",
       "      <td>671</td>\n",
       "      <td>6365</td>\n",
       "      <td>4.0</td>\n",
       "      <td>1070940363</td>\n",
       "      <td>2003-12-09 03:26:03</td>\n",
       "    </tr>\n",
       "    <tr>\n",
       "      <th>100002</th>\n",
       "      <td>671</td>\n",
       "      <td>6385</td>\n",
       "      <td>2.5</td>\n",
       "      <td>1070979663</td>\n",
       "      <td>2003-12-09 14:21:03</td>\n",
       "    </tr>\n",
       "    <tr>\n",
       "      <th>100003</th>\n",
       "      <td>671</td>\n",
       "      <td>6565</td>\n",
       "      <td>3.5</td>\n",
       "      <td>1074784724</td>\n",
       "      <td>2004-01-22 15:18:44</td>\n",
       "    </tr>\n",
       "  </tbody>\n",
       "</table>\n",
       "<p>100004 rows × 5 columns</p>\n",
       "</div>"
      ],
      "text/plain": [
       "        userId  movieId  rating   timestamp            datetime\n",
       "0            1       31     2.5  1260759144 2009-12-14 02:52:24\n",
       "1            1     1029     3.0  1260759179 2009-12-14 02:52:59\n",
       "2            1     1061     3.0  1260759182 2009-12-14 02:53:02\n",
       "3            1     1129     2.0  1260759185 2009-12-14 02:53:05\n",
       "4            1     1172     4.0  1260759205 2009-12-14 02:53:25\n",
       "...        ...      ...     ...         ...                 ...\n",
       "99999      671     6268     2.5  1065579370 2003-10-08 02:16:10\n",
       "100000     671     6269     4.0  1065149201 2003-10-03 02:46:41\n",
       "100001     671     6365     4.0  1070940363 2003-12-09 03:26:03\n",
       "100002     671     6385     2.5  1070979663 2003-12-09 14:21:03\n",
       "100003     671     6565     3.5  1074784724 2004-01-22 15:18:44\n",
       "\n",
       "[100004 rows x 5 columns]"
      ]
     },
     "execution_count": 103,
     "metadata": {},
     "output_type": "execute_result"
    },
    {
     "name": "stdout",
     "output_type": "stream",
     "text": [
      "time: 12 ms (started: 2021-07-25 15:20:09 -06:00)\n"
     ]
    }
   ],
   "source": [
    "#Let's convert the timestamp to a more intuitive datetime\n",
    "ratings_df['datetime'] = pd.to_datetime(ratings_df['timestamp'], infer_datetime_format = True, yearfirst = True, unit = 's')\n",
    "\n",
    "#And check our new dataframe\n",
    "ratings_df"
   ]
  },
  {
   "cell_type": "code",
   "execution_count": 8,
   "metadata": {},
   "outputs": [
    {
     "data": {
      "text/plain": [
       "<AxesSubplot:>"
      ]
     },
     "execution_count": 8,
     "metadata": {},
     "output_type": "execute_result"
    },
    {
     "data": {
      "image/png": "[encoded data removed]",
      "text/plain": [
       "<Figure size 432x288 with 1 Axes>"
      ]
     },
     "metadata": {
      "needs_background": "light"
     },
     "output_type": "display_data"
    }
   ],
   "source": [
    "ratings_df[['rating']].plot.box()"
   ]
  },
  {
   "cell_type": "code",
   "execution_count": 30,
   "metadata": {},
   "outputs": [
    {
     "name": "stderr",
     "output_type": "stream",
     "text": [
      "/opt/anaconda3/lib/python3.8/site-packages/seaborn/_decorators.py:36: FutureWarning: Pass the following variable as a keyword arg: x. From version 0.12, the only valid positional argument will be `data`, and passing other arguments without an explicit keyword will result in an error or misinterpretation.\n",
      "  warnings.warn(\n"
     ]
    },
    {
     "data": {
      "image/png": "[encoded data removed]",
      "text/plain": [
       "<Figure size 1080x504 with 1 Axes>"
      ]
     },
     "metadata": {
      "needs_background": "light"
     },
     "output_type": "display_data"
    },
    {
     "name": "stdout",
     "output_type": "stream",
     "text": [
      "time: 10.7 s (started: 2021-07-25 10:46:40 -06:00)\n"
     ]
    }
   ],
   "source": [
    "#Use recmetrics for Long Tail Plot Example of MovieID\n",
    "fig = plt.figure(figsize=(15, 7))\n",
    "recmetrics.long_tail_plot(df=ratings_df, \n",
    "             item_id_column=\"movieId\", \n",
    "             interaction_type=\"movie ratings\", \n",
    "             percentage=0.5,\n",
    "             x_labels=False)"
   ]
  },
  {
   "cell_type": "code",
   "execution_count": 31,
   "metadata": {},
   "outputs": [
    {
     "name": "stderr",
     "output_type": "stream",
     "text": [
      "/opt/anaconda3/lib/python3.8/site-packages/seaborn/_decorators.py:36: FutureWarning: Pass the following variable as a keyword arg: x. From version 0.12, the only valid positional argument will be `data`, and passing other arguments without an explicit keyword will result in an error or misinterpretation.\n",
      "  warnings.warn(\n"
     ]
    },
    {
     "data": {
      "image/png": "[encoded data removed]",
      "text/plain": [
       "<Figure size 1080x504 with 1 Axes>"
      ]
     },
     "metadata": {
      "needs_background": "light"
     },
     "output_type": "display_data"
    },
    {
     "name": "stdout",
     "output_type": "stream",
     "text": [
      "time: 739 ms (started: 2021-07-25 10:48:15 -06:00)\n"
     ]
    }
   ],
   "source": [
    "#Use recmetrics for Long Tail Plot Example of useriD\n",
    "fig = plt.figure(figsize=(15, 7))\n",
    "recmetrics.long_tail_plot(df=ratings_df, \n",
    "             item_id_column=\"userId\", \n",
    "             interaction_type=\"movie ratings\", \n",
    "             percentage=0.5,\n",
    "             x_labels=False)"
   ]
  },
  {
   "cell_type": "code",
   "execution_count": 9,
   "metadata": {},
   "outputs": [
    {
     "name": "stdout",
     "output_type": "stream",
     "text": [
      "Ratings per User:\n"
     ]
    },
    {
     "data": {
      "text/html": [
       "<div>\n",
       "<style scoped>\n",
       "    .dataframe tbody tr th:only-of-type {\n",
       "        vertical-align: middle;\n",
       "    }\n",
       "\n",
       "    .dataframe tbody tr th {\n",
       "        vertical-align: top;\n",
       "    }\n",
       "\n",
       "    .dataframe thead th {\n",
       "        text-align: right;\n",
       "    }\n",
       "</style>\n",
       "<table border=\"1\" class=\"dataframe\">\n",
       "  <thead>\n",
       "    <tr style=\"text-align: right;\">\n",
       "      <th></th>\n",
       "      <th>rating</th>\n",
       "    </tr>\n",
       "    <tr>\n",
       "      <th>userId</th>\n",
       "      <th></th>\n",
       "    </tr>\n",
       "  </thead>\n",
       "  <tbody>\n",
       "    <tr>\n",
       "      <th>1</th>\n",
       "      <td>20</td>\n",
       "    </tr>\n",
       "    <tr>\n",
       "      <th>498</th>\n",
       "      <td>20</td>\n",
       "    </tr>\n",
       "    <tr>\n",
       "      <th>448</th>\n",
       "      <td>20</td>\n",
       "    </tr>\n",
       "    <tr>\n",
       "      <th>445</th>\n",
       "      <td>20</td>\n",
       "    </tr>\n",
       "    <tr>\n",
       "      <th>444</th>\n",
       "      <td>20</td>\n",
       "    </tr>\n",
       "    <tr>\n",
       "      <th>...</th>\n",
       "      <td>...</td>\n",
       "    </tr>\n",
       "    <tr>\n",
       "      <th>73</th>\n",
       "      <td>1610</td>\n",
       "    </tr>\n",
       "    <tr>\n",
       "      <th>15</th>\n",
       "      <td>1700</td>\n",
       "    </tr>\n",
       "    <tr>\n",
       "      <th>624</th>\n",
       "      <td>1735</td>\n",
       "    </tr>\n",
       "    <tr>\n",
       "      <th>564</th>\n",
       "      <td>1868</td>\n",
       "    </tr>\n",
       "    <tr>\n",
       "      <th>547</th>\n",
       "      <td>2391</td>\n",
       "    </tr>\n",
       "  </tbody>\n",
       "</table>\n",
       "<p>671 rows × 1 columns</p>\n",
       "</div>"
      ],
      "text/plain": [
       "        rating\n",
       "userId        \n",
       "1           20\n",
       "498         20\n",
       "448         20\n",
       "445         20\n",
       "444         20\n",
       "...        ...\n",
       "73        1610\n",
       "15        1700\n",
       "624       1735\n",
       "564       1868\n",
       "547       2391\n",
       "\n",
       "[671 rows x 1 columns]"
      ]
     },
     "metadata": {},
     "output_type": "display_data"
    },
    {
     "data": {
      "image/png": "[encoded data removed]",
      "text/plain": [
       "<Figure size 432x288 with 1 Axes>"
      ]
     },
     "metadata": {
      "needs_background": "light"
     },
     "output_type": "display_data"
    },
    {
     "name": "stdout",
     "output_type": "stream",
     "text": [
      "Ratings per Movie\n"
     ]
    },
    {
     "data": {
      "text/html": [
       "<div>\n",
       "<style scoped>\n",
       "    .dataframe tbody tr th:only-of-type {\n",
       "        vertical-align: middle;\n",
       "    }\n",
       "\n",
       "    .dataframe tbody tr th {\n",
       "        vertical-align: top;\n",
       "    }\n",
       "\n",
       "    .dataframe thead th {\n",
       "        text-align: right;\n",
       "    }\n",
       "</style>\n",
       "<table border=\"1\" class=\"dataframe\">\n",
       "  <thead>\n",
       "    <tr style=\"text-align: right;\">\n",
       "      <th></th>\n",
       "      <th>rating</th>\n",
       "    </tr>\n",
       "    <tr>\n",
       "      <th>movieId</th>\n",
       "      <th></th>\n",
       "    </tr>\n",
       "  </thead>\n",
       "  <tbody>\n",
       "    <tr>\n",
       "      <th>163949</th>\n",
       "      <td>1</td>\n",
       "    </tr>\n",
       "    <tr>\n",
       "      <th>26485</th>\n",
       "      <td>1</td>\n",
       "    </tr>\n",
       "    <tr>\n",
       "      <th>26480</th>\n",
       "      <td>1</td>\n",
       "    </tr>\n",
       "    <tr>\n",
       "      <th>26471</th>\n",
       "      <td>1</td>\n",
       "    </tr>\n",
       "    <tr>\n",
       "      <th>26467</th>\n",
       "      <td>1</td>\n",
       "    </tr>\n",
       "    <tr>\n",
       "      <th>...</th>\n",
       "      <td>...</td>\n",
       "    </tr>\n",
       "    <tr>\n",
       "      <th>260</th>\n",
       "      <td>291</td>\n",
       "    </tr>\n",
       "    <tr>\n",
       "      <th>593</th>\n",
       "      <td>304</td>\n",
       "    </tr>\n",
       "    <tr>\n",
       "      <th>318</th>\n",
       "      <td>311</td>\n",
       "    </tr>\n",
       "    <tr>\n",
       "      <th>296</th>\n",
       "      <td>324</td>\n",
       "    </tr>\n",
       "    <tr>\n",
       "      <th>356</th>\n",
       "      <td>341</td>\n",
       "    </tr>\n",
       "  </tbody>\n",
       "</table>\n",
       "<p>9066 rows × 1 columns</p>\n",
       "</div>"
      ],
      "text/plain": [
       "         rating\n",
       "movieId        \n",
       "163949        1\n",
       "26485         1\n",
       "26480         1\n",
       "26471         1\n",
       "26467         1\n",
       "...         ...\n",
       "260         291\n",
       "593         304\n",
       "318         311\n",
       "296         324\n",
       "356         341\n",
       "\n",
       "[9066 rows x 1 columns]"
      ]
     },
     "metadata": {},
     "output_type": "display_data"
    },
    {
     "data": {
      "image/png": "[encoded data removed]",
      "text/plain": [
       "<Figure size 432x288 with 1 Axes>"
      ]
     },
     "metadata": {
      "needs_background": "light"
     },
     "output_type": "display_data"
    }
   ],
   "source": [
    "#Check number of ratings per user\n",
    "print(\"Ratings per User:\")\n",
    "display(ratings_df[['userId','rating']].groupby('userId').count().sort_values(by = 'rating', ascending = True))\n",
    "\n",
    "\n",
    "#Show histogram of number of ratings per user\n",
    "plt.hist(ratings_df['userId'], bins = 100)\n",
    "plt.title(\"Histogram of userId\")\n",
    "plt.show()\n",
    "\n",
    "#Check number of ratings per movie\n",
    "print(\"Ratings per Movie\")\n",
    "display(ratings_df[['movieId','rating']].groupby('movieId').count().sort_values(by = 'rating', ascending = True))\n",
    "\n",
    "#Show histogram of number of ratings per movie\n",
    "plt.hist(ratings_df['movieId'], bins = 100)\n",
    "plt.ylim(0,1000)\n",
    "plt.title(\"Histogram of movieId\")\n",
    "plt.show()"
   ]
  },
  {
   "cell_type": "code",
   "execution_count": 10,
   "metadata": {},
   "outputs": [
    {
     "data": {
      "text/html": [
       "<div>\n",
       "<style scoped>\n",
       "    .dataframe tbody tr th:only-of-type {\n",
       "        vertical-align: middle;\n",
       "    }\n",
       "\n",
       "    .dataframe tbody tr th {\n",
       "        vertical-align: top;\n",
       "    }\n",
       "\n",
       "    .dataframe thead th {\n",
       "        text-align: right;\n",
       "    }\n",
       "</style>\n",
       "<table border=\"1\" class=\"dataframe\">\n",
       "  <thead>\n",
       "    <tr style=\"text-align: right;\">\n",
       "      <th></th>\n",
       "      <th>rating</th>\n",
       "    </tr>\n",
       "    <tr>\n",
       "      <th>userId</th>\n",
       "      <th></th>\n",
       "    </tr>\n",
       "  </thead>\n",
       "  <tbody>\n",
       "    <tr>\n",
       "      <th>1</th>\n",
       "      <td>20</td>\n",
       "    </tr>\n",
       "    <tr>\n",
       "      <th>498</th>\n",
       "      <td>20</td>\n",
       "    </tr>\n",
       "    <tr>\n",
       "      <th>448</th>\n",
       "      <td>20</td>\n",
       "    </tr>\n",
       "    <tr>\n",
       "      <th>445</th>\n",
       "      <td>20</td>\n",
       "    </tr>\n",
       "    <tr>\n",
       "      <th>444</th>\n",
       "      <td>20</td>\n",
       "    </tr>\n",
       "    <tr>\n",
       "      <th>...</th>\n",
       "      <td>...</td>\n",
       "    </tr>\n",
       "    <tr>\n",
       "      <th>73</th>\n",
       "      <td>1610</td>\n",
       "    </tr>\n",
       "    <tr>\n",
       "      <th>15</th>\n",
       "      <td>1700</td>\n",
       "    </tr>\n",
       "    <tr>\n",
       "      <th>624</th>\n",
       "      <td>1735</td>\n",
       "    </tr>\n",
       "    <tr>\n",
       "      <th>564</th>\n",
       "      <td>1868</td>\n",
       "    </tr>\n",
       "    <tr>\n",
       "      <th>547</th>\n",
       "      <td>2391</td>\n",
       "    </tr>\n",
       "  </tbody>\n",
       "</table>\n",
       "<p>671 rows × 1 columns</p>\n",
       "</div>"
      ],
      "text/plain": [
       "        rating\n",
       "userId        \n",
       "1           20\n",
       "498         20\n",
       "448         20\n",
       "445         20\n",
       "444         20\n",
       "...        ...\n",
       "73        1610\n",
       "15        1700\n",
       "624       1735\n",
       "564       1868\n",
       "547       2391\n",
       "\n",
       "[671 rows x 1 columns]"
      ]
     },
     "metadata": {},
     "output_type": "display_data"
    }
   ],
   "source": [
    "# Check how many users have 2 or more ratings\n",
    "display(ratings_df[['userId','rating']].groupby('userId').count().sort_values(by = 'rating', ascending = True))"
   ]
  },
  {
   "cell_type": "code",
   "execution_count": 11,
   "metadata": {},
   "outputs": [
    {
     "data": {
      "text/plain": [
       "<AxesSubplot:xlabel='datetime'>"
      ]
     },
     "execution_count": 11,
     "metadata": {},
     "output_type": "execute_result"
    },
    {
     "data": {
      "image/png": "[encoded data removed]",
      "text/plain": [
       "<Figure size 432x288 with 1 Axes>"
      ]
     },
     "metadata": {
      "needs_background": "light"
     },
     "output_type": "display_data"
    }
   ],
   "source": [
    "ratings_by_date = ratings_df[['datetime','rating']].groupby('datetime').count().sort_values(by = 'rating', ascending = True)\n",
    "\n",
    "ratings_by_date.plot()"
   ]
  },
  {
   "cell_type": "markdown",
   "metadata": {},
   "source": [
    "### Part 3: Baseline Collaborative Filtering Model"
   ]
  },
  {
   "cell_type": "code",
   "execution_count": 12,
   "metadata": {},
   "outputs": [
    {
     "name": "stdout",
     "output_type": "stream",
     "text": [
      "Requirement already satisfied: recmetrics in /opt/anaconda3/lib/python3.8/site-packages (0.1.0)\n",
      "Requirement already satisfied: plotly<5.0.0,>=4.11.0 in /opt/anaconda3/lib/python3.8/site-packages (from recmetrics) (4.14.3)\n",
      "Requirement already satisfied: scikit-surprise<2.0.0,>=1.1.1 in /opt/anaconda3/lib/python3.8/site-packages (from recmetrics) (1.1.1)\n",
      "Requirement already satisfied: scikit-learn<0.24.0,>=0.23.2 in /opt/anaconda3/lib/python3.8/site-packages (from recmetrics) (0.23.2)\n",
      "Requirement already satisfied: pytest-cov<3.0.0,>=2.10.1 in /opt/anaconda3/lib/python3.8/site-packages (from recmetrics) (2.12.1)\n",
      "Requirement already satisfied: pandas<2.0.0,>=1.1.3 in /opt/anaconda3/lib/python3.8/site-packages (from recmetrics) (1.3.0)\n",
      "Requirement already satisfied: ipython<8.0.0,>=7.18.1 in /opt/anaconda3/lib/python3.8/site-packages (from recmetrics) (7.25.0)\n",
      "Requirement already satisfied: matplotlib<4.0.0,>=3.3.2 in /opt/anaconda3/lib/python3.8/site-packages (from recmetrics) (3.4.2)\n",
      "Requirement already satisfied: seaborn<0.12.0,>=0.11.0 in /opt/anaconda3/lib/python3.8/site-packages (from recmetrics) (0.11.1)\n",
      "Requirement already satisfied: scipy<2.0.0,>=1.5.2 in /opt/anaconda3/lib/python3.8/site-packages (from recmetrics) (1.7.0)\n",
      "Requirement already satisfied: funcsigs<2.0.0,>=1.0.2 in /opt/anaconda3/lib/python3.8/site-packages (from recmetrics) (1.0.2)\n",
      "Requirement already satisfied: retrying>=1.3.3 in /opt/anaconda3/lib/python3.8/site-packages (from plotly<5.0.0,>=4.11.0->recmetrics) (1.3.3)\n",
      "Requirement already satisfied: six in /opt/anaconda3/lib/python3.8/site-packages (from plotly<5.0.0,>=4.11.0->recmetrics) (1.15.0)\n",
      "Requirement already satisfied: joblib>=0.11 in /opt/anaconda3/lib/python3.8/site-packages (from scikit-surprise<2.0.0,>=1.1.1->recmetrics) (0.16.0)\n",
      "Requirement already satisfied: numpy>=1.11.2 in /opt/anaconda3/lib/python3.8/site-packages (from scikit-surprise<2.0.0,>=1.1.1->recmetrics) (1.19.5)\n",
      "Requirement already satisfied: threadpoolctl>=2.0.0 in /opt/anaconda3/lib/python3.8/site-packages (from scikit-learn<0.24.0,>=0.23.2->recmetrics) (2.1.0)\n",
      "Requirement already satisfied: toml in /opt/anaconda3/lib/python3.8/site-packages (from pytest-cov<3.0.0,>=2.10.1->recmetrics) (0.10.1)\n",
      "Requirement already satisfied: coverage>=5.2.1 in /opt/anaconda3/lib/python3.8/site-packages (from pytest-cov<3.0.0,>=2.10.1->recmetrics) (5.5)\n",
      "Requirement already satisfied: pytest>=4.6 in /opt/anaconda3/lib/python3.8/site-packages (from pytest-cov<3.0.0,>=2.10.1->recmetrics) (5.4.3)\n",
      "Requirement already satisfied: pytz>=2017.3 in /opt/anaconda3/lib/python3.8/site-packages (from pandas<2.0.0,>=1.1.3->recmetrics) (2020.1)\n",
      "Requirement already satisfied: python-dateutil>=2.7.3 in /opt/anaconda3/lib/python3.8/site-packages (from pandas<2.0.0,>=1.1.3->recmetrics) (2.8.1)\n",
      "Requirement already satisfied: pickleshare in /opt/anaconda3/lib/python3.8/site-packages (from ipython<8.0.0,>=7.18.1->recmetrics) (0.7.5)\n",
      "Requirement already satisfied: traitlets>=4.2 in /opt/anaconda3/lib/python3.8/site-packages (from ipython<8.0.0,>=7.18.1->recmetrics) (4.3.3)\n",
      "Requirement already satisfied: backcall in /opt/anaconda3/lib/python3.8/site-packages (from ipython<8.0.0,>=7.18.1->recmetrics) (0.2.0)\n",
      "Requirement already satisfied: setuptools>=18.5 in /opt/anaconda3/lib/python3.8/site-packages (from ipython<8.0.0,>=7.18.1->recmetrics) (49.2.0.post20200714)\n",
      "Requirement already satisfied: jedi>=0.16 in /opt/anaconda3/lib/python3.8/site-packages (from ipython<8.0.0,>=7.18.1->recmetrics) (0.17.1)\n",
      "Requirement already satisfied: matplotlib-inline in /opt/anaconda3/lib/python3.8/site-packages (from ipython<8.0.0,>=7.18.1->recmetrics) (0.1.2)\n",
      "Requirement already satisfied: decorator in /opt/anaconda3/lib/python3.8/site-packages (from ipython<8.0.0,>=7.18.1->recmetrics) (4.4.2)\n",
      "Requirement already satisfied: appnope; sys_platform == \"darwin\" in /opt/anaconda3/lib/python3.8/site-packages (from ipython<8.0.0,>=7.18.1->recmetrics) (0.1.0)\n",
      "Requirement already satisfied: pexpect>4.3; sys_platform != \"win32\" in /opt/anaconda3/lib/python3.8/site-packages (from ipython<8.0.0,>=7.18.1->recmetrics) (4.8.0)\n",
      "Requirement already satisfied: pygments in /opt/anaconda3/lib/python3.8/site-packages (from ipython<8.0.0,>=7.18.1->recmetrics) (2.6.1)\n",
      "Requirement already satisfied: prompt-toolkit!=3.0.0,!=3.0.1,<3.1.0,>=2.0.0 in /opt/anaconda3/lib/python3.8/site-packages (from ipython<8.0.0,>=7.18.1->recmetrics) (3.0.5)\n",
      "Requirement already satisfied: pyparsing>=2.2.1 in /opt/anaconda3/lib/python3.8/site-packages (from matplotlib<4.0.0,>=3.3.2->recmetrics) (2.4.7)\n",
      "Requirement already satisfied: pillow>=6.2.0 in /opt/anaconda3/lib/python3.8/site-packages (from matplotlib<4.0.0,>=3.3.2->recmetrics) (7.2.0)\n",
      "Requirement already satisfied: cycler>=0.10 in /opt/anaconda3/lib/python3.8/site-packages (from matplotlib<4.0.0,>=3.3.2->recmetrics) (0.10.0)\n",
      "Requirement already satisfied: kiwisolver>=1.0.1 in /opt/anaconda3/lib/python3.8/site-packages (from matplotlib<4.0.0,>=3.3.2->recmetrics) (1.2.0)\n",
      "Requirement already satisfied: py>=1.5.0 in /opt/anaconda3/lib/python3.8/site-packages (from pytest>=4.6->pytest-cov<3.0.0,>=2.10.1->recmetrics) (1.9.0)\n",
      "Requirement already satisfied: packaging in /opt/anaconda3/lib/python3.8/site-packages (from pytest>=4.6->pytest-cov<3.0.0,>=2.10.1->recmetrics) (20.4)\n",
      "Requirement already satisfied: attrs>=17.4.0 in /opt/anaconda3/lib/python3.8/site-packages (from pytest>=4.6->pytest-cov<3.0.0,>=2.10.1->recmetrics) (19.3.0)\n",
      "Requirement already satisfied: more-itertools>=4.0.0 in /opt/anaconda3/lib/python3.8/site-packages (from pytest>=4.6->pytest-cov<3.0.0,>=2.10.1->recmetrics) (8.4.0)\n",
      "Requirement already satisfied: pluggy<1.0,>=0.12 in /opt/anaconda3/lib/python3.8/site-packages (from pytest>=4.6->pytest-cov<3.0.0,>=2.10.1->recmetrics) (0.13.1)\n",
      "Requirement already satisfied: wcwidth in /opt/anaconda3/lib/python3.8/site-packages (from pytest>=4.6->pytest-cov<3.0.0,>=2.10.1->recmetrics) (0.2.5)\n",
      "Requirement already satisfied: ipython-genutils in /opt/anaconda3/lib/python3.8/site-packages (from traitlets>=4.2->ipython<8.0.0,>=7.18.1->recmetrics) (0.2.0)\n",
      "Requirement already satisfied: parso<0.8.0,>=0.7.0 in /opt/anaconda3/lib/python3.8/site-packages (from jedi>=0.16->ipython<8.0.0,>=7.18.1->recmetrics) (0.7.0)\n",
      "Requirement already satisfied: ptyprocess>=0.5 in /opt/anaconda3/lib/python3.8/site-packages (from pexpect>4.3; sys_platform != \"win32\"->ipython<8.0.0,>=7.18.1->recmetrics) (0.6.0)\n"
     ]
    }
   ],
   "source": [
    "#Install recmetrics library for calculating diversity metrics \n",
    "#Source: https://github.com/statisticianinstilettos/recmetrics\n",
    "!pip install recmetrics"
   ]
  },
  {
   "cell_type": "code",
   "execution_count": 13,
   "metadata": {},
   "outputs": [],
   "source": [
    "#Load surprise packages which is a modified sklearn for recommender systems. \n",
    "from surprise import Reader\n",
    "from surprise import SVD\n",
    "from surprise import KNNBasic\n",
    "from surprise import Dataset\n",
    "from surprise import Trainset\n",
    "from surprise import accuracy\n",
    "from surprise.model_selection import LeaveOneOut\n",
    "from sklearn.preprocessing import MinMaxScaler\n",
    "\n",
    "from itertools import combinations\n",
    "\n",
    "#Load recmetrics package\n",
    "#import recmetrics.metrics"
   ]
  },
  {
   "cell_type": "code",
   "execution_count": 14,
   "metadata": {},
   "outputs": [],
   "source": [
    "def filter_users(df, min_ratings):\n",
    "    \n",
    "    '''Filter users with num_ratings below [min_ratings]\n",
    "    and sort data by userID and timestamp\n",
    "    params: df, min_ratings\n",
    "    return: sorted_filtered_array\n",
    "    '''\n",
    "    \n",
    "    # convert pd.DataFrame in a np.Array\n",
    "    array = np.array(df)\n",
    "    # count number of ratings per userID\n",
    "    userID, num_ratings = np.unique(array[:,0], return_counts=True)\n",
    "    ratings_per_user = np.asarray((userID, num_ratings)).T\n",
    "    # filter userIDs with num_ratings >= min_ratings\n",
    "    users_to_include = ratings_per_user[ratings_per_user[:,1] >= min_ratings][:,0]\n",
    "    filtered_array = array[np.isin(array[:,0], users_to_include)]\n",
    "    # sort np.array by userID as primary key and timestamp as secondary key\n",
    "    idx = np.lexsort((filtered_array[:,3], filtered_array[:,0]))\n",
    "    sorted_filtered_array = filtered_array[idx]\n",
    "    return sorted_filtered_array"
   ]
  },
  {
   "cell_type": "code",
   "execution_count": 15,
   "metadata": {},
   "outputs": [],
   "source": [
    "def train_dev_test_split(array, dev_size=1, test_size=1):\n",
    "    \n",
    "    '''Split user ratings data into train, development and test sets\n",
    "    holding [test_size] ratings per user for test and [dev_size] ratings\n",
    "    per user for development, following chronological order (ascending timestamp)\n",
    "    params: df, min_ratings, dev_size, test_size\n",
    "    return: train_data, dev_data, test_data for one user\n",
    "    '''\n",
    "    \n",
    "    # get array of unique userIDs\n",
    "    users = np.unique(array[:,0])\n",
    "    # get indexes to slice data\n",
    "    idx_1 = -(dev_size + test_size)\n",
    "    idx_2 = -(test_size)\n",
    "    # for each userID assign the last [test_size] ratings to test,\n",
    "    # the previous [dev_size] ratings to development,\n",
    "    # and the rest of ratings data to training\n",
    "    for i, userID in enumerate(users):\n",
    "        if i == 0:\n",
    "            train_data = array[array[:,0]==userID][:idx_1,:]\n",
    "            dev_data = array[array[:,0]==userID][idx_1:idx_2,:]\n",
    "            test_data = array[array[:,0]==userID][idx_2:,:]\n",
    "        else:\n",
    "            train_data = np.vstack((train_data, array[array[:,0]==userID][:idx_1,:]))\n",
    "            dev_data = np.vstack((dev_data, array[array[:,0]==userID][idx_1:idx_2,:]))\n",
    "            test_data = np.vstack((test_data, array[array[:,0]==userID][idx_2:,:]))\n",
    "    # return train_data, dev_data and test_data\n",
    "    return train_data, dev_data, test_data"
   ]
  },
  {
   "cell_type": "code",
   "execution_count": 16,
   "metadata": {},
   "outputs": [],
   "source": [
    "def GetTopN(predictions, n=10, minimumRating=0.0):\n",
    "    '''Get the top n predicted movie ratings for a given user.'''\n",
    "    topN = defaultdict(list)\n",
    "    for userID, movieID, actualRating, estimatedRating, _ in predictions:\n",
    "        if (estimatedRating >= minimumRating):\n",
    "            topN[int(userID)].append((int(movieID), estimatedRating))\n",
    "\n",
    "    for userID, ratings in topN.items():\n",
    "        ratings.sort(key=lambda x: x[1], reverse=True)\n",
    "        topN[int(userID)] = ratings[:n]\n",
    "\n",
    "    return topN"
   ]
  },
  {
   "cell_type": "code",
   "execution_count": 17,
   "metadata": {},
   "outputs": [],
   "source": [
    "def HitRate(topNpredictions,leftoutpredictions):\n",
    "    '''Take the most recent rating out of the training set to use in our test set, \n",
    "    and the second most recent to use in our dev set. If the top-n list of recommendations (predicted ratings)\n",
    "    for a user contain the dev / test movie, we increase hit ratio by 1\n",
    "    \n",
    "    Source: https://medium.com/@rishabhbhatia315/recommendation-system-evaluation-metrics-3f6739288870''' \n",
    "    \n",
    "    hits=0\n",
    "    total=0\n",
    "    for leftout in leftoutpredictions:\n",
    "        userID = leftout[0]\n",
    "        leftoutmovieId = leftout[1]\n",
    "        hit = False\n",
    "        for movieId ,predictedRating in topNpredictions[int(userID)]:\n",
    "            if(int(movieId)==int(leftoutmovieId)):\n",
    "                hit = True\n",
    "        if(hit):\n",
    "            hits+=1\n",
    "        total+=1 \n",
    "    \n",
    "    return hits/total "
   ]
  },
  {
   "cell_type": "code",
   "execution_count": 18,
   "metadata": {},
   "outputs": [],
   "source": [
    "def HitRateAdjusted(topNpredictions,leftoutpredictions):\n",
    "    '''Take the most recent rating out of the training set to use in our test set, \n",
    "    and the second most recent to use in our dev set. If the top-n list of recommendations (predicted ratings)\n",
    "    for a user contain the dev / test movie, we increase hit ratio by 1 \n",
    "    OR if the leftout movie is lower rated than the top n list (i.e. we correctly would not recommend to user) increase hit rate by 1.\n",
    "    \n",
    "    Source: https://medium.com/@rishabhbhatia315/recommendation-system-evaluation-metrics-3f6739288870''' \n",
    "    \n",
    "    hits=0\n",
    "    total=0\n",
    "    for leftout in leftoutpredictions:\n",
    "        userID = leftout[0]\n",
    "        leftoutmovieId = leftout[1]\n",
    "        leftoutrating = leftout[2]\n",
    "        \n",
    "        hit = False\n",
    "        \n",
    "        topNmovies = []\n",
    "        topNRatings = []\n",
    "        \n",
    "        for movieId ,predictedRating in topNpredictions[int(userID)]:\n",
    "            topNmovies.append(movieId)\n",
    "            topNRatings.append(predictedRating)\n",
    "        \n",
    "        max_top_N_rating = max(topNRatings)\n",
    "        min_top_N_rating = min(topNRatings)\n",
    "        \n",
    "        if leftoutrating < min_top_N_rating and leftoutmovieId not in topNmovies: \n",
    "            hit = True\n",
    "        elif leftoutrating > min_top_N_rating and leftoutmovieId in topNmovies: \n",
    "            hit = True\n",
    "        else: \n",
    "            hit = False\n",
    "        \n",
    "        if(hit):\n",
    "            hits+=1\n",
    "        total+=1 \n",
    "    \n",
    "    return hits/total "
   ]
  },
  {
   "cell_type": "code",
   "execution_count": 19,
   "metadata": {},
   "outputs": [],
   "source": [
    "def Diversity(topNPredicted, simsAlgo):\n",
    "    '''where simsalgo = similarities.cosine() from surprise.'''\n",
    "    n = 0\n",
    "    total = 0\n",
    "    simsMatrix = simsAlgo.compute_similarities()\n",
    "    for userID in topNPredicted.keys():\n",
    "        pairs = itertools.combinations(topNPredicted[userID], 2)\n",
    "        for pair in pairs:\n",
    "            movie1 = pair[0][0]\n",
    "            movie2 = pair[1][0]\n",
    "            innerID1 = simsAlgo.trainset.to_inner_iid(str(movie1))\n",
    "            innerID2 = simsAlgo.trainset.to_inner_iid(str(movie2))\n",
    "            similarity = simsMatrix[innerID1][innerID2]\n",
    "            total += similarity\n",
    "            n += 1\n",
    "            \n",
    "    S = total / n\n",
    "    return (1-S)"
   ]
  },
  {
   "cell_type": "code",
   "execution_count": 20,
   "metadata": {},
   "outputs": [],
   "source": [
    "def Novelty(topNPredicted, rankings):\n",
    "    n = 0\n",
    "    total = 0\n",
    "    for userID in topNPredicted.keys():\n",
    "        for rating in topNPredicted[userID]:\n",
    "            movieID = rating[0]\n",
    "            rank = rankings[movieID]\n",
    "            total += rank\n",
    "            n += 1\n",
    "    return total / n"
   ]
  },
  {
   "cell_type": "markdown",
   "metadata": {},
   "source": [
    "Good image to load in this spot: \n",
    "    https://www.google.com/url?sa=i&url=https%3A%2F%2Fstats.stackexchange.com%2Fquestions%2F390629%2Freference-point-in-projection-axis-of-svd-singular-value-decomposition&psig=AOvVaw1Lsj4Ue1mqmrwy-4FUoV7X&ust=1625783276443000&source=images&cd=vfe&ved=0CAoQjRxqFwoTCLDL7_GA0vECFQAAAAAdAAAAABA1   "
   ]
  },
  {
   "cell_type": "markdown",
   "metadata": {},
   "source": [
    "### Implementation of our SVD Algorithm for Matrix Factorization based Collaborative Filtering: "
   ]
  },
  {
   "cell_type": "markdown",
   "metadata": {},
   "source": [
    "#### Normalize Movie Ratings by User. This way ratings are not impacted by \"optimistic\" and \"pessimistic\" reviewers. \n",
    "##### Normalized Rating = (Item_Rating - User_Avg_Rating) / User_Std_Dev. "
   ]
  },
  {
   "cell_type": "code",
   "execution_count": 144,
   "metadata": {},
   "outputs": [
    {
     "name": "stdout",
     "output_type": "stream",
     "text": [
      "time: 1.38 ms (started: 2021-07-25 16:02:10 -06:00)\n"
     ]
    }
   ],
   "source": [
    "def custStandardScaler(train_data, dev_data, test_data): \n",
    "    '''Apply both StandardScaler and MinMaxScaler operations on our\n",
    "    data, by user. Return both non-adjusted and adjusted dataframes.\n",
    "    6 dataframes in total.'''\n",
    "    \n",
    "    #Convert train/dev/test data to df's for easy calculations. \n",
    "    train_df = pd.DataFrame(train_data)\n",
    "    dev_df = pd.DataFrame(dev_data)\n",
    "    test_df = pd.DataFrame(test_data)\n",
    "\n",
    "    #Rename columns\n",
    "    train_df.columns = [\"userId\", \"movieId\",\"rating\"]\n",
    "    dev_df.columns = [\"userId\", \"movieId\",\"rating\"]\n",
    "    test_df.columns = [\"userId\", \"movieId\",\"rating\"]\n",
    "\n",
    "    #Calculate mean and std. for each user's ratings in the training data (i.e. fit on training data). \n",
    "    #Equivalent to StandardScaler in sklearn. \n",
    "    train_df['user_avg_ratings'] = train_df.groupby(\"userId\")[\"rating\"].transform('mean')\n",
    "    train_df['user_std_dev'] = train_df.groupby(\"userId\")[\"rating\"].transform('std')\n",
    "    train_df['std_rating'] = (train_df['rating'] - train_df['user_avg_ratings']) / train_df['user_std_dev']\n",
    "\n",
    "    #Now apply to dev and test data\n",
    "    dev_df['user_avg_ratings'] = train_df.groupby(\"userId\")[\"rating\"].transform('mean')\n",
    "    dev_df['user_std_dev'] = train_df.groupby(\"userId\")[\"rating\"].transform('std')\n",
    "    dev_df['std_rating'] = (dev_df['rating'] - train_df['user_avg_ratings']) / train_df['user_std_dev']\n",
    "\n",
    "    test_df['user_avg_ratings'] = train_df.groupby(\"userId\")[\"rating\"].transform('mean')\n",
    "    test_df['user_std_dev'] = train_df.groupby(\"userId\")[\"rating\"].transform('std')\n",
    "    test_df['std_rating'] = (test_df['rating'] - train_df['user_avg_ratings']) / train_df['user_std_dev']\n",
    "\n",
    "    #Now we must scale the data to get back to ratings between 0 and 5. \n",
    "    #Equivalent of MinMaxScaler() in sklearn. \n",
    "    train_df['min_std_rating'] = train_df.groupby(\"userId\")[\"std_rating\"].transform('min')\n",
    "    train_df['max_std_rating'] = train_df.groupby(\"userId\")[\"std_rating\"].transform('max')\n",
    "    train_df['std_sc_rating'] = ((train_df['std_rating'] - train_df['min_std_rating']) / (train_df['max_std_rating']- train_df['min_std_rating'])) * 5\n",
    "\n",
    "    #Now apply to dev and test data\n",
    "    dev_df['min_std_rating'] = train_df.groupby(\"userId\")[\"std_rating\"].transform('min')\n",
    "    dev_df['max_std_rating'] = train_df.groupby(\"userId\")[\"std_rating\"].transform('max')\n",
    "    dev_df['std_sc_rating'] = ((dev_df['std_rating'] - train_df['min_std_rating']) / (train_df['max_std_rating']- train_df['min_std_rating'])) * 5\n",
    "\n",
    "    test_df['min_std_rating'] = train_df.groupby(\"userId\")[\"std_rating\"].transform('min')\n",
    "    test_df['max_std_rating'] = train_df.groupby(\"userId\")[\"std_rating\"].transform('max')\n",
    "    test_df['std_sc_rating'] = ((test_df['std_rating'] - train_df['min_std_rating']) / (train_df['max_std_rating']- train_df['min_std_rating'])) * 5\n",
    "\n",
    "    #Finally we return the raw and adjusted ratings as two different df objects\n",
    "    train_df_abs = train_df[['userId','movieId','rating']]\n",
    "    dev_df_abs = dev_df[['userId','movieId','rating']]\n",
    "    test_df_abs = test_df[['userId','movieId','rating']]\n",
    "\n",
    "    \n",
    "    train_df_sc = train_df[['userId','movieId','std_sc_rating']]\n",
    "    dev_df_sc = dev_df[['userId','movieId','std_sc_rating']]\n",
    "    test_df_sc = test_df[['userId','movieId','std_sc_rating']]\n",
    "    \n",
    "    #Rename rating column so that all dataframes are consistent. \n",
    "    train_df_sc.columns = [\"userId\", \"movieId\",\"rating\"]\n",
    "    dev_df_sc.columns = [\"userId\", \"movieId\",\"rating\"]\n",
    "    test_df_sc.columns = [\"userId\", \"movieId\",\"rating\"]\n",
    "    \n",
    "    return train_df_abs, dev_df_abs, test_df_abs, train_df_sc, dev_df_sc, test_df_sc"
   ]
  },
  {
   "cell_type": "markdown",
   "metadata": {},
   "source": [
    "#### Train, Val, Test Splits for both Unadjusted and Adjusted Ratings"
   ]
  },
  {
   "cell_type": "code",
   "execution_count": 147,
   "metadata": {},
   "outputs": [
    {
     "name": "stdout",
     "output_type": "stream",
     "text": [
      "time: 6.14 s (started: 2021-07-25 16:08:24 -06:00)\n"
     ]
    }
   ],
   "source": [
    "#Filter our user list to those users who have 30+ ratings\n",
    "filtered_data = filter_users(ratings_df, min_ratings = 30)\n",
    "\n",
    "#Now split our data so that we take the n-1 (most recent) rating as our test rating, \n",
    "#and n-2 (second most recent) rating as our dev rating \n",
    "train_data, dev_data, test_data = train_dev_test_split(filtered_data)\n",
    "\n",
    "#We no longer need timestamp / datatime data. \n",
    "train_data = train_data[:,0:3]\n",
    "dev_data = dev_data[:,0:3]\n",
    "test_data = test_data[:,0:3]\n",
    "\n",
    "#Now we need to convert our train, dev, and test data back to the Suprise Dataset object type to use their SVD algorithm. \n",
    "#First we convert each train/dev/test arrays into dataframes\n",
    "# train_df = pd.DataFrame(train_data, index = None, columns = ['userId', 'movieId','rating'])\n",
    "# dev_df = pd.DataFrame(dev_data, index = None, columns = ['userId', 'movieId','rating'])\n",
    "# test_df = pd.DataFrame(test_data, index = None, columns = ['userId', 'movieId','rating'])\n",
    "\n",
    "train_df_abs, dev_df_abs, test_df_abs, train_df_sc, dev_df_sc, test_df_sc = custStandardScaler(train_data, dev_data, test_data)\n",
    "\n",
    "\n",
    "#Create a surprise Reader object to help us create a Surprise DataSet object. \n",
    "reader = Reader()\n",
    "\n",
    "#Now we load training data as is (no folding) by calling the .build_full_trainset() method. \n",
    "#This is for our unadjusted ratings. \n",
    "train_data_abs = Dataset.load_from_df(train_df_abs, reader).build_full_trainset()\n",
    "\n",
    "#Convert dev_data and test_data to DataSet objects, and then as testset objects by calling .buildtestset()\n",
    "dev_data_abs = Dataset.load_from_df(dev_df_abs, reader).build_full_trainset()\n",
    "dev_data_abs = dev_data_abs.build_testset()\n",
    "\n",
    "test_data_abs = Dataset.load_from_df(test_df_abs, reader).build_full_trainset()\n",
    "test_data_abs = test_data_abs.build_testset()\n",
    "\n",
    "#Repeat for our normalized and scaled ratings. \n",
    "train_data_sc = Dataset.load_from_df(train_df_sc, reader).build_full_trainset()\n",
    "\n",
    "#Convert dev_data and test_data to DataSet objects, and then as testset objects by calling .buildtestset()\n",
    "dev_data_sc = Dataset.load_from_df(dev_df_sc, reader).build_full_trainset()\n",
    "dev_data_sc = dev_data_sc.build_testset()\n",
    "\n",
    "test_data_sc = Dataset.load_from_df(test_df_sc, reader).build_full_trainset()\n",
    "test_data_sc = test_data_sc.build_testset()\n"
   ]
  },
  {
   "cell_type": "markdown",
   "metadata": {},
   "source": [
    "#### Train and Test Baseline Model"
   ]
  },
  {
   "cell_type": "markdown",
   "metadata": {},
   "source": [
    "##### First compare our adjusted and unadjusted ratings performance to\n",
    "##### ensure we can move forward with the normalized and scaled ratings. "
   ]
  },
  {
   "cell_type": "code",
   "execution_count": 149,
   "metadata": {},
   "outputs": [
    {
     "name": "stdout",
     "output_type": "stream",
     "text": [
      "Hit Rate for n = 10: 0.018\n",
      "Adjusted Hit Rate for n = 10: 0.736\n",
      "Root Mean Squared Error: 0.940\n",
      "Hit Rate for n = 10: 0.016\n",
      "Adjusted Hit Rate for n = 10: 0.720\n",
      "Root Mean Squared Error: 1.313\n",
      "time: 1min 13s (started: 2021-07-25 16:13:50 -06:00)\n"
     ]
    }
   ],
   "source": [
    "#Train and test algorithm (Matrix Factorization for Collaborative Filtering)\n",
    "algo = SVD()\n",
    "\n",
    "#Train our train_data (all user's that have liked 30+ movies, train on the n-2 movie set)\n",
    "algo.fit(train_data_abs)\n",
    "\n",
    "#Predict rating for the 1 dev movie\n",
    "leftoutpredictions = algo.test(dev_data_abs)\n",
    "\n",
    "#Now predict ratings for all movies that are not in the trainingset\n",
    "largeTestSet = train_data_abs.build_anti_testset()\n",
    "allPredictions = algo.test(largeTestSet)\n",
    "\n",
    "#Set our n value for how how many top predicted movies we'll test against\n",
    "n = 10\n",
    "\n",
    "#Compute top 10 recs for each user using our defined topNPredicted Function above\n",
    "topNPredicted = GetTopN(allPredictions, n=n)\n",
    "\n",
    "#Calculate our evaluation metrics of interest\n",
    "hit_rate = HitRate(topNPredicted, leftoutpredictions)\n",
    "adjusted_hit_rate = HitRateAdjusted(topNPredicted, leftoutpredictions)\n",
    "rmse = accuracy.rmse(leftoutpredictions, verbose = False)\n",
    "\n",
    "#Print our evaluation metrics of interest\n",
    "print(f'Hit Rate for n = {n}: {hit_rate:.3f}')\n",
    "print(f'Adjusted Hit Rate for n = {n}: {adjusted_hit_rate:.3f}')\n",
    "print(f'Root Mean Squared Error: {rmse:.3f}')\n",
    "\n",
    "\n",
    "#Train and test algorithm (Matrix Factorization for Collaborative Filtering)\n",
    "algo = SVD()\n",
    "\n",
    "#Train our train_data (all user's that have liked 30+ movies, train on the n-2 movie set)\n",
    "algo.fit(train_data_sc)\n",
    "\n",
    "#Predict rating for the 1 dev movie\n",
    "leftoutpredictions = algo.test(dev_data_sc)\n",
    "\n",
    "#Now predict ratings for all movies that are not in the trainingset\n",
    "largeTestSet = train_data_sc.build_anti_testset()\n",
    "allPredictions = algo.test(largeTestSet)\n",
    "\n",
    "#Set our n value for how how many top predicted movies we'll test against\n",
    "n = 10\n",
    "\n",
    "#Compute top 10 recs for each user using our defined topNPredicted Function above\n",
    "topNPredicted = GetTopN(allPredictions, n=n)\n",
    "\n",
    "#Calculate our evaluation metrics of interest\n",
    "hit_rate = HitRate(topNPredicted, leftoutpredictions)\n",
    "adjusted_hit_rate = HitRateAdjusted(topNPredicted, leftoutpredictions)\n",
    "rmse = accuracy.rmse(leftoutpredictions, verbose = False)\n",
    "\n",
    "#Print our evaluation metrics of interest\n",
    "print(f'Hit Rate for n = {n}: {hit_rate:.3f}')\n",
    "print(f'Adjusted Hit Rate for n = {n}: {adjusted_hit_rate:.3f}')\n",
    "print(f'Root Mean Squared Error: {rmse:.3f}')"
   ]
  },
  {
   "cell_type": "markdown",
   "metadata": {},
   "source": [
    "#### Create a dictionary of \"rankings\" (number of ratings in dataset, which will be our popularity measure). "
   ]
  },
  {
   "cell_type": "code",
   "execution_count": 23,
   "metadata": {},
   "outputs": [
    {
     "name": "stdout",
     "output_type": "stream",
     "text": [
      "Novelty for n = 10: 89.676\n"
     ]
    }
   ],
   "source": [
    "#Try calculating some diversity metrics from recmetrics\n",
    "\n",
    "#1.) Novelty\n",
    "rankings = ratings_df[\"movieId\"].value_counts()\n",
    "\n",
    "novelty = Novelty(topNPredicted, rankings)\n",
    "\n",
    "print(f'Novelty for n = {n}: {novelty:.3f}')\n",
    "\n",
    "#2.) Diversity (WIP)\n",
    "#c = {'name':'cosine', 'user_based': True}\n",
    "\n",
    "#simsAlgo = KNNBasic(sim_options = c)\n",
    "\n",
    "# diversity = Diversity(topNPredicted, simsAlgo = algo)"
   ]
  },
  {
   "cell_type": "markdown",
   "metadata": {},
   "source": [
    "##### Scale our rankings (popularity) to be on same scale as ratings (0,5) using min_max scaler. "
   ]
  },
  {
   "cell_type": "code",
   "execution_count": 24,
   "metadata": {},
   "outputs": [],
   "source": [
    "#Let's standardize our rankings to be able to be used together \n",
    "scaler = MinMaxScaler(feature_range = (0,5))\n",
    "ranking_movieID = rankings.index.to_numpy()\n",
    "\n",
    "sc_rankings = rankings.to_numpy().reshape(-1,1)\n",
    "sc_rankings = scaler.fit_transform(sc_rankings)\n",
    "\n",
    "sc_rankings = sc_rankings.tolist()\n",
    "\n",
    "#TODO: Check that this adjustment makes sense and keeps ranking meaning \n",
    "#Since ranking is actually just a movieID count in the dataset, we need to inverse the value\n",
    "#by multiplying by -1, and then renormalize to 0,5 scale by adding 5. So that least popular movies\n",
    "#have rating close to 5 and most popular movies have ratings close to 0. \n",
    "sc_rankings = [(float(i[0])*-1)+5 for i in sc_rankings]\n",
    "\n",
    "ranking_movieID = ranking_movieID.tolist()"
   ]
  },
  {
   "cell_type": "markdown",
   "metadata": {},
   "source": [
    "#### Add Diversity Into Optimization Problem (Modified Cost Function)"
   ]
  },
  {
   "cell_type": "code",
   "execution_count": 45,
   "metadata": {},
   "outputs": [
    {
     "name": "stdout",
     "output_type": "stream",
     "text": [
      "time: 668 µs (started: 2021-07-25 12:53:26 -06:00)\n"
     ]
    }
   ],
   "source": [
    "#Pull top-10 predicted ratings + rankings. This is our new ordered list. \n",
    "def GetTopNBlended(predictions, ranking_list, ranking_movies, n=10, minimumRating=0.0, w1 = 0.5, w2 = 0.5):\n",
    "    '''Get the top n predicted movie ratings for a given user.'''\n",
    "    topN = defaultdict(list)\n",
    "    remainingN = defaultdict(list)\n",
    "    \n",
    "    for userID, movieID, actualRating, estimatedRating, _ in predictions:\n",
    "        if (estimatedRating >= minimumRating):\n",
    "            \n",
    "            #Adjustment to solve for novelty within equation\n",
    "            noveltyRanking = ranking_list[ranking_movies.index(movieID)]\n",
    "            \n",
    "            estBlendedRating = (w1 * estimatedRating) + (w2 * noveltyRanking)\n",
    "            \n",
    "            topN[int(userID)].append((int(movieID), estBlendedRating))\n",
    "            \n",
    "    for userID, ratings in topN.items():\n",
    "        ratings.sort(key=lambda x: x[1], reverse=True)\n",
    "        topN[int(userID)] = ratings[:n]\n",
    "        #Pull the next n items as the remainingN list \n",
    "        remainingN[int(userID)] = ratings[n:(n+n)]\n",
    "\n",
    "    return topN, remainingN"
   ]
  },
  {
   "cell_type": "markdown",
   "metadata": {},
   "source": [
    "#### Split and Swap Method of Diverifying List. \n",
    "##### Inspiration: http://ceur-ws.org/Vol-1181/pia2014_paper_02.pdf\n",
    "##### Note: Current implementation is solely based on increasing novelty. Can update to swap based on blended rating & novelty. "
   ]
  },
  {
   "cell_type": "code",
   "execution_count": 52,
   "metadata": {},
   "outputs": [
    {
     "name": "stdout",
     "output_type": "stream",
     "text": [
      "time: 658 µs (started: 2021-07-25 13:08:58 -06:00)\n"
     ]
    }
   ],
   "source": [
    "#Create a topN list and remainingN list, to use with diversity swapping method. \n",
    "def GetTopNSplit(predictions, ranking_list, ranking_movies, n=10, minimumRating=0.0):\n",
    "    '''Get the top n predicted movie ratings for a given user.'''\n",
    "    topN = defaultdict(list)\n",
    "    remainingN = defaultdict(list)\n",
    "    \n",
    "    for userID, movieID, actualRating, estimatedRating, _ in predictions:\n",
    "        if (estimatedRating >= minimumRating):\n",
    "            noveltyRanking = ranking_list[ranking_movies.index(movieID)]\n",
    "            topN[int(userID)].append((int(movieID), estimatedRating, noveltyRanking))\n",
    "            \n",
    "    for userID, ratings in topN.items():\n",
    "        ratings.sort(key=lambda x: x[1], reverse=True)\n",
    "        topN[int(userID)] = ratings[:n]\n",
    "        #Pull the next n items as the remainingN list (TODO: switch this to reflect the hit rate pooling)\n",
    "        remainingN[int(userID)] = ratings[n:(n+n)]\n",
    "\n",
    "    return topN, remainingN"
   ]
  },
  {
   "cell_type": "code",
   "execution_count": 53,
   "metadata": {},
   "outputs": [
    {
     "name": "stdout",
     "output_type": "stream",
     "text": [
      "time: 5min 22s (started: 2021-07-25 13:09:01 -06:00)\n"
     ]
    }
   ],
   "source": [
    "topNPredicted_Split, remainingNPredicted_Split = GetTopNSplit(allPredictions, sc_rankings, ranking_movieID, n=10)"
   ]
  },
  {
   "cell_type": "code",
   "execution_count": 87,
   "metadata": {},
   "outputs": [
    {
     "name": "stdout",
     "output_type": "stream",
     "text": [
      "time: 892 µs (started: 2021-07-25 14:09:58 -06:00)\n"
     ]
    }
   ],
   "source": [
    "def diversificationSwap(topNPredicted, remainingNPredicted, iterations = 1): \n",
    "    '''For iteration in desired number of iterations (hyperparam): \n",
    "    drop the lowest novelty item from the topN list and\n",
    "    replace with the highest novelty item from the remainingN list.'''\n",
    "    \n",
    "    for i in range(iterations): \n",
    "        for userID in topNPredicted.keys():\n",
    "            \n",
    "            #Drop items from topN and add to remainingN\n",
    "            min_ranking = 5 \n",
    "            min_movieID = None\n",
    "            min_rating = None\n",
    "            \n",
    "            for item in topNPredicted[userID]:\n",
    "                movieID = item[0]\n",
    "                rating = item[1]\n",
    "                rank = item[2]\n",
    "                \n",
    "                if rank < min_ranking: \n",
    "                    min_ranking = rank\n",
    "                    min_movieID = movieID\n",
    "                    min_rating = rating\n",
    "                    \n",
    "                    \n",
    "            #Now shuffle\n",
    "            remainingNPredicted[int(userID)].append((int(min_movieID), min_rating, min_ranking))\n",
    "            topNPredicted[int(userID)].remove((int(min_movieID), min_rating, min_ranking))\n",
    "            \n",
    "            #Add items to topN and drop from remainingN\n",
    "            max_ranking = 0 \n",
    "            max_movieID = None\n",
    "            max_rating = None\n",
    "            \n",
    "            for item in remainingNPredicted[userID]:\n",
    "                movieID = item[0]\n",
    "                rating = item[1]\n",
    "                rank = item[2]\n",
    "                \n",
    "                if rank > max_ranking: \n",
    "                    max_ranking = rank\n",
    "                    max_movieID = movieID\n",
    "                    max_rating = rating\n",
    "                    \n",
    "            #Now shuffle\n",
    "            topNPredicted[int(userID)].append((int(max_movieID), max_rating, max_ranking))\n",
    "            remainingNPredicted[int(userID)].remove((int(max_movieID), max_rating, max_ranking))\n",
    "    \n",
    "    #Now drop the ranking as this isn't needed for hit rate calcs. \n",
    "    #topNPredicted.update(item[:-1] for item in value[items] for value in topNPredicted.values())\n",
    "    #remainingNPredicted.update(item[:-1] for item in value[items] for value in remainingNPredicted.values())\n",
    "    final_topN = defaultdict(list)\n",
    "    \n",
    "    for userID in topNPredicted.keys(): \n",
    "        for item in topNPredicted[userID]: \n",
    "            #To drop tuple value we must first convert to list since tuples are immutable. \n",
    "            final_topN[int(userID)].append((int(item[0]), item[1]))\n",
    "        \n",
    "        \n",
    "    return final_topN\n",
    "        "
   ]
  },
  {
   "cell_type": "code",
   "execution_count": 88,
   "metadata": {},
   "outputs": [
    {
     "name": "stdout",
     "output_type": "stream",
     "text": [
      "time: 36.8 ms (started: 2021-07-25 14:10:02 -06:00)\n"
     ]
    }
   ],
   "source": [
    "topNPredicted_Split_Swapped = diversificationSwap(topNPredicted_Split, remainingNPredicted_Split, iterations = 3)"
   ]
  },
  {
   "cell_type": "markdown",
   "metadata": {},
   "source": [
    "#### Create a Random Recommender and Popular Movie Recommender as comparison points to our algo. "
   ]
  },
  {
   "cell_type": "code",
   "execution_count": 33,
   "metadata": {},
   "outputs": [
    {
     "name": "stdout",
     "output_type": "stream",
     "text": [
      "time: 514 µs (started: 2021-07-25 11:14:43 -06:00)\n"
     ]
    }
   ],
   "source": [
    "#Random Recommender System\n",
    "def GetTopNRandom(predictions, n=10, minimumRating=0.0):\n",
    "    '''Get the top n predicted movie ratings for a given user.'''\n",
    "    topN = defaultdict(list)\n",
    "    for userID, movieID, actualRating, estimatedRating, _ in predictions:\n",
    "        if (estimatedRating >= minimumRating):\n",
    "            topN[int(userID)].append((int(movieID), estimatedRating))\n",
    "\n",
    "    for userID, ratings in topN.items():\n",
    "        random.shuffle(ratings)\n",
    "        topN[int(userID)] = ratings[:n]\n",
    "\n",
    "    return topN"
   ]
  },
  {
   "cell_type": "code",
   "execution_count": 39,
   "metadata": {},
   "outputs": [
    {
     "name": "stdout",
     "output_type": "stream",
     "text": [
      "time: 578 µs (started: 2021-07-25 11:25:00 -06:00)\n"
     ]
    }
   ],
   "source": [
    "#Popular Recommender System\n",
    "def GetTopNPopular(predictions, ranking_list, ranking_movies, n=10, minimumRating=0.0):\n",
    "    '''Get the top n predicted movie ratings for a given user.'''\n",
    "    topN = defaultdict(list)\n",
    "    \n",
    "    for userID, movieID, actualRating, estimatedRating, _ in predictions:\n",
    "        if (estimatedRating >= minimumRating):\n",
    "            \n",
    "            #Adjustment to solve for novelty within equation\n",
    "            noveltyRanking = ranking_list[ranking_movies.index(movieID)]\n",
    "            \n",
    "            popularity_rating = noveltyRanking\n",
    "            \n",
    "            topN[int(userID)].append((int(movieID), popularity_rating))\n",
    "            \n",
    "    for userID, ratings in topN.items():\n",
    "        #Select the least novel (i.e. most popular) movies\n",
    "        ratings.sort(key=lambda x: x[1], reverse=False)\n",
    "        topN[int(userID)] = ratings[:n]\n",
    "\n",
    "    return topN"
   ]
  },
  {
   "cell_type": "markdown",
   "metadata": {},
   "source": [
    "#### Compare performance of different models. "
   ]
  },
  {
   "cell_type": "code",
   "execution_count": 46,
   "metadata": {},
   "outputs": [
    {
     "name": "stdout",
     "output_type": "stream",
     "text": [
      "time: 3.77 s (started: 2021-07-25 12:54:58 -06:00)\n"
     ]
    }
   ],
   "source": [
    "#Compute top 10 recs for each user using our defined topNPredicted Function above\n",
    "topNPredicted = GetTopN(allPredictions, n=10)"
   ]
  },
  {
   "cell_type": "code",
   "execution_count": 26,
   "metadata": {},
   "outputs": [],
   "source": [
    "#Note: w1 = weight * rating, w2 = weight * ranking (novelty)\n",
    "topNPredicted_Blended, remainingNPredicted = GetTopNBlended(allPredictions, sc_rankings, ranking_movieID, n=10, w1 = 0.9, w2 = 0.1)"
   ]
  },
  {
   "cell_type": "code",
   "execution_count": 34,
   "metadata": {},
   "outputs": [
    {
     "name": "stdout",
     "output_type": "stream",
     "text": [
      "time: 3.96 s (started: 2021-07-25 11:15:33 -06:00)\n"
     ]
    }
   ],
   "source": [
    "#Randomly select 10 movie recs for each user. \n",
    "topNPredicted_Random = GetTopNRandom(allPredictions, n=10)"
   ]
  },
  {
   "cell_type": "code",
   "execution_count": 43,
   "metadata": {},
   "outputs": [
    {
     "name": "stdout",
     "output_type": "stream",
     "text": [
      "time: 3min 59s (started: 2021-07-25 11:25:36 -06:00)\n"
     ]
    }
   ],
   "source": [
    "#Select the 10 most popular (i.e. least novel) movies from the predictions list for each user. \n",
    "topNPredicted_Popular = GetTopNPopular(allPredictions, sc_rankings, ranking_movieID, n = 10)"
   ]
  },
  {
   "cell_type": "code",
   "execution_count": 90,
   "metadata": {},
   "outputs": [
    {
     "name": "stdout",
     "output_type": "stream",
     "text": [
      "Standard: Hit Rate for n = 10: 0.0127\n",
      "Blended: Hit Rate for n = 10: 0.0036\n",
      "Swapped: Hit Rate for n = 10: 0.0036\n",
      "Random: Hit Rate for n = 10: 0.0036\n",
      "Popular: Hit Rate for n = 10: 0.0380\n",
      "time: 13.7 ms (started: 2021-07-25 14:10:36 -06:00)\n"
     ]
    }
   ],
   "source": [
    "#COMPARE MODELS \n",
    "#Calculate our evaluation metrics of interest\n",
    "hit_rate = HitRate(topNPredicted, leftoutpredictions)\n",
    "hit_rate_Blended = HitRate(topNPredicted_Blended, leftoutpredictions)\n",
    "hit_rate_Swapped = HitRate(topNPredicted_Split_Swapped, leftoutpredictions)\n",
    "hit_rate_Random = HitRate(topNPredicted_Random, leftoutpredictions)\n",
    "hit_rate_Popular = HitRate(topNPredicted_Popular, leftoutpredictions)\n",
    "# adjusted_hit_rate = HitRateAdjusted(topNPredicted, leftoutpredictions)\n",
    "# adjusted_hit_rate_Blended = HitRateAdjusted(topNPredicted_Blended, leftoutpredictions)\n",
    "#rmse = accuracy.rmse(leftoutpredictions, verbose = False)\n",
    "#Print our evaluation metrics of interest\n",
    "print(f'Standard: Hit Rate for n = {n}: {hit_rate:.4f}')\n",
    "print(f'Blended: Hit Rate for n = {n}: {hit_rate_Blended:.4f}')\n",
    "print(f'Swapped: Hit Rate for n = {n}: {hit_rate_Swapped:.4f}')\n",
    "print(f'Random: Hit Rate for n = {n}: {hit_rate_Random:.4f}')\n",
    "print(f'Popular: Hit Rate for n = {n}: {hit_rate_Popular:.4f}')\n",
    "# print(f'Adjusted Hit Rate for n = {n}: {adjusted_hit_rate:.3f}')\n",
    "# print(f'Blended, Adjusted Hit Rate for n = {n}: {adjusted_hit_rate_Blended:.3f}')"
   ]
  },
  {
   "cell_type": "markdown",
   "metadata": {},
   "source": [
    "#### DNU\n",
    "##### General Optimization Problem for use with different diversity metrics. "
   ]
  },
  {
   "cell_type": "code",
   "execution_count": 28,
   "metadata": {},
   "outputs": [
    {
     "name": "stdout",
     "output_type": "stream",
     "text": [
      "User ID: 2, Best Combo: (1196, 1252, 1276, 899, 3035, 260, 1217, 1221, 858, 922), Best Score: 585.6354252311348\n",
      "time: 832 µs (started: 2021-07-25 10:46:40 -06:00)\n"
     ]
    }
   ],
   "source": [
    "#Create list of user's movieID's, movie rankings (for novelty), and movie estimated rating \n",
    "%load_ext autotime\n",
    "\n",
    "w1 = 0.5 \n",
    "w2 = 1 - w1 \n",
    "\n",
    "blendedtopN = defaultdict(list)\n",
    "\n",
    "best_combo = ()\n",
    "\n",
    "for userID in list(topNPredicted.keys())[:1]:\n",
    "    user_list = [] \n",
    "    movie_list = []\n",
    "    rank_list = []\n",
    "    rating_list = [] \n",
    "    \n",
    "    best_score = 0 \n",
    "    \n",
    "    for rating in topNPredicted[userID]: \n",
    "        user_list.append(userID)\n",
    "        movie_list.append(rating[0])\n",
    "        rank_list.append(rankings[rating[0]])\n",
    "        rating_list.append(rating[1])\n",
    "    \n",
    "    \n",
    "    \n",
    "    for combo in combinations(movie_list, 10): \n",
    "        #Initialize running sums to zero\n",
    "        rating_sum = 0 \n",
    "        novelty_sum = 0\n",
    "        \n",
    "        for movie in combo: \n",
    "            idx = movie_list.index(movie)\n",
    "            rating_sum += rating_list[idx]\n",
    "            novelty_sum += rank_list[idx]\n",
    "            \n",
    "        blended_score = (w1*rating_sum) + (w2*novelty_sum)\n",
    "        \n",
    "        if blended_score > best_score: \n",
    "            best_combo = combo \n",
    "            best_score = blended_score\n",
    "        \n",
    "    print(f'User ID: {userID}, Best Combo: {best_combo}, Best Score: {best_score}')\n",
    "            \n",
    "            \n",
    "            \n",
    "            \n",
    "# print(user_list)\n",
    "# print(movie_list)\n",
    "# print(rank_list)\n",
    "# print(rating_list)"
   ]
  },
  {
   "cell_type": "markdown",
   "metadata": {},
   "source": [
    "We are pulling the SVD initialization (below) from Surprise code directly to create our modified SVD class: \n",
    "https://github.com/NicolasHug/Surprise/blob/master/surprise/prediction_algorithms/matrix_factorization.pyx"
   ]
  },
  {
   "cell_type": "code",
   "execution_count": 29,
   "metadata": {},
   "outputs": [
    {
     "name": "stdout",
     "output_type": "stream",
     "text": [
      "time: 505 µs (started: 2021-07-25 10:46:40 -06:00)\n"
     ]
    }
   ],
   "source": [
    "#NOT USED\n",
    "\n",
    "#https://realpython.com/python-scipy-cluster-optimize/#using-the-optimize-module-in-scipy\n",
    "\n",
    "#Pull top 100 predicted movies, then select top 10 movie rating + novelty from this constrained list\n",
    "def objective_function(topNPredicted, rankings): \n",
    "    for userID in topNPredicted.keys(): \n",
    "        for rating in topNPredicted[userID]: \n",
    "            movieID = rating[0]\n",
    "            est_rating = rating[1]\n",
    "            rank = rankings[movieID]\n",
    "            \n",
    "            \n",
    "            \n",
    "            \n",
    "    \n",
    "    \n",
    "    "
   ]
  },
  {
   "cell_type": "markdown",
   "metadata": {},
   "source": [
    "Notes: \n",
    "- Might help to break out the adjusted hit rate by the positive hit rate and negative hit rate (in list, vs lower ranked than top n list and not in list, vs higher ranked than top n list and not in list). \n"
   ]
  },
  {
   "cell_type": "code",
   "execution_count": null,
   "metadata": {},
   "outputs": [],
   "source": []
  }
 ],
 "metadata": {
  "kernelspec": {
   "display_name": "Python 3",
   "language": "python",
   "name": "python3"
  },
  "language_info": {
   "codemirror_mode": {
    "name": "ipython",
    "version": 3
   },
   "file_extension": ".py",
   "mimetype": "text/x-python",
   "name": "python",
   "nbconvert_exporter": "python",
   "pygments_lexer": "ipython3",
   "version": "3.8.3"
  }
 },
 "nbformat": 4,
 "nbformat_minor": 4
}
