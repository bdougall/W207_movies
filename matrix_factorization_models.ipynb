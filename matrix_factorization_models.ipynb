{
 "cells": [
  {
   "cell_type": "markdown",
   "metadata": {},
   "source": [
    "## Import Packages"
   ]
  },
  {
   "cell_type": "code",
   "execution_count": 69,
   "metadata": {},
   "outputs": [],
   "source": [
    "# Import packages\n",
    "%matplotlib inline\n",
    "\n",
    "from surprise import Reader\n",
    "from surprise import SVD,SVDpp, NMF, NormalPredictor\n",
    "from surprise import KNNBasic\n",
    "from surprise import Dataset\n",
    "from surprise import Trainset\n",
    "from surprise import accuracy\n",
    "from surprise.model_selection import LeaveOneOut\n",
    "from sklearn.preprocessing import MinMaxScaler\n",
    "from sklearn.preprocessing import StandardScaler\n",
    "from sklearn.preprocessing import RobustScaler\n",
    "from itertools import combinations\n",
    "from collections import defaultdict\n",
    "import random\n",
    "import copy\n",
    "import warnings\n",
    "import pandas as pd\n",
    "import numpy as np\n",
    "import matplotlib.pyplot as plt\n",
    "import json"
   ]
  },
  {
   "cell_type": "code",
   "execution_count": 70,
   "metadata": {},
   "outputs": [],
   "source": [
    "np.random.seed(0)\n",
    "random.seed(0)\n",
    "warnings.filterwarnings('ignore')"
   ]
  },
  {
   "cell_type": "markdown",
   "metadata": {},
   "source": [
    "## Define Working Directory"
   ]
  },
  {
   "cell_type": "code",
   "execution_count": 71,
   "metadata": {},
   "outputs": [],
   "source": [
    "path_clean_data = '/Users/jericojohns/Desktop//W207/W207_movies/data/clean_data/'"
   ]
  },
  {
   "cell_type": "markdown",
   "metadata": {},
   "source": [
    "## Import Prepocessed Data "
   ]
  },
  {
   "cell_type": "markdown",
   "metadata": {},
   "source": [
    "#### TEMPORARY SECTION. "
   ]
  },
  {
   "cell_type": "code",
   "execution_count": 72,
   "metadata": {},
   "outputs": [],
   "source": [
    "# def filter_ratings(df, min_ratings):\n",
    "    \n",
    "#     '''Filter users with num_ratings below min_ratings\n",
    "#     params: df, min_ratings\n",
    "#     return: sorted_filtered_df\n",
    "#     '''\n",
    "    \n",
    "#     # Value counts of user ratings\n",
    "#     user_ratings_counts = df['userId'].value_counts()\n",
    "#     # List of users with ratings counts greater than min_ratings\n",
    "#     filtered_users = user_ratings_counts[user_ratings_counts >= min_ratings].index\n",
    "#     # Filter df to list of users above\n",
    "#     filtered_df = df[df['userId'].isin(filtered_users)]\n",
    "    \n",
    "#     return filtered_df"
   ]
  },
  {
   "cell_type": "code",
   "execution_count": 73,
   "metadata": {},
   "outputs": [],
   "source": [
    "# def train_dev_test_split(ratings_df, dev_size=1, test_size=1):\n",
    "    \n",
    "#     '''\n",
    "#     Split user ratings data into train, development and test sets holding the last \n",
    "#     [test_size] ratings per user for test and last [dev_size] ratings per user for \n",
    "#     development, following reverse chronological order\n",
    "    \n",
    "#     Parameters\n",
    "#     ----------\n",
    "#     ratings_df : A dataframe of ratings data\n",
    "#     dev_size : The number of ratings per user to set asside development data\n",
    "#     test_size : The number of ratings per user to set asside test data\n",
    "    \n",
    "#     Returns\n",
    "#     -------\n",
    "#     train_df : Dataframe of training ratings data\n",
    "#     dev_df : Dataframe of development ratings data\n",
    "#     test_df :  Dataframe of test ratings data\n",
    "#     '''\n",
    "    \n",
    "#     # Add a column that ranks each rating in reverse chronolgical grouped by user\n",
    "#     ratings_df['rank'] = ratings_df.groupby(['userId'])['timestamp'] \\\n",
    "#                          .rank(method='first', ascending=False).copy()\n",
    "    \n",
    "#     # Filter to test data using rank column\n",
    "#     test_df = ratings_df[ratings_df['rank'].isin(range(1,1+test_size))][['userId', 'movieId', 'rating']]\n",
    "    \n",
    "#     # Filter to dev data using rank column\n",
    "#     dev_df = ratings_df[ratings_df['rank'].isin(range(1+test_size, 1+test_size+dev_size))][['userId', 'movieId', 'rating']]\n",
    "    \n",
    "#     # Filter to train data using rank column\n",
    "#     train_df = ratings_df[ratings_df['rank'] >= (1+test_size+dev_size)][['userId', 'movieId', 'rating']]\n",
    "        \n",
    "#     return train_df, dev_df, test_df"
   ]
  },
  {
   "cell_type": "code",
   "execution_count": 74,
   "metadata": {},
   "outputs": [],
   "source": [
    "# def create_evaluation_pools(train_df, test_df, pool_size=100):\n",
    "    \n",
    "#     '''\n",
    "#     Create pools of movies to evaluate the collaborative filtering models.\n",
    "#     Each pool will contain pool_size movies per user. Each pool includes the \n",
    "#     movies in the test_df and randomly selects the rest of the movies from \n",
    "#     those not watched by the user.\n",
    "    \n",
    "#     Parameters\n",
    "#     ----------\n",
    "#     train_df : A dataframe of the training ratings data\n",
    "#     test_df : A dataframe of the test ratings data\n",
    "#     pool_size : The size of each movie pool\n",
    "    \n",
    "#     Returns\n",
    "#     -------\n",
    "#     evaluation_pools_dict : A dictionary from user to the pool of movies on \n",
    "#                             which to evaluate the recommender system\n",
    "    \n",
    "#     '''\n",
    "    \n",
    "#     # Find the list of unique users and movies in the training data\n",
    "#     users = set(train_df['userId'].unique())\n",
    "#     movies = set(train_df['movieId'].unique())\n",
    "    \n",
    "#     # Instantiate the output dictionary\n",
    "#     evaluation_pools_dict = {}\n",
    "    \n",
    "#     # Loop through each user\n",
    "#     for user in users:\n",
    "        \n",
    "#         # Find set of movies rated by the user in the training and test data\n",
    "#         train_movies = set(train_df[train_df['userId']==user]['movieId'])\n",
    "#         test_movies = set(test_df[test_df['userId']==user]['movieId'])\n",
    "        \n",
    "#         # Find the set of movies not rated by the user\n",
    "#         movies_not_rated = movies - train_movies - test_movies\n",
    "        \n",
    "#         # Randomly sample movies from the movies not rated by the user\n",
    "#         n_movies_to_choose = pool_size - len(test_movies)\n",
    "#         sample_movies_not_rated = set(random.sample(movies_not_rated, n_movies_to_choose))\n",
    "        \n",
    "#         # Combine the test movies with the random sample of movies\n",
    "#         evaluation_pool = list(test_movies | sample_movies_not_rated)\n",
    "        \n",
    "#         # Add each evaluation_pool to the output dictionary \n",
    "#         evaluation_pools_dict[user] = evaluation_pool\n",
    "    \n",
    "#     return evaluation_pools_dict"
   ]
  },
  {
   "cell_type": "code",
   "execution_count": 75,
   "metadata": {},
   "outputs": [],
   "source": [
    "#Load data into ratings_df. \n",
    "# ratings_df = pd.read_csv(\"/Users/jericojohns/Desktop/W207/data/ratings_small.csv\", low_memory=False)"
   ]
  },
  {
   "cell_type": "code",
   "execution_count": 76,
   "metadata": {},
   "outputs": [],
   "source": [
    "# #TEMPORARY\n",
    "# #Filter our user list to those users who have 30+ ratings\n",
    "# filtered_data = filter_ratings(ratings_df, min_ratings = 30)\n",
    "\n",
    "# #Now split our data so that we take the n-1 (most recent) rating as our test rating, \n",
    "# #and n-2 (second most recent) rating as our dev rating \n",
    "# train_df, dev_df, test_df = train_dev_test_split(filtered_data)\n",
    "\n",
    "# dev_evaluation_pools = create_evaluation_pools(train_df, dev_df)\n",
    "# test_evaluation_pools = create_evaluation_pools(train_df, test_df)\n",
    "\n",
    "# #Create a surprise Reader object to help us create a Surprise DataSet object. \n",
    "# reader = Reader()\n",
    "\n",
    "# #Now we load training data as is (no folding) by calling the .build_full_trainset() method. \n",
    "# train_data = Dataset.load_from_df(train_df, reader).build_full_trainset()\n",
    "\n",
    "\n",
    "# #Convert dev_data to DataSet object, and then as testset object by calling .buildtestset()\n",
    "# dev_data = Dataset.load_from_df(dev_df, reader).build_full_trainset()\n",
    "# dev_data = dev_data.build_testset()\n",
    "\n",
    "# #Convert test_data to DataSet object, and then as testset object by calling .buildtestset()\n",
    "# test_data = Dataset.load_from_df(test_df, reader).build_full_trainset()\n",
    "# test_data = test_data.build_testset()"
   ]
  },
  {
   "cell_type": "code",
   "execution_count": 77,
   "metadata": {},
   "outputs": [],
   "source": [
    "# Load train, dev, test data\n",
    "train_df = pd.read_csv(path_clean_data + \"cf_train_ratings.csv\", low_memory=False)\n",
    "dev_df = pd.read_csv(path_clean_data + \"cf_dev_ratings.csv\", low_memory=False)\n",
    "test_df = pd.read_csv(path_clean_data + \"cf_test_ratings.csv\", low_memory=False)"
   ]
  },
  {
   "cell_type": "code",
   "execution_count": 78,
   "metadata": {},
   "outputs": [],
   "source": [
    "# drop 'Unnamed 0' column\n",
    "train_df.drop('Unnamed: 0', axis=1, inplace=True)\n",
    "dev_df.drop('Unnamed: 0', axis=1, inplace=True)\n",
    "test_df.drop('Unnamed: 0', axis=1, inplace=True)"
   ]
  },
  {
   "cell_type": "code",
   "execution_count": 79,
   "metadata": {},
   "outputs": [
    {
     "data": {
      "text/html": [
       "<div>\n",
       "<style scoped>\n",
       "    .dataframe tbody tr th:only-of-type {\n",
       "        vertical-align: middle;\n",
       "    }\n",
       "\n",
       "    .dataframe tbody tr th {\n",
       "        vertical-align: top;\n",
       "    }\n",
       "\n",
       "    .dataframe thead th {\n",
       "        text-align: right;\n",
       "    }\n",
       "</style>\n",
       "<table border=\"1\" class=\"dataframe\">\n",
       "  <thead>\n",
       "    <tr style=\"text-align: right;\">\n",
       "      <th></th>\n",
       "      <th>userId</th>\n",
       "      <th>movieId</th>\n",
       "      <th>rating</th>\n",
       "    </tr>\n",
       "  </thead>\n",
       "  <tbody>\n",
       "    <tr>\n",
       "      <th>0</th>\n",
       "      <td>4</td>\n",
       "      <td>223</td>\n",
       "      <td>4.0</td>\n",
       "    </tr>\n",
       "    <tr>\n",
       "      <th>1</th>\n",
       "      <td>4</td>\n",
       "      <td>415</td>\n",
       "      <td>4.0</td>\n",
       "    </tr>\n",
       "    <tr>\n",
       "      <th>2</th>\n",
       "      <td>4</td>\n",
       "      <td>648</td>\n",
       "      <td>4.0</td>\n",
       "    </tr>\n",
       "    <tr>\n",
       "      <th>3</th>\n",
       "      <td>4</td>\n",
       "      <td>1097</td>\n",
       "      <td>5.0</td>\n",
       "    </tr>\n",
       "    <tr>\n",
       "      <th>4</th>\n",
       "      <td>4</td>\n",
       "      <td>1197</td>\n",
       "      <td>4.0</td>\n",
       "    </tr>\n",
       "  </tbody>\n",
       "</table>\n",
       "</div>"
      ],
      "text/plain": [
       "   userId  movieId  rating\n",
       "0       4      223     4.0\n",
       "1       4      415     4.0\n",
       "2       4      648     4.0\n",
       "3       4     1097     5.0\n",
       "4       4     1197     4.0"
      ]
     },
     "execution_count": 79,
     "metadata": {},
     "output_type": "execute_result"
    }
   ],
   "source": [
    "# Inspect train_df\n",
    "train_df.head()"
   ]
  },
  {
   "cell_type": "code",
   "execution_count": 80,
   "metadata": {},
   "outputs": [],
   "source": [
    "#Load dev and test evaluation pools\n",
    "f1 = open(path_clean_data + 'dev_evaluation_pools.json',)\n",
    "f2 = open(path_clean_data + 'test_evaluation_pools.json',)\n",
    "dev_evaluation_pools = json.load(f1)\n",
    "test_evaluation_pools = json.load(f2)\n",
    "\n",
    "# Convert key from str to int\n",
    "dev_evaluation_pools = {int(k):v for k,v in dev_evaluation_pools.items()}\n",
    "test_evaluation_pools = {int(k):v for k,v in test_evaluation_pools.items()}"
   ]
  },
  {
   "cell_type": "code",
   "execution_count": 81,
   "metadata": {},
   "outputs": [],
   "source": [
    "#Create empty global lists to append our results\n",
    "algo_list = [] \n",
    "hr_list = []\n",
    "hr_cutoff_list = [] \n",
    "avg_est_rating_list = []\n",
    "avg_novelty_list = []\n",
    "rmse_list = []"
   ]
  },
  {
   "cell_type": "markdown",
   "metadata": {},
   "source": [
    "## Load Data into Surprise Data Structures"
   ]
  },
  {
   "cell_type": "code",
   "execution_count": 82,
   "metadata": {},
   "outputs": [],
   "source": [
    "#Create a surprise Reader object to help us create a Surprise DataSet object. \n",
    "reader = Reader()\n",
    "\n",
    "#Now we load training data as is (no folding) by calling the .build_full_trainset() method. \n",
    "train_data = Dataset.load_from_df(train_df, reader).build_full_trainset()\n",
    "\n",
    "#Convert dev_data to DataSet object, and then as testset object by calling .buildtestset()\n",
    "dev_data = Dataset.load_from_df(dev_df, reader).build_full_trainset()\n",
    "dev_data = dev_data.build_testset()\n",
    "\n",
    "#Convert test_data to DataSet object, and then as testset object by calling .buildtestset()\n",
    "test_data = Dataset.load_from_df(test_df, reader).build_full_trainset()\n",
    "test_data = test_data.build_testset()"
   ]
  },
  {
   "cell_type": "markdown",
   "metadata": {},
   "source": [
    "## Run and Evaluate Matrix Factorization Models"
   ]
  },
  {
   "cell_type": "markdown",
   "metadata": {},
   "source": [
    "### Define Custom Functions"
   ]
  },
  {
   "cell_type": "code",
   "execution_count": 83,
   "metadata": {},
   "outputs": [],
   "source": [
    "def calculateItemNovelty(ratings_df):\n",
    "    '''Create two lists of 1.) sc_rankings (standardized and minMaxScaled)\n",
    "    and 2.) movieIDs that correspond to those rankings.'''\n",
    "    rankings = ratings_df[\"movieId\"].value_counts()\n",
    "    ratings =  ratings_df[['movieId','rating']].groupby('movieId').mean()\n",
    "\n",
    "    #Let's standardize our rankings to be able to be used together \n",
    "    scaler = MinMaxScaler(feature_range = (0,5))\n",
    "    scaler2 = RobustScaler()\n",
    "    ranking_movieID = rankings.index.to_numpy()\n",
    "    ratings = ratings.to_numpy().reshape(-1,1)\n",
    "\n",
    "    scaler.fit(ratings)\n",
    "    scaler2.fit(ratings)\n",
    "    sc_rankings = rankings.to_numpy().reshape(-1,1)\n",
    "    sc_rankings = scaler2.transform(sc_rankings)\n",
    "    sc_rankings = scaler.fit_transform(sc_rankings)\n",
    "\n",
    "\n",
    "\n",
    "    sc_rankings = sc_rankings.tolist()\n",
    "\n",
    "    sc_rankings = [(float(i[0])*-1)+5 for i in sc_rankings]\n",
    "\n",
    "\n",
    "    ranking_movieID = ranking_movieID.tolist()\n",
    "    \n",
    "    return sc_rankings, ranking_movieID"
   ]
  },
  {
   "cell_type": "code",
   "execution_count": 84,
   "metadata": {},
   "outputs": [],
   "source": [
    "def sort_evaluation_pools(model, evaluation_pools, ranking_list, ranking_movies):\n",
    "    '''\n",
    "    Take evaluation pool for each user and sort it based on ratings predicted by a \n",
    "    trained model in descending order of predicted ratings\n",
    "    Parameters\n",
    "    ----------\n",
    "    model : A trained surprise model\n",
    "    evaluation_pools : A dictionary from user to the pool of movies on \n",
    "                       which to evaluate the recommender system \n",
    "    ranking_list = movie novelty scores\n",
    "    ranking_movies = movieIDs tied to novelty scores\n",
    "    \n",
    "    Returns\n",
    "    -------\n",
    "    sorted_evaluation_pools : A dictionary from user to the pool of movies where each \n",
    "                              movie is sorted in descending order of predicted movie \n",
    "                              rating\n",
    "    '''\n",
    "    \n",
    "    # Instantiate output dictionary\n",
    "    sorted_evaluation_pools = {}\n",
    "    \n",
    "    # Loop through each key-value pair in the input dictionary\n",
    "    for user, movie_pool in evaluation_pools.items():\n",
    "        \n",
    "        # Create a dictionary for the predicted rating of each movie in the user's pool\n",
    "        predictions = {}\n",
    "        for movie in movie_pool:\n",
    "            pred = model.predict(user, movie)\n",
    "            try: \n",
    "                novelty = ranking_list[ranking_movies.index(movie)]\n",
    "            except: \n",
    "                novelty = 5\n",
    "            predictions[movie] = (pred[3],novelty)\n",
    "            #Add in the novelty score\n",
    "            \n",
    "        \n",
    "        # Sort the pool in descending order of predicted ratings\n",
    "        sorted_pool = [(k,v) for k, v in sorted(predictions.items(), key=lambda item: item[1], reverse=True)]\n",
    "        \n",
    "        # Add key-value pair of user and sorted evalualtion pool to the output dictionary\n",
    "        sorted_evaluation_pools[user] = sorted_pool\n",
    "        \n",
    "        #Finally reformat our dictionary to be in format userID: (movieID, rating, novelty)\n",
    "        final_pool = defaultdict(list)\n",
    "        for userID in sorted_evaluation_pools: \n",
    "            for movieID, tup in sorted_evaluation_pools[userID]: \n",
    "                final_pool[int(userID)].append((int(movieID), tup[0], tup[1]))\n",
    "\n",
    "\n",
    "    return final_pool"
   ]
  },
  {
   "cell_type": "code",
   "execution_count": 85,
   "metadata": {},
   "outputs": [],
   "source": [
    "def calc_hit_rate_pools(sorted_evaluation_pools, test_df, top_n=10):\n",
    "    '''\n",
    "    Calculate hit rate given a dictionary of sorted evaluation pools and the corrsponding \n",
    "    test data frame. A hit is defined as finding a test movie in the top_n of sorted \n",
    "    evalutation pool of a user\n",
    "    Parameters\n",
    "    ----------\n",
    "    sorted_evaluation_pools : A dictionary from user to the pool of movies where each \n",
    "                              movie is sorted in descending order of predicted movie \n",
    "                              rating\n",
    "    test_df : A dataframe of ratings for movies being tested in the evaluation pools\n",
    "    top_n : The threshold above which a test movies should be found to be called a hit\n",
    "    \n",
    "    Returns\n",
    "    -------\n",
    "    hit_rate : A hit rate across pools\n",
    "    \n",
    "    '''\n",
    "    \n",
    "    # Start with hits and totals at 0\n",
    "    hits=0\n",
    "    total=0\n",
    "    \n",
    "    # Loop through the each key-value pair in the input dictionary\n",
    "    for user, sorted_pool in sorted_evaluation_pools.items():\n",
    "        \n",
    "        # Filter to test movies for the user\n",
    "        test_movies = test_df[test_df['userId']==user]\n",
    "        \n",
    "        # Find top_n movies from the pool\n",
    "        top_movies = sorted_pool[:top_n]\n",
    "        \n",
    "        # Loop through each test movie\n",
    "        for index, test_movie in test_movies.iterrows():\n",
    "            test_movie_id = test_movie['movieId']\n",
    "            \n",
    "            # If test movie is in top_movies, then add one to hits\n",
    "            for movie, rating, novelty in top_movies: \n",
    "                if test_movie_id == movie:\n",
    "                    hits += 1\n",
    "                \n",
    "            # Add one to total for each test movie  \n",
    "            total += 1\n",
    "     \n",
    "    hit_rate = hits/total\n",
    "    return hit_rate"
   ]
  },
  {
   "cell_type": "code",
   "execution_count": 86,
   "metadata": {},
   "outputs": [],
   "source": [
    "def calc_hit_rate_pools_with_cutoff(sorted_evaluation_pools, test_df, top_n=10, rating_cutoff=0):\n",
    "    '''\n",
    "    Calculate hit rate given a dictionary of sorted evaluation pools and a corresponding \n",
    "    test data frame. A hit is defined as finding a test movie that has a rating greater \n",
    "    than a rating_cutoff in the top_n of sorted evalutation pool of a user.\n",
    "    Parameters\n",
    "    ----------\n",
    "    sorted_evaluation_pools : A dictionary from user to the pool of movies where each \n",
    "                              movie is sorted in descending order of predicted movie \n",
    "                              rating\n",
    "    test_df : A dataframe of ratings for movies being tested in the evaluation pools\n",
    "    top_n : The threshold above which a test movies should be found to be called a hit\n",
    "    rating_cutoff : The threshold rating above which a test movie should be evaluated\n",
    "    \n",
    "    Returns\n",
    "    -------\n",
    "    hit_rate : A hit rate across pools\n",
    "    '''\n",
    "    \n",
    "    # Start with hits and totals at 0\n",
    "    hits=0\n",
    "    total=0\n",
    "    \n",
    "    # Loop through the each key-value pair in the input dictionary\n",
    "    for user, sorted_pool in sorted_evaluation_pools.items():\n",
    "        \n",
    "        # Filter to test movies for the user\n",
    "        test_movies = test_df[test_df['userId']==user]\n",
    "\n",
    "         # Find top_n movies from the pool\n",
    "        top_movies = sorted_pool[:top_n]\n",
    "        \n",
    "        # Loop through each test movie\n",
    "        for index, test_movie in test_movies.iterrows():\n",
    "            test_movie_rating = test_movie['rating']\n",
    "            test_movie_id = test_movie['movieId']\n",
    "            \n",
    "             # If test movie has a rating above rating_cutoff then evaluate\n",
    "            if test_movie_rating >= rating_cutoff:\n",
    "                \n",
    "                # If test movie is in top_movies, then add one to hits\n",
    "                # If test movie is in top_movies, then add one to hits\n",
    "                for movie, rating, novelty in top_movies: \n",
    "                    if test_movie_id == movie:\n",
    "                        hits += 1\n",
    "                \n",
    "                # Add one to total for each test movie\n",
    "                total += 1\n",
    "\n",
    "    return hits/total"
   ]
  },
  {
   "cell_type": "code",
   "execution_count": 87,
   "metadata": {},
   "outputs": [],
   "source": [
    "def summaryStats(sorted_evaluation_pools, test_df, test_prediction, rating_cutoff = 4): \n",
    "    '''Calculate average novelty, average rating, and hit rate for the top 10 of final sorted_evaluation_pool.'''\n",
    "    hit_rate_pools = calc_hit_rate_pools(sorted_evaluation_pools, test_df)\n",
    "    hit_rate_pools_with_cutoff =  calc_hit_rate_pools_with_cutoff(sorted_evaluation_pools, test_df, rating_cutoff=rating_cutoff)\n",
    "    rmse = accuracy.rmse(test_prediction, verbose = False)\n",
    "    total_est_rating = 0 \n",
    "    total_novelty = 0 \n",
    "    total_items = 0 \n",
    "    for userID in sorted_evaluation_pools.keys(): \n",
    "        for tup in sorted_evaluation_pools[userID][:10]: \n",
    "            total_est_rating += tup[1]\n",
    "            total_novelty += tup[2]\n",
    "            total_items += 1\n",
    "    \n",
    "    avg_est_rating  = total_est_rating / total_items\n",
    "    avg_novelty = total_novelty / total_items\n",
    "    \n",
    "    return hit_rate_pools, hit_rate_pools_with_cutoff, avg_est_rating, avg_novelty, rmse \n",
    "        \n"
   ]
  },
  {
   "cell_type": "code",
   "execution_count": 88,
   "metadata": {},
   "outputs": [],
   "source": [
    "def compareModels(models, train_data, dev_data, hyperparams = False): \n",
    "    '''For baseline model selection of matrix factorization models.\n",
    "    Choose model that optimizes hit_rate_pools_with_cutoff.'''\n",
    "    \n",
    "    for algo in models: \n",
    "        #Print model type \n",
    "        print(type(algo).__name__)\n",
    "        \n",
    "        #Train our train_data (all user's that have liked 30+ movies, train on the n-2 movie set)\n",
    "        algo.fit(train_data)\n",
    "        dev_prediction = algo.test(dev_data)\n",
    "        \n",
    "        #Sort our evaluation pool, using the algo. \n",
    "        sorted_dev_evaluation_pools = sort_evaluation_pools(algo, dev_evaluation_pools, sc_rankings, ranking_movieID) \n",
    "        \n",
    "        #Calculate summary stats for each model. \n",
    "        hit_rate_pools, hit_rate_pools_with_cutoff, avg_est_rating, avg_novelty, rmse = summaryStats(sorted_dev_evaluation_pools, dev_df, dev_prediction, rating_cutoff = 4)\n",
    "        print(f'HR@10: {hit_rate_pools}')\n",
    "        print(f'HR@10 w/ Cutoff: {hit_rate_pools_with_cutoff}')\n",
    "        print(f'RMSE: {rmse}')\n",
    "        print(f'AvgRating@10: {avg_est_rating}')\n",
    "        print(f'AvgNovelty@10: {avg_novelty}')\n",
    "        if hyperparams == False: \n",
    "            algo_list.append(type(algo).__name__)\n",
    "        else: \n",
    "            algo_list.append('SVD w/ Hyperparam Tuning')\n",
    "        hr_list.append(hit_rate_pools)\n",
    "        hr_cutoff_list.append(hit_rate_pools_with_cutoff)\n",
    "        avg_est_rating_list.append(avg_est_rating)\n",
    "        avg_novelty_list.append(avg_novelty)\n",
    "        rmse_list.append(rmse)\n",
    "        "
   ]
  },
  {
   "cell_type": "code",
   "execution_count": 89,
   "metadata": {},
   "outputs": [],
   "source": [
    "def bestHyperparams(n_factors, n_epochs, lr_all, reg_all): \n",
    "    '''Non-exhaustive (manual) search over hyperparam values to\n",
    "    select the best hyperparam values for hit_rate_pools_with_cutoff.'''\n",
    "    best_hr = 0\n",
    "    best_n_factors = 0\n",
    "    best_n_epochs = 0 \n",
    "    best_lr_all = 0 \n",
    "    best_reg_all = 0\n",
    "\n",
    "    for n_factor in n_factors: \n",
    "        for n_epoch in n_epochs: \n",
    "            for lr in lr_all: \n",
    "                for reg in reg_all: \n",
    "                    algo = SVD(n_factors = n_factor, n_epochs = n_epoch, lr_all = lr, reg_all = reg)\n",
    "                    algo.fit(train_data)\n",
    "                    sorted_dev_evaluation_pools = sort_evaluation_pools(algo, dev_evaluation_pools, sc_rankings, ranking_movieID)\n",
    "        \n",
    "\n",
    "                    #Calculate the two hit rates\n",
    "                    hit_rate_pools = calc_hit_rate_pools(sorted_dev_evaluation_pools, dev_df)\n",
    "                    hit_rate_pools_with_cutoff = calc_hit_rate_pools_with_cutoff(sorted_dev_evaluation_pools, dev_df, rating_cutoff=4)\n",
    "\n",
    "                    if hit_rate_pools_with_cutoff > best_hr: \n",
    "                        best_hr = hit_rate_pools_with_cutoff\n",
    "                        best_n_factors = n_factor\n",
    "                        best_n_epochs = n_epoch\n",
    "                        best_lr_all = lr\n",
    "                        best_reg_all = reg\n",
    "\n",
    "\n",
    "    print(f'Best HR@10: {best_hr}')\n",
    "    print(f'n_factors = {best_n_factors}, n_epochs = {best_n_epochs}, lr_all = {best_lr_all}, reg_all = {best_reg_all}')\n",
    "    \n",
    "    return best_n_factors, best_n_epochs, best_lr_all, best_reg_all\n"
   ]
  },
  {
   "cell_type": "code",
   "execution_count": 90,
   "metadata": {},
   "outputs": [],
   "source": [
    "def GetTopNSplitPools(sorted_evaluation_pool):\n",
    "    '''Get the top n predicted movie ratings for a given user, \n",
    "    the next n, and the rest of the evaluation pool. \n",
    "    Used to process sorted_evaluation_pool before \n",
    "    diversificationSwap().'''\n",
    "    predictions = sorted_evaluation_pool\n",
    "    topN = defaultdict(list)\n",
    "    nextN = defaultdict(list)\n",
    "    remainingN = defaultdict(list)\n",
    "    \n",
    "    #Select top_n and remaining_n\n",
    "    for userID, movies in predictions.items():\n",
    "        topN[int(userID)] = movies[:10]\n",
    "        #Pull the next n items as the remainingN list \n",
    "        nextN[int(userID)] = movies[10:30]\n",
    "        remainingN[int(userID)] = movies[30:]\n",
    "        \n",
    "\n",
    "    return topN, nextN, remainingN"
   ]
  },
  {
   "cell_type": "code",
   "execution_count": 91,
   "metadata": {},
   "outputs": [],
   "source": [
    "def diversificationSwap(topNPredicted, nextNPredicted, remainingNPredicted, iterations = 1): \n",
    "    '''For iteration in desired number of iterations (hyperparam): \n",
    "    drop the lowest novelty item from the topN list and\n",
    "    replace with the highest novelty item from the remainingN list.'''\n",
    "    \n",
    "    topNPredicted_temp = copy.deepcopy(topNPredicted)\n",
    "    nextNPredicted_temp = copy.deepcopy(nextNPredicted)\n",
    "    \n",
    "    for i in range(iterations): \n",
    "        for userID in topNPredicted_temp.keys():\n",
    "            #Create a boolean that indicates whether swap is found\n",
    "            swap_top = False\n",
    "            \n",
    "            #Drop items from topN and add to remainingN\n",
    "            min_ranking = 5 \n",
    "            min_movieID = None\n",
    "            min_rating = None\n",
    "            \n",
    "            for item in topNPredicted_temp[userID]:\n",
    "                movieID = item[0]\n",
    "                rating = item[1]\n",
    "                rank = item[2]\n",
    "                \n",
    "                if rank < min_ranking: \n",
    "                    swap_top = True\n",
    "                    min_ranking = rank\n",
    "                    min_movieID = movieID\n",
    "                    min_rating = rating\n",
    "                    \n",
    "                    \n",
    "            #Now shuffle (only if swap is found)\n",
    "            if swap_top == True: \n",
    "                nextNPredicted_temp[int(userID)].append((int(min_movieID), min_rating, min_ranking))\n",
    "                topNPredicted_temp[int(userID)].remove((int(min_movieID), min_rating, min_ranking))\n",
    "            \n",
    "            #Create a boolean that indicates whether swap is found\n",
    "            swap_bottom  = False\n",
    "            \n",
    "            #Add items to topN and drop from remainingN\n",
    "            max_ranking = 0 \n",
    "            max_movieID = None\n",
    "            max_rating = None\n",
    "            \n",
    "            for item in nextNPredicted_temp[userID]:\n",
    "                movieID = item[0]\n",
    "                rating = item[1]\n",
    "                rank = item[2]\n",
    "                \n",
    "                if rank > max_ranking: \n",
    "                    swap_bottom = True\n",
    "                    max_ranking = rank\n",
    "                    max_movieID = movieID\n",
    "                    max_rating = rating\n",
    "                    \n",
    "            #Now shuffle (only if swap is found)\n",
    "            if swap_bottom == True: \n",
    "                topNPredicted_temp[int(userID)].append((int(max_movieID), max_rating, max_ranking))\n",
    "                nextNPredicted_temp[int(userID)].remove((int(max_movieID), max_rating, max_ranking))\n",
    "    \n",
    "    #Now drop the ranking as this isn't needed for hit rate calcs. \n",
    "    #topNPredicted_temp.update(item[:-1] for item in value[items] for value in topNPredicted_temp.values())\n",
    "    #remainingNPredicted_temp.update(item[:-1] for item in value[items] for value in remainingNPredicted.values())\n",
    "    final_sorted_pool = defaultdict(list)\n",
    "    \n",
    "    #Add the top predicted, diversified items to our final evaluation_pool\n",
    "    for userID in topNPredicted_temp.keys(): \n",
    "        for item in topNPredicted_temp[userID]: \n",
    "            #To drop tuple value we must first convert to list since tuples are immutable. \n",
    "            final_sorted_pool[int(userID)].append((int(item[0]), item[1], item[2]))\n",
    "            #final_topN[int(userID)].append(int(item[0]))\n",
    "    \n",
    "    #Add the next N \n",
    "    for userID in nextNPredicted_temp.keys(): \n",
    "        for item in nextNPredicted_temp[userID]: \n",
    "            #To drop tuple value we must first convert to list since tuples are immutable. \n",
    "            final_sorted_pool[int(userID)].append((int(item[0]), item[1], item[2]))\n",
    "            #final_topN[int(userID)].append(int(item[0]))\n",
    "    \n",
    "    #Add the remaining (unswapped) N items to create the full diversified evaluation pool \n",
    "    for userID in remainingNPredicted.keys(): \n",
    "        for item in remainingNPredicted[userID]: \n",
    "            #To drop tuple value we must first convert to list since tuples are immutable. \n",
    "            final_sorted_pool[int(userID)].append((int(item[0]), item[1], item[2]))\n",
    "        \n",
    "    return final_sorted_pool\n",
    "        "
   ]
  },
  {
   "cell_type": "code",
   "execution_count": 92,
   "metadata": {},
   "outputs": [],
   "source": [
    "def diversificationSwapBlended(topNPredicted, nextNPredicted, remainingNPredicted, iterations = 1, w1 = 0.5, w2 = 0.5): \n",
    "    '''For iteration in desired number of iterations (hyperparam): \n",
    "    drop the lowest blended rating and novelty item from the topN list and\n",
    "    replace with the highest blended rating and novelty item from the remainingN list.\n",
    "    This methods approximate's a movie's 'Hidden Gem' score (i..e high rating, low ranking)'''\n",
    "    \n",
    "    \n",
    "    topNPredicted_temp = copy.deepcopy(topNPredicted)\n",
    "    nextNPredicted_temp = copy.deepcopy(nextNPredicted)\n",
    "    \n",
    "    for i in range(iterations): \n",
    "        for userID in topNPredicted_temp.keys():\n",
    "            #Create a boolean that indicates whether swap is found\n",
    "            swap_top = False\n",
    "            \n",
    "            #Drop items from topN and add to remainingN\n",
    "            min_blended_rank = 5\n",
    "            min_movieID = None\n",
    "            min_rating = None\n",
    "            \n",
    "            for item in topNPredicted_temp[userID]:\n",
    "                movieID = item[0]\n",
    "                rating = item[1]\n",
    "                rank = item[2]\n",
    "                blended_rank = (w1*rating) + (w2*rank)\n",
    "                \n",
    "                if blended_rank < min_blended_rank: \n",
    "                    swap_top = True\n",
    "                    min_blended_rank = blended_rank\n",
    "                    min_movieID = movieID\n",
    "                    min_ranking = rank\n",
    "                    min_rating = rating\n",
    "                    \n",
    "                    \n",
    "            #Now shuffle (only if swap is found)\n",
    "            if swap_top == True: \n",
    "                nextNPredicted_temp[int(userID)].append((int(min_movieID), min_rating, min_ranking))\n",
    "                topNPredicted_temp[int(userID)].remove((int(min_movieID), min_rating, min_ranking))\n",
    "            \n",
    "            #Create a boolean that indicates whether swap is found\n",
    "            swap_bottom  = False\n",
    "            \n",
    "            #Add items to topN and drop from remainingN\n",
    "            max_blended_rank = 0 \n",
    "            max_movieID = None\n",
    "            max_rating = None\n",
    "            \n",
    "            for item in nextNPredicted_temp[userID]:\n",
    "                movieID = item[0]\n",
    "                rating = item[1]\n",
    "                rank = item[2]\n",
    "                blended_rank = (w1*rating) + (w2*rank)\n",
    "                \n",
    "                if blended_rank > max_blended_rank: \n",
    "                    swap_bottom = True\n",
    "                    max_blended_rank = blended_rank\n",
    "                    max_ranking = rank\n",
    "                    max_movieID = movieID\n",
    "                    max_rating = rating\n",
    "                    \n",
    "            #Now shuffle (only if swap is found)\n",
    "            if swap_bottom == True: \n",
    "                topNPredicted_temp[int(userID)].append((int(max_movieID), max_rating, max_ranking))\n",
    "                nextNPredicted_temp[int(userID)].remove((int(max_movieID), max_rating, max_ranking))\n",
    "    \n",
    "    #Now drop the ranking as this isn't needed for hit rate calcs. \n",
    "    #topNPredicted_temp.update(item[:-1] for item in value[items] for value in topNPredicted_temp.values())\n",
    "    #remainingNPredicted_temp.update(item[:-1] for item in value[items] for value in remainingNPredicted.values())\n",
    "    final_sorted_pool = defaultdict(list)\n",
    "    \n",
    "    #Add the top predicted, diversified items to our final evaluation_pool\n",
    "    for userID in topNPredicted_temp.keys(): \n",
    "        for item in topNPredicted_temp[userID]: \n",
    "            #To drop tuple value we must first convert to list since tuples are immutable. \n",
    "            final_sorted_pool[int(userID)].append((int(item[0]), item[1], item[2]))\n",
    "            #final_topN[int(userID)].append(int(item[0]))\n",
    "    \n",
    "    #Add the next N \n",
    "    for userID in nextNPredicted_temp.keys(): \n",
    "        for item in nextNPredicted_temp[userID]: \n",
    "            #To drop tuple value we must first convert to list since tuples are immutable. \n",
    "            final_sorted_pool[int(userID)].append((int(item[0]), item[1], item[2]))\n",
    "            #final_topN[int(userID)].append(int(item[0]))\n",
    "    \n",
    "    #Add the remaining (unswapped) N items to create the full diversified evaluation pool \n",
    "    for userID in remainingNPredicted.keys(): \n",
    "        for item in remainingNPredicted[userID]: \n",
    "            #To drop tuple value we must first convert to list since tuples are immutable. \n",
    "            final_sorted_pool[int(userID)].append((int(item[0]), item[1], item[2]))\n",
    "        \n",
    "    return final_sorted_pool"
   ]
  },
  {
   "cell_type": "code",
   "execution_count": 93,
   "metadata": {},
   "outputs": [],
   "source": [
    "def calcDiversityTradeoff(topNPredicted_Split, nextNPredicted_Split,remainingNPredicted_Split, test_df, test_prediction):\n",
    "    '''Plot our novelty / HR@10 tradeoff by increasing number of iterations of our \n",
    "    diversificationSwap.'''\n",
    "    method = []\n",
    "    average_novelty = [] \n",
    "    hit_rate = [] \n",
    "\n",
    "    method_blended = []\n",
    "    average_novelty_blended = []\n",
    "    hit_rate_blended = []\n",
    "\n",
    "    hit_rate_cutoff = []\n",
    "    hit_rate_cutoff_blended = [] \n",
    "\n",
    "    swapping_iterations = []\n",
    "    swapping_iterations_blended = []\n",
    "\n",
    "    for i in range(0,6): \n",
    "        diversified_evaluation_pools = diversificationSwap(topNPredicted_Split, nextNPredicted_Split, remainingNPredicted_Split, iterations = i)\n",
    "        diversified_evaluation_pools_blended = diversificationSwapBlended(topNPredicted_Split, nextNPredicted_Split, remainingNPredicted_Split, iterations = i, w1 = 0.7, w2 = 0.3)\n",
    "        hit_rate_diversified_pools, hit_rate_diversified_pools_with_cutoff, avg_est_rating, avg_novelty, rmse = summaryStats(diversified_evaluation_pools, test_df, test_prediction, rating_cutoff = 4)\n",
    "        hit_rate_diversified_pools_blended, hit_rate_diversified_pools_with_cutoff_blended, avg_est_rating_blended, avg_novelty_blended, rmse_blended = summaryStats(diversified_evaluation_pools_blended, test_df, test_prediction, rating_cutoff = 4)\n",
    "        model = 'Matrix Factorization with SVD()'\n",
    "        blended_model = 'Matrix Factoriziation with SVD(), blended swapping'\n",
    "\n",
    "        method.append(model)\n",
    "        method_blended.append(model)\n",
    "\n",
    "        average_novelty.append(avg_novelty)\n",
    "        average_novelty_blended.append(avg_novelty_blended)\n",
    "\n",
    "        swapping_iterations.append(i)\n",
    "        swapping_iterations_blended.append(i)\n",
    "\n",
    "        hit_rate.append(hit_rate_diversified_pools)\n",
    "        hit_rate_blended.append(hit_rate_diversified_pools_blended)\n",
    "\n",
    "        hit_rate_cutoff.append(hit_rate_diversified_pools_with_cutoff)\n",
    "        hit_rate_cutoff_blended.append(hit_rate_diversified_pools_with_cutoff_blended)\n",
    "\n",
    "    \n",
    "    return method, average_novelty, hit_rate, rmse, method_blended, average_novelty_blended, hit_rate_blended, rmse_blended, hit_rate_cutoff, hit_rate_cutoff_blended, swapping_iterations, swapping_iterations_blended"
   ]
  },
  {
   "cell_type": "markdown",
   "metadata": {},
   "source": [
    "### Matrix Factorization Process"
   ]
  },
  {
   "cell_type": "markdown",
   "metadata": {},
   "source": [
    "#### 1.) Calculate Item Novelty. \n",
    "##### We will use this in our sorted_evaluation_pools so that we don't need to pull-in novelty data everytime. "
   ]
  },
  {
   "cell_type": "code",
   "execution_count": 94,
   "metadata": {},
   "outputs": [],
   "source": [
    "#Calculate item (movieID) novelty. Store in 2 lists. \n",
    "sc_rankings, ranking_movieID = calculateItemNovelty(train_df)"
   ]
  },
  {
   "cell_type": "code",
   "execution_count": 95,
   "metadata": {},
   "outputs": [
    {
     "data": {
      "text/plain": [
       "(array([4.0000e+00, 3.0000e+00, 5.0000e+00, 1.6000e+01, 1.3000e+01,\n",
       "        4.0000e+01, 7.4000e+01, 1.5300e+02, 4.7100e+02, 4.4099e+04]),\n",
       " array([0. , 0.5, 1. , 1.5, 2. , 2.5, 3. , 3.5, 4. , 4.5, 5. ]),\n",
       " <BarContainer object of 10 artists>)"
      ]
     },
     "execution_count": 95,
     "metadata": {},
     "output_type": "execute_result"
    },
    {
     "data": {
      "image/png": "[encoded data removed]",
      "text/plain": [
       "<Figure size 432x288 with 1 Axes>"
      ]
     },
     "metadata": {
      "needs_background": "light"
     },
     "output_type": "display_data"
    }
   ],
   "source": [
    "#View distribution\n",
    "plt.hist(sc_rankings)"
   ]
  },
  {
   "cell_type": "markdown",
   "metadata": {},
   "source": [
    "#### 2.) Test a baseline SVD() Model. "
   ]
  },
  {
   "cell_type": "code",
   "execution_count": 96,
   "metadata": {},
   "outputs": [
    {
     "ename": "KeyboardInterrupt",
     "evalue": "",
     "output_type": "error",
     "traceback": [
      "\u001b[0;31m---------------------------------------------------------------------------\u001b[0m",
      "\u001b[0;31mKeyboardInterrupt\u001b[0m                         Traceback (most recent call last)",
      "\u001b[0;32m<ipython-input-96-9e85fae7129a>\u001b[0m in \u001b[0;36m<module>\u001b[0;34m\u001b[0m\n\u001b[1;32m      3\u001b[0m \u001b[0;34m\u001b[0m\u001b[0m\n\u001b[1;32m      4\u001b[0m \u001b[0;31m# Train our train_data (all user's that have liked 30+ movies, train on the n-2 movie set)\u001b[0m\u001b[0;34m\u001b[0m\u001b[0;34m\u001b[0m\u001b[0;34m\u001b[0m\u001b[0m\n\u001b[0;32m----> 5\u001b[0;31m \u001b[0malgo\u001b[0m\u001b[0;34m.\u001b[0m\u001b[0mfit\u001b[0m\u001b[0;34m(\u001b[0m\u001b[0mtrain_data\u001b[0m\u001b[0;34m)\u001b[0m\u001b[0;34m\u001b[0m\u001b[0;34m\u001b[0m\u001b[0m\n\u001b[0m\u001b[1;32m      6\u001b[0m \u001b[0mdev_prediction\u001b[0m \u001b[0;34m=\u001b[0m \u001b[0malgo\u001b[0m\u001b[0;34m.\u001b[0m\u001b[0mtest\u001b[0m\u001b[0;34m(\u001b[0m\u001b[0mdev_data\u001b[0m\u001b[0;34m)\u001b[0m\u001b[0;34m\u001b[0m\u001b[0;34m\u001b[0m\u001b[0m\n\u001b[1;32m      7\u001b[0m \u001b[0;34m\u001b[0m\u001b[0m\n",
      "\u001b[0;32m/opt/anaconda3/lib/python3.8/site-packages/surprise/prediction_algorithms/matrix_factorization.pyx\u001b[0m in \u001b[0;36msurprise.prediction_algorithms.matrix_factorization.SVD.fit\u001b[0;34m()\u001b[0m\n",
      "\u001b[0;32m/opt/anaconda3/lib/python3.8/site-packages/surprise/prediction_algorithms/matrix_factorization.pyx\u001b[0m in \u001b[0;36msurprise.prediction_algorithms.matrix_factorization.SVD.sgd\u001b[0;34m()\u001b[0m\n",
      "\u001b[0;32m/opt/anaconda3/lib/python3.8/site-packages/surprise/trainset.py\u001b[0m in \u001b[0;36mall_ratings\u001b[0;34m(self)\u001b[0m\n\u001b[1;32m    187\u001b[0m         \u001b[0;32mfor\u001b[0m \u001b[0mu\u001b[0m\u001b[0;34m,\u001b[0m \u001b[0mu_ratings\u001b[0m \u001b[0;32min\u001b[0m \u001b[0miteritems\u001b[0m\u001b[0;34m(\u001b[0m\u001b[0mself\u001b[0m\u001b[0;34m.\u001b[0m\u001b[0mur\u001b[0m\u001b[0;34m)\u001b[0m\u001b[0;34m:\u001b[0m\u001b[0;34m\u001b[0m\u001b[0;34m\u001b[0m\u001b[0m\n\u001b[1;32m    188\u001b[0m             \u001b[0;32mfor\u001b[0m \u001b[0mi\u001b[0m\u001b[0;34m,\u001b[0m \u001b[0mr\u001b[0m \u001b[0;32min\u001b[0m \u001b[0mu_ratings\u001b[0m\u001b[0;34m:\u001b[0m\u001b[0;34m\u001b[0m\u001b[0;34m\u001b[0m\u001b[0m\n\u001b[0;32m--> 189\u001b[0;31m                 \u001b[0;32myield\u001b[0m \u001b[0mu\u001b[0m\u001b[0;34m,\u001b[0m \u001b[0mi\u001b[0m\u001b[0;34m,\u001b[0m \u001b[0mr\u001b[0m\u001b[0;34m\u001b[0m\u001b[0;34m\u001b[0m\u001b[0m\n\u001b[0m\u001b[1;32m    190\u001b[0m \u001b[0;34m\u001b[0m\u001b[0m\n\u001b[1;32m    191\u001b[0m     \u001b[0;32mdef\u001b[0m \u001b[0mbuild_testset\u001b[0m\u001b[0;34m(\u001b[0m\u001b[0mself\u001b[0m\u001b[0;34m)\u001b[0m\u001b[0;34m:\u001b[0m\u001b[0;34m\u001b[0m\u001b[0;34m\u001b[0m\u001b[0m\n",
      "\u001b[0;31mKeyboardInterrupt\u001b[0m: "
     ]
    }
   ],
   "source": [
    "# Train and test algorithm (Matrix Factorization for Collaborative Filtering)\n",
    "algo = SVD()\n",
    "\n",
    "# Train our train_data (all user's that have liked 30+ movies, train on the n-2 movie set)\n",
    "algo.fit(train_data)\n",
    "dev_prediction = algo.test(dev_data)\n",
    "\n",
    "# Sort dev evaluation pools based on SVD model\n",
    "sorted_dev_evaluation_pools = sort_evaluation_pools(algo, dev_evaluation_pools, sc_rankings, ranking_movieID)\n",
    "\n",
    "#Get summary statistics that we will use across all models. \n",
    "hit_rate_pools, hit_rate_pools_with_cutoff, avg_est_rating, avg_novelty, rmse = summaryStats(sorted_dev_evaluation_pools, dev_df, dev_prediction, rating_cutoff = 4)\n",
    "\n",
    "print(f'HR@10: {hit_rate_pools}')\n",
    "print(f'HR@10 w/ Cutoff: {hit_rate_pools_with_cutoff}')\n",
    "print(f'AvgRating@10: {avg_est_rating}')\n",
    "print(f'AvgNovelty@10: {avg_novelty}')\n",
    "print(f'RMSE: {rmse}')"
   ]
  },
  {
   "cell_type": "code",
   "execution_count": 29,
   "metadata": {},
   "outputs": [
    {
     "name": "stdout",
     "output_type": "stream",
     "text": [
      "HR@10: 0.09945750452079566\n",
      "HR@10 w/ Cutoff: 0.0932475884244373\n",
      "AvgRating@10: 4.968820532447686\n",
      "AvgNovelty@10: 4.87571579264609\n",
      "RMSE: 1.4325557216062068\n"
     ]
    }
   ],
   "source": [
    "# Train and test random predictions as basline (NormalPredictor()). \n",
    "# \"Algorithm predicting a random rating based on the distribution \n",
    "# of the training set, which is assumed to be normal.\"\n",
    "algo = NormalPredictor()\n",
    "\n",
    "# Train our train_data (all user's that have liked 30+ movies, train on the n-2 movie set)\n",
    "algo.fit(train_data)\n",
    "dev_prediction = algo.test(dev_data)\n",
    "\n",
    "# Sort dev evaluation pools based on SVD model\n",
    "sorted_dev_evaluation_pools = sort_evaluation_pools(algo, dev_evaluation_pools, sc_rankings, ranking_movieID)\n",
    "\n",
    "#Get summary statistics that we will use across all models. \n",
    "hit_rate_pools, hit_rate_pools_with_cutoff, avg_est_rating, avg_novelty, rmse = summaryStats(sorted_dev_evaluation_pools, dev_df, dev_prediction, rating_cutoff = 4)\n",
    "\n",
    "print(f'HR@10: {hit_rate_pools}')\n",
    "print(f'HR@10 w/ Cutoff: {hit_rate_pools_with_cutoff}')\n",
    "print(f'AvgRating@10: {avg_est_rating}')\n",
    "print(f'AvgNovelty@10: {avg_novelty}')\n",
    "print(f'RMSE: {rmse}')"
   ]
  },
  {
   "cell_type": "markdown",
   "metadata": {},
   "source": [
    "#### 3.) Compare the three predominant Matrix Factorization Models and a Random Only Predictor. "
   ]
  },
  {
   "cell_type": "code",
   "execution_count": 30,
   "metadata": {},
   "outputs": [
    {
     "name": "stdout",
     "output_type": "stream",
     "text": [
      "NormalPredictor\n",
      "HR@10: 0.0922242314647378\n",
      "HR@10 w/ Cutoff: 0.11254019292604502\n",
      "RMSE: 1.477030999034745\n",
      "AvgRating@10: 4.9710381166500515\n",
      "AvgNovelty@10: 4.8668799554874695\n",
      "SVD\n",
      "HR@10: 0.321880650994575\n",
      "HR@10 w/ Cutoff: 0.3890675241157556\n",
      "RMSE: 0.9565137049145211\n",
      "AvgRating@10: 3.998925313443918\n",
      "AvgNovelty@10: 4.52631914498999\n",
      "SVDpp\n",
      "HR@10: 0.321880650994575\n",
      "HR@10 w/ Cutoff: 0.40514469453376206\n",
      "RMSE: 0.9268431420068997\n",
      "AvgRating@10: 4.024501445235358\n",
      "AvgNovelty@10: 4.554275629433812\n",
      "NMF\n",
      "HR@10: 0.15009041591320071\n",
      "HR@10 w/ Cutoff: 0.1607717041800643\n",
      "RMSE: 0.9940485377566632\n",
      "AvgRating@10: 4.397163200127645\n",
      "AvgNovelty@10: 4.79301421152677\n"
     ]
    }
   ],
   "source": [
    "#Specify the 3 models\n",
    "models = [NormalPredictor(), SVD(), SVDpp(), NMF()]\n",
    "#Compare the 3 models, this will append results to global lists and print results. \n",
    "compareModels(models, train_data, dev_data, hyperparams = False)"
   ]
  },
  {
   "cell_type": "markdown",
   "metadata": {},
   "source": [
    "#### 4.) Do a non-exhaustive search for the best baseline model (SVD) hyperarameters. "
   ]
  },
  {
   "cell_type": "code",
   "execution_count": 31,
   "metadata": {},
   "outputs": [],
   "source": [
    "#Note default values n_factors = 100, n_epochs = 20, lr_all = 0.005, reg_all = 0.02\n",
    "n_factors = [50, 100, 200, 500]\n",
    "n_epochs = [10,20,30]\n",
    "lr_all = [0.001, 0.005, 0.01]\n",
    "reg_all = [0, 0.01, 0.02, 0.04]\n",
    "\n",
    "best_n_factors, best_n_epochs, best_lr_all, best_reg_all = bestHyperparams(n_factors, n_epochs, lr_all, reg_all)"
   ]
  },
  {
   "cell_type": "markdown",
   "metadata": {},
   "source": [
    "#### 5.) Apply our best hyperparams to our best baseline model. "
   ]
  },
  {
   "cell_type": "code",
   "execution_count": 32,
   "metadata": {},
   "outputs": [
    {
     "name": "stdout",
     "output_type": "stream",
     "text": [
      "SVD\n",
      "HR@10: 0.3960216998191682\n",
      "HR@10 w/ Cutoff: 0.49517684887459806\n",
      "RMSE: 0.9597826178373067\n",
      "AvgRating@10: 3.89085855606932\n",
      "AvgNovelty@10: 4.415235081374291\n"
     ]
    }
   ],
   "source": [
    "#Return the first 10 movies (in predicted rating) from the evaluation_pool, \n",
    "#and then the remaining n. We will use this structure to swap our predictions for diversity. \n",
    "model = [SVD(n_factors = best_n_factors, n_epochs = best_n_epochs, lr_all = best_lr_all, reg_all = best_reg_all)]\n",
    "#model = [SVD(n_factors = 50, n_epochs = 10, lr_all = 0.005, reg_all = 0.04)]\n",
    "#Compare Model. This will append results to our global lists. \n",
    "compareModels(model, train_data, dev_data, hyperparams = True)\n"
   ]
  },
  {
   "cell_type": "code",
   "execution_count": 40,
   "metadata": {},
   "outputs": [],
   "source": [
    "#Manually append Deep Learning Results, from 'model_embedding_depth_1/3/10'\n",
    "#These are big models that are not able to run within this notebook, hence \n",
    "#the manual add. \n",
    "dl_models = ['DL Embed:1', 'DL Embed:3', 'DL Embed:10']\n",
    "dl_hr = [None, None, None]\n",
    "dl_hr_cutoff = [0.603, 0.709, 0.715]\n",
    "dl_est_rating = [None, None, None]\n",
    "dl_novelty = [None, None, None]\n",
    "dl_rmse = [0.821, 0.769, 0.734]\n",
    "\n",
    "for i in range(len(dl_models)):\n",
    "    algo_list.append(dl_models[i])\n",
    "    hr_list.append(dl_hr[i])\n",
    "    hr_cutoff_list.append(dl_hr_cutoff[i])\n",
    "    avg_est_rating_list.append(dl_est_rating[i])\n",
    "    avg_novelty_list.append(dl_novelty[i])\n",
    "    rmse_list.append(dl_rmse[i])"
   ]
  },
  {
   "cell_type": "markdown",
   "metadata": {},
   "source": [
    "#### 5.) Plot baseline model comparison (against HR@10 w/ Cutoff and RMSE)"
   ]
  },
  {
   "cell_type": "code",
   "execution_count": 56,
   "metadata": {},
   "outputs": [
    {
     "data": {
      "image/png": "[encoded data removed]",
      "text/plain": [
       "<Figure size 864x720 with 1 Axes>"
      ]
     },
     "metadata": {
      "needs_background": "light"
     },
     "output_type": "display_data"
    }
   ],
   "source": [
    "#Plot HR@10 with Cutoff\n",
    "fig = plt.figure(figsize = (12,10))\n",
    "ax = fig.add_axes([0,0,1,1])\n",
    "ax.spines['top'].set_visible(False)\n",
    "ax.spines['right'].set_visible(False)\n",
    "ax.bar(algo_list[1:], hr_cutoff_list[1:], alpha=0.5)\n",
    "ax.hlines(hr_cutoff_list[0], xmin=-0.5, xmax = 6.5, color='black', linestyles='dashed', label='baseline')\n",
    "ax.text(6.5, hr_cutoff_list[0], 'baseline')\n",
    "ax.set_ylabel('Hit Ratio')\n",
    "ax.set_ylim(0.0, 0.8)\n",
    "ax.set_title('Best Hit Ratio by Matrix Factorization Method')\n",
    "plt.show()"
   ]
  },
  {
   "cell_type": "code",
   "execution_count": 58,
   "metadata": {},
   "outputs": [
    {
     "data": {
      "image/png": "[encoded data removed]",
      "text/plain": [
       "<Figure size 864x720 with 1 Axes>"
      ]
     },
     "metadata": {
      "needs_background": "light"
     },
     "output_type": "display_data"
    }
   ],
   "source": [
    "#Plot RMSE\n",
    "fig = plt.figure(figsize = (12,10))\n",
    "ax = fig.add_axes([0,0,1,1])\n",
    "ax.spines['top'].set_visible(False)\n",
    "ax.spines['right'].set_visible(False)\n",
    "ax.bar(algo_list[1:], rmse_list[1:], alpha=0.5)\n",
    "ax.hlines(rmse_list[0], xmin=-0.5, xmax=6.5, color='black', linestyles='dashed', label='baseline')\n",
    "ax.text(6.5, rmse_list[0], 'baseline')\n",
    "ax.set_ylabel('RMSE')\n",
    "ax.set_ylim(0.0, 2.0)\n",
    "ax.set_title('Best RMSE by Matrix Factorization Method')\n",
    "plt.show()"
   ]
  },
  {
   "cell_type": "markdown",
   "metadata": {},
   "source": [
    "#### 6.) Switch to test data. "
   ]
  },
  {
   "cell_type": "code",
   "execution_count": 35,
   "metadata": {},
   "outputs": [],
   "source": [
    "#algo = SVD()\n",
    "#Load our best model. \n",
    "algo = SVD(n_factors = best_n_factors, n_epochs = best_n_epochs, lr_all = best_lr_all, reg_all = best_reg_all)\n",
    "# algo = SVD(n_factors = 50, n_epochs = 10, lr_all = 0.005, reg_all = 0.04)\n",
    "algo.fit(train_data)\n",
    "test_prediction = algo.test(test_data)\n",
    "\n",
    "#Create our final dev_evaluation_pool using our best algo for diversifitcation swapping. \n",
    "sorted_test_evaluation_pool = sort_evaluation_pools(algo, test_evaluation_pools,sc_rankings, ranking_movieID)"
   ]
  },
  {
   "cell_type": "markdown",
   "metadata": {},
   "source": [
    "#### 7.) Setup our diversification swapping. "
   ]
  },
  {
   "cell_type": "code",
   "execution_count": 36,
   "metadata": {},
   "outputs": [],
   "source": [
    "#Need to pass algo so that we can build the proper dictionary with predictions\n",
    "topNPredicted_Split, nextNPredicted_Split, remainingNPredicted_Split = GetTopNSplitPools(sorted_test_evaluation_pool)"
   ]
  },
  {
   "cell_type": "markdown",
   "metadata": {},
   "source": [
    "#### 7.) Run our diversification swapping and plot tradeoff. "
   ]
  },
  {
   "cell_type": "code",
   "execution_count": 37,
   "metadata": {},
   "outputs": [
    {
     "data": {
      "text/plain": [
       "<matplotlib.legend.Legend at 0x7fc6f95bc220>"
      ]
     },
     "execution_count": 37,
     "metadata": {},
     "output_type": "execute_result"
    },
    {
     "data": {
      "image/png": "[encoded data removed]",
      "text/plain": [
       "<Figure size 432x288 with 1 Axes>"
      ]
     },
     "metadata": {
      "needs_background": "light"
     },
     "output_type": "display_data"
    }
   ],
   "source": [
    "method, average_novelty, hit_rate, rmse, method_blended, average_novelty_blended, hit_rate_blended, rmse_blended, hit_rate_cutoff, hit_rate_cutoff_blended, swapping_iterations, swapping_iterations_blended = calcDiversityTradeoff(topNPredicted_Split, nextNPredicted_Split,remainingNPredicted_Split, test_df, test_prediction)\n",
    "\n",
    "plt.plot(swapping_iterations, hit_rate_cutoff, label = 'Matrix Factorization with SVD()')\n",
    "plt.plot(swapping_iterations_blended, hit_rate_cutoff_blended, label = 'Matrix Factoriziation with SVD(), blended swapping')\n",
    "plt.title(\"Trade-Off of Diversification Swapping Iterations and HR@10\")\n",
    "plt.xlabel(\"Diversification Swapping Iterations\")\n",
    "plt.ylabel(\"HR@10 with Cutoff\")\n",
    "plt.legend(loc = 'best')"
   ]
  },
  {
   "cell_type": "code",
   "execution_count": 68,
   "metadata": {},
   "outputs": [
    {
     "data": {
      "image/png": "[encoded data removed]",
      "text/plain": [
       "<Figure size 576x360 with 2 Axes>"
      ]
     },
     "metadata": {
      "needs_background": "light"
     },
     "output_type": "display_data"
    }
   ],
   "source": [
    "#Note we will use the non-blended version to tie to the methods used for Content Based, \n",
    "#despite better results. \n",
    "\n",
    "fig, ax1 = plt.subplots(figsize=(8, 5))\n",
    "ax2 = ax1.twinx()\n",
    "ax1.plot(swapping_iterations, hit_rate_cutoff, color='blue', marker='o', label='hit rate')\n",
    "ax1.plot(swapping_iterations, hit_rate_cutoff_blended, color = 'blue', marker = 'x', label = 'hit rate blended')\n",
    "ax2.plot(swapping_iterations, average_novelty, color='red', marker='o', label='novelty only')\n",
    "ax2.plot(swapping_iterations, average_novelty_blended, color='red', marker='x', label='0.3 * novelty + 0.7 * est_rating')\n",
    "ax1.set_title('Trade-off btw Hit Ratio and Novelty')\n",
    "ax1.spines['top'].set_visible(False)\n",
    "ax2.spines['top'].set_visible(False)\n",
    "ax1.set_xlabel('Number of swaps')\n",
    "ax1.set_ylabel('Hit Rate Score', fontsize='large', fontweight='bold')\n",
    "ax1.spines['right'].set_color('blue')\n",
    "ax1.yaxis.label.set_color('blue')\n",
    "ax1.tick_params(axis='y', colors='blue')\n",
    "ax1.set_ylim(0.0, 0.5)\n",
    "ax2.set_ylim(4.0, 5.0)\n",
    "ax1.set_xticks(swapping_iterations)\n",
    "ax2.set_ylabel('Novelty Score', fontsize='large', fontweight='bold')\n",
    "ax2.spines['right'].set_color('red')\n",
    "ax2.yaxis.label.set_color('red')\n",
    "ax2.tick_params(axis='y', colors='red')\n",
    "plt.legend(loc = 'lower left')\n",
    "plt.show()"
   ]
  },
  {
   "cell_type": "code",
   "execution_count": null,
   "metadata": {},
   "outputs": [],
   "source": []
  }
 ],
 "metadata": {
  "kernelspec": {
   "display_name": "Python 3",
   "language": "python",
   "name": "python3"
  },
  "language_info": {
   "codemirror_mode": {
    "name": "ipython",
    "version": 3
   },
   "file_extension": ".py",
   "mimetype": "text/x-python",
   "name": "python",
   "nbconvert_exporter": "python",
   "pygments_lexer": "ipython3",
   "version": "3.8.3"
  }
 },
 "nbformat": 4,
 "nbformat_minor": 4
}
