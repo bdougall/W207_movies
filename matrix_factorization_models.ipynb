{
 "cells": [
  {
   "cell_type": "markdown",
   "metadata": {},
   "source": [
    "## Import Packages"
   ]
  },
  {
   "cell_type": "code",
   "execution_count": 1,
   "metadata": {},
   "outputs": [],
   "source": [
    "# Import packages\n",
    "%matplotlib inline\n",
    "\n",
    "from surprise import Reader\n",
    "from surprise import SVD,SVDpp, NMF\n",
    "from surprise import KNNBasic\n",
    "from surprise import Dataset\n",
    "from surprise import Trainset\n",
    "from surprise import accuracy\n",
    "from surprise.model_selection import LeaveOneOut\n",
    "from sklearn.preprocessing import MinMaxScaler\n",
    "from sklearn.preprocessing import StandardScaler\n",
    "from sklearn.preprocessing import RobustScaler\n",
    "from itertools import combinations\n",
    "from collections import defaultdict\n",
    "import random\n",
    "import copy\n",
    "import warnings\n",
    "import pandas as pd\n",
    "import numpy as np\n",
    "import matplotlib.pyplot as plt\n",
    "import json"
   ]
  },
  {
   "cell_type": "code",
   "execution_count": 2,
   "metadata": {},
   "outputs": [],
   "source": [
    "np.random.seed(0)\n",
    "random.seed(0)\n",
    "warnings.filterwarnings('ignore')"
   ]
  },
  {
   "cell_type": "markdown",
   "metadata": {},
   "source": [
    "## Define Working Directory"
   ]
  },
  {
   "cell_type": "code",
   "execution_count": 3,
   "metadata": {},
   "outputs": [],
   "source": [
    "# path_clean_data = '/Users/jericojohns/Desktop//W207/W207_movies/data/clean_data/'"
   ]
  },
  {
   "cell_type": "markdown",
   "metadata": {},
   "source": [
    "## Import Prepocessed Data "
   ]
  },
  {
   "cell_type": "markdown",
   "metadata": {},
   "source": [
    "#### TEMPORARY SECTION. "
   ]
  },
  {
   "cell_type": "code",
   "execution_count": 4,
   "metadata": {},
   "outputs": [],
   "source": [
    "def filter_ratings(df, min_ratings):\n",
    "    \n",
    "    '''Filter users with num_ratings below min_ratings\n",
    "    params: df, min_ratings\n",
    "    return: sorted_filtered_df\n",
    "    '''\n",
    "    \n",
    "    # Value counts of user ratings\n",
    "    user_ratings_counts = df['userId'].value_counts()\n",
    "    # List of users with ratings counts greater than min_ratings\n",
    "    filtered_users = user_ratings_counts[user_ratings_counts >= min_ratings].index\n",
    "    # Filter df to list of users above\n",
    "    filtered_df = df[df['userId'].isin(filtered_users)]\n",
    "    \n",
    "    return filtered_df"
   ]
  },
  {
   "cell_type": "code",
   "execution_count": 5,
   "metadata": {},
   "outputs": [],
   "source": [
    "def train_dev_test_split(ratings_df, dev_size=1, test_size=1):\n",
    "    \n",
    "    '''\n",
    "    Split user ratings data into train, development and test sets holding the last \n",
    "    [test_size] ratings per user for test and last [dev_size] ratings per user for \n",
    "    development, following reverse chronological order\n",
    "    \n",
    "    Parameters\n",
    "    ----------\n",
    "    ratings_df : A dataframe of ratings data\n",
    "    dev_size : The number of ratings per user to set asside development data\n",
    "    test_size : The number of ratings per user to set asside test data\n",
    "    \n",
    "    Returns\n",
    "    -------\n",
    "    train_df : Dataframe of training ratings data\n",
    "    dev_df : Dataframe of development ratings data\n",
    "    test_df :  Dataframe of test ratings data\n",
    "    '''\n",
    "    \n",
    "    # Add a column that ranks each rating in reverse chronolgical grouped by user\n",
    "    ratings_df['rank'] = ratings_df.groupby(['userId'])['timestamp'] \\\n",
    "                         .rank(method='first', ascending=False).copy()\n",
    "    \n",
    "    # Filter to test data using rank column\n",
    "    test_df = ratings_df[ratings_df['rank'].isin(range(1,1+test_size))][['userId', 'movieId', 'rating']]\n",
    "    \n",
    "    # Filter to dev data using rank column\n",
    "    dev_df = ratings_df[ratings_df['rank'].isin(range(1+test_size, 1+test_size+dev_size))][['userId', 'movieId', 'rating']]\n",
    "    \n",
    "    # Filter to train data using rank column\n",
    "    train_df = ratings_df[ratings_df['rank'] >= (1+test_size+dev_size)][['userId', 'movieId', 'rating']]\n",
    "        \n",
    "    return train_df, dev_df, test_df"
   ]
  },
  {
   "cell_type": "code",
   "execution_count": 6,
   "metadata": {},
   "outputs": [],
   "source": [
    "def create_evaluation_pools(train_df, test_df, pool_size=100):\n",
    "    \n",
    "    '''\n",
    "    Create pools of movies to evaluate the collaborative filtering models.\n",
    "    Each pool will contain pool_size movies per user. Each pool includes the \n",
    "    movies in the test_df and randomly selects the rest of the movies from \n",
    "    those not watched by the user.\n",
    "    \n",
    "    Parameters\n",
    "    ----------\n",
    "    train_df : A dataframe of the training ratings data\n",
    "    test_df : A dataframe of the test ratings data\n",
    "    pool_size : The size of each movie pool\n",
    "    \n",
    "    Returns\n",
    "    -------\n",
    "    evaluation_pools_dict : A dictionary from user to the pool of movies on \n",
    "                            which to evaluate the recommender system\n",
    "    \n",
    "    '''\n",
    "    \n",
    "    # Find the list of unique users and movies in the training data\n",
    "    users = set(train_df['userId'].unique())\n",
    "    movies = set(train_df['movieId'].unique())\n",
    "    \n",
    "    # Instantiate the output dictionary\n",
    "    evaluation_pools_dict = {}\n",
    "    \n",
    "    # Loop through each user\n",
    "    for user in users:\n",
    "        \n",
    "        # Find set of movies rated by the user in the training and test data\n",
    "        train_movies = set(train_df[train_df['userId']==user]['movieId'])\n",
    "        test_movies = set(test_df[test_df['userId']==user]['movieId'])\n",
    "        \n",
    "        # Find the set of movies not rated by the user\n",
    "        movies_not_rated = movies - train_movies - test_movies\n",
    "        \n",
    "        # Randomly sample movies from the movies not rated by the user\n",
    "        n_movies_to_choose = pool_size - len(test_movies)\n",
    "        sample_movies_not_rated = set(random.sample(movies_not_rated, n_movies_to_choose))\n",
    "        \n",
    "        # Combine the test movies with the random sample of movies\n",
    "        evaluation_pool = list(test_movies | sample_movies_not_rated)\n",
    "        \n",
    "        # Add each evaluation_pool to the output dictionary \n",
    "        evaluation_pools_dict[user] = evaluation_pool\n",
    "    \n",
    "    return evaluation_pools_dict"
   ]
  },
  {
   "cell_type": "code",
   "execution_count": 7,
   "metadata": {},
   "outputs": [],
   "source": [
    "#Load data into ratings_df. \n",
    "ratings_df = pd.read_csv(\"/Users/jericojohns/Desktop/W207/data/ratings_small.csv\", low_memory=False)"
   ]
  },
  {
   "cell_type": "code",
   "execution_count": 8,
   "metadata": {},
   "outputs": [],
   "source": [
    "#TEMPORARY\n",
    "#Filter our user list to those users who have 30+ ratings\n",
    "filtered_data = filter_ratings(ratings_df, min_ratings = 30)\n",
    "\n",
    "#Now split our data so that we take the n-1 (most recent) rating as our test rating, \n",
    "#and n-2 (second most recent) rating as our dev rating \n",
    "train_df, dev_df, test_df = train_dev_test_split(filtered_data)\n",
    "\n",
    "dev_evaluation_pools = create_evaluation_pools(train_df, dev_df)\n",
    "\n",
    "#Create a surprise Reader object to help us create a Surprise DataSet object. \n",
    "reader = Reader()\n",
    "\n",
    "#Now we load training data as is (no folding) by calling the .build_full_trainset() method. \n",
    "train_data = Dataset.load_from_df(train_df, reader).build_full_trainset()\n",
    "\n",
    "\n",
    "#Convert dev_data to DataSet object, and then as testset object by calling .buildtestset()\n",
    "dev_data = Dataset.load_from_df(dev_df, reader).build_full_trainset()\n",
    "dev_data = dev_data.build_testset()\n",
    "\n",
    "#Convert test_data to DataSet object, and then as testset object by calling .buildtestset()\n",
    "test_data = Dataset.load_from_df(test_df, reader).build_full_trainset()\n",
    "test_data = test_data.build_testset()"
   ]
  },
  {
   "cell_type": "code",
   "execution_count": 9,
   "metadata": {},
   "outputs": [],
   "source": [
    "# Load train, dev, test data\n",
    "# train_df = pd.read_csv(path_clean_data + \"cf_train_ratings.csv\", low_memory=False)\n",
    "# dev_df = pd.read_csv(path_clean_data + \"cf_dev_ratings.csv\", low_memory=False)\n",
    "# test_df = pd.read_csv(path_clean_data + \"cf_test_ratings.csv\", low_memory=False)"
   ]
  },
  {
   "cell_type": "code",
   "execution_count": 10,
   "metadata": {},
   "outputs": [],
   "source": [
    "# drop 'Unnamed 0' column\n",
    "# train_df.drop('Unnamed: 0', axis=1, inplace=True)\n",
    "# dev_df.drop('Unnamed: 0', axis=1, inplace=True)\n",
    "# test_df.drop('Unnamed: 0', axis=1, inplace=True)"
   ]
  },
  {
   "cell_type": "code",
   "execution_count": 11,
   "metadata": {},
   "outputs": [
    {
     "data": {
      "text/html": [
       "<div>\n",
       "<style scoped>\n",
       "    .dataframe tbody tr th:only-of-type {\n",
       "        vertical-align: middle;\n",
       "    }\n",
       "\n",
       "    .dataframe tbody tr th {\n",
       "        vertical-align: top;\n",
       "    }\n",
       "\n",
       "    .dataframe thead th {\n",
       "        text-align: right;\n",
       "    }\n",
       "</style>\n",
       "<table border=\"1\" class=\"dataframe\">\n",
       "  <thead>\n",
       "    <tr style=\"text-align: right;\">\n",
       "      <th></th>\n",
       "      <th>userId</th>\n",
       "      <th>movieId</th>\n",
       "      <th>rating</th>\n",
       "    </tr>\n",
       "  </thead>\n",
       "  <tbody>\n",
       "    <tr>\n",
       "      <th>20</th>\n",
       "      <td>2</td>\n",
       "      <td>10</td>\n",
       "      <td>4.0</td>\n",
       "    </tr>\n",
       "    <tr>\n",
       "      <th>21</th>\n",
       "      <td>2</td>\n",
       "      <td>17</td>\n",
       "      <td>5.0</td>\n",
       "    </tr>\n",
       "    <tr>\n",
       "      <th>22</th>\n",
       "      <td>2</td>\n",
       "      <td>39</td>\n",
       "      <td>5.0</td>\n",
       "    </tr>\n",
       "    <tr>\n",
       "      <th>23</th>\n",
       "      <td>2</td>\n",
       "      <td>47</td>\n",
       "      <td>4.0</td>\n",
       "    </tr>\n",
       "    <tr>\n",
       "      <th>24</th>\n",
       "      <td>2</td>\n",
       "      <td>50</td>\n",
       "      <td>4.0</td>\n",
       "    </tr>\n",
       "  </tbody>\n",
       "</table>\n",
       "</div>"
      ],
      "text/plain": [
       "    userId  movieId  rating\n",
       "20       2       10     4.0\n",
       "21       2       17     5.0\n",
       "22       2       39     5.0\n",
       "23       2       47     4.0\n",
       "24       2       50     4.0"
      ]
     },
     "execution_count": 11,
     "metadata": {},
     "output_type": "execute_result"
    }
   ],
   "source": [
    "# Inspect train_df\n",
    "train_df.head()"
   ]
  },
  {
   "cell_type": "code",
   "execution_count": 12,
   "metadata": {},
   "outputs": [],
   "source": [
    "# Load dev and test evaluation pools\n",
    "# f1 = open(path_clean_data + 'dev_evaluation_pools.json',)\n",
    "# f2 = open(path_clean_data + 'test_evaluation_pools.json',)\n",
    "# dev_evaluation_pools = json.load(f1)\n",
    "# test_evaluation_pools = json.load(f2)\n",
    "\n",
    "# # Convert key from str to int\n",
    "# dev_evaluation_pools = {int(k):v for k,v in dev_evaluation_pools.items()}\n",
    "# test_evaluation_pools = {int(k):v for k,v in test_evaluation_pools.items()}"
   ]
  },
  {
   "cell_type": "markdown",
   "metadata": {},
   "source": [
    "## Load Data into Surprise Data Structures"
   ]
  },
  {
   "cell_type": "code",
   "execution_count": 13,
   "metadata": {},
   "outputs": [],
   "source": [
    "#Create a surprise Reader object to help us create a Surprise DataSet object. \n",
    "reader = Reader()\n",
    "\n",
    "#Now we load training data as is (no folding) by calling the .build_full_trainset() method. \n",
    "train_data = Dataset.load_from_df(train_df, reader).build_full_trainset()\n",
    "\n",
    "#Convert dev_data to DataSet object, and then as testset object by calling .buildtestset()\n",
    "dev_data = Dataset.load_from_df(dev_df, reader).build_full_trainset()\n",
    "dev_data = dev_data.build_testset()\n",
    "\n",
    "#Convert test_data to DataSet object, and then as testset object by calling .buildtestset()\n",
    "test_data = Dataset.load_from_df(test_df, reader).build_full_trainset()\n",
    "test_data = test_data.build_testset()"
   ]
  },
  {
   "cell_type": "markdown",
   "metadata": {},
   "source": [
    "## Run and Evaluate Matrix Factorization Models"
   ]
  },
  {
   "cell_type": "markdown",
   "metadata": {},
   "source": [
    "### Define Custom Functions"
   ]
  },
  {
   "cell_type": "code",
   "execution_count": 14,
   "metadata": {},
   "outputs": [],
   "source": [
    "def calculateItemNovelty(ratings_df):\n",
    "    '''Create two lists of 1.) sc_rankings (standardized and minMaxScaled)\n",
    "    and 2.) movieIDs that correspond to those rankings.'''\n",
    "    rankings = ratings_df[\"movieId\"].value_counts()\n",
    "    ratings =  ratings_df[['movieId','rating']].groupby('movieId').mean()\n",
    "\n",
    "    #Let's standardize our rankings to be able to be used together \n",
    "    scaler = MinMaxScaler(feature_range = (0,5))\n",
    "    scaler2 = RobustScaler()\n",
    "    ranking_movieID = rankings.index.to_numpy()\n",
    "    ratings = ratings.to_numpy().reshape(-1,1)\n",
    "\n",
    "    scaler.fit(ratings)\n",
    "    scaler2.fit(ratings)\n",
    "    sc_rankings = rankings.to_numpy().reshape(-1,1)\n",
    "    sc_rankings = scaler2.transform(sc_rankings)\n",
    "    sc_rankings = scaler.fit_transform(sc_rankings)\n",
    "\n",
    "\n",
    "\n",
    "    sc_rankings = sc_rankings.tolist()\n",
    "\n",
    "    sc_rankings = [(float(i[0])*-1)+5 for i in sc_rankings]\n",
    "\n",
    "\n",
    "    ranking_movieID = ranking_movieID.tolist()\n",
    "    \n",
    "    return sc_rankings, ranking_movieID"
   ]
  },
  {
   "cell_type": "code",
   "execution_count": 15,
   "metadata": {},
   "outputs": [],
   "source": [
    "def sort_evaluation_pools(model, evaluation_pools, ranking_list, ranking_movies):\n",
    "    '''\n",
    "    Take evaluation pool for each user and sort it based on ratings predicted by a \n",
    "    trained model in descending order of predicted ratings\n",
    "    Parameters\n",
    "    ----------\n",
    "    model : A trained surprise model\n",
    "    evaluation_pools : A dictionary from user to the pool of movies on \n",
    "                       which to evaluate the recommender system \n",
    "    ranking_list = movie novelty scores\n",
    "    ranking_movies = movieIDs tied to novelty scores\n",
    "    \n",
    "    Returns\n",
    "    -------\n",
    "    sorted_evaluation_pools : A dictionary from user to the pool of movies where each \n",
    "                              movie is sorted in descending order of predicted movie \n",
    "                              rating\n",
    "    '''\n",
    "    \n",
    "    # Instantiate output dictionary\n",
    "    sorted_evaluation_pools = {}\n",
    "    \n",
    "    # Loop through each key-value pair in the input dictionary\n",
    "    for user, movie_pool in evaluation_pools.items():\n",
    "        \n",
    "        # Create a dictionary for the predicted rating of each movie in the user's pool\n",
    "        predictions = {}\n",
    "        for movie in movie_pool:\n",
    "            pred = model.predict(user, movie)\n",
    "            try: \n",
    "                novelty = ranking_list[ranking_movies.index(movie)]\n",
    "            except: \n",
    "                novelty = 5\n",
    "            predictions[movie] = (pred[3],novelty)\n",
    "            #Add in the novelty score\n",
    "            \n",
    "        \n",
    "        # Sort the pool in descending order of predicted ratings\n",
    "        sorted_pool = [(k,v) for k, v in sorted(predictions.items(), key=lambda item: item[1], reverse=True)]\n",
    "        \n",
    "        # Add key-value pair of user and sorted evalualtion pool to the output dictionary\n",
    "        sorted_evaluation_pools[user] = sorted_pool\n",
    "        \n",
    "        #Finally reformat our dictionary to be in format userID: (movieID, rating, novelty)\n",
    "        final_pool = defaultdict(list)\n",
    "        for userID in sorted_evaluation_pools: \n",
    "            for movieID, tup in sorted_evaluation_pools[userID]: \n",
    "                final_pool[int(userID)].append((int(movieID), tup[0], tup[1]))\n",
    "\n",
    "\n",
    "    return final_pool"
   ]
  },
  {
   "cell_type": "code",
   "execution_count": 16,
   "metadata": {},
   "outputs": [],
   "source": [
    "def calc_hit_rate_pools(sorted_evaluation_pools, test_df, top_n=10):\n",
    "    '''\n",
    "    Calculate hit rate given a dictionary of sorted evaluation pools and the corrsponding \n",
    "    test data frame. A hit is defined as finding a test movie in the top_n of sorted \n",
    "    evalutation pool of a user\n",
    "    Parameters\n",
    "    ----------\n",
    "    sorted_evaluation_pools : A dictionary from user to the pool of movies where each \n",
    "                              movie is sorted in descending order of predicted movie \n",
    "                              rating\n",
    "    test_df : A dataframe of ratings for movies being tested in the evaluation pools\n",
    "    top_n : The threshold above which a test movies should be found to be called a hit\n",
    "    \n",
    "    Returns\n",
    "    -------\n",
    "    hit_rate : A hit rate across pools\n",
    "    \n",
    "    '''\n",
    "    \n",
    "    # Start with hits and totals at 0\n",
    "    hits=0\n",
    "    total=0\n",
    "    \n",
    "    # Loop through the each key-value pair in the input dictionary\n",
    "    for user, sorted_pool in sorted_evaluation_pools.items():\n",
    "        \n",
    "        # Filter to test movies for the user\n",
    "        test_movies = test_df[test_df['userId']==user]\n",
    "        \n",
    "        # Find top_n movies from the pool\n",
    "        top_movies = sorted_pool[:top_n]\n",
    "        \n",
    "        # Loop through each test movie\n",
    "        for index, test_movie in test_movies.iterrows():\n",
    "            test_movie_id = test_movie['movieId']\n",
    "            \n",
    "            # If test movie is in top_movies, then add one to hits\n",
    "            for movie, rating, novelty in top_movies: \n",
    "                if test_movie_id == movie:\n",
    "                    hits += 1\n",
    "                \n",
    "            # Add one to total for each test movie  \n",
    "            total += 1\n",
    "     \n",
    "    hit_rate = hits/total\n",
    "    return hit_rate"
   ]
  },
  {
   "cell_type": "code",
   "execution_count": 17,
   "metadata": {},
   "outputs": [],
   "source": [
    "def calc_hit_rate_pools_with_cutoff(sorted_evaluation_pools, test_df, top_n=10, rating_cutoff=0):\n",
    "    '''\n",
    "    Calculate hit rate given a dictionary of sorted evaluation pools and a corresponding \n",
    "    test data frame. A hit is defined as finding a test movie that has a rating greater \n",
    "    than a rating_cutoff in the top_n of sorted evalutation pool of a user.\n",
    "    Parameters\n",
    "    ----------\n",
    "    sorted_evaluation_pools : A dictionary from user to the pool of movies where each \n",
    "                              movie is sorted in descending order of predicted movie \n",
    "                              rating\n",
    "    test_df : A dataframe of ratings for movies being tested in the evaluation pools\n",
    "    top_n : The threshold above which a test movies should be found to be called a hit\n",
    "    rating_cutoff : The threshold rating above which a test movie should be evaluated\n",
    "    \n",
    "    Returns\n",
    "    -------\n",
    "    hit_rate : A hit rate across pools\n",
    "    '''\n",
    "    \n",
    "    # Start with hits and totals at 0\n",
    "    hits=0\n",
    "    total=0\n",
    "    \n",
    "    # Loop through the each key-value pair in the input dictionary\n",
    "    for user, sorted_pool in sorted_evaluation_pools.items():\n",
    "        \n",
    "        # Filter to test movies for the user\n",
    "        test_movies = test_df[test_df['userId']==user]\n",
    "\n",
    "         # Find top_n movies from the pool\n",
    "        top_movies = sorted_pool[:top_n]\n",
    "        \n",
    "        # Loop through each test movie\n",
    "        for index, test_movie in test_movies.iterrows():\n",
    "            test_movie_rating = test_movie['rating']\n",
    "            test_movie_id = test_movie['movieId']\n",
    "            \n",
    "             # If test movie has a rating above rating_cutoff then evaluate\n",
    "            if test_movie_rating >= rating_cutoff:\n",
    "                \n",
    "                # If test movie is in top_movies, then add one to hits\n",
    "                # If test movie is in top_movies, then add one to hits\n",
    "                for movie, rating, novelty in top_movies: \n",
    "                    if test_movie_id == movie:\n",
    "                        hits += 1\n",
    "                \n",
    "                # Add one to total for each test movie\n",
    "                total += 1\n",
    "\n",
    "    return hits/total"
   ]
  },
  {
   "cell_type": "code",
   "execution_count": 18,
   "metadata": {},
   "outputs": [],
   "source": [
    "def summaryStats(sorted_evaluation_pools, test_df, rating_cutoff = 4): \n",
    "    '''Calculate average novelty, average rating, and hit rate for the top 10 of final sorted_evaluation_pool.'''\n",
    "    hit_rate_pools = calc_hit_rate_pools(sorted_evaluation_pools, test_df)\n",
    "    hit_rate_pools_with_cutoff =  calc_hit_rate_pools_with_cutoff(sorted_evaluation_pools, test_df, rating_cutoff=rating_cutoff)\n",
    "    \n",
    "    total_est_rating = 0 \n",
    "    total_novelty = 0 \n",
    "    total_items = 0 \n",
    "    for userID in sorted_evaluation_pools.keys(): \n",
    "        for tup in sorted_evaluation_pools[userID][:10]: \n",
    "            total_est_rating += tup[1]\n",
    "            total_novelty += tup[2]\n",
    "            total_items += 1\n",
    "    \n",
    "    avg_est_rating  = total_est_rating / total_items\n",
    "    avg_novelty = total_novelty / total_items\n",
    "    \n",
    "    return hit_rate_pools, hit_rate_pools_with_cutoff, avg_est_rating, avg_novelty \n",
    "        \n"
   ]
  },
  {
   "cell_type": "code",
   "execution_count": 19,
   "metadata": {},
   "outputs": [],
   "source": [
    "def compareModels(models, train_data, dev_data): \n",
    "    '''For baseline model selection of matrix factorization models.\n",
    "    Choose model that optimizes hit_rate_pools_with_cutoff.'''\n",
    "    for algo in models: \n",
    "        #Print model type \n",
    "        print(type(algo).__name__)\n",
    "        \n",
    "        #Train our train_data (all user's that have liked 30+ movies, train on the n-2 movie set)\n",
    "        algo.fit(train_data)\n",
    "        \n",
    "        #Sort our evaluation pool, using the algo. \n",
    "        sorted_dev_evaluation_pools = sort_evaluation_pools(algo, dev_evaluation_pools,sc_rankings, ranking_movieID) \n",
    "        \n",
    "        #Calculate summary stats for each model. \n",
    "        hit_rate_pools, hit_rate_pools_with_cutoff, avg_est_rating, avg_novelty = summaryStats(sorted_dev_evaluation_pools, dev_df, rating_cutoff = 4)\n",
    "        print(f'HR@10: {hit_rate_pools}')\n",
    "        print(f'HR@10 w/ Cutoff: {hit_rate_pools_with_cutoff}')\n",
    "        print(f'AvgRating@10: {avg_est_rating}')\n",
    "        print(f'AvgNovelty@10: {avg_novelty}')"
   ]
  },
  {
   "cell_type": "code",
   "execution_count": 20,
   "metadata": {},
   "outputs": [],
   "source": [
    "def bestHyperparams(n_factors, n_epochs, lr_all, reg_all): \n",
    "    '''Non-exhaustive (manual) search over hyperparam values to\n",
    "    select the best hyperparam values for hit_rate_pools_with_cutoff.'''\n",
    "    best_hr = 0\n",
    "    best_n_factors = 0\n",
    "    best_n_epochs = 0 \n",
    "    best_lr_all = 0 \n",
    "    best_reg_all = 0\n",
    "\n",
    "    for n_factor in n_factors: \n",
    "        for n_epoch in n_epochs: \n",
    "            for lr in lr_all: \n",
    "                for reg in reg_all: \n",
    "                    algo = SVD(n_factors = n_factor, n_epochs = n_epoch, lr_all = lr, reg_all = reg)\n",
    "                    algo.fit(train_data)\n",
    "                    sorted_dev_evaluation_pools = sort_evaluation_pools(algo, dev_evaluation_pools, sc_rankings, ranking_movieID)\n",
    "        \n",
    "\n",
    "                    #Calculate the two hit rates\n",
    "                    hit_rate_pools = calc_hit_rate_pools(sorted_dev_evaluation_pools, dev_df)\n",
    "                    hit_rate_pools_with_cutoff = calc_hit_rate_pools_with_cutoff(sorted_dev_evaluation_pools, dev_df, rating_cutoff=4)\n",
    "\n",
    "                    if hit_rate_pools_with_cutoff > best_hr: \n",
    "                        best_hr = hit_rate_pools_with_cutoff\n",
    "                        best_n_factors = n_factor\n",
    "                        best_n_epochs = n_epoch\n",
    "                        best_lr_all = lr\n",
    "                        best_reg_all = reg\n",
    "\n",
    "\n",
    "    print(f'Best HR@10: {best_hr}')\n",
    "    print(f'n_factors = {best_n_factors}, n_epochs = {best_n_epochs}, lr_all = {best_lr_all}, reg_all = {best_reg_all}')\n",
    "    \n",
    "    return best_n_factors, best_n_epochs, best_lr_all, best_reg_all\n"
   ]
  },
  {
   "cell_type": "code",
   "execution_count": 21,
   "metadata": {},
   "outputs": [],
   "source": [
    "def GetTopNSplitPools(sorted_evaluation_pool):\n",
    "    '''Get the top n predicted movie ratings for a given user, \n",
    "    the next n, and the rest of the evaluation pool. \n",
    "    Used to process sorted_evaluation_pool before \n",
    "    diversificationSwap().'''\n",
    "    predictions = sorted_evaluation_pool\n",
    "    topN = defaultdict(list)\n",
    "    nextN = defaultdict(list)\n",
    "    remainingN = defaultdict(list)\n",
    "    \n",
    "    #Select top_n and remaining_n\n",
    "    for userID, movies in predictions.items():\n",
    "        topN[int(userID)] = movies[:10]\n",
    "        #Pull the next n items as the remainingN list \n",
    "        nextN[int(userID)] = movies[10:30]\n",
    "        remainingN[int(userID)] = movies[30:]\n",
    "        \n",
    "\n",
    "    return topN, nextN, remainingN"
   ]
  },
  {
   "cell_type": "code",
   "execution_count": 22,
   "metadata": {},
   "outputs": [],
   "source": [
    "def diversificationSwap(topNPredicted, nextNPredicted, remainingNPredicted, iterations = 1): \n",
    "    '''For iteration in desired number of iterations (hyperparam): \n",
    "    drop the lowest novelty item from the topN list and\n",
    "    replace with the highest novelty item from the remainingN list.'''\n",
    "    \n",
    "    topNPredicted_temp = copy.deepcopy(topNPredicted)\n",
    "    nextNPredicted_temp = copy.deepcopy(nextNPredicted)\n",
    "    \n",
    "    for i in range(iterations): \n",
    "        for userID in topNPredicted_temp.keys():\n",
    "            #Create a boolean that indicates whether swap is found\n",
    "            swap_top = False\n",
    "            \n",
    "            #Drop items from topN and add to remainingN\n",
    "            min_ranking = 5 \n",
    "            min_movieID = None\n",
    "            min_rating = None\n",
    "            \n",
    "            for item in topNPredicted_temp[userID]:\n",
    "                movieID = item[0]\n",
    "                rating = item[1]\n",
    "                rank = item[2]\n",
    "                \n",
    "                if rank < min_ranking: \n",
    "                    swap_top = True\n",
    "                    min_ranking = rank\n",
    "                    min_movieID = movieID\n",
    "                    min_rating = rating\n",
    "                    \n",
    "                    \n",
    "            #Now shuffle (only if swap is found)\n",
    "            if swap_top == True: \n",
    "                nextNPredicted_temp[int(userID)].append((int(min_movieID), min_rating, min_ranking))\n",
    "                topNPredicted_temp[int(userID)].remove((int(min_movieID), min_rating, min_ranking))\n",
    "            \n",
    "            #Create a boolean that indicates whether swap is found\n",
    "            swap_bottom  = False\n",
    "            \n",
    "            #Add items to topN and drop from remainingN\n",
    "            max_ranking = 0 \n",
    "            max_movieID = None\n",
    "            max_rating = None\n",
    "            \n",
    "            for item in nextNPredicted_temp[userID]:\n",
    "                movieID = item[0]\n",
    "                rating = item[1]\n",
    "                rank = item[2]\n",
    "                \n",
    "                if rank > max_ranking: \n",
    "                    swap_bottom = True\n",
    "                    max_ranking = rank\n",
    "                    max_movieID = movieID\n",
    "                    max_rating = rating\n",
    "                    \n",
    "            #Now shuffle (only if swap is found)\n",
    "            if swap_bottom == True: \n",
    "                topNPredicted_temp[int(userID)].append((int(max_movieID), max_rating, max_ranking))\n",
    "                nextNPredicted_temp[int(userID)].remove((int(max_movieID), max_rating, max_ranking))\n",
    "    \n",
    "    #Now drop the ranking as this isn't needed for hit rate calcs. \n",
    "    #topNPredicted_temp.update(item[:-1] for item in value[items] for value in topNPredicted_temp.values())\n",
    "    #remainingNPredicted_temp.update(item[:-1] for item in value[items] for value in remainingNPredicted.values())\n",
    "    final_sorted_pool = defaultdict(list)\n",
    "    \n",
    "    #Add the top predicted, diversified items to our final evaluation_pool\n",
    "    for userID in topNPredicted_temp.keys(): \n",
    "        for item in topNPredicted_temp[userID]: \n",
    "            #To drop tuple value we must first convert to list since tuples are immutable. \n",
    "            final_sorted_pool[int(userID)].append((int(item[0]), item[1], item[2]))\n",
    "            #final_topN[int(userID)].append(int(item[0]))\n",
    "    \n",
    "    #Add the next N \n",
    "    for userID in nextNPredicted_temp.keys(): \n",
    "        for item in nextNPredicted_temp[userID]: \n",
    "            #To drop tuple value we must first convert to list since tuples are immutable. \n",
    "            final_sorted_pool[int(userID)].append((int(item[0]), item[1], item[2]))\n",
    "            #final_topN[int(userID)].append(int(item[0]))\n",
    "    \n",
    "    #Add the remaining (unswapped) N items to create the full diversified evaluation pool \n",
    "    for userID in remainingNPredicted.keys(): \n",
    "        for item in remainingNPredicted[userID]: \n",
    "            #To drop tuple value we must first convert to list since tuples are immutable. \n",
    "            final_sorted_pool[int(userID)].append((int(item[0]), item[1], item[2]))\n",
    "        \n",
    "    return final_sorted_pool\n",
    "        "
   ]
  },
  {
   "cell_type": "code",
   "execution_count": 23,
   "metadata": {},
   "outputs": [],
   "source": [
    "def diversificationSwapBlended(topNPredicted, nextNPredicted, remainingNPredicted, iterations = 1, w1 = 0.5, w2 = 0.5): \n",
    "    '''For iteration in desired number of iterations (hyperparam): \n",
    "    drop the lowest blended rating and novelty item from the topN list and\n",
    "    replace with the highest blended rating and novelty item from the remainingN list.\n",
    "    This methods approximate's a movie's 'Hidden Gem' score (i..e high rating, low ranking)'''\n",
    "    \n",
    "    \n",
    "    topNPredicted_temp = copy.deepcopy(topNPredicted)\n",
    "    nextNPredicted_temp = copy.deepcopy(nextNPredicted)\n",
    "    \n",
    "    for i in range(iterations): \n",
    "        for userID in topNPredicted_temp.keys():\n",
    "            #Create a boolean that indicates whether swap is found\n",
    "            swap_top = False\n",
    "            \n",
    "            #Drop items from topN and add to remainingN\n",
    "            min_blended_rank = 5\n",
    "            min_movieID = None\n",
    "            min_rating = None\n",
    "            \n",
    "            for item in topNPredicted_temp[userID]:\n",
    "                movieID = item[0]\n",
    "                rating = item[1]\n",
    "                rank = item[2]\n",
    "                blended_rank = (w1*rating) + (w2*rank)\n",
    "                \n",
    "                if blended_rank < min_blended_rank: \n",
    "                    swap_top = True\n",
    "                    min_blended_rank = blended_rank\n",
    "                    min_movieID = movieID\n",
    "                    min_ranking = rank\n",
    "                    min_rating = rating\n",
    "                    \n",
    "                    \n",
    "            #Now shuffle (only if swap is found)\n",
    "            if swap_top == True: \n",
    "                nextNPredicted_temp[int(userID)].append((int(min_movieID), min_rating, min_ranking))\n",
    "                topNPredicted_temp[int(userID)].remove((int(min_movieID), min_rating, min_ranking))\n",
    "            \n",
    "            #Create a boolean that indicates whether swap is found\n",
    "            swap_bottom  = False\n",
    "            \n",
    "            #Add items to topN and drop from remainingN\n",
    "            max_blended_rank = 0 \n",
    "            max_movieID = None\n",
    "            max_rating = None\n",
    "            \n",
    "            for item in nextNPredicted_temp[userID]:\n",
    "                movieID = item[0]\n",
    "                rating = item[1]\n",
    "                rank = item[2]\n",
    "                blended_rank = (w1*rating) + (w2*rank)\n",
    "                \n",
    "                if blended_rank > max_blended_rank: \n",
    "                    swap_bottom = True\n",
    "                    max_blended_rank = blended_rank\n",
    "                    max_ranking = rank\n",
    "                    max_movieID = movieID\n",
    "                    max_rating = rating\n",
    "                    \n",
    "            #Now shuffle (only if swap is found)\n",
    "            if swap_bottom == True: \n",
    "                topNPredicted_temp[int(userID)].append((int(max_movieID), max_rating, max_ranking))\n",
    "                nextNPredicted_temp[int(userID)].remove((int(max_movieID), max_rating, max_ranking))\n",
    "    \n",
    "    #Now drop the ranking as this isn't needed for hit rate calcs. \n",
    "    #topNPredicted_temp.update(item[:-1] for item in value[items] for value in topNPredicted_temp.values())\n",
    "    #remainingNPredicted_temp.update(item[:-1] for item in value[items] for value in remainingNPredicted.values())\n",
    "    final_sorted_pool = defaultdict(list)\n",
    "    \n",
    "    #Add the top predicted, diversified items to our final evaluation_pool\n",
    "    for userID in topNPredicted_temp.keys(): \n",
    "        for item in topNPredicted_temp[userID]: \n",
    "            #To drop tuple value we must first convert to list since tuples are immutable. \n",
    "            final_sorted_pool[int(userID)].append((int(item[0]), item[1], item[2]))\n",
    "            #final_topN[int(userID)].append(int(item[0]))\n",
    "    \n",
    "    #Add the next N \n",
    "    for userID in nextNPredicted_temp.keys(): \n",
    "        for item in nextNPredicted_temp[userID]: \n",
    "            #To drop tuple value we must first convert to list since tuples are immutable. \n",
    "            final_sorted_pool[int(userID)].append((int(item[0]), item[1], item[2]))\n",
    "            #final_topN[int(userID)].append(int(item[0]))\n",
    "    \n",
    "    #Add the remaining (unswapped) N items to create the full diversified evaluation pool \n",
    "    for userID in remainingNPredicted.keys(): \n",
    "        for item in remainingNPredicted[userID]: \n",
    "            #To drop tuple value we must first convert to list since tuples are immutable. \n",
    "            final_sorted_pool[int(userID)].append((int(item[0]), item[1], item[2]))\n",
    "        \n",
    "    return final_sorted_pool"
   ]
  },
  {
   "cell_type": "code",
   "execution_count": 24,
   "metadata": {},
   "outputs": [],
   "source": [
    "def calcDiversityTradeoff(topNPredicted_Split, nextNPredicted_Split,remainingNPredicted_Split, dev_df):\n",
    "    '''Plot our novelty / HR@10 tradeoff by increasing number of iterations of our \n",
    "    diversificationSwap.'''\n",
    "    method = []\n",
    "    average_novelty = [] \n",
    "    hit_rate = [] \n",
    "\n",
    "    method_blended = []\n",
    "    average_novelty_blended = []\n",
    "    hit_rate_blended = []\n",
    "\n",
    "    hit_rate_cutoff = []\n",
    "    hit_rate_cutoff_blended = [] \n",
    "\n",
    "    swapping_iterations = []\n",
    "    swapping_iterations_blended = []\n",
    "\n",
    "    for i in range(0,20): \n",
    "        diversified_evaluation_pools = diversificationSwap(topNPredicted_Split, nextNPredicted_Split, remainingNPredicted_Split, iterations = i)\n",
    "        diversified_evaluation_pools_blended = diversificationSwapBlended(topNPredicted_Split, nextNPredicted_Split, remainingNPredicted_Split, iterations = i, w1 = 0.7, w2 = 0.3)\n",
    "        hit_rate_diversified_pools, hit_rate_diversified_pools_with_cutoff, avg_est_rating, avg_novelty = summaryStats(diversified_evaluation_pools, dev_df, rating_cutoff = 4)\n",
    "        hit_rate_diversified_pools_blended, hit_rate_diversified_pools_with_cutoff_blended, avg_est_rating_blended, avg_novelty_blended = summaryStats(diversified_evaluation_pools_blended, dev_df, rating_cutoff = 4)\n",
    "        model = 'Matrix Factorization with SVD()'\n",
    "        blended_model = 'Matrix Factoriziation with SVD(), blended swapping'\n",
    "\n",
    "        method.append(model)\n",
    "        method_blended.append(model)\n",
    "\n",
    "        average_novelty.append(avg_novelty)\n",
    "        average_novelty_blended.append(avg_novelty_blended)\n",
    "\n",
    "        swapping_iterations.append(i)\n",
    "        swapping_iterations_blended.append(i)\n",
    "\n",
    "        hit_rate.append(hit_rate_diversified_pools)\n",
    "        hit_rate_blended.append(hit_rate_diversified_pools_blended)\n",
    "\n",
    "        hit_rate_cutoff.append(hit_rate_diversified_pools_with_cutoff)\n",
    "        hit_rate_cutoff_blended.append(hit_rate_diversified_pools_with_cutoff_blended)\n",
    "\n",
    "    \n",
    "    return method, average_novelty, hit_rate, method_blended, average_novelty_blended, hit_rate_blended, swapping_iterations, swapping_iterations_blended"
   ]
  },
  {
   "cell_type": "markdown",
   "metadata": {},
   "source": [
    "### Matrix Factorization Process"
   ]
  },
  {
   "cell_type": "markdown",
   "metadata": {},
   "source": [
    "#### 1.) Calculate Item Novelty. \n",
    "##### We will use this in our sorted_evaluation_pools so that we don't need to pull-in novelty data everytime. "
   ]
  },
  {
   "cell_type": "code",
   "execution_count": 25,
   "metadata": {},
   "outputs": [],
   "source": [
    "#Calculate item (movieID) novelty. Store in 2 lists. \n",
    "sc_rankings, ranking_movieID = calculateItemNovelty(train_df)"
   ]
  },
  {
   "cell_type": "code",
   "execution_count": 26,
   "metadata": {},
   "outputs": [
    {
     "data": {
      "text/plain": [
       "(array([2.000e+00, 3.000e+00, 6.000e+00, 1.200e+01, 1.900e+01, 3.100e+01,\n",
       "        8.300e+01, 1.330e+02, 4.450e+02, 8.266e+03]),\n",
       " array([0. , 0.5, 1. , 1.5, 2. , 2.5, 3. , 3.5, 4. , 4.5, 5. ]),\n",
       " <BarContainer object of 10 artists>)"
      ]
     },
     "execution_count": 26,
     "metadata": {},
     "output_type": "execute_result"
    },
    {
     "data": {
      "image/png": "[encoded data removed]",
      "text/plain": [
       "<Figure size 432x288 with 1 Axes>"
      ]
     },
     "metadata": {
      "needs_background": "light"
     },
     "output_type": "display_data"
    }
   ],
   "source": [
    "#View distribution\n",
    "plt.hist(sc_rankings)"
   ]
  },
  {
   "cell_type": "markdown",
   "metadata": {},
   "source": [
    "#### 2.) Test a baseline SVD() Model. "
   ]
  },
  {
   "cell_type": "code",
   "execution_count": 27,
   "metadata": {},
   "outputs": [
    {
     "name": "stdout",
     "output_type": "stream",
     "text": [
      "HR@10: 0.31103074141048825\n",
      "HR@10 w/ Cutoff: 0.40192926045016075\n",
      "AvgRating@10: 3.9996365688291933\n",
      "AvgNovelty@10: 4.522305489868736\n"
     ]
    }
   ],
   "source": [
    "# Train and test algorithm (Matrix Factorization for Collaborative Filtering)\n",
    "algo = SVD()\n",
    "\n",
    "# Train our train_data (all user's that have liked 30+ movies, train on the n-2 movie set)\n",
    "algo.fit(train_data)\n",
    "\n",
    "# Sort dev evaluation pools based on SVD model\n",
    "sorted_dev_evaluation_pools = sort_evaluation_pools(algo, dev_evaluation_pools, sc_rankings, ranking_movieID)\n",
    "\n",
    "#Get summary statistics that we will use across all models. \n",
    "hit_rate_pools, hit_rate_pools_with_cutoff, avg_est_rating, avg_novelty = summaryStats(sorted_dev_evaluation_pools, dev_df, rating_cutoff = 4)\n",
    "\n",
    "print(f'HR@10: {hit_rate_pools}')\n",
    "print(f'HR@10 w/ Cutoff: {hit_rate_pools_with_cutoff}')\n",
    "print(f'AvgRating@10: {avg_est_rating}')\n",
    "print(f'AvgNovelty@10: {avg_novelty}')"
   ]
  },
  {
   "cell_type": "markdown",
   "metadata": {},
   "source": [
    "#### 3.) Compare the three predominant Matrix Factorization Models. "
   ]
  },
  {
   "cell_type": "code",
   "execution_count": 28,
   "metadata": {},
   "outputs": [
    {
     "name": "stdout",
     "output_type": "stream",
     "text": [
      "SVD\n",
      "HR@10: 0.3291139240506329\n",
      "HR@10 w/ Cutoff: 0.41479099678456594\n",
      "AvgRating@10: 3.995915633896061\n",
      "AvgNovelty@10: 4.524826702832989\n",
      "SVDpp\n",
      "HR@10: 0.3092224231464738\n",
      "HR@10 w/ Cutoff: 0.3858520900321543\n",
      "AvgRating@10: 4.0227980601485775\n",
      "AvgNovelty@10: 4.552739718087777\n",
      "NMF\n",
      "HR@10: 0.14466546112115733\n",
      "HR@10 w/ Cutoff: 0.17684887459807075\n",
      "AvgRating@10: 4.411594745103863\n",
      "AvgNovelty@10: 4.799262182964616\n"
     ]
    }
   ],
   "source": [
    "#Specify the 3 models\n",
    "models = [SVD(), SVDpp(), NMF()]\n",
    "#Compare the 3 models. \n",
    "compareModels(models, train_data, dev_data)"
   ]
  },
  {
   "cell_type": "markdown",
   "metadata": {},
   "source": [
    "#### 4.) Do a non-exhaustive search for the best baseline model (SVD) hyperarameters. "
   ]
  },
  {
   "cell_type": "code",
   "execution_count": 29,
   "metadata": {},
   "outputs": [
    {
     "name": "stdout",
     "output_type": "stream",
     "text": [
      "Best HR@10: 0.4919614147909968\n",
      "n_factors = 50, n_epochs = 10, lr_all = 0.005, reg_all = 0.04\n"
     ]
    }
   ],
   "source": [
    "#Note default values n_factors = 100, n_epochs = 20, lr_all = 0.005, reg_all = 0.02\n",
    "n_factors = [50, 100, 200, 500]\n",
    "n_epochs = [10,20,30]\n",
    "lr_all = [0.001, 0.005, 0.01]\n",
    "reg_all = [0, 0.01, 0.02, 0.04]\n",
    "\n",
    "best_n_factors, best_n_epochs, best_lr_all, best_reg_all = bestHyperparams(n_factors, n_epochs, lr_all, reg_all)"
   ]
  },
  {
   "cell_type": "markdown",
   "metadata": {},
   "source": [
    "#### 5.) Apply our best hyperparams to our best baseline model. "
   ]
  },
  {
   "cell_type": "code",
   "execution_count": 30,
   "metadata": {},
   "outputs": [],
   "source": [
    "#Return the first 10 movies (in predicted rating) from the evaluation_pool, \n",
    "#and then the remaining n. We will use this structure to swap our predictions for diversity. \n",
    "algo = SVD(n_factors = best_n_factors, n_epochs = best_n_epochs, lr_all = best_lr_all, reg_all = best_reg_all)\n",
    "algo.fit(train_data)\n",
    "sorted_dev_evaluation_pool = sort_evaluation_pools(algo, dev_evaluation_pools,sc_rankings, ranking_movieID)"
   ]
  },
  {
   "cell_type": "markdown",
   "metadata": {},
   "source": [
    "#### 6.) Setup our diversification swapping. "
   ]
  },
  {
   "cell_type": "code",
   "execution_count": 31,
   "metadata": {},
   "outputs": [],
   "source": [
    "#Need to pass algo so that we can build the proper dictionary with predictions\n",
    "topNPredicted_Split, nextNPredicted_Split, remainingNPredicted_Split = GetTopNSplitPools(sorted_dev_evaluation_pool)"
   ]
  },
  {
   "cell_type": "markdown",
   "metadata": {},
   "source": [
    "#### 7.) Run our diversification swapping and plot tradeoff. "
   ]
  },
  {
   "cell_type": "code",
   "execution_count": 32,
   "metadata": {},
   "outputs": [
    {
     "data": {
      "image/png": "[encoded data removed]",
      "text/plain": [
       "<Figure size 432x288 with 1 Axes>"
      ]
     },
     "metadata": {
      "needs_background": "light"
     },
     "output_type": "display_data"
    }
   ],
   "source": [
    "method, average_novelty, hit_rate, method_blended, average_novelty_blended, hit_rate_blended, swapping_iterations, swapping_iterations_blended = calcDiversityTradeoff(topNPredicted_Split, nextNPredicted_Split,remainingNPredicted_Split, dev_df)\n",
    "\n",
    "plt.plot(swapping_iterations, hit_rate_cutoff, label = 'Matrix Factorization with SVD()')\n",
    "plt.plot(swapping_iterations_blended, hit_rate_cutoff_blended, label = 'Matrix Factoriziation with SVD(), blended swapping')\n",
    "plt.title(\"Trade-Off of Diversification Swapping Iterations and HR@10\")\n",
    "plt.xlabel(\"Diversification Swapping Iterations\")\n",
    "plt.ylabel(\"HR@10 with Cutoff\")\n",
    "plt.legend(loc = 'best')"
   ]
  }
 ],
 "metadata": {
  "kernelspec": {
   "display_name": "Python 3",
   "language": "python",
   "name": "python3"
  },
  "language_info": {
   "codemirror_mode": {
    "name": "ipython",
    "version": 3
   },
   "file_extension": ".py",
   "mimetype": "text/x-python",
   "name": "python",
   "nbconvert_exporter": "python",
   "pygments_lexer": "ipython3",
   "version": "3.8.3"
  }
 },
 "nbformat": 4,
 "nbformat_minor": 4
}
