{
 "cells": [
  {
   "cell_type": "markdown",
   "metadata": {},
   "source": [
    "# W207 Final Project Notebook"
   ]
  },
  {
   "cell_type": "code",
   "execution_count": 1,
   "metadata": {},
   "outputs": [
    {
     "name": "stdout",
     "output_type": "stream",
     "text": [
      "Requirement already satisfied: scikit-surprise in /Users/rathin/.pyenv/versions/3.9.0/lib/python3.9/site-packages (1.1.1)\n",
      "Requirement already satisfied: joblib>=0.11 in /Users/rathin/.pyenv/versions/3.9.0/lib/python3.9/site-packages (from scikit-surprise) (1.0.1)\n",
      "Requirement already satisfied: numpy>=1.11.2 in /Users/rathin/.pyenv/versions/3.9.0/lib/python3.9/site-packages (from scikit-surprise) (1.19.5)\n",
      "Requirement already satisfied: scipy>=1.0.0 in /Users/rathin/.pyenv/versions/3.9.0/lib/python3.9/site-packages (from scikit-surprise) (1.7.0)\n",
      "Requirement already satisfied: six>=1.10.0 in /Users/rathin/.pyenv/versions/3.9.0/lib/python3.9/site-packages (from scikit-surprise) (1.15.0)\n",
      "\u001b[33mWARNING: You are using pip version 21.1.3; however, version 21.2.1 is available.\n",
      "You should consider upgrading via the '/Users/rathin/.pyenv/versions/3.9.0/bin/python3.9 -m pip install --upgrade pip' command.\u001b[0m\n"
     ]
    }
   ],
   "source": [
    "#Well be using surprise package heavily as it features packages specifically for recommender systems\n",
    "!pip install scikit-surprise"
   ]
  },
  {
   "cell_type": "code",
   "execution_count": 2,
   "metadata": {},
   "outputs": [],
   "source": [
    "# This tells matplotlib not to try opening a new window for each plot.\n",
    "%matplotlib inline\n",
    "\n",
    "# Import a bunch of libraries.\n",
    "import time\n",
    "import numpy as np\n",
    "import matplotlib.pyplot as plt\n",
    "import pandas as pd\n",
    "from collections import defaultdict\n",
    "import random\n",
    "\n",
    "from IPython.display import display\n",
    "\n",
    "from matplotlib.ticker import MultipleLocator\n",
    "\n",
    "from sklearn.pipeline import Pipeline\n",
    "from sklearn.datasets import fetch_openml\n",
    "from sklearn.neighbors import KNeighborsClassifier\n",
    "from sklearn.metrics import confusion_matrix\n",
    "from sklearn.linear_model import LinearRegression\n",
    "from sklearn.naive_bayes import BernoulliNB\n",
    "from sklearn.naive_bayes import MultinomialNB\n",
    "from sklearn.naive_bayes import GaussianNB\n",
    "from sklearn.model_selection import GridSearchCV\n",
    "from sklearn.metrics import classification_report\n",
    "\n",
    "from datetime import datetime\n",
    "\n",
    "# Set the randomizer seed so results are the same each time.\n",
    "np.random.seed(0)\n",
    "random.seed(0)"
   ]
  },
  {
   "cell_type": "markdown",
   "metadata": {},
   "source": [
    "### Part 1: Load Dataset"
   ]
  },
  {
   "cell_type": "code",
   "execution_count": 3,
   "metadata": {},
   "outputs": [
    {
     "data": {
      "text/plain": [
       "'/Users/rathin/Documents/Projects/mids/W207/W207_movies'"
      ]
     },
     "execution_count": 3,
     "metadata": {},
     "output_type": "execute_result"
    }
   ],
   "source": [
    "%pwd"
   ]
  },
  {
   "cell_type": "code",
   "execution_count": 6,
   "metadata": {},
   "outputs": [],
   "source": [
    "#Load data into ratings_df. \n",
    "ratings_df = pd.read_csv(\"data/raw_data/ratings_small.csv\", low_memory=False)"
   ]
  },
  {
   "cell_type": "markdown",
   "metadata": {},
   "source": [
    "### Part 2: EDA"
   ]
  },
  {
   "cell_type": "code",
   "execution_count": 7,
   "metadata": {},
   "outputs": [
    {
     "name": "stdout",
     "output_type": "stream",
     "text": [
      "   userId  movieId  rating   timestamp\n",
      "0       1       31     2.5  1260759144\n",
      "1       1     1029     3.0  1260759179\n",
      "2       1     1061     3.0  1260759182\n",
      "3       1     1129     2.0  1260759185\n",
      "4       1     1172     4.0  1260759205\n",
      "(100004, 4)\n"
     ]
    }
   ],
   "source": [
    "#Check structure. \n",
    "print(ratings_df.head())\n",
    "\n",
    "#Check length. \n",
    "print(ratings_df.shape)"
   ]
  },
  {
   "cell_type": "code",
   "execution_count": 8,
   "metadata": {},
   "outputs": [
    {
     "data": {
      "text/html": [
       "<div>\n",
       "<style scoped>\n",
       "    .dataframe tbody tr th:only-of-type {\n",
       "        vertical-align: middle;\n",
       "    }\n",
       "\n",
       "    .dataframe tbody tr th {\n",
       "        vertical-align: top;\n",
       "    }\n",
       "\n",
       "    .dataframe thead th {\n",
       "        text-align: right;\n",
       "    }\n",
       "</style>\n",
       "<table border=\"1\" class=\"dataframe\">\n",
       "  <thead>\n",
       "    <tr style=\"text-align: right;\">\n",
       "      <th></th>\n",
       "      <th>userId</th>\n",
       "      <th>movieId</th>\n",
       "      <th>rating</th>\n",
       "      <th>timestamp</th>\n",
       "      <th>datetime</th>\n",
       "    </tr>\n",
       "  </thead>\n",
       "  <tbody>\n",
       "    <tr>\n",
       "      <th>0</th>\n",
       "      <td>1</td>\n",
       "      <td>31</td>\n",
       "      <td>2.5</td>\n",
       "      <td>1260759144</td>\n",
       "      <td>2009-12-14 02:52:24</td>\n",
       "    </tr>\n",
       "    <tr>\n",
       "      <th>1</th>\n",
       "      <td>1</td>\n",
       "      <td>1029</td>\n",
       "      <td>3.0</td>\n",
       "      <td>1260759179</td>\n",
       "      <td>2009-12-14 02:52:59</td>\n",
       "    </tr>\n",
       "    <tr>\n",
       "      <th>2</th>\n",
       "      <td>1</td>\n",
       "      <td>1061</td>\n",
       "      <td>3.0</td>\n",
       "      <td>1260759182</td>\n",
       "      <td>2009-12-14 02:53:02</td>\n",
       "    </tr>\n",
       "    <tr>\n",
       "      <th>3</th>\n",
       "      <td>1</td>\n",
       "      <td>1129</td>\n",
       "      <td>2.0</td>\n",
       "      <td>1260759185</td>\n",
       "      <td>2009-12-14 02:53:05</td>\n",
       "    </tr>\n",
       "    <tr>\n",
       "      <th>4</th>\n",
       "      <td>1</td>\n",
       "      <td>1172</td>\n",
       "      <td>4.0</td>\n",
       "      <td>1260759205</td>\n",
       "      <td>2009-12-14 02:53:25</td>\n",
       "    </tr>\n",
       "    <tr>\n",
       "      <th>...</th>\n",
       "      <td>...</td>\n",
       "      <td>...</td>\n",
       "      <td>...</td>\n",
       "      <td>...</td>\n",
       "      <td>...</td>\n",
       "    </tr>\n",
       "    <tr>\n",
       "      <th>99999</th>\n",
       "      <td>671</td>\n",
       "      <td>6268</td>\n",
       "      <td>2.5</td>\n",
       "      <td>1065579370</td>\n",
       "      <td>2003-10-08 02:16:10</td>\n",
       "    </tr>\n",
       "    <tr>\n",
       "      <th>100000</th>\n",
       "      <td>671</td>\n",
       "      <td>6269</td>\n",
       "      <td>4.0</td>\n",
       "      <td>1065149201</td>\n",
       "      <td>2003-10-03 02:46:41</td>\n",
       "    </tr>\n",
       "    <tr>\n",
       "      <th>100001</th>\n",
       "      <td>671</td>\n",
       "      <td>6365</td>\n",
       "      <td>4.0</td>\n",
       "      <td>1070940363</td>\n",
       "      <td>2003-12-09 03:26:03</td>\n",
       "    </tr>\n",
       "    <tr>\n",
       "      <th>100002</th>\n",
       "      <td>671</td>\n",
       "      <td>6385</td>\n",
       "      <td>2.5</td>\n",
       "      <td>1070979663</td>\n",
       "      <td>2003-12-09 14:21:03</td>\n",
       "    </tr>\n",
       "    <tr>\n",
       "      <th>100003</th>\n",
       "      <td>671</td>\n",
       "      <td>6565</td>\n",
       "      <td>3.5</td>\n",
       "      <td>1074784724</td>\n",
       "      <td>2004-01-22 15:18:44</td>\n",
       "    </tr>\n",
       "  </tbody>\n",
       "</table>\n",
       "<p>100004 rows × 5 columns</p>\n",
       "</div>"
      ],
      "text/plain": [
       "        userId  movieId  rating   timestamp            datetime\n",
       "0            1       31     2.5  1260759144 2009-12-14 02:52:24\n",
       "1            1     1029     3.0  1260759179 2009-12-14 02:52:59\n",
       "2            1     1061     3.0  1260759182 2009-12-14 02:53:02\n",
       "3            1     1129     2.0  1260759185 2009-12-14 02:53:05\n",
       "4            1     1172     4.0  1260759205 2009-12-14 02:53:25\n",
       "...        ...      ...     ...         ...                 ...\n",
       "99999      671     6268     2.5  1065579370 2003-10-08 02:16:10\n",
       "100000     671     6269     4.0  1065149201 2003-10-03 02:46:41\n",
       "100001     671     6365     4.0  1070940363 2003-12-09 03:26:03\n",
       "100002     671     6385     2.5  1070979663 2003-12-09 14:21:03\n",
       "100003     671     6565     3.5  1074784724 2004-01-22 15:18:44\n",
       "\n",
       "[100004 rows x 5 columns]"
      ]
     },
     "execution_count": 8,
     "metadata": {},
     "output_type": "execute_result"
    }
   ],
   "source": [
    "#Let's convert the timestamp to a more intuitive datetime\n",
    "ratings_df['datetime'] = pd.to_datetime(ratings_df['timestamp'], infer_datetime_format = True, yearfirst = True, unit = 's')\n",
    "\n",
    "#And check our new dataframe\n",
    "ratings_df"
   ]
  },
  {
   "cell_type": "code",
   "execution_count": 9,
   "metadata": {},
   "outputs": [
    {
     "data": {
      "text/plain": [
       "<matplotlib.axes._subplots.AxesSubplot at 0x7fdac8b3a910>"
      ]
     },
     "execution_count": 9,
     "metadata": {},
     "output_type": "execute_result"
    },
    {
     "data": {
      "image/png": "[encoded data removed]",
      "text/plain": [
       "<Figure size 432x288 with 1 Axes>"
      ]
     },
     "metadata": {
      "needs_background": "light"
     },
     "output_type": "display_data"
    }
   ],
   "source": [
    "ratings_df[['rating']].plot.box()"
   ]
  },
  {
   "cell_type": "code",
   "execution_count": 10,
   "metadata": {},
   "outputs": [
    {
     "name": "stdout",
     "output_type": "stream",
     "text": [
      "Ratings per User:\n"
     ]
    },
    {
     "data": {
      "text/html": [
       "<div>\n",
       "<style scoped>\n",
       "    .dataframe tbody tr th:only-of-type {\n",
       "        vertical-align: middle;\n",
       "    }\n",
       "\n",
       "    .dataframe tbody tr th {\n",
       "        vertical-align: top;\n",
       "    }\n",
       "\n",
       "    .dataframe thead th {\n",
       "        text-align: right;\n",
       "    }\n",
       "</style>\n",
       "<table border=\"1\" class=\"dataframe\">\n",
       "  <thead>\n",
       "    <tr style=\"text-align: right;\">\n",
       "      <th></th>\n",
       "      <th>rating</th>\n",
       "    </tr>\n",
       "    <tr>\n",
       "      <th>userId</th>\n",
       "      <th></th>\n",
       "    </tr>\n",
       "  </thead>\n",
       "  <tbody>\n",
       "    <tr>\n",
       "      <th>1</th>\n",
       "      <td>20</td>\n",
       "    </tr>\n",
       "    <tr>\n",
       "      <th>498</th>\n",
       "      <td>20</td>\n",
       "    </tr>\n",
       "    <tr>\n",
       "      <th>448</th>\n",
       "      <td>20</td>\n",
       "    </tr>\n",
       "    <tr>\n",
       "      <th>445</th>\n",
       "      <td>20</td>\n",
       "    </tr>\n",
       "    <tr>\n",
       "      <th>444</th>\n",
       "      <td>20</td>\n",
       "    </tr>\n",
       "    <tr>\n",
       "      <th>...</th>\n",
       "      <td>...</td>\n",
       "    </tr>\n",
       "    <tr>\n",
       "      <th>73</th>\n",
       "      <td>1610</td>\n",
       "    </tr>\n",
       "    <tr>\n",
       "      <th>15</th>\n",
       "      <td>1700</td>\n",
       "    </tr>\n",
       "    <tr>\n",
       "      <th>624</th>\n",
       "      <td>1735</td>\n",
       "    </tr>\n",
       "    <tr>\n",
       "      <th>564</th>\n",
       "      <td>1868</td>\n",
       "    </tr>\n",
       "    <tr>\n",
       "      <th>547</th>\n",
       "      <td>2391</td>\n",
       "    </tr>\n",
       "  </tbody>\n",
       "</table>\n",
       "<p>671 rows × 1 columns</p>\n",
       "</div>"
      ],
      "text/plain": [
       "        rating\n",
       "userId        \n",
       "1           20\n",
       "498         20\n",
       "448         20\n",
       "445         20\n",
       "444         20\n",
       "...        ...\n",
       "73        1610\n",
       "15        1700\n",
       "624       1735\n",
       "564       1868\n",
       "547       2391\n",
       "\n",
       "[671 rows x 1 columns]"
      ]
     },
     "metadata": {},
     "output_type": "display_data"
    },
    {
     "data": {
      "image/png": "[encoded data removed]",
      "text/plain": [
       "<Figure size 432x288 with 1 Axes>"
      ]
     },
     "metadata": {
      "needs_background": "light"
     },
     "output_type": "display_data"
    },
    {
     "name": "stdout",
     "output_type": "stream",
     "text": [
      "Ratings per Movie\n"
     ]
    },
    {
     "data": {
      "text/html": [
       "<div>\n",
       "<style scoped>\n",
       "    .dataframe tbody tr th:only-of-type {\n",
       "        vertical-align: middle;\n",
       "    }\n",
       "\n",
       "    .dataframe tbody tr th {\n",
       "        vertical-align: top;\n",
       "    }\n",
       "\n",
       "    .dataframe thead th {\n",
       "        text-align: right;\n",
       "    }\n",
       "</style>\n",
       "<table border=\"1\" class=\"dataframe\">\n",
       "  <thead>\n",
       "    <tr style=\"text-align: right;\">\n",
       "      <th></th>\n",
       "      <th>rating</th>\n",
       "    </tr>\n",
       "    <tr>\n",
       "      <th>movieId</th>\n",
       "      <th></th>\n",
       "    </tr>\n",
       "  </thead>\n",
       "  <tbody>\n",
       "    <tr>\n",
       "      <th>163949</th>\n",
       "      <td>1</td>\n",
       "    </tr>\n",
       "    <tr>\n",
       "      <th>26485</th>\n",
       "      <td>1</td>\n",
       "    </tr>\n",
       "    <tr>\n",
       "      <th>26480</th>\n",
       "      <td>1</td>\n",
       "    </tr>\n",
       "    <tr>\n",
       "      <th>26471</th>\n",
       "      <td>1</td>\n",
       "    </tr>\n",
       "    <tr>\n",
       "      <th>26467</th>\n",
       "      <td>1</td>\n",
       "    </tr>\n",
       "    <tr>\n",
       "      <th>...</th>\n",
       "      <td>...</td>\n",
       "    </tr>\n",
       "    <tr>\n",
       "      <th>260</th>\n",
       "      <td>291</td>\n",
       "    </tr>\n",
       "    <tr>\n",
       "      <th>593</th>\n",
       "      <td>304</td>\n",
       "    </tr>\n",
       "    <tr>\n",
       "      <th>318</th>\n",
       "      <td>311</td>\n",
       "    </tr>\n",
       "    <tr>\n",
       "      <th>296</th>\n",
       "      <td>324</td>\n",
       "    </tr>\n",
       "    <tr>\n",
       "      <th>356</th>\n",
       "      <td>341</td>\n",
       "    </tr>\n",
       "  </tbody>\n",
       "</table>\n",
       "<p>9066 rows × 1 columns</p>\n",
       "</div>"
      ],
      "text/plain": [
       "         rating\n",
       "movieId        \n",
       "163949        1\n",
       "26485         1\n",
       "26480         1\n",
       "26471         1\n",
       "26467         1\n",
       "...         ...\n",
       "260         291\n",
       "593         304\n",
       "318         311\n",
       "296         324\n",
       "356         341\n",
       "\n",
       "[9066 rows x 1 columns]"
      ]
     },
     "metadata": {},
     "output_type": "display_data"
    },
    {
     "data": {
      "image/png": "[encoded data removed]",
      "text/plain": [
       "<Figure size 432x288 with 1 Axes>"
      ]
     },
     "metadata": {
      "needs_background": "light"
     },
     "output_type": "display_data"
    }
   ],
   "source": [
    "#Check number of ratings per user\n",
    "print(\"Ratings per User:\")\n",
    "display(ratings_df[['userId','rating']].groupby('userId').count().sort_values(by = 'rating', ascending = True))\n",
    "\n",
    "\n",
    "#Show histogram of number of ratings per user\n",
    "plt.hist(ratings_df['userId'], bins = 100)\n",
    "plt.title(\"Histogram of userId\")\n",
    "plt.show()\n",
    "\n",
    "#Check number of ratings per movie\n",
    "print(\"Ratings per Movie\")\n",
    "display(ratings_df[['movieId','rating']].groupby('movieId').count().sort_values(by = 'rating', ascending = True))\n",
    "\n",
    "#Show histogram of number of ratings per movie\n",
    "plt.hist(ratings_df['movieId'], bins = 100)\n",
    "plt.ylim(0,1000)\n",
    "plt.title(\"Histogram of movieId\")\n",
    "plt.show()"
   ]
  },
  {
   "cell_type": "code",
   "execution_count": 11,
   "metadata": {},
   "outputs": [
    {
     "data": {
      "text/html": [
       "<div>\n",
       "<style scoped>\n",
       "    .dataframe tbody tr th:only-of-type {\n",
       "        vertical-align: middle;\n",
       "    }\n",
       "\n",
       "    .dataframe tbody tr th {\n",
       "        vertical-align: top;\n",
       "    }\n",
       "\n",
       "    .dataframe thead th {\n",
       "        text-align: right;\n",
       "    }\n",
       "</style>\n",
       "<table border=\"1\" class=\"dataframe\">\n",
       "  <thead>\n",
       "    <tr style=\"text-align: right;\">\n",
       "      <th></th>\n",
       "      <th>rating</th>\n",
       "    </tr>\n",
       "    <tr>\n",
       "      <th>userId</th>\n",
       "      <th></th>\n",
       "    </tr>\n",
       "  </thead>\n",
       "  <tbody>\n",
       "    <tr>\n",
       "      <th>1</th>\n",
       "      <td>20</td>\n",
       "    </tr>\n",
       "    <tr>\n",
       "      <th>498</th>\n",
       "      <td>20</td>\n",
       "    </tr>\n",
       "    <tr>\n",
       "      <th>448</th>\n",
       "      <td>20</td>\n",
       "    </tr>\n",
       "    <tr>\n",
       "      <th>445</th>\n",
       "      <td>20</td>\n",
       "    </tr>\n",
       "    <tr>\n",
       "      <th>444</th>\n",
       "      <td>20</td>\n",
       "    </tr>\n",
       "    <tr>\n",
       "      <th>...</th>\n",
       "      <td>...</td>\n",
       "    </tr>\n",
       "    <tr>\n",
       "      <th>73</th>\n",
       "      <td>1610</td>\n",
       "    </tr>\n",
       "    <tr>\n",
       "      <th>15</th>\n",
       "      <td>1700</td>\n",
       "    </tr>\n",
       "    <tr>\n",
       "      <th>624</th>\n",
       "      <td>1735</td>\n",
       "    </tr>\n",
       "    <tr>\n",
       "      <th>564</th>\n",
       "      <td>1868</td>\n",
       "    </tr>\n",
       "    <tr>\n",
       "      <th>547</th>\n",
       "      <td>2391</td>\n",
       "    </tr>\n",
       "  </tbody>\n",
       "</table>\n",
       "<p>671 rows × 1 columns</p>\n",
       "</div>"
      ],
      "text/plain": [
       "        rating\n",
       "userId        \n",
       "1           20\n",
       "498         20\n",
       "448         20\n",
       "445         20\n",
       "444         20\n",
       "...        ...\n",
       "73        1610\n",
       "15        1700\n",
       "624       1735\n",
       "564       1868\n",
       "547       2391\n",
       "\n",
       "[671 rows x 1 columns]"
      ]
     },
     "metadata": {},
     "output_type": "display_data"
    }
   ],
   "source": [
    "# Check how many users have 2 or more ratings\n",
    "display(ratings_df[['userId','rating']].groupby('userId').count().sort_values(by = 'rating', ascending = True))"
   ]
  },
  {
   "cell_type": "code",
   "execution_count": 12,
   "metadata": {},
   "outputs": [
    {
     "data": {
      "text/plain": [
       "<matplotlib.axes._subplots.AxesSubplot at 0x7fdac8d901d0>"
      ]
     },
     "execution_count": 12,
     "metadata": {},
     "output_type": "execute_result"
    },
    {
     "data": {
      "image/png": "[encoded data removed]",
      "text/plain": [
       "<Figure size 432x288 with 1 Axes>"
      ]
     },
     "metadata": {
      "needs_background": "light"
     },
     "output_type": "display_data"
    }
   ],
   "source": [
    "ratings_by_date = ratings_df[['datetime','rating']].groupby('datetime').count().sort_values(by = 'rating', ascending = True)\n",
    "ratings_by_date.plot()"
   ]
  },
  {
   "cell_type": "markdown",
   "metadata": {},
   "source": [
    "### Part 3: Baseline Collaborative Filtering Model"
   ]
  },
  {
   "cell_type": "code",
   "execution_count": 13,
   "metadata": {},
   "outputs": [
    {
     "name": "stdout",
     "output_type": "stream",
     "text": [
      "Collecting recmetrics\n",
      "  Downloading recmetrics-0.0.12.tar.gz (8.0 kB)\n",
      "Requirement already satisfied: numpy in /Users/rathin/.pyenv/versions/3.9.0/lib/python3.9/site-packages (from recmetrics) (1.19.5)\n",
      "Collecting pandas\n",
      "  Downloading pandas-1.3.1-cp39-cp39-macosx_10_9_x86_64.whl (11.3 MB)\n",
      "\u001b[K     |████████████████████████████████| 11.3 MB 2.3 MB/s eta 0:00:01\n",
      "\u001b[?25hCollecting scikit-learn\n",
      "  Downloading scikit_learn-0.24.2-cp39-cp39-macosx_10_13_x86_64.whl (7.3 MB)\n",
      "\u001b[K     |████████████████████████████████| 7.3 MB 39.0 MB/s eta 0:00:01\n",
      "\u001b[?25hCollecting seaborn\n",
      "  Downloading seaborn-0.11.1-py3-none-any.whl (285 kB)\n",
      "\u001b[K     |████████████████████████████████| 285 kB 40.4 MB/s eta 0:00:01\n",
      "\u001b[?25hRequirement already satisfied: surprise in /Users/rathin/.pyenv/versions/3.9.0/lib/python3.9/site-packages (from recmetrics) (0.1)\n",
      "Collecting python-dateutil>=2.7.3\n",
      "  Downloading python_dateutil-2.8.2-py2.py3-none-any.whl (247 kB)\n",
      "\u001b[K     |████████████████████████████████| 247 kB 18.9 MB/s eta 0:00:01\n",
      "\u001b[?25hCollecting pytz>=2017.3\n",
      "  Downloading pytz-2021.1-py2.py3-none-any.whl (510 kB)\n",
      "\u001b[K     |████████████████████████████████| 510 kB 39.4 MB/s eta 0:00:01\n",
      "\u001b[?25hRequirement already satisfied: six>=1.5 in /Users/rathin/.pyenv/versions/3.9.0/lib/python3.9/site-packages (from python-dateutil>=2.7.3->pandas->recmetrics) (1.15.0)\n",
      "Requirement already satisfied: joblib>=0.11 in /Users/rathin/.pyenv/versions/3.9.0/lib/python3.9/site-packages (from scikit-learn->recmetrics) (1.0.1)\n",
      "Requirement already satisfied: scipy>=0.19.1 in /Users/rathin/.pyenv/versions/3.9.0/lib/python3.9/site-packages (from scikit-learn->recmetrics) (1.7.0)\n",
      "Collecting threadpoolctl>=2.0.0\n",
      "  Downloading threadpoolctl-2.2.0-py3-none-any.whl (12 kB)\n",
      "Collecting matplotlib>=2.2\n",
      "  Downloading matplotlib-3.4.2-cp39-cp39-macosx_10_9_x86_64.whl (7.2 MB)\n",
      "\u001b[K     |████████████████████████████████| 7.2 MB 1.3 MB/s eta 0:00:01\n",
      "\u001b[?25hCollecting kiwisolver>=1.0.1\n",
      "  Downloading kiwisolver-1.3.1-cp39-cp39-macosx_10_9_x86_64.whl (61 kB)\n",
      "\u001b[K     |████████████████████████████████| 61 kB 771 kB/s  eta 0:00:01\n",
      "\u001b[?25hCollecting pillow>=6.2.0\n",
      "  Downloading Pillow-8.3.1-cp39-cp39-macosx_10_10_x86_64.whl (2.9 MB)\n",
      "\u001b[K     |████████████████████████████████| 2.9 MB 32.2 MB/s eta 0:00:01\n",
      "\u001b[?25hCollecting pyparsing>=2.2.1\n",
      "  Using cached pyparsing-2.4.7-py2.py3-none-any.whl (67 kB)\n",
      "Collecting cycler>=0.10\n",
      "  Downloading cycler-0.10.0-py2.py3-none-any.whl (6.5 kB)\n",
      "Requirement already satisfied: scikit-surprise in /Users/rathin/.pyenv/versions/3.9.0/lib/python3.9/site-packages (from surprise->recmetrics) (1.1.1)\n",
      "Building wheels for collected packages: recmetrics\n",
      "  Building wheel for recmetrics (setup.py) ... \u001b[?25ldone\n",
      "\u001b[?25h  Created wheel for recmetrics: filename=recmetrics-0.0.12-py3-none-any.whl size=7257 sha256=29f0706ee4c3f1473164867023de5594cea827368fcca423e294671b5e3c1d79\n",
      "  Stored in directory: /Users/rathin/Library/Caches/pip/wheels/92/4d/aa/95bcd4e16af805b7a42b851c751c5dba9f5b3f0f0eb81d5d49\n",
      "Successfully built recmetrics\n",
      "Installing collected packages: pytz, python-dateutil, pyparsing, pillow, kiwisolver, cycler, threadpoolctl, pandas, matplotlib, seaborn, scikit-learn, recmetrics\n",
      "Successfully installed cycler-0.10.0 kiwisolver-1.3.1 matplotlib-3.4.2 pandas-1.3.1 pillow-8.3.1 pyparsing-2.4.7 python-dateutil-2.8.2 pytz-2021.1 recmetrics-0.0.12 scikit-learn-0.24.2 seaborn-0.11.1 threadpoolctl-2.2.0\n",
      "\u001b[33mWARNING: You are using pip version 21.1.3; however, version 21.2.1 is available.\n",
      "You should consider upgrading via the '/Users/rathin/.pyenv/versions/3.9.0/bin/python3.9 -m pip install --upgrade pip' command.\u001b[0m\n"
     ]
    }
   ],
   "source": [
    "#Install recmetrics library for calculating diversity metrics \n",
    "#Source: https://github.com/statisticianinstilettos/recmetrics\n",
    "!pip install recmetrics"
   ]
  },
  {
   "cell_type": "code",
   "execution_count": 14,
   "metadata": {},
   "outputs": [],
   "source": [
    "#Load surprise packages which is a modified sklearn for recommender systems. \n",
    "from surprise import Reader\n",
    "from surprise import SVD\n",
    "from surprise import KNNBasic\n",
    "from surprise import Dataset\n",
    "from surprise import Trainset\n",
    "from surprise import accuracy\n",
    "from surprise.model_selection import LeaveOneOut\n",
    "from sklearn.preprocessing import MinMaxScaler\n",
    "\n",
    "from itertools import combinations\n",
    "\n",
    "#Load recmetrics package\n",
    "#import recmetrics.metrics"
   ]
  },
  {
   "cell_type": "code",
   "execution_count": 15,
   "metadata": {},
   "outputs": [],
   "source": [
    "def filter_ratings(df, min_ratings):\n",
    "    \n",
    "    '''Filter users with num_ratings below min_ratings\n",
    "    params: df, min_ratings\n",
    "    return: sorted_filtered_df\n",
    "    '''\n",
    "    \n",
    "    # Value counts of user ratings\n",
    "    user_ratings_counts = df['userId'].value_counts()\n",
    "    \n",
    "    # List of users with ratings counts greater than min_ratings\n",
    "    filtered_users = user_ratings_counts[user_ratings_counts >= min_ratings].index\n",
    "    \n",
    "    # Filter df to list of users above\n",
    "    filtered_df = df[df['userId'].isin(filtered_users)]\n",
    "    \n",
    "    return filtered_df"
   ]
  },
  {
   "cell_type": "code",
   "execution_count": 16,
   "metadata": {},
   "outputs": [],
   "source": [
    "def train_dev_test_split(df, dev_size=1, test_size=1):\n",
    "    \n",
    "    '''Split user ratings data into train, development and test sets\n",
    "    holding [test_size] ratings per user for test and [dev_size] ratings\n",
    "    per user for development, following chronological order (ascending timestamp)\n",
    "    params: df, min_ratings, dev_size, test_size\n",
    "    return: train_data, dev_data, test_data for one user\n",
    "    '''\n",
    "    \n",
    "    # Add a column that ranks each rating in reverse chronolgical grouped by user\n",
    "    df['rank'] = df.groupby(['userId'])['timestamp'] \\\n",
    "                   .rank(method='first', ascending=False).copy()\n",
    "    \n",
    "    # Filter to test data using rank column\n",
    "    test_df = df[df['rank'].isin(range(1,1+test_size))][['userId', 'movieId', 'rating']]\n",
    "    \n",
    "    # Filter to dev data using rank column\n",
    "    dev_df = df[df['rank'].isin(range(1+test_size, 1+test_size+dev_size))][['userId', 'movieId', 'rating']]\n",
    "    \n",
    "    # Filter to train data using rank column\n",
    "    train_df = df[df['rank'] >= (1+test_size+dev_size)][['userId', 'movieId', 'rating']]\n",
    "        \n",
    "    return train_df, dev_df, test_df"
   ]
  },
  {
   "cell_type": "code",
   "execution_count": 17,
   "metadata": {},
   "outputs": [],
   "source": [
    "def create_evalutaion_pools(train_df, test_df, pool_size=100):\n",
    "    '''This function creats pools of movies on which to evaluate a recommender system\n",
    "    The function returns a dictionary, with keys being users and values being movie pools\n",
    "    Each movie pool contains the test movies for the user and remaining movies selected randomly\n",
    "    from amongst the movies in the train_df that the user has not rated in train_df or test_df\n",
    "    '''\n",
    "    \n",
    "    # Get set of unique users and movies in train_df\n",
    "    users = set(train_df['userId'].unique())\n",
    "    movies = set(train_df['movieId'].unique())\n",
    "    \n",
    "    # Instantiate output dictionary \n",
    "    evaluation_dict = {}\n",
    "    \n",
    "    # Loop through each user\n",
    "    for user in users:\n",
    "        # Get set of training and test movies for the user\n",
    "        train_movies = set(train_df[train_df['userId']==user]['movieId'])\n",
    "        test_movies = set(test_df[test_df['userId']==user]['movieId'])\n",
    "        \n",
    "        # Find set of movies not rated by the user\n",
    "        movies_not_rated = movies - train_movies - test_movies\n",
    "        \n",
    "        # Sample movies randomly from the set of movies that the user has not rated yet\n",
    "        n_movies_to_choose = pool_size - len(test_movies)\n",
    "        sample_movies_not_rated = set(random.sample(movies_not_rated, n_movies_to_choose))\n",
    "        \n",
    "        # Combine random set of movies with test movies and convert to a list \n",
    "        evaluation_pool = list(test_movies | sample_movies_not_rated)\n",
    "        \n",
    "        # Add key-value pair of user and evalualtion pool to the output dictionary\n",
    "        evaluation_dict[user] = evaluation_pool\n",
    "    \n",
    "    return evaluation_dict"
   ]
  },
  {
   "cell_type": "code",
   "execution_count": 18,
   "metadata": {},
   "outputs": [],
   "source": [
    "def get_top_N(predictions, n=10, minimumRating=0.0):\n",
    "    '''Get the top n predicted movie ratings for a given user.'''\n",
    "    topN = defaultdict(list)\n",
    "    for userID, movieID, actualRating, estimatedRating, _ in predictions:\n",
    "        if (estimatedRating >= minimumRating):\n",
    "            topN[int(userID)].append((int(movieID), estimatedRating))\n",
    "\n",
    "    for userID, ratings in topN.items():\n",
    "        ratings.sort(key=lambda x: x[1], reverse=True)\n",
    "        topN[int(userID)] = ratings[:n]\n",
    "\n",
    "    return topN"
   ]
  },
  {
   "cell_type": "code",
   "execution_count": 19,
   "metadata": {},
   "outputs": [],
   "source": [
    "def calc_hit_rate(topNpredictions,leftoutpredictions):\n",
    "    '''Take the most recent rating out of the training set to use in our test set, \n",
    "    and the second most recent to use in our dev set. If the top-n list of recommendations (predicted ratings)\n",
    "    for a user contain the dev / test movie, we increase hit ratio by 1\n",
    "    \n",
    "    Source: https://medium.com/@rishabhbhatia315/recommendation-system-evaluation-metrics-3f6739288870''' \n",
    "    \n",
    "    hits=0\n",
    "    total=0\n",
    "    for leftout in leftoutpredictions:\n",
    "        userID = leftout[0]\n",
    "        leftoutmovieId = leftout[1]\n",
    "        hit = False\n",
    "        for movieId ,predictedRating in topNpredictions[int(userID)]:\n",
    "            if(int(movieId)==int(leftoutmovieId)):\n",
    "                hit = True\n",
    "        if(hit):\n",
    "            hits+=1\n",
    "        total+=1 \n",
    "    \n",
    "    return hits/total "
   ]
  },
  {
   "cell_type": "code",
   "execution_count": 20,
   "metadata": {},
   "outputs": [],
   "source": [
    "def sort_evaluation_pools_svd(model, evaluation_pools):\n",
    "    '''Take evaluation pool for each user and sort them by the predictions\n",
    "    from a trained svd model. Return of dictionary of user to sorted\n",
    "    evaluation pool\n",
    "    '''\n",
    "    \n",
    "    # Instantiate output dictionary\n",
    "    sorted_evaluation_pools = {}\n",
    "    \n",
    "    # Loop through each key-value pair in the input dictionary\n",
    "    for user, movie_pool in evaluation_pools.items():\n",
    "        \n",
    "        # Create a dictionary for the predicted rating of each movie in the user's pool\n",
    "        predictions = {}\n",
    "        for movie in movie_pool:\n",
    "            pred = model.predict(user, movie)\n",
    "            predictions[movie] = pred[3]\n",
    "        \n",
    "        # Sort the pool in descending order of predicted ratings\n",
    "        sorted_pool = [k for k, v in sorted(predictions.items(), key=lambda item: item[1], reverse=True)]\n",
    "        \n",
    "        # Add key-value pair of user and sorted evalualtion pool to the output dictionary\n",
    "        sorted_evaluation_pools[user] = sorted_pool\n",
    "\n",
    "    return sorted_evaluation_pools"
   ]
  },
  {
   "cell_type": "code",
   "execution_count": 21,
   "metadata": {},
   "outputs": [],
   "source": [
    "def calc_hit_rate_pools(sorted_evaluation_pools, test_df, top_n=10):\n",
    "    '''Calculate hit rate given a dictionary of sorted evaluation pools and a test data frame\n",
    "    A hit is defined as finding a test movie in the top_n of sorted evalutation pool of a user\n",
    "    '''\n",
    "    \n",
    "    # Start with hits and totals at 0\n",
    "    hits=0\n",
    "    total=0\n",
    "    \n",
    "    # Loop through the each key-value pair in the input dictionary\n",
    "    for user, sorted_pool in sorted_evaluation_pools.items():\n",
    "        \n",
    "        # Filter to test movies for the user\n",
    "        test_movies = test_df[test_df['userId']==user]\n",
    "        \n",
    "        # Find top_n movies from the pool\n",
    "        top_movies = sorted_pool[:top_n]\n",
    "        \n",
    "        # Loop through each test movie\n",
    "        for index, test_movie in test_movies.iterrows():\n",
    "            test_movie_id = test_movie['movieId']\n",
    "            \n",
    "            # If test movie is in top_movies, then add one to hits\n",
    "            if test_movie_id in top_movies:\n",
    "                hits += 1\n",
    "                \n",
    "            # Add one to total for each test movie  \n",
    "            total += 1\n",
    "            \n",
    "    return hits/total"
   ]
  },
  {
   "cell_type": "code",
   "execution_count": 22,
   "metadata": {},
   "outputs": [],
   "source": [
    "def calc_hit_rate_pools_with_cutoff(sorted_evaluation_pools, test_df, top_n=10, rating_cutoff=0):\n",
    "    '''Calculate hit rate given a dictionary of sorted evaluation pools and a test data frame\n",
    "    A hit is defined as finding a test movie that has a rating greater than a rating_cutoff\n",
    "    in the top_n of sorted evalutation pool of a user\n",
    "    '''\n",
    "    \n",
    "    # Start with hits and totals at 0\n",
    "    hits=0\n",
    "    total=0\n",
    "    \n",
    "    # Loop through the each key-value pair in the input dictionary\n",
    "    for user, sorted_pool in sorted_evaluation_pools.items():\n",
    "        \n",
    "        # Filter to test movies for the user\n",
    "        test_movies = test_df[test_df['userId']==user]\n",
    "        \n",
    "         # Find top_n movies from the pool\n",
    "        top_movies = sorted_pool[:top_n]\n",
    "        \n",
    "        # Loop through each test movie\n",
    "        for index, test_movie in test_movies.iterrows():\n",
    "            test_movie_rating = test_movie['rating']\n",
    "            test_movie_id = test_movie['movieId']\n",
    "            \n",
    "             # If test movie has a rating above rating_cutoff then evaluate\n",
    "            if test_movie_rating >= rating_cutoff:\n",
    "                \n",
    "                # If test movie is in top_movies, then add one to hits\n",
    "                if test_movie_id in top_movies:\n",
    "                    hits += 1\n",
    "                \n",
    "                # Add one to total for each test movie\n",
    "                total += 1\n",
    "\n",
    "    return hits/total"
   ]
  },
  {
   "cell_type": "code",
   "execution_count": 23,
   "metadata": {},
   "outputs": [],
   "source": [
    "def HitRateAdjusted(topNpredictions,leftoutpredictions):\n",
    "    '''Take the most recent rating out of the training set to use in our test set, \n",
    "    and the second most recent to use in our dev set. If the top-n list of recommendations (predicted ratings)\n",
    "    for a user contain the dev / test movie, we increase hit ratio by 1 \n",
    "    OR if the leftout movie is lower rated than the top n list (i.e. we correctly would not recommend to user) increase hit rate by 1.\n",
    "    \n",
    "    Source: https://medium.com/@rishabhbhatia315/recommendation-system-evaluation-metrics-3f6739288870''' \n",
    "    \n",
    "    hits=0\n",
    "    total=0\n",
    "    for leftout in leftoutpredictions:\n",
    "        userID = leftout[0]\n",
    "        leftoutmovieId = leftout[1]\n",
    "        leftoutrating = leftout[2]\n",
    "        \n",
    "        hit = False\n",
    "        \n",
    "        topNmovies = []\n",
    "        topNRatings = []\n",
    "        \n",
    "        for movieId ,predictedRating in topNpredictions[int(userID)]:\n",
    "            topNmovies.append(movieId)\n",
    "            topNRatings.append(predictedRating)\n",
    "        \n",
    "        max_top_N_rating = max(topNRatings)\n",
    "        min_top_N_rating = min(topNRatings)\n",
    "        \n",
    "        if leftoutrating < min_top_N_rating and leftoutmovieId not in topNmovies: \n",
    "            hit = True\n",
    "        elif leftoutrating > min_top_N_rating and leftoutmovieId in topNmovies: \n",
    "            hit = True\n",
    "        else: \n",
    "            hit = False\n",
    "        \n",
    "        if(hit):\n",
    "            hits+=1\n",
    "        total+=1 \n",
    "    \n",
    "    return hits/total "
   ]
  },
  {
   "cell_type": "code",
   "execution_count": 24,
   "metadata": {},
   "outputs": [],
   "source": [
    "def Diversity(topNPredicted, simsAlgo):\n",
    "    '''where simsalgo = similarities.cosine() from surprise.'''\n",
    "    n = 0\n",
    "    total = 0\n",
    "    simsMatrix = simsAlgo.compute_similarities()\n",
    "    for userID in topNPredicted.keys():\n",
    "        pairs = itertools.combinations(topNPredicted[userID], 2)\n",
    "        for pair in pairs:\n",
    "            movie1 = pair[0][0]\n",
    "            movie2 = pair[1][0]\n",
    "            innerID1 = simsAlgo.trainset.to_inner_iid(str(movie1))\n",
    "            innerID2 = simsAlgo.trainset.to_inner_iid(str(movie2))\n",
    "            similarity = simsMatrix[innerID1][innerID2]\n",
    "            total += similarity\n",
    "            n += 1\n",
    "            \n",
    "    S = total / n\n",
    "    return (1-S)"
   ]
  },
  {
   "cell_type": "code",
   "execution_count": 25,
   "metadata": {},
   "outputs": [],
   "source": [
    "def Novelty(topNPredicted, rankings):\n",
    "    n = 0\n",
    "    total = 0\n",
    "    for userID in topNPredicted.keys():\n",
    "        for rating in topNPredicted[userID]:\n",
    "            movieID = rating[0]\n",
    "            rank = rankings[movieID]\n",
    "            total += rank\n",
    "            n += 1\n",
    "    return total / n"
   ]
  },
  {
   "cell_type": "markdown",
   "metadata": {},
   "source": [
    "Good image to load in this spot: \n",
    "    https://www.google.com/url?sa=i&url=https%3A%2F%2Fstats.stackexchange.com%2Fquestions%2F390629%2Freference-point-in-projection-axis-of-svd-singular-value-decomposition&psig=AOvVaw1Lsj4Ue1mqmrwy-4FUoV7X&ust=1625783276443000&source=images&cd=vfe&ved=0CAoQjRxqFwoTCLDL7_GA0vECFQAAAAAdAAAAABA1   "
   ]
  },
  {
   "cell_type": "markdown",
   "metadata": {},
   "source": [
    "### Implementation of our SVD Algorithm for Matrix Factorization based Collaborative Filtering: "
   ]
  },
  {
   "cell_type": "markdown",
   "metadata": {},
   "source": [
    "#### Train, Val, Test Splits"
   ]
  },
  {
   "cell_type": "code",
   "execution_count": 26,
   "metadata": {},
   "outputs": [
    {
     "name": "stderr",
     "output_type": "stream",
     "text": [
      "/Users/rathin/opt/anaconda3/lib/python3.7/site-packages/ipykernel_launcher.py:12: SettingWithCopyWarning: \n",
      "A value is trying to be set on a copy of a slice from a DataFrame.\n",
      "Try using .loc[row_indexer,col_indexer] = value instead\n",
      "\n",
      "See the caveats in the documentation: https://pandas.pydata.org/pandas-docs/stable/user_guide/indexing.html#returning-a-view-versus-a-copy\n",
      "  if sys.path[0] == '':\n"
     ]
    }
   ],
   "source": [
    "#Filter our user list to those users who have 30+ ratings\n",
    "filtered_data = filter_ratings(ratings_df, min_ratings = 30)\n",
    "\n",
    "#Now split our data so that we take the n-1 (most recent) rating as our test rating, \n",
    "#and n-2 (second most recent) rating as our dev rating \n",
    "train_df, dev_df, test_df = train_dev_test_split(filtered_data)\n",
    "\n",
    "dev_evaluation_pools = create_evalutaion_pools(train_df, dev_df)\n",
    "test_evaluation_pools = create_evalutaion_pools(train_df, test_df)\n",
    "\n",
    "#Create a surprise Reader object to help us create a Surprise DataSet object. \n",
    "reader = Reader()\n",
    "\n",
    "#Now we load training data as is (no folding) by calling the .build_full_trainset() method. \n",
    "train_data = Dataset.load_from_df(train_df, reader).build_full_trainset()\n",
    "\n",
    "\n",
    "#Convert dev_data to DataSet object, and then as testset object by calling .buildtestset()\n",
    "dev_data = Dataset.load_from_df(dev_df, reader).build_full_trainset()\n",
    "dev_data = dev_data.build_testset()\n",
    "\n",
    "#Convert test_data to DataSet object, and then as testset object by calling .buildtestset()\n",
    "test_data = Dataset.load_from_df(test_df, reader).build_full_trainset()\n",
    "test_data = test_data.build_testset()"
   ]
  },
  {
   "cell_type": "markdown",
   "metadata": {},
   "source": [
    "#### Train and Test Baseline Model"
   ]
  },
  {
   "cell_type": "code",
   "execution_count": 28,
   "metadata": {},
   "outputs": [
    {
     "name": "stdout",
     "output_type": "stream",
     "text": [
      "HR@10 all movies: 0.020\n",
      "HR@10 random pools: 0.331\n",
      "HR@10 random pools > 4: 0.418\n",
      "Root Mean Squared Error: 0.947\n"
     ]
    }
   ],
   "source": [
    "#Train and test algorithm (Matrix Factorization for Collaborative Filtering)\n",
    "algo = SVD()\n",
    "\n",
    "#Train our train_data (all user's that have liked 30+ movies, train on the n-2 movie set)\n",
    "algo.fit(train_data)\n",
    "\n",
    "#Predict rating for the 1 dev movie\n",
    "dev_prediction = algo.test(dev_data)\n",
    "\n",
    "#Now predict ratings for all movies that are not in the trainingset\n",
    "largeTestSet = train_data.build_anti_testset()\n",
    "allPredictions = algo.test(largeTestSet)\n",
    "\n",
    "#Compute top 10 recs for each user using our defined topNPredicted Function above\n",
    "topNPredicted = get_top_N(allPredictions)\n",
    "\n",
    "#Calculate our evaluation metrics of interest\n",
    "hit_rate = calc_hit_rate(topNPredicted, dev_prediction)\n",
    "sorted_evaluation_pools = sort_evaluation_pools_svd(algo, dev_evaluation_pools)\n",
    "hit_rate_pools = calc_hit_rate_pools(sorted_evaluation_pools, dev_df)\n",
    "hit_rate_pools_with_cutoff = calc_hit_rate_pools_with_cutoff(sorted_evaluation_pools, dev_df, rating_cutoff=4)\n",
    "rmse = accuracy.rmse(dev_prediction, verbose = False)\n",
    "\n",
    "#Print our evaluation metrics of interest\n",
    "print('HR@10 all movies: %.3f' % hit_rate)\n",
    "print('HR@10 random pools: %.3f' % hit_rate_pools)\n",
    "print('HR@10 random pools > 4: %.3f' % hit_rate_pools_with_cutoff)\n",
    "print('Root Mean Squared Error: %.3f' % rmse)"
   ]
  },
  {
   "cell_type": "markdown",
   "metadata": {},
   "source": [
    "#### Diversity Metric Calculations"
   ]
  },
  {
   "cell_type": "code",
   "execution_count": 71,
   "metadata": {},
   "outputs": [
    {
     "name": "stdout",
     "output_type": "stream",
     "text": [
      "Novelty for n = 100: 79.830\n",
      "time: 152 ms (started: 2021-07-22 16:57:48 -06:00)\n"
     ]
    }
   ],
   "source": [
    "#Try calculating some diversity metrics from recmetrics\n",
    "\n",
    "#1.) Novelty\n",
    "rankings = ratings_df[\"movieId\"].value_counts()\n",
    "\n",
    "novelty = Novelty(topNPredicted, rankings)\n",
    "\n",
    "print(f'Novelty for n = {n}: {novelty:.3f}')\n",
    "\n",
    "#2.) Diversity (WIP)\n",
    "#c = {'name':'cosine', 'user_based': True}\n",
    "\n",
    "#simsAlgo = KNNBasic(sim_options = c)\n",
    "\n",
    "# diversity = Diversity(topNPredicted, simsAlgo = algo)"
   ]
  },
  {
   "cell_type": "code",
   "execution_count": 146,
   "metadata": {},
   "outputs": [
    {
     "name": "stdout",
     "output_type": "stream",
     "text": [
      "time: 6.07 ms (started: 2021-07-22 19:20:07 -06:00)\n"
     ]
    }
   ],
   "source": [
    "#Let's standardize our rankings to be able to be used together \n",
    "scaler = MinMaxScaler(feature_range = (0,5))\n",
    "ranking_movieID = rankings.index.to_numpy()\n",
    "\n",
    "sc_rankings = rankings.to_numpy().reshape(-1,1)\n",
    "sc_rankings = scaler.fit_transform(sc_rankings)\n",
    "\n",
    "sc_rankings = sc_rankings.tolist()\n",
    "\n",
    "#TODO: Check that this adjustment makes sense and keeps ranking meaning \n",
    "#Since ranking is actually just a movieID count in the dataset, we need to inverse the value\n",
    "#by multiplying by -1, and then renormalize to 0,5 scale by adding 5. So that least popular movies\n",
    "#have rating close to 5 and most popular movies have ratings close to 0. \n",
    "sc_rankings = [(float(i[0])*-1)+5 for i in sc_rankings]\n",
    "\n",
    "ranking_movieID = ranking_movieID.tolist()"
   ]
  },
  {
   "cell_type": "markdown",
   "metadata": {},
   "source": [
    "#### Add Diversity Into Optimization Problem (Modified Cost Function)"
   ]
  },
  {
   "cell_type": "code",
   "execution_count": 147,
   "metadata": {},
   "outputs": [
    {
     "name": "stdout",
     "output_type": "stream",
     "text": [
      "time: 1.73 ms (started: 2021-07-22 19:20:09 -06:00)\n"
     ]
    }
   ],
   "source": [
    "#Pull top-10 predicted ratings + rankings. This is our new ordered list. \n",
    "def GetTopNAdjusted(predictions, ranking_list, ranking_movies, n=10, minimumRating=0.0, w1 = 0.5, w2 = 0.5):\n",
    "    '''Get the top n predicted movie ratings for a given user.'''\n",
    "    topN = defaultdict(list)\n",
    "    remainingN = defaultdict(list)\n",
    "    \n",
    "    for userID, movieID, actualRating, estimatedRating, _ in predictions:\n",
    "        if (estimatedRating >= minimumRating):\n",
    "            \n",
    "            #Adjustment to solve for novelty within equation\n",
    "            noveltyRanking = ranking_list[ranking_movies.index(movieID)]\n",
    "            \n",
    "            estBlendedRating = (w1 * estimatedRating) + (w2 * noveltyRanking)\n",
    "            \n",
    "            topN[int(userID)].append((int(movieID), estBlendedRating))\n",
    "            \n",
    "    for userID, ratings in topN.items():\n",
    "        ratings.sort(key=lambda x: x[1], reverse=True)\n",
    "        topN[int(userID)] = ratings[:n]\n",
    "        #Pull the next n items as the remainingN list \n",
    "        remainingN[int(userID)] = ratings[n:(n+n)]\n",
    "\n",
    "    return topN, remainingN"
   ]
  },
  {
   "cell_type": "code",
   "execution_count": 161,
   "metadata": {},
   "outputs": [
    {
     "name": "stdout",
     "output_type": "stream",
     "text": [
      "time: 4min 22s (started: 2021-07-22 20:09:48 -06:00)\n"
     ]
    }
   ],
   "source": [
    "#Note: w1 = weight * rating, w2 = weight * ranking (novelty)\n",
    "topNPredicted_Blended, remainingNPredicted = GetTopNAdjusted(allPredictions, sc_rankings, ranking_movieID, n=10, w1 = 0.9, w2 = 0.1)"
   ]
  },
  {
   "cell_type": "code",
   "execution_count": 162,
   "metadata": {},
   "outputs": [
    {
     "name": "stdout",
     "output_type": "stream",
     "text": [
      "Hit Rate for n = 10: 0.018\n",
      "Blended Hit Rate for n = 10: 0.002\n",
      "Adjusted Hit Rate for n = 10: 0.736\n",
      "Blended, Adjusted Hit Rate for n = 10: 0.758\n",
      "time: 3.72 s (started: 2021-07-22 20:14:56 -06:00)\n"
     ]
    }
   ],
   "source": [
    "#COMPARE BLENDED VS NON-BLENDED \n",
    "\n",
    "#Compute top 10 recs for each user using our defined topNPredicted Function above\n",
    "topNPredicted = GetTopN(allPredictions, n=10)\n",
    "\n",
    "#Calculate our evaluation metrics of interest\n",
    "hit_rate = HitRate(topNPredicted, leftoutpredictions)\n",
    "hit_rate_Blended = HitRate(topNPredicted_Blended, leftoutpredictions)\n",
    "adjusted_hit_rate = HitRateAdjusted(topNPredicted, leftoutpredictions)\n",
    "adjusted_hit_rate_Blended = HitRateAdjusted(topNPredicted_Blended, leftoutpredictions)\n",
    "#rmse = accuracy.rmse(leftoutpredictions, verbose = False)\n",
    "#Print our evaluation metrics of interest\n",
    "print(f'Hit Rate for n = {n}: {hit_rate:.3f}')\n",
    "print(f'Blended Hit Rate for n = {n}: {hit_rate_Blended:.3f}')\n",
    "print(f'Adjusted Hit Rate for n = {n}: {adjusted_hit_rate:.3f}')\n",
    "print(f'Blended, Adjusted Hit Rate for n = {n}: {adjusted_hit_rate_Blended:.3f}')"
   ]
  },
  {
   "cell_type": "code",
   "execution_count": null,
   "metadata": {},
   "outputs": [],
   "source": [
    "#Create list of user's movieID's, movie rankings (for novelty), and movie estimated rating \n",
    "%load_ext autotime\n",
    "\n",
    "w1 = 0.5 \n",
    "w2 = 1 - w1 \n",
    "\n",
    "blendedtopN = defaultdict(list)\n",
    "\n",
    "best_combo = ()\n",
    "\n",
    "for userID in list(topNPredicted.keys())[:1]:\n",
    "    user_list = [] \n",
    "    movie_list = []\n",
    "    rank_list = []\n",
    "    rating_list = [] \n",
    "    \n",
    "    best_score = 0 \n",
    "    \n",
    "    for rating in topNPredicted[userID]: \n",
    "        user_list.append(userID)\n",
    "        movie_list.append(rating[0])\n",
    "        rank_list.append(rankings[rating[0]])\n",
    "        rating_list.append(rating[1])\n",
    "    \n",
    "    \n",
    "    \n",
    "    for combo in combinations(movie_list, 10): \n",
    "        #Initialize running sums to zero\n",
    "        rating_sum = 0 \n",
    "        novelty_sum = 0\n",
    "        \n",
    "        for movie in combo: \n",
    "            idx = movie_list.index(movie)\n",
    "            rating_sum += rating_list[idx]\n",
    "            novelty_sum += rank_list[idx]\n",
    "            \n",
    "        blended_score = (w1*rating_sum) + (w2*novelty_sum)\n",
    "        \n",
    "        if blended_score > best_score: \n",
    "            best_combo = combo \n",
    "            best_score = blended_score\n",
    "        \n",
    "    print(f'User ID: {userID}, Best Combo: {best_combo}, Best Score: {best_score}')\n",
    "            \n",
    "            \n",
    "            \n",
    "            \n",
    "# print(user_list)\n",
    "# print(movie_list)\n",
    "# print(rank_list)\n",
    "# print(rating_list)"
   ]
  },
  {
   "cell_type": "markdown",
   "metadata": {},
   "source": [
    "We are pulling the SVD initialization (below) from Surprise code directly to create our modified SVD class: \n",
    "https://github.com/NicolasHug/Surprise/blob/master/surprise/prediction_algorithms/matrix_factorization.pyx"
   ]
  },
  {
   "cell_type": "code",
   "execution_count": null,
   "metadata": {},
   "outputs": [],
   "source": [
    "#NOT USED\n",
    "\n",
    "#https://realpython.com/python-scipy-cluster-optimize/#using-the-optimize-module-in-scipy\n",
    "\n",
    "#Pull top 100 predicted movies, then select top 10 movie rating + novelty from this constrained list\n",
    "def objective_function(topNPredicted, rankings): \n",
    "    for userID in topNPredicted.keys(): \n",
    "        for rating in topNPredicted[userID]: \n",
    "            movieID = rating[0]\n",
    "            est_rating = rating[1]\n",
    "            rank = rankings[movieID]\n",
    "            \n",
    "            \n",
    "            \n",
    "            \n",
    "    \n",
    "    \n",
    "    "
   ]
  },
  {
   "cell_type": "markdown",
   "metadata": {},
   "source": [
    "Notes: \n",
    "- Might help to break out the adjusted hit rate by the positive hit rate and negative hit rate (in list, vs lower ranked than top n list and not in list, vs higher ranked than top n list and not in list). \n"
   ]
  },
  {
   "cell_type": "code",
   "execution_count": null,
   "metadata": {},
   "outputs": [],
   "source": []
  }
 ],
 "metadata": {
  "kernelspec": {
   "display_name": "Python 3",
   "language": "python",
   "name": "python3"
  },
  "language_info": {
   "codemirror_mode": {
    "name": "ipython",
    "version": 3
   },
   "file_extension": ".py",
   "mimetype": "text/x-python",
   "name": "python",
   "nbconvert_exporter": "python",
   "pygments_lexer": "ipython3",
   "version": "3.7.6"
  }
 },
 "nbformat": 4,
 "nbformat_minor": 4
}
