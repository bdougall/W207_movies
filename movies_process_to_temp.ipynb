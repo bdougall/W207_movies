{
 "cells": [
  {
   "cell_type": "code",
   "execution_count": 1,
   "metadata": {},
   "outputs": [],
   "source": [
    "import pandas as pd\n",
    "import numpy as np\n",
    "import ast\n",
    "from ast import literal_eval\n",
    "from sklearn.feature_extraction.text import *\n",
    "from sklearn.preprocessing import MultiLabelBinarizer\n",
    "import re\n",
    "from datetime import datetime\n",
    "from nltk.stem import PorterStemmer\n",
    "from nltk.tokenize import word_tokenize\n",
    "from nltk.corpus import stopwords"
   ]
  },
  {
   "cell_type": "code",
   "execution_count": 2,
   "metadata": {},
   "outputs": [],
   "source": [
    "# Load the movies dataframe\n",
    "movies_df = pd.read_csv(\"C:/Users/britt/Desktop/W207/final_project/data/movies_metadata.csv\", \n",
    "                        low_memory=False, parse_dates=True)\n",
    "\n",
    "# Read in the cleaned merged credits and keywords file\n",
    "credits_keywords = pd.read_csv(\"C:/Users/britt/Desktop/W207/final_project/data/credits_keywords.csv\")"
   ]
  },
  {
   "cell_type": "code",
   "execution_count": 3,
   "metadata": {},
   "outputs": [
    {
     "data": {
      "text/html": [
       "<div>\n",
       "<style scoped>\n",
       "    .dataframe tbody tr th:only-of-type {\n",
       "        vertical-align: middle;\n",
       "    }\n",
       "\n",
       "    .dataframe tbody tr th {\n",
       "        vertical-align: top;\n",
       "    }\n",
       "\n",
       "    .dataframe thead th {\n",
       "        text-align: right;\n",
       "    }\n",
       "</style>\n",
       "<table border=\"1\" class=\"dataframe\">\n",
       "  <thead>\n",
       "    <tr style=\"text-align: right;\">\n",
       "      <th></th>\n",
       "      <th>adult</th>\n",
       "      <th>belongs_to_collection</th>\n",
       "      <th>budget</th>\n",
       "      <th>genres</th>\n",
       "      <th>homepage</th>\n",
       "      <th>id</th>\n",
       "      <th>imdb_id</th>\n",
       "      <th>original_language</th>\n",
       "      <th>original_title</th>\n",
       "      <th>overview</th>\n",
       "      <th>...</th>\n",
       "      <th>release_date</th>\n",
       "      <th>revenue</th>\n",
       "      <th>runtime</th>\n",
       "      <th>spoken_languages</th>\n",
       "      <th>status</th>\n",
       "      <th>tagline</th>\n",
       "      <th>title</th>\n",
       "      <th>video</th>\n",
       "      <th>vote_average</th>\n",
       "      <th>vote_count</th>\n",
       "    </tr>\n",
       "  </thead>\n",
       "  <tbody>\n",
       "    <tr>\n",
       "      <th>0</th>\n",
       "      <td>False</td>\n",
       "      <td>{'id': 10194, 'name': 'Toy Story Collection', ...</td>\n",
       "      <td>30000000</td>\n",
       "      <td>[{'id': 16, 'name': 'Animation'}, {'id': 35, '...</td>\n",
       "      <td>http://toystory.disney.com/toy-story</td>\n",
       "      <td>862</td>\n",
       "      <td>tt0114709</td>\n",
       "      <td>en</td>\n",
       "      <td>Toy Story</td>\n",
       "      <td>Led by Woody, Andy's toys live happily in his ...</td>\n",
       "      <td>...</td>\n",
       "      <td>1995-10-30</td>\n",
       "      <td>373554033.0</td>\n",
       "      <td>81.0</td>\n",
       "      <td>[{'iso_639_1': 'en', 'name': 'English'}]</td>\n",
       "      <td>Released</td>\n",
       "      <td>NaN</td>\n",
       "      <td>Toy Story</td>\n",
       "      <td>False</td>\n",
       "      <td>7.7</td>\n",
       "      <td>5415.0</td>\n",
       "    </tr>\n",
       "    <tr>\n",
       "      <th>1</th>\n",
       "      <td>False</td>\n",
       "      <td>NaN</td>\n",
       "      <td>65000000</td>\n",
       "      <td>[{'id': 12, 'name': 'Adventure'}, {'id': 14, '...</td>\n",
       "      <td>NaN</td>\n",
       "      <td>8844</td>\n",
       "      <td>tt0113497</td>\n",
       "      <td>en</td>\n",
       "      <td>Jumanji</td>\n",
       "      <td>When siblings Judy and Peter discover an encha...</td>\n",
       "      <td>...</td>\n",
       "      <td>1995-12-15</td>\n",
       "      <td>262797249.0</td>\n",
       "      <td>104.0</td>\n",
       "      <td>[{'iso_639_1': 'en', 'name': 'English'}, {'iso...</td>\n",
       "      <td>Released</td>\n",
       "      <td>Roll the dice and unleash the excitement!</td>\n",
       "      <td>Jumanji</td>\n",
       "      <td>False</td>\n",
       "      <td>6.9</td>\n",
       "      <td>2413.0</td>\n",
       "    </tr>\n",
       "    <tr>\n",
       "      <th>2</th>\n",
       "      <td>False</td>\n",
       "      <td>{'id': 119050, 'name': 'Grumpy Old Men Collect...</td>\n",
       "      <td>0</td>\n",
       "      <td>[{'id': 10749, 'name': 'Romance'}, {'id': 35, ...</td>\n",
       "      <td>NaN</td>\n",
       "      <td>15602</td>\n",
       "      <td>tt0113228</td>\n",
       "      <td>en</td>\n",
       "      <td>Grumpier Old Men</td>\n",
       "      <td>A family wedding reignites the ancient feud be...</td>\n",
       "      <td>...</td>\n",
       "      <td>1995-12-22</td>\n",
       "      <td>0.0</td>\n",
       "      <td>101.0</td>\n",
       "      <td>[{'iso_639_1': 'en', 'name': 'English'}]</td>\n",
       "      <td>Released</td>\n",
       "      <td>Still Yelling. Still Fighting. Still Ready for...</td>\n",
       "      <td>Grumpier Old Men</td>\n",
       "      <td>False</td>\n",
       "      <td>6.5</td>\n",
       "      <td>92.0</td>\n",
       "    </tr>\n",
       "    <tr>\n",
       "      <th>3</th>\n",
       "      <td>False</td>\n",
       "      <td>NaN</td>\n",
       "      <td>16000000</td>\n",
       "      <td>[{'id': 35, 'name': 'Comedy'}, {'id': 18, 'nam...</td>\n",
       "      <td>NaN</td>\n",
       "      <td>31357</td>\n",
       "      <td>tt0114885</td>\n",
       "      <td>en</td>\n",
       "      <td>Waiting to Exhale</td>\n",
       "      <td>Cheated on, mistreated and stepped on, the wom...</td>\n",
       "      <td>...</td>\n",
       "      <td>1995-12-22</td>\n",
       "      <td>81452156.0</td>\n",
       "      <td>127.0</td>\n",
       "      <td>[{'iso_639_1': 'en', 'name': 'English'}]</td>\n",
       "      <td>Released</td>\n",
       "      <td>Friends are the people who let you be yourself...</td>\n",
       "      <td>Waiting to Exhale</td>\n",
       "      <td>False</td>\n",
       "      <td>6.1</td>\n",
       "      <td>34.0</td>\n",
       "    </tr>\n",
       "    <tr>\n",
       "      <th>4</th>\n",
       "      <td>False</td>\n",
       "      <td>{'id': 96871, 'name': 'Father of the Bride Col...</td>\n",
       "      <td>0</td>\n",
       "      <td>[{'id': 35, 'name': 'Comedy'}]</td>\n",
       "      <td>NaN</td>\n",
       "      <td>11862</td>\n",
       "      <td>tt0113041</td>\n",
       "      <td>en</td>\n",
       "      <td>Father of the Bride Part II</td>\n",
       "      <td>Just when George Banks has recovered from his ...</td>\n",
       "      <td>...</td>\n",
       "      <td>1995-02-10</td>\n",
       "      <td>76578911.0</td>\n",
       "      <td>106.0</td>\n",
       "      <td>[{'iso_639_1': 'en', 'name': 'English'}]</td>\n",
       "      <td>Released</td>\n",
       "      <td>Just When His World Is Back To Normal... He's ...</td>\n",
       "      <td>Father of the Bride Part II</td>\n",
       "      <td>False</td>\n",
       "      <td>5.7</td>\n",
       "      <td>173.0</td>\n",
       "    </tr>\n",
       "  </tbody>\n",
       "</table>\n",
       "<p>5 rows × 24 columns</p>\n",
       "</div>"
      ],
      "text/plain": [
       "   adult                              belongs_to_collection    budget  \\\n",
       "0  False  {'id': 10194, 'name': 'Toy Story Collection', ...  30000000   \n",
       "1  False                                                NaN  65000000   \n",
       "2  False  {'id': 119050, 'name': 'Grumpy Old Men Collect...         0   \n",
       "3  False                                                NaN  16000000   \n",
       "4  False  {'id': 96871, 'name': 'Father of the Bride Col...         0   \n",
       "\n",
       "                                              genres  \\\n",
       "0  [{'id': 16, 'name': 'Animation'}, {'id': 35, '...   \n",
       "1  [{'id': 12, 'name': 'Adventure'}, {'id': 14, '...   \n",
       "2  [{'id': 10749, 'name': 'Romance'}, {'id': 35, ...   \n",
       "3  [{'id': 35, 'name': 'Comedy'}, {'id': 18, 'nam...   \n",
       "4                     [{'id': 35, 'name': 'Comedy'}]   \n",
       "\n",
       "                               homepage     id    imdb_id original_language  \\\n",
       "0  http://toystory.disney.com/toy-story    862  tt0114709                en   \n",
       "1                                   NaN   8844  tt0113497                en   \n",
       "2                                   NaN  15602  tt0113228                en   \n",
       "3                                   NaN  31357  tt0114885                en   \n",
       "4                                   NaN  11862  tt0113041                en   \n",
       "\n",
       "                original_title  \\\n",
       "0                    Toy Story   \n",
       "1                      Jumanji   \n",
       "2             Grumpier Old Men   \n",
       "3            Waiting to Exhale   \n",
       "4  Father of the Bride Part II   \n",
       "\n",
       "                                            overview  ... release_date  \\\n",
       "0  Led by Woody, Andy's toys live happily in his ...  ...   1995-10-30   \n",
       "1  When siblings Judy and Peter discover an encha...  ...   1995-12-15   \n",
       "2  A family wedding reignites the ancient feud be...  ...   1995-12-22   \n",
       "3  Cheated on, mistreated and stepped on, the wom...  ...   1995-12-22   \n",
       "4  Just when George Banks has recovered from his ...  ...   1995-02-10   \n",
       "\n",
       "       revenue runtime                                   spoken_languages  \\\n",
       "0  373554033.0    81.0           [{'iso_639_1': 'en', 'name': 'English'}]   \n",
       "1  262797249.0   104.0  [{'iso_639_1': 'en', 'name': 'English'}, {'iso...   \n",
       "2          0.0   101.0           [{'iso_639_1': 'en', 'name': 'English'}]   \n",
       "3   81452156.0   127.0           [{'iso_639_1': 'en', 'name': 'English'}]   \n",
       "4   76578911.0   106.0           [{'iso_639_1': 'en', 'name': 'English'}]   \n",
       "\n",
       "     status                                            tagline  \\\n",
       "0  Released                                                NaN   \n",
       "1  Released          Roll the dice and unleash the excitement!   \n",
       "2  Released  Still Yelling. Still Fighting. Still Ready for...   \n",
       "3  Released  Friends are the people who let you be yourself...   \n",
       "4  Released  Just When His World Is Back To Normal... He's ...   \n",
       "\n",
       "                         title  video vote_average vote_count  \n",
       "0                    Toy Story  False          7.7     5415.0  \n",
       "1                      Jumanji  False          6.9     2413.0  \n",
       "2             Grumpier Old Men  False          6.5       92.0  \n",
       "3            Waiting to Exhale  False          6.1       34.0  \n",
       "4  Father of the Bride Part II  False          5.7      173.0  \n",
       "\n",
       "[5 rows x 24 columns]"
      ]
     },
     "execution_count": 3,
     "metadata": {},
     "output_type": "execute_result"
    }
   ],
   "source": [
    "# View the first 5 rows\n",
    "movies_df.head()"
   ]
  },
  {
   "cell_type": "code",
   "execution_count": 4,
   "metadata": {},
   "outputs": [],
   "source": [
    "# Create a copy of the movies dataframe, keeping only the desired columns\n",
    "movies = movies_df[['imdb_id', 'id', 'adult', 'belongs_to_collection', 'budget', 'genres', \n",
    "                    'original_language', 'original_title', 'overview', 'popularity', \n",
    "                    'production_companies', 'production_countries', 'release_date', 'revenue', 'runtime', \n",
    "                    'spoken_languages', 'status', 'tagline', 'title', 'video', \n",
    "                    'vote_average', 'vote_count']].copy(deep=True)"
   ]
  },
  {
   "cell_type": "markdown",
   "metadata": {},
   "source": [
    "#### Define a function to stem words and remove stopwords in text fields overview and tagline"
   ]
  },
  {
   "cell_type": "code",
   "execution_count": 5,
   "metadata": {},
   "outputs": [],
   "source": [
    "def stem_stop_text(text):\n",
    "    \"\"\"Remove stopwords and stem the words in each movie description\"\"\"\n",
    "    \n",
    "    # Create an instance of a Porter Stemmer object\n",
    "    ps = PorterStemmer()\n",
    "    \n",
    "    # Create a list of English stopwords from the nltk corpus\n",
    "    my_stop = stopwords.words('english')\n",
    "    \n",
    "    if not text:\n",
    "        return 'unknown'\n",
    "    \n",
    "    else:\n",
    "        # Tokenize the text and remove stopwords\n",
    "        tokens = [w for w in word_tokenize(text) if w not in my_stop]\n",
    "    \n",
    "        # Stem the tokens and rejoin\n",
    "        final_text = \" \".join([ps.stem(token) for token in tokens])\n",
    "    \n",
    "    return final_text"
   ]
  },
  {
   "cell_type": "markdown",
   "metadata": {},
   "source": [
    "#### Clean the adults field"
   ]
  },
  {
   "cell_type": "code",
   "execution_count": 6,
   "metadata": {},
   "outputs": [
    {
     "data": {
      "text/plain": [
       "array(['False', 'True', ' - Written by Ørnås',\n",
       "       ' Rune Balot goes to a casino connected to the October corporation to try to wrap up her case once and for all.',\n",
       "       ' Avalanche Sharks tells the story of a bikini contest that turns into a horrifying affair when it is hit by a shark avalanche.'],\n",
       "      dtype=object)"
      ]
     },
     "execution_count": 6,
     "metadata": {},
     "output_type": "execute_result"
    }
   ],
   "source": [
    "# The adult field should only contain boolean values\n",
    "movies.adult.unique()"
   ]
  },
  {
   "cell_type": "code",
   "execution_count": 7,
   "metadata": {},
   "outputs": [
    {
     "data": {
      "text/html": [
       "<div>\n",
       "<style scoped>\n",
       "    .dataframe tbody tr th:only-of-type {\n",
       "        vertical-align: middle;\n",
       "    }\n",
       "\n",
       "    .dataframe tbody tr th {\n",
       "        vertical-align: top;\n",
       "    }\n",
       "\n",
       "    .dataframe thead th {\n",
       "        text-align: right;\n",
       "    }\n",
       "</style>\n",
       "<table border=\"1\" class=\"dataframe\">\n",
       "  <thead>\n",
       "    <tr style=\"text-align: right;\">\n",
       "      <th></th>\n",
       "      <th>imdb_id</th>\n",
       "      <th>id</th>\n",
       "      <th>adult</th>\n",
       "      <th>belongs_to_collection</th>\n",
       "      <th>budget</th>\n",
       "      <th>genres</th>\n",
       "      <th>original_language</th>\n",
       "      <th>original_title</th>\n",
       "      <th>overview</th>\n",
       "      <th>popularity</th>\n",
       "      <th>...</th>\n",
       "      <th>release_date</th>\n",
       "      <th>revenue</th>\n",
       "      <th>runtime</th>\n",
       "      <th>spoken_languages</th>\n",
       "      <th>status</th>\n",
       "      <th>tagline</th>\n",
       "      <th>title</th>\n",
       "      <th>video</th>\n",
       "      <th>vote_average</th>\n",
       "      <th>vote_count</th>\n",
       "    </tr>\n",
       "  </thead>\n",
       "  <tbody>\n",
       "    <tr>\n",
       "      <th>19730</th>\n",
       "      <td>0</td>\n",
       "      <td>1997-08-20</td>\n",
       "      <td>- Written by Ørnås</td>\n",
       "      <td>0.065736</td>\n",
       "      <td>/ff9qCepilowshEtG2GYWwzt2bs4.jpg</td>\n",
       "      <td>[{'name': 'Carousel Productions', 'id': 11176}...</td>\n",
       "      <td>104.0</td>\n",
       "      <td>[{'iso_639_1': 'en', 'name': 'English'}]</td>\n",
       "      <td>Released</td>\n",
       "      <td>NaN</td>\n",
       "      <td>...</td>\n",
       "      <td>1</td>\n",
       "      <td>NaN</td>\n",
       "      <td>NaN</td>\n",
       "      <td>NaN</td>\n",
       "      <td>NaN</td>\n",
       "      <td>NaN</td>\n",
       "      <td>NaN</td>\n",
       "      <td>NaN</td>\n",
       "      <td>NaN</td>\n",
       "      <td>NaN</td>\n",
       "    </tr>\n",
       "    <tr>\n",
       "      <th>29503</th>\n",
       "      <td>0</td>\n",
       "      <td>2012-09-29</td>\n",
       "      <td>Rune Balot goes to a casino connected to the ...</td>\n",
       "      <td>1.931659</td>\n",
       "      <td>/zV8bHuSL6WXoD6FWogP9j4x80bL.jpg</td>\n",
       "      <td>[{'name': 'Aniplex', 'id': 2883}, {'name': 'Go...</td>\n",
       "      <td>68.0</td>\n",
       "      <td>[{'iso_639_1': 'ja', 'name': '日本語'}]</td>\n",
       "      <td>Released</td>\n",
       "      <td>NaN</td>\n",
       "      <td>...</td>\n",
       "      <td>12</td>\n",
       "      <td>NaN</td>\n",
       "      <td>NaN</td>\n",
       "      <td>NaN</td>\n",
       "      <td>NaN</td>\n",
       "      <td>NaN</td>\n",
       "      <td>NaN</td>\n",
       "      <td>NaN</td>\n",
       "      <td>NaN</td>\n",
       "      <td>NaN</td>\n",
       "    </tr>\n",
       "    <tr>\n",
       "      <th>35587</th>\n",
       "      <td>0</td>\n",
       "      <td>2014-01-01</td>\n",
       "      <td>Avalanche Sharks tells the story of a bikini ...</td>\n",
       "      <td>2.185485</td>\n",
       "      <td>/zaSf5OG7V8X8gqFvly88zDdRm46.jpg</td>\n",
       "      <td>[{'name': 'Odyssey Media', 'id': 17161}, {'nam...</td>\n",
       "      <td>82.0</td>\n",
       "      <td>[{'iso_639_1': 'en', 'name': 'English'}]</td>\n",
       "      <td>Released</td>\n",
       "      <td>Beware Of Frost Bites</td>\n",
       "      <td>...</td>\n",
       "      <td>22</td>\n",
       "      <td>NaN</td>\n",
       "      <td>NaN</td>\n",
       "      <td>NaN</td>\n",
       "      <td>NaN</td>\n",
       "      <td>NaN</td>\n",
       "      <td>NaN</td>\n",
       "      <td>NaN</td>\n",
       "      <td>NaN</td>\n",
       "      <td>NaN</td>\n",
       "    </tr>\n",
       "  </tbody>\n",
       "</table>\n",
       "<p>3 rows × 22 columns</p>\n",
       "</div>"
      ],
      "text/plain": [
       "      imdb_id          id                                              adult  \\\n",
       "19730       0  1997-08-20                                 - Written by Ørnås   \n",
       "29503       0  2012-09-29   Rune Balot goes to a casino connected to the ...   \n",
       "35587       0  2014-01-01   Avalanche Sharks tells the story of a bikini ...   \n",
       "\n",
       "      belongs_to_collection                            budget  \\\n",
       "19730              0.065736  /ff9qCepilowshEtG2GYWwzt2bs4.jpg   \n",
       "29503              1.931659  /zV8bHuSL6WXoD6FWogP9j4x80bL.jpg   \n",
       "35587              2.185485  /zaSf5OG7V8X8gqFvly88zDdRm46.jpg   \n",
       "\n",
       "                                                  genres original_language  \\\n",
       "19730  [{'name': 'Carousel Productions', 'id': 11176}...             104.0   \n",
       "29503  [{'name': 'Aniplex', 'id': 2883}, {'name': 'Go...              68.0   \n",
       "35587  [{'name': 'Odyssey Media', 'id': 17161}, {'nam...              82.0   \n",
       "\n",
       "                                 original_title  overview  \\\n",
       "19730  [{'iso_639_1': 'en', 'name': 'English'}]  Released   \n",
       "29503      [{'iso_639_1': 'ja', 'name': '日本語'}]  Released   \n",
       "35587  [{'iso_639_1': 'en', 'name': 'English'}]  Released   \n",
       "\n",
       "                  popularity  ... release_date revenue runtime  \\\n",
       "19730                    NaN  ...            1     NaN     NaN   \n",
       "29503                    NaN  ...           12     NaN     NaN   \n",
       "35587  Beware Of Frost Bites  ...           22     NaN     NaN   \n",
       "\n",
       "       spoken_languages  status tagline title video vote_average vote_count  \n",
       "19730               NaN     NaN     NaN   NaN   NaN          NaN        NaN  \n",
       "29503               NaN     NaN     NaN   NaN   NaN          NaN        NaN  \n",
       "35587               NaN     NaN     NaN   NaN   NaN          NaN        NaN  \n",
       "\n",
       "[3 rows x 22 columns]"
      ]
     },
     "execution_count": 7,
     "metadata": {},
     "output_type": "execute_result"
    }
   ],
   "source": [
    "# An inspection of the non-boolean rows reveals that the ids appear to be dates rather than numbers and there are no ratings\n",
    "# We'll drop these rows from the dataset\n",
    "movies.loc[(movies.adult != 'False') & (movies.adult != 'True')]"
   ]
  },
  {
   "cell_type": "code",
   "execution_count": 8,
   "metadata": {},
   "outputs": [],
   "source": [
    "def clean_adult(movies):\n",
    "    \"\"\"Drop rows where the adult column does not have a boolean value\"\"\"\n",
    "    \n",
    "    # Drop rows without a boolean value for the adults field\n",
    "    movies = movies[movies['adult'].isin(['True', 'False'])]\n",
    "    \n",
    "    # Convert the adult column to one-hot encoding\n",
    "    movies['adult'].replace({'False': 0, 'True': 1}, inplace=True)\n",
    "    \n",
    "    return movies"
   ]
  },
  {
   "cell_type": "code",
   "execution_count": 9,
   "metadata": {},
   "outputs": [
    {
     "name": "stderr",
     "output_type": "stream",
     "text": [
      "C:\\Users\\britt\\anaconda3\\lib\\site-packages\\pandas\\core\\series.py:4509: SettingWithCopyWarning: \n",
      "A value is trying to be set on a copy of a slice from a DataFrame\n",
      "\n",
      "See the caveats in the documentation: https://pandas.pydata.org/pandas-docs/stable/user_guide/indexing.html#returning-a-view-versus-a-copy\n",
      "  return super().replace(\n"
     ]
    }
   ],
   "source": [
    "# Apply the cleaning function to filter the movies dataframe\n",
    "movies = clean_adult(movies)"
   ]
  },
  {
   "cell_type": "markdown",
   "metadata": {},
   "source": [
    "#### Clean belongs_to_collection\n",
    "Since we removed nonsensical values by dropping the three rows where movies had floating point values for this field (these movies had no ratings), we only need to address Nan values and the dictionaries with collection names."
   ]
  },
  {
   "cell_type": "code",
   "execution_count": 10,
   "metadata": {},
   "outputs": [
    {
     "name": "stdout",
     "output_type": "stream",
     "text": [
      "4494\n",
      "40972\n"
     ]
    }
   ],
   "source": [
    "# The majority of movies don't belong to a collection - use one/hot encoding to indicate yes/no to in collection\n",
    "print(sum(~movies_df['belongs_to_collection'].isna()))\n",
    "print(sum(movies_df['belongs_to_collection'].isna()))"
   ]
  },
  {
   "cell_type": "code",
   "execution_count": 11,
   "metadata": {},
   "outputs": [],
   "source": [
    "def clean_collection(movies):\n",
    "    '''Convert the belongs to collection column with boolean values'''\n",
    "    \n",
    "    # Repace Nan values with 0, replace all other values with 1\n",
    "    movies['belongs_to_collection'] = np.where(movies['belongs_to_collection'].isnull(), 0, 1)\n",
    "    \n",
    "    return movies"
   ]
  },
  {
   "cell_type": "code",
   "execution_count": 12,
   "metadata": {},
   "outputs": [],
   "source": [
    "# Apply this function to convert the collection field to boolean values\n",
    "movies = clean_collection(movies)"
   ]
  },
  {
   "cell_type": "markdown",
   "metadata": {},
   "source": [
    "#### Clean budget\n",
    "Now that the 3 movies with letter-containing strings for budget have been dropped, we only need to convert the budget series to numbers."
   ]
  },
  {
   "cell_type": "code",
   "execution_count": 13,
   "metadata": {},
   "outputs": [],
   "source": [
    "def clean_budget(movies):\n",
    "    \"\"\"Convert the budget field to numeric form\"\"\"\n",
    "    movies['budget'] = pd.to_numeric(movies['budget'])\n",
    "    \n",
    "    return movies"
   ]
  },
  {
   "cell_type": "code",
   "execution_count": 14,
   "metadata": {},
   "outputs": [],
   "source": [
    "# Apply this function to convert the budget field to numbers\n",
    "movies = clean_budget(movies)"
   ]
  },
  {
   "cell_type": "markdown",
   "metadata": {},
   "source": [
    "#### Clean genres"
   ]
  },
  {
   "cell_type": "code",
   "execution_count": 15,
   "metadata": {},
   "outputs": [],
   "source": [
    "def clean_genres(movies):\n",
    "    \"\"\"Extract the genre(s) for each movie and convert genres to one-hot encoded columns\"\"\"\n",
    "    \n",
    "    # Extract the name field from genres - will now contain lists of values or empty lists for NaN\n",
    "    movies['genres'] = [list(set([y['name'].lower() if x != '[]' else 'unknown' for y in x]\n",
    "                                )) for x in movies['genres'].apply(ast.literal_eval)]\n",
    "    \n",
    "    # Using an instance of a MultiLabelBinarizer object, convert the lists of genres to columns of one-hot encoding\n",
    "    mlb = MultiLabelBinarizer()\n",
    "    movies = movies[[x for x in movies.columns if x != 'genres']].join(\n",
    "        pd.DataFrame(mlb.fit_transform(movies.pop('genres')), columns=mlb.classes_, index=movies.index))\n",
    "\n",
    "    return movies"
   ]
  },
  {
   "cell_type": "code",
   "execution_count": 16,
   "metadata": {},
   "outputs": [],
   "source": [
    "# Apply this function to create one-hot encoding for a list of genre names\n",
    "movies = clean_genres(movies)"
   ]
  },
  {
   "cell_type": "markdown",
   "metadata": {},
   "source": [
    "#### Clean original languges"
   ]
  },
  {
   "cell_type": "code",
   "execution_count": 17,
   "metadata": {},
   "outputs": [
    {
     "name": "stdout",
     "output_type": "stream",
     "text": [
      "Languages: ['en' 'fr' 'zh' 'it' 'fa' 'nl' 'de' 'cn' 'ar' 'es' 'ru' 'sv' 'ja' 'ko'\n",
      " 'sr' 'bn' 'he' 'pt' 'wo' 'ro' 'hu' 'cy' 'vi' 'cs' 'da' 'no' 'nb' 'pl'\n",
      " 'el' 'sh' 'xx' 'mk' 'bo' 'ca' 'fi' 'th' 'sk' 'bs' 'hi' 'tr' 'is' 'ps'\n",
      " 'ab' 'eo' 'ka' 'mn' 'bm' 'zu' 'uk' 'af' 'la' 'et' 'ku' 'fy' 'lv' 'ta'\n",
      " 'sl' 'tl' 'ur' 'rw' 'id' 'bg' 'mr' 'lt' 'kk' 'ms' 'sq' nan 'qu' 'te' 'am'\n",
      " 'jv' 'tg' 'ml' 'hr' 'lo' 'ay' 'kn' 'eu' 'ne' 'pa' 'ky' 'gl' 'uz' 'sm'\n",
      " 'mt' 'hy' 'iu' 'lb' 'si'] \n",
      "\n",
      "Count of movies without original language provided: 11\n"
     ]
    }
   ],
   "source": [
    "# The field is of object type and contains na values to be filled\n",
    "print(f'Languages: {movies.original_language.unique()}', '\\n')\n",
    "\n",
    "print(f'Count of movies without original language provided: {sum(movies.original_language.isna())}')"
   ]
  },
  {
   "cell_type": "code",
   "execution_count": 18,
   "metadata": {},
   "outputs": [
    {
     "data": {
      "text/plain": [
       "en    32269\n",
       "fr     2438\n",
       "it     1529\n",
       "ja     1350\n",
       "de     1080\n",
       "      ...  \n",
       "uz        1\n",
       "la        1\n",
       "sm        1\n",
       "mt        1\n",
       "rw        1\n",
       "Name: original_language, Length: 89, dtype: int64"
      ]
     },
     "execution_count": 18,
     "metadata": {},
     "output_type": "execute_result"
    }
   ],
   "source": [
    "# The majority of the original languages are in English and some languages have little representation (i.e. 1 movie)\n",
    "# We'll encode the original language status as a yes or no to being English and treat unknown as 'no'\n",
    "movies.original_language.value_counts()"
   ]
  },
  {
   "cell_type": "code",
   "execution_count": 19,
   "metadata": {},
   "outputs": [],
   "source": [
    "def clean_original_language(movies):\n",
    "    \"\"\"Clean original languages values and reduce to English status\"\"\"\n",
    "    \n",
    "    # Use unknown for the original language when unspecified\n",
    "    movies['original_language'].fillna('unknown', inplace=True)\n",
    "    \n",
    "    # Repace Nan values with 0, replace all other values with 1\n",
    "    movies['original_language'] = np.where(movies['original_language'] == 'en', 1, 0)\n",
    "    \n",
    "    # Rename the original languages column to reflect yes/no to specified English\n",
    "    movies = movies.rename(columns={'original_language': 'originally_english'})\n",
    "    \n",
    "    return movies"
   ]
  },
  {
   "cell_type": "code",
   "execution_count": 20,
   "metadata": {},
   "outputs": [],
   "source": [
    "# Apply the above function to reduced original_language to whether or not the original language was English\n",
    "movies = clean_original_language(movies)"
   ]
  },
  {
   "cell_type": "markdown",
   "metadata": {},
   "source": [
    "#### Clean original title and title fields\n",
    "The title field contains non-English names and accents, as well as timestamps, dates, and numbers that represent title names. We'll implement punctuation processing here (replace with whitespace), convert titles to lowercase, and strip leading/trailing whitespaces. Since the original title field contains non-ASCII characters, we will drop this field and keep only the title field."
   ]
  },
  {
   "cell_type": "code",
   "execution_count": 21,
   "metadata": {},
   "outputs": [
    {
     "name": "stdout",
     "output_type": "stream",
     "text": [
      "0\n",
      "0\n",
      "3\n"
     ]
    }
   ],
   "source": [
    "# There are 0 movies where both the original title and the title are NaN\n",
    "print(len(movies[movies.original_title.isna() & movies.title.isna()]))\n",
    "\n",
    "# There are 0 movies with NaN for the original title and a title value for the \n",
    "print(len(movies[(movies.original_title.isna()) & (~movies.title.isna())]))\n",
    "\n",
    "# There are 3 movies without a title, but with the original title - we'll fill the title field with the original title\n",
    "print(len(movies[movies.title.isna() & ~movies.original_title.isna()]))"
   ]
  },
  {
   "cell_type": "code",
   "execution_count": 22,
   "metadata": {},
   "outputs": [],
   "source": [
    "def clean_titles(movies):\n",
    "    \"\"\"Reduce and clean the title fields\"\"\"\n",
    "    \n",
    "    # Replace null title values with the value from original title\n",
    "    movies['title'].fillna(movies['original_title'], inplace=True)\n",
    "    \n",
    "    # Convert all titles to lowercase\n",
    "    movies['title'] = movies['title'].str.lower()\n",
    "    \n",
    "    # Remove non-ascii characters in the title field\n",
    "    movies['title'].replace({r'[^\\x00-\\x7F]+':''}, regex=True, inplace=True)\n",
    "    \n",
    "    # Remove punctuation\n",
    "    p = re.compile(r'[^\\w\\s]+')\n",
    "    movies['title'] = [p.sub('', x) for x in movies['title'].tolist()]\n",
    "    \n",
    "    # Strip leading and trailing whitespace\n",
    "    movies['title'] = movies['title'].str.strip()\n",
    "    \n",
    "    # Drop the original_title field\n",
    "    movies.drop('original_title', axis=1, inplace=True)\n",
    "\n",
    "    return movies"
   ]
  },
  {
   "cell_type": "code",
   "execution_count": 23,
   "metadata": {},
   "outputs": [],
   "source": [
    "# Apply the above function to clean title names and drop the original title field\n",
    "movies = clean_titles(movies)"
   ]
  },
  {
   "cell_type": "markdown",
   "metadata": {},
   "source": [
    "#### Clean overview\n",
    "This section contains descriptions, similar to the movie keywords in the keywords.csv file. "
   ]
  },
  {
   "cell_type": "code",
   "execution_count": 24,
   "metadata": {},
   "outputs": [
    {
     "name": "stdout",
     "output_type": "stream",
     "text": [
      "954\n",
      "0\n"
     ]
    }
   ],
   "source": [
    "# There are 954 movies without an overview, so we'll use 'unknown' as a placeholder for these\n",
    "print(sum(movies.overview.isna()))\n",
    "\n",
    "# An empty list is not used as a placeholder in this field\n",
    "print(len(movies[movies.overview == '[]']))"
   ]
  },
  {
   "cell_type": "code",
   "execution_count": 25,
   "metadata": {},
   "outputs": [],
   "source": [
    "def clean_overview(movies):\n",
    "    \"\"\"Clean the text descriptions of the movie overview field\"\"\"\n",
    "    \n",
    "    # Fill the Nan values with unknown\n",
    "    movies['overview'].fillna('unknown', inplace=True)\n",
    "    \n",
    "    # Remove non-ascii characters in the overview field\n",
    "    movies['overview'].replace({r'[^\\x00-\\x7F]+':''}, regex=True, inplace=True)\n",
    "    \n",
    "    # Remove punctuation\n",
    "    p = re.compile(r'[^\\w\\s]+')\n",
    "    movies['overview'] = [p.sub('', x) for x in movies['overview'].tolist()]\n",
    "    \n",
    "    # Convert all text to string and lowercase\n",
    "    movies['overview'] = movies['overview'].str.lower()\n",
    "    \n",
    "    # Remove leading and trailing whitespaces\n",
    "    movies['overview'] = movies['overview'].str.strip()\n",
    "    \n",
    "     # Apply the function to stem and remove stopwords\n",
    "    movies['overview'] = movies.apply(lambda row: stem_stop_text(row['overview']), axis=1)\n",
    "    \n",
    "    return movies"
   ]
  },
  {
   "cell_type": "code",
   "execution_count": 26,
   "metadata": {},
   "outputs": [],
   "source": [
    "# Apply the above function to clean the overview field and produce an updated movie dataframe\n",
    "movies = clean_overview(movies)"
   ]
  },
  {
   "cell_type": "markdown",
   "metadata": {},
   "source": [
    "#### Clean popularity"
   ]
  },
  {
   "cell_type": "code",
   "execution_count": 27,
   "metadata": {},
   "outputs": [
    {
     "name": "stdout",
     "output_type": "stream",
     "text": [
      "3\n",
      "19729   NaN\n",
      "29502   NaN\n",
      "35586   NaN\n",
      "Name: vote_count, dtype: float64\n",
      "object\n"
     ]
    }
   ],
   "source": [
    "# There are 3 movies without a popularity score\n",
    "print(sum(movies.popularity.isna()))\n",
    "\n",
    "# These movies have no recorded votes, so we'll fill the NaN values with 0\n",
    "print(movies[movies.popularity.isna()]['vote_count'])\n",
    "\n",
    "# This field is currently in object form, so we'll cas to floats\n",
    "print(movies.popularity.dtypes)"
   ]
  },
  {
   "cell_type": "code",
   "execution_count": 28,
   "metadata": {},
   "outputs": [],
   "source": [
    "def clean_popularity(movies):\n",
    "    \"\"\"Replace NaN values and convert to floating point type\"\"\"\n",
    "    # Fill NaN values with 0\n",
    "    movies.popularity.fillna(0, inplace=True)\n",
    "    \n",
    "    # Cast to floating point type\n",
    "    movies['popularity'] = pd.to_numeric(movies['popularity'])\n",
    "    \n",
    "    return movies"
   ]
  },
  {
   "cell_type": "code",
   "execution_count": 29,
   "metadata": {},
   "outputs": [],
   "source": [
    "# Apply the above function to clean the popularity field and produce an updated movie dataframe\n",
    "movies = clean_popularity(movies)"
   ]
  },
  {
   "cell_type": "markdown",
   "metadata": {},
   "source": [
    "#### Clean production\n",
    "In this section, we'll extract production company names and countries from dictionaries, forming a single text string for both fields."
   ]
  },
  {
   "cell_type": "code",
   "execution_count": 30,
   "metadata": {},
   "outputs": [
    {
     "name": "stdout",
     "output_type": "stream",
     "text": [
      "3\n",
      "11875\n",
      "3\n",
      "6282\n"
     ]
    }
   ],
   "source": [
    "# There are some NaN values for production company, as well as many empty list values\n",
    "# Both NaN and empty lists will be replaced with the string 'unknown'\n",
    "print(len(movies[movies['production_companies'].isna()]))\n",
    "print(len(movies[movies['production_companies'] == '[]']))\n",
    "\n",
    "# There are some NaN values for production countries, as well as many empty list values\n",
    "# Both NaN and empty lists will be replaced with the string 'unknown'\n",
    "print(len(movies[movies['production_countries'].isna()]))\n",
    "print(len(movies[movies['production_countries'] == '[]']))"
   ]
  },
  {
   "cell_type": "code",
   "execution_count": 31,
   "metadata": {},
   "outputs": [],
   "source": [
    "def clean_production(movies):\n",
    "    \"\"\"Form a cleaned column of production company(ies) data and another for production country(ies)\"\"\"\n",
    "    \n",
    "    # Replace empty production companies and countries cells with lists as an empty string\n",
    "    movies['production_companies'].fillna('[]', inplace=True)\n",
    "    movies['production_countries'].fillna('[]', inplace=True)\n",
    "    \n",
    "    # Extract the name fields for production companies and countries\n",
    "    movies['production_companies'] = [\" \".join(list(set([y['name'] for y in x]))\n",
    "                                       ) for x in movies['production_companies'].apply(ast.literal_eval)]\n",
    "    movies['production_countries'] = [\" \".join(list(set([y['iso_3166_1'] for y in x]))\n",
    "                                       ) for x in movies['production_countries'].apply(ast.literal_eval)]\n",
    "    \n",
    "    # Strip leading and trailing whitespace values\n",
    "    movies['production_companies'] = movies['production_companies'].str.strip()\n",
    "    movies['production_countries'] = movies['production_countries'].str.strip()\n",
    "    \n",
    "    # Replace empty string values with 'unknown'\n",
    "    movies['production_companies'].replace(r'^\\s*$', 'unknown', regex=True, inplace=True)\n",
    "    movies['production_countries'].replace(r'^\\s*$', 'unknown', regex=True, inplace=True)\n",
    "    \n",
    "    # Convert both columns to lowercase\n",
    "    movies['production_companies'] = movies['production_companies'].str.lower()\n",
    "    movies['production_countries'] = movies['production_countries'].str.lower()\n",
    "    \n",
    "    return movies"
   ]
  },
  {
   "cell_type": "code",
   "execution_count": 32,
   "metadata": {},
   "outputs": [],
   "source": [
    "# Apply the above function to clean the production company and country fields and return an updated dataframe\n",
    "movies = clean_production(movies)"
   ]
  },
  {
   "cell_type": "markdown",
   "metadata": {},
   "source": [
    "#### Clean release_date"
   ]
  },
  {
   "cell_type": "code",
   "execution_count": 33,
   "metadata": {},
   "outputs": [
    {
     "name": "stdout",
     "output_type": "stream",
     "text": [
      "87\n",
      "['Released' nan 'Planned' 'Canceled' 'Post Production' 'In Production']\n"
     ]
    }
   ],
   "source": [
    "# There are 87 movies remaining in the dataset without a release_date\n",
    "print(len(movies[movies.release_date.isna()]))\n",
    "\n",
    "# However, some of these have a status of released, so we'll use a dummy value to replace NaNs (1/1/1900)\n",
    "print(movies[movies.release_date.isna()]['status'].unique())"
   ]
  },
  {
   "cell_type": "code",
   "execution_count": 34,
   "metadata": {},
   "outputs": [],
   "source": [
    "def clean_release_date(movies):\n",
    "    \"\"\"Convert release date to release year and keep the Imdb id with the most recent release year if duplicated\"\"\"\n",
    "    \n",
    "    # Replace NaN values with the dummy value\n",
    "    movies['release_date'].fillna('1900-01-01', inplace=True)\n",
    "    \n",
    "    # Convert the release date field to a datetime type\n",
    "    movies['release_date'] = movies.apply(lambda row: datetime.strptime(row['release_date'], '%Y-%m-%d'), axis=1)\n",
    "    \n",
    "    # Extract the release year as a new column\n",
    "    movies['release_year'] = pd.DatetimeIndex(movies['release_date']).year\n",
    "    \n",
    "    # Drop rows with duplicated imdb ids, keeping the row with the most recent value\n",
    "    # Per Jerico's ratings EDA, the majority of ratings are in the last several years, so we'll keep the most recent value\n",
    "    movies.sort_values('release_date').drop_duplicates('imdb_id',keep='last', inplace=True)\n",
    "    \n",
    "    # Drop the release date field and only keep release year\n",
    "    movies.drop('release_date', axis=1, inplace=True)\n",
    "    \n",
    "    return movies"
   ]
  },
  {
   "cell_type": "code",
   "execution_count": 35,
   "metadata": {},
   "outputs": [],
   "source": [
    "# Apply the above function to return an udpated movies dataframe with a cleaned release date column\n",
    "movies = clean_release_date(movies)"
   ]
  },
  {
   "cell_type": "markdown",
   "metadata": {},
   "source": [
    "#### Clean runtime"
   ]
  },
  {
   "cell_type": "code",
   "execution_count": 36,
   "metadata": {},
   "outputs": [
    {
     "name": "stdout",
     "output_type": "stream",
     "text": [
      "260\n",
      "0.0 94.12819945578833 1256.0\n"
     ]
    }
   ],
   "source": [
    "# There are 260 movies without a runtime provided\n",
    "print(sum(movies.runtime.isna()))\n",
    "\n",
    "# The shortest length movie is 0 min, the average movie length is around 94 min, and the longest is 1,256 min\n",
    "print(min(movies.runtime), np.mean(movies.runtime), max(movies.runtime))"
   ]
  },
  {
   "cell_type": "code",
   "execution_count": 37,
   "metadata": {},
   "outputs": [],
   "source": [
    "def clean_runtime(movies):\n",
    "    \"\"\"Convert the runtime field to numeric data\"\"\"\n",
    "    \n",
    "    # For movies without a runtime, use -1 as a placeholder to differentiate from movies with an actual 0 min length\n",
    "    movies['runtime'].fillna(-1, inplace=True)\n",
    "    \n",
    "    # Convert the field to numeric type\n",
    "    movies['runtime'] = pd.to_numeric(movies['runtime'])\n",
    "    \n",
    "    return movies"
   ]
  },
  {
   "cell_type": "code",
   "execution_count": 38,
   "metadata": {},
   "outputs": [],
   "source": [
    "# Update the movies dataset to clean the runtime field\n",
    "movies = clean_runtime(movies)"
   ]
  },
  {
   "cell_type": "markdown",
   "metadata": {},
   "source": [
    "#### Clean spoken languages\n",
    "In this section, we'll extract a list of spoken languages from the dictionary for each row, using the iso_639_1 field for language abbreviations. For rows with an empty list value, 'unknown' will be used as a placeholder."
   ]
  },
  {
   "cell_type": "code",
   "execution_count": 39,
   "metadata": {},
   "outputs": [
    {
     "name": "stdout",
     "output_type": "stream",
     "text": [
      "3\n",
      "3829\n"
     ]
    }
   ],
   "source": [
    "# There are 3 rows with a NaN value for spoken languages and several thousand rows with an empty list placeholder.\n",
    "# We'll replace both of those values with 'unknown' in the next step\n",
    "print(len(movies[movies.spoken_languages.isna()]))\n",
    "print(len(movies[movies.spoken_languages == '[]']))"
   ]
  },
  {
   "cell_type": "code",
   "execution_count": 40,
   "metadata": {},
   "outputs": [],
   "source": [
    "def clean_spoken_languages(movies):\n",
    "    \"\"\"Extract each movie's spoken language(s) as a text string\"\"\"\n",
    "    \n",
    "    # Replace NaN values with an empty list\n",
    "    movies['spoken_languages'].fillna('[]', inplace=True)\n",
    "    \n",
    "    # Extract all spoken language abbreviations for each movie\n",
    "    movies['spoken_languages'] = [list(set([y['iso_639_1'] if x != '[]' else 'unknown' for y in x]))\n",
    "                                  for x in movies['spoken_languages'].apply(ast.literal_eval)]\n",
    "    \n",
    "    # Using an instance of a MultiLabelBinarizer object, convert the lists of spoken languages to columns of one-hot encoding\n",
    "    mlb = MultiLabelBinarizer()\n",
    "    movies = movies[[x for x in movies.columns if x != 'spoken_languages']].join(\n",
    "        pd.DataFrame(mlb.fit_transform(movies.pop('spoken_languages')), columns=mlb.classes_, index=movies.index),\n",
    "        lsuffix=\"_left\", rsuffix=\"_right\")\n",
    "    \n",
    "    # Drop the id right column\n",
    "    del movies['id_right']\n",
    "    \n",
    "    #  Rename the id_left column\n",
    "    movies = movies.rename(columns={'id_left': 'id'})\n",
    "    \n",
    "    return movies"
   ]
  },
  {
   "cell_type": "code",
   "execution_count": 41,
   "metadata": {},
   "outputs": [],
   "source": [
    "# Apply this function to the movie's spoken languages field and update the movies dataset\n",
    "movies = clean_spoken_languages(movies)"
   ]
  },
  {
   "cell_type": "markdown",
   "metadata": {},
   "source": [
    "#### Clean status field"
   ]
  },
  {
   "cell_type": "code",
   "execution_count": 42,
   "metadata": {},
   "outputs": [
    {
     "data": {
      "text/plain": [
       "array(['Released', nan, 'Rumored', 'Post Production', 'In Production',\n",
       "       'Planned', 'Canceled'], dtype=object)"
      ]
     },
     "execution_count": 42,
     "metadata": {},
     "output_type": "execute_result"
    }
   ],
   "source": [
    "# The movies status field contains NaN values and capitalized words that will be converted to lowercase\n",
    "movies.status.unique()"
   ]
  },
  {
   "cell_type": "code",
   "execution_count": 43,
   "metadata": {},
   "outputs": [],
   "source": [
    "def clean_status(movies):\n",
    "    \"\"\"Add a placeholder for the NaN values and lowercase the responses\"\"\"\n",
    "    \n",
    "    # Update rows with a production status to remove whitespace\n",
    "    movies['status'].replace('Post Production', 'post-production', inplace=True)\n",
    "    movies['status'].replace('In Production', 'in-production', inplace=True)\n",
    "    \n",
    "    # Lowercase the text\n",
    "    movies['status'] = movies['status'].str.lower()\n",
    "    \n",
    "    # Using an instance of a MultiLabelBinarizer object, convert the statuses to columns of one-hot encoding\n",
    "    movies = movies[[x for x in list(movies.columns) if x != 'status']].join(pd.get_dummies(movies.status))\n",
    "    \n",
    "    return movies"
   ]
  },
  {
   "cell_type": "code",
   "execution_count": 44,
   "metadata": {},
   "outputs": [],
   "source": [
    "# Apply the above function to the status field and return an updated movies dataset\n",
    "movies = clean_status(movies)"
   ]
  },
  {
   "cell_type": "markdown",
   "metadata": {},
   "source": [
    "#### Clean tagline"
   ]
  },
  {
   "cell_type": "code",
   "execution_count": 45,
   "metadata": {},
   "outputs": [
    {
     "data": {
      "text/plain": [
       "25051"
      ]
     },
     "execution_count": 45,
     "metadata": {},
     "output_type": "execute_result"
    }
   ],
   "source": [
    "# Many movies have no tagline; we'll use unknown as a placeholder\n",
    "len(movies[movies.tagline.isna()])"
   ]
  },
  {
   "cell_type": "code",
   "execution_count": 46,
   "metadata": {},
   "outputs": [],
   "source": [
    "def clean_tagline(movies):\n",
    "    \"\"\"Clean and process the tagline field\"\"\"\n",
    "    \n",
    "    # Replace missing values with a placeholder\n",
    "    movies['tagline'].fillna('unknown', inplace=True)\n",
    "    \n",
    "    # Remove non-ascii characters in the overview field\n",
    "    movies['tagline'].replace({r'[^\\x00-\\x7F]+':''}, regex=True, inplace=True)\n",
    "    \n",
    "    # Remove punctuation\n",
    "    p = re.compile(r'[^\\w\\s]+')\n",
    "    movies['tagline'] = [p.sub('', x) for x in movies['tagline'].tolist()]\n",
    "    \n",
    "    # Convert all text to string and lowercase\n",
    "    movies['tagline'] = movies['tagline'].str.lower()\n",
    "    \n",
    "    # Remove leading and trailing whitespaces\n",
    "    movies['tagline'] = movies['tagline'].str.strip()\n",
    "    \n",
    "     # Apply the function to stem and remove stopwords\n",
    "    movies['tagline'] = movies.apply(lambda row: stem_stop_text(row['tagline']), axis=1)\n",
    "    \n",
    "    return movies"
   ]
  },
  {
   "cell_type": "code",
   "execution_count": 47,
   "metadata": {},
   "outputs": [],
   "source": [
    "# Apply the above function to clean the movies' tagline field and return an updated dataframe\n",
    "movies = clean_tagline(movies)"
   ]
  },
  {
   "cell_type": "markdown",
   "metadata": {},
   "source": [
    "#### Clean the video field to convert to string and replace NaN values with 'unknown'"
   ]
  },
  {
   "cell_type": "code",
   "execution_count": 48,
   "metadata": {},
   "outputs": [
    {
     "data": {
      "text/plain": [
       "3"
      ]
     },
     "execution_count": 48,
     "metadata": {},
     "output_type": "execute_result"
    }
   ],
   "source": [
    "# There are only 3 movies without a video status, so we'll drop these from the dataframe\n",
    "len(movies[movies.video.isna()])"
   ]
  },
  {
   "cell_type": "code",
   "execution_count": 49,
   "metadata": {},
   "outputs": [],
   "source": [
    "def clean_video(movies):\n",
    "    \n",
    "    # Drop the 3 rows with missing values\n",
    "    movies = movies[movies.video.notnull()]\n",
    "    \n",
    "    # Convert to one-hot encoding \n",
    "    movies['video'].replace({False: 0, True: 1}, inplace=True)\n",
    "    \n",
    "    return movies"
   ]
  },
  {
   "cell_type": "code",
   "execution_count": 50,
   "metadata": {},
   "outputs": [],
   "source": [
    "# Apply the above function to fill missing values in the video field\n",
    "movies = clean_video(movies)"
   ]
  },
  {
   "cell_type": "markdown",
   "metadata": {},
   "source": [
    "#### Clean the vote related fields (vote_average and vote_count)"
   ]
  },
  {
   "cell_type": "code",
   "execution_count": 51,
   "metadata": {},
   "outputs": [
    {
     "data": {
      "text/html": [
       "<div>\n",
       "<style scoped>\n",
       "    .dataframe tbody tr th:only-of-type {\n",
       "        vertical-align: middle;\n",
       "    }\n",
       "\n",
       "    .dataframe tbody tr th {\n",
       "        vertical-align: top;\n",
       "    }\n",
       "\n",
       "    .dataframe thead th {\n",
       "        text-align: right;\n",
       "    }\n",
       "</style>\n",
       "<table border=\"1\" class=\"dataframe\">\n",
       "  <thead>\n",
       "    <tr style=\"text-align: right;\">\n",
       "      <th></th>\n",
       "      <th>imdb_id</th>\n",
       "      <th>id</th>\n",
       "      <th>adult</th>\n",
       "      <th>belongs_to_collection</th>\n",
       "      <th>budget</th>\n",
       "      <th>originally_english</th>\n",
       "      <th>overview</th>\n",
       "      <th>popularity</th>\n",
       "      <th>production_companies</th>\n",
       "      <th>production_countries</th>\n",
       "      <th>...</th>\n",
       "      <th>xx</th>\n",
       "      <th>yi</th>\n",
       "      <th>zh</th>\n",
       "      <th>zu</th>\n",
       "      <th>canceled</th>\n",
       "      <th>in-production</th>\n",
       "      <th>planned</th>\n",
       "      <th>post-production</th>\n",
       "      <th>released</th>\n",
       "      <th>rumored</th>\n",
       "    </tr>\n",
       "  </thead>\n",
       "  <tbody>\n",
       "  </tbody>\n",
       "</table>\n",
       "<p>0 rows × 176 columns</p>\n",
       "</div>"
      ],
      "text/plain": [
       "Empty DataFrame\n",
       "Columns: [imdb_id, id, adult, belongs_to_collection, budget, originally_english, overview, popularity, production_companies, production_countries, revenue, runtime, tagline, title, video, vote_average, vote_count, action, adventure, animation, comedy, crime, documentary, drama, family, fantasy, foreign, history, horror, music, mystery, romance, science fiction, thriller, tv movie, war, western, release_year, ab, af, am, ar, as, ay, az, be, bg, bi, bm, bn, bo, br, bs, ca, ce, cn, co, cr, cs, cy, da, de, dz, el, en, eo, es, et, eu, fa, ff, fi, fo, fr, fy, ga, gd, gl, gn, gu, ha, he, hi, hr, ht, hu, hy, ig, is, it, iu, ja, jv, ka, ki, kk, km, kn, ko, ku, ...]\n",
       "Index: []\n",
       "\n",
       "[0 rows x 176 columns]"
      ]
     },
     "execution_count": 51,
     "metadata": {},
     "output_type": "execute_result"
    }
   ],
   "source": [
    "# There are no movies without an average for votes\n",
    "movies[movies.vote_average.isna()]"
   ]
  },
  {
   "cell_type": "code",
   "execution_count": 52,
   "metadata": {},
   "outputs": [
    {
     "data": {
      "text/html": [
       "<div>\n",
       "<style scoped>\n",
       "    .dataframe tbody tr th:only-of-type {\n",
       "        vertical-align: middle;\n",
       "    }\n",
       "\n",
       "    .dataframe tbody tr th {\n",
       "        vertical-align: top;\n",
       "    }\n",
       "\n",
       "    .dataframe thead th {\n",
       "        text-align: right;\n",
       "    }\n",
       "</style>\n",
       "<table border=\"1\" class=\"dataframe\">\n",
       "  <thead>\n",
       "    <tr style=\"text-align: right;\">\n",
       "      <th></th>\n",
       "      <th>imdb_id</th>\n",
       "      <th>id</th>\n",
       "      <th>adult</th>\n",
       "      <th>belongs_to_collection</th>\n",
       "      <th>budget</th>\n",
       "      <th>originally_english</th>\n",
       "      <th>overview</th>\n",
       "      <th>popularity</th>\n",
       "      <th>production_companies</th>\n",
       "      <th>production_countries</th>\n",
       "      <th>...</th>\n",
       "      <th>xx</th>\n",
       "      <th>yi</th>\n",
       "      <th>zh</th>\n",
       "      <th>zu</th>\n",
       "      <th>canceled</th>\n",
       "      <th>in-production</th>\n",
       "      <th>planned</th>\n",
       "      <th>post-production</th>\n",
       "      <th>released</th>\n",
       "      <th>rumored</th>\n",
       "    </tr>\n",
       "  </thead>\n",
       "  <tbody>\n",
       "  </tbody>\n",
       "</table>\n",
       "<p>0 rows × 176 columns</p>\n",
       "</div>"
      ],
      "text/plain": [
       "Empty DataFrame\n",
       "Columns: [imdb_id, id, adult, belongs_to_collection, budget, originally_english, overview, popularity, production_companies, production_countries, revenue, runtime, tagline, title, video, vote_average, vote_count, action, adventure, animation, comedy, crime, documentary, drama, family, fantasy, foreign, history, horror, music, mystery, romance, science fiction, thriller, tv movie, war, western, release_year, ab, af, am, ar, as, ay, az, be, bg, bi, bm, bn, bo, br, bs, ca, ce, cn, co, cr, cs, cy, da, de, dz, el, en, eo, es, et, eu, fa, ff, fi, fo, fr, fy, ga, gd, gl, gn, gu, ha, he, hi, hr, ht, hu, hy, ig, is, it, iu, ja, jv, ka, ki, kk, km, kn, ko, ku, ...]\n",
       "Index: []\n",
       "\n",
       "[0 rows x 176 columns]"
      ]
     },
     "execution_count": 52,
     "metadata": {},
     "output_type": "execute_result"
    }
   ],
   "source": [
    "# There are no movies without a vote count value\n",
    "movies[movies.vote_count.isna()]"
   ]
  },
  {
   "cell_type": "code",
   "execution_count": 53,
   "metadata": {},
   "outputs": [
    {
     "name": "stdout",
     "output_type": "stream",
     "text": [
      "float64\n",
      "float64\n"
     ]
    }
   ],
   "source": [
    "# The vote fields are already in float form, so we won't need to convert to numeric\n",
    "print(movies.vote_average.dtypes)\n",
    "print(movies.vote_count.dtypes)"
   ]
  },
  {
   "cell_type": "code",
   "execution_count": 54,
   "metadata": {},
   "outputs": [],
   "source": [
    "# Convert the id field to integer format, to enable a join\n",
    "movies['id'] = pd.to_numeric(movies['id'])\n",
    "\n",
    "# Join the cleaned version of movies with the credits and keywords in a left join\n",
    "movies_temp = movies.merge(credits_keywords,on='id', how='left')\n",
    "\n",
    "# Drop the Unnamed:0 column\n",
    "movies_temp.drop('Unnamed: 0', axis=1, inplace=True)\n",
    "\n",
    "# Replace NaN with unknown\n",
    "movies_temp.fillna('unknown', inplace=True)\n",
    "\n",
    "# Set the index as the Imdb id column\n",
    "movies_temp = movies_temp.set_index('imdb_id')\n",
    "\n",
    "# Write this final cleaned dataset to a csv file\n",
    "movies_temp.to_csv('C:/Users/britt/Desktop/W207/final_project/data/movies_temp.csv')"
   ]
  }
 ],
 "metadata": {
  "kernelspec": {
   "display_name": "Python 3",
   "language": "python",
   "name": "python3"
  },
  "language_info": {
   "codemirror_mode": {
    "name": "ipython",
    "version": 3
   },
   "file_extension": ".py",
   "mimetype": "text/x-python",
   "name": "python",
   "nbconvert_exporter": "python",
   "pygments_lexer": "ipython3",
   "version": "3.8.10"
  }
 },
 "nbformat": 4,
 "nbformat_minor": 4
}
