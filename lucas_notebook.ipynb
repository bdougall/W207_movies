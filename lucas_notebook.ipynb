{
 "cells": [
  {
   "cell_type": "markdown",
   "id": "d1d03429",
   "metadata": {},
   "source": [
    "### Step 1: Import packages"
   ]
  },
  {
   "cell_type": "code",
   "execution_count": 1,
   "id": "9d769a8a-d908-4059-bf95-021cd009cb9f",
   "metadata": {},
   "outputs": [],
   "source": [
    "import pandas as pd\n",
    "import numpy as np\n",
    "import matplotlib.pyplot as plt\n",
    "from ast import literal_eval\n",
    "from sklearn.feature_extraction.text import *\n",
    "from sklearn.metrics.pairwise import linear_kernel\n",
    "from scipy.sparse import hstack\n",
    "np.random.seed(0)"
   ]
  },
  {
   "cell_type": "markdown",
   "id": "631f38c6",
   "metadata": {},
   "source": [
    "### Step 2: Define working directories"
   ]
  },
  {
   "cell_type": "code",
   "execution_count": 2,
   "id": "573735be-4342-46a2-8156-f2fc6e3bfccf",
   "metadata": {},
   "outputs": [],
   "source": [
    "path_raw_data = 'C:/users/lbros/documents/mids/w207/final_project/raw_data/' \n",
    "ratings_file = 'ratings.csv'\n",
    "movies_file = 'movies_metadata.csv'\n",
    "credits_file = 'credits.csv'\n",
    "keywords_file = 'keywords.csv'\n",
    "links_file = 'links.csv'"
   ]
  },
  {
   "cell_type": "markdown",
   "id": "421d56ba",
   "metadata": {},
   "source": [
    "### Step 3: Read data"
   ]
  },
  {
   "cell_type": "code",
   "execution_count": 3,
   "id": "016b692b",
   "metadata": {},
   "outputs": [],
   "source": [
    "# import the datasets\n",
    "ratings_df = pd.read_csv(path_raw_data + ratings_file)\n",
    "movies_df = pd.read_csv(path_raw_data + movies_file, low_memory=False)\n",
    "#credits_df = pd.read_csv(path_raw_data + credits_file)\n",
    "#keywords_df = pd.read_csv(path_raw_data + keywords_file)\n",
    "links_df = pd.read_csv(path_raw_data + links_file)"
   ]
  },
  {
   "cell_type": "markdown",
   "id": "93b91089",
   "metadata": {},
   "source": [
    "### Step 4: Explore the data"
   ]
  },
  {
   "cell_type": "markdown",
   "id": "488d8e15",
   "metadata": {},
   "source": [
    "### 4.1 Ratings Data"
   ]
  },
  {
   "cell_type": "markdown",
   "id": "a9269b62-e839-4aa6-a795-ebc800e0a45c",
   "metadata": {},
   "source": [
    "#### Overview"
   ]
  },
  {
   "cell_type": "markdown",
   "id": "110e8d21",
   "metadata": {},
   "source": [
    "The ratings data has **26,024,289** ratings from **270,896 users** for **45,115 movies**.\n",
    "\n",
    "Ratings data variables:\n",
    "- **userId:** user identification\n",
    "- **movieID:** movie identification\n",
    "- **rating:** movie rating in a scale from 0 to 5 in intervals of 0.5\n",
    "- **timestamp:** timestamp of the rating\n",
    "\n",
    "There is **no-missing values**."
   ]
  },
  {
   "cell_type": "code",
   "execution_count": 4,
   "id": "75ff06dc",
   "metadata": {},
   "outputs": [
    {
     "data": {
      "text/plain": [
       "(26024289, 4)"
      ]
     },
     "execution_count": 4,
     "metadata": {},
     "output_type": "execute_result"
    }
   ],
   "source": [
    "ratings_df.shape"
   ]
  },
  {
   "cell_type": "code",
   "execution_count": 5,
   "id": "68719e26",
   "metadata": {},
   "outputs": [
    {
     "data": {
      "text/plain": [
       "Index(['userId', 'movieId', 'rating', 'timestamp'], dtype='object')"
      ]
     },
     "execution_count": 5,
     "metadata": {},
     "output_type": "execute_result"
    }
   ],
   "source": [
    "ratings_df.columns"
   ]
  },
  {
   "cell_type": "code",
   "execution_count": 6,
   "id": "0560614a",
   "metadata": {},
   "outputs": [
    {
     "data": {
      "text/html": [
       "<div>\n",
       "<style scoped>\n",
       "    .dataframe tbody tr th:only-of-type {\n",
       "        vertical-align: middle;\n",
       "    }\n",
       "\n",
       "    .dataframe tbody tr th {\n",
       "        vertical-align: top;\n",
       "    }\n",
       "\n",
       "    .dataframe thead th {\n",
       "        text-align: right;\n",
       "    }\n",
       "</style>\n",
       "<table border=\"1\" class=\"dataframe\">\n",
       "  <thead>\n",
       "    <tr style=\"text-align: right;\">\n",
       "      <th></th>\n",
       "      <th>userId</th>\n",
       "      <th>movieId</th>\n",
       "      <th>rating</th>\n",
       "      <th>timestamp</th>\n",
       "    </tr>\n",
       "  </thead>\n",
       "  <tbody>\n",
       "    <tr>\n",
       "      <th>0</th>\n",
       "      <td>1</td>\n",
       "      <td>110</td>\n",
       "      <td>1.0</td>\n",
       "      <td>1425941529</td>\n",
       "    </tr>\n",
       "    <tr>\n",
       "      <th>1</th>\n",
       "      <td>1</td>\n",
       "      <td>147</td>\n",
       "      <td>4.5</td>\n",
       "      <td>1425942435</td>\n",
       "    </tr>\n",
       "    <tr>\n",
       "      <th>2</th>\n",
       "      <td>1</td>\n",
       "      <td>858</td>\n",
       "      <td>5.0</td>\n",
       "      <td>1425941523</td>\n",
       "    </tr>\n",
       "    <tr>\n",
       "      <th>3</th>\n",
       "      <td>1</td>\n",
       "      <td>1221</td>\n",
       "      <td>5.0</td>\n",
       "      <td>1425941546</td>\n",
       "    </tr>\n",
       "    <tr>\n",
       "      <th>4</th>\n",
       "      <td>1</td>\n",
       "      <td>1246</td>\n",
       "      <td>5.0</td>\n",
       "      <td>1425941556</td>\n",
       "    </tr>\n",
       "  </tbody>\n",
       "</table>\n",
       "</div>"
      ],
      "text/plain": [
       "   userId  movieId  rating   timestamp\n",
       "0       1      110     1.0  1425941529\n",
       "1       1      147     4.5  1425942435\n",
       "2       1      858     5.0  1425941523\n",
       "3       1     1221     5.0  1425941546\n",
       "4       1     1246     5.0  1425941556"
      ]
     },
     "execution_count": 6,
     "metadata": {},
     "output_type": "execute_result"
    }
   ],
   "source": [
    "ratings_df.head()"
   ]
  },
  {
   "cell_type": "code",
   "execution_count": 7,
   "id": "738d87f6",
   "metadata": {},
   "outputs": [
    {
     "data": {
      "text/plain": [
       "270896"
      ]
     },
     "execution_count": 7,
     "metadata": {},
     "output_type": "execute_result"
    }
   ],
   "source": [
    "num_users = ratings_df.userId.unique().shape[0]\n",
    "num_users"
   ]
  },
  {
   "cell_type": "code",
   "execution_count": 8,
   "id": "66167acd",
   "metadata": {},
   "outputs": [
    {
     "data": {
      "text/plain": [
       "45115"
      ]
     },
     "execution_count": 8,
     "metadata": {},
     "output_type": "execute_result"
    }
   ],
   "source": [
    "num_movies = ratings_df.movieId.unique().shape[0]\n",
    "num_movies"
   ]
  },
  {
   "cell_type": "code",
   "execution_count": 9,
   "id": "c9b7a6ca",
   "metadata": {},
   "outputs": [
    {
     "data": {
      "text/plain": [
       "userId       0\n",
       "movieId      0\n",
       "rating       0\n",
       "timestamp    0\n",
       "dtype: int64"
      ]
     },
     "execution_count": 9,
     "metadata": {},
     "output_type": "execute_result"
    }
   ],
   "source": [
    "pd.isnull(ratings_df).sum(axis=0)"
   ]
  },
  {
   "cell_type": "markdown",
   "id": "2a3c3e23",
   "metadata": {},
   "source": [
    "#### Distribution of Ratings per User"
   ]
  },
  {
   "cell_type": "markdown",
   "id": "5a18229c",
   "metadata": {},
   "source": [
    "Half of the users have 30 or lower ratings."
   ]
  },
  {
   "cell_type": "code",
   "execution_count": 10,
   "id": "6582c23b",
   "metadata": {},
   "outputs": [
    {
     "data": {
      "image/png": "[encoded data removed]",
      "text/plain": [
       "<Figure size 432x288 with 1 Axes>"
      ]
     },
     "metadata": {},
     "output_type": "display_data"
    }
   ],
   "source": [
    "ratings_per_user = ratings_df.groupby('userId').count().rating\n",
    "fig = plt.figure(figsize=(6, 4), facecolor='white')\n",
    "ax = plt.subplot(111)\n",
    "ax.spines['top'].set_visible(False)\n",
    "ax.spines['right'].set_visible(False)\n",
    "ax.spines['bottom'].set_color('#C4B6BC')\n",
    "ax.spines['left'].set_color('#C4B6BC')\n",
    "ax.tick_params(axis='x', colors='#75686D')\n",
    "ax.tick_params(axis='y', colors='#75686D')\n",
    "ax.hist(ratings_per_user, bins=40, range=(0, 400), color='#8FADEA')\n",
    "plt.text(x=415, y=-4000, s='*95% percentil', fontsize=8, color='#C4B6BC', ha='left')\n",
    "plt.title('Distribution of Ratings per User', pad=20, fontsize=15, x=0.24, color='#75686D')\n",
    "plt.ylabel('Number of users', fontsize=12, labelpad=10, color='#75686D')\n",
    "plt.yticks(np.arange(0, 60000, step=10000))\n",
    "plt.ylim((0, 50000))\n",
    "plt.xlabel('Ratings per user', fontsize=12, labelpad=10, color='#75686D')\n",
    "plt.xticks(np.arange(0, 450, step=50))\n",
    "plt.xlim(0, 400)\n",
    "plt.show()"
   ]
  },
  {
   "cell_type": "code",
   "execution_count": 11,
   "id": "aabd4ed5",
   "metadata": {},
   "outputs": [
    {
     "data": {
      "text/plain": [
       "count    270896.0\n",
       "mean         96.1\n",
       "std         205.7\n",
       "min           1.0\n",
       "10%           6.0\n",
       "20%          13.0\n",
       "30%          16.0\n",
       "40%          20.0\n",
       "50%          30.0\n",
       "60%          46.0\n",
       "70%          72.0\n",
       "80%         119.0\n",
       "90%         236.0\n",
       "max       18276.0\n",
       "Name: rating, dtype: float64"
      ]
     },
     "execution_count": 11,
     "metadata": {},
     "output_type": "execute_result"
    }
   ],
   "source": [
    "round(ratings_per_user.describe(percentiles=np.arange(0.1, 1.0, step=0.1)), 1)"
   ]
  },
  {
   "cell_type": "markdown",
   "id": "1e0f32b9",
   "metadata": {},
   "source": [
    "#### Distribution of Ratings per Movie"
   ]
  },
  {
   "cell_type": "markdown",
   "id": "e5f3a507",
   "metadata": {},
   "source": [
    "Half of the movies have 8 or lower ratings."
   ]
  },
  {
   "cell_type": "code",
   "execution_count": 12,
   "id": "7f26cc45",
   "metadata": {},
   "outputs": [
    {
     "data": {
      "image/png": "[encoded data removed]",
      "text/plain": [
       "<Figure size 432x288 with 1 Axes>"
      ]
     },
     "metadata": {},
     "output_type": "display_data"
    }
   ],
   "source": [
    "ratings_per_movie = ratings_df.groupby('movieId').count().rating\n",
    "fig = plt.figure(figsize=(6, 4), facecolor='white')\n",
    "ax = plt.subplot(111)\n",
    "ax.spines['top'].set_visible(False)\n",
    "ax.spines['right'].set_visible(False)\n",
    "ax.spines['bottom'].set_color('#C4B6BC')\n",
    "ax.spines['left'].set_color('#C4B6BC')\n",
    "ax.tick_params(axis='x', colors='#75686D')\n",
    "ax.tick_params(axis='y', colors='#75686D')\n",
    "ax.hist(ratings_per_movie, bins=28, range=(0,700), color='#8FADEA')\n",
    "plt.text(x=730, y=-2100, s='*95% percentil', fontsize=8, color='#C4B6BC', ha='left')\n",
    "plt.title('Distribution of Ratings per Movie', pad=20, fontsize=15, x=0.26, color='#75686D')\n",
    "plt.ylabel('Number of movies', fontsize=12, labelpad=10, color='#75686D')\n",
    "plt.yticks(np.arange(0, 40000, step=5000))\n",
    "plt.ylim((0, 30000))\n",
    "plt.xlabel('Ratings per movie', fontsize=12, labelpad=10, color='#75686D')\n",
    "plt.xticks(np.arange(0, 800, step=100))\n",
    "plt.xlim(0, 700)\n",
    "plt.show()"
   ]
  },
  {
   "cell_type": "code",
   "execution_count": 13,
   "id": "9edf6024",
   "metadata": {},
   "outputs": [
    {
     "data": {
      "text/plain": [
       "count    45115.0\n",
       "mean       576.8\n",
       "std       3037.4\n",
       "min          1.0\n",
       "10%          1.0\n",
       "20%          2.0\n",
       "30%          3.0\n",
       "40%          5.0\n",
       "50%          8.0\n",
       "60%         16.0\n",
       "70%         39.0\n",
       "80%        133.2\n",
       "90%        695.0\n",
       "max      91921.0\n",
       "Name: rating, dtype: float64"
      ]
     },
     "execution_count": 13,
     "metadata": {},
     "output_type": "execute_result"
    }
   ],
   "source": [
    "round(ratings_per_movie.describe(percentiles=np.arange(0.1, 1.0, step=0.1)), 1)"
   ]
  },
  {
   "cell_type": "markdown",
   "id": "651dbbba",
   "metadata": {},
   "source": [
    "#### Distribution of Ratings"
   ]
  },
  {
   "cell_type": "markdown",
   "id": "1000ae46",
   "metadata": {},
   "source": [
    "Half of ratings are 3.5 or above."
   ]
  },
  {
   "cell_type": "code",
   "execution_count": 14,
   "id": "ab150e0f",
   "metadata": {},
   "outputs": [
    {
     "data": {
      "image/png": "[encoded data removed]",
      "text/plain": [
       "<Figure size 432x288 with 1 Axes>"
      ]
     },
     "metadata": {},
     "output_type": "display_data"
    }
   ],
   "source": [
    "ratings = ratings_df.rating\n",
    "fig = plt.figure(figsize=(6, 4), facecolor='white')\n",
    "ax = plt.subplot(111)\n",
    "ax.spines['top'].set_visible(False)\n",
    "ax.spines['right'].set_visible(False)\n",
    "ax.spines['bottom'].set_color('#C4B6BC')\n",
    "ax.spines['left'].set_color('#C4B6BC')\n",
    "ax.tick_params(axis='x', colors='#75686D')\n",
    "ax.tick_params(axis='y', colors='#75686D')\n",
    "ax.hist(ratings, bins=10, color='#8FADEA')\n",
    "plt.title('Distribution of Ratings', pad=20, fontsize=15, x=0.21, color='#75686D')\n",
    "plt.ylabel('Number of ratings', fontsize=12, labelpad=10, color='#75686D')\n",
    "plt.xlabel('Rating', fontsize=12, labelpad=10, color='#75686D')\n",
    "plt.xticks(np.arange(0, 5.5, step=0.5))\n",
    "plt.xlim(0, 5)\n",
    "plt.show()"
   ]
  },
  {
   "cell_type": "code",
   "execution_count": 15,
   "id": "442e0dee",
   "metadata": {},
   "outputs": [
    {
     "data": {
      "text/plain": [
       "count    26024289.0\n",
       "mean            3.5\n",
       "std             1.1\n",
       "min             0.5\n",
       "10%             2.0\n",
       "20%             3.0\n",
       "30%             3.0\n",
       "40%             3.5\n",
       "50%             3.5\n",
       "60%             4.0\n",
       "70%             4.0\n",
       "80%             4.5\n",
       "90%             5.0\n",
       "max             5.0\n",
       "Name: rating, dtype: float64"
      ]
     },
     "execution_count": 15,
     "metadata": {},
     "output_type": "execute_result"
    }
   ],
   "source": [
    "round(ratings.describe(percentiles=np.arange(0.1, 1.0, step=0.1)), 1)"
   ]
  },
  {
   "cell_type": "markdown",
   "id": "6df54bb8",
   "metadata": {},
   "source": [
    "### 4.2 Movies Data"
   ]
  },
  {
   "cell_type": "markdown",
   "id": "6c24ed19-e96b-44ec-bf63-55998adaa1b9",
   "metadata": {},
   "source": [
    "#### Overview"
   ]
  },
  {
   "cell_type": "markdown",
   "id": "6bac8126",
   "metadata": {},
   "source": [
    "The movies data has metadata for **45,466** movies.\n",
    "\n",
    "Movies data variables:\n",
    "- **adult:** boolean to flag adult movies\n",
    "- **belongs_to_collection:** collections to which the movie belongs\n",
    "- **budget:** budget\n",
    "- **genres:** genres to which the movie belongs\n",
    "- **homepage:** movie homepage\n",
    "- **id:** movie id (key to link to ratings dataset)\n",
    "- **imdb_id:** imdb id\n",
    "- **original_language:** original language\n",
    "- **original_title:** original title\n",
    "- **overview:** plot summary\n",
    "- **popularity:** popularity rating\n",
    "- **poster_path:** path to movie poster\n",
    "- **production_companies:** production companies\n",
    "- **production_countries:** production countries\n",
    "- **release_date:** release date\n",
    "- **revenue:** revenue\n",
    "- **runtime:** runtime\n",
    "- **spoken_languages:** spoken languages\n",
    "- **status:** [Released, Rumored, Post Production, In Production, Planned, Canceled]\n",
    "- **tagline:** tagline\n",
    "- **title:** title\n",
    "- **video:** boolean to flag video\n",
    "- **vote_average:** average rating\n",
    "- **vote_count:** number of ratings\n",
    "\n",
    "**Missing values** specially on belongs_to_collection, homepage, poster_path and runtime. Number is greater than shown below due to empty lists within some fields."
   ]
  },
  {
   "cell_type": "code",
   "execution_count": 16,
   "id": "8fcf35b0",
   "metadata": {},
   "outputs": [
    {
     "data": {
      "text/plain": [
       "(45466, 24)"
      ]
     },
     "execution_count": 16,
     "metadata": {},
     "output_type": "execute_result"
    }
   ],
   "source": [
    "# 45K movies\n",
    "movies_df.shape"
   ]
  },
  {
   "cell_type": "code",
   "execution_count": 17,
   "id": "efbbb0cc",
   "metadata": {},
   "outputs": [
    {
     "data": {
      "text/plain": [
       "Index(['adult', 'belongs_to_collection', 'budget', 'genres', 'homepage', 'id',\n",
       "       'imdb_id', 'original_language', 'original_title', 'overview',\n",
       "       'popularity', 'poster_path', 'production_companies',\n",
       "       'production_countries', 'release_date', 'revenue', 'runtime',\n",
       "       'spoken_languages', 'status', 'tagline', 'title', 'video',\n",
       "       'vote_average', 'vote_count'],\n",
       "      dtype='object')"
      ]
     },
     "execution_count": 17,
     "metadata": {},
     "output_type": "execute_result"
    }
   ],
   "source": [
    "# 24 features\n",
    "movies_df.columns"
   ]
  },
  {
   "cell_type": "code",
   "execution_count": 18,
   "id": "9f8ad51a",
   "metadata": {},
   "outputs": [
    {
     "data": {
      "text/html": [
       "<div>\n",
       "<style scoped>\n",
       "    .dataframe tbody tr th:only-of-type {\n",
       "        vertical-align: middle;\n",
       "    }\n",
       "\n",
       "    .dataframe tbody tr th {\n",
       "        vertical-align: top;\n",
       "    }\n",
       "\n",
       "    .dataframe thead th {\n",
       "        text-align: right;\n",
       "    }\n",
       "</style>\n",
       "<table border=\"1\" class=\"dataframe\">\n",
       "  <thead>\n",
       "    <tr style=\"text-align: right;\">\n",
       "      <th></th>\n",
       "      <th>adult</th>\n",
       "      <th>belongs_to_collection</th>\n",
       "      <th>budget</th>\n",
       "      <th>genres</th>\n",
       "      <th>homepage</th>\n",
       "      <th>id</th>\n",
       "      <th>imdb_id</th>\n",
       "      <th>original_language</th>\n",
       "      <th>original_title</th>\n",
       "      <th>overview</th>\n",
       "      <th>...</th>\n",
       "      <th>release_date</th>\n",
       "      <th>revenue</th>\n",
       "      <th>runtime</th>\n",
       "      <th>spoken_languages</th>\n",
       "      <th>status</th>\n",
       "      <th>tagline</th>\n",
       "      <th>title</th>\n",
       "      <th>video</th>\n",
       "      <th>vote_average</th>\n",
       "      <th>vote_count</th>\n",
       "    </tr>\n",
       "  </thead>\n",
       "  <tbody>\n",
       "    <tr>\n",
       "      <th>0</th>\n",
       "      <td>False</td>\n",
       "      <td>{'id': 10194, 'name': 'Toy Story Collection', ...</td>\n",
       "      <td>30000000</td>\n",
       "      <td>[{'id': 16, 'name': 'Animation'}, {'id': 35, '...</td>\n",
       "      <td>http://toystory.disney.com/toy-story</td>\n",
       "      <td>862</td>\n",
       "      <td>tt0114709</td>\n",
       "      <td>en</td>\n",
       "      <td>Toy Story</td>\n",
       "      <td>Led by Woody, Andy's toys live happily in his ...</td>\n",
       "      <td>...</td>\n",
       "      <td>1995-10-30</td>\n",
       "      <td>373554033.0</td>\n",
       "      <td>81.0</td>\n",
       "      <td>[{'iso_639_1': 'en', 'name': 'English'}]</td>\n",
       "      <td>Released</td>\n",
       "      <td>NaN</td>\n",
       "      <td>Toy Story</td>\n",
       "      <td>False</td>\n",
       "      <td>7.7</td>\n",
       "      <td>5415.0</td>\n",
       "    </tr>\n",
       "    <tr>\n",
       "      <th>1</th>\n",
       "      <td>False</td>\n",
       "      <td>NaN</td>\n",
       "      <td>65000000</td>\n",
       "      <td>[{'id': 12, 'name': 'Adventure'}, {'id': 14, '...</td>\n",
       "      <td>NaN</td>\n",
       "      <td>8844</td>\n",
       "      <td>tt0113497</td>\n",
       "      <td>en</td>\n",
       "      <td>Jumanji</td>\n",
       "      <td>When siblings Judy and Peter discover an encha...</td>\n",
       "      <td>...</td>\n",
       "      <td>1995-12-15</td>\n",
       "      <td>262797249.0</td>\n",
       "      <td>104.0</td>\n",
       "      <td>[{'iso_639_1': 'en', 'name': 'English'}, {'iso...</td>\n",
       "      <td>Released</td>\n",
       "      <td>Roll the dice and unleash the excitement!</td>\n",
       "      <td>Jumanji</td>\n",
       "      <td>False</td>\n",
       "      <td>6.9</td>\n",
       "      <td>2413.0</td>\n",
       "    </tr>\n",
       "  </tbody>\n",
       "</table>\n",
       "<p>2 rows × 24 columns</p>\n",
       "</div>"
      ],
      "text/plain": [
       "   adult                              belongs_to_collection    budget  \\\n",
       "0  False  {'id': 10194, 'name': 'Toy Story Collection', ...  30000000   \n",
       "1  False                                                NaN  65000000   \n",
       "\n",
       "                                              genres  \\\n",
       "0  [{'id': 16, 'name': 'Animation'}, {'id': 35, '...   \n",
       "1  [{'id': 12, 'name': 'Adventure'}, {'id': 14, '...   \n",
       "\n",
       "                               homepage    id    imdb_id original_language  \\\n",
       "0  http://toystory.disney.com/toy-story   862  tt0114709                en   \n",
       "1                                   NaN  8844  tt0113497                en   \n",
       "\n",
       "  original_title                                           overview  ...  \\\n",
       "0      Toy Story  Led by Woody, Andy's toys live happily in his ...  ...   \n",
       "1        Jumanji  When siblings Judy and Peter discover an encha...  ...   \n",
       "\n",
       "  release_date      revenue runtime  \\\n",
       "0   1995-10-30  373554033.0    81.0   \n",
       "1   1995-12-15  262797249.0   104.0   \n",
       "\n",
       "                                    spoken_languages    status  \\\n",
       "0           [{'iso_639_1': 'en', 'name': 'English'}]  Released   \n",
       "1  [{'iso_639_1': 'en', 'name': 'English'}, {'iso...  Released   \n",
       "\n",
       "                                     tagline      title  video vote_average  \\\n",
       "0                                        NaN  Toy Story  False          7.7   \n",
       "1  Roll the dice and unleash the excitement!    Jumanji  False          6.9   \n",
       "\n",
       "  vote_count  \n",
       "0     5415.0  \n",
       "1     2413.0  \n",
       "\n",
       "[2 rows x 24 columns]"
      ]
     },
     "execution_count": 18,
     "metadata": {},
     "output_type": "execute_result"
    }
   ],
   "source": [
    "# Inspect the movies columns\n",
    "# Belongs to collection, genres contains dictionaries\n",
    "# Genres and spoken languages contain lists of dictionaries, each with a name field that will need to be extracted\n",
    "movies_df.head(2)"
   ]
  },
  {
   "cell_type": "code",
   "execution_count": 19,
   "id": "0a853e5d",
   "metadata": {},
   "outputs": [
    {
     "data": {
      "text/plain": [
       "adult                     object\n",
       "belongs_to_collection     object\n",
       "budget                    object\n",
       "genres                    object\n",
       "homepage                  object\n",
       "id                        object\n",
       "imdb_id                   object\n",
       "original_language         object\n",
       "original_title            object\n",
       "overview                  object\n",
       "popularity                object\n",
       "poster_path               object\n",
       "production_companies      object\n",
       "production_countries      object\n",
       "release_date              object\n",
       "revenue                  float64\n",
       "runtime                  float64\n",
       "spoken_languages          object\n",
       "status                    object\n",
       "tagline                   object\n",
       "title                     object\n",
       "video                     object\n",
       "vote_average             float64\n",
       "vote_count               float64\n",
       "dtype: object"
      ]
     },
     "execution_count": 19,
     "metadata": {},
     "output_type": "execute_result"
    }
   ],
   "source": [
    "# Some fields have unexpected object types\n",
    "movies_df.dtypes"
   ]
  },
  {
   "cell_type": "code",
   "execution_count": 20,
   "id": "347e12d5",
   "metadata": {},
   "outputs": [
    {
     "data": {
      "text/plain": [
       "adult                        0\n",
       "belongs_to_collection    40972\n",
       "budget                       0\n",
       "genres                       0\n",
       "homepage                 37684\n",
       "id                           0\n",
       "imdb_id                     17\n",
       "original_language           11\n",
       "original_title               0\n",
       "overview                   954\n",
       "popularity                   5\n",
       "poster_path                386\n",
       "production_companies         3\n",
       "production_countries         3\n",
       "release_date                87\n",
       "revenue                      6\n",
       "runtime                    263\n",
       "spoken_languages             6\n",
       "status                      87\n",
       "tagline                  25054\n",
       "title                        6\n",
       "video                        6\n",
       "vote_average                 6\n",
       "vote_count                   6\n",
       "dtype: int64"
      ]
     },
     "execution_count": 20,
     "metadata": {},
     "output_type": "execute_result"
    }
   ],
   "source": [
    "# Some columns contain missing values that will need to be addressed\n",
    "# The number is greater than shown, due to empty lists within some fields\n",
    "movies_df.isnull().sum()"
   ]
  },
  {
   "cell_type": "markdown",
   "id": "94cc7b0d",
   "metadata": {},
   "source": [
    "### Step 5: Data preprocessing"
   ]
  },
  {
   "cell_type": "markdown",
   "id": "1dc3cdad-a744-46dc-a0fe-6af20134c784",
   "metadata": {},
   "source": [
    "### 5.1 Movies Data"
   ]
  },
  {
   "cell_type": "markdown",
   "id": "1eccab4a-0c26-493b-9fa2-74190c9a8d8e",
   "metadata": {},
   "source": [
    "#### Filter columns"
   ]
  },
  {
   "cell_type": "code",
   "execution_count": 21,
   "id": "45ee613e-4311-461a-9069-81835352468a",
   "metadata": {},
   "outputs": [
    {
     "name": "stdout",
     "output_type": "stream",
     "text": [
      "(45466, 9)\n"
     ]
    }
   ],
   "source": [
    "# columns to filter\n",
    "selected_columns = ['imdb_id', 'belongs_to_collection', 'genres', 'original_language', 'production_countries', 'popularity', 'release_date', 'runtime', 'overview']\n",
    "# copy selected columns to new DataFrame\n",
    "new_df = movies_df[selected_columns].copy(deep=True)\n",
    "# print df shape\n",
    "print(new_df.shape)"
   ]
  },
  {
   "cell_type": "markdown",
   "id": "02eedb44-16b7-4867-9cda-5ebf1b9cfcee",
   "metadata": {},
   "source": [
    "#### Define imdb_1 as index"
   ]
  },
  {
   "cell_type": "code",
   "execution_count": 22,
   "id": "2ac1f4df-58d9-4212-b9eb-143c70ce5467",
   "metadata": {},
   "outputs": [
    {
     "name": "stdout",
     "output_type": "stream",
     "text": [
      "(44765, 8)\n"
     ]
    }
   ],
   "source": [
    "# get rid of NaN and ZERO values\n",
    "new_df.drop(new_df[new_df['imdb_id'].isna()].index, axis=0, inplace=True)\n",
    "new_df.drop(new_df[new_df['imdb_id']=='0'].index, axis=0, inplace=True)\n",
    "# convert to format compatible with link data\n",
    "new_df['imdb_id'] = new_df['imdb_id'].apply(lambda x: x[3:]).astype('int64')\n",
    "# deduplicate 'imdb_id'\n",
    "new_df.drop_duplicates(subset='imdb_id', keep='first', inplace=True)\n",
    "# set 'imdb_id' as index\n",
    "new_df.set_index('imdb_id', inplace=True)\n",
    "# print df shape\n",
    "print(new_df.shape)"
   ]
  },
  {
   "cell_type": "markdown",
   "id": "863fe505-5ef0-4c03-ae13-a5fd4868f7fa",
   "metadata": {},
   "source": [
    "#### Belongs_to_collection"
   ]
  },
  {
   "cell_type": "markdown",
   "id": "833face2-dcbb-4f9b-b89c-4a92022f5717",
   "metadata": {},
   "source": [
    "Converts belongs_to_collection into boolean (yes|no)"
   ]
  },
  {
   "cell_type": "code",
   "execution_count": 23,
   "id": "fd064853-1bc9-4269-a6e5-5ce76645519a",
   "metadata": {},
   "outputs": [
    {
     "name": "stdout",
     "output_type": "stream",
     "text": [
      "(44765, 8)\n",
      "nan_count: 0\n"
     ]
    }
   ],
   "source": [
    "# replace Nan values with empty stringified\n",
    "to_replace_nan = \"{'id': '', 'name': '', 'poster_path': '', 'backdrop_path': ''}\" \n",
    "new_df['belongs_to_collection'] = new_df['belongs_to_collection'].fillna(to_replace_nan)\n",
    "# convert stringified into python objects\n",
    "new_df['belongs_to_collection'] = new_df['belongs_to_collection'].apply(literal_eval)\n",
    "# replace unexpected float values with empty dict\n",
    "to_replace_float = {'id': '', 'name': '', 'poster_path': '', 'backdrop_path': ''}\n",
    "new_df['belongs_to_collection'] = new_df['belongs_to_collection'].apply(lambda x: to_replace_float if type(x)==float else x)\n",
    "# convert 'belongs_to_collection' into boolean\n",
    "new_df['belongs_to_collection'] = new_df['belongs_to_collection'].apply(lambda x: 0 if x.get('id')=='' else 1)\n",
    "# print df shape\n",
    "print(new_df.shape)\n",
    "# print count of Nan values\n",
    "print('nan_count:', new_df['belongs_to_collection'].isna().sum())"
   ]
  },
  {
   "cell_type": "markdown",
   "id": "0cb1a0f3-c6d4-492d-87a3-7a7e17796ff6",
   "metadata": {},
   "source": [
    "#### Genres"
   ]
  },
  {
   "cell_type": "markdown",
   "id": "9aecd74d-25fe-412b-8da5-31a284fdd6ca",
   "metadata": {},
   "source": [
    "Hot encode genre names"
   ]
  },
  {
   "cell_type": "code",
   "execution_count": 24,
   "id": "6576e6ce-eb66-40e6-9d3f-b6b7744ef4f4",
   "metadata": {},
   "outputs": [
    {
     "name": "stdout",
     "output_type": "stream",
     "text": [
      "(44765, 28)\n",
      "nan_count: belongs_to_collection      0\n",
      "original_language         10\n",
      "production_countries       3\n",
      "popularity                 3\n",
      "release_date              82\n",
      "runtime                  247\n",
      "overview                 919\n",
      "genre_Action               0\n",
      "genre_Adventure            0\n",
      "genre_Animation            0\n",
      "genre_Comedy               0\n",
      "genre_Crime                0\n",
      "genre_Documentary          0\n",
      "genre_Drama                0\n",
      "genre_Family               0\n",
      "genre_Fantasy              0\n",
      "genre_Foreign              0\n",
      "genre_History              0\n",
      "genre_Horror               0\n",
      "genre_Music                0\n",
      "genre_Mystery              0\n",
      "genre_Romance              0\n",
      "genre_Science Fiction      0\n",
      "genre_TV Movie             0\n",
      "genre_Thriller             0\n",
      "genre_Unknown              0\n",
      "genre_War                  0\n",
      "genre_Western              0\n",
      "dtype: int64\n"
     ]
    }
   ],
   "source": [
    "# convert stringified into python objects\n",
    "new_df['genres'] = new_df['genres'].apply(literal_eval)\n",
    "# replace empty lists with 'unknown' genre\n",
    "to_replace = [{'id': '', 'name': 'Unknown'}]\n",
    "new_df['genres'] = new_df['genres'].apply(lambda x: to_replace if len(x)==0 else x)\n",
    "# extract list of genre names per movie\n",
    "new_df['genres'] = new_df['genres'].apply(lambda x: [i.get('name') for i in x])\n",
    "# hot encode one column per genre name, drop empty genre column\n",
    "temp_df = pd.get_dummies(new_df['genres'].apply(pd.Series).stack(), prefix='genre', prefix_sep='_').sum(level=0)\n",
    "# join with new_df, drop temp column\n",
    "new_df = new_df.join(temp_df).drop('genres', axis=1)\n",
    "# print df shape\n",
    "print(new_df.shape)\n",
    "# print count of Nan values\n",
    "print('nan_count:', new_df.isna().sum())"
   ]
  },
  {
   "cell_type": "markdown",
   "id": "f6b19dd7-17dd-4bb9-970d-acffc78f9f5d",
   "metadata": {},
   "source": [
    "#### Original_language"
   ]
  },
  {
   "cell_type": "markdown",
   "id": "40c40f64-2e89-4d4f-b282-d5ee887e6cab",
   "metadata": {},
   "source": [
    "Converts original_language into boolean (1 for 'english' | 0 for 'other languages')"
   ]
  },
  {
   "cell_type": "code",
   "execution_count": 25,
   "id": "52ed53d4-dd5c-439d-984f-7198cd0eb477",
   "metadata": {},
   "outputs": [
    {
     "name": "stdout",
     "output_type": "stream",
     "text": [
      "(44765, 28)\n",
      "nan_count: 0\n"
     ]
    }
   ],
   "source": [
    "# apply boolean transformation (1 for 'english' | 0 for 'non-english')\n",
    "new_df['original_language'] = new_df['original_language'].apply(lambda x: 1 if x=='en' else 0)\n",
    "# print df shape\n",
    "print(new_df.shape)\n",
    "# print count of Nan values\n",
    "print('nan_count:', new_df['original_language'].isna().sum())"
   ]
  },
  {
   "cell_type": "markdown",
   "id": "a83d5200-402a-488b-8d85-be1d10b33d2c",
   "metadata": {},
   "source": [
    "#### Production_countries"
   ]
  },
  {
   "cell_type": "markdown",
   "id": "d7c919c2-1e3c-427e-b3bc-a2a458146bea",
   "metadata": {},
   "source": [
    "Converts production_countries into boolean (1 for 'US' | 0 for 'other countries')"
   ]
  },
  {
   "cell_type": "code",
   "execution_count": 26,
   "id": "d7e5f09d-df25-4448-a461-4e2d5b47bb08",
   "metadata": {},
   "outputs": [
    {
     "name": "stdout",
     "output_type": "stream",
     "text": [
      "(44765, 28)\n",
      "nan_count: 0\n"
     ]
    }
   ],
   "source": [
    "# replace Nan values with empty stringified\n",
    "to_replace_nan = \"[{'iso_3166_1': '', 'name': ''}]\" \n",
    "new_df['production_countries'] = new_df['production_countries'].fillna(to_replace_nan)\n",
    "# convert stringified into python objects\n",
    "new_df['production_countries'] = new_df['production_countries'].apply(literal_eval)\n",
    "# replace unexpected float values or empty lists with list of empty dict\n",
    "to_replace = [{'iso_3166_1': '', 'name': ''}]\n",
    "new_df['production_countries'] = new_df['production_countries'].apply(lambda x: to_replace if type(x)==float else x)\n",
    "new_df['production_countries'] = new_df['production_countries'].apply(lambda x: to_replace if len(x)==0 else x)\n",
    "# extract list of production countries per movie\n",
    "new_df['production_countries'] = new_df['production_countries'].apply(lambda x: [i.get('iso_3166_1') for i in x])\n",
    "# apply boolean transformation (1 for 'US' | 0 for 'International')\n",
    "new_df['production_countries'] = new_df['production_countries'].apply(lambda x: 1 if 'US' in x else 0)\n",
    "# print df shape\n",
    "print(new_df.shape)\n",
    "# print count of Nan values\n",
    "print('nan_count:', new_df['production_countries'].isna().sum())"
   ]
  },
  {
   "cell_type": "markdown",
   "id": "cd3b1502-03d0-4e73-9e93-bd4edde0dbfb",
   "metadata": {},
   "source": [
    "#### Popularity"
   ]
  },
  {
   "cell_type": "markdown",
   "id": "a98c2117-51f9-4c90-8f8a-aba5753b2218",
   "metadata": {},
   "source": [
    "Converts popularity into boolean (1 for equal or above median | 0 otherwise)"
   ]
  },
  {
   "cell_type": "code",
   "execution_count": 27,
   "id": "e2d19347-9c64-4ed1-8a9d-34215ac9b3e9",
   "metadata": {},
   "outputs": [
    {
     "name": "stdout",
     "output_type": "stream",
     "text": [
      "(44765, 28)\n",
      "nan_count: 0\n"
     ]
    }
   ],
   "source": [
    "# replace Nan values with zeros\n",
    "new_df['popularity'] = new_df['popularity'].fillna('0.0')\n",
    "# replace unexpected string with zero\n",
    "new_df['popularity'] = new_df['popularity'].apply(lambda x: '0.0' if x=='Beware Of Frost Bites' else x)\n",
    "# cast field to float\n",
    "new_df['popularity'] = new_df['popularity'].astype(float)\n",
    "# apply boolean transformation (1 for popularity equal or above median | 0 for below median)\n",
    "new_df['popularity'] = new_df['popularity'].apply(lambda x: 1 if x >= new_df['popularity'].median() else 0)\n",
    "# print df shape\n",
    "print(new_df.shape)\n",
    "# print count of Nan values\n",
    "print('nan_count:', new_df['popularity'].isna().sum())"
   ]
  },
  {
   "cell_type": "markdown",
   "id": "bf2e6d6e-4b55-4e85-97f5-c91cf8552d44",
   "metadata": {},
   "source": [
    "#### Release_date"
   ]
  },
  {
   "cell_type": "markdown",
   "id": "fa2296dd-2e59-4bc6-b4da-8ddca8080a88",
   "metadata": {},
   "source": [
    "Hot encode release_date by decade"
   ]
  },
  {
   "cell_type": "code",
   "execution_count": 28,
   "id": "3ad1bd2a-b8bc-4aac-bb97-7bcf711ab9b8",
   "metadata": {},
   "outputs": [
    {
     "name": "stdout",
     "output_type": "stream",
     "text": [
      "(44765, 42)\n",
      "nan_count: belongs_to_collection      0\n",
      "original_language          0\n",
      "production_countries       0\n",
      "popularity                 0\n",
      "runtime                  247\n",
      "overview                 919\n",
      "genre_Action               0\n",
      "genre_Adventure            0\n",
      "genre_Animation            0\n",
      "genre_Comedy               0\n",
      "genre_Crime                0\n",
      "genre_Documentary          0\n",
      "genre_Drama                0\n",
      "genre_Family               0\n",
      "genre_Fantasy              0\n",
      "genre_Foreign              0\n",
      "genre_History              0\n",
      "genre_Horror               0\n",
      "genre_Music                0\n",
      "genre_Mystery              0\n",
      "genre_Romance              0\n",
      "genre_Science Fiction      0\n",
      "genre_TV Movie             0\n",
      "genre_Thriller             0\n",
      "genre_Unknown              0\n",
      "genre_War                  0\n",
      "genre_Western              0\n",
      "release(1870, 1880]        0\n",
      "release(1880, 1890]        0\n",
      "release(1890, 1900]        0\n",
      "release(1900, 1910]        0\n",
      "release(1910, 1920]        0\n",
      "release(1920, 1930]        0\n",
      "release(1930, 1940]        0\n",
      "release(1940, 1950]        0\n",
      "release(1950, 1960]        0\n",
      "release(1960, 1970]        0\n",
      "release(1970, 1980]        0\n",
      "release(1980, 1990]        0\n",
      "release(1990, 2000]        0\n",
      "release(2000, 2010]        0\n",
      "release(2010, 2020]        0\n",
      "dtype: int64\n"
     ]
    }
   ],
   "source": [
    "# replace Nan values with string of zeros\n",
    "new_df['release_date'] = new_df['release_date'].fillna('0000-00-00')\n",
    "# capture the release year from string and cast as integer\n",
    "new_df['release_date'] = new_df['release_date'].apply(lambda x: x[:4]).astype(int)\n",
    "# convert strange values to zero\n",
    "new_df['release_date'] = new_df['release_date'].apply(lambda x: 0 if x < 1800 else x)\n",
    "# group release years by decade\n",
    "bins = pd.IntervalIndex.from_tuples([(0, 1870)] + [(year, year + 10) for year in range(1870, 2020, 10)])\n",
    "new_df['release_date'] = pd.cut(new_df['release_date'], bins)\n",
    "# hot encode one column per release decade\n",
    "temp_df = pd.get_dummies(new_df['release_date'], prefix='release', prefix_sep='').drop('release(0, 1870]', axis=1)\n",
    "# join with new_df, drop original column\n",
    "new_df = new_df.join(temp_df).drop('release_date', axis=1)\n",
    "# print df shape\n",
    "print(new_df.shape)\n",
    "# print count of Nan values\n",
    "print('nan_count:', new_df.isna().sum())"
   ]
  },
  {
   "cell_type": "markdown",
   "id": "0f08786f-d3d1-4fb3-aa4d-d130d36589c5",
   "metadata": {},
   "source": [
    "#### Runtime"
   ]
  },
  {
   "cell_type": "markdown",
   "id": "7dd92a09-b4d2-40bb-9a5d-75450cffb9f9",
   "metadata": {},
   "source": [
    "Converts runtime into boolean (1 for equal or above median | 0 otherwise)"
   ]
  },
  {
   "cell_type": "code",
   "execution_count": 29,
   "id": "1cfed52b-a614-424e-ab5c-962f536182c6",
   "metadata": {
    "tags": []
   },
   "outputs": [
    {
     "name": "stdout",
     "output_type": "stream",
     "text": [
      "(44765, 42)\n",
      "nan_count: 0\n"
     ]
    }
   ],
   "source": [
    "# replace Nan values with zeros\n",
    "new_df['runtime'] = new_df['runtime'].fillna(0)\n",
    "# apply boolean transformation (1 for runtime equal or above median | 0 for below median)\n",
    "new_df['runtime'] = new_df['runtime'].apply(lambda x: 1 if x >= new_df['runtime'].median() else 0)\n",
    "# print df shape\n",
    "print(new_df.shape)\n",
    "# print count of Nan values\n",
    "print('nan_count:', new_df['runtime'].isna().sum())"
   ]
  },
  {
   "cell_type": "markdown",
   "id": "93b1b6c7-a088-4980-9926-8fb27eca6ab1",
   "metadata": {},
   "source": [
    "#### Overview"
   ]
  },
  {
   "cell_type": "markdown",
   "id": "a34f9160-f408-4fa6-ba6f-89c0481445f0",
   "metadata": {},
   "source": [
    "Vectorize overview text using TfidVectorizer with binary output"
   ]
  },
  {
   "cell_type": "code",
   "execution_count": 30,
   "id": "63be21e6-2995-47b2-b3c4-df0bc90dcfaa",
   "metadata": {},
   "outputs": [
    {
     "name": "stdout",
     "output_type": "stream",
     "text": [
      "(44765, 41)\n"
     ]
    }
   ],
   "source": [
    "# replace Nan values in overview with empty string\n",
    "new_df['overview'] = new_df['overview'].fillna('')\n",
    "# convert new_df to numpy array\n",
    "a = np.array(new_df)\n",
    "# save 'imdb_id' as index\n",
    "index = np.array(new_df.index, dtype='int64')\n",
    "# vectorize strings using TfidVectorizer with binary output\n",
    "#vectorizer = TfidfVectorizer(strip_accents='ascii', lowercase=True, binary=True, max_features=500)\n",
    "#b = vectorizer.fit_transform(a[:,5]).astype('uint8')\n",
    "# delete overview field\n",
    "a = np.delete(a, 5, axis=1)\n",
    "# cast a as 'uint8' to save memory space\n",
    "a = a.astype('uint8')\n",
    "# hstack array with overview data\n",
    "movies = a#hstack([a, b]).toarray()\n",
    "# print movies shape\n",
    "print(movies.shape)"
   ]
  },
  {
   "cell_type": "markdown",
   "id": "e64ac744",
   "metadata": {},
   "source": [
    "### 5.1 Ratings Data"
   ]
  },
  {
   "cell_type": "markdown",
   "id": "65d3bfb3-8052-4b0a-857d-55dfa4a6f926",
   "metadata": {},
   "source": [
    "#### Convert movieId to imdbId using links_df"
   ]
  },
  {
   "cell_type": "code",
   "execution_count": 31,
   "id": "b2a92897-0d24-4411-98d5-b79d1e93d79c",
   "metadata": {},
   "outputs": [
    {
     "name": "stdout",
     "output_type": "stream",
     "text": [
      "(26024289, 4)\n"
     ]
    }
   ],
   "source": [
    "# dropping 'tmdbId' from links_df\n",
    "links_df.drop('tmdbId', axis=1, inplace=True)\n",
    "# set movieId as index on links_df\n",
    "links_df.set_index('movieId', inplace=True)\n",
    "# set userId and movieId as indexes on ratings_df\n",
    "ratings_df.set_index(['userId', 'movieId'], inplace=True)\n",
    "# insert imdbId column on ratings_df joining with links_df on movieId index\n",
    "ratings_df = ratings_df.join(links_df, on='movieId', how='left').reset_index()\n",
    "# drop moviedId columns\n",
    "ratings_df.drop(['movieId'], axis=1, inplace=True)\n",
    "# print ratings_df shape\n",
    "print(ratings_df.shape)"
   ]
  },
  {
   "cell_type": "markdown",
   "id": "885f171b-de1f-47ca-bc32-09f60f307c3a",
   "metadata": {},
   "source": [
    "#### Drop ratings where movie not in cleaned movie dataset"
   ]
  },
  {
   "cell_type": "code",
   "execution_count": 32,
   "id": "7684f3af-6a3e-412f-b9ae-1e26cca23e09",
   "metadata": {},
   "outputs": [
    {
     "name": "stdout",
     "output_type": "stream",
     "text": [
      "(23957481, 4)\n"
     ]
    }
   ],
   "source": [
    "ratings_df = ratings_df[np.isin(ratings_df['imdbId'], index)]\n",
    "# print ratings_df shape\n",
    "print(ratings_df.shape)"
   ]
  },
  {
   "cell_type": "markdown",
   "id": "47a9a366-5072-46d2-8bc9-c14134d233e7",
   "metadata": {},
   "source": [
    "#### Filter users with a minimum number of ratings"
   ]
  },
  {
   "cell_type": "markdown",
   "id": "984d9ea6-c5b3-4130-9937-9e437ad981cc",
   "metadata": {},
   "source": [
    "Defining **filter_users** function"
   ]
  },
  {
   "cell_type": "code",
   "execution_count": 33,
   "id": "6e7dae2f-8d57-4c65-8715-ad9f1b29df40",
   "metadata": {},
   "outputs": [],
   "source": [
    "def filter_users(ratings_df, min_ratings=30):\n",
    "    \n",
    "    '''Filter users with num_ratings equal or above [min_ratings]\n",
    "    params: ratings_df, min_rating\n",
    "    return: filtered_ratings_df\n",
    "    '''\n",
    "    \n",
    "    # filter userIDs with count of ratings equal or above min_ratings\n",
    "    filtered_ratings_df = ratings_df.groupby('userId', sort=False).filter(lambda x: len(x) >= min_ratings)\n",
    "    \n",
    "    return filtered_ratings_df"
   ]
  },
  {
   "cell_type": "markdown",
   "id": "7f5c931a-b76c-4e73-9584-16117b95839e",
   "metadata": {},
   "source": [
    "We filtered users with **less than 30 ratings** resulting in a filtered dataset with **131,880 users** (out of 270,896) and **29,233 movies** (out of 45,115)."
   ]
  },
  {
   "cell_type": "code",
   "execution_count": 34,
   "id": "cce1559b-6bb1-4c4e-bbd5-f74137896260",
   "metadata": {},
   "outputs": [
    {
     "data": {
      "text/plain": [
       "131880"
      ]
     },
     "execution_count": 34,
     "metadata": {},
     "output_type": "execute_result"
    }
   ],
   "source": [
    "filtered_ratings_df = filter_users(ratings_df, min_ratings=30)\n",
    "num_users = filtered_ratings_df.userId.unique().shape[0]\n",
    "num_users"
   ]
  },
  {
   "cell_type": "code",
   "execution_count": 35,
   "id": "f1623734-1217-4b28-a9fb-a636fb6f46f6",
   "metadata": {},
   "outputs": [
    {
     "data": {
      "text/plain": [
       "29233"
      ]
     },
     "execution_count": 35,
     "metadata": {},
     "output_type": "execute_result"
    }
   ],
   "source": [
    "num_movies = filtered_ratings_df.imdbId.unique().shape[0]\n",
    "num_movies"
   ]
  },
  {
   "cell_type": "markdown",
   "id": "46055660-5bc4-4864-9f22-dd81031d75ec",
   "metadata": {},
   "source": [
    "#### Binarize ratings"
   ]
  },
  {
   "cell_type": "markdown",
   "id": "1cc2371a-80df-4be8-8d1a-33b81a4a7c5a",
   "metadata": {},
   "source": [
    "Defining **binarize_ratings** function"
   ]
  },
  {
   "cell_type": "code",
   "execution_count": 36,
   "id": "b73ec82b-13ab-45a0-8dc8-19390593c8e9",
   "metadata": {},
   "outputs": [],
   "source": [
    "def binarize_ratings(ratings_df, threshold=4):\n",
    "    \n",
    "    '''Binarize ratings:\n",
    "    - 1 for ratings equal or above threshold\n",
    "    - 0 for ratings below threshold\n",
    "    params: ratings_df, threshold\n",
    "    return: ratings_df with binarized ratings\n",
    "    '''\n",
    "    \n",
    "    # binarize ratings field\n",
    "    ratings_df['rating'] = ratings_df['rating'].apply(lambda x: 1 if x >= 4 else 0)\n",
    "    \n",
    "    return ratings_df"
   ]
  },
  {
   "cell_type": "markdown",
   "id": "004140f1-c6b1-4e5d-ab33-54ec6cec67cf",
   "metadata": {},
   "source": [
    "#### Split user ratings into train, dev and test sets"
   ]
  },
  {
   "cell_type": "markdown",
   "id": "ad189c40-08fc-41b2-91d3-9e2ba8e7a3ea",
   "metadata": {},
   "source": [
    "Defining **train_dev_test_split** function"
   ]
  },
  {
   "cell_type": "code",
   "execution_count": 37,
   "id": "e1170e89-0a79-4674-957c-9475117016d5",
   "metadata": {},
   "outputs": [],
   "source": [
    "def train_dev_test_split(ratings_df, min_ratings=30, threshold=4):\n",
    "    \n",
    "    '''Filter users with num_ratings equal or above [min_ratings]\n",
    "    and split ratings by user into train, dev and test label sets\n",
    "    using the hold one out method. Test contains the last rated movie\n",
    "    by user, dev the last but one, while training contains all the\n",
    "    other movies rated except the latest two.\n",
    "    params: ratings_df, min_rating, threshold\n",
    "    return: train_labels, dev_labels, test_labels\n",
    "    '''\n",
    "    \n",
    "    # filter userIDs with count of ratings equal or above min_ratings\n",
    "    filtered_ratings_df = filter_users(ratings_df, min_ratings)\n",
    "    # binarize ratings\n",
    "    bin_filtered_ratings_df = binarize_ratings(filtered_ratings_df, threshold)\n",
    "    # compute the row indexes for the two most recent ratings by user (ie. two largest timestamps)\n",
    "    most_recent_timestamps = bin_filtered_ratings_df.groupby('userId', sort=False)['timestamp'].nlargest(2).reset_index()\n",
    "    # get the row indexes for the last rating by user\n",
    "    idx_test = most_recent_timestamps.groupby(by='userId', sort=False)['level_1'].first()\n",
    "    # get the row indexes for the last but one rating by user\n",
    "    idx_dev = most_recent_timestamps.groupby(by='userId', sort=False)['level_1'].last()\n",
    "    # filter test data with idx_test\n",
    "    test_labels = np.array(bin_filtered_ratings_df.loc[idx_test].drop('timestamp', axis=1))\n",
    "    # filter dev data with idx_dev\n",
    "    dev_labels = np.array(bin_filtered_ratings_df.loc[idx_dev].drop('timestamp', axis=1))\n",
    "    # filter train data with ~idx_text and ~idx_dev\n",
    "    train_labels = np.array(bin_filtered_ratings_df.loc[~bin_filtered_ratings_df.index.isin(most_recent_timestamps['level_1'])].drop('timestamp', axis=1))\n",
    "    \n",
    "    return train_labels, dev_labels, test_labels"
   ]
  },
  {
   "cell_type": "markdown",
   "id": "df838c67-6084-4573-ba9c-cbb549b9304f",
   "metadata": {},
   "source": [
    "We splitted the **22,040,571 filtered examples** (out of 26,024,289) in train, development and test sets, being **21,776,811 examples in training** data, **131,880 examples in development** data, and **131,880 examples in test** data.\n",
    "\n",
    "Test contains the last rated movie by user, dev the last but one, while training contains all the other movies rated by the user except the latest two."
   ]
  },
  {
   "cell_type": "code",
   "execution_count": 38,
   "id": "09312ec8-1b56-4c7a-a0f1-a54f90a6ef1b",
   "metadata": {},
   "outputs": [],
   "source": [
    "train_labels, dev_labels, test_labels = train_dev_test_split(ratings_df)"
   ]
  },
  {
   "cell_type": "code",
   "execution_count": 39,
   "id": "12f5bee0-7c3f-4662-864f-f4a2877a8ae8",
   "metadata": {},
   "outputs": [
    {
     "name": "stdout",
     "output_type": "stream",
     "text": [
      "Total filtered examples: 22040571\n"
     ]
    }
   ],
   "source": [
    "print('Total filtered examples:', filtered_ratings_df.shape[0])"
   ]
  },
  {
   "cell_type": "code",
   "execution_count": 40,
   "id": "fe9adab7-4f19-4435-9323-e7f70ed9e274",
   "metadata": {},
   "outputs": [
    {
     "name": "stdout",
     "output_type": "stream",
     "text": [
      "Train size: 21776811\n",
      "Development size: 131880\n",
      "Test size: 131880\n"
     ]
    }
   ],
   "source": [
    "print('Train size:', train_labels.shape[0])\n",
    "print('Development size:', dev_labels.shape[0])\n",
    "print('Test size:', test_labels.shape[0])"
   ]
  },
  {
   "cell_type": "markdown",
   "id": "324ba78a-616d-4fc8-b77a-48d483679e4c",
   "metadata": {},
   "source": [
    "### Step 6: Content-based recommender system implementation"
   ]
  },
  {
   "cell_type": "markdown",
   "id": "e1171365-d6b9-44af-bff0-a359a0168c5c",
   "metadata": {},
   "source": [
    "#### 6.1 Similarity score"
   ]
  },
  {
   "cell_type": "code",
   "execution_count": 54,
   "id": "1c6d8b74-0b95-4fac-969c-88996d3507e5",
   "metadata": {},
   "outputs": [],
   "source": [
    "def get_movie_vector(user_movie_Ids):\n",
    "    index_matching = np.apply_along_axis(lambda x: np.hstack((x, (index==x[1]).sum())), 1, user_movie_Ids)\n",
    "    index_matched = index_matching[index_matching[:,2]==1][:,[0,1]]\n",
    "    movie_vector = np.apply_along_axis(lambda x: np.hstack((x[0], movies[np.argsort(index==x[1])[-1]])), 1, index_matched)\n",
    "    return movie_vector"
   ]
  },
  {
   "cell_type": "code",
   "execution_count": 55,
   "id": "59efeba7-c541-4fb4-9740-820ed7d1e1bf",
   "metadata": {},
   "outputs": [],
   "source": [
    "def get_user_vector(userIds):\n",
    "    rated_movies = train_labels[np.isin(train_labels[:,0], userIds)]\n",
    "    liked_movies = rated_movies[rated_movies[:,1]==1][:,[0,2]]\n",
    "    movie_vector = get_movie_vector(liked_movies)\n",
    "    user_vector = np.array(pd.DataFrame(movie_vector).groupby(0).mean().reset_index())\n",
    "    return user_vector"
   ]
  },
  {
   "cell_type": "code",
   "execution_count": 56,
   "id": "5507cebc-dad0-499d-995c-2d3493421b33",
   "metadata": {},
   "outputs": [],
   "source": [
    "def get_target_movie(userIds, mode='dev'):\n",
    "    mapper = {'dev':0, 'test':1}\n",
    "    movie_list = [dev_labels[np.isin(dev_labels[:,0], userIds)][:,[0,2]], test_labels[np.isin(test_labels[:,0], userIds)][:,[0,2]]]\n",
    "    target_movie = movie_list[mapper[mode]]\n",
    "    return target_movie"
   ]
  },
  {
   "cell_type": "code",
   "execution_count": 57,
   "id": "63e22832-d0db-4e42-bf51-9fe013c5899a",
   "metadata": {},
   "outputs": [],
   "source": [
    "def get_target_rating(userIds, mode='dev'):\n",
    "    mapper = {'dev':0, 'test':1}\n",
    "    rating_list = [dev_labels[np.isin(dev_labels[:,0], userIds)][:,[0,1]], test_labels[np.isin(test_labels[:,0], userIds)][:,[0,1]]]\n",
    "    target_rating = rating_list[mapper[mode]]\n",
    "    return target_rating"
   ]
  },
  {
   "cell_type": "code",
   "execution_count": 58,
   "id": "d36488f5-6efb-437c-b529-e942258c6d51",
   "metadata": {},
   "outputs": [],
   "source": [
    "def get_rec_set(userIds, mode='dev'):\n",
    "    mapper = {'dev':0, 'test':1}\n",
    "    target_movie = get_target_movie(userIds, mode)\n",
    "    a = np.tile(userIds,(1,99)).T\n",
    "    b = np.random.choice(index, size=len(a), replace=True).reshape(len(a),1)\n",
    "    random_movies = np.hstack((a, b))\n",
    "    rec_set = np.vstack((target_movie, random_movies))\n",
    "    return rec_set"
   ]
  },
  {
   "cell_type": "code",
   "execution_count": 59,
   "id": "59d515a8-7def-416a-805a-69a00f455bcf",
   "metadata": {},
   "outputs": [],
   "source": [
    "def get_cosine_sim(userIds, mode='dev'):\n",
    "    user_vector = get_user_vector(userIds)\n",
    "    rec_set = get_rec_set(userIds, mode)\n",
    "    movie_vector = get_movie_vector(rec_set)\n",
    "    num_cols = len(userIds)\n",
    "    num_rows = len(rec_set) + 1\n",
    "    label_cols = user_vector[:,0].reshape(1, num_cols)\n",
    "    label_rows = np.hstack((0, movie_vector[:,0])).reshape(num_rows, 1)\n",
    "    cosine_sim = linear_kernel(movie_vector[:,1:], user_vector[:,1:], dense_output=False)\n",
    "    cosine_sim = np.vstack((label_cols, cosine_sim))\n",
    "    cosine_sim = np.hstack((label_rows, cosine_sim))\n",
    "    return cosine_sim"
   ]
  },
  {
   "cell_type": "code",
   "execution_count": 60,
   "id": "e6a6b37a-dc14-48aa-9b83-c60c9b73beb6",
   "metadata": {},
   "outputs": [],
   "source": [
    "def get_diag_matrix(cosine_sim):\n",
    "    n_rows = cosine_sim.shape[0]\n",
    "    n_cols = cosine_sim.shape[1]\n",
    "    label_rows = np.ones((n_rows, 1))\n",
    "    label_cols = np.ones((1, n_cols-1))\n",
    "    fill = np.tile(np.eye(n_cols-1),(100,1))\n",
    "    matrix = np.hstack((label_rows, np.vstack((label_cols, fill))))\n",
    "    return matrix"
   ]
  },
  {
   "cell_type": "code",
   "execution_count": 61,
   "id": "c23ebdba-0b16-42ed-a708-bd1585f729bd",
   "metadata": {},
   "outputs": [],
   "source": [
    "def get_target_rank(userIds, mode='dev'):\n",
    "    num_users = len(userIds)\n",
    "    user_idx = np.arange(num_users)\n",
    "    cosine_sim = get_cosine_sim(userIds, mode)\n",
    "    diag_cosine_sim = cosine_sim * get_diag_matrix(cosine_sim)\n",
    "    sort_idx = np.apply_along_axis(lambda x: np.argsort(x), 0, diag_cosine_sim[1:,1:])\n",
    "    rank_by_user_idx = np.array(np.where(sort_idx==user_idx)).T\n",
    "    rank_by_user = np.apply_along_axis(lambda x: np.hstack((userIds[x[1],], x[0]-(num_users-1)*100)), 1, rank_by_user_idx)\n",
    "    return rank_by_user"
   ]
  },
  {
   "cell_type": "code",
   "execution_count": 62,
   "id": "7f6e1f7d-3257-4dd1-b7a2-3d9b07ccb292",
   "metadata": {},
   "outputs": [],
   "source": [
    "def get_user_score(userIds, mode='dev'):\n",
    "    target_rating = get_target_rating(userIds, mode)\n",
    "    sort_target_rating = target_rating[np.argsort(target_rating[:,0])]\n",
    "    target_rank = get_target_rank(userIds, mode)\n",
    "    sort_target_rank = target_rank[np.argsort(target_rank[:,0])]\n",
    "    merged_array = np.hstack((sort_target_rating, sort_target_rank))[:,[0,1,3]]\n",
    "    func = lambda x: 1 if ((x[1]==1) & (x[2]<10)) | ((x[1]==0) & (x[2]>89)) else 0\n",
    "    temp_score = np.apply_along_axis(func, 1, merged_array).reshape(merged_array.shape[0], 1)\n",
    "    final_score = np.hstack((merged_array, temp_score))[:,[0,3]]\n",
    "    return final_score"
   ]
  },
  {
   "cell_type": "code",
   "execution_count": 63,
   "id": "48744e38-8d04-4ffd-a936-57241389bef7",
   "metadata": {},
   "outputs": [],
   "source": [
    "def get_hit_ratio(userIds, mode='dev'):\n",
    "    scores = get_user_score(userIds, mode)\n",
    "    hit_ratio = scores[:,1].sum() / scores.shape[0]\n",
    "    return hit_ratio"
   ]
  },
  {
   "cell_type": "code",
   "execution_count": 64,
   "id": "8eafd7f9-c63d-4ff8-aecd-3b47418d12e3",
   "metadata": {},
   "outputs": [],
   "source": [
    "def get_userIds(num_users):\n",
    "    userIds = np.random.choice(np.unique(train_labels[:,0]), size=num_users, replace=False) \n",
    "    return userIds"
   ]
  },
  {
   "cell_type": "code",
   "execution_count": 79,
   "id": "8cd535e1-8a34-4b63-ae09-861a7122f25e",
   "metadata": {},
   "outputs": [],
   "source": [
    "def run_sim_score(num_users, n_rounds):\n",
    "    results = []\n",
    "    for n in np.arange(n_rounds):\n",
    "        userIds = get_userIds(num_users)\n",
    "        hit_ratio = get_hit_ratio(userIds)\n",
    "        results.append(hit_ratio)\n",
    "    return pd.Series(results)"
   ]
  },
  {
   "cell_type": "code",
   "execution_count": 90,
   "id": "03241c55-f6c8-414d-b2f7-0a9417399602",
   "metadata": {},
   "outputs": [],
   "source": [
    "results = run_sim_score(50, 100)"
   ]
  },
  {
   "cell_type": "code",
   "execution_count": 91,
   "id": "a2378a1c-ab53-49b7-9cd6-536d9b10daf3",
   "metadata": {},
   "outputs": [
    {
     "data": {
      "text/plain": [
       "count    100.000000\n",
       "mean       0.281200\n",
       "std        0.062914\n",
       "min        0.120000\n",
       "25%        0.240000\n",
       "50%        0.280000\n",
       "75%        0.320000\n",
       "max        0.460000\n",
       "dtype: float64"
      ]
     },
     "execution_count": 91,
     "metadata": {},
     "output_type": "execute_result"
    }
   ],
   "source": [
    "results.describe()"
   ]
  }
 ],
 "metadata": {
  "kernelspec": {
   "display_name": "Python 3",
   "language": "python",
   "name": "python3"
  },
  "language_info": {
   "codemirror_mode": {
    "name": "ipython",
    "version": 3
   },
   "file_extension": ".py",
   "mimetype": "text/x-python",
   "name": "python",
   "nbconvert_exporter": "python",
   "pygments_lexer": "ipython3",
   "version": "3.7.7"
  }
 },
 "nbformat": 4,
 "nbformat_minor": 5
}
