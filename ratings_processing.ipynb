{
 "cells": [
  {
   "cell_type": "markdown",
   "id": "ff2fcf2c-8719-4065-86c2-1cb1510f2143",
   "metadata": {},
   "source": [
    "### Import packages"
   ]
  },
  {
   "cell_type": "code",
   "execution_count": 1,
   "id": "2655ad82-dd67-4913-9d26-6dd9c5af2374",
   "metadata": {},
   "outputs": [],
   "source": [
    "import pandas as pd\n",
    "import numpy as np"
   ]
  },
  {
   "cell_type": "markdown",
   "id": "67dbbb2c-bc7b-42d0-a58b-5acff400c061",
   "metadata": {},
   "source": [
    "### Define working directories"
   ]
  },
  {
   "cell_type": "code",
   "execution_count": 2,
   "id": "56f4cd4d-5b61-4e62-a925-5527cf6584b1",
   "metadata": {},
   "outputs": [],
   "source": [
    "path_raw_data = 'C:/users/lbros/documents/mids/w207/final_project/raw_data/'\n",
    "path_clean_data = 'C:/users/lbros/documents/mids/w207/final_project/clean_data/'"
   ]
  },
  {
   "cell_type": "markdown",
   "id": "05bbabe9-09e9-4ec5-afed-49b7deb84a8e",
   "metadata": {},
   "source": [
    "### Read ratings data"
   ]
  },
  {
   "cell_type": "code",
   "execution_count": 3,
   "id": "e5409e62-da96-4f3c-8bfe-91ac2fe84559",
   "metadata": {},
   "outputs": [],
   "source": [
    "# load ratings dataframe\n",
    "ratings_df = pd.read_csv(path_raw_data + 'ratings.csv')"
   ]
  },
  {
   "cell_type": "code",
   "execution_count": 4,
   "id": "b188b9b6-a872-4bff-9a76-6fffb88be636",
   "metadata": {},
   "outputs": [
    {
     "data": {
      "text/plain": [
       "(26024289, 4)"
      ]
     },
     "execution_count": 4,
     "metadata": {},
     "output_type": "execute_result"
    }
   ],
   "source": [
    "# print dataframe shape\n",
    "ratings_df.shape"
   ]
  },
  {
   "cell_type": "code",
   "execution_count": 5,
   "id": "b8f54a2a-6999-423f-af0d-8b4305c32795",
   "metadata": {},
   "outputs": [
    {
     "data": {
      "text/plain": [
       "Index(['userId', 'movieId', 'rating', 'timestamp'], dtype='object')"
      ]
     },
     "execution_count": 5,
     "metadata": {},
     "output_type": "execute_result"
    }
   ],
   "source": [
    "# print dataframe columns\n",
    "ratings_df.columns"
   ]
  },
  {
   "cell_type": "code",
   "execution_count": 6,
   "id": "e3f865fe-ee96-4997-8d15-58a646645c6a",
   "metadata": {},
   "outputs": [
    {
     "data": {
      "text/html": [
       "<div>\n",
       "<style scoped>\n",
       "    .dataframe tbody tr th:only-of-type {\n",
       "        vertical-align: middle;\n",
       "    }\n",
       "\n",
       "    .dataframe tbody tr th {\n",
       "        vertical-align: top;\n",
       "    }\n",
       "\n",
       "    .dataframe thead th {\n",
       "        text-align: right;\n",
       "    }\n",
       "</style>\n",
       "<table border=\"1\" class=\"dataframe\">\n",
       "  <thead>\n",
       "    <tr style=\"text-align: right;\">\n",
       "      <th></th>\n",
       "      <th>userId</th>\n",
       "      <th>movieId</th>\n",
       "      <th>rating</th>\n",
       "      <th>timestamp</th>\n",
       "    </tr>\n",
       "  </thead>\n",
       "  <tbody>\n",
       "    <tr>\n",
       "      <th>0</th>\n",
       "      <td>1</td>\n",
       "      <td>110</td>\n",
       "      <td>1.0</td>\n",
       "      <td>1425941529</td>\n",
       "    </tr>\n",
       "    <tr>\n",
       "      <th>1</th>\n",
       "      <td>1</td>\n",
       "      <td>147</td>\n",
       "      <td>4.5</td>\n",
       "      <td>1425942435</td>\n",
       "    </tr>\n",
       "    <tr>\n",
       "      <th>2</th>\n",
       "      <td>1</td>\n",
       "      <td>858</td>\n",
       "      <td>5.0</td>\n",
       "      <td>1425941523</td>\n",
       "    </tr>\n",
       "    <tr>\n",
       "      <th>3</th>\n",
       "      <td>1</td>\n",
       "      <td>1221</td>\n",
       "      <td>5.0</td>\n",
       "      <td>1425941546</td>\n",
       "    </tr>\n",
       "    <tr>\n",
       "      <th>4</th>\n",
       "      <td>1</td>\n",
       "      <td>1246</td>\n",
       "      <td>5.0</td>\n",
       "      <td>1425941556</td>\n",
       "    </tr>\n",
       "  </tbody>\n",
       "</table>\n",
       "</div>"
      ],
      "text/plain": [
       "   userId  movieId  rating   timestamp\n",
       "0       1      110     1.0  1425941529\n",
       "1       1      147     4.5  1425942435\n",
       "2       1      858     5.0  1425941523\n",
       "3       1     1221     5.0  1425941546\n",
       "4       1     1246     5.0  1425941556"
      ]
     },
     "execution_count": 6,
     "metadata": {},
     "output_type": "execute_result"
    }
   ],
   "source": [
    "# inspect first five rows\n",
    "ratings_df.head()"
   ]
  },
  {
   "cell_type": "markdown",
   "id": "baf49466-eff0-4f1c-9afe-4ea3b23ec386",
   "metadata": {},
   "source": [
    "### Read links data"
   ]
  },
  {
   "cell_type": "code",
   "execution_count": 7,
   "id": "839b25b6-88f5-4480-bdda-7b9e397f0378",
   "metadata": {},
   "outputs": [],
   "source": [
    "# load links dataframe\n",
    "links_df = pd.read_csv(path_raw_data + 'links.csv')"
   ]
  },
  {
   "cell_type": "code",
   "execution_count": 8,
   "id": "389bbaf0-0d07-4ec8-b65b-9e59ec527327",
   "metadata": {},
   "outputs": [
    {
     "data": {
      "text/plain": [
       "(45843, 3)"
      ]
     },
     "execution_count": 8,
     "metadata": {},
     "output_type": "execute_result"
    }
   ],
   "source": [
    "# print dataframe shape\n",
    "links_df.shape"
   ]
  },
  {
   "cell_type": "code",
   "execution_count": 9,
   "id": "ac8f794b-1646-4cfa-b3c3-91b7fc411d39",
   "metadata": {},
   "outputs": [
    {
     "data": {
      "text/plain": [
       "Index(['movieId', 'imdbId', 'tmdbId'], dtype='object')"
      ]
     },
     "execution_count": 9,
     "metadata": {},
     "output_type": "execute_result"
    }
   ],
   "source": [
    "# print dataframe columns\n",
    "links_df.columns"
   ]
  },
  {
   "cell_type": "code",
   "execution_count": 10,
   "id": "1126dfc4-b08f-4f06-8dbf-7739716fc449",
   "metadata": {},
   "outputs": [
    {
     "data": {
      "text/html": [
       "<div>\n",
       "<style scoped>\n",
       "    .dataframe tbody tr th:only-of-type {\n",
       "        vertical-align: middle;\n",
       "    }\n",
       "\n",
       "    .dataframe tbody tr th {\n",
       "        vertical-align: top;\n",
       "    }\n",
       "\n",
       "    .dataframe thead th {\n",
       "        text-align: right;\n",
       "    }\n",
       "</style>\n",
       "<table border=\"1\" class=\"dataframe\">\n",
       "  <thead>\n",
       "    <tr style=\"text-align: right;\">\n",
       "      <th></th>\n",
       "      <th>movieId</th>\n",
       "      <th>imdbId</th>\n",
       "      <th>tmdbId</th>\n",
       "    </tr>\n",
       "  </thead>\n",
       "  <tbody>\n",
       "    <tr>\n",
       "      <th>0</th>\n",
       "      <td>1</td>\n",
       "      <td>114709</td>\n",
       "      <td>862.0</td>\n",
       "    </tr>\n",
       "    <tr>\n",
       "      <th>1</th>\n",
       "      <td>2</td>\n",
       "      <td>113497</td>\n",
       "      <td>8844.0</td>\n",
       "    </tr>\n",
       "    <tr>\n",
       "      <th>2</th>\n",
       "      <td>3</td>\n",
       "      <td>113228</td>\n",
       "      <td>15602.0</td>\n",
       "    </tr>\n",
       "    <tr>\n",
       "      <th>3</th>\n",
       "      <td>4</td>\n",
       "      <td>114885</td>\n",
       "      <td>31357.0</td>\n",
       "    </tr>\n",
       "    <tr>\n",
       "      <th>4</th>\n",
       "      <td>5</td>\n",
       "      <td>113041</td>\n",
       "      <td>11862.0</td>\n",
       "    </tr>\n",
       "  </tbody>\n",
       "</table>\n",
       "</div>"
      ],
      "text/plain": [
       "   movieId  imdbId   tmdbId\n",
       "0        1  114709    862.0\n",
       "1        2  113497   8844.0\n",
       "2        3  113228  15602.0\n",
       "3        4  114885  31357.0\n",
       "4        5  113041  11862.0"
      ]
     },
     "execution_count": 10,
     "metadata": {},
     "output_type": "execute_result"
    }
   ],
   "source": [
    "# inspect first five rows\n",
    "links_df.head()"
   ]
  },
  {
   "cell_type": "markdown",
   "id": "4f945df7-e099-4836-b6b4-5dabf23a6955",
   "metadata": {},
   "source": [
    "### Add imdbId and tmdbId fields to ratings_df"
   ]
  },
  {
   "cell_type": "code",
   "execution_count": 11,
   "id": "53a24699-e61e-48e4-a1de-9062efb257a3",
   "metadata": {},
   "outputs": [],
   "source": [
    "# set movieId as index on links_df\n",
    "links_df.set_index('movieId', inplace=True)"
   ]
  },
  {
   "cell_type": "code",
   "execution_count": 12,
   "id": "c9c5f23d-a541-405d-ab1b-e622adae462d",
   "metadata": {},
   "outputs": [],
   "source": [
    "# set userId and movieId as indexes on ratings_df\n",
    "ratings_df.set_index(['userId', 'movieId'], inplace=True)"
   ]
  },
  {
   "cell_type": "code",
   "execution_count": 13,
   "id": "20a17b1d-9110-40a6-b89d-89c39a287880",
   "metadata": {},
   "outputs": [],
   "source": [
    "# insert imdbId and tmdbId fields on ratings_df left joining with links_df on movieId index\n",
    "ratings_df = ratings_df.join(links_df, on='movieId', how='left').reset_index()"
   ]
  },
  {
   "cell_type": "code",
   "execution_count": 14,
   "id": "6588cb7a-86b8-4907-9bd8-dbdc8e00157b",
   "metadata": {},
   "outputs": [
    {
     "data": {
      "text/plain": [
       "(26024289, 6)"
      ]
     },
     "execution_count": 14,
     "metadata": {},
     "output_type": "execute_result"
    }
   ],
   "source": [
    "# print dataframe shape\n",
    "ratings_df.shape"
   ]
  },
  {
   "cell_type": "code",
   "execution_count": 15,
   "id": "4f993ebd-fab9-471f-ad68-22a94dcaa234",
   "metadata": {},
   "outputs": [
    {
     "data": {
      "text/plain": [
       "Index(['userId', 'movieId', 'rating', 'timestamp', 'imdbId', 'tmdbId'], dtype='object')"
      ]
     },
     "execution_count": 15,
     "metadata": {},
     "output_type": "execute_result"
    }
   ],
   "source": [
    "# print dataframe columns\n",
    "ratings_df.columns"
   ]
  },
  {
   "cell_type": "code",
   "execution_count": 16,
   "id": "0cfd736e-0e0d-4992-a55a-99bd4c068a1c",
   "metadata": {},
   "outputs": [
    {
     "data": {
      "text/html": [
       "<div>\n",
       "<style scoped>\n",
       "    .dataframe tbody tr th:only-of-type {\n",
       "        vertical-align: middle;\n",
       "    }\n",
       "\n",
       "    .dataframe tbody tr th {\n",
       "        vertical-align: top;\n",
       "    }\n",
       "\n",
       "    .dataframe thead th {\n",
       "        text-align: right;\n",
       "    }\n",
       "</style>\n",
       "<table border=\"1\" class=\"dataframe\">\n",
       "  <thead>\n",
       "    <tr style=\"text-align: right;\">\n",
       "      <th></th>\n",
       "      <th>userId</th>\n",
       "      <th>movieId</th>\n",
       "      <th>rating</th>\n",
       "      <th>timestamp</th>\n",
       "      <th>imdbId</th>\n",
       "      <th>tmdbId</th>\n",
       "    </tr>\n",
       "  </thead>\n",
       "  <tbody>\n",
       "    <tr>\n",
       "      <th>0</th>\n",
       "      <td>1</td>\n",
       "      <td>110</td>\n",
       "      <td>1.0</td>\n",
       "      <td>1425941529</td>\n",
       "      <td>112573</td>\n",
       "      <td>197.0</td>\n",
       "    </tr>\n",
       "    <tr>\n",
       "      <th>1</th>\n",
       "      <td>1</td>\n",
       "      <td>147</td>\n",
       "      <td>4.5</td>\n",
       "      <td>1425942435</td>\n",
       "      <td>112461</td>\n",
       "      <td>10474.0</td>\n",
       "    </tr>\n",
       "    <tr>\n",
       "      <th>2</th>\n",
       "      <td>1</td>\n",
       "      <td>858</td>\n",
       "      <td>5.0</td>\n",
       "      <td>1425941523</td>\n",
       "      <td>68646</td>\n",
       "      <td>238.0</td>\n",
       "    </tr>\n",
       "    <tr>\n",
       "      <th>3</th>\n",
       "      <td>1</td>\n",
       "      <td>1221</td>\n",
       "      <td>5.0</td>\n",
       "      <td>1425941546</td>\n",
       "      <td>71562</td>\n",
       "      <td>240.0</td>\n",
       "    </tr>\n",
       "    <tr>\n",
       "      <th>4</th>\n",
       "      <td>1</td>\n",
       "      <td>1246</td>\n",
       "      <td>5.0</td>\n",
       "      <td>1425941556</td>\n",
       "      <td>97165</td>\n",
       "      <td>207.0</td>\n",
       "    </tr>\n",
       "  </tbody>\n",
       "</table>\n",
       "</div>"
      ],
      "text/plain": [
       "   userId  movieId  rating   timestamp  imdbId   tmdbId\n",
       "0       1      110     1.0  1425941529  112573    197.0\n",
       "1       1      147     4.5  1425942435  112461  10474.0\n",
       "2       1      858     5.0  1425941523   68646    238.0\n",
       "3       1     1221     5.0  1425941546   71562    240.0\n",
       "4       1     1246     5.0  1425941556   97165    207.0"
      ]
     },
     "execution_count": 16,
     "metadata": {},
     "output_type": "execute_result"
    }
   ],
   "source": [
    "# inspect first five rows\n",
    "ratings_df.head()"
   ]
  },
  {
   "cell_type": "code",
   "execution_count": 17,
   "id": "ff760d0e-2fc8-4d46-9427-0cf13271dbf5",
   "metadata": {},
   "outputs": [
    {
     "data": {
      "text/plain": [
       "userId           0\n",
       "movieId          0\n",
       "rating           0\n",
       "timestamp        0\n",
       "imdbId           0\n",
       "tmdbId       13503\n",
       "dtype: int64"
      ]
     },
     "execution_count": 17,
     "metadata": {},
     "output_type": "execute_result"
    }
   ],
   "source": [
    "# all records were linked except by 13,503 records without tmdbId \n",
    "ratings_df.isna().sum()"
   ]
  },
  {
   "cell_type": "code",
   "execution_count": 18,
   "id": "4d52276f-6822-49c4-a690-4daa9c328854",
   "metadata": {},
   "outputs": [
    {
     "data": {
      "text/plain": [
       "213"
      ]
     },
     "execution_count": 18,
     "metadata": {},
     "output_type": "execute_result"
    }
   ],
   "source": [
    "# 213 unique movieIds could not be linked with corresponding tmdbIds\n",
    "# let's preferably use imdbId to link ratings data with movies data\n",
    "len(ratings_df[ratings_df.tmdbId.isna()].movieId.unique())"
   ]
  },
  {
   "cell_type": "markdown",
   "id": "75b1f1b3-27c2-4caa-a547-b4e1026cd0fa",
   "metadata": {},
   "source": [
    "### Filter users with a minimum number of ratings"
   ]
  },
  {
   "cell_type": "markdown",
   "id": "2ae2863c-ae58-4f36-a355-db362da369ec",
   "metadata": {},
   "source": [
    "Define **filter_users** function"
   ]
  },
  {
   "cell_type": "code",
   "execution_count": 19,
   "id": "bd665dcf-24dd-404f-8494-a587a50c9fbc",
   "metadata": {},
   "outputs": [],
   "source": [
    "def filter_users(ratings_df, min_ratings=30):\n",
    "    \n",
    "    '''Filter users with num_ratings equal or above [min_ratings]\n",
    "    params: ratings_df, min_rating\n",
    "    return: filtered_ratings_df\n",
    "    '''\n",
    "    \n",
    "    # filter userIDs with count of ratings equal or above min_ratings\n",
    "    filtered_ratings_df = ratings_df.groupby('userId', sort=False).filter(lambda x: len(x) >= min_ratings)\n",
    "    \n",
    "    return filtered_ratings_df"
   ]
  },
  {
   "cell_type": "markdown",
   "id": "743a08e8-8263-4491-96bb-3518ceb1f4b1",
   "metadata": {},
   "source": [
    "We filtered users with **less than 30 ratings** resulting in a filtered dataset with **136,362 users** (out of 270,896) and **44,975 movies** (out of 45,115)."
   ]
  },
  {
   "cell_type": "code",
   "execution_count": 20,
   "id": "c50d44cb-1cb2-4968-b7ee-f59155ed23b4",
   "metadata": {},
   "outputs": [
    {
     "name": "stdout",
     "output_type": "stream",
     "text": [
      "Filtered number of users: 136362\n",
      "Total number of users: 270896\n"
     ]
    }
   ],
   "source": [
    "filtered_ratings_df = filter_users(ratings_df, min_ratings=30)\n",
    "print('Filtered number of users:',filtered_ratings_df.userId.unique().shape[0])\n",
    "print('Total number of users:', ratings_df.userId.unique().shape[0])"
   ]
  },
  {
   "cell_type": "code",
   "execution_count": 21,
   "id": "33e501e2-4652-4e09-92ae-488698d3d506",
   "metadata": {},
   "outputs": [
    {
     "name": "stdout",
     "output_type": "stream",
     "text": [
      "Filtered number of movies: 44975\n",
      "Total number of movies: 45115\n"
     ]
    }
   ],
   "source": [
    "print('Filtered number of movies:',filtered_ratings_df.imdbId.unique().shape[0])\n",
    "print('Total number of movies:',ratings_df.imdbId.unique().shape[0])"
   ]
  },
  {
   "cell_type": "markdown",
   "id": "c92ce3db-7d5e-4276-aa29-2cf4cdff5dbd",
   "metadata": {},
   "source": [
    "### Binarize ratings"
   ]
  },
  {
   "cell_type": "markdown",
   "id": "c8441101-8a68-44cb-b322-e2accfe871b2",
   "metadata": {},
   "source": [
    "Define **binarize_ratings** function"
   ]
  },
  {
   "cell_type": "code",
   "execution_count": 22,
   "id": "d06da20f-f330-4f54-838b-bf2c23928d3f",
   "metadata": {},
   "outputs": [],
   "source": [
    "def binarize_ratings(ratings_df, threshold=4):\n",
    "    \n",
    "    '''Binarize ratings:\n",
    "    - 1 for ratings equal or above threshold\n",
    "    - 0 for ratings below threshold\n",
    "    params: ratings_df, threshold\n",
    "    return: ratings_df with binarized ratings\n",
    "    '''\n",
    "    \n",
    "    # binarize ratings field\n",
    "    ratings_df['rating'] = ratings_df['rating'].apply(lambda x: 1 if x >= 4 else 0)\n",
    "    \n",
    "    return ratings_df"
   ]
  },
  {
   "cell_type": "markdown",
   "id": "f4a64799-cc6a-409f-a4ae-80cf49ab8427",
   "metadata": {},
   "source": [
    "The ratings frequency are **equally split between <4 and >=4**."
   ]
  },
  {
   "cell_type": "code",
   "execution_count": 23,
   "id": "a555329a-d2f8-4ac5-a62c-f4c35daf0f10",
   "metadata": {},
   "outputs": [],
   "source": [
    "bin_filtered_ratings_df = binarize_ratings(filtered_ratings_df)"
   ]
  },
  {
   "cell_type": "code",
   "execution_count": 28,
   "id": "902e72b5-eb8d-4177-a97f-4b19d93f7922",
   "metadata": {},
   "outputs": [
    {
     "data": {
      "text/plain": [
       "0    0.503753\n",
       "1    0.496247\n",
       "Name: rating, dtype: float64"
      ]
     },
     "execution_count": 28,
     "metadata": {},
     "output_type": "execute_result"
    }
   ],
   "source": [
    "# inspect first five rows\n",
    "bin_filtered_ratings_df.rating.value_counts(normalize=True)"
   ]
  },
  {
   "cell_type": "markdown",
   "id": "0a22227a-fdd8-45f6-8706-7767074bb8a4",
   "metadata": {},
   "source": [
    "### Save clean ratings dataset to a csv file"
   ]
  },
  {
   "cell_type": "code",
   "execution_count": 31,
   "id": "104c4e00-c2da-4fd1-9cd3-1767eef1b127",
   "metadata": {},
   "outputs": [],
   "source": [
    "# write this final cleaned dataset to a csv file\n",
    "bin_filtered_ratings_df.to_csv('C:/Users/lbros/Documents/MIDS/W207/final_project/clean_data/ratings_final.csv')"
   ]
  }
 ],
 "metadata": {
  "kernelspec": {
   "display_name": "Python 3",
   "language": "python",
   "name": "python3"
  },
  "language_info": {
   "codemirror_mode": {
    "name": "ipython",
    "version": 3
   },
   "file_extension": ".py",
   "mimetype": "text/x-python",
   "name": "python",
   "nbconvert_exporter": "python",
   "pygments_lexer": "ipython3",
   "version": "3.7.7"
  }
 },
 "nbformat": 4,
 "nbformat_minor": 5
}
