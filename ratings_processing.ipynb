{
 "cells": [
  {
   "cell_type": "markdown",
   "id": "ff2fcf2c-8719-4065-86c2-1cb1510f2143",
   "metadata": {},
   "source": [
    "### Step 1: Import packages"
   ]
  },
  {
   "cell_type": "code",
   "execution_count": 109,
   "id": "2655ad82-dd67-4913-9d26-6dd9c5af2374",
   "metadata": {},
   "outputs": [],
   "source": [
    "import pandas as pd\n",
    "import numpy as np\n",
    "import re"
   ]
  },
  {
   "cell_type": "markdown",
   "id": "67dbbb2c-bc7b-42d0-a58b-5acff400c061",
   "metadata": {},
   "source": [
    "### Step 2: Define working directories"
   ]
  },
  {
   "cell_type": "code",
   "execution_count": 110,
   "id": "56f4cd4d-5b61-4e62-a925-5527cf6584b1",
   "metadata": {},
   "outputs": [],
   "source": [
    "path_raw_data = 'C:/users/lbros/documents/mids/w207/final_project/raw_data/'\n",
    "path_clean_data = 'C:/users/lbros/documents/mids/w207/final_project/clean_data/'"
   ]
  },
  {
   "cell_type": "markdown",
   "id": "e2645476-1e2e-4396-b09a-c88ad49c0b07",
   "metadata": {},
   "source": [
    "### Step 3: Read data"
   ]
  },
  {
   "cell_type": "markdown",
   "id": "05bbabe9-09e9-4ec5-afed-49b7deb84a8e",
   "metadata": {},
   "source": [
    "#### Read raw ratings data"
   ]
  },
  {
   "cell_type": "code",
   "execution_count": 111,
   "id": "e5409e62-da96-4f3c-8bfe-91ac2fe84559",
   "metadata": {},
   "outputs": [],
   "source": [
    "# load ratings dataframe\n",
    "ratings_df = pd.read_csv(path_raw_data + 'ratings.csv')"
   ]
  },
  {
   "cell_type": "code",
   "execution_count": 112,
   "id": "b188b9b6-a872-4bff-9a76-6fffb88be636",
   "metadata": {},
   "outputs": [
    {
     "data": {
      "text/plain": [
       "(26024289, 4)"
      ]
     },
     "execution_count": 112,
     "metadata": {},
     "output_type": "execute_result"
    }
   ],
   "source": [
    "# print dataframe shape\n",
    "ratings_df.shape"
   ]
  },
  {
   "cell_type": "code",
   "execution_count": 113,
   "id": "b8f54a2a-6999-423f-af0d-8b4305c32795",
   "metadata": {},
   "outputs": [
    {
     "data": {
      "text/plain": [
       "Index(['userId', 'movieId', 'rating', 'timestamp'], dtype='object')"
      ]
     },
     "execution_count": 113,
     "metadata": {},
     "output_type": "execute_result"
    }
   ],
   "source": [
    "# print dataframe columns\n",
    "ratings_df.columns"
   ]
  },
  {
   "cell_type": "code",
   "execution_count": 114,
   "id": "e3f865fe-ee96-4997-8d15-58a646645c6a",
   "metadata": {},
   "outputs": [
    {
     "data": {
      "text/html": [
       "<div>\n",
       "<style scoped>\n",
       "    .dataframe tbody tr th:only-of-type {\n",
       "        vertical-align: middle;\n",
       "    }\n",
       "\n",
       "    .dataframe tbody tr th {\n",
       "        vertical-align: top;\n",
       "    }\n",
       "\n",
       "    .dataframe thead th {\n",
       "        text-align: right;\n",
       "    }\n",
       "</style>\n",
       "<table border=\"1\" class=\"dataframe\">\n",
       "  <thead>\n",
       "    <tr style=\"text-align: right;\">\n",
       "      <th></th>\n",
       "      <th>userId</th>\n",
       "      <th>movieId</th>\n",
       "      <th>rating</th>\n",
       "      <th>timestamp</th>\n",
       "    </tr>\n",
       "  </thead>\n",
       "  <tbody>\n",
       "    <tr>\n",
       "      <th>0</th>\n",
       "      <td>1</td>\n",
       "      <td>110</td>\n",
       "      <td>1.0</td>\n",
       "      <td>1425941529</td>\n",
       "    </tr>\n",
       "    <tr>\n",
       "      <th>1</th>\n",
       "      <td>1</td>\n",
       "      <td>147</td>\n",
       "      <td>4.5</td>\n",
       "      <td>1425942435</td>\n",
       "    </tr>\n",
       "    <tr>\n",
       "      <th>2</th>\n",
       "      <td>1</td>\n",
       "      <td>858</td>\n",
       "      <td>5.0</td>\n",
       "      <td>1425941523</td>\n",
       "    </tr>\n",
       "    <tr>\n",
       "      <th>3</th>\n",
       "      <td>1</td>\n",
       "      <td>1221</td>\n",
       "      <td>5.0</td>\n",
       "      <td>1425941546</td>\n",
       "    </tr>\n",
       "    <tr>\n",
       "      <th>4</th>\n",
       "      <td>1</td>\n",
       "      <td>1246</td>\n",
       "      <td>5.0</td>\n",
       "      <td>1425941556</td>\n",
       "    </tr>\n",
       "  </tbody>\n",
       "</table>\n",
       "</div>"
      ],
      "text/plain": [
       "   userId  movieId  rating   timestamp\n",
       "0       1      110     1.0  1425941529\n",
       "1       1      147     4.5  1425942435\n",
       "2       1      858     5.0  1425941523\n",
       "3       1     1221     5.0  1425941546\n",
       "4       1     1246     5.0  1425941556"
      ]
     },
     "execution_count": 114,
     "metadata": {},
     "output_type": "execute_result"
    }
   ],
   "source": [
    "# inspect first five rows\n",
    "ratings_df.head()"
   ]
  },
  {
   "cell_type": "markdown",
   "id": "baf49466-eff0-4f1c-9afe-4ea3b23ec386",
   "metadata": {},
   "source": [
    "#### Read raw links data"
   ]
  },
  {
   "cell_type": "code",
   "execution_count": 115,
   "id": "839b25b6-88f5-4480-bdda-7b9e397f0378",
   "metadata": {},
   "outputs": [],
   "source": [
    "# load links dataframe\n",
    "links_df = pd.read_csv(path_raw_data + 'links.csv')"
   ]
  },
  {
   "cell_type": "code",
   "execution_count": 116,
   "id": "389bbaf0-0d07-4ec8-b65b-9e59ec527327",
   "metadata": {},
   "outputs": [
    {
     "data": {
      "text/plain": [
       "(45843, 3)"
      ]
     },
     "execution_count": 116,
     "metadata": {},
     "output_type": "execute_result"
    }
   ],
   "source": [
    "# print dataframe shape\n",
    "links_df.shape"
   ]
  },
  {
   "cell_type": "code",
   "execution_count": 117,
   "id": "ac8f794b-1646-4cfa-b3c3-91b7fc411d39",
   "metadata": {},
   "outputs": [
    {
     "data": {
      "text/plain": [
       "Index(['movieId', 'imdbId', 'tmdbId'], dtype='object')"
      ]
     },
     "execution_count": 117,
     "metadata": {},
     "output_type": "execute_result"
    }
   ],
   "source": [
    "# print dataframe columns\n",
    "links_df.columns"
   ]
  },
  {
   "cell_type": "code",
   "execution_count": 118,
   "id": "1126dfc4-b08f-4f06-8dbf-7739716fc449",
   "metadata": {},
   "outputs": [
    {
     "data": {
      "text/html": [
       "<div>\n",
       "<style scoped>\n",
       "    .dataframe tbody tr th:only-of-type {\n",
       "        vertical-align: middle;\n",
       "    }\n",
       "\n",
       "    .dataframe tbody tr th {\n",
       "        vertical-align: top;\n",
       "    }\n",
       "\n",
       "    .dataframe thead th {\n",
       "        text-align: right;\n",
       "    }\n",
       "</style>\n",
       "<table border=\"1\" class=\"dataframe\">\n",
       "  <thead>\n",
       "    <tr style=\"text-align: right;\">\n",
       "      <th></th>\n",
       "      <th>movieId</th>\n",
       "      <th>imdbId</th>\n",
       "      <th>tmdbId</th>\n",
       "    </tr>\n",
       "  </thead>\n",
       "  <tbody>\n",
       "    <tr>\n",
       "      <th>0</th>\n",
       "      <td>1</td>\n",
       "      <td>114709</td>\n",
       "      <td>862.0</td>\n",
       "    </tr>\n",
       "    <tr>\n",
       "      <th>1</th>\n",
       "      <td>2</td>\n",
       "      <td>113497</td>\n",
       "      <td>8844.0</td>\n",
       "    </tr>\n",
       "    <tr>\n",
       "      <th>2</th>\n",
       "      <td>3</td>\n",
       "      <td>113228</td>\n",
       "      <td>15602.0</td>\n",
       "    </tr>\n",
       "    <tr>\n",
       "      <th>3</th>\n",
       "      <td>4</td>\n",
       "      <td>114885</td>\n",
       "      <td>31357.0</td>\n",
       "    </tr>\n",
       "    <tr>\n",
       "      <th>4</th>\n",
       "      <td>5</td>\n",
       "      <td>113041</td>\n",
       "      <td>11862.0</td>\n",
       "    </tr>\n",
       "  </tbody>\n",
       "</table>\n",
       "</div>"
      ],
      "text/plain": [
       "   movieId  imdbId   tmdbId\n",
       "0        1  114709    862.0\n",
       "1        2  113497   8844.0\n",
       "2        3  113228  15602.0\n",
       "3        4  114885  31357.0\n",
       "4        5  113041  11862.0"
      ]
     },
     "execution_count": 118,
     "metadata": {},
     "output_type": "execute_result"
    }
   ],
   "source": [
    "# inspect first five rows\n",
    "links_df.head()"
   ]
  },
  {
   "cell_type": "markdown",
   "id": "5760f9f3-2eb7-43a3-9384-37f0289eccd8",
   "metadata": {},
   "source": [
    "#### Read clean movies data"
   ]
  },
  {
   "cell_type": "code",
   "execution_count": 119,
   "id": "64f69c23-477b-4456-9b34-2c0ed86d2c09",
   "metadata": {},
   "outputs": [],
   "source": [
    "# load movies dataframe\n",
    "movies_df = pd.read_csv(path_clean_data + 'movies_temp.csv')"
   ]
  },
  {
   "cell_type": "code",
   "execution_count": 120,
   "id": "6d75ad8b-3967-424d-a348-15f847464e3a",
   "metadata": {},
   "outputs": [
    {
     "data": {
      "text/plain": [
       "(45418, 179)"
      ]
     },
     "execution_count": 120,
     "metadata": {},
     "output_type": "execute_result"
    }
   ],
   "source": [
    "# print dataframe shape\n",
    "movies_df.shape"
   ]
  },
  {
   "cell_type": "code",
   "execution_count": 121,
   "id": "48696f9a-2aa8-4a5f-8280-a7e8698f02bb",
   "metadata": {},
   "outputs": [
    {
     "data": {
      "text/plain": [
       "Index(['imdb_id', 'id', 'adult', 'belongs_to_collection', 'budget',\n",
       "       'originally_english', 'overview', 'popularity', 'production_companies',\n",
       "       'production_countries',\n",
       "       ...\n",
       "       'zu', 'canceled', 'in-production', 'planned', 'post-production',\n",
       "       'released', 'rumored', 'cast_names', 'crew_names', 'description'],\n",
       "      dtype='object', length=179)"
      ]
     },
     "execution_count": 121,
     "metadata": {},
     "output_type": "execute_result"
    }
   ],
   "source": [
    "# print dataframe columns\n",
    "movies_df.columns"
   ]
  },
  {
   "cell_type": "code",
   "execution_count": 122,
   "id": "8e117ece-2560-4e84-87b1-2db69ef90639",
   "metadata": {},
   "outputs": [
    {
     "data": {
      "text/html": [
       "<div>\n",
       "<style scoped>\n",
       "    .dataframe tbody tr th:only-of-type {\n",
       "        vertical-align: middle;\n",
       "    }\n",
       "\n",
       "    .dataframe tbody tr th {\n",
       "        vertical-align: top;\n",
       "    }\n",
       "\n",
       "    .dataframe thead th {\n",
       "        text-align: right;\n",
       "    }\n",
       "</style>\n",
       "<table border=\"1\" class=\"dataframe\">\n",
       "  <thead>\n",
       "    <tr style=\"text-align: right;\">\n",
       "      <th></th>\n",
       "      <th>imdb_id</th>\n",
       "      <th>id</th>\n",
       "      <th>adult</th>\n",
       "      <th>belongs_to_collection</th>\n",
       "      <th>budget</th>\n",
       "      <th>originally_english</th>\n",
       "      <th>overview</th>\n",
       "      <th>popularity</th>\n",
       "      <th>production_companies</th>\n",
       "      <th>production_countries</th>\n",
       "      <th>...</th>\n",
       "      <th>zu</th>\n",
       "      <th>canceled</th>\n",
       "      <th>in-production</th>\n",
       "      <th>planned</th>\n",
       "      <th>post-production</th>\n",
       "      <th>released</th>\n",
       "      <th>rumored</th>\n",
       "      <th>cast_names</th>\n",
       "      <th>crew_names</th>\n",
       "      <th>description</th>\n",
       "    </tr>\n",
       "  </thead>\n",
       "  <tbody>\n",
       "    <tr>\n",
       "      <th>0</th>\n",
       "      <td>tt3155794</td>\n",
       "      <td>315946</td>\n",
       "      <td>0</td>\n",
       "      <td>0</td>\n",
       "      <td>0</td>\n",
       "      <td>0</td>\n",
       "      <td>photo sequenc rare transit venu face sun one f...</td>\n",
       "      <td>0.480371</td>\n",
       "      <td>unknown</td>\n",
       "      <td>fr</td>\n",
       "      <td>...</td>\n",
       "      <td>0</td>\n",
       "      <td>0</td>\n",
       "      <td>0</td>\n",
       "      <td>0</td>\n",
       "      <td>0</td>\n",
       "      <td>1</td>\n",
       "      <td>0</td>\n",
       "      <td>unknown</td>\n",
       "      <td>pjcjanssen</td>\n",
       "      <td>astronomi silent film venu planet 19th centuri...</td>\n",
       "    </tr>\n",
       "    <tr>\n",
       "      <th>1</th>\n",
       "      <td>tt2221420</td>\n",
       "      <td>194079</td>\n",
       "      <td>0</td>\n",
       "      <td>0</td>\n",
       "      <td>0</td>\n",
       "      <td>1</td>\n",
       "      <td>salli gardner gallop one earliest silent film ...</td>\n",
       "      <td>0.327841</td>\n",
       "      <td>palo alto stock farm</td>\n",
       "      <td>us</td>\n",
       "      <td>...</td>\n",
       "      <td>0</td>\n",
       "      <td>0</td>\n",
       "      <td>0</td>\n",
       "      <td>0</td>\n",
       "      <td>0</td>\n",
       "      <td>1</td>\n",
       "      <td>0</td>\n",
       "      <td>salliegardner gilbertdomm</td>\n",
       "      <td>eadweardmuybridge lelandstanford</td>\n",
       "      <td>silent film hors chronophotographi stop motion...</td>\n",
       "    </tr>\n",
       "    <tr>\n",
       "      <th>2</th>\n",
       "      <td>tt5459794</td>\n",
       "      <td>426903</td>\n",
       "      <td>0</td>\n",
       "      <td>0</td>\n",
       "      <td>0</td>\n",
       "      <td>1</td>\n",
       "      <td>individu photograph run buffalo shot rapid suc...</td>\n",
       "      <td>0.229221</td>\n",
       "      <td>unknown</td>\n",
       "      <td>us</td>\n",
       "      <td>...</td>\n",
       "      <td>0</td>\n",
       "      <td>0</td>\n",
       "      <td>0</td>\n",
       "      <td>0</td>\n",
       "      <td>0</td>\n",
       "      <td>1</td>\n",
       "      <td>0</td>\n",
       "      <td>unknown</td>\n",
       "      <td>eadweardmuybridge</td>\n",
       "      <td>run buffalo photographi short black white</td>\n",
       "    </tr>\n",
       "    <tr>\n",
       "      <th>3</th>\n",
       "      <td>tt2075247</td>\n",
       "      <td>159897</td>\n",
       "      <td>0</td>\n",
       "      <td>0</td>\n",
       "      <td>0</td>\n",
       "      <td>0</td>\n",
       "      <td>last remain product le princ lpcc type16 16len...</td>\n",
       "      <td>1.184891</td>\n",
       "      <td>unknown</td>\n",
       "      <td>us</td>\n",
       "      <td>...</td>\n",
       "      <td>0</td>\n",
       "      <td>0</td>\n",
       "      <td>0</td>\n",
       "      <td>0</td>\n",
       "      <td>0</td>\n",
       "      <td>1</td>\n",
       "      <td>0</td>\n",
       "      <td>unknown</td>\n",
       "      <td>louisaiméaugustinleprince</td>\n",
       "      <td>short black white walk</td>\n",
       "    </tr>\n",
       "    <tr>\n",
       "      <th>4</th>\n",
       "      <td>tt1758563</td>\n",
       "      <td>96882</td>\n",
       "      <td>0</td>\n",
       "      <td>0</td>\n",
       "      <td>0</td>\n",
       "      <td>0</td>\n",
       "      <td>last remain film le princ lpccp type1 mkii sin...</td>\n",
       "      <td>0.212768</td>\n",
       "      <td>whitley partners</td>\n",
       "      <td>gb</td>\n",
       "      <td>...</td>\n",
       "      <td>0</td>\n",
       "      <td>0</td>\n",
       "      <td>0</td>\n",
       "      <td>0</td>\n",
       "      <td>0</td>\n",
       "      <td>1</td>\n",
       "      <td>0</td>\n",
       "      <td>adolpheleprince</td>\n",
       "      <td>louisaiméaugustinleprince</td>\n",
       "      <td>musician silent film</td>\n",
       "    </tr>\n",
       "  </tbody>\n",
       "</table>\n",
       "<p>5 rows × 179 columns</p>\n",
       "</div>"
      ],
      "text/plain": [
       "     imdb_id      id  adult  belongs_to_collection  budget  \\\n",
       "0  tt3155794  315946      0                      0       0   \n",
       "1  tt2221420  194079      0                      0       0   \n",
       "2  tt5459794  426903      0                      0       0   \n",
       "3  tt2075247  159897      0                      0       0   \n",
       "4  tt1758563   96882      0                      0       0   \n",
       "\n",
       "   originally_english                                           overview  \\\n",
       "0                   0  photo sequenc rare transit venu face sun one f...   \n",
       "1                   1  salli gardner gallop one earliest silent film ...   \n",
       "2                   1  individu photograph run buffalo shot rapid suc...   \n",
       "3                   0  last remain product le princ lpcc type16 16len...   \n",
       "4                   0  last remain film le princ lpccp type1 mkii sin...   \n",
       "\n",
       "   popularity  production_companies production_countries  ...  zu  canceled  \\\n",
       "0    0.480371               unknown                   fr  ...   0         0   \n",
       "1    0.327841  palo alto stock farm                   us  ...   0         0   \n",
       "2    0.229221               unknown                   us  ...   0         0   \n",
       "3    1.184891               unknown                   us  ...   0         0   \n",
       "4    0.212768      whitley partners                   gb  ...   0         0   \n",
       "\n",
       "  in-production planned  post-production  released  rumored  \\\n",
       "0             0       0                0         1        0   \n",
       "1             0       0                0         1        0   \n",
       "2             0       0                0         1        0   \n",
       "3             0       0                0         1        0   \n",
       "4             0       0                0         1        0   \n",
       "\n",
       "                  cast_names                        crew_names  \\\n",
       "0                    unknown                        pjcjanssen   \n",
       "1  salliegardner gilbertdomm  eadweardmuybridge lelandstanford   \n",
       "2                    unknown                 eadweardmuybridge   \n",
       "3                    unknown         louisaiméaugustinleprince   \n",
       "4            adolpheleprince         louisaiméaugustinleprince   \n",
       "\n",
       "                                         description  \n",
       "0  astronomi silent film venu planet 19th centuri...  \n",
       "1  silent film hors chronophotographi stop motion...  \n",
       "2          run buffalo photographi short black white  \n",
       "3                             short black white walk  \n",
       "4                               musician silent film  \n",
       "\n",
       "[5 rows x 179 columns]"
      ]
     },
     "execution_count": 122,
     "metadata": {},
     "output_type": "execute_result"
    }
   ],
   "source": [
    "# inspect first five rows\n",
    "movies_df.head()"
   ]
  },
  {
   "cell_type": "markdown",
   "id": "b032fd2b-7287-4b69-874f-20de3ac52046",
   "metadata": {},
   "source": [
    "### Step 4: Pre-process ratings data"
   ]
  },
  {
   "cell_type": "markdown",
   "id": "4f945df7-e099-4836-b6b4-5dabf23a6955",
   "metadata": {},
   "source": [
    "#### Add imdbId field to ratings_df"
   ]
  },
  {
   "cell_type": "code",
   "execution_count": 123,
   "id": "53a24699-e61e-48e4-a1de-9062efb257a3",
   "metadata": {},
   "outputs": [],
   "source": [
    "# set movieId as index on links_df\n",
    "links_df.set_index('movieId', inplace=True)"
   ]
  },
  {
   "cell_type": "code",
   "execution_count": 124,
   "id": "c9c5f23d-a541-405d-ab1b-e622adae462d",
   "metadata": {},
   "outputs": [],
   "source": [
    "# set userId and movieId as indexes on ratings_df\n",
    "ratings_df.set_index(['userId', 'movieId'], inplace=True)"
   ]
  },
  {
   "cell_type": "code",
   "execution_count": 125,
   "id": "20a17b1d-9110-40a6-b89d-89c39a287880",
   "metadata": {},
   "outputs": [],
   "source": [
    "# insert imdbId and tmdbId fields on ratings_df left joining with links_df on movieId index\n",
    "ratings_df = ratings_df.join(links_df, on='movieId', how='left').reset_index()"
   ]
  },
  {
   "cell_type": "code",
   "execution_count": 126,
   "id": "a1e48ffd-c44f-42f5-a51b-6443d6f52032",
   "metadata": {},
   "outputs": [],
   "source": [
    "# drop tmdbId\n",
    "ratings_df.drop('tmdbId', axis=1, inplace=True)"
   ]
  },
  {
   "cell_type": "code",
   "execution_count": 127,
   "id": "6588cb7a-86b8-4907-9bd8-dbdc8e00157b",
   "metadata": {},
   "outputs": [
    {
     "data": {
      "text/plain": [
       "(26024289, 5)"
      ]
     },
     "execution_count": 127,
     "metadata": {},
     "output_type": "execute_result"
    }
   ],
   "source": [
    "# print dataframe shape\n",
    "ratings_df.shape"
   ]
  },
  {
   "cell_type": "code",
   "execution_count": 128,
   "id": "4f993ebd-fab9-471f-ad68-22a94dcaa234",
   "metadata": {},
   "outputs": [
    {
     "data": {
      "text/plain": [
       "Index(['userId', 'movieId', 'rating', 'timestamp', 'imdbId'], dtype='object')"
      ]
     },
     "execution_count": 128,
     "metadata": {},
     "output_type": "execute_result"
    }
   ],
   "source": [
    "# print dataframe columns\n",
    "ratings_df.columns"
   ]
  },
  {
   "cell_type": "code",
   "execution_count": 129,
   "id": "0cfd736e-0e0d-4992-a55a-99bd4c068a1c",
   "metadata": {},
   "outputs": [
    {
     "data": {
      "text/html": [
       "<div>\n",
       "<style scoped>\n",
       "    .dataframe tbody tr th:only-of-type {\n",
       "        vertical-align: middle;\n",
       "    }\n",
       "\n",
       "    .dataframe tbody tr th {\n",
       "        vertical-align: top;\n",
       "    }\n",
       "\n",
       "    .dataframe thead th {\n",
       "        text-align: right;\n",
       "    }\n",
       "</style>\n",
       "<table border=\"1\" class=\"dataframe\">\n",
       "  <thead>\n",
       "    <tr style=\"text-align: right;\">\n",
       "      <th></th>\n",
       "      <th>userId</th>\n",
       "      <th>movieId</th>\n",
       "      <th>rating</th>\n",
       "      <th>timestamp</th>\n",
       "      <th>imdbId</th>\n",
       "    </tr>\n",
       "  </thead>\n",
       "  <tbody>\n",
       "    <tr>\n",
       "      <th>0</th>\n",
       "      <td>1</td>\n",
       "      <td>110</td>\n",
       "      <td>1.0</td>\n",
       "      <td>1425941529</td>\n",
       "      <td>112573</td>\n",
       "    </tr>\n",
       "    <tr>\n",
       "      <th>1</th>\n",
       "      <td>1</td>\n",
       "      <td>147</td>\n",
       "      <td>4.5</td>\n",
       "      <td>1425942435</td>\n",
       "      <td>112461</td>\n",
       "    </tr>\n",
       "    <tr>\n",
       "      <th>2</th>\n",
       "      <td>1</td>\n",
       "      <td>858</td>\n",
       "      <td>5.0</td>\n",
       "      <td>1425941523</td>\n",
       "      <td>68646</td>\n",
       "    </tr>\n",
       "    <tr>\n",
       "      <th>3</th>\n",
       "      <td>1</td>\n",
       "      <td>1221</td>\n",
       "      <td>5.0</td>\n",
       "      <td>1425941546</td>\n",
       "      <td>71562</td>\n",
       "    </tr>\n",
       "    <tr>\n",
       "      <th>4</th>\n",
       "      <td>1</td>\n",
       "      <td>1246</td>\n",
       "      <td>5.0</td>\n",
       "      <td>1425941556</td>\n",
       "      <td>97165</td>\n",
       "    </tr>\n",
       "  </tbody>\n",
       "</table>\n",
       "</div>"
      ],
      "text/plain": [
       "   userId  movieId  rating   timestamp  imdbId\n",
       "0       1      110     1.0  1425941529  112573\n",
       "1       1      147     4.5  1425942435  112461\n",
       "2       1      858     5.0  1425941523   68646\n",
       "3       1     1221     5.0  1425941546   71562\n",
       "4       1     1246     5.0  1425941556   97165"
      ]
     },
     "execution_count": 129,
     "metadata": {},
     "output_type": "execute_result"
    }
   ],
   "source": [
    "# inspect first five rows\n",
    "ratings_df.head()"
   ]
  },
  {
   "cell_type": "markdown",
   "id": "3bcde3b7-8d60-492a-9e8e-4d92c43af8fe",
   "metadata": {},
   "source": [
    "#### Binarize ratings"
   ]
  },
  {
   "cell_type": "markdown",
   "id": "16980efa-d5ba-4c67-93bf-e32568ad99e9",
   "metadata": {},
   "source": [
    "Define **binarize_ratings** function"
   ]
  },
  {
   "cell_type": "code",
   "execution_count": 130,
   "id": "9ac97a95-4827-4986-b643-9a12a6dbc9c5",
   "metadata": {},
   "outputs": [],
   "source": [
    "def binarize_ratings(ratings_df, threshold=4):\n",
    "    \n",
    "    '''Binarize ratings:\n",
    "    - 1 for ratings equal or above threshold\n",
    "    - 0 for ratings below threshold\n",
    "    params: ratings_df, threshold\n",
    "    return: ratings_df with binarized ratings\n",
    "    '''\n",
    "    \n",
    "    # binarize ratings field\n",
    "    ratings_df['rating'] = ratings_df['rating'].apply(lambda x: 1 if x >= 4 else 0)\n",
    "    \n",
    "    return ratings_df"
   ]
  },
  {
   "cell_type": "markdown",
   "id": "9fd9053e-3a41-4487-bc06-4a4b502f7418",
   "metadata": {},
   "source": [
    "The ratings frequency are **equally split between <4 and >=4**."
   ]
  },
  {
   "cell_type": "code",
   "execution_count": 131,
   "id": "deac10f2-aa56-4aa8-884b-c9391280db9b",
   "metadata": {},
   "outputs": [],
   "source": [
    "# apply binarize function to ratings_df\n",
    "ratings_df = binarize_ratings(ratings_df)"
   ]
  },
  {
   "cell_type": "code",
   "execution_count": 132,
   "id": "c81cdec7-95cb-4508-83c0-c4e87c3b2bc1",
   "metadata": {},
   "outputs": [
    {
     "data": {
      "text/plain": [
       "0    0.501168\n",
       "1    0.498832\n",
       "Name: rating, dtype: float64"
      ]
     },
     "execution_count": 132,
     "metadata": {},
     "output_type": "execute_result"
    }
   ],
   "source": [
    "# inspect binarized ratings frequency\n",
    "ratings_df.rating.value_counts(normalize=True)"
   ]
  },
  {
   "cell_type": "markdown",
   "id": "638b4ed9-20c6-4c1f-a546-57fa0c9a5970",
   "metadata": {},
   "source": [
    "### Step 5: Evaluate keys to join ratings with movies data"
   ]
  },
  {
   "cell_type": "markdown",
   "id": "6d2ce1ce-186d-450a-9fd4-5658cb01e009",
   "metadata": {},
   "source": [
    "#### Evaluate movieId"
   ]
  },
  {
   "cell_type": "markdown",
   "id": "db9c728f-f946-43ce-bd3d-04a7620a71a8",
   "metadata": {},
   "source": [
    "The movieId **do not seem to be an effective key** to join the datasets."
   ]
  },
  {
   "cell_type": "code",
   "execution_count": 133,
   "id": "67420ac2-e9b9-4322-897b-619f5c2fe5de",
   "metadata": {},
   "outputs": [
    {
     "name": "stdout",
     "output_type": "stream",
     "text": [
      "There are 45115 unique movies rated in the ratings_df.\n"
     ]
    }
   ],
   "source": [
    "rated_movies = ratings_df.movieId.unique()\n",
    "print('There are {} unique movies rated in the ratings_df.'.format(len(rated_movies)))"
   ]
  },
  {
   "cell_type": "code",
   "execution_count": 134,
   "id": "b5ef7211-5386-4e1e-8991-4d8e306ed75f",
   "metadata": {},
   "outputs": [
    {
     "name": "stdout",
     "output_type": "stream",
     "text": [
      "There are 45413 unique movies represented in the movies_df.\n"
     ]
    }
   ],
   "source": [
    "repr_movies = movies_df.id.unique()\n",
    "print('There are {} unique movies represented in the movies_df.'.format(len(repr_movies)))"
   ]
  },
  {
   "cell_type": "code",
   "execution_count": 135,
   "id": "dd7596e9-cb36-4a68-b5f7-f3036031314c",
   "metadata": {},
   "outputs": [
    {
     "name": "stdout",
     "output_type": "stream",
     "text": [
      "There are 37552 movies in the ratings_df not in the movies_df.\n"
     ]
    },
    {
     "data": {
      "text/plain": [
       "array([  1221,   2918,   4878, ..., 165649, 171051, 171221], dtype=int64)"
      ]
     },
     "execution_count": 135,
     "metadata": {},
     "output_type": "execute_result"
    }
   ],
   "source": [
    "rated_not_in_repr = rated_movies[~np.isin(rated_movies, repr_movies)]\n",
    "print('There are {} movies in the ratings_df not in the movies_df.'.format(len(rated_not_in_repr)))\n",
    "rated_not_in_repr"
   ]
  },
  {
   "cell_type": "code",
   "execution_count": 136,
   "id": "373023ef-d06e-435b-910b-04b5c36712d5",
   "metadata": {},
   "outputs": [
    {
     "name": "stdout",
     "output_type": "stream",
     "text": [
      "There are 37850 movies in the movies_df not in the ratings_df.\n"
     ]
    },
    {
     "data": {
      "text/plain": [
       "array([315946, 194079, 426903, ...,  38700, 299782,  76600], dtype=int64)"
      ]
     },
     "execution_count": 136,
     "metadata": {},
     "output_type": "execute_result"
    }
   ],
   "source": [
    "repr_not_in_rated = repr_movies[~np.isin(repr_movies, rated_movies)]\n",
    "print('There are {} movies in the movies_df not in the ratings_df.'.format(len(repr_not_in_rated)))\n",
    "repr_not_in_rated"
   ]
  },
  {
   "cell_type": "markdown",
   "id": "aad3c1c9-4649-400f-9df7-c3c22549320b",
   "metadata": {},
   "source": [
    "#### Try with imdb_id instead"
   ]
  },
  {
   "cell_type": "markdown",
   "id": "32d49564-1e10-44ab-89c2-2b755a907bbe",
   "metadata": {},
   "source": [
    "##### Inspect and clean imdb_id field in movies_df"
   ]
  },
  {
   "cell_type": "code",
   "execution_count": 137,
   "id": "01cea468-2146-42d3-985e-582749a8ea79",
   "metadata": {},
   "outputs": [
    {
     "name": "stdout",
     "output_type": "stream",
     "text": [
      "Missing values:  0\n",
      "Unknow values:  0\n"
     ]
    }
   ],
   "source": [
    "# no missing values on movies_df imdbd_id...\n",
    "print('Missing values: ', movies_df['imdb_id'].isna().sum())\n",
    "# ...and no unknown values\n",
    "unknown = movies_df['imdb_id'][~movies_df['imdb_id'].str.contains('^tt')]\n",
    "print('Unknow values: ', len(unknown))"
   ]
  },
  {
   "cell_type": "code",
   "execution_count": 138,
   "id": "61fa7ab3-70f4-47b6-bf04-d243d0aa2033",
   "metadata": {},
   "outputs": [],
   "source": [
    "def clean_imdb_id(movies_df):\n",
    "    \"\"\"Drop rows with unknow values from df,\n",
    "    remove 'tt' and cast into numerical values\"\"\"\n",
    "    \n",
    "    # remove the 'tt' in each line\n",
    "    p = re.compile(r'[tt]+')\n",
    "    movies_df['imdb_id'] = [p.sub('', x) for x in movies_df['imdb_id'].tolist()]\n",
    "    \n",
    "    # convert to numeric format to allow join with ratings_df\n",
    "    movies_df['imdb_id'] = pd.to_numeric(movies_df['imdb_id'])\n",
    "    \n",
    "    return movies_df"
   ]
  },
  {
   "cell_type": "code",
   "execution_count": 139,
   "id": "e545f463-0c32-4642-b6f5-4a2ad31385d0",
   "metadata": {},
   "outputs": [],
   "source": [
    "# apply this function to convert the imdb_id field to numbers\n",
    "movies_df = clean_imdb_id(movies_df)"
   ]
  },
  {
   "cell_type": "markdown",
   "id": "918b723f-7c38-4bec-bd60-39467ce7b4e0",
   "metadata": {},
   "source": [
    "##### Evaluate imdb_id"
   ]
  },
  {
   "cell_type": "code",
   "execution_count": 140,
   "id": "c9892acb-6aac-4dee-8604-cbbbd55d538b",
   "metadata": {},
   "outputs": [
    {
     "name": "stdout",
     "output_type": "stream",
     "text": [
      "There are 45115 unique movies rated in the ratings_df. \n",
      "\n",
      "The minimum imdb_id is 1.\n",
      "The maximum imbd_id is 7158814.\n"
     ]
    }
   ],
   "source": [
    "rated_movies = ratings_df.imdbId.unique()\n",
    "print('There are {} unique movies rated in the ratings_df.'.format(len(rated_movies)), '\\n')\n",
    "print('The minimum imdb_id is {}.'.format(rated_movies.min()))\n",
    "print('The maximum imbd_id is {}.'.format(rated_movies.max()))"
   ]
  },
  {
   "cell_type": "code",
   "execution_count": 141,
   "id": "904895bb-e25e-461e-ac8e-98c7ca91de40",
   "metadata": {},
   "outputs": [
    {
     "name": "stdout",
     "output_type": "stream",
     "text": [
      "There are 45413 unique movies represented in the movies_df. \n",
      "\n",
      "The minimum imdb_id is 1.\n",
      "The maximum imbd_id is 7158814.\n"
     ]
    }
   ],
   "source": [
    "repr_movies = movies_df.imdb_id.unique()\n",
    "print('There are {} unique movies represented in the movies_df.'.format(len(repr_movies)), '\\n')\n",
    "print('The minimum imdb_id is {}.'.format(repr_movies.min()))\n",
    "print('The maximum imbd_id is {}.'.format(repr_movies.max()))"
   ]
  },
  {
   "cell_type": "code",
   "execution_count": 142,
   "id": "c3d5dc99-8c5b-4b8a-b1c9-22d55430c67c",
   "metadata": {},
   "outputs": [
    {
     "name": "stdout",
     "output_type": "stream",
     "text": [
      "There are 487 movies in the ratings_df not in the movies_df. \n",
      "\n"
     ]
    }
   ],
   "source": [
    "rated_not_in_repr = rated_movies[~np.isin(rated_movies, repr_movies)]\n",
    "print('There are {} movies in the ratings_df not in the movies_df.'.format(len(rated_not_in_repr)), '\\n')"
   ]
  },
  {
   "cell_type": "code",
   "execution_count": 143,
   "id": "1e2df12f-b0e2-4166-b302-149dada89ef3",
   "metadata": {},
   "outputs": [
    {
     "name": "stdout",
     "output_type": "stream",
     "text": [
      "There are 785 movies in the movies_df not in the ratings_df.\n"
     ]
    }
   ],
   "source": [
    "repr_not_in_rated = repr_movies[~np.isin(repr_movies, rated_movies)]\n",
    "print('There are {} movies in the movies_df not in the ratings_df.'.format(len(repr_not_in_rated)))"
   ]
  },
  {
   "cell_type": "markdown",
   "id": "1c0340f9-ac2b-49d5-96ec-94b5a22e9c34",
   "metadata": {},
   "source": [
    "#### Drop non-matching movies from both datasets"
   ]
  },
  {
   "cell_type": "code",
   "execution_count": 144,
   "id": "6e3ebf0e-6057-4635-b05c-5d4686f43867",
   "metadata": {},
   "outputs": [],
   "source": [
    "def drop_non_matching_movies(ratings_df, movies_df):\n",
    "    \"\"\"Drop rows with non matching movies\"\"\"\n",
    "    \n",
    "    # unique movies in ratings_df\n",
    "    rated_movies = ratings_df.imdbId.unique()\n",
    "    # unique movies in movies_df\n",
    "    repr_movies = movies_df.imdb_id.unique()\n",
    "    # find the intersection\n",
    "    commom_movies = np.intersect1d(rated_movies, repr_movies)\n",
    "    # filter ratings_df with movies in the intersection\n",
    "    ratings_df = ratings_df[np.isin(ratings_df.imdbId.values, commom_movies)]\n",
    "    # filter movies_df with movies in the intersection\n",
    "    movies_df = movies_df[np.isin(movies_df.imdb_id.values, commom_movies)]\n",
    "    \n",
    "    return ratings_df, movies_df"
   ]
  },
  {
   "cell_type": "code",
   "execution_count": 145,
   "id": "f40f9d91-b056-4afa-a93d-fb6b0aae8fe8",
   "metadata": {},
   "outputs": [],
   "source": [
    "# apply this function to drop non-matching movies from datasets\n",
    "ratings_df, movies_df = drop_non_matching_movies(ratings_df, movies_df)"
   ]
  },
  {
   "cell_type": "code",
   "execution_count": 146,
   "id": "a09c9d3f-6613-4d31-a628-78ea64d3d2b2",
   "metadata": {},
   "outputs": [
    {
     "name": "stdout",
     "output_type": "stream",
     "text": [
      "Number of duplicated imdb_id:  5\n"
     ]
    }
   ],
   "source": [
    "# print remaining imdb_id duplicates (if any)\n",
    "print('Number of duplicated imdb_id: ', movies_df[movies_df['imdb_id'].duplicated()].shape[0])"
   ]
  },
  {
   "cell_type": "code",
   "execution_count": 147,
   "id": "03c7c457-9544-4ee4-b10b-67a48b281f8a",
   "metadata": {},
   "outputs": [],
   "source": [
    "# Drop remaining imdb_id duplicates, keeping the last indexed entry\n",
    "movies_df = movies_df[~movies_df['imdb_id'].duplicated(keep='last')]"
   ]
  },
  {
   "cell_type": "markdown",
   "id": "e71cd1da-5841-44e5-a3ac-085783d8baa1",
   "metadata": {},
   "source": [
    "We dropped **54,665 rows** (out of 26,024,289) in the **ratings_df**."
   ]
  },
  {
   "cell_type": "code",
   "execution_count": 148,
   "id": "9ca7810a-26bf-4e1a-9e1c-3cd96f91e013",
   "metadata": {},
   "outputs": [
    {
     "name": "stdout",
     "output_type": "stream",
     "text": [
      "There are now 25969624 records in the ratings_df.\n"
     ]
    }
   ],
   "source": [
    "print('There are now {} records in the ratings_df.'.format(ratings_df.shape[0]))"
   ]
  },
  {
   "cell_type": "code",
   "execution_count": 149,
   "id": "f88eae29-cb3b-46a4-9e09-8efd6db1c335",
   "metadata": {},
   "outputs": [
    {
     "name": "stdout",
     "output_type": "stream",
     "text": [
      "There are now 44628 unique movies rated in the ratings_df.\n"
     ]
    }
   ],
   "source": [
    "print('There are now {} unique movies rated in the ratings_df.'.format(len(ratings_df.imdbId.unique())))"
   ]
  },
  {
   "cell_type": "markdown",
   "id": "c8ff5f88-be8f-4e2c-847f-ee235a70973d",
   "metadata": {},
   "source": [
    "We dropped **790 rows** (out of 45,418) in the **movies_df**."
   ]
  },
  {
   "cell_type": "code",
   "execution_count": 150,
   "id": "7484926d-d2f5-45c9-8a15-e2071eef39f0",
   "metadata": {},
   "outputs": [
    {
     "name": "stdout",
     "output_type": "stream",
     "text": [
      "There are now 44628 records in the movies_df.\n"
     ]
    }
   ],
   "source": [
    "print('There are now {} records in the movies_df.'.format(movies_df.shape[0]))"
   ]
  },
  {
   "cell_type": "code",
   "execution_count": 151,
   "id": "bf4db43d-0742-4aab-8fe6-a9515a0a426c",
   "metadata": {},
   "outputs": [
    {
     "name": "stdout",
     "output_type": "stream",
     "text": [
      "There are now 44628 unique movies rated in the movies_df.\n"
     ]
    }
   ],
   "source": [
    "print('There are now {} unique movies rated in the movies_df.'.format(len(movies_df.imdb_id.unique())))"
   ]
  },
  {
   "cell_type": "markdown",
   "id": "010b6929-b467-410c-940d-89fa82442a06",
   "metadata": {},
   "source": [
    "#### Replace vote_count in the movies_df by the counting of votes in the ratings_df"
   ]
  },
  {
   "cell_type": "code",
   "execution_count": 152,
   "id": "adc1cc0a-d66f-4b1a-a775-42502418ad2d",
   "metadata": {},
   "outputs": [],
   "source": [
    "ratings_by_movie = ratings_df.groupby('imdbId').count().rating\n",
    "movies_df = movies_df.set_index('imdb_id').join(ratings_by_movie).reset_index()\n",
    "movies_df['vote_count'] = movies_df['rating']\n",
    "movies_df.drop('rating', axis=1, inplace=True)"
   ]
  },
  {
   "cell_type": "markdown",
   "id": "b3d6efa3-9628-49e6-abc9-8b9be0e82e07",
   "metadata": {},
   "source": [
    "#### Replace vote_average in the movies_df by the averaging of ratings in the ratings_df"
   ]
  },
  {
   "cell_type": "code",
   "execution_count": null,
   "id": "b2c8bbb2-8342-476d-b085-cfc9a9fb71ad",
   "metadata": {},
   "outputs": [],
   "source": [
    "mean_rating_by_movie = ratings_df.groupby('imdbId').mean().rating\n",
    "movies_df = movies_df.set_index('imdb_id').join(mean_rating_by_movie).reset_index()\n",
    "movies_df['vote_average'] = movies_df['rating']\n",
    "movies_df.drop('rating', axis=1, inplace=True)"
   ]
  },
  {
   "cell_type": "markdown",
   "id": "75b1f1b3-27c2-4caa-a547-b4e1026cd0fa",
   "metadata": {},
   "source": [
    "### Step 6: Filter users with a minimum number of ratings"
   ]
  },
  {
   "cell_type": "markdown",
   "id": "2ae2863c-ae58-4f36-a355-db362da369ec",
   "metadata": {},
   "source": [
    "Define **filter_users** function"
   ]
  },
  {
   "cell_type": "code",
   "execution_count": 153,
   "id": "bd665dcf-24dd-404f-8494-a587a50c9fbc",
   "metadata": {},
   "outputs": [],
   "source": [
    "def filter_users(ratings_df, min_ratings=30, min_pct=0.2):\n",
    "    \n",
    "    '''Filter users with num_ratings equal or above [min_ratings]\n",
    "    and at least [min_pct] of movies rated as 0 or 1\n",
    "    params: ratings_df, min_rating\n",
    "    return: filtered_ratings_df\n",
    "    '''\n",
    "    \n",
    "    # filter userIDs with count of ratings equal or above min_ratings\n",
    "    temp_ratings_df = ratings_df.groupby('userId', sort=False).filter(lambda x: len(x) >= min_ratings)\n",
    "    \n",
    "    # filter userIDs with less than min_pct of 0 or 1 ratings\n",
    "    aux_df = temp_ratings_df.groupby(['userId', 'rating'], sort=False).count()['movieId'] / temp_ratings_df.groupby(['userId'], sort=False).count()['movieId']\n",
    "    aux_df = aux_df.reset_index('rating')\n",
    "    aux_df = aux_df[aux_df['rating']==0]\n",
    "    aux_df['min_pct'] = (aux_df['movieId'] > min_pct) & (aux_df['movieId'] < (1-min_pct))\n",
    "    aux_df = aux_df.drop(['rating', 'movieId'], axis=1)\n",
    "    temp_ratings_df = temp_ratings_df.set_index('userId')\n",
    "    temp_ratings_df = temp_ratings_df.join(aux_df, how='left')\n",
    "    temp_ratings_df = temp_ratings_df[temp_ratings_df['min_pct']==True]\n",
    "    temp_ratings_df = temp_ratings_df.drop(['min_pct'], axis=1)\n",
    "    filtered_ratings_df = temp_ratings_df.reset_index()\n",
    "    \n",
    "    return filtered_ratings_df"
   ]
  },
  {
   "cell_type": "markdown",
   "id": "743a08e8-8263-4491-96bb-3518ceb1f4b1",
   "metadata": {},
   "source": [
    "We filtered users with **less than 30 ratings** and **less than 20% of ratings 0 or 1** resulting in a filtered dataset with **115,715 users** (out of 270,881), **41,664 movies** (out of 44,628) and **20,568,389 ratings** (out of 25,969,624)."
   ]
  },
  {
   "cell_type": "code",
   "execution_count": 154,
   "id": "c50d44cb-1cb2-4968-b7ee-f59155ed23b4",
   "metadata": {},
   "outputs": [
    {
     "name": "stdout",
     "output_type": "stream",
     "text": [
      "Filtered number of users: 115715\n",
      "Total number of users: 270881\n"
     ]
    }
   ],
   "source": [
    "filtered_ratings_df = filter_users(ratings_df, min_ratings=30)\n",
    "print('Filtered number of users:',filtered_ratings_df.userId.unique().shape[0])\n",
    "print('Total number of users:', ratings_df.userId.unique().shape[0])"
   ]
  },
  {
   "cell_type": "code",
   "execution_count": 155,
   "id": "33e501e2-4652-4e09-92ae-488698d3d506",
   "metadata": {},
   "outputs": [
    {
     "name": "stdout",
     "output_type": "stream",
     "text": [
      "Filtered number of movies: 41664\n",
      "Total number of movies: 44628\n"
     ]
    }
   ],
   "source": [
    "print('Filtered number of movies:',filtered_ratings_df.imdbId.unique().shape[0])\n",
    "print('Total number of movies:',ratings_df.imdbId.unique().shape[0])"
   ]
  },
  {
   "cell_type": "code",
   "execution_count": 156,
   "id": "2e7a7c3d-a12b-40f5-8830-b8cf0fd783dd",
   "metadata": {},
   "outputs": [
    {
     "name": "stdout",
     "output_type": "stream",
     "text": [
      "Filtered number of ratings: 20568389\n",
      "Total number of ratings: 25969624\n"
     ]
    }
   ],
   "source": [
    "print('Filtered number of ratings:',filtered_ratings_df.shape[0])\n",
    "print('Total number of ratings:',ratings_df.shape[0])"
   ]
  },
  {
   "cell_type": "markdown",
   "id": "c544dd74-f2e0-4701-88df-4e9d973a0cc2",
   "metadata": {},
   "source": [
    "### Step 7: Split data"
   ]
  },
  {
   "cell_type": "markdown",
   "id": "1814b65f-70dc-4c74-84c4-af41581db1b8",
   "metadata": {},
   "source": [
    "#### Split users into dev and test sets"
   ]
  },
  {
   "cell_type": "code",
   "execution_count": 157,
   "id": "e259ac7f-b1db-468a-bbb4-512ad85c976b",
   "metadata": {},
   "outputs": [],
   "source": [
    "def user_split(ratings_df, dev_size=5000, random_state=100):\n",
    "    \n",
    "    '''Split users into development and test sets'''\n",
    "    \n",
    "    # define random seed\n",
    "    np.random.seed(seed=random_state)\n",
    "    # randomly pick [dev_size] users\n",
    "    unique_users = ratings_df['userId'].unique()\n",
    "    dev = np.random.choice(unique_users, size=dev_size, replace=False)\n",
    "    # split users into dev and test based on picked users\n",
    "    dev_users = ratings_df[np.isin(ratings_df['userId'], dev)]\n",
    "    test_users = ratings_df[~np.isin(ratings_df['userId'], dev)]\n",
    "    \n",
    "    return dev_users, test_users"
   ]
  },
  {
   "cell_type": "code",
   "execution_count": 158,
   "id": "afbbd966-f660-4475-be95-e7e42dcaba83",
   "metadata": {},
   "outputs": [],
   "source": [
    "# apply user_split to filtered_ratings_df\n",
    "dev_users, test_users = user_split(filtered_ratings_df)"
   ]
  },
  {
   "cell_type": "code",
   "execution_count": 159,
   "id": "6621d2a9-ec06-452f-9ba8-80b49518082e",
   "metadata": {},
   "outputs": [
    {
     "name": "stdout",
     "output_type": "stream",
     "text": [
      "Development set has 5000 unique users and 911733 ratings in total.\n"
     ]
    }
   ],
   "source": [
    "print('Development set has {} unique users and {} ratings in total.'.format(len(dev_users['userId'].unique()), dev_users.shape[0]))"
   ]
  },
  {
   "cell_type": "code",
   "execution_count": 160,
   "id": "65f47833-1ed6-4d59-bec6-c037293551ba",
   "metadata": {},
   "outputs": [
    {
     "name": "stdout",
     "output_type": "stream",
     "text": [
      "Test set has 110715 unique users and 19656656 ratings in total.\n"
     ]
    }
   ],
   "source": [
    "print('Test set has {} unique users and {} ratings in total.'.format(len(test_users['userId'].unique()), test_users.shape[0]))"
   ]
  },
  {
   "cell_type": "markdown",
   "id": "088eac9b-8cd6-4ba8-af47-582604326345",
   "metadata": {},
   "source": [
    "#### Hold last rating by user for evaluation"
   ]
  },
  {
   "cell_type": "code",
   "execution_count": 161,
   "id": "81378075-f3af-46ad-9dc7-077330f11c8f",
   "metadata": {},
   "outputs": [],
   "source": [
    "def hold_last_out(user_data):\n",
    "    \n",
    "    '''Split ratings by user into train and test sets using the hold\n",
    "    last out method. Test contains the last rated movie by user while\n",
    "    training contains all the other rated movies.\n",
    "    '''\n",
    "    \n",
    "    # find the indexes correspondent to maximum timestamp by user\n",
    "    idx_test = user_data.groupby('userId', sort=False).idxmax()['timestamp']\n",
    "    # filter test data with idx_test\n",
    "    test = user_data.loc[idx_test]\n",
    "    # drop idx_test to get train data\n",
    "    train = user_data.drop(idx_test, axis=0)\n",
    "    \n",
    "    return train, test"
   ]
  },
  {
   "cell_type": "code",
   "execution_count": 162,
   "id": "3463c77c-fd64-478e-80bb-10d4b01a0e12",
   "metadata": {},
   "outputs": [],
   "source": [
    "# apply hold_last_out to dev_users\n",
    "dev_train, dev_test = hold_last_out(dev_users)"
   ]
  },
  {
   "cell_type": "code",
   "execution_count": 163,
   "id": "bec2fa35-f004-4ff4-952a-0ddb7f9e8ab1",
   "metadata": {},
   "outputs": [
    {
     "name": "stdout",
     "output_type": "stream",
     "text": [
      "Dev_train set has 5000 unique users and 906733 ratings in total.\n"
     ]
    }
   ],
   "source": [
    "print('Dev_train set has {} unique users and {} ratings in total.'.format(len(dev_train['userId'].unique()), dev_train.shape[0]))"
   ]
  },
  {
   "cell_type": "code",
   "execution_count": 164,
   "id": "bbbda9c3-9fc6-4a91-913a-9242e69c0c2a",
   "metadata": {},
   "outputs": [
    {
     "name": "stdout",
     "output_type": "stream",
     "text": [
      "Dev_test set has 5000 unique users and 5000 ratings in total.\n"
     ]
    }
   ],
   "source": [
    "print('Dev_test set has {} unique users and {} ratings in total.'.format(len(dev_test['userId'].unique()), dev_test.shape[0]))"
   ]
  },
  {
   "cell_type": "code",
   "execution_count": 165,
   "id": "99d1524f-bee4-4315-8248-07b3db1a3a67",
   "metadata": {},
   "outputs": [],
   "source": [
    "# apply hold_last_out to test_users\n",
    "test_train, test_test = hold_last_out(test_users)"
   ]
  },
  {
   "cell_type": "code",
   "execution_count": 166,
   "id": "029a656e-680f-49de-82a6-6e3e9308a52e",
   "metadata": {},
   "outputs": [
    {
     "name": "stdout",
     "output_type": "stream",
     "text": [
      "Test_train set has 110715 unique users and 19545941 ratings in total.\n"
     ]
    }
   ],
   "source": [
    "print('Test_train set has {} unique users and {} ratings in total.'.format(len(test_train['userId'].unique()), test_train.shape[0]))"
   ]
  },
  {
   "cell_type": "code",
   "execution_count": 167,
   "id": "73b62bc0-d209-4816-89f3-7fad1623450a",
   "metadata": {},
   "outputs": [
    {
     "name": "stdout",
     "output_type": "stream",
     "text": [
      "Test_test set has 110715 unique users and 110715 ratings in total.\n"
     ]
    }
   ],
   "source": [
    "print('Test_test set has {} unique users and {} ratings in total.'.format(len(test_test['userId'].unique()), test_test.shape[0]))"
   ]
  },
  {
   "cell_type": "markdown",
   "id": "9e2b573a-739d-4112-b5ac-4fa42fac4b1a",
   "metadata": {},
   "source": [
    "#### Final adjustments"
   ]
  },
  {
   "cell_type": "code",
   "execution_count": 168,
   "id": "00db27b2-9b58-4692-9b49-848210a98d1e",
   "metadata": {},
   "outputs": [],
   "source": [
    "# filter usable columns\n",
    "usable_columns = ['userId', 'imdbId', 'rating']\n",
    "dev_train = dev_train[usable_columns]\n",
    "dev_test = dev_test[usable_columns]\n",
    "test_train = test_train[usable_columns]\n",
    "test_test = test_test[usable_columns]"
   ]
  },
  {
   "cell_type": "code",
   "execution_count": 169,
   "id": "bfb563bc-5dbe-4ef9-841e-59f91ef556c8",
   "metadata": {
    "tags": []
   },
   "outputs": [],
   "source": [
    "# rename imdbId\n",
    "dev_train.columns = ['userId', 'imdb_id', 'rating']\n",
    "dev_test.columns = ['userId', 'imdb_id', 'rating']\n",
    "test_train.columns = ['userId', 'imdb_id', 'rating']\n",
    "test_test.columns = ['userId', 'imdb_id', 'rating']"
   ]
  },
  {
   "cell_type": "markdown",
   "id": "0a22227a-fdd8-45f6-8706-7767074bb8a4",
   "metadata": {},
   "source": [
    "### Step 8: Save clean and filtered datasets to a csv file"
   ]
  },
  {
   "cell_type": "code",
   "execution_count": 170,
   "id": "104c4e00-c2da-4fd1-9cd3-1767eef1b127",
   "metadata": {},
   "outputs": [],
   "source": [
    "# write cleaned, filtered and splitted ratings dataset to csv files\n",
    "dev_train.to_csv('C:/Users/lbros/Documents/MIDS/W207/final_project/clean_data/dev_train.csv')\n",
    "dev_test.to_csv('C:/Users/lbros/Documents/MIDS/W207/final_project/clean_data/dev_test.csv')\n",
    "test_train.to_csv('C:/Users/lbros/Documents/MIDS/W207/final_project/clean_data/test_train.csv')\n",
    "test_test.to_csv('C:/Users/lbros/Documents/MIDS/W207/final_project/clean_data/test_test.csv')"
   ]
  },
  {
   "cell_type": "code",
   "execution_count": 171,
   "id": "7e8a4bb3-97b4-403f-92b4-84570f2f27ae",
   "metadata": {},
   "outputs": [],
   "source": [
    "# write filtered movie dataset to a csv file\n",
    "movies_df.to_csv('C:/Users/lbros/Documents/MIDS/W207/final_project/clean_data/movies_final.csv')"
   ]
  }
 ],
 "metadata": {
  "kernelspec": {
   "display_name": "Python 3",
   "language": "python",
   "name": "python3"
  },
  "language_info": {
   "codemirror_mode": {
    "name": "ipython",
    "version": 3
   },
   "file_extension": ".py",
   "mimetype": "text/x-python",
   "name": "python",
   "nbconvert_exporter": "python",
   "pygments_lexer": "ipython3",
   "version": "3.7.7"
  }
 },
 "nbformat": 4,
 "nbformat_minor": 5
}
