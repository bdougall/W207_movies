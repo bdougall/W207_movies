{
 "cells": [
  {
   "cell_type": "markdown",
   "id": "ff2fcf2c-8719-4065-86c2-1cb1510f2143",
   "metadata": {},
   "source": [
    "### Step 1: Import packages"
   ]
  },
  {
   "cell_type": "code",
   "execution_count": 1,
   "id": "2655ad82-dd67-4913-9d26-6dd9c5af2374",
   "metadata": {},
   "outputs": [],
   "source": [
    "import pandas as pd\n",
    "import numpy as np"
   ]
  },
  {
   "cell_type": "markdown",
   "id": "67dbbb2c-bc7b-42d0-a58b-5acff400c061",
   "metadata": {},
   "source": [
    "### Step 2: Define working directories"
   ]
  },
  {
   "cell_type": "code",
   "execution_count": 2,
   "id": "56f4cd4d-5b61-4e62-a925-5527cf6584b1",
   "metadata": {},
   "outputs": [],
   "source": [
    "path_raw_data = 'C:/users/lbros/documents/mids/w207/final_project/raw_data/'\n",
    "path_clean_data = 'C:/users/lbros/documents/mids/w207/final_project/clean_data/'"
   ]
  },
  {
   "cell_type": "markdown",
   "id": "e2645476-1e2e-4396-b09a-c88ad49c0b07",
   "metadata": {},
   "source": [
    "### Step 3: Read data"
   ]
  },
  {
   "cell_type": "markdown",
   "id": "05bbabe9-09e9-4ec5-afed-49b7deb84a8e",
   "metadata": {},
   "source": [
    "#### Read raw ratings data"
   ]
  },
  {
   "cell_type": "code",
   "execution_count": 3,
   "id": "e5409e62-da96-4f3c-8bfe-91ac2fe84559",
   "metadata": {},
   "outputs": [],
   "source": [
    "# load ratings dataframe\n",
    "ratings_df = pd.read_csv(path_raw_data + 'ratings.csv')"
   ]
  },
  {
   "cell_type": "code",
   "execution_count": 4,
   "id": "b188b9b6-a872-4bff-9a76-6fffb88be636",
   "metadata": {},
   "outputs": [
    {
     "data": {
      "text/plain": [
       "(26024289, 4)"
      ]
     },
     "execution_count": 4,
     "metadata": {},
     "output_type": "execute_result"
    }
   ],
   "source": [
    "# print dataframe shape\n",
    "ratings_df.shape"
   ]
  },
  {
   "cell_type": "code",
   "execution_count": 5,
   "id": "b8f54a2a-6999-423f-af0d-8b4305c32795",
   "metadata": {},
   "outputs": [
    {
     "data": {
      "text/plain": [
       "Index(['userId', 'movieId', 'rating', 'timestamp'], dtype='object')"
      ]
     },
     "execution_count": 5,
     "metadata": {},
     "output_type": "execute_result"
    }
   ],
   "source": [
    "# print dataframe columns\n",
    "ratings_df.columns"
   ]
  },
  {
   "cell_type": "code",
   "execution_count": 6,
   "id": "e3f865fe-ee96-4997-8d15-58a646645c6a",
   "metadata": {},
   "outputs": [
    {
     "data": {
      "text/html": [
       "<div>\n",
       "<style scoped>\n",
       "    .dataframe tbody tr th:only-of-type {\n",
       "        vertical-align: middle;\n",
       "    }\n",
       "\n",
       "    .dataframe tbody tr th {\n",
       "        vertical-align: top;\n",
       "    }\n",
       "\n",
       "    .dataframe thead th {\n",
       "        text-align: right;\n",
       "    }\n",
       "</style>\n",
       "<table border=\"1\" class=\"dataframe\">\n",
       "  <thead>\n",
       "    <tr style=\"text-align: right;\">\n",
       "      <th></th>\n",
       "      <th>userId</th>\n",
       "      <th>movieId</th>\n",
       "      <th>rating</th>\n",
       "      <th>timestamp</th>\n",
       "    </tr>\n",
       "  </thead>\n",
       "  <tbody>\n",
       "    <tr>\n",
       "      <th>0</th>\n",
       "      <td>1</td>\n",
       "      <td>110</td>\n",
       "      <td>1.0</td>\n",
       "      <td>1425941529</td>\n",
       "    </tr>\n",
       "    <tr>\n",
       "      <th>1</th>\n",
       "      <td>1</td>\n",
       "      <td>147</td>\n",
       "      <td>4.5</td>\n",
       "      <td>1425942435</td>\n",
       "    </tr>\n",
       "    <tr>\n",
       "      <th>2</th>\n",
       "      <td>1</td>\n",
       "      <td>858</td>\n",
       "      <td>5.0</td>\n",
       "      <td>1425941523</td>\n",
       "    </tr>\n",
       "    <tr>\n",
       "      <th>3</th>\n",
       "      <td>1</td>\n",
       "      <td>1221</td>\n",
       "      <td>5.0</td>\n",
       "      <td>1425941546</td>\n",
       "    </tr>\n",
       "    <tr>\n",
       "      <th>4</th>\n",
       "      <td>1</td>\n",
       "      <td>1246</td>\n",
       "      <td>5.0</td>\n",
       "      <td>1425941556</td>\n",
       "    </tr>\n",
       "  </tbody>\n",
       "</table>\n",
       "</div>"
      ],
      "text/plain": [
       "   userId  movieId  rating   timestamp\n",
       "0       1      110     1.0  1425941529\n",
       "1       1      147     4.5  1425942435\n",
       "2       1      858     5.0  1425941523\n",
       "3       1     1221     5.0  1425941546\n",
       "4       1     1246     5.0  1425941556"
      ]
     },
     "execution_count": 6,
     "metadata": {},
     "output_type": "execute_result"
    }
   ],
   "source": [
    "# inspect first five rows\n",
    "ratings_df.head()"
   ]
  },
  {
   "cell_type": "markdown",
   "id": "baf49466-eff0-4f1c-9afe-4ea3b23ec386",
   "metadata": {},
   "source": [
    "#### Read raw links data"
   ]
  },
  {
   "cell_type": "code",
   "execution_count": 7,
   "id": "839b25b6-88f5-4480-bdda-7b9e397f0378",
   "metadata": {},
   "outputs": [],
   "source": [
    "# load links dataframe\n",
    "links_df = pd.read_csv(path_raw_data + 'links.csv')"
   ]
  },
  {
   "cell_type": "code",
   "execution_count": 8,
   "id": "389bbaf0-0d07-4ec8-b65b-9e59ec527327",
   "metadata": {},
   "outputs": [
    {
     "data": {
      "text/plain": [
       "(45843, 3)"
      ]
     },
     "execution_count": 8,
     "metadata": {},
     "output_type": "execute_result"
    }
   ],
   "source": [
    "# print dataframe shape\n",
    "links_df.shape"
   ]
  },
  {
   "cell_type": "code",
   "execution_count": 9,
   "id": "ac8f794b-1646-4cfa-b3c3-91b7fc411d39",
   "metadata": {},
   "outputs": [
    {
     "data": {
      "text/plain": [
       "Index(['movieId', 'imdbId', 'tmdbId'], dtype='object')"
      ]
     },
     "execution_count": 9,
     "metadata": {},
     "output_type": "execute_result"
    }
   ],
   "source": [
    "# print dataframe columns\n",
    "links_df.columns"
   ]
  },
  {
   "cell_type": "code",
   "execution_count": 10,
   "id": "1126dfc4-b08f-4f06-8dbf-7739716fc449",
   "metadata": {},
   "outputs": [
    {
     "data": {
      "text/html": [
       "<div>\n",
       "<style scoped>\n",
       "    .dataframe tbody tr th:only-of-type {\n",
       "        vertical-align: middle;\n",
       "    }\n",
       "\n",
       "    .dataframe tbody tr th {\n",
       "        vertical-align: top;\n",
       "    }\n",
       "\n",
       "    .dataframe thead th {\n",
       "        text-align: right;\n",
       "    }\n",
       "</style>\n",
       "<table border=\"1\" class=\"dataframe\">\n",
       "  <thead>\n",
       "    <tr style=\"text-align: right;\">\n",
       "      <th></th>\n",
       "      <th>movieId</th>\n",
       "      <th>imdbId</th>\n",
       "      <th>tmdbId</th>\n",
       "    </tr>\n",
       "  </thead>\n",
       "  <tbody>\n",
       "    <tr>\n",
       "      <th>0</th>\n",
       "      <td>1</td>\n",
       "      <td>114709</td>\n",
       "      <td>862.0</td>\n",
       "    </tr>\n",
       "    <tr>\n",
       "      <th>1</th>\n",
       "      <td>2</td>\n",
       "      <td>113497</td>\n",
       "      <td>8844.0</td>\n",
       "    </tr>\n",
       "    <tr>\n",
       "      <th>2</th>\n",
       "      <td>3</td>\n",
       "      <td>113228</td>\n",
       "      <td>15602.0</td>\n",
       "    </tr>\n",
       "    <tr>\n",
       "      <th>3</th>\n",
       "      <td>4</td>\n",
       "      <td>114885</td>\n",
       "      <td>31357.0</td>\n",
       "    </tr>\n",
       "    <tr>\n",
       "      <th>4</th>\n",
       "      <td>5</td>\n",
       "      <td>113041</td>\n",
       "      <td>11862.0</td>\n",
       "    </tr>\n",
       "  </tbody>\n",
       "</table>\n",
       "</div>"
      ],
      "text/plain": [
       "   movieId  imdbId   tmdbId\n",
       "0        1  114709    862.0\n",
       "1        2  113497   8844.0\n",
       "2        3  113228  15602.0\n",
       "3        4  114885  31357.0\n",
       "4        5  113041  11862.0"
      ]
     },
     "execution_count": 10,
     "metadata": {},
     "output_type": "execute_result"
    }
   ],
   "source": [
    "# inspect first five rows\n",
    "links_df.head()"
   ]
  },
  {
   "cell_type": "markdown",
   "id": "5760f9f3-2eb7-43a3-9384-37f0289eccd8",
   "metadata": {},
   "source": [
    "#### Read clean movies data"
   ]
  },
  {
   "cell_type": "code",
   "execution_count": 11,
   "id": "64f69c23-477b-4456-9b34-2c0ed86d2c09",
   "metadata": {},
   "outputs": [],
   "source": [
    "# load movies dataframe\n",
    "movies_df = pd.read_csv(path_clean_data + 'movies_temp.csv')"
   ]
  },
  {
   "cell_type": "code",
   "execution_count": 12,
   "id": "6d75ad8b-3967-424d-a348-15f847464e3a",
   "metadata": {},
   "outputs": [
    {
     "data": {
      "text/plain": [
       "(45464, 180)"
      ]
     },
     "execution_count": 12,
     "metadata": {},
     "output_type": "execute_result"
    }
   ],
   "source": [
    "# print dataframe shape\n",
    "movies_df.shape"
   ]
  },
  {
   "cell_type": "code",
   "execution_count": 13,
   "id": "48696f9a-2aa8-4a5f-8280-a7e8698f02bb",
   "metadata": {},
   "outputs": [
    {
     "data": {
      "text/plain": [
       "Index(['Unnamed: 0', 'id', 'imdb_id', 'adult', 'belongs_to_collection',\n",
       "       'budget', 'originally_english', 'overview', 'popularity',\n",
       "       'production_companies',\n",
       "       ...\n",
       "       'zu', 'canceled', 'in-production', 'planned', 'post-production',\n",
       "       'released', 'rumored', 'cast_names', 'crew_names', 'description'],\n",
       "      dtype='object', length=180)"
      ]
     },
     "execution_count": 13,
     "metadata": {},
     "output_type": "execute_result"
    }
   ],
   "source": [
    "# print dataframe columns\n",
    "movies_df.columns"
   ]
  },
  {
   "cell_type": "code",
   "execution_count": 14,
   "id": "8e117ece-2560-4e84-87b1-2db69ef90639",
   "metadata": {},
   "outputs": [
    {
     "data": {
      "text/html": [
       "<div>\n",
       "<style scoped>\n",
       "    .dataframe tbody tr th:only-of-type {\n",
       "        vertical-align: middle;\n",
       "    }\n",
       "\n",
       "    .dataframe tbody tr th {\n",
       "        vertical-align: top;\n",
       "    }\n",
       "\n",
       "    .dataframe thead th {\n",
       "        text-align: right;\n",
       "    }\n",
       "</style>\n",
       "<table border=\"1\" class=\"dataframe\">\n",
       "  <thead>\n",
       "    <tr style=\"text-align: right;\">\n",
       "      <th></th>\n",
       "      <th>Unnamed: 0</th>\n",
       "      <th>id</th>\n",
       "      <th>imdb_id</th>\n",
       "      <th>adult</th>\n",
       "      <th>belongs_to_collection</th>\n",
       "      <th>budget</th>\n",
       "      <th>originally_english</th>\n",
       "      <th>overview</th>\n",
       "      <th>popularity</th>\n",
       "      <th>production_companies</th>\n",
       "      <th>...</th>\n",
       "      <th>zu</th>\n",
       "      <th>canceled</th>\n",
       "      <th>in-production</th>\n",
       "      <th>planned</th>\n",
       "      <th>post-production</th>\n",
       "      <th>released</th>\n",
       "      <th>rumored</th>\n",
       "      <th>cast_names</th>\n",
       "      <th>crew_names</th>\n",
       "      <th>description</th>\n",
       "    </tr>\n",
       "  </thead>\n",
       "  <tbody>\n",
       "    <tr>\n",
       "      <th>0</th>\n",
       "      <td>0</td>\n",
       "      <td>862</td>\n",
       "      <td>tt0114709</td>\n",
       "      <td>0</td>\n",
       "      <td>1</td>\n",
       "      <td>30000000</td>\n",
       "      <td>1</td>\n",
       "      <td>led woodi andi toy live happili room andi birt...</td>\n",
       "      <td>21.946943</td>\n",
       "      <td>pixar animation studios</td>\n",
       "      <td>...</td>\n",
       "      <td>0</td>\n",
       "      <td>0</td>\n",
       "      <td>0</td>\n",
       "      <td>0</td>\n",
       "      <td>0</td>\n",
       "      <td>1</td>\n",
       "      <td>0</td>\n",
       "      <td>johnratzenberger rleeermey donrickles erikvond...</td>\n",
       "      <td>annmrockwell jeffpratt ashbrannon mickiemcgowa...</td>\n",
       "      <td>boy next door boy friendship friend rivalri to...</td>\n",
       "    </tr>\n",
       "    <tr>\n",
       "      <th>1</th>\n",
       "      <td>1</td>\n",
       "      <td>8844</td>\n",
       "      <td>tt0113497</td>\n",
       "      <td>0</td>\n",
       "      <td>0</td>\n",
       "      <td>65000000</td>\n",
       "      <td>1</td>\n",
       "      <td>sibl judi peter discov enchant board game open...</td>\n",
       "      <td>17.015539</td>\n",
       "      <td>interscope communications teitler film tristar...</td>\n",
       "      <td>...</td>\n",
       "      <td>0</td>\n",
       "      <td>0</td>\n",
       "      <td>0</td>\n",
       "      <td>0</td>\n",
       "      <td>0</td>\n",
       "      <td>1</td>\n",
       "      <td>0</td>\n",
       "      <td>bonniehunt laurabellbundy jameshandy gillianba...</td>\n",
       "      <td>gregtaylor thomaseackerman williamteitler robe...</td>\n",
       "      <td>base children book board game giant insect new...</td>\n",
       "    </tr>\n",
       "    <tr>\n",
       "      <th>2</th>\n",
       "      <td>2</td>\n",
       "      <td>15602</td>\n",
       "      <td>tt0113228</td>\n",
       "      <td>0</td>\n",
       "      <td>1</td>\n",
       "      <td>0</td>\n",
       "      <td>1</td>\n",
       "      <td>famili wed reignit ancient feud nextdoor neigh...</td>\n",
       "      <td>11.712900</td>\n",
       "      <td>warner bros. lancaster gate</td>\n",
       "      <td>...</td>\n",
       "      <td>0</td>\n",
       "      <td>0</td>\n",
       "      <td>0</td>\n",
       "      <td>0</td>\n",
       "      <td>0</td>\n",
       "      <td>1</td>\n",
       "      <td>0</td>\n",
       "      <td>burgessmeredith annmargret darylhannah jacklem...</td>\n",
       "      <td>jackkeller howarddeutch markstevenjohnson</td>\n",
       "      <td>best friend old men duringcreditssting fish</td>\n",
       "    </tr>\n",
       "    <tr>\n",
       "      <th>3</th>\n",
       "      <td>3</td>\n",
       "      <td>31357</td>\n",
       "      <td>tt0114885</td>\n",
       "      <td>0</td>\n",
       "      <td>0</td>\n",
       "      <td>16000000</td>\n",
       "      <td>1</td>\n",
       "      <td>cheat mistreat step women hold breath wait elu...</td>\n",
       "      <td>3.859495</td>\n",
       "      <td>twentieth century fox film corporation</td>\n",
       "      <td>...</td>\n",
       "      <td>0</td>\n",
       "      <td>0</td>\n",
       "      <td>0</td>\n",
       "      <td>0</td>\n",
       "      <td>0</td>\n",
       "      <td>1</td>\n",
       "      <td>0</td>\n",
       "      <td>lamontjohnson angelabassett lelarochon whitney...</td>\n",
       "      <td>deborahschindler ezraswerdlow forestwhitaker c...</td>\n",
       "      <td>interraci relationship chick flick divorc sing...</td>\n",
       "    </tr>\n",
       "    <tr>\n",
       "      <th>4</th>\n",
       "      <td>4</td>\n",
       "      <td>11862</td>\n",
       "      <td>tt0113041</td>\n",
       "      <td>0</td>\n",
       "      <td>1</td>\n",
       "      <td>0</td>\n",
       "      <td>1</td>\n",
       "      <td>georg bank recov daughter wed receiv news she ...</td>\n",
       "      <td>8.387519</td>\n",
       "      <td>touchstone pictures sandollar productions</td>\n",
       "      <td>...</td>\n",
       "      <td>0</td>\n",
       "      <td>0</td>\n",
       "      <td>0</td>\n",
       "      <td>0</td>\n",
       "      <td>0</td>\n",
       "      <td>1</td>\n",
       "      <td>0</td>\n",
       "      <td>janeadams kieranculkin stevemartin lorialan ki...</td>\n",
       "      <td>adambernardi nancymeyers elliotdavis alansilve...</td>\n",
       "      <td>gynecologist daughter pregnanc midlif crisi ba...</td>\n",
       "    </tr>\n",
       "  </tbody>\n",
       "</table>\n",
       "<p>5 rows × 180 columns</p>\n",
       "</div>"
      ],
      "text/plain": [
       "   Unnamed: 0     id    imdb_id  adult  belongs_to_collection    budget  \\\n",
       "0           0    862  tt0114709      0                      1  30000000   \n",
       "1           1   8844  tt0113497      0                      0  65000000   \n",
       "2           2  15602  tt0113228      0                      1         0   \n",
       "3           3  31357  tt0114885      0                      0  16000000   \n",
       "4           4  11862  tt0113041      0                      1         0   \n",
       "\n",
       "   originally_english                                           overview  \\\n",
       "0                   1  led woodi andi toy live happili room andi birt...   \n",
       "1                   1  sibl judi peter discov enchant board game open...   \n",
       "2                   1  famili wed reignit ancient feud nextdoor neigh...   \n",
       "3                   1  cheat mistreat step women hold breath wait elu...   \n",
       "4                   1  georg bank recov daughter wed receiv news she ...   \n",
       "\n",
       "   popularity                               production_companies  ... zu  \\\n",
       "0   21.946943                            pixar animation studios  ...  0   \n",
       "1   17.015539  interscope communications teitler film tristar...  ...  0   \n",
       "2   11.712900                        warner bros. lancaster gate  ...  0   \n",
       "3    3.859495             twentieth century fox film corporation  ...  0   \n",
       "4    8.387519          touchstone pictures sandollar productions  ...  0   \n",
       "\n",
       "   canceled  in-production planned post-production  released  rumored  \\\n",
       "0         0              0       0               0         1        0   \n",
       "1         0              0       0               0         1        0   \n",
       "2         0              0       0               0         1        0   \n",
       "3         0              0       0               0         1        0   \n",
       "4         0              0       0               0         1        0   \n",
       "\n",
       "                                          cast_names  \\\n",
       "0  johnratzenberger rleeermey donrickles erikvond...   \n",
       "1  bonniehunt laurabellbundy jameshandy gillianba...   \n",
       "2  burgessmeredith annmargret darylhannah jacklem...   \n",
       "3  lamontjohnson angelabassett lelarochon whitney...   \n",
       "4  janeadams kieranculkin stevemartin lorialan ki...   \n",
       "\n",
       "                                          crew_names  \\\n",
       "0  annmrockwell jeffpratt ashbrannon mickiemcgowa...   \n",
       "1  gregtaylor thomaseackerman williamteitler robe...   \n",
       "2          jackkeller howarddeutch markstevenjohnson   \n",
       "3  deborahschindler ezraswerdlow forestwhitaker c...   \n",
       "4  adambernardi nancymeyers elliotdavis alansilve...   \n",
       "\n",
       "                                         description  \n",
       "0  boy next door boy friendship friend rivalri to...  \n",
       "1  base children book board game giant insect new...  \n",
       "2        best friend old men duringcreditssting fish  \n",
       "3  interraci relationship chick flick divorc sing...  \n",
       "4  gynecologist daughter pregnanc midlif crisi ba...  \n",
       "\n",
       "[5 rows x 180 columns]"
      ]
     },
     "execution_count": 14,
     "metadata": {},
     "output_type": "execute_result"
    }
   ],
   "source": [
    "# inspect first five rows\n",
    "movies_df.head()"
   ]
  },
  {
   "cell_type": "markdown",
   "id": "b032fd2b-7287-4b69-874f-20de3ac52046",
   "metadata": {},
   "source": [
    "### Step 4: Pre-process ratings data"
   ]
  },
  {
   "cell_type": "markdown",
   "id": "4f945df7-e099-4836-b6b4-5dabf23a6955",
   "metadata": {},
   "source": [
    "#### Add imdbId field to ratings_df"
   ]
  },
  {
   "cell_type": "code",
   "execution_count": 15,
   "id": "53a24699-e61e-48e4-a1de-9062efb257a3",
   "metadata": {},
   "outputs": [],
   "source": [
    "# set movieId as index on links_df\n",
    "links_df.set_index('movieId', inplace=True)"
   ]
  },
  {
   "cell_type": "code",
   "execution_count": 16,
   "id": "c9c5f23d-a541-405d-ab1b-e622adae462d",
   "metadata": {},
   "outputs": [],
   "source": [
    "# set userId and movieId as indexes on ratings_df\n",
    "ratings_df.set_index(['userId', 'movieId'], inplace=True)"
   ]
  },
  {
   "cell_type": "code",
   "execution_count": 17,
   "id": "20a17b1d-9110-40a6-b89d-89c39a287880",
   "metadata": {},
   "outputs": [],
   "source": [
    "# insert imdbId and tmdbId fields on ratings_df left joining with links_df on movieId index\n",
    "ratings_df = ratings_df.join(links_df, on='movieId', how='left').reset_index()"
   ]
  },
  {
   "cell_type": "code",
   "execution_count": 18,
   "id": "a1e48ffd-c44f-42f5-a51b-6443d6f52032",
   "metadata": {},
   "outputs": [],
   "source": [
    "# drop tmdbId\n",
    "ratings_df.drop('tmdbId', axis=1, inplace=True)"
   ]
  },
  {
   "cell_type": "code",
   "execution_count": 19,
   "id": "6588cb7a-86b8-4907-9bd8-dbdc8e00157b",
   "metadata": {},
   "outputs": [
    {
     "data": {
      "text/plain": [
       "(26024289, 5)"
      ]
     },
     "execution_count": 19,
     "metadata": {},
     "output_type": "execute_result"
    }
   ],
   "source": [
    "# print dataframe shape\n",
    "ratings_df.shape"
   ]
  },
  {
   "cell_type": "code",
   "execution_count": 20,
   "id": "4f993ebd-fab9-471f-ad68-22a94dcaa234",
   "metadata": {},
   "outputs": [
    {
     "data": {
      "text/plain": [
       "Index(['userId', 'movieId', 'rating', 'timestamp', 'imdbId'], dtype='object')"
      ]
     },
     "execution_count": 20,
     "metadata": {},
     "output_type": "execute_result"
    }
   ],
   "source": [
    "# print dataframe columns\n",
    "ratings_df.columns"
   ]
  },
  {
   "cell_type": "code",
   "execution_count": 21,
   "id": "0cfd736e-0e0d-4992-a55a-99bd4c068a1c",
   "metadata": {},
   "outputs": [
    {
     "data": {
      "text/html": [
       "<div>\n",
       "<style scoped>\n",
       "    .dataframe tbody tr th:only-of-type {\n",
       "        vertical-align: middle;\n",
       "    }\n",
       "\n",
       "    .dataframe tbody tr th {\n",
       "        vertical-align: top;\n",
       "    }\n",
       "\n",
       "    .dataframe thead th {\n",
       "        text-align: right;\n",
       "    }\n",
       "</style>\n",
       "<table border=\"1\" class=\"dataframe\">\n",
       "  <thead>\n",
       "    <tr style=\"text-align: right;\">\n",
       "      <th></th>\n",
       "      <th>userId</th>\n",
       "      <th>movieId</th>\n",
       "      <th>rating</th>\n",
       "      <th>timestamp</th>\n",
       "      <th>imdbId</th>\n",
       "    </tr>\n",
       "  </thead>\n",
       "  <tbody>\n",
       "    <tr>\n",
       "      <th>0</th>\n",
       "      <td>1</td>\n",
       "      <td>110</td>\n",
       "      <td>1.0</td>\n",
       "      <td>1425941529</td>\n",
       "      <td>112573</td>\n",
       "    </tr>\n",
       "    <tr>\n",
       "      <th>1</th>\n",
       "      <td>1</td>\n",
       "      <td>147</td>\n",
       "      <td>4.5</td>\n",
       "      <td>1425942435</td>\n",
       "      <td>112461</td>\n",
       "    </tr>\n",
       "    <tr>\n",
       "      <th>2</th>\n",
       "      <td>1</td>\n",
       "      <td>858</td>\n",
       "      <td>5.0</td>\n",
       "      <td>1425941523</td>\n",
       "      <td>68646</td>\n",
       "    </tr>\n",
       "    <tr>\n",
       "      <th>3</th>\n",
       "      <td>1</td>\n",
       "      <td>1221</td>\n",
       "      <td>5.0</td>\n",
       "      <td>1425941546</td>\n",
       "      <td>71562</td>\n",
       "    </tr>\n",
       "    <tr>\n",
       "      <th>4</th>\n",
       "      <td>1</td>\n",
       "      <td>1246</td>\n",
       "      <td>5.0</td>\n",
       "      <td>1425941556</td>\n",
       "      <td>97165</td>\n",
       "    </tr>\n",
       "  </tbody>\n",
       "</table>\n",
       "</div>"
      ],
      "text/plain": [
       "   userId  movieId  rating   timestamp  imdbId\n",
       "0       1      110     1.0  1425941529  112573\n",
       "1       1      147     4.5  1425942435  112461\n",
       "2       1      858     5.0  1425941523   68646\n",
       "3       1     1221     5.0  1425941546   71562\n",
       "4       1     1246     5.0  1425941556   97165"
      ]
     },
     "execution_count": 21,
     "metadata": {},
     "output_type": "execute_result"
    }
   ],
   "source": [
    "# inspect first five rows\n",
    "ratings_df.head()"
   ]
  },
  {
   "cell_type": "markdown",
   "id": "3bcde3b7-8d60-492a-9e8e-4d92c43af8fe",
   "metadata": {},
   "source": [
    "#### Binarize ratings"
   ]
  },
  {
   "cell_type": "markdown",
   "id": "16980efa-d5ba-4c67-93bf-e32568ad99e9",
   "metadata": {},
   "source": [
    "Define **binarize_ratings** function"
   ]
  },
  {
   "cell_type": "code",
   "execution_count": 22,
   "id": "9ac97a95-4827-4986-b643-9a12a6dbc9c5",
   "metadata": {},
   "outputs": [],
   "source": [
    "def binarize_ratings(ratings_df, threshold=4):\n",
    "    \n",
    "    '''Binarize ratings:\n",
    "    - 1 for ratings equal or above threshold\n",
    "    - 0 for ratings below threshold\n",
    "    params: ratings_df, threshold\n",
    "    return: ratings_df with binarized ratings\n",
    "    '''\n",
    "    \n",
    "    # binarize ratings field\n",
    "    ratings_df['rating'] = ratings_df['rating'].apply(lambda x: 1 if x >= 4 else 0)\n",
    "    \n",
    "    return ratings_df"
   ]
  },
  {
   "cell_type": "markdown",
   "id": "9fd9053e-3a41-4487-bc06-4a4b502f7418",
   "metadata": {},
   "source": [
    "The ratings frequency are **equally split between <4 and >=4**."
   ]
  },
  {
   "cell_type": "code",
   "execution_count": 23,
   "id": "deac10f2-aa56-4aa8-884b-c9391280db9b",
   "metadata": {},
   "outputs": [],
   "source": [
    "# apply binarize function to ratings_df\n",
    "ratings_df = binarize_ratings(ratings_df)"
   ]
  },
  {
   "cell_type": "code",
   "execution_count": 24,
   "id": "c81cdec7-95cb-4508-83c0-c4e87c3b2bc1",
   "metadata": {},
   "outputs": [
    {
     "data": {
      "text/plain": [
       "0    0.501168\n",
       "1    0.498832\n",
       "Name: rating, dtype: float64"
      ]
     },
     "execution_count": 24,
     "metadata": {},
     "output_type": "execute_result"
    }
   ],
   "source": [
    "# inspect binarized ratings frequency\n",
    "ratings_df.rating.value_counts(normalize=True)"
   ]
  },
  {
   "cell_type": "markdown",
   "id": "638b4ed9-20c6-4c1f-a546-57fa0c9a5970",
   "metadata": {},
   "source": [
    "### Step 5: Evaluate keys to join ratings with movies data"
   ]
  },
  {
   "cell_type": "markdown",
   "id": "6d2ce1ce-186d-450a-9fd4-5658cb01e009",
   "metadata": {},
   "source": [
    "#### Evaluate movieId"
   ]
  },
  {
   "cell_type": "markdown",
   "id": "db9c728f-f946-43ce-bd3d-04a7620a71a8",
   "metadata": {},
   "source": [
    "The movieId **do not seem to be an effective key** to join the datasets."
   ]
  },
  {
   "cell_type": "code",
   "execution_count": 25,
   "id": "67420ac2-e9b9-4322-897b-619f5c2fe5de",
   "metadata": {},
   "outputs": [
    {
     "name": "stdout",
     "output_type": "stream",
     "text": [
      "There are 45115 unique movies rated in the ratings_df.\n"
     ]
    }
   ],
   "source": [
    "rated_movies = ratings_df.movieId.unique()\n",
    "print('There are {} unique movies rated in the ratings_df.'.format(len(rated_movies)))"
   ]
  },
  {
   "cell_type": "code",
   "execution_count": 26,
   "id": "b5ef7211-5386-4e1e-8991-4d8e306ed75f",
   "metadata": {},
   "outputs": [
    {
     "name": "stdout",
     "output_type": "stream",
     "text": [
      "There are 45430 unique movies represented in the movies_df.\n"
     ]
    }
   ],
   "source": [
    "repr_movies = movies_df.id.unique()\n",
    "print('There are {} unique movies represented in the movies_df.'.format(len(repr_movies)))"
   ]
  },
  {
   "cell_type": "code",
   "execution_count": 27,
   "id": "dd7596e9-cb36-4a68-b5f7-f3036031314c",
   "metadata": {},
   "outputs": [
    {
     "name": "stdout",
     "output_type": "stream",
     "text": [
      "There are 37550 movies in the ratings_df not in the movies_df.\n"
     ]
    },
    {
     "data": {
      "text/plain": [
       "array([  1221,   2918,   4878, ..., 165649, 171051, 171221], dtype=int64)"
      ]
     },
     "execution_count": 27,
     "metadata": {},
     "output_type": "execute_result"
    }
   ],
   "source": [
    "rated_not_in_repr = rated_movies[~np.isin(rated_movies, repr_movies)]\n",
    "print('There are {} movies in the ratings_df not in the movies_df.'.format(len(rated_not_in_repr)))\n",
    "rated_not_in_repr"
   ]
  },
  {
   "cell_type": "code",
   "execution_count": 28,
   "id": "373023ef-d06e-435b-910b-04b5c36712d5",
   "metadata": {},
   "outputs": [
    {
     "name": "stdout",
     "output_type": "stream",
     "text": [
      "There are 37865 movies in the movies_df not in the ratings_df.\n"
     ]
    },
    {
     "data": {
      "text/plain": [
       "array([ 15602,  31357,  11862, ...,  67758, 227506, 461257], dtype=int64)"
      ]
     },
     "execution_count": 28,
     "metadata": {},
     "output_type": "execute_result"
    }
   ],
   "source": [
    "repr_not_in_rated = repr_movies[~np.isin(repr_movies, rated_movies)]\n",
    "print('There are {} movies in the movies_df not in the ratings_df.'.format(len(repr_not_in_rated)))\n",
    "repr_not_in_rated"
   ]
  },
  {
   "cell_type": "markdown",
   "id": "aad3c1c9-4649-400f-9df7-c3c22549320b",
   "metadata": {},
   "source": [
    "#### Try with imdb_id instead"
   ]
  },
  {
   "cell_type": "markdown",
   "id": "32d49564-1e10-44ab-89c2-2b755a907bbe",
   "metadata": {},
   "source": [
    "##### Inspect and clean imdb_id field in movies_df"
   ]
  },
  {
   "cell_type": "code",
   "execution_count": 29,
   "id": "01cea468-2146-42d3-985e-582749a8ea79",
   "metadata": {},
   "outputs": [
    {
     "name": "stdout",
     "output_type": "stream",
     "text": [
      "Missing values:  0\n",
      "Unknow values:  17\n"
     ]
    },
    {
     "data": {
      "text/plain": [
       "8966     unkown\n",
       "13758    unkown\n",
       "13822    unkown\n",
       "17383    unkown\n",
       "17511    unkown\n",
       "18960    unkown\n",
       "19323    unkown\n",
       "20805    unkown\n",
       "20936    unkown\n",
       "21915    unkown\n",
       "22986    unkown\n",
       "23743    unkown\n",
       "33752    unkown\n",
       "36952    unkown\n",
       "40807    unkown\n",
       "41830    unkown\n",
       "45068    unkown\n",
       "Name: imdb_id, dtype: object"
      ]
     },
     "execution_count": 29,
     "metadata": {},
     "output_type": "execute_result"
    }
   ],
   "source": [
    "# no missing values on movies_df imdbd_id...\n",
    "print('Missing values: ', movies_df['imdb_id'].isna().sum())\n",
    "# ...but 17 unknown values\n",
    "unknown = movies_df['imdb_id'][~movies_df['imdb_id'].str.contains('^tt')]\n",
    "print('Unknow values: ', len(unknown))\n",
    "unknown"
   ]
  },
  {
   "cell_type": "code",
   "execution_count": 30,
   "id": "61fa7ab3-70f4-47b6-bf04-d243d0aa2033",
   "metadata": {},
   "outputs": [],
   "source": [
    "def clean_imdb_id(movies_df):\n",
    "    \"\"\"Drop rows with unknow values from df,\n",
    "    remove 'tt' and cast into numerical values\"\"\"\n",
    "    \n",
    "    # drop lines with unknown values\n",
    "    movies_df = movies_df[movies_df['imdb_id'].str.contains('^tt')]\n",
    "    \n",
    "    # convert to numeric format to allow join with ratings_df\n",
    "    movies_df['imdb_id'] = movies_df['imdb_id'].apply(lambda x: x[3:]).astype('int64')\n",
    "    \n",
    "    return movies_df"
   ]
  },
  {
   "cell_type": "code",
   "execution_count": 31,
   "id": "e545f463-0c32-4642-b6f5-4a2ad31385d0",
   "metadata": {},
   "outputs": [
    {
     "name": "stderr",
     "output_type": "stream",
     "text": [
      "C:\\ProgramData\\Anaconda3\\lib\\site-packages\\ipykernel_launcher.py:9: SettingWithCopyWarning: \n",
      "A value is trying to be set on a copy of a slice from a DataFrame.\n",
      "Try using .loc[row_indexer,col_indexer] = value instead\n",
      "\n",
      "See the caveats in the documentation: https://pandas.pydata.org/pandas-docs/stable/user_guide/indexing.html#returning-a-view-versus-a-copy\n",
      "  if __name__ == '__main__':\n"
     ]
    }
   ],
   "source": [
    "# apply this function to convert the imdb_id field to numbers\n",
    "movies_df = clean_imdb_id(movies_df)"
   ]
  },
  {
   "cell_type": "markdown",
   "id": "918b723f-7c38-4bec-bd60-39467ce7b4e0",
   "metadata": {},
   "source": [
    "##### Evaluate imdb_id"
   ]
  },
  {
   "cell_type": "code",
   "execution_count": 32,
   "id": "c9892acb-6aac-4dee-8604-cbbbd55d538b",
   "metadata": {},
   "outputs": [
    {
     "name": "stdout",
     "output_type": "stream",
     "text": [
      "There are 45115 unique movies rated in the ratings_df. \n",
      "\n",
      "The minimum imdb_id is 1.\n",
      "The maximum imbd_id is 7158814.\n",
      "There are 15431 imdb_ids above 1,000,000.\n"
     ]
    }
   ],
   "source": [
    "rated_movies = ratings_df.imdbId.unique()\n",
    "print('There are {} unique movies rated in the ratings_df.'.format(len(rated_movies)), '\\n')\n",
    "print('The minimum imdb_id is {}.'.format(rated_movies.min()))\n",
    "print('The maximum imbd_id is {}.'.format(rated_movies.max()))\n",
    "print('There are {} imdb_ids above 1,000,000.'.format((rated_movies>1000000).sum()))"
   ]
  },
  {
   "cell_type": "code",
   "execution_count": 33,
   "id": "904895bb-e25e-461e-ac8e-98c7ca91de40",
   "metadata": {},
   "outputs": [
    {
     "name": "stdout",
     "output_type": "stream",
     "text": [
      "There are 44762 unique movies represented in the movies_df. \n",
      "\n",
      "The minimum imdb_id is 1.\n",
      "The maximum imbd_id is 999995.\n",
      "There are 0 imdb_ids above 1,000,000.\n"
     ]
    }
   ],
   "source": [
    "repr_movies = movies_df.imdb_id.unique()\n",
    "print('There are {} unique movies represented in the movies_df.'.format(len(repr_movies)), '\\n')\n",
    "print('The minimum imdb_id is {}.'.format(repr_movies.min()))\n",
    "print('The maximum imbd_id is {}.'.format(repr_movies.max()))\n",
    "print('There are {} imdb_ids above 1,000,000.'.format((repr_movies>1000000).sum()))"
   ]
  },
  {
   "cell_type": "code",
   "execution_count": 34,
   "id": "c3d5dc99-8c5b-4b8a-b1c9-22d55430c67c",
   "metadata": {},
   "outputs": [
    {
     "name": "stdout",
     "output_type": "stream",
     "text": [
      "There are 15716 movies in the ratings_df not in the movies_df. \n",
      "\n",
      "15431 of them are imdb_ids above 1,000,000.\n"
     ]
    },
    {
     "data": {
      "text/plain": [
       "array([1392170, 1515091, 1645080, ..., 1119178, 3731196, 4287348],\n",
       "      dtype=int64)"
      ]
     },
     "execution_count": 34,
     "metadata": {},
     "output_type": "execute_result"
    }
   ],
   "source": [
    "rated_not_in_repr = rated_movies[~np.isin(rated_movies, repr_movies)]\n",
    "print('There are {} movies in the ratings_df not in the movies_df.'.format(len(rated_not_in_repr)), '\\n')\n",
    "print('{} of them are imdb_ids above 1,000,000.'.format((rated_not_in_repr>1000000).sum()))\n",
    "rated_not_in_repr"
   ]
  },
  {
   "cell_type": "code",
   "execution_count": 35,
   "id": "1e2df12f-b0e2-4166-b302-149dada89ef3",
   "metadata": {},
   "outputs": [
    {
     "name": "stdout",
     "output_type": "stream",
     "text": [
      "There are 15363 movies in the movies_df not in the ratings_df.\n"
     ]
    },
    {
     "data": {
      "text/plain": [
       "array([333373, 684935, 250194, ..., 209470,  28550, 980792], dtype=int64)"
      ]
     },
     "execution_count": 35,
     "metadata": {},
     "output_type": "execute_result"
    }
   ],
   "source": [
    "repr_not_in_rated = repr_movies[~np.isin(repr_movies, rated_movies)]\n",
    "print('There are {} movies in the movies_df not in the ratings_df.'.format(len(repr_not_in_rated)))\n",
    "repr_not_in_rated"
   ]
  },
  {
   "cell_type": "markdown",
   "id": "1c0340f9-ac2b-49d5-96ec-94b5a22e9c34",
   "metadata": {},
   "source": [
    "#### Drop non-matching movies from both datasets"
   ]
  },
  {
   "cell_type": "code",
   "execution_count": 36,
   "id": "6e3ebf0e-6057-4635-b05c-5d4686f43867",
   "metadata": {},
   "outputs": [],
   "source": [
    "def drop_non_matching_movies(ratings_df, movies_df):\n",
    "    \"\"\"Drop rows with non matching movies\"\"\"\n",
    "    \n",
    "    # unique movies in ratings_df\n",
    "    rated_movies = ratings_df.imdbId.unique()\n",
    "    # unique movies in movies_df\n",
    "    repr_movies = movies_df.imdb_id.unique()\n",
    "    # find the intersection\n",
    "    commom_movies = np.intersect1d(rated_movies, repr_movies)\n",
    "    # filter ratings_df with movies in the intersection\n",
    "    ratings_df = ratings_df[np.isin(ratings_df.imdbId.values, commom_movies)]\n",
    "    # filter movies_df with movies in the intersection\n",
    "    movies_df = movies_df[np.isin(movies_df.imdb_id.values, commom_movies)]\n",
    "    \n",
    "    return ratings_df, movies_df"
   ]
  },
  {
   "cell_type": "code",
   "execution_count": 37,
   "id": "f40f9d91-b056-4afa-a93d-fb6b0aae8fe8",
   "metadata": {},
   "outputs": [],
   "source": [
    "# apply this function to drop non-matching movies from datasets\n",
    "ratings_df, movies_df = drop_non_matching_movies(ratings_df, movies_df)"
   ]
  },
  {
   "cell_type": "markdown",
   "id": "e71cd1da-5841-44e5-a3ac-085783d8baa1",
   "metadata": {},
   "source": [
    "We dropped **2,066,809 rows** (out of 26,024,289) in the **ratings_df**."
   ]
  },
  {
   "cell_type": "code",
   "execution_count": 38,
   "id": "9ca7810a-26bf-4e1a-9e1c-3cd96f91e013",
   "metadata": {},
   "outputs": [
    {
     "name": "stdout",
     "output_type": "stream",
     "text": [
      "There are now 23957480 records in the ratings_df.\n"
     ]
    }
   ],
   "source": [
    "print('There are now {} records in the ratings_df.'.format(ratings_df.shape[0]))"
   ]
  },
  {
   "cell_type": "code",
   "execution_count": 39,
   "id": "f88eae29-cb3b-46a4-9e09-8efd6db1c335",
   "metadata": {},
   "outputs": [
    {
     "name": "stdout",
     "output_type": "stream",
     "text": [
      "There are now 29399 unique movies rated in the ratings_df.\n"
     ]
    }
   ],
   "source": [
    "print('There are now {} unique movies rated in the ratings_df.'.format(len(ratings_df.imdbId.unique())))"
   ]
  },
  {
   "cell_type": "markdown",
   "id": "c8ff5f88-be8f-4e2c-847f-ee235a70973d",
   "metadata": {},
   "source": [
    "We dropped **15,500 rows** (out of 45,464) in the **movies_df**."
   ]
  },
  {
   "cell_type": "code",
   "execution_count": 40,
   "id": "7484926d-d2f5-45c9-8a15-e2071eef39f0",
   "metadata": {},
   "outputs": [
    {
     "name": "stdout",
     "output_type": "stream",
     "text": [
      "There are now 29964 records in the movies_df.\n"
     ]
    }
   ],
   "source": [
    "print('There are now {} records in the movies_df.'.format(movies_df.shape[0]))"
   ]
  },
  {
   "cell_type": "code",
   "execution_count": 41,
   "id": "bf4db43d-0742-4aab-8fe6-a9515a0a426c",
   "metadata": {},
   "outputs": [
    {
     "name": "stdout",
     "output_type": "stream",
     "text": [
      "There are now 29399 unique movies rated in the movies_df.\n"
     ]
    }
   ],
   "source": [
    "print('There are now {} unique movies rated in the movies_df.'.format(len(movies_df.imdb_id.unique())))"
   ]
  },
  {
   "cell_type": "markdown",
   "id": "75b1f1b3-27c2-4caa-a547-b4e1026cd0fa",
   "metadata": {},
   "source": [
    "### Step 6: Filter users with a minimum number of ratings"
   ]
  },
  {
   "cell_type": "markdown",
   "id": "2ae2863c-ae58-4f36-a355-db362da369ec",
   "metadata": {},
   "source": [
    "Define **filter_users** function"
   ]
  },
  {
   "cell_type": "code",
   "execution_count": 42,
   "id": "bd665dcf-24dd-404f-8494-a587a50c9fbc",
   "metadata": {},
   "outputs": [],
   "source": [
    "def filter_users(ratings_df, min_ratings=30):\n",
    "    \n",
    "    '''Filter users with num_ratings equal or above [min_ratings]\n",
    "    params: ratings_df, min_rating\n",
    "    return: filtered_ratings_df\n",
    "    '''\n",
    "    \n",
    "    # filter userIDs with count of ratings equal or above min_ratings\n",
    "    filtered_ratings_df = ratings_df.groupby('userId', sort=False).filter(lambda x: len(x) >= min_ratings)\n",
    "    \n",
    "    return filtered_ratings_df"
   ]
  },
  {
   "cell_type": "markdown",
   "id": "743a08e8-8263-4491-96bb-3518ceb1f4b1",
   "metadata": {},
   "source": [
    "We filtered users with **less than 30 ratings** resulting in a filtered dataset with **131,880 users** (out of 270,177) and **29,232 movies** (out of 29,399)."
   ]
  },
  {
   "cell_type": "code",
   "execution_count": 43,
   "id": "c50d44cb-1cb2-4968-b7ee-f59155ed23b4",
   "metadata": {},
   "outputs": [
    {
     "name": "stdout",
     "output_type": "stream",
     "text": [
      "Filtered number of users: 131880\n",
      "Total number of users: 270177\n"
     ]
    }
   ],
   "source": [
    "filtered_ratings_df = filter_users(ratings_df, min_ratings=30)\n",
    "print('Filtered number of users:',filtered_ratings_df.userId.unique().shape[0])\n",
    "print('Total number of users:', ratings_df.userId.unique().shape[0])"
   ]
  },
  {
   "cell_type": "code",
   "execution_count": 44,
   "id": "33e501e2-4652-4e09-92ae-488698d3d506",
   "metadata": {},
   "outputs": [
    {
     "name": "stdout",
     "output_type": "stream",
     "text": [
      "Filtered number of movies: 29232\n",
      "Total number of movies: 29399\n"
     ]
    }
   ],
   "source": [
    "print('Filtered number of movies:',filtered_ratings_df.imdbId.unique().shape[0])\n",
    "print('Total number of movies:',ratings_df.imdbId.unique().shape[0])"
   ]
  },
  {
   "cell_type": "markdown",
   "id": "0a22227a-fdd8-45f6-8706-7767074bb8a4",
   "metadata": {},
   "source": [
    "### Step 7: Save clean and filtered datasets to a csv file"
   ]
  },
  {
   "cell_type": "code",
   "execution_count": null,
   "id": "104c4e00-c2da-4fd1-9cd3-1767eef1b127",
   "metadata": {},
   "outputs": [],
   "source": [
    "# write this final dataset to a csv file\n",
    "filtered_ratings_df.to_csv('C:/Users/lbros/Documents/MIDS/W207/final_project/clean_data/ratings_final.csv')"
   ]
  },
  {
   "cell_type": "code",
   "execution_count": null,
   "id": "7e8a4bb3-97b4-403f-92b4-84570f2f27ae",
   "metadata": {},
   "outputs": [],
   "source": [
    "# write this final dataset to a csv file\n",
    "movies_df.to_csv('C:/Users/lbros/Documents/MIDS/W207/final_project/clean_data/movies_final.csv')"
   ]
  }
 ],
 "metadata": {
  "kernelspec": {
   "display_name": "Python 3",
   "language": "python",
   "name": "python3"
  },
  "language_info": {
   "codemirror_mode": {
    "name": "ipython",
    "version": 3
   },
   "file_extension": ".py",
   "mimetype": "text/x-python",
   "name": "python",
   "nbconvert_exporter": "python",
   "pygments_lexer": "ipython3",
   "version": "3.7.7"
  }
 },
 "nbformat": 4,
 "nbformat_minor": 5
}
