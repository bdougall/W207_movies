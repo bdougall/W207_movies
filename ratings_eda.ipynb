{
 "cells": [
  {
   "cell_type": "markdown",
   "id": "e563f488-3afd-4d15-b993-d03d03c35d8d",
   "metadata": {},
   "source": [
    "### Step 1: Import packages"
   ]
  },
  {
   "cell_type": "code",
   "execution_count": 1,
   "id": "14d6566f-e083-4371-9e73-9df00024e11e",
   "metadata": {},
   "outputs": [],
   "source": [
    "import pandas as pd\n",
    "import numpy as np\n",
    "import matplotlib.pyplot as plt"
   ]
  },
  {
   "cell_type": "markdown",
   "id": "67998fd2-c07b-4d5b-8309-0a85d1025bfb",
   "metadata": {},
   "source": [
    "### Step 2: Define working directories"
   ]
  },
  {
   "cell_type": "code",
   "execution_count": 2,
   "id": "a0015320-7971-404e-858f-5d6ba2994ba8",
   "metadata": {},
   "outputs": [],
   "source": [
    "path_raw_data = 'C:/users/lbros/documents/mids/w207/final_project/raw_data/'\n",
    "path_clean_data = 'C:/users/lbros/documents/mids/w207/final_project/clean_data/'"
   ]
  },
  {
   "cell_type": "markdown",
   "id": "9b368aa6-68e6-454b-b718-95e88dccfc8f",
   "metadata": {},
   "source": [
    "### Step 3: Read data"
   ]
  },
  {
   "cell_type": "code",
   "execution_count": 3,
   "id": "074398d0-f808-41cd-bfca-4a8e4d755f76",
   "metadata": {},
   "outputs": [],
   "source": [
    "# import the datasets\n",
    "ratings_df = dev_train = pd.read_csv(path_raw_data + 'ratings.csv')"
   ]
  },
  {
   "cell_type": "markdown",
   "id": "6ab577af-ed9b-4975-8b0e-02b05073f99a",
   "metadata": {},
   "source": [
    "### Step 4: Explore the data"
   ]
  },
  {
   "cell_type": "markdown",
   "id": "60668983-995a-4647-a356-c13117891a50",
   "metadata": {},
   "source": [
    "#### Overview"
   ]
  },
  {
   "cell_type": "markdown",
   "id": "4e2247ed-68b5-4a88-910d-3760d8f1f89e",
   "metadata": {},
   "source": [
    "The ratings data has **26,024,289** ratings from **270,896 users** for **45,115 movies**.\n",
    "\n",
    "Ratings data variables:\n",
    "- **userId:** user identification\n",
    "- **movieID:** movie identification\n",
    "- **rating:** movie rating in a scale from 0 to 5 in intervals of 0.5\n",
    "- **timestamp:** timestamp of the rating\n",
    "\n",
    "There is **no-missing values**."
   ]
  },
  {
   "cell_type": "code",
   "execution_count": 4,
   "id": "d4b1b0bd-9b19-42eb-ae1d-6ea88a426d4e",
   "metadata": {},
   "outputs": [
    {
     "data": {
      "text/plain": [
       "(26024289, 4)"
      ]
     },
     "execution_count": 4,
     "metadata": {},
     "output_type": "execute_result"
    }
   ],
   "source": [
    "ratings_df.shape"
   ]
  },
  {
   "cell_type": "code",
   "execution_count": 5,
   "id": "cdf00d90-75f6-4aa4-9542-90af92c43c32",
   "metadata": {},
   "outputs": [
    {
     "data": {
      "text/plain": [
       "Index(['userId', 'movieId', 'rating', 'timestamp'], dtype='object')"
      ]
     },
     "execution_count": 5,
     "metadata": {},
     "output_type": "execute_result"
    }
   ],
   "source": [
    "ratings_df.columns"
   ]
  },
  {
   "cell_type": "code",
   "execution_count": 6,
   "id": "ef049a22-6761-48bd-bb05-249f1f79126c",
   "metadata": {},
   "outputs": [
    {
     "data": {
      "text/html": [
       "<div>\n",
       "<style scoped>\n",
       "    .dataframe tbody tr th:only-of-type {\n",
       "        vertical-align: middle;\n",
       "    }\n",
       "\n",
       "    .dataframe tbody tr th {\n",
       "        vertical-align: top;\n",
       "    }\n",
       "\n",
       "    .dataframe thead th {\n",
       "        text-align: right;\n",
       "    }\n",
       "</style>\n",
       "<table border=\"1\" class=\"dataframe\">\n",
       "  <thead>\n",
       "    <tr style=\"text-align: right;\">\n",
       "      <th></th>\n",
       "      <th>userId</th>\n",
       "      <th>movieId</th>\n",
       "      <th>rating</th>\n",
       "      <th>timestamp</th>\n",
       "    </tr>\n",
       "  </thead>\n",
       "  <tbody>\n",
       "    <tr>\n",
       "      <th>0</th>\n",
       "      <td>1</td>\n",
       "      <td>110</td>\n",
       "      <td>1.0</td>\n",
       "      <td>1425941529</td>\n",
       "    </tr>\n",
       "    <tr>\n",
       "      <th>1</th>\n",
       "      <td>1</td>\n",
       "      <td>147</td>\n",
       "      <td>4.5</td>\n",
       "      <td>1425942435</td>\n",
       "    </tr>\n",
       "    <tr>\n",
       "      <th>2</th>\n",
       "      <td>1</td>\n",
       "      <td>858</td>\n",
       "      <td>5.0</td>\n",
       "      <td>1425941523</td>\n",
       "    </tr>\n",
       "    <tr>\n",
       "      <th>3</th>\n",
       "      <td>1</td>\n",
       "      <td>1221</td>\n",
       "      <td>5.0</td>\n",
       "      <td>1425941546</td>\n",
       "    </tr>\n",
       "    <tr>\n",
       "      <th>4</th>\n",
       "      <td>1</td>\n",
       "      <td>1246</td>\n",
       "      <td>5.0</td>\n",
       "      <td>1425941556</td>\n",
       "    </tr>\n",
       "  </tbody>\n",
       "</table>\n",
       "</div>"
      ],
      "text/plain": [
       "   userId  movieId  rating   timestamp\n",
       "0       1      110     1.0  1425941529\n",
       "1       1      147     4.5  1425942435\n",
       "2       1      858     5.0  1425941523\n",
       "3       1     1221     5.0  1425941546\n",
       "4       1     1246     5.0  1425941556"
      ]
     },
     "execution_count": 6,
     "metadata": {},
     "output_type": "execute_result"
    }
   ],
   "source": [
    "ratings_df.head()"
   ]
  },
  {
   "cell_type": "code",
   "execution_count": 7,
   "id": "d94bb5c9-803c-4745-86f7-4c99323e54c3",
   "metadata": {},
   "outputs": [
    {
     "data": {
      "text/plain": [
       "270896"
      ]
     },
     "execution_count": 7,
     "metadata": {},
     "output_type": "execute_result"
    }
   ],
   "source": [
    "num_users = ratings_df.userId.unique().shape[0]\n",
    "num_users"
   ]
  },
  {
   "cell_type": "code",
   "execution_count": 8,
   "id": "1817b1eb-7d78-42fa-8185-59bc40e96eb9",
   "metadata": {},
   "outputs": [
    {
     "data": {
      "text/plain": [
       "45115"
      ]
     },
     "execution_count": 8,
     "metadata": {},
     "output_type": "execute_result"
    }
   ],
   "source": [
    "num_movies = ratings_df.movieId.unique().shape[0]\n",
    "num_movies"
   ]
  },
  {
   "cell_type": "code",
   "execution_count": 9,
   "id": "158cfad4-d812-4f1c-9b8a-51fa1eb55baf",
   "metadata": {},
   "outputs": [
    {
     "data": {
      "text/plain": [
       "userId       0\n",
       "movieId      0\n",
       "rating       0\n",
       "timestamp    0\n",
       "dtype: int64"
      ]
     },
     "execution_count": 9,
     "metadata": {},
     "output_type": "execute_result"
    }
   ],
   "source": [
    "pd.isnull(ratings_df).sum(axis=0)"
   ]
  },
  {
   "cell_type": "markdown",
   "id": "b26e5c39-f536-40f7-b693-45f1fe0a58bc",
   "metadata": {},
   "source": [
    "#### Distribution of Ratings per User"
   ]
  },
  {
   "cell_type": "markdown",
   "id": "96d6220c-642d-4047-a749-4bc649901a60",
   "metadata": {},
   "source": [
    "Half of the users have 30 or lower ratings."
   ]
  },
  {
   "cell_type": "code",
   "execution_count": 10,
   "id": "9bb7b6d6-f5dd-4c73-9723-3d38a2bd8e75",
   "metadata": {},
   "outputs": [
    {
     "data": {
      "image/png": "[encoded data removed]",
      "text/plain": [
       "<Figure size 432x288 with 1 Axes>"
      ]
     },
     "metadata": {},
     "output_type": "display_data"
    }
   ],
   "source": [
    "ratings_per_user = ratings_df.groupby('userId').count().rating\n",
    "fig = plt.figure(figsize=(6, 4), facecolor='white')\n",
    "ax = plt.subplot(111)\n",
    "ax.spines['top'].set_visible(False)\n",
    "ax.spines['right'].set_visible(False)\n",
    "ax.spines['bottom'].set_color('#C4B6BC')\n",
    "ax.spines['left'].set_color('#C4B6BC')\n",
    "ax.tick_params(axis='x', colors='#75686D')\n",
    "ax.tick_params(axis='y', colors='#75686D')\n",
    "ax.hist(ratings_per_user, bins=40, range=(0, 400), color='#8FADEA')\n",
    "plt.text(x=415, y=-4000, s='*95% percentil', fontsize=8, color='#C4B6BC', ha='left')\n",
    "plt.title('Distribution of Ratings per User', pad=20, fontsize=15, x=0.24, color='#75686D')\n",
    "plt.ylabel('Number of users', fontsize=12, labelpad=10, color='#75686D')\n",
    "plt.yticks(np.arange(0, 60000, step=10000))\n",
    "plt.ylim((0, 50000))\n",
    "plt.xlabel('Ratings per user', fontsize=12, labelpad=10, color='#75686D')\n",
    "plt.xticks(np.arange(0, 450, step=50))\n",
    "plt.xlim(0, 400)\n",
    "plt.show()"
   ]
  },
  {
   "cell_type": "code",
   "execution_count": 11,
   "id": "161bb446-e255-49a2-ab9b-bb17f3a2b39a",
   "metadata": {},
   "outputs": [
    {
     "data": {
      "text/plain": [
       "count    270896.0\n",
       "mean         96.1\n",
       "std         205.7\n",
       "min           1.0\n",
       "10%           6.0\n",
       "20%          13.0\n",
       "30%          16.0\n",
       "40%          20.0\n",
       "50%          30.0\n",
       "60%          46.0\n",
       "70%          72.0\n",
       "80%         119.0\n",
       "90%         236.0\n",
       "max       18276.0\n",
       "Name: rating, dtype: float64"
      ]
     },
     "execution_count": 11,
     "metadata": {},
     "output_type": "execute_result"
    }
   ],
   "source": [
    "round(ratings_per_user.describe(percentiles=np.arange(0.1, 1.0, step=0.1)), 1)"
   ]
  },
  {
   "cell_type": "markdown",
   "id": "d0fb7d6a-76d8-4e43-bc9a-0353d8dea2fc",
   "metadata": {},
   "source": [
    "#### Distribution of Ratings per Movie"
   ]
  },
  {
   "cell_type": "markdown",
   "id": "03f1b696-34b1-473c-b6f6-82dafe8c999b",
   "metadata": {},
   "source": [
    "Half of the movies have 8 or lower ratings."
   ]
  },
  {
   "cell_type": "code",
   "execution_count": 12,
   "id": "edd67453-699b-442c-90f9-7b70b9ec997a",
   "metadata": {},
   "outputs": [
    {
     "data": {
      "image/png": "[encoded data removed]",
      "text/plain": [
       "<Figure size 432x288 with 1 Axes>"
      ]
     },
     "metadata": {},
     "output_type": "display_data"
    }
   ],
   "source": [
    "ratings_per_movie = ratings_df.groupby('movieId').count().rating\n",
    "fig = plt.figure(figsize=(6, 4), facecolor='white')\n",
    "ax = plt.subplot(111)\n",
    "ax.spines['top'].set_visible(False)\n",
    "ax.spines['right'].set_visible(False)\n",
    "ax.spines['bottom'].set_color('#C4B6BC')\n",
    "ax.spines['left'].set_color('#C4B6BC')\n",
    "ax.tick_params(axis='x', colors='#75686D')\n",
    "ax.tick_params(axis='y', colors='#75686D')\n",
    "ax.hist(ratings_per_movie, bins=28, range=(0,700), color='#8FADEA')\n",
    "plt.text(x=730, y=-2100, s='*95% percentil', fontsize=8, color='#C4B6BC', ha='left')\n",
    "plt.title('Distribution of Ratings per Movie', pad=20, fontsize=15, x=0.26, color='#75686D')\n",
    "plt.ylabel('Number of movies', fontsize=12, labelpad=10, color='#75686D')\n",
    "plt.yticks(np.arange(0, 40000, step=5000))\n",
    "plt.ylim((0, 30000))\n",
    "plt.xlabel('Ratings per movie', fontsize=12, labelpad=10, color='#75686D')\n",
    "plt.xticks(np.arange(0, 800, step=100))\n",
    "plt.xlim(0, 700)\n",
    "plt.show()"
   ]
  },
  {
   "cell_type": "code",
   "execution_count": 13,
   "id": "8825f6d0-984a-4ca6-87c6-659c87cbacb6",
   "metadata": {},
   "outputs": [
    {
     "data": {
      "text/plain": [
       "count    45115.0\n",
       "mean       576.8\n",
       "std       3037.4\n",
       "min          1.0\n",
       "10%          1.0\n",
       "20%          2.0\n",
       "30%          3.0\n",
       "40%          5.0\n",
       "50%          8.0\n",
       "60%         16.0\n",
       "70%         39.0\n",
       "80%        133.2\n",
       "90%        695.0\n",
       "max      91921.0\n",
       "Name: rating, dtype: float64"
      ]
     },
     "execution_count": 13,
     "metadata": {},
     "output_type": "execute_result"
    }
   ],
   "source": [
    "round(ratings_per_movie.describe(percentiles=np.arange(0.1, 1.0, step=0.1)), 1)"
   ]
  },
  {
   "cell_type": "markdown",
   "id": "ca044029-c52f-4db6-b550-3b26fca73578",
   "metadata": {},
   "source": [
    "#### Distribution of Ratings"
   ]
  },
  {
   "cell_type": "markdown",
   "id": "45a5e12a-da48-42b7-8fd6-969109953b57",
   "metadata": {},
   "source": [
    "Half of ratings are 3.5 or above."
   ]
  },
  {
   "cell_type": "code",
   "execution_count": 14,
   "id": "020c005a-8975-4ecf-8afb-cdf815887e78",
   "metadata": {},
   "outputs": [
    {
     "data": {
      "image/png": "[encoded data removed]",
      "text/plain": [
       "<Figure size 432x288 with 1 Axes>"
      ]
     },
     "metadata": {},
     "output_type": "display_data"
    }
   ],
   "source": [
    "ratings = ratings_df.rating\n",
    "fig = plt.figure(figsize=(6, 4), facecolor='white')\n",
    "ax = plt.subplot(111)\n",
    "ax.spines['top'].set_visible(False)\n",
    "ax.spines['right'].set_visible(False)\n",
    "ax.spines['bottom'].set_color('#C4B6BC')\n",
    "ax.spines['left'].set_color('#C4B6BC')\n",
    "ax.tick_params(axis='x', colors='#75686D')\n",
    "ax.tick_params(axis='y', colors='#75686D')\n",
    "ax.hist(ratings, bins=10, color='#8FADEA')\n",
    "plt.title('Distribution of Ratings', pad=20, fontsize=15, x=0.21, color='#75686D')\n",
    "plt.ylabel('Number of ratings', fontsize=12, labelpad=10, color='#75686D')\n",
    "plt.xlabel('Rating', fontsize=12, labelpad=10, color='#75686D')\n",
    "plt.xticks(np.arange(0, 5.5, step=0.5))\n",
    "plt.xlim(0, 5)\n",
    "plt.show()"
   ]
  },
  {
   "cell_type": "code",
   "execution_count": 15,
   "id": "9baafd9d-0853-4f9e-8e64-a01d0bf1c2e3",
   "metadata": {},
   "outputs": [
    {
     "data": {
      "text/plain": [
       "count    26024289.0\n",
       "mean            3.5\n",
       "std             1.1\n",
       "min             0.5\n",
       "10%             2.0\n",
       "20%             3.0\n",
       "30%             3.0\n",
       "40%             3.5\n",
       "50%             3.5\n",
       "60%             4.0\n",
       "70%             4.0\n",
       "80%             4.5\n",
       "90%             5.0\n",
       "max             5.0\n",
       "Name: rating, dtype: float64"
      ]
     },
     "execution_count": 15,
     "metadata": {},
     "output_type": "execute_result"
    }
   ],
   "source": [
    "round(ratings.describe(percentiles=np.arange(0.1, 1.0, step=0.1)), 1)"
   ]
  }
 ],
 "metadata": {
  "kernelspec": {
   "display_name": "Python 3",
   "language": "python",
   "name": "python3"
  },
  "language_info": {
   "codemirror_mode": {
    "name": "ipython",
    "version": 3
   },
   "file_extension": ".py",
   "mimetype": "text/x-python",
   "name": "python",
   "nbconvert_exporter": "python",
   "pygments_lexer": "ipython3",
   "version": "3.7.7"
  }
 },
 "nbformat": 4,
 "nbformat_minor": 5
}
