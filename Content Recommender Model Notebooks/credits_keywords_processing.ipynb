{
 "cells": [
  {
   "cell_type": "markdown",
   "metadata": {},
   "source": [
    "### Step 1: Import packages"
   ]
  },
  {
   "cell_type": "code",
   "execution_count": 1,
   "metadata": {},
   "outputs": [],
   "source": [
    "import pandas as pd\n",
    "import ast\n",
    "import re\n",
    "from nltk.stem import PorterStemmer\n",
    "from nltk.tokenize import word_tokenize\n",
    "from nltk.corpus import stopwords"
   ]
  },
  {
   "cell_type": "markdown",
   "metadata": {},
   "source": [
    "### Step 2: Load raw data"
   ]
  },
  {
   "cell_type": "code",
   "execution_count": 2,
   "metadata": {},
   "outputs": [],
   "source": [
    "# Load the credits and keywords datasets\n",
    "credits = pd.read_csv(\"C:/Users/lbros/Documents/MIDS/W207/final_project/raw_data/credits.csv\")\n",
    "keywords = pd.read_csv(\"C:/Users/lbros/Documents/MIDS/W207/final_project/raw_data/keywords.csv\")"
   ]
  },
  {
   "cell_type": "markdown",
   "metadata": {},
   "source": [
    "### Step 3: Explore and clean both datasets"
   ]
  },
  {
   "cell_type": "markdown",
   "metadata": {},
   "source": [
    "#### Clean the credits dataset\n",
    "We begin with the credits dataset, containing cast and crew names for each film, in addition to the film's movie id. Both the cast and crew fields contain lists of dictionaries, with each dictionary containing the name of a cast or crew member corresponding to a particular movie role or behind-the-scenes role. We extract these names, concatenating first and last names for each individual, and create a final text string for each column."
   ]
  },
  {
   "cell_type": "code",
   "execution_count": 3,
   "metadata": {
    "scrolled": true
   },
   "outputs": [
    {
     "data": {
      "text/html": [
       "<div>\n",
       "<style scoped>\n",
       "    .dataframe tbody tr th:only-of-type {\n",
       "        vertical-align: middle;\n",
       "    }\n",
       "\n",
       "    .dataframe tbody tr th {\n",
       "        vertical-align: top;\n",
       "    }\n",
       "\n",
       "    .dataframe thead th {\n",
       "        text-align: right;\n",
       "    }\n",
       "</style>\n",
       "<table border=\"1\" class=\"dataframe\">\n",
       "  <thead>\n",
       "    <tr style=\"text-align: right;\">\n",
       "      <th></th>\n",
       "      <th>cast</th>\n",
       "      <th>crew</th>\n",
       "      <th>id</th>\n",
       "    </tr>\n",
       "  </thead>\n",
       "  <tbody>\n",
       "    <tr>\n",
       "      <th>0</th>\n",
       "      <td>[{'cast_id': 14, 'character': 'Woody (voice)',...</td>\n",
       "      <td>[{'credit_id': '52fe4284c3a36847f8024f49', 'de...</td>\n",
       "      <td>862</td>\n",
       "    </tr>\n",
       "    <tr>\n",
       "      <th>1</th>\n",
       "      <td>[{'cast_id': 1, 'character': 'Alan Parrish', '...</td>\n",
       "      <td>[{'credit_id': '52fe44bfc3a36847f80a7cd1', 'de...</td>\n",
       "      <td>8844</td>\n",
       "    </tr>\n",
       "    <tr>\n",
       "      <th>2</th>\n",
       "      <td>[{'cast_id': 2, 'character': 'Max Goldman', 'c...</td>\n",
       "      <td>[{'credit_id': '52fe466a9251416c75077a89', 'de...</td>\n",
       "      <td>15602</td>\n",
       "    </tr>\n",
       "    <tr>\n",
       "      <th>3</th>\n",
       "      <td>[{'cast_id': 1, 'character': \"Savannah 'Vannah...</td>\n",
       "      <td>[{'credit_id': '52fe44779251416c91011acb', 'de...</td>\n",
       "      <td>31357</td>\n",
       "    </tr>\n",
       "    <tr>\n",
       "      <th>4</th>\n",
       "      <td>[{'cast_id': 1, 'character': 'George Banks', '...</td>\n",
       "      <td>[{'credit_id': '52fe44959251416c75039ed7', 'de...</td>\n",
       "      <td>11862</td>\n",
       "    </tr>\n",
       "  </tbody>\n",
       "</table>\n",
       "</div>"
      ],
      "text/plain": [
       "                                                cast  \\\n",
       "0  [{'cast_id': 14, 'character': 'Woody (voice)',...   \n",
       "1  [{'cast_id': 1, 'character': 'Alan Parrish', '...   \n",
       "2  [{'cast_id': 2, 'character': 'Max Goldman', 'c...   \n",
       "3  [{'cast_id': 1, 'character': \"Savannah 'Vannah...   \n",
       "4  [{'cast_id': 1, 'character': 'George Banks', '...   \n",
       "\n",
       "                                                crew     id  \n",
       "0  [{'credit_id': '52fe4284c3a36847f8024f49', 'de...    862  \n",
       "1  [{'credit_id': '52fe44bfc3a36847f80a7cd1', 'de...   8844  \n",
       "2  [{'credit_id': '52fe466a9251416c75077a89', 'de...  15602  \n",
       "3  [{'credit_id': '52fe44779251416c91011acb', 'de...  31357  \n",
       "4  [{'credit_id': '52fe44959251416c75039ed7', 'de...  11862  "
      ]
     },
     "execution_count": 3,
     "metadata": {},
     "output_type": "execute_result"
    }
   ],
   "source": [
    "# View the 1st 5 rows of credits, to view data structure\n",
    "credits.head()"
   ]
  },
  {
   "cell_type": "code",
   "execution_count": 4,
   "metadata": {},
   "outputs": [
    {
     "data": {
      "text/plain": [
       "\"[{'cast_id': 14, 'character': 'Woody (voice)', 'credit_id': '52fe4284c3a36847f8024f95', 'gender': 2, 'id': 31, 'name': 'Tom Hanks', 'order': 0, 'profile_path': '/pQFoyx7rp09CJTAb932F2g8Nlho.jpg'}, {'cast_id': 15, 'character': 'Buzz Lightyear (voice)', 'credit_id': '52fe4284c3a36847f8024f99', 'gender': 2, 'id': 12898, 'name': 'Tim Allen', 'order': 1, 'profile_path': '/uX2xVf6pMmPepxnvFWyBtjexzgY.jpg'}, {'cast_id': 16, 'character': 'Mr. Potato Head (voice)', 'credit_id': '52fe4284c3a36847f8024f9d', 'gender': 2, 'id': 7167, 'name': 'Don Rickles', 'order': 2, 'profile_path': '/h5BcaDMPRVLHLDzbQavec4xfSdt.jpg'}, {'cast_id': 17, 'character': 'Slinky Dog (voice)', 'credit_id': '52fe4284c3a36847f8024fa1', 'gender': 2, 'id': 12899, 'name': 'Jim Varney', 'order': 3, 'profile_path': '/eIo2jVVXYgjDtaHoF19Ll9vtW7h.jpg'}, {'cast_id': 18, 'character': 'Rex (voice)', 'credit_id': '52fe4284c3a36847f8024fa5', 'gender': 2, 'id': 12900, 'name': 'Wallace Shawn', 'order': 4, 'profile_path': '/oGE6JqPP2xH4tNORKNqxbNPYi7u.jpg'}, {'cast_id': 19, 'character': 'Hamm (voice)', 'credit_id': '52fe4284c3a36847f8024fa9', 'gender': 2, 'id': 7907, 'name': 'John Ratzenberger', 'order': 5, 'profile_path': '/yGechiKWL6TJDfVE2KPSJYqdMsY.jpg'}, {'cast_id': 20, 'character': 'Bo Peep (voice)', 'credit_id': '52fe4284c3a36847f8024fad', 'gender': 1, 'id': 8873, 'name': 'Annie Potts', 'order': 6, 'profile_path': '/eryXT84RL41jHSJcMy4kS3u9y6w.jpg'}, {'cast_id': 26, 'character': 'Andy (voice)', 'credit_id': '52fe4284c3a36847f8024fc1', 'gender': 0, 'id': 1116442, 'name': 'John Morris', 'order': 7, 'profile_path': '/vYGyvK4LzeaUCoNSHtsuqJUY15M.jpg'}, {'cast_id': 22, 'character': 'Sid (voice)', 'credit_id': '52fe4284c3a36847f8024fb1', 'gender': 2, 'id': 12901, 'name': 'Erik von Detten', 'order': 8, 'profile_path': '/twnF1ZaJ1FUNUuo6xLXwcxjayBE.jpg'}, {'cast_id': 23, 'character': 'Mrs. Davis (voice)', 'credit_id': '52fe4284c3a36847f8024fb5', 'gender': 1, 'id': 12133, 'name': 'Laurie Metcalf', 'order': 9, 'profile_path': '/unMMIT60eoBM2sN2nyR7EZ2BvvD.jpg'}, {'cast_id': 24, 'character': 'Sergeant (voice)', 'credit_id': '52fe4284c3a36847f8024fb9', 'gender': 2, 'id': 8655, 'name': 'R. Lee Ermey', 'order': 10, 'profile_path': '/r8GBqFBjypLUP9VVqDqfZ7wYbSs.jpg'}, {'cast_id': 25, 'character': 'Hannah (voice)', 'credit_id': '52fe4284c3a36847f8024fbd', 'gender': 1, 'id': 12903, 'name': 'Sarah Freeman', 'order': 11, 'profile_path': None}, {'cast_id': 27, 'character': 'TV Announcer (voice)', 'credit_id': '52fe4284c3a36847f8024fc5', 'gender': 2, 'id': 37221, 'name': 'Penn Jillette', 'order': 12, 'profile_path': '/zmAaXUdx12NRsssgHbk1T31j2x9.jpg'}]\""
      ]
     },
     "execution_count": 4,
     "metadata": {},
     "output_type": "execute_result"
    }
   ],
   "source": [
    "# Looking at the value for the first row in the cast column reveals a name key with a cast name by character\n",
    "# This is our field of interest for each row - we'll extract all name key values for each row\n",
    "credits.cast[0]"
   ]
  },
  {
   "cell_type": "code",
   "execution_count": 5,
   "metadata": {},
   "outputs": [],
   "source": [
    "def process_credits(credits):\n",
    "    \"\"\"For each movie, extract cast member and crew member names\"\"\"\n",
    "    \n",
    "    # Extract the cast and crew names\n",
    "    credits['cast_names'] = [\" \".join(list(set([y['name'].replace(\" \", \"\") for y in x]))\n",
    "                                       ) for x in credits['cast'].apply(ast.literal_eval)]\n",
    "    \n",
    "    credits['crew_names'] = [\" \".join(list(set([y['name'].replace(\" \", \"\") for y in x]))\n",
    "                                       ) for x in credits['crew'].apply(ast.literal_eval)]\n",
    "    \n",
    "    # Change the column order so that id is first, for joins\n",
    "    first_column = credits.pop('id')\n",
    "    credits.insert(0, 'id', first_column)\n",
    "    \n",
    "    # Replace empty string values with 'unknown'\n",
    "    credits['cast_names'].replace(r'^\\s*$', 'unknown', regex=True, inplace=True)\n",
    "    credits['crew_names'].replace(r'^\\s*$', 'unknown', regex=True, inplace=True)\n",
    "    \n",
    "    # Strip leading and trailing whitespace for the cast and crew member names columns\n",
    "    credits['cast_names'] = credits['cast_names'].str.strip()\n",
    "    credits['crew_names'] = credits['crew_names'].str.strip()\n",
    "\n",
    "    # Strip punctuation from the cast and crew names if present\n",
    "    p = re.compile(r'[^\\w\\s]+')\n",
    "    credits['cast_names'] = [p.sub('', x) for x in credits['cast_names'].tolist()]\n",
    "    credits['crew_names'] = [p.sub('', x) for x in credits['crew_names'].tolist()]\n",
    "    \n",
    "    # Cast the cast and crew names to lowercase\n",
    "    credits['cast_names'] = credits['cast_names'].str.lower()\n",
    "    credits['crew_names'] = credits['crew_names'].str.lower()\n",
    "    \n",
    "    return credits"
   ]
  },
  {
   "cell_type": "code",
   "execution_count": 6,
   "metadata": {},
   "outputs": [],
   "source": [
    "# Create a new dataframe, consisting of only movie ids and cleaned cast and crew names as text strings\n",
    "credits_final = process_credits(credits)[['id', 'cast_names', 'crew_names']].copy()"
   ]
  },
  {
   "cell_type": "code",
   "execution_count": 7,
   "metadata": {},
   "outputs": [
    {
     "data": {
      "text/html": [
       "<div>\n",
       "<style scoped>\n",
       "    .dataframe tbody tr th:only-of-type {\n",
       "        vertical-align: middle;\n",
       "    }\n",
       "\n",
       "    .dataframe tbody tr th {\n",
       "        vertical-align: top;\n",
       "    }\n",
       "\n",
       "    .dataframe thead th {\n",
       "        text-align: right;\n",
       "    }\n",
       "</style>\n",
       "<table border=\"1\" class=\"dataframe\">\n",
       "  <thead>\n",
       "    <tr style=\"text-align: right;\">\n",
       "      <th></th>\n",
       "      <th>id</th>\n",
       "      <th>cast_names</th>\n",
       "      <th>crew_names</th>\n",
       "    </tr>\n",
       "  </thead>\n",
       "  <tbody>\n",
       "    <tr>\n",
       "      <th>0</th>\n",
       "      <td>862</td>\n",
       "      <td>erikvondetten johnmorris jimvarney lauriemetca...</td>\n",
       "      <td>angieglocka mickiemcgowan alecsokolow joelcohe...</td>\n",
       "    </tr>\n",
       "    <tr>\n",
       "      <th>1</th>\n",
       "      <td>8844</td>\n",
       "      <td>bradleypierce kirstendunst jameshandy leonardz...</td>\n",
       "      <td>kylebalda gregtaylor robertwcort chrisvanallsb...</td>\n",
       "    </tr>\n",
       "    <tr>\n",
       "      <th>2</th>\n",
       "      <td>15602</td>\n",
       "      <td>sophialoren darylhannah annmargret jacklemmon ...</td>\n",
       "      <td>howarddeutch markstevenjohnson jackkeller</td>\n",
       "    </tr>\n",
       "    <tr>\n",
       "      <th>3</th>\n",
       "      <td>31357</td>\n",
       "      <td>angelabassett wesleysnipes lorettadevine grego...</td>\n",
       "      <td>deborahschindler ronaldbass ezraswerdlow kenne...</td>\n",
       "    </tr>\n",
       "    <tr>\n",
       "      <th>4</th>\n",
       "      <td>11862</td>\n",
       "      <td>kieranculkin katemcgregorstewart eugenelevy ma...</td>\n",
       "      <td>nancymeyers charlesshyer elliotdavis alberthac...</td>\n",
       "    </tr>\n",
       "  </tbody>\n",
       "</table>\n",
       "</div>"
      ],
      "text/plain": [
       "      id                                         cast_names  \\\n",
       "0    862  erikvondetten johnmorris jimvarney lauriemetca...   \n",
       "1   8844  bradleypierce kirstendunst jameshandy leonardz...   \n",
       "2  15602  sophialoren darylhannah annmargret jacklemmon ...   \n",
       "3  31357  angelabassett wesleysnipes lorettadevine grego...   \n",
       "4  11862  kieranculkin katemcgregorstewart eugenelevy ma...   \n",
       "\n",
       "                                          crew_names  \n",
       "0  angieglocka mickiemcgowan alecsokolow joelcohe...  \n",
       "1  kylebalda gregtaylor robertwcort chrisvanallsb...  \n",
       "2          howarddeutch markstevenjohnson jackkeller  \n",
       "3  deborahschindler ronaldbass ezraswerdlow kenne...  \n",
       "4  nancymeyers charlesshyer elliotdavis alberthac...  "
      ]
     },
     "execution_count": 7,
     "metadata": {},
     "output_type": "execute_result"
    }
   ],
   "source": [
    "# Verify the extraction of cast and crew names\n",
    "credits_final.head()"
   ]
  },
  {
   "cell_type": "markdown",
   "metadata": {},
   "source": [
    "#### Clean the keywords dataset\n",
    "\n",
    "The keywords dataset also contains lists of dictionaries, with a name field that will need to be extracted. We extract the name terms, similarly to how we did for the credits dataset. However, we perform additional processing to reduce the number of word features that we will eventually have in our movies' dataset."
   ]
  },
  {
   "cell_type": "code",
   "execution_count": 8,
   "metadata": {},
   "outputs": [],
   "source": [
    "def stem_stop_text(text):\n",
    "    \"\"\"Remove stopwords and stem the words in each movie description\"\"\"\n",
    "    \n",
    "    # Create an instance of a Porter Stemmer object\n",
    "    ps = PorterStemmer()\n",
    "    \n",
    "    # Create a list of English stopwords from the nltk corpus\n",
    "    my_stop = stopwords.words('english')\n",
    "    \n",
    "    # Tokenize the text and remove stopwords\n",
    "    tokens = [w for w in word_tokenize(text) if w not in my_stop]\n",
    "    \n",
    "    # Stem the tokens and rejoin\n",
    "    final_text = \" \".join([ps.stem(token) for token in tokens])\n",
    "    \n",
    "    return final_text"
   ]
  },
  {
   "cell_type": "code",
   "execution_count": 9,
   "metadata": {},
   "outputs": [],
   "source": [
    "def process_keywords(keywords):\n",
    "    \"\"\"For the keywords dataframe, extract a list of keywords for each row\"\"\"\n",
    "    \n",
    "    # Extract the value belonging to each key phrase's name key for each row\n",
    "    # For each row, create a single string of text to represent the name(s)\n",
    "    keywords['description'] = [\" \".join(list(set([y['name'] for y in x]))\n",
    "                                       ) for x in keywords['keywords'].apply(ast.literal_eval)]\n",
    "    \n",
    "    # Replace empty string values with 'unknown'\n",
    "    keywords['description'].replace(r'^\\s*$', 'unknown', regex=True, inplace=True)\n",
    "    \n",
    "    # Strip punctuation from the descriptions\n",
    "    p = re.compile(r'[^\\w\\s]+')\n",
    "    keywords['description'] = [p.sub('', x) for x in keywords['description'].tolist()]\n",
    "    \n",
    "    # Set all descriptions to lowercase\n",
    "    keywords['description'] = keywords['description'].str.lower()\n",
    "    \n",
    "    # Apply the function to stem and remove stopwords\n",
    "    keywords['description'] = keywords.apply(lambda row: stem_stop_text(row['description']), axis=1)\n",
    "    \n",
    "    return keywords"
   ]
  },
  {
   "cell_type": "code",
   "execution_count": 10,
   "metadata": {},
   "outputs": [],
   "source": [
    "# Create a new dataframe, consisting of only movie ids and cleaned descriptions as text strings\n",
    "descriptions = process_keywords(keywords)[['id', 'description']].copy()"
   ]
  },
  {
   "cell_type": "code",
   "execution_count": 11,
   "metadata": {},
   "outputs": [
    {
     "data": {
      "text/html": [
       "<div>\n",
       "<style scoped>\n",
       "    .dataframe tbody tr th:only-of-type {\n",
       "        vertical-align: middle;\n",
       "    }\n",
       "\n",
       "    .dataframe tbody tr th {\n",
       "        vertical-align: top;\n",
       "    }\n",
       "\n",
       "    .dataframe thead th {\n",
       "        text-align: right;\n",
       "    }\n",
       "</style>\n",
       "<table border=\"1\" class=\"dataframe\">\n",
       "  <thead>\n",
       "    <tr style=\"text-align: right;\">\n",
       "      <th></th>\n",
       "      <th>id</th>\n",
       "      <th>description</th>\n",
       "    </tr>\n",
       "  </thead>\n",
       "  <tbody>\n",
       "    <tr>\n",
       "      <th>0</th>\n",
       "      <td>862</td>\n",
       "      <td>toy come life new toy toy jealousi friend boy ...</td>\n",
       "    </tr>\n",
       "    <tr>\n",
       "      <th>1</th>\n",
       "      <td>8844</td>\n",
       "      <td>board game base children book disappear reclus...</td>\n",
       "    </tr>\n",
       "    <tr>\n",
       "      <th>2</th>\n",
       "      <td>15602</td>\n",
       "      <td>fish duringcreditssting best friend old men</td>\n",
       "    </tr>\n",
       "    <tr>\n",
       "      <th>3</th>\n",
       "      <td>31357</td>\n",
       "      <td>chick flick base novel interraci relationship ...</td>\n",
       "    </tr>\n",
       "    <tr>\n",
       "      <th>4</th>\n",
       "      <td>11862</td>\n",
       "      <td>midlif crisi mother daughter relationship age ...</td>\n",
       "    </tr>\n",
       "  </tbody>\n",
       "</table>\n",
       "</div>"
      ],
      "text/plain": [
       "      id                                        description\n",
       "0    862  toy come life new toy toy jealousi friend boy ...\n",
       "1   8844  board game base children book disappear reclus...\n",
       "2  15602        fish duringcreditssting best friend old men\n",
       "3  31357  chick flick base novel interraci relationship ...\n",
       "4  11862  midlif crisi mother daughter relationship age ..."
      ]
     },
     "execution_count": 11,
     "metadata": {},
     "output_type": "execute_result"
    }
   ],
   "source": [
    "# View the 1st 5 rows of  this new dataframe\n",
    "descriptions.head()"
   ]
  },
  {
   "cell_type": "markdown",
   "metadata": {},
   "source": [
    "### Step 4: Join the cleaned credits and descriptions dataframes, so that each movie has a value for description, cast_names, and crew_names"
   ]
  },
  {
   "cell_type": "code",
   "execution_count": 12,
   "metadata": {},
   "outputs": [
    {
     "data": {
      "text/html": [
       "<div>\n",
       "<style scoped>\n",
       "    .dataframe tbody tr th:only-of-type {\n",
       "        vertical-align: middle;\n",
       "    }\n",
       "\n",
       "    .dataframe tbody tr th {\n",
       "        vertical-align: top;\n",
       "    }\n",
       "\n",
       "    .dataframe thead th {\n",
       "        text-align: right;\n",
       "    }\n",
       "</style>\n",
       "<table border=\"1\" class=\"dataframe\">\n",
       "  <thead>\n",
       "    <tr style=\"text-align: right;\">\n",
       "      <th></th>\n",
       "      <th>id</th>\n",
       "      <th>cast_names</th>\n",
       "      <th>crew_names</th>\n",
       "      <th>description</th>\n",
       "    </tr>\n",
       "  </thead>\n",
       "  <tbody>\n",
       "    <tr>\n",
       "      <th>0</th>\n",
       "      <td>862</td>\n",
       "      <td>erikvondetten johnmorris jimvarney lauriemetca...</td>\n",
       "      <td>angieglocka mickiemcgowan alecsokolow joelcohe...</td>\n",
       "      <td>toy come life new toy toy jealousi friend boy ...</td>\n",
       "    </tr>\n",
       "    <tr>\n",
       "      <th>1</th>\n",
       "      <td>8844</td>\n",
       "      <td>bradleypierce kirstendunst jameshandy leonardz...</td>\n",
       "      <td>kylebalda gregtaylor robertwcort chrisvanallsb...</td>\n",
       "      <td>board game base children book disappear reclus...</td>\n",
       "    </tr>\n",
       "    <tr>\n",
       "      <th>2</th>\n",
       "      <td>15602</td>\n",
       "      <td>sophialoren darylhannah annmargret jacklemmon ...</td>\n",
       "      <td>howarddeutch markstevenjohnson jackkeller</td>\n",
       "      <td>fish duringcreditssting best friend old men</td>\n",
       "    </tr>\n",
       "    <tr>\n",
       "      <th>3</th>\n",
       "      <td>31357</td>\n",
       "      <td>angelabassett wesleysnipes lorettadevine grego...</td>\n",
       "      <td>deborahschindler ronaldbass ezraswerdlow kenne...</td>\n",
       "      <td>chick flick base novel interraci relationship ...</td>\n",
       "    </tr>\n",
       "    <tr>\n",
       "      <th>4</th>\n",
       "      <td>11862</td>\n",
       "      <td>kieranculkin katemcgregorstewart eugenelevy ma...</td>\n",
       "      <td>nancymeyers charlesshyer elliotdavis alberthac...</td>\n",
       "      <td>midlif crisi mother daughter relationship age ...</td>\n",
       "    </tr>\n",
       "  </tbody>\n",
       "</table>\n",
       "</div>"
      ],
      "text/plain": [
       "      id                                         cast_names  \\\n",
       "0    862  erikvondetten johnmorris jimvarney lauriemetca...   \n",
       "1   8844  bradleypierce kirstendunst jameshandy leonardz...   \n",
       "2  15602  sophialoren darylhannah annmargret jacklemmon ...   \n",
       "3  31357  angelabassett wesleysnipes lorettadevine grego...   \n",
       "4  11862  kieranculkin katemcgregorstewart eugenelevy ma...   \n",
       "\n",
       "                                          crew_names  \\\n",
       "0  angieglocka mickiemcgowan alecsokolow joelcohe...   \n",
       "1  kylebalda gregtaylor robertwcort chrisvanallsb...   \n",
       "2          howarddeutch markstevenjohnson jackkeller   \n",
       "3  deborahschindler ronaldbass ezraswerdlow kenne...   \n",
       "4  nancymeyers charlesshyer elliotdavis alberthac...   \n",
       "\n",
       "                                         description  \n",
       "0  toy come life new toy toy jealousi friend boy ...  \n",
       "1  board game base children book disappear reclus...  \n",
       "2        fish duringcreditssting best friend old men  \n",
       "3  chick flick base novel interraci relationship ...  \n",
       "4  midlif crisi mother daughter relationship age ...  "
      ]
     },
     "execution_count": 12,
     "metadata": {},
     "output_type": "execute_result"
    }
   ],
   "source": [
    "# Join the dataframes and view the first 5 rows\n",
    "merged_credits_keywords = credits_final.merge(descriptions,on='id', how='outer')\n",
    "merged_credits_keywords.head()"
   ]
  },
  {
   "cell_type": "code",
   "execution_count": 13,
   "metadata": {},
   "outputs": [
    {
     "data": {
      "text/plain": [
       "id             0\n",
       "cast_names     0\n",
       "crew_names     0\n",
       "description    0\n",
       "dtype: int64"
      ]
     },
     "execution_count": 13,
     "metadata": {},
     "output_type": "execute_result"
    }
   ],
   "source": [
    "# Check for missing values within the columns - there are no missing values\n",
    "merged_credits_keywords.isna().sum()"
   ]
  },
  {
   "cell_type": "markdown",
   "metadata": {},
   "source": [
    "#### However, the dataframe is longer than either of the individual components, and the movie id field contains duplicates."
   ]
  },
  {
   "cell_type": "code",
   "execution_count": 14,
   "metadata": {},
   "outputs": [
    {
     "name": "stdout",
     "output_type": "stream",
     "text": [
      "45476 46419 46496\n"
     ]
    }
   ],
   "source": [
    "print(len(credits_final), len(descriptions), len(merged_credits_keywords))"
   ]
  },
  {
   "cell_type": "code",
   "execution_count": 15,
   "metadata": {},
   "outputs": [
    {
     "data": {
      "text/plain": [
       "True"
      ]
     },
     "execution_count": 15,
     "metadata": {},
     "output_type": "execute_result"
    }
   ],
   "source": [
    "merged_credits_keywords['id'].duplicated().any()"
   ]
  },
  {
   "cell_type": "code",
   "execution_count": 16,
   "metadata": {},
   "outputs": [
    {
     "name": "stdout",
     "output_type": "stream",
     "text": [
      "True\n",
      "True\n"
     ]
    }
   ],
   "source": [
    "# Both the original credits csv and the keywords csv contained duplicates\n",
    "print(credits['id'].duplicated().any())\n",
    "print(keywords['id'].duplicated().any())"
   ]
  },
  {
   "cell_type": "code",
   "execution_count": 17,
   "metadata": {},
   "outputs": [],
   "source": [
    "# Drop the duplicated rows, across all columns\n",
    "merged_credits_keywords.drop_duplicates(inplace=True)"
   ]
  },
  {
   "cell_type": "code",
   "execution_count": 18,
   "metadata": {},
   "outputs": [
    {
     "name": "stdout",
     "output_type": "stream",
     "text": [
      "45476 46419 45436\n"
     ]
    }
   ],
   "source": [
    "# Now, the final merged dataframe is smaller than the cleaned versions, which contained duplicates\n",
    "print(len(credits_final), len(descriptions), len(merged_credits_keywords))"
   ]
  },
  {
   "cell_type": "code",
   "execution_count": 19,
   "metadata": {},
   "outputs": [],
   "source": [
    "# Write the cleaned version of the merged dataframe to a csv file\n",
    "merged_credits_keywords.to_csv('C:/Users/lbros/Documents/MIDS/W207/final_project/clean_data/credits_keywords.csv')"
   ]
  }
 ],
 "metadata": {
  "kernelspec": {
   "display_name": "Python 3",
   "language": "python",
   "name": "python3"
  },
  "language_info": {
   "codemirror_mode": {
    "name": "ipython",
    "version": 3
   },
   "file_extension": ".py",
   "mimetype": "text/x-python",
   "name": "python",
   "nbconvert_exporter": "python",
   "pygments_lexer": "ipython3",
   "version": "3.8.10"
  }
 },
 "nbformat": 4,
 "nbformat_minor": 4
}
