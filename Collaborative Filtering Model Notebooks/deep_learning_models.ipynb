{
 "cells": [
  {
   "cell_type": "markdown",
   "metadata": {},
   "source": [
    "## Import Packages"
   ]
  },
  {
   "cell_type": "code",
   "execution_count": 1,
   "metadata": {},
   "outputs": [],
   "source": [
    "# Import required packages\n",
    "import numpy as np\n",
    "import matplotlib.pyplot as plt\n",
    "import pandas as pd\n",
    "from zipfile import ZipFile\n",
    "import tensorflow as tf\n",
    "from tensorflow import keras\n",
    "from tensorflow.keras.layers.experimental.preprocessing import IntegerLookup\n",
    "from tensorflow.keras import layers\n",
    "from pathlib import Path\n",
    "import matplotlib.pyplot as plt\n",
    "import json\n",
    "\n",
    "tf.config.threading.set_intra_op_parallelism_threads(16) \n",
    "tf.config.threading.set_inter_op_parallelism_threads(16)"
   ]
  },
  {
   "cell_type": "markdown",
   "metadata": {},
   "source": [
    "## Define Working Directory"
   ]
  },
  {
   "cell_type": "code",
   "execution_count": 2,
   "metadata": {},
   "outputs": [],
   "source": [
    "path_clean_data = '/Users/rathin/Documents/Projects/mids/W207/W207_movies/data/clean_data/'"
   ]
  },
  {
   "cell_type": "markdown",
   "metadata": {},
   "source": [
    "## Import Prepocessed Data "
   ]
  },
  {
   "cell_type": "code",
   "execution_count": 3,
   "metadata": {},
   "outputs": [],
   "source": [
    "# Load train, dev, test data\n",
    "train_df = pd.read_csv(path_clean_data + \"cf_train_ratings.csv\", low_memory=False)\n",
    "dev_df = pd.read_csv(path_clean_data + \"cf_dev_ratings.csv\", low_memory=False)\n",
    "test_df = pd.read_csv(path_clean_data + \"cf_test_ratings.csv\", low_memory=False)"
   ]
  },
  {
   "cell_type": "code",
   "execution_count": 4,
   "metadata": {},
   "outputs": [],
   "source": [
    "# drop 'Unnamed 0' column\n",
    "train_df.drop('Unnamed: 0', axis=1, inplace=True)\n",
    "dev_df.drop('Unnamed: 0', axis=1, inplace=True)\n",
    "test_df.drop('Unnamed: 0', axis=1, inplace=True)"
   ]
  },
  {
   "cell_type": "code",
   "execution_count": 5,
   "metadata": {},
   "outputs": [
    {
     "data": {
      "text/html": [
       "<div>\n",
       "<style scoped>\n",
       "    .dataframe tbody tr th:only-of-type {\n",
       "        vertical-align: middle;\n",
       "    }\n",
       "\n",
       "    .dataframe tbody tr th {\n",
       "        vertical-align: top;\n",
       "    }\n",
       "\n",
       "    .dataframe thead th {\n",
       "        text-align: right;\n",
       "    }\n",
       "</style>\n",
       "<table border=\"1\" class=\"dataframe\">\n",
       "  <thead>\n",
       "    <tr style=\"text-align: right;\">\n",
       "      <th></th>\n",
       "      <th>userId</th>\n",
       "      <th>movieId</th>\n",
       "      <th>rating</th>\n",
       "    </tr>\n",
       "  </thead>\n",
       "  <tbody>\n",
       "    <tr>\n",
       "      <th>0</th>\n",
       "      <td>4</td>\n",
       "      <td>223</td>\n",
       "      <td>4.0</td>\n",
       "    </tr>\n",
       "    <tr>\n",
       "      <th>1</th>\n",
       "      <td>4</td>\n",
       "      <td>415</td>\n",
       "      <td>4.0</td>\n",
       "    </tr>\n",
       "    <tr>\n",
       "      <th>2</th>\n",
       "      <td>4</td>\n",
       "      <td>648</td>\n",
       "      <td>4.0</td>\n",
       "    </tr>\n",
       "    <tr>\n",
       "      <th>3</th>\n",
       "      <td>4</td>\n",
       "      <td>1097</td>\n",
       "      <td>5.0</td>\n",
       "    </tr>\n",
       "    <tr>\n",
       "      <th>4</th>\n",
       "      <td>4</td>\n",
       "      <td>1197</td>\n",
       "      <td>4.0</td>\n",
       "    </tr>\n",
       "  </tbody>\n",
       "</table>\n",
       "</div>"
      ],
      "text/plain": [
       "   userId  movieId  rating\n",
       "0       4      223     4.0\n",
       "1       4      415     4.0\n",
       "2       4      648     4.0\n",
       "3       4     1097     5.0\n",
       "4       4     1197     4.0"
      ]
     },
     "execution_count": 5,
     "metadata": {},
     "output_type": "execute_result"
    }
   ],
   "source": [
    "# Inspect train_df\n",
    "train_df.head()"
   ]
  },
  {
   "cell_type": "code",
   "execution_count": 6,
   "metadata": {},
   "outputs": [],
   "source": [
    "# Load dev and test evaluation pools\n",
    "f1 = open(path_clean_data + 'dev_evaluation_pools.json',)\n",
    "f2 = open(path_clean_data + 'test_evaluation_pools.json',)\n",
    "dev_evaluation_pools = json.load(f1)\n",
    "test_evaluation_pools = json.load(f2)\n",
    "\n",
    "# Convert key from str to int\n",
    "dev_evaluation_pools = {int(k):v for k,v in dev_evaluation_pools.items()}\n",
    "test_evaluation_pools = {int(k):v for k,v in test_evaluation_pools.items()}"
   ]
  },
  {
   "cell_type": "markdown",
   "metadata": {},
   "source": [
    "## Format Data for Keras"
   ]
  },
  {
   "cell_type": "code",
   "execution_count": 7,
   "metadata": {},
   "outputs": [
    {
     "name": "stdout",
     "output_type": "stream",
     "text": [
      "Number of Movies: 44975 \n",
      "Number of Users: 136362 \n"
     ]
    }
   ],
   "source": [
    "## Get lists of unique movie ids and user ids in the training data\n",
    "unique_movie_ids = np.unique(np.concatenate((np.unique(train_df['movieId']),\n",
    "                                             np.unique(dev_df['movieId']),\n",
    "                                             np.unique(test_df['movieId']))))\n",
    "unique_user_ids = np.unique(train_df['userId'])\n",
    "\n",
    "## Calculate number of movies and users and print\n",
    "num_movies = len(unique_movie_ids)\n",
    "num_users = len(unique_user_ids)\n",
    "print(\"Number of Movies: %i \" % num_movies)\n",
    "print(\"Number of Users: %i \" % num_users)"
   ]
  },
  {
   "cell_type": "code",
   "execution_count": 8,
   "metadata": {},
   "outputs": [],
   "source": [
    "## Encode movies and users to be contigous  \n",
    "movie2movie_encoded = {x: i for i, x in enumerate(unique_movie_ids)}\n",
    "movie_encoded2movie = {i: x for i, x in enumerate(unique_movie_ids)}\n",
    "user2user_encoded = {x: i for i, x in enumerate(unique_user_ids)}\n",
    "userencoded2user = {i: x for i, x in enumerate(unique_user_ids)}"
   ]
  },
  {
   "cell_type": "code",
   "execution_count": 9,
   "metadata": {},
   "outputs": [
    {
     "data": {
      "text/html": [
       "<div>\n",
       "<style scoped>\n",
       "    .dataframe tbody tr th:only-of-type {\n",
       "        vertical-align: middle;\n",
       "    }\n",
       "\n",
       "    .dataframe tbody tr th {\n",
       "        vertical-align: top;\n",
       "    }\n",
       "\n",
       "    .dataframe thead th {\n",
       "        text-align: right;\n",
       "    }\n",
       "</style>\n",
       "<table border=\"1\" class=\"dataframe\">\n",
       "  <thead>\n",
       "    <tr style=\"text-align: right;\">\n",
       "      <th></th>\n",
       "      <th>userId</th>\n",
       "      <th>movieId</th>\n",
       "      <th>rating</th>\n",
       "      <th>movieEncoded</th>\n",
       "      <th>userEncoded</th>\n",
       "    </tr>\n",
       "  </thead>\n",
       "  <tbody>\n",
       "    <tr>\n",
       "      <th>0</th>\n",
       "      <td>4</td>\n",
       "      <td>223</td>\n",
       "      <td>4.0</td>\n",
       "      <td>220</td>\n",
       "      <td>0</td>\n",
       "    </tr>\n",
       "    <tr>\n",
       "      <th>1</th>\n",
       "      <td>4</td>\n",
       "      <td>415</td>\n",
       "      <td>4.0</td>\n",
       "      <td>411</td>\n",
       "      <td>0</td>\n",
       "    </tr>\n",
       "    <tr>\n",
       "      <th>2</th>\n",
       "      <td>4</td>\n",
       "      <td>648</td>\n",
       "      <td>4.0</td>\n",
       "      <td>640</td>\n",
       "      <td>0</td>\n",
       "    </tr>\n",
       "    <tr>\n",
       "      <th>3</th>\n",
       "      <td>4</td>\n",
       "      <td>1097</td>\n",
       "      <td>5.0</td>\n",
       "      <td>1075</td>\n",
       "      <td>0</td>\n",
       "    </tr>\n",
       "    <tr>\n",
       "      <th>4</th>\n",
       "      <td>4</td>\n",
       "      <td>1197</td>\n",
       "      <td>4.0</td>\n",
       "      <td>1172</td>\n",
       "      <td>0</td>\n",
       "    </tr>\n",
       "  </tbody>\n",
       "</table>\n",
       "</div>"
      ],
      "text/plain": [
       "   userId  movieId  rating  movieEncoded  userEncoded\n",
       "0       4      223     4.0           220            0\n",
       "1       4      415     4.0           411            0\n",
       "2       4      648     4.0           640            0\n",
       "3       4     1097     5.0          1075            0\n",
       "4       4     1197     4.0          1172            0"
      ]
     },
     "execution_count": 9,
     "metadata": {},
     "output_type": "execute_result"
    }
   ],
   "source": [
    "## Add encoding columns to train, test and dev data\n",
    "train_df[\"movieEncoded\"] = train_df[\"movieId\"].map(movie2movie_encoded)\n",
    "train_df[\"userEncoded\"] = train_df[\"userId\"].map(user2user_encoded)\n",
    "\n",
    "dev_df[\"movieEncoded\"] = dev_df[\"movieId\"].map(movie2movie_encoded)\n",
    "dev_df[\"userEncoded\"] = dev_df[\"userId\"].map(user2user_encoded)\n",
    "\n",
    "test_df[\"movieEncoded\"] = test_df[\"movieId\"].map(movie2movie_encoded)\n",
    "test_df[\"userEncoded\"] = test_df[\"userId\"].map(user2user_encoded)\n",
    "\n",
    "train_df.head()"
   ]
  },
  {
   "cell_type": "markdown",
   "metadata": {},
   "source": [
    "## Run and Evaluate Deep Learning Models "
   ]
  },
  {
   "cell_type": "markdown",
   "metadata": {},
   "source": [
    "### Define Custom Functions"
   ]
  },
  {
   "cell_type": "code",
   "execution_count": 10,
   "metadata": {},
   "outputs": [],
   "source": [
    "def sort_evaluation_pools(model, evaluation_pools, user2user_encoded, movie2movie_encoded):\n",
    "    '''\n",
    "    Take evaluation pool for each user and sort it based on ratings predicted by a \n",
    "    trained model in descending order of predicted ratings\n",
    "    \n",
    "    Parameters\n",
    "    ----------\n",
    "    model : A trained keras model\n",
    "    evaluation_pools : A dictionary from user to the pool of movies on \n",
    "                       which to evaluate the recommender system \n",
    "    \n",
    "    Returns\n",
    "    -------\n",
    "    sorted_evaluation_pools : A dictionary from user to the pool of movies where each \n",
    "                              movie is sorted in descending order of predicted movie \n",
    "                              rating\n",
    "    '''\n",
    "    \n",
    "    # Instantiate output dictionary\n",
    "    sorted_evaluation_pools = {}\n",
    "    \n",
    "    # Loop through each key-value pair in the input dictionary\n",
    "    for user, movie_pool in evaluation_pools.items():\n",
    "        \n",
    "        # Convert to encoded is space\n",
    "        user_encoded = np.array([user2user_encoded[user] for i in range(len(movie_pool))]) \n",
    "        movies_encoded =  np.array([movie2movie_encoded[movie] for movie in movie_pool])\n",
    "        \n",
    "        # Predict ratings based on model\n",
    "        pred = model([movies_encoded, user_encoded])\n",
    "        pred = pred.numpy()\n",
    "        pred = pred.reshape(-1)\n",
    "        \n",
    "        # Sort the pool in descending order of predicted ratings\n",
    "        movie_pool_array = np.array(movie_pool)\n",
    "        sorted_pool_array = movie_pool_array[pred.argsort()[::-1]]\n",
    "        \n",
    "        # Add key-value pair of user and sorted evalualtion pool to the output dictionary\n",
    "        sorted_evaluation_pools[user] = sorted_pool_array.tolist()\n",
    "\n",
    "    return sorted_evaluation_pools"
   ]
  },
  {
   "cell_type": "code",
   "execution_count": 11,
   "metadata": {},
   "outputs": [],
   "source": [
    "def calc_hit_rate_pools(sorted_evaluation_pools, test_df, top_n=10):\n",
    "    '''\n",
    "    Calculate hit rate given a dictionary of sorted evaluation pools and the corrsponding \n",
    "    test data frame. A hit is defined as finding a test movie in the top_n of sorted \n",
    "    evalutation pool of a user\n",
    "    Parameters\n",
    "    ----------\n",
    "    sorted_evaluation_pools : A dictionary from user to the pool of movies where each \n",
    "                              movie is sorted in descending order of predicted movie \n",
    "                              rating\n",
    "    test_df : A dataframe of ratings for movies being tested in the evaluation pools\n",
    "    top_n : The threshold above which a test movies should be found to be called a hit\n",
    "    \n",
    "    Returns\n",
    "    -------\n",
    "    hit_rate : A hit rate across pools\n",
    "    \n",
    "    '''\n",
    "    \n",
    "    # Start with hits and totals at 0\n",
    "    hits=0\n",
    "    total=0\n",
    "    \n",
    "    # Loop through the each key-value pair in the input dictionary\n",
    "    for user, sorted_pool in sorted_evaluation_pools.items():\n",
    "        \n",
    "        # Filter to test movies for the user\n",
    "        test_movies = test_df[test_df['userId']==user]\n",
    "        \n",
    "        # Find top_n movies from the pool\n",
    "        top_movies = sorted_pool[:top_n]\n",
    "        \n",
    "        # Loop through each test movie\n",
    "        for index, test_movie in test_movies.iterrows():\n",
    "            test_movie_id = test_movie['movieId']\n",
    "            \n",
    "            # If test movie is in top_movies, then add one to hits\n",
    "            if test_movie_id in top_movies:\n",
    "                hits += 1\n",
    "                \n",
    "            # Add one to total for each test movie  \n",
    "            total += 1\n",
    "     \n",
    "    hit_rate = hits/total\n",
    "    return hit_rate"
   ]
  },
  {
   "cell_type": "code",
   "execution_count": 13,
   "metadata": {},
   "outputs": [],
   "source": [
    "def calc_hit_rate_pools_with_cutoff(sorted_evaluation_pools, test_df, top_n=10, rating_cutoff=0):\n",
    "    '''\n",
    "    Calculate hit rate given a dictionary of sorted evaluation pools and a corresponding \n",
    "    test data frame. A hit is defined as finding a test movie that has a rating greater \n",
    "    than a rating_cutoff in the top_n of sorted evalutation pool of a user.\n",
    "    Parameters\n",
    "    ----------\n",
    "    sorted_evaluation_pools : A dictionary from user to the pool of movies where each \n",
    "                              movie is sorted in descending order of predicted movie \n",
    "                              rating\n",
    "    test_df : A dataframe of ratings for movies being tested in the evaluation pools\n",
    "    top_n : The threshold above which a test movies should be found to be called a hit\n",
    "    rating_cutoff : The threshold rating above which a test movie should be evaluated\n",
    "    \n",
    "    Returns\n",
    "    -------\n",
    "    hit_rate : A hit rate across pools\n",
    "    '''\n",
    "    \n",
    "    # Start with hits and totals at 0\n",
    "    hits=0\n",
    "    total=0\n",
    "    \n",
    "    # Loop through the each key-value pair in the input dictionary\n",
    "    for user, sorted_pool in sorted_evaluation_pools.items():\n",
    "        \n",
    "        # Filter to test movies for the user\n",
    "        test_movies = test_df[test_df['userId']==user]\n",
    "\n",
    "         # Find top_n movies from the pool\n",
    "        top_movies = sorted_pool[:top_n]\n",
    "        \n",
    "        # Loop through each test movie\n",
    "        for index, test_movie in test_movies.iterrows():\n",
    "            test_movie_rating = test_movie['rating']\n",
    "            test_movie_id = test_movie['movieId']\n",
    "            \n",
    "             # If test movie has a rating above rating_cutoff then evaluate\n",
    "            if test_movie_rating >= rating_cutoff:\n",
    "                \n",
    "                # If test movie is in top_movies, then add one to hits\n",
    "                if test_movie_id in top_movies:\n",
    "                    hits += 1\n",
    "                \n",
    "                # Add one to total for each test movie\n",
    "                total += 1\n",
    "\n",
    "    return hits/total"
   ]
  },
  {
   "cell_type": "markdown",
   "metadata": {},
   "source": [
    "### Define Deep Learning Models\n",
    "\n",
    "Source: https://heartbeat.fritz.ai/build-train-and-deploy-a-book-recommender-system-using-keras-tensorflow-js-b96944b936a7"
   ]
  },
  {
   "cell_type": "code",
   "execution_count": 14,
   "metadata": {},
   "outputs": [],
   "source": [
    "def embedding_model(num_movies, num_users, embedding_size=15, d1_size=128):\n",
    "    # Movie input network\n",
    "    input_movies = layers.Input(shape=[1])\n",
    "\n",
    "    # Define movies embedding layer\n",
    "    embed_movies = layers.Embedding(num_movies + 1, embedding_size)(input_movies)\n",
    "    movies_out = layers.Flatten()(embed_movies)\n",
    "\n",
    "    # User input network\n",
    "    input_users = layers.Input(shape=[1])\n",
    "\n",
    "    # Define users embedding layer\n",
    "    embed_users = layers.Embedding(num_users + 1,embedding_size)(input_users)\n",
    "    users_out = keras.layers.Flatten()(embed_users)\n",
    "\n",
    "    # Concatenenate Embeddings\n",
    "    conc_layer = keras.layers.Concatenate()([movies_out, users_out])\n",
    "\n",
    "    # Define Dense Layer                    \n",
    "    x = keras.layers.Dense(d1_size, activation='relu')(conc_layer)\n",
    "\n",
    "    # Define output Layer\n",
    "    x_out = x = keras.layers.Dense(1, activation='relu')(x)\n",
    "\n",
    "    # Define model\n",
    "    model = keras.Model(inputs=[input_movies, input_users], outputs=x_out)\n",
    "    \n",
    "    return model"
   ]
  },
  {
   "cell_type": "code",
   "execution_count": 16,
   "metadata": {},
   "outputs": [
    {
     "name": "stdout",
     "output_type": "stream",
     "text": [
      "Model: \"model_1\"\n",
      "__________________________________________________________________________________________________\n",
      "Layer (type)                    Output Shape         Param #     Connected to                     \n",
      "==================================================================================================\n",
      "input_3 (InputLayer)            [(None, 1)]          0                                            \n",
      "__________________________________________________________________________________________________\n",
      "input_4 (InputLayer)            [(None, 1)]          0                                            \n",
      "__________________________________________________________________________________________________\n",
      "embedding_2 (Embedding)         (None, 1, 1)         44976       input_3[0][0]                    \n",
      "__________________________________________________________________________________________________\n",
      "embedding_3 (Embedding)         (None, 1, 1)         136363      input_4[0][0]                    \n",
      "__________________________________________________________________________________________________\n",
      "flatten_2 (Flatten)             (None, 1)            0           embedding_2[0][0]                \n",
      "__________________________________________________________________________________________________\n",
      "flatten_3 (Flatten)             (None, 1)            0           embedding_3[0][0]                \n",
      "__________________________________________________________________________________________________\n",
      "concatenate_1 (Concatenate)     (None, 2)            0           flatten_2[0][0]                  \n",
      "                                                                 flatten_3[0][0]                  \n",
      "__________________________________________________________________________________________________\n",
      "dense_2 (Dense)                 (None, 128)          384         concatenate_1[0][0]              \n",
      "__________________________________________________________________________________________________\n",
      "dense_3 (Dense)                 (None, 1)            129         dense_2[0][0]                    \n",
      "==================================================================================================\n",
      "Total params: 181,852\n",
      "Trainable params: 181,852\n",
      "Non-trainable params: 0\n",
      "__________________________________________________________________________________________________\n"
     ]
    }
   ],
   "source": [
    "model_1 = embedding_model(num_movies, num_users, embedding_size=1)\n",
    "opt = keras.optimizers.Adam(learning_rate=0.001)\n",
    "model_1.compile(optimizer=opt, loss='mean_squared_error')\n",
    "model_1.summary()"
   ]
  },
  {
   "cell_type": "code",
   "execution_count": 17,
   "metadata": {},
   "outputs": [
    {
     "name": "stdout",
     "output_type": "stream",
     "text": [
      "Model: \"model_2\"\n",
      "__________________________________________________________________________________________________\n",
      "Layer (type)                    Output Shape         Param #     Connected to                     \n",
      "==================================================================================================\n",
      "input_5 (InputLayer)            [(None, 1)]          0                                            \n",
      "__________________________________________________________________________________________________\n",
      "input_6 (InputLayer)            [(None, 1)]          0                                            \n",
      "__________________________________________________________________________________________________\n",
      "embedding_4 (Embedding)         (None, 1, 3)         134928      input_5[0][0]                    \n",
      "__________________________________________________________________________________________________\n",
      "embedding_5 (Embedding)         (None, 1, 3)         409089      input_6[0][0]                    \n",
      "__________________________________________________________________________________________________\n",
      "flatten_4 (Flatten)             (None, 3)            0           embedding_4[0][0]                \n",
      "__________________________________________________________________________________________________\n",
      "flatten_5 (Flatten)             (None, 3)            0           embedding_5[0][0]                \n",
      "__________________________________________________________________________________________________\n",
      "concatenate_2 (Concatenate)     (None, 6)            0           flatten_4[0][0]                  \n",
      "                                                                 flatten_5[0][0]                  \n",
      "__________________________________________________________________________________________________\n",
      "dense_4 (Dense)                 (None, 128)          896         concatenate_2[0][0]              \n",
      "__________________________________________________________________________________________________\n",
      "dense_5 (Dense)                 (None, 1)            129         dense_4[0][0]                    \n",
      "==================================================================================================\n",
      "Total params: 545,042\n",
      "Trainable params: 545,042\n",
      "Non-trainable params: 0\n",
      "__________________________________________________________________________________________________\n"
     ]
    }
   ],
   "source": [
    "model_2 = embedding_model(num_movies, num_users, embedding_size=3)\n",
    "opt = keras.optimizers.Adam(learning_rate=0.001)\n",
    "model_2.compile(optimizer=opt, loss='mean_squared_error')\n",
    "model_2.summary()"
   ]
  },
  {
   "cell_type": "code",
   "execution_count": 19,
   "metadata": {},
   "outputs": [
    {
     "name": "stdout",
     "output_type": "stream",
     "text": [
      "Model: \"model_4\"\n",
      "__________________________________________________________________________________________________\n",
      "Layer (type)                    Output Shape         Param #     Connected to                     \n",
      "==================================================================================================\n",
      "input_9 (InputLayer)            [(None, 1)]          0                                            \n",
      "__________________________________________________________________________________________________\n",
      "input_10 (InputLayer)           [(None, 1)]          0                                            \n",
      "__________________________________________________________________________________________________\n",
      "embedding_8 (Embedding)         (None, 1, 10)        449760      input_9[0][0]                    \n",
      "__________________________________________________________________________________________________\n",
      "embedding_9 (Embedding)         (None, 1, 10)        1363630     input_10[0][0]                   \n",
      "__________________________________________________________________________________________________\n",
      "flatten_8 (Flatten)             (None, 10)           0           embedding_8[0][0]                \n",
      "__________________________________________________________________________________________________\n",
      "flatten_9 (Flatten)             (None, 10)           0           embedding_9[0][0]                \n",
      "__________________________________________________________________________________________________\n",
      "concatenate_4 (Concatenate)     (None, 20)           0           flatten_8[0][0]                  \n",
      "                                                                 flatten_9[0][0]                  \n",
      "__________________________________________________________________________________________________\n",
      "dense_8 (Dense)                 (None, 128)          2688        concatenate_4[0][0]              \n",
      "__________________________________________________________________________________________________\n",
      "dense_9 (Dense)                 (None, 1)            129         dense_8[0][0]                    \n",
      "==================================================================================================\n",
      "Total params: 1,816,207\n",
      "Trainable params: 1,816,207\n",
      "Non-trainable params: 0\n",
      "__________________________________________________________________________________________________\n"
     ]
    }
   ],
   "source": [
    "model_3 = embedding_model(num_movies, num_users, embedding_size=10)\n",
    "opt = keras.optimizers.Adam(learning_rate=0.001)\n",
    "model_3.compile(optimizer=opt, loss='mean_squared_error')\n",
    "model_3.summary()"
   ]
  },
  {
   "cell_type": "markdown",
   "metadata": {},
   "source": [
    "## Fit Model"
   ]
  },
  {
   "cell_type": "code",
   "execution_count": 20,
   "metadata": {},
   "outputs": [
    {
     "name": "stdout",
     "output_type": "stream",
     "text": [
      "Epoch 1/4\n",
      "186387/186387 [==============================] - 255s 1ms/step - loss: 0.7651 - val_loss: 0.8288\n",
      "Epoch 2/4\n",
      "186387/186387 [==============================] - 251s 1ms/step - loss: 0.7376 - val_loss: 0.8266\n",
      "Epoch 3/4\n",
      "186387/186387 [==============================] - 249s 1ms/step - loss: 0.7333 - val_loss: 0.8256\n",
      "Epoch 4/4\n",
      "186387/186387 [==============================] - 229s 1ms/step - loss: 0.7310 - val_loss: 0.8209\n"
     ]
    }
   ],
   "source": [
    "# Fit model 1\n",
    "hist_1 = model_1.fit(\n",
    "    x=[train_df.movieEncoded, train_df.userEncoded],\n",
    "    y=train_df.rating, \n",
    "    batch_size=128, \n",
    "    epochs=4, \n",
    "    verbose=1,\n",
    "    validation_data=([dev_df.movieEncoded, dev_df.userEncoded],\n",
    "                     dev_df.rating)\n",
    ")"
   ]
  },
  {
   "cell_type": "code",
   "execution_count": 21,
   "metadata": {},
   "outputs": [
    {
     "name": "stdout",
     "output_type": "stream",
     "text": [
      "INFO:tensorflow:Assets written to: model_embedding_depth_1/assets\n"
     ]
    }
   ],
   "source": [
    "# save the model\n",
    "model_1.save('model_embedding_depth_1')"
   ]
  },
  {
   "cell_type": "code",
   "execution_count": 22,
   "metadata": {},
   "outputs": [
    {
     "data": {
      "image/png": "[encoded data removed]",
      "text/plain": [
       "<Figure size 432x288 with 1 Axes>"
      ]
     },
     "metadata": {
      "needs_background": "light"
     },
     "output_type": "display_data"
    }
   ],
   "source": [
    "# Plot training and dev los vs number of epochs\n",
    "plt.plot(hist_1.history[\"loss\"])\n",
    "plt.plot(hist_1.history[\"val_loss\"])\n",
    "plt.title(\"model 1 loss (embedding size = 1)\")\n",
    "plt.ylabel(\"loss\")\n",
    "plt.xlabel(\"epoch\")\n",
    "plt.legend([\"train\", \"dev\"], loc=\"upper left\")\n",
    "plt.show()"
   ]
  },
  {
   "cell_type": "code",
   "execution_count": 23,
   "metadata": {},
   "outputs": [],
   "source": [
    "# Sort dev evaluation pools based on embedding model\n",
    "sorted_dev_evaluation_pools = sort_evaluation_pools(model_1, dev_evaluation_pools, user2user_encoded, movie2movie_encoded)"
   ]
  },
  {
   "cell_type": "code",
   "execution_count": 25,
   "metadata": {},
   "outputs": [
    {
     "name": "stdout",
     "output_type": "stream",
     "text": [
      "Model 1 (Embedding Size = 1) Metrics:\n",
      "HR@10 random pools: 0.487\n",
      "HR@10 random pools > 4: 0.603\n",
      "Root Mean Squared Error: 0.821\n"
     ]
    }
   ],
   "source": [
    "# Calculate our evaluation metrics of interest\n",
    "hit_rate_pools = calc_hit_rate_pools(sorted_dev_evaluation_pools, dev_df)\n",
    "hit_rate_pools_with_cutoff = calc_hit_rate_pools_with_cutoff(sorted_dev_evaluation_pools, dev_df, rating_cutoff=4)\n",
    "rmse = hist_1.history[\"val_loss\"][-1]\n",
    "\n",
    "# Print our evaluation metrics of interest\n",
    "print('Model 1 (Embedding Size = 1) Metrics:')\n",
    "print('HR@10 random pools: %.3f' % hit_rate_pools)\n",
    "print('HR@10 random pools > 4: %.3f' % hit_rate_pools_with_cutoff)\n",
    "print('Root Mean Squared Error: %.3f' % rmse)"
   ]
  },
  {
   "cell_type": "code",
   "execution_count": 26,
   "metadata": {},
   "outputs": [
    {
     "name": "stdout",
     "output_type": "stream",
     "text": [
      "Epoch 1/4\n",
      "186387/186387 [==============================] - 866s 5ms/step - loss: 0.7359 - val_loss: 0.7868\n",
      "Epoch 2/4\n",
      "186387/186387 [==============================] - 872s 5ms/step - loss: 0.6804 - val_loss: 0.7682\n",
      "Epoch 3/4\n",
      "186387/186387 [==============================] - 828s 4ms/step - loss: 0.6696 - val_loss: 0.7702\n",
      "Epoch 4/4\n",
      "186387/186387 [==============================] - 839s 5ms/step - loss: 0.6645 - val_loss: 0.7694\n"
     ]
    }
   ],
   "source": [
    "# Fit model 2\n",
    "hist_2 = model_2.fit(\n",
    "    x=[train_df.movieEncoded, train_df.userEncoded],\n",
    "    y=train_df.rating, \n",
    "    batch_size=128, \n",
    "    epochs=4, \n",
    "    verbose=1,\n",
    "    validation_data=([dev_df.movieEncoded, dev_df.userEncoded],\n",
    "                     dev_df.rating)\n",
    ")"
   ]
  },
  {
   "cell_type": "code",
   "execution_count": 27,
   "metadata": {},
   "outputs": [
    {
     "name": "stdout",
     "output_type": "stream",
     "text": [
      "INFO:tensorflow:Assets written to: model_embedding_depth_3/assets\n"
     ]
    }
   ],
   "source": [
    "# save the model\n",
    "model_2.save('model_embedding_depth_3')"
   ]
  },
  {
   "cell_type": "code",
   "execution_count": 28,
   "metadata": {},
   "outputs": [
    {
     "data": {
      "image/png": "[encoded data removed]",
      "text/plain": [
       "<Figure size 432x288 with 1 Axes>"
      ]
     },
     "metadata": {
      "needs_background": "light"
     },
     "output_type": "display_data"
    }
   ],
   "source": [
    "# Plot training and dev los vs number of epochs\n",
    "plt.plot(hist_2.history[\"loss\"])\n",
    "plt.plot(hist_2.history[\"val_loss\"])\n",
    "plt.title(\"model 2 loss (embedding size = 3)\")\n",
    "plt.ylabel(\"loss\")\n",
    "plt.xlabel(\"epoch\")\n",
    "plt.legend([\"train\", \"dev\"], loc=\"upper left\")\n",
    "plt.show()"
   ]
  },
  {
   "cell_type": "code",
   "execution_count": 29,
   "metadata": {},
   "outputs": [],
   "source": [
    "# Sort dev evaluation pools based on embedding model\n",
    "sorted_dev_evaluation_pools = sort_evaluation_pools(model_2, dev_evaluation_pools, user2user_encoded, movie2movie_encoded)"
   ]
  },
  {
   "cell_type": "code",
   "execution_count": 30,
   "metadata": {},
   "outputs": [
    {
     "name": "stdout",
     "output_type": "stream",
     "text": [
      "Model 2 (Embedding Size = 3) Metrics:\n",
      "HR@10 random pools: 0.571\n",
      "HR@10 random pools > 4: 0.709\n",
      "Root Mean Squared Error: 0.769\n"
     ]
    }
   ],
   "source": [
    "# Calculate our evaluation metrics of interest\n",
    "hit_rate_pools = calc_hit_rate_pools(sorted_dev_evaluation_pools, dev_df)\n",
    "hit_rate_pools_with_cutoff = calc_hit_rate_pools_with_cutoff(sorted_dev_evaluation_pools, dev_df, rating_cutoff=4)\n",
    "rmse = hist_2.history[\"val_loss\"][-1]\n",
    "\n",
    "# Print our evaluation metrics of interest\n",
    "print('Model 2 (Embedding Size = 3) Metrics:')\n",
    "print('HR@10 random pools: %.3f' % hit_rate_pools)\n",
    "print('HR@10 random pools > 4: %.3f' % hit_rate_pools_with_cutoff)\n",
    "print('Root Mean Squared Error: %.3f' % rmse)"
   ]
  },
  {
   "cell_type": "code",
   "execution_count": 31,
   "metadata": {},
   "outputs": [
    {
     "name": "stdout",
     "output_type": "stream",
     "text": [
      "Epoch 1/4\n",
      "186387/186387 [==============================] - 2029s 11ms/step - loss: 0.7267 - val_loss: 0.7800\n",
      "Epoch 2/4\n",
      "186387/186387 [==============================] - 1604s 9ms/step - loss: 0.6560 - val_loss: 0.7495\n",
      "Epoch 3/4\n",
      "186387/186387 [==============================] - 1538s 8ms/step - loss: 0.6286 - val_loss: 0.7310\n",
      "Epoch 4/4\n",
      "186387/186387 [==============================] - 1558s 8ms/step - loss: 0.6141 - val_loss: 0.7335\n"
     ]
    }
   ],
   "source": [
    "# Fit model 3\n",
    "hist_3 = model_3.fit(\n",
    "    x=[train_df.movieEncoded, train_df.userEncoded],\n",
    "    y=train_df.rating, \n",
    "    batch_size=128, \n",
    "    epochs=4, \n",
    "    verbose=1,\n",
    "    validation_data=([dev_df.movieEncoded, dev_df.userEncoded],\n",
    "                     dev_df.rating)\n",
    ")"
   ]
  },
  {
   "cell_type": "code",
   "execution_count": 32,
   "metadata": {},
   "outputs": [
    {
     "name": "stdout",
     "output_type": "stream",
     "text": [
      "INFO:tensorflow:Assets written to: model_embedding_depth_10/assets\n"
     ]
    }
   ],
   "source": [
    "# save the model\n",
    "model_3.save('model_embedding_depth_10')"
   ]
  },
  {
   "cell_type": "code",
   "execution_count": 33,
   "metadata": {},
   "outputs": [
    {
     "data": {
      "image/png": "[encoded data removed]",
      "text/plain": [
       "<Figure size 432x288 with 1 Axes>"
      ]
     },
     "metadata": {
      "needs_background": "light"
     },
     "output_type": "display_data"
    }
   ],
   "source": [
    "# Plot training and dev los vs number of epochs\n",
    "plt.plot(hist_3.history[\"loss\"])\n",
    "plt.plot(hist_3.history[\"val_loss\"])\n",
    "plt.title(\"model 3 loss (embedding size = 10)\")\n",
    "plt.ylabel(\"loss\")\n",
    "plt.xlabel(\"epoch\")\n",
    "plt.legend([\"train\", \"dev\"], loc=\"upper left\")\n",
    "plt.show()"
   ]
  },
  {
   "cell_type": "code",
   "execution_count": 34,
   "metadata": {},
   "outputs": [],
   "source": [
    "# Sort dev evaluation pools based on embedding model\n",
    "sorted_dev_evaluation_pools = sort_evaluation_pools(model_3, dev_evaluation_pools, user2user_encoded, movie2movie_encoded)"
   ]
  },
  {
   "cell_type": "code",
   "execution_count": 35,
   "metadata": {},
   "outputs": [
    {
     "name": "stdout",
     "output_type": "stream",
     "text": [
      "Model 3 (Embedding Size = 10) Metrics:\n",
      "HR@10 random pools: 0.568\n",
      "HR@10 random pools > 4: 0.715\n",
      "Root Mean Squared Error: 0.734\n"
     ]
    }
   ],
   "source": [
    "# Calculate our evaluation metrics of interest\n",
    "hit_rate_pools = calc_hit_rate_pools(sorted_dev_evaluation_pools, dev_df)\n",
    "hit_rate_pools_with_cutoff = calc_hit_rate_pools_with_cutoff(sorted_dev_evaluation_pools, dev_df, rating_cutoff=4)\n",
    "rmse = hist_3.history[\"val_loss\"][-1]\n",
    "\n",
    "# Print our evaluation metrics of interest\n",
    "print('Model 3 (Embedding Size = 10) Metrics:')\n",
    "print('HR@10 random pools: %.3f' % hit_rate_pools)\n",
    "print('HR@10 random pools > 4: %.3f' % hit_rate_pools_with_cutoff)\n",
    "print('Root Mean Squared Error: %.3f' % rmse)"
   ]
  },
  {
   "cell_type": "code",
   "execution_count": null,
   "metadata": {},
   "outputs": [],
   "source": []
  }
 ],
 "metadata": {
  "kernelspec": {
   "display_name": "Python 3",
   "language": "python",
   "name": "python3"
  },
  "language_info": {
   "codemirror_mode": {
    "name": "ipython",
    "version": 3
   },
   "file_extension": ".py",
   "mimetype": "text/x-python",
   "name": "python",
   "nbconvert_exporter": "python",
   "pygments_lexer": "ipython3",
   "version": "3.7.6"
  }
 },
 "nbformat": 4,
 "nbformat_minor": 4
}
