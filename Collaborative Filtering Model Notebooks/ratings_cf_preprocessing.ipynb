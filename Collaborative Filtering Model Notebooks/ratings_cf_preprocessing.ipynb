{
 "cells": [
  {
   "cell_type": "markdown",
   "metadata": {},
   "source": [
    "## Import Packages"
   ]
  },
  {
   "cell_type": "code",
   "execution_count": 1,
   "metadata": {},
   "outputs": [],
   "source": [
    "# Import libraries.\n",
    "import time\n",
    "import numpy as np\n",
    "import matplotlib.pyplot as plt\n",
    "import pandas as pd\n",
    "import random\n",
    "import json\n",
    "import warnings\n",
    "\n",
    "np.random.seed(0)\n",
    "random.seed(0)\n",
    "warnings.filterwarnings('ignore')\n"
   ]
  },
  {
   "cell_type": "markdown",
   "metadata": {},
   "source": [
    "## Set Working Directory"
   ]
  },
  {
   "cell_type": "code",
   "execution_count": 13,
   "metadata": {},
   "outputs": [],
   "source": [
    "path_raw_data = '/Users/rathin/Documents/Projects/mids/W207/W207_movies/data/raw_data/'\n",
    "path_clean_data = '/Users/rathin/Documents/Projects/mids/W207/W207_movies/data/clean_data/'"
   ]
  },
  {
   "cell_type": "markdown",
   "metadata": {},
   "source": [
    "## Import Data"
   ]
  },
  {
   "cell_type": "code",
   "execution_count": 3,
   "metadata": {},
   "outputs": [],
   "source": [
    "#Load data into ratings_df. \n",
    "ratings_df = pd.read_csv(path_raw_data + \"ratings.csv\", low_memory=False)"
   ]
  },
  {
   "cell_type": "code",
   "execution_count": 4,
   "metadata": {},
   "outputs": [
    {
     "data": {
      "text/html": [
       "<div>\n",
       "<style scoped>\n",
       "    .dataframe tbody tr th:only-of-type {\n",
       "        vertical-align: middle;\n",
       "    }\n",
       "\n",
       "    .dataframe tbody tr th {\n",
       "        vertical-align: top;\n",
       "    }\n",
       "\n",
       "    .dataframe thead th {\n",
       "        text-align: right;\n",
       "    }\n",
       "</style>\n",
       "<table border=\"1\" class=\"dataframe\">\n",
       "  <thead>\n",
       "    <tr style=\"text-align: right;\">\n",
       "      <th></th>\n",
       "      <th>userId</th>\n",
       "      <th>movieId</th>\n",
       "      <th>rating</th>\n",
       "      <th>timestamp</th>\n",
       "    </tr>\n",
       "  </thead>\n",
       "  <tbody>\n",
       "    <tr>\n",
       "      <th>0</th>\n",
       "      <td>1</td>\n",
       "      <td>110</td>\n",
       "      <td>1.0</td>\n",
       "      <td>1425941529</td>\n",
       "    </tr>\n",
       "    <tr>\n",
       "      <th>1</th>\n",
       "      <td>1</td>\n",
       "      <td>147</td>\n",
       "      <td>4.5</td>\n",
       "      <td>1425942435</td>\n",
       "    </tr>\n",
       "    <tr>\n",
       "      <th>2</th>\n",
       "      <td>1</td>\n",
       "      <td>858</td>\n",
       "      <td>5.0</td>\n",
       "      <td>1425941523</td>\n",
       "    </tr>\n",
       "    <tr>\n",
       "      <th>3</th>\n",
       "      <td>1</td>\n",
       "      <td>1221</td>\n",
       "      <td>5.0</td>\n",
       "      <td>1425941546</td>\n",
       "    </tr>\n",
       "    <tr>\n",
       "      <th>4</th>\n",
       "      <td>1</td>\n",
       "      <td>1246</td>\n",
       "      <td>5.0</td>\n",
       "      <td>1425941556</td>\n",
       "    </tr>\n",
       "  </tbody>\n",
       "</table>\n",
       "</div>"
      ],
      "text/plain": [
       "   userId  movieId  rating   timestamp\n",
       "0       1      110     1.0  1425941529\n",
       "1       1      147     4.5  1425942435\n",
       "2       1      858     5.0  1425941523\n",
       "3       1     1221     5.0  1425941546\n",
       "4       1     1246     5.0  1425941556"
      ]
     },
     "execution_count": 4,
     "metadata": {},
     "output_type": "execute_result"
    }
   ],
   "source": [
    "# Display example of the data\n",
    "ratings_df.head()"
   ]
  },
  {
   "cell_type": "code",
   "execution_count": 5,
   "metadata": {},
   "outputs": [
    {
     "data": {
      "text/plain": [
       "(26024289, 4)"
      ]
     },
     "execution_count": 5,
     "metadata": {},
     "output_type": "execute_result"
    }
   ],
   "source": [
    "# Show size of the data\n",
    "ratings_df.shape"
   ]
  },
  {
   "cell_type": "markdown",
   "metadata": {},
   "source": [
    "## Define Preprocessing Functions"
   ]
  },
  {
   "cell_type": "code",
   "execution_count": 6,
   "metadata": {},
   "outputs": [],
   "source": [
    "def filter_ratings(ratings_df, min_ratings):\n",
    "    \n",
    "    '''\n",
    "    Filter users out users with the count of ratings below min_ratings\n",
    "    \n",
    "    Parameters\n",
    "    ----------\n",
    "    ratings_df : A dataframe of ratings data\n",
    "    min_ratings : The minimum number of ratings a user should have\n",
    "    \n",
    "    Returns\n",
    "    -------\n",
    "    filtered_df : Dataframe filtered to users with ratings > min_ratings\n",
    "    '''\n",
    "    \n",
    "    # Value counts of user ratings\n",
    "    user_ratings_counts = ratings_df['userId'].value_counts()\n",
    "    \n",
    "    # List of users with ratings counts greater than min_ratings\n",
    "    filtered_users = user_ratings_counts[user_ratings_counts >= min_ratings].index\n",
    "    \n",
    "    # Filter df to list of users above\n",
    "    filtered_df = ratings_df[ratings_df['userId'].isin(filtered_users)]\n",
    "    \n",
    "    return filtered_df"
   ]
  },
  {
   "cell_type": "code",
   "execution_count": 7,
   "metadata": {},
   "outputs": [],
   "source": [
    "def train_dev_test_split(ratings_df, dev_size=1, test_size=1):\n",
    "    \n",
    "    '''\n",
    "    Split user ratings data into train, development and test sets holding the last \n",
    "    [test_size] ratings per user for test and last [dev_size] ratings per user for \n",
    "    development, following reverse chronological order\n",
    "    \n",
    "    Parameters\n",
    "    ----------\n",
    "    ratings_df : A dataframe of ratings data\n",
    "    dev_size : The number of ratings per user to set asside development data\n",
    "    test_size : The number of ratings per user to set asside test data\n",
    "    \n",
    "    Returns\n",
    "    -------\n",
    "    train_df : Dataframe of training ratings data\n",
    "    dev_df : Dataframe of development ratings data\n",
    "    test_df :  Dataframe of test ratings data\n",
    "    '''\n",
    "    \n",
    "    # Add a column that ranks each rating in reverse chronolgical grouped by user\n",
    "    ratings_df['rank'] = ratings_df.groupby(['userId'])['timestamp'] \\\n",
    "                         .rank(method='first', ascending=False).copy()\n",
    "    \n",
    "    # Filter to test data using rank column\n",
    "    test_df = ratings_df[ratings_df['rank'].isin(range(1,1+test_size))][['userId', 'movieId', 'rating']]\n",
    "    \n",
    "    # Filter to dev data using rank column\n",
    "    dev_df = ratings_df[ratings_df['rank'].isin(range(1+test_size, 1+test_size+dev_size))][['userId', 'movieId', 'rating']]\n",
    "    \n",
    "    # Filter to train data using rank column\n",
    "    train_df = ratings_df[ratings_df['rank'] >= (1+test_size+dev_size)][['userId', 'movieId', 'rating']]\n",
    "        \n",
    "    return train_df, dev_df, test_df"
   ]
  },
  {
   "cell_type": "code",
   "execution_count": 8,
   "metadata": {},
   "outputs": [],
   "source": [
    "def create_evalutaion_pools(train_df, test_df, pool_size=100):\n",
    "    \n",
    "    '''\n",
    "    Create pools of movies to evaluate the collaborative filtering models.\n",
    "    Each pool will contain pool_size movies per user. Each pool includes the \n",
    "    movies in the test_df and randomly selects the rest of the movies from \n",
    "    those not watched by the user.\n",
    "    \n",
    "    Parameters\n",
    "    ----------\n",
    "    train_df : A dataframe of the training ratings data\n",
    "    test_df : A dataframe of the test ratings data\n",
    "    pool_size : The size of each movie pool\n",
    "    \n",
    "    Returns\n",
    "    -------\n",
    "    evaluation_pools_dict : A dictionary from user to the pool of movies on \n",
    "                            which to evaluate the recommender system\n",
    "    \n",
    "    '''\n",
    "    \n",
    "    # Find the list of unique users and movies in the training data\n",
    "    users = set(train_df['userId'].unique())\n",
    "    movies = set(train_df['movieId'].unique())\n",
    "    \n",
    "    # Instantiate the output dictionary\n",
    "    evaluation_pools_dict = {}\n",
    "    \n",
    "    # Loop through each user\n",
    "    for user in users:\n",
    "        \n",
    "        # Find set of movies rated by the user in the training and test data\n",
    "        train_movies = set(train_df[train_df['userId']==user]['movieId'])\n",
    "        test_movies = set(test_df[test_df['userId']==user]['movieId'])\n",
    "        \n",
    "        # Find the set of movies not rated by the user\n",
    "        movies_not_rated = movies - train_movies - test_movies\n",
    "        \n",
    "        # Randomly sample movies from the movies not rated by the user\n",
    "        n_movies_to_choose = pool_size - len(test_movies)\n",
    "        sample_movies_not_rated = set(random.sample(movies_not_rated, n_movies_to_choose))\n",
    "        \n",
    "        # Combine the test movies with the random sample of movies\n",
    "        evaluation_pool = list(test_movies | sample_movies_not_rated)\n",
    "        \n",
    "        # Add each evaluation_pool to the output dictionary \n",
    "        evaluation_pools_dict[user] = evaluation_pool\n",
    "    \n",
    "    return evaluation_pools_dict"
   ]
  },
  {
   "cell_type": "markdown",
   "metadata": {},
   "source": [
    "## Preprocess Data and Write to Output"
   ]
  },
  {
   "cell_type": "code",
   "execution_count": 9,
   "metadata": {},
   "outputs": [],
   "source": [
    "# Filter data to those users who have 30+ ratings\n",
    "filtered_data = filter_ratings(ratings_df, min_ratings = 30)\n",
    "\n",
    "# Split data so that we take the most recent rating as our test rating, \n",
    "# and second most recent rating as our dev rating \n",
    "train_df, dev_df, test_df = train_dev_test_split(filtered_data)\n",
    "\n",
    "# Make development and test movie evaluation pools\n",
    "dev_evaluation_pools = create_evalutaion_pools(train_df, dev_df)\n",
    "test_evaluation_pools = create_evalutaion_pools(train_df, test_df)"
   ]
  },
  {
   "cell_type": "code",
   "execution_count": 16,
   "metadata": {},
   "outputs": [],
   "source": [
    "# Write out processed data to csv\n",
    "train_df.to_csv(path_clean_data + 'ratings_cf_train.csv')\n",
    "dev_df.to_csv(path_clean_data + 'dev_cf_train.csv')\n",
    "test_df.to_csv(path_clean_data + 'test_cf_train.csv')"
   ]
  },
  {
   "cell_type": "code",
   "execution_count": 19,
   "metadata": {},
   "outputs": [],
   "source": [
    "# Write out evaluation_pools to json\n",
    "def convert(o):\n",
    "    if isinstance(o, np.int64): return int(o)  \n",
    "    raise TypeError\n",
    "\n",
    "with open(path_clean_data + 'dev_evaluation_pools.json', 'w') as fp:\n",
    "    dev_evaluation_pools = {int(k):v for k,v in dev_evaluation_pools.items()}\n",
    "    json.dump(dev_evaluation_pools, fp, indent=4, default=convert)\n",
    "with open(path_clean_data + 'test_evaluation_pools.json', 'w') as fp:\n",
    "    test_evaluation_pools = {int(k):v for k,v in test_evaluation_pools.items()}\n",
    "    json.dump(test_evaluation_pools, fp, indent=4, default=convert )"
   ]
  }
 ],
 "metadata": {
  "kernelspec": {
   "display_name": "Python 3",
   "language": "python",
   "name": "python3"
  },
  "language_info": {
   "codemirror_mode": {
    "name": "ipython",
    "version": 3
   },
   "file_extension": ".py",
   "mimetype": "text/x-python",
   "name": "python",
   "nbconvert_exporter": "python",
   "pygments_lexer": "ipython3",
   "version": "3.7.6"
  }
 },
 "nbformat": 4,
 "nbformat_minor": 4
}
