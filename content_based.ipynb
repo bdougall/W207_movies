{
 "cells": [
  {
   "cell_type": "markdown",
   "id": "e9533b06-7110-418e-9472-fc5b5117f953",
   "metadata": {},
   "source": [
    "### Step 1: Import packages"
   ]
  },
  {
   "cell_type": "code",
   "execution_count": 1,
   "id": "8394217b-7ec5-47b9-92ab-fc212d6c00a7",
   "metadata": {},
   "outputs": [],
   "source": [
    "import pandas as pd\n",
    "import numpy as np\n",
    "import matplotlib.pyplot as plt\n",
    "from scipy.sparse import hstack\n",
    "from scipy.sparse import csr_matrix\n",
    "from sklearn.preprocessing import MinMaxScaler\n",
    "from sklearn.preprocessing import StandardScaler\n",
    "from sklearn.decomposition import PCA\n",
    "from sklearn.model_selection import train_test_split\n",
    "from sklearn.model_selection import GridSearchCV\n",
    "from sklearn.feature_selection import SelectFromModel\n",
    "from sklearn.neighbors import KNeighborsClassifier\n",
    "from sklearn.linear_model import LogisticRegression\n",
    "from sklearn.naive_bayes import BernoulliNB\n",
    "from sklearn.ensemble import RandomForestClassifier\n",
    "from sklearn.svm import SVC\n",
    "from sklearn.mixture import GaussianMixture\n",
    "from sklearn.metrics.pairwise import cosine_similarity\n",
    "from sklearn.feature_extraction.text import *\n",
    "import xgboost as xgb\n",
    "from xgboost import XGBRegressor\n",
    "import warnings\n",
    "warnings.filterwarnings('ignore')"
   ]
  },
  {
   "cell_type": "markdown",
   "id": "60d7dd9b-c232-4dc4-bba3-f3b3d4576d55",
   "metadata": {},
   "source": [
    "### Step 2: Define working directories"
   ]
  },
  {
   "cell_type": "code",
   "execution_count": 2,
   "id": "ab05abd0-103d-4964-96ab-b799df715b4c",
   "metadata": {},
   "outputs": [],
   "source": [
    "path_raw_data = 'C:/Users/lbros/Documents/MIDS/W207/final_project/raw_data/'\n",
    "path_clean_data = 'C:/Users/lbros/Documents/MIDS/W207/final_project/clean_data/'"
   ]
  },
  {
   "cell_type": "markdown",
   "id": "826754a3-e66a-490a-9394-c965033b75a2",
   "metadata": {},
   "source": [
    "### Step 3: Load clean data"
   ]
  },
  {
   "cell_type": "markdown",
   "id": "af236d2d-65bd-4909-8025-b53a7a472b0b",
   "metadata": {},
   "source": [
    "#### Split ratings"
   ]
  },
  {
   "cell_type": "code",
   "execution_count": 3,
   "id": "77e3572a-528c-4b60-8958-770842618794",
   "metadata": {},
   "outputs": [],
   "source": [
    "# load ratings dataframes\n",
    "dev_train = pd.read_csv(path_clean_data + 'dev_train.csv')\n",
    "dev_test = pd.read_csv(path_clean_data + 'dev_test.csv')\n",
    "test_train = pd.read_csv(path_clean_data + 'test_train.csv')\n",
    "test_test = pd.read_csv(path_clean_data + 'test_test.csv')"
   ]
  },
  {
   "cell_type": "code",
   "execution_count": 4,
   "id": "c9ed7d75-a2e1-414a-a2aa-5b5e6b453a41",
   "metadata": {},
   "outputs": [],
   "source": [
    "# drop 'Unnamed 0' column\n",
    "dev_train.drop('Unnamed: 0', axis=1, inplace=True)\n",
    "dev_test.drop('Unnamed: 0', axis=1, inplace=True)\n",
    "test_train.drop('Unnamed: 0', axis=1, inplace=True)\n",
    "test_test.drop('Unnamed: 0', axis=1, inplace=True)"
   ]
  },
  {
   "cell_type": "code",
   "execution_count": 5,
   "id": "60ecbdef-1d61-4601-8c73-0f34ca00b808",
   "metadata": {},
   "outputs": [
    {
     "name": "stdout",
     "output_type": "stream",
     "text": [
      "Shapes\n",
      "dev_train: (906733, 3)\n",
      "dev_test: (5000, 3)\n",
      "test_train: (19545941, 3)\n",
      "test_test: (110715, 3)\n"
     ]
    }
   ],
   "source": [
    "# print dataframes shapes\n",
    "print('Shapes')\n",
    "print('dev_train:', dev_train.shape)\n",
    "print('dev_test:', dev_test.shape)\n",
    "print('test_train:', test_train.shape)\n",
    "print('test_test:', test_test.shape)"
   ]
  },
  {
   "cell_type": "code",
   "execution_count": 6,
   "id": "dd6bcb1c-5543-40d3-9f41-83189a8d20b9",
   "metadata": {},
   "outputs": [
    {
     "name": "stdout",
     "output_type": "stream",
     "text": [
      "Index(['userId', 'imdb_id', 'rating'], dtype='object')\n",
      "Index(['userId', 'imdb_id', 'rating'], dtype='object')\n",
      "Index(['userId', 'imdb_id', 'rating'], dtype='object')\n",
      "Index(['userId', 'imdb_id', 'rating'], dtype='object')\n"
     ]
    }
   ],
   "source": [
    "# print dataframes columns\n",
    "print(dev_train.columns)\n",
    "print(dev_test.columns)\n",
    "print(test_train.columns)\n",
    "print(test_test.columns)"
   ]
  },
  {
   "cell_type": "markdown",
   "id": "1f6738b2-7106-4798-88ae-ebbc4764507b",
   "metadata": {},
   "source": [
    "#### Movies"
   ]
  },
  {
   "cell_type": "code",
   "execution_count": 7,
   "id": "33937f1e-11ba-44b4-815c-348797407cfc",
   "metadata": {},
   "outputs": [],
   "source": [
    "# load movies dataframe\n",
    "movies_df = pd.read_csv(path_clean_data + 'movies_final.csv')"
   ]
  },
  {
   "cell_type": "code",
   "execution_count": 8,
   "id": "a92f1af8-da50-45bb-b958-cdb87cb47634",
   "metadata": {},
   "outputs": [],
   "source": [
    "# set imdb_id as index\n",
    "movies_df.set_index('imdb_id', verify_integrity=True, inplace=True)"
   ]
  },
  {
   "cell_type": "code",
   "execution_count": 9,
   "id": "f5981321",
   "metadata": {},
   "outputs": [
    {
     "name": "stdout",
     "output_type": "stream",
     "text": [
      "Proportion of movies with unknown tagline: 0.5505\n",
      "Proportion of movies with unknown overview: 0.0213\n",
      "Proportion of movies with unknown description: 0.3161\n",
      "Proportion of movies with unknown production companies or countries: 0.2719\n",
      "Proportion of movies with unknown cast or crew names: 0.0609\n"
     ]
    }
   ],
   "source": [
    "# Find the proportion of movies with an unknown tagline\n",
    "# Since more than half of movies in the dataset don't have a tagline, we'll drop this field\n",
    "print('Proportion of movies with unknown tagline: {:.4f}'.format(len(movies_df[movies_df.tagline == 'unknown'])/(len(movies_df))))\n",
    "\n",
    "# Find the proportion of movies with unknown overview - only about 2% of movies are missing this field\n",
    "print('Proportion of movies with unknown overview: {:.4f}'.format(len(movies_df[movies_df.overview == 'unknown'])/(len(movies_df))))\n",
    "\n",
    "# Find the proportion of movies with unknown description - ~ one-third of movies don't have a result for this field\n",
    "# Since the overview field also contains a description, but contains fewer missing values, we'll use this field\n",
    "print('Proportion of movies with unknown description: {:.4f}'.format(len(movies_df[movies_df.description == 'unknown'])/(len(movies_df))))\n",
    "\n",
    "# Find the proportion of movies without production companies or production countries listed\n",
    "# Nearly a third of films in the dataset don't have a value for production companies or production countries\n",
    "# We'll drop these fields\n",
    "print('Proportion of movies with unknown production companies or countries: {:.4f}'.format(len(\n",
    "    (movies_df[(movies_df.production_companies == 'unknown') | (movies_df.production_countries == 'unknown')]))\n",
    "                                                     /len(movies_df)))\n",
    "\n",
    "# Only a small proportion of films are missing cast or crew names, so we'll keep these fields\n",
    "print('Proportion of movies with unknown cast or crew names: {:.4f}'.format(len(\n",
    "    (movies_df[(movies_df.cast_names == 'unknown') | (movies_df.crew_names == 'unknown')]))\n",
    "                                                     /len(movies_df)))"
   ]
  },
  {
   "cell_type": "code",
   "execution_count": 10,
   "id": "44445309-34b5-4d5f-8426-07c260c3ba9d",
   "metadata": {},
   "outputs": [],
   "source": [
    "# remove fields unnamed: 0, id, tagline, description, production_countries, production_companies\n",
    "movies_df = movies_df.drop(['Unnamed: 0', 'id', 'tagline', \n",
    "                            'description', 'production_countries', 'production_companies'], axis=1)"
   ]
  },
  {
   "cell_type": "code",
   "execution_count": 11,
   "id": "44fbcf4b-a9ed-4a4e-9fdc-ca6cd56cdd48",
   "metadata": {},
   "outputs": [
    {
     "data": {
      "text/plain": [
       "(44628, 173)"
      ]
     },
     "execution_count": 11,
     "metadata": {},
     "output_type": "execute_result"
    }
   ],
   "source": [
    "# print dataframe shape\n",
    "movies_df.shape"
   ]
  },
  {
   "cell_type": "code",
   "execution_count": 12,
   "id": "7e287c09-ab07-476e-b8c1-541cb3fd5899",
   "metadata": {
    "tags": []
   },
   "outputs": [
    {
     "data": {
      "text/plain": [
       "Index(['adult', 'belongs_to_collection', 'budget', 'originally_english',\n",
       "       'overview', 'popularity', 'revenue', 'runtime', 'title', 'video',\n",
       "       ...\n",
       "       'zh', 'zu', 'canceled', 'in-production', 'planned', 'post-production',\n",
       "       'released', 'rumored', 'cast_names', 'crew_names'],\n",
       "      dtype='object', length=173)"
      ]
     },
     "execution_count": 12,
     "metadata": {},
     "output_type": "execute_result"
    }
   ],
   "source": [
    "# print dataframe columns\n",
    "movies_df.columns"
   ]
  },
  {
   "cell_type": "markdown",
   "id": "8c8d973a-0c48-4a18-b8cc-bc6777cd297f",
   "metadata": {},
   "source": [
    "### Step 4: Vectorize text fields"
   ]
  },
  {
   "cell_type": "markdown",
   "id": "9ccbb556",
   "metadata": {},
   "source": [
    "Since we had insufficient memory to keep all text features from all fields, we chose to limit the features retained from transforming the text features in the literature to a subset of features. Based upon examples in the literature, we chose to keep the top 200 most significant words to the overview and title fields. We elected to further narrow the crew and cast names to the 100 most significant crew and cast names respectively."
   ]
  },
  {
   "cell_type": "code",
   "execution_count": 13,
   "id": "4008eb35-3136-45e9-8914-805f89539194",
   "metadata": {},
   "outputs": [
    {
     "name": "stdout",
     "output_type": "stream",
     "text": [
      "movies_df shape:  (44628, 769)\n"
     ]
    }
   ],
   "source": [
    "# create an instance of a TfidfVectorizer object for overview\n",
    "# set it to keep the top 200 most significant words in the overview column\n",
    "tfidf_overview = TfidfVectorizer(max_features=200)\n",
    "t_overview = tfidf_overview.fit_transform(movies_df.overview)\n",
    "\n",
    "# create a dataframe of the transformed top 200 overview features\n",
    "overview = pd.DataFrame(t_overview.todense()).add_prefix('overview_')\n",
    "\n",
    "# fill the NA values in the title column with unknown\n",
    "movies_df.title.fillna('unknown', inplace=True)\n",
    "\n",
    "# create an instance of a TfidfVectorizer object for title\n",
    "# set it to keep the top 200 most significant words in the title column\n",
    "tfidf_title = TfidfVectorizer(max_features=200)\n",
    "t_title = tfidf_title.fit_transform(movies_df.title)\n",
    "\n",
    "# create a dataframe of the transformed top 200 overview features\n",
    "title = pd.DataFrame(t_title.todense()).add_prefix('title_')\n",
    "\n",
    "# create an instance of a TfidfVectorizer object for cast names, keeping the 100 most significant cast names\n",
    "tfidf_cast = TfidfVectorizer(max_features=100)\n",
    "t_cast = tfidf_cast.fit_transform(movies_df.cast_names)\n",
    "\n",
    "# create a dataframe of the transformed top 100 cast name features\n",
    "cast = pd.DataFrame(t_cast.todense()).add_prefix('cast_')\n",
    "\n",
    "# create an instance of a TfidfVectorizer for crew names, keeping the 100 most significant crew names\n",
    "tfidf_crew = TfidfVectorizer(max_features=100)\n",
    "t_crew = tfidf_crew.fit_transform(movies_df.crew_names)\n",
    "\n",
    "# create a dataframe of the transformed top 100 crew name features\n",
    "crew = pd.DataFrame(t_crew.todense()).add_prefix('crew_')\n",
    "\n",
    "# concatenate these columns into a single dataframe\n",
    "text = pd.concat([overview, title, cast, crew], axis=1)\n",
    "\n",
    "# free-up memory deleting intermediate objects\n",
    "del overview\n",
    "del title\n",
    "del cast\n",
    "del crew\n",
    "\n",
    "# drop the text columns that have been converted to numeric scores from movies_df\n",
    "movies_df.drop(['overview', 'title', 'cast_names', 'crew_names'], axis=1, inplace=True)\n",
    "\n",
    "# add back to the movies_df the numeric representations of the original text columns\n",
    "movies_df = pd.concat([movies_df.reset_index(), text], axis=1).set_index('imdb_id')\n",
    "print('movies_df shape: ', movies_df.shape)\n",
    "\n",
    "# free-up memory deleting intermediate objects\n",
    "del text"
   ]
  },
  {
   "cell_type": "markdown",
   "id": "24de1b5e-d963-48d8-8c4c-b1d7dc910b84",
   "metadata": {},
   "source": [
    "### Step 5: Normalize features"
   ]
  },
  {
   "cell_type": "code",
   "execution_count": 14,
   "id": "7f67c2be-3cc8-42d8-879f-7d066be6b018",
   "metadata": {},
   "outputs": [
    {
     "name": "stdout",
     "output_type": "stream",
     "text": [
      "num_rep shape:  (44628, 769)\n"
     ]
    }
   ],
   "source": [
    "# transform movies_df in a numpy array\n",
    "a = movies_df.values\n",
    "\n",
    "# create an instance of a MinMaxScaler and fit it to the numeric data\n",
    "min_max_sc = MinMaxScaler()\n",
    "num_rep = min_max_sc.fit_transform(a)\n",
    "print('num_rep shape: ', num_rep.shape)"
   ]
  },
  {
   "cell_type": "code",
   "execution_count": 15,
   "id": "f3069d4e-e8f6-4547-8bc9-909f9e05a005",
   "metadata": {},
   "outputs": [
    {
     "name": "stdout",
     "output_type": "stream",
     "text": [
      "The sparsity of the movies numeric metadata is: 97.43 percent\n"
     ]
    }
   ],
   "source": [
    "# the num_rep dataset has a high degree of sparsity; therefore, we'll use CSR to reduce model runtime (improve space complexity)\n",
    "print('The sparsity of the movies numeric metadata is:',\n",
    "      round((np.size(num_rep)-np.count_nonzero(num_rep))/np.size(num_rep)*100,2),\n",
    "      'percent')"
   ]
  },
  {
   "cell_type": "code",
   "execution_count": 16,
   "id": "1a34490c-f3e5-4285-a731-3a554c67cfed",
   "metadata": {},
   "outputs": [
    {
     "name": "stdout",
     "output_type": "stream",
     "text": [
      "movie_features_csr:  (44628, 769)\n"
     ]
    }
   ],
   "source": [
    "# reduce the movies dataframe to a csr sparse matrix to reduce classifier run time\n",
    "movie_features_csr = csr_matrix(num_rep)\n",
    "print('movie_features_csr: ', movie_features_csr.shape)\n",
    "\n",
    "# free-up memory deleting intermediate objects\n",
    "del num_rep"
   ]
  },
  {
   "cell_type": "markdown",
   "id": "517ceda4-6955-4e8e-87d2-01b95261f899",
   "metadata": {},
   "source": [
    "### Step 6: Reduce dimensionality using PCA and then via feature selection using XGBoost"
   ]
  },
  {
   "cell_type": "markdown",
   "id": "b026a18d",
   "metadata": {},
   "source": [
    "#### Standardize the data, test the correlation, and reduce using PCA until 70 - 80% explained variance is achieved."
   ]
  },
  {
   "cell_type": "code",
   "execution_count": 17,
   "id": "be24991e-79ac-45e6-beb4-9c8e39646e9e",
   "metadata": {},
   "outputs": [],
   "source": [
    "# Create an instance of a Standard Scaler and fit it to the numeric data\n",
    "sc = StandardScaler()\n",
    "features = sc.fit_transform(a)\n",
    "\n",
    "# free-up memory deleting intermediate objects\n",
    "del a"
   ]
  },
  {
   "cell_type": "code",
   "execution_count": 18,
   "id": "6f2e1a52",
   "metadata": {},
   "outputs": [],
   "source": [
    "# Create the correlation matrix between all dataframe values to see if PCA reduction is applicable\n",
    "cm = movies_df.corr().values"
   ]
  },
  {
   "cell_type": "code",
   "execution_count": 19,
   "id": "dc886cfe",
   "metadata": {},
   "outputs": [
    {
     "name": "stdout",
     "output_type": "stream",
     "text": [
      "92 of 769 features (11.96%) have a moderate degree of correlation\n"
     ]
    }
   ],
   "source": [
    "# There are only 92 features with a moderate degree of correlation (~11.96%)\n",
    "# This indicates that PCA reduction might not be the best choice for reducing the number of features\n",
    "mod_corr = np.count_nonzero((cm >= 0.3) & (cm < 1))\n",
    "print(f'{mod_corr} of {cm.shape[1]} features ({\"{:.2%}\".format((mod_corr/cm.shape[1]))}) '\n",
    "      f'have a moderate degree of correlation')"
   ]
  },
  {
   "cell_type": "code",
   "execution_count": 20,
   "id": "2695068e",
   "metadata": {},
   "outputs": [
    {
     "name": "stdout",
     "output_type": "stream",
     "text": [
      "Running PCA on Movie Features... \n",
      "\n",
      "pca_features shape:  (44628, 475)\n",
      "pca_variance: 0.695\n"
     ]
    }
   ],
   "source": [
    "# Use PCA to reduce the number of dimensions and check the explained variance sum\n",
    "# According to the literature, a good rule of thumb for fraction of explained variance is 70 - 80%\n",
    "print(\"Running PCA on Movie Features... \\n\")\n",
    "ncomp = 475\n",
    "pca = PCA(n_components=ncomp)\n",
    "pca_features = pca.fit_transform(features)\n",
    "print('pca_features shape: ', pca_features.shape)\n",
    "pca_variance = pca.explained_variance_ratio_.sum()\n",
    "print('pca_variance: {:.3f}'.format(pca_variance))"
   ]
  },
  {
   "cell_type": "markdown",
   "id": "0769f084",
   "metadata": {},
   "source": [
    "#### Find the most important features and filter the dataset via XGBoost"
   ]
  },
  {
   "cell_type": "markdown",
   "id": "f65a6f97",
   "metadata": {},
   "source": [
    "Since less than 12% of features have a correlation coefficient of >= 0.3 (excluding the correlations between each feature and itself) and a large number of features must be retained in order to explain 70% of the variance, we decided to try another approach to narrow down the number of features in our model. \n",
    "\n",
    "Because it is too computationally expensive to determine which features are most important in determining the rank that each user gives a movie, we chose to narrow the dataset based upon the most important features in determining how well a movie is liked on average. We theorize that most users will like or dislike a film for the same reasons as the general population of reviewers. Since many movies have few reviews, in order to determine which features are important, we will first calculate the Imdb weighted average value for each movie. The formula for the weighted average field was found at the following site: https://medium.com/@developeraritro/building-a-recommendation-system-using-weighted-hybrid-technique-75598b6be8ed\n",
    "\n",
    "Since the Imdb weighted average feature will be continuous and on a different scale than ratings (0 - 5), we will use XGBRegressor to evaluate feature importance. The most important features will then be selected and the hit rate tests for the best performing classifiers re-run to see if reducing the features used improves hit rate performance."
   ]
  },
  {
   "cell_type": "code",
   "execution_count": 21,
   "id": "e8d4bd2f",
   "metadata": {},
   "outputs": [],
   "source": [
    "# Create the colum for the weighted average\n",
    "v = movies_df['vote_count']\n",
    "R = movies_df['vote_average']\n",
    "C = movies_df['vote_average'].mean()\n",
    "m = movies_df['vote_count'].quantile(.7)\n",
    "movies_df['weighted_avg'] = ((R*v) + (C*m))/(v+m)"
   ]
  },
  {
   "cell_type": "code",
   "execution_count": 22,
   "id": "f40baea8",
   "metadata": {},
   "outputs": [],
   "source": [
    "# Create training and test data sets from the features\n",
    "# The y variable will be the weighted average rating\n",
    "X, Y = movies_df.loc[:, movies_df.columns != 'weighted_avg'], movies_df.weighted_avg\n",
    "\n",
    "# Split the movies into training and test data\n",
    "X_train, X_test, y_train, y_test = train_test_split(X,Y,test_size=.50, random_state=42)"
   ]
  },
  {
   "cell_type": "code",
   "execution_count": 23,
   "id": "eaf34b1d",
   "metadata": {},
   "outputs": [
    {
     "data": {
      "text/plain": [
       "GridSearchCV(cv=3,\n",
       "             estimator=XGBRegressor(base_score=None, booster=None,\n",
       "                                    colsample_bylevel=None,\n",
       "                                    colsample_bynode=None,\n",
       "                                    colsample_bytree=None, gamma=None,\n",
       "                                    gpu_id=None, importance_type='gain',\n",
       "                                    interaction_constraints=None,\n",
       "                                    learning_rate=None, max_delta_step=None,\n",
       "                                    max_depth=None, min_child_weight=None,\n",
       "                                    missing=nan, monotone_constraints=None,\n",
       "                                    n_estimators=100, n_jobs=None,\n",
       "                                    num_parallel_tree=None, random_state=None,\n",
       "                                    reg_alpha=None, reg_lambda=None,\n",
       "                                    scale_pos_weight=None, seed=20,\n",
       "                                    subsample=None, tree_method=None,\n",
       "                                    validate_parameters=None, verbosity=None),\n",
       "             param_grid={'colsample_bytree': [0.3, 0.5, 0.7, 1],\n",
       "                         'learning_rate': [0.01, 0.05, 0.1],\n",
       "                         'max_depth': [3, 6, 10], 'subsample': [0.6, 0.8, 1]},\n",
       "             scoring='neg_mean_squared_error')"
      ]
     },
     "execution_count": 23,
     "metadata": {},
     "output_type": "execute_result"
    }
   ],
   "source": [
    "# Create an instance of an XGBRegressor, with a seed for reproducibility\n",
    "xgb = XGBRegressor(seed = 20)\n",
    "\n",
    "# Define the parameters to be tested with GridSearch CV, using common parameter values\n",
    "params = {'max_depth':[3,6,10], # Set the maximum depth of a tree\n",
    "          'learning_rate':[0.01, 0.05, 0.1], # Set the learning rate\n",
    "          'subsample': [0.6, 0.8, 1], # Set the fraction of data to be used in each fitting step\n",
    "          'colsample_bytree': [0.3, 0.5, 0.7, 1], # Set the fraction of features to be used in each fitting step\n",
    "          }\n",
    "    \n",
    "# Create an instance of a grid search cv object to test combinations of the parameters\n",
    "clf = GridSearchCV(estimator=xgb, \n",
    "                   param_grid=params,\n",
    "                   scoring='neg_mean_squared_error',\n",
    "                   cv=3)\n",
    "\n",
    "# Fit the Grid Search object to the training data from the movies dataset\n",
    "clf.fit(X_train, y_train)"
   ]
  },
  {
   "cell_type": "code",
   "execution_count": 24,
   "id": "a85b120b",
   "metadata": {},
   "outputs": [],
   "source": [
    "# Return the model with the parameters with the best score on the training data (from GridSearch)\n",
    "optimized_xgb = clf.best_estimator_"
   ]
  },
  {
   "cell_type": "code",
   "execution_count": 25,
   "id": "fc4f055d",
   "metadata": {},
   "outputs": [],
   "source": [
    "# Store the feature importances in a variable\n",
    "thresholds = optimized_xgb.feature_importances_"
   ]
  },
  {
   "cell_type": "code",
   "execution_count": 26,
   "id": "24fd1574",
   "metadata": {},
   "outputs": [],
   "source": [
    "# Get the smallest non-zero feature importance\n",
    "min_threshold = min(i for i in thresholds if i > 0)"
   ]
  },
  {
   "cell_type": "code",
   "execution_count": 27,
   "id": "199ddaa7",
   "metadata": {},
   "outputs": [
    {
     "data": {
      "text/plain": [
       "464"
      ]
     },
     "execution_count": 27,
     "metadata": {},
     "output_type": "execute_result"
    }
   ],
   "source": [
    "# Find the number of features with an importance greater than or equal to the minimum threshold value\n",
    "np.count_nonzero(optimized_xgb.feature_importances_ >= min_threshold)"
   ]
  },
  {
   "cell_type": "code",
   "execution_count": 28,
   "id": "51427a74",
   "metadata": {},
   "outputs": [],
   "source": [
    "# Select features, filtering out only those features with an importance score of 0\n",
    "selection = SelectFromModel(optimized_xgb, threshold=min_threshold, prefit=True)\n",
    "xgb_select_features = selection.transform(X)"
   ]
  },
  {
   "cell_type": "code",
   "execution_count": 29,
   "id": "262f2792",
   "metadata": {},
   "outputs": [],
   "source": [
    "# Create a dataframe from these features with non-zero importance to be used in our classifier test\n",
    "xgb_features = pd.DataFrame(xgb_select_features)\n",
    "\n",
    "# free-up memory deleting intermediate objects\n",
    "del xgb_select_features"
   ]
  },
  {
   "cell_type": "code",
   "execution_count": 30,
   "id": "6048ba08-0c71-48b3-ac53-cdb6f700e360",
   "metadata": {},
   "outputs": [],
   "source": [
    "# create an instance of a MinMaxScaler and fit it to the numeric data\n",
    "min_max_sc = MinMaxScaler()\n",
    "norm_xgb_features = min_max_sc.fit_transform(xgb_features.values)\n",
    "\n",
    "# free-up memory deleting intermediate objects\n",
    "del xgb_features"
   ]
  },
  {
   "cell_type": "code",
   "execution_count": 31,
   "id": "bc4717a1",
   "metadata": {},
   "outputs": [
    {
     "name": "stdout",
     "output_type": "stream",
     "text": [
      "xgb_features_csr shape:  (44628, 464)\n"
     ]
    }
   ],
   "source": [
    "# Convert to a CSR sparse matrix\n",
    "xgb_features_csr = csr_matrix(norm_xgb_features)\n",
    "print('xgb_features_csr shape: ', xgb_features_csr.shape)\n",
    "\n",
    "# free-up memory deleting intermediate objects\n",
    "del norm_xgb_features"
   ]
  },
  {
   "cell_type": "markdown",
   "id": "93781965-810d-41a5-a7fb-6f42aef43564",
   "metadata": {},
   "source": [
    "### Step 7: Define functions to test and tune hyperparameters for different classifiers"
   ]
  },
  {
   "cell_type": "code",
   "execution_count": 32,
   "id": "1d6e79c9-b640-42ec-9838-e26381c688f5",
   "metadata": {},
   "outputs": [],
   "source": [
    "def run_clf(user_id, clf, num_rep, train_ratings_data=dev_train, test_ratings_data=dev_test, movies_data=movies_df, num_reshuffles=0):\n",
    "    \n",
    "    '''Run a classifier for a single user and return the score'''\n",
    "    \n",
    "    # get movies and ratings from user training data\n",
    "    train_movies = train_ratings_data[train_ratings_data['userId']==user_id]['imdb_id']\n",
    "    train_ratings = train_ratings_data[train_ratings_data['userId']==user_id]['rating']\n",
    "    \n",
    "    # get movie and rating for hold out user test data\n",
    "    hold_out_movie = test_ratings_data[test_ratings_data['userId']==user_id]['imdb_id']\n",
    "    hold_out_rating = test_ratings_data[test_ratings_data['userId']==user_id]['rating']\n",
    "    \n",
    "    # complement test data with other 99 randomly selected movies\n",
    "    allowed_list = movies_data.loc[~movies_data.index.isin(train_movies.append(hold_out_movie))]\n",
    "    rd_movies = allowed_list.sample(n=99, replace=False).index.to_series()\n",
    "    test_movies = hold_out_movie.append(rd_movies)\n",
    "    \n",
    "    # extract X_train and X_test matrices\n",
    "    X_train = num_rep[[movies_data.index.get_loc(x) for x in train_movies], :]\n",
    "    X_test = num_rep[[movies_data.index.get_loc(x) for x in test_movies], :]\n",
    "    \n",
    "    # extract y_train vector\n",
    "    y_train = train_ratings.values\n",
    "    \n",
    "    # fit training data\n",
    "    clf.fit(X_train, y_train)\n",
    "    # compute probabilities for each class\n",
    "    proba = clf.predict_proba(X_test)\n",
    "    \n",
    "    # compute the ranking for class==test_ratings\n",
    "    ranking = np.argsort(proba, axis=0)[:,clf.classes_[clf.classes_==int(hold_out_rating)]].reshape(100,1)\n",
    "    \n",
    "    # store the vote_count for each movie\n",
    "    popularity = movies_data.loc[movies_data.index.isin(test_movies)]['vote_count'].values.reshape(100,1)\n",
    "    \n",
    "    # for each reshuffle\n",
    "    for _ in np.arange(num_reshuffles):\n",
    "        # compute the most popular movie among the top-10 and least popular among the others\n",
    "        most_popular = ranking[(popularity == popularity[ranking > 89].max()) & (ranking > 89)][0]\n",
    "        least_popular = ranking[(popularity == popularity[(ranking > 70) & (ranking < 90)].min()) & (ranking > 70) & (ranking < 90)][0]\n",
    "        # reshuffle the ranks of the most popular among the top-10 with the least popular among the others\n",
    "        ranking[ranking == most_popular] = 1000\n",
    "        ranking[ranking == least_popular] = -1000\n",
    "        ranking[ranking == 1000] = least_popular\n",
    "        ranking[ranking == -1000] = most_popular\n",
    "    \n",
    "    # apply a positive hit if test example ranked on top-10 in descending order\n",
    "    hit = ranking[0] > 89\n",
    "    \n",
    "    # compute tuple (true_label, predicted_label) for hold out test movie\n",
    "    true_label = int(hold_out_rating)\n",
    "    pred_label = clf.predict(X_test)[0]\n",
    "    tup = (pred_label, true_label)\n",
    "    \n",
    "    # compute the novelty score (average number of votes for the top-10 movies)\n",
    "    novelty = popularity[ranking > 89].mean()\n",
    "    \n",
    "    return hit, tup, novelty"
   ]
  },
  {
   "cell_type": "code",
   "execution_count": 33,
   "id": "521f4068-08ef-4cd2-9314-0a0f805087f6",
   "metadata": {},
   "outputs": [],
   "source": [
    "def get_hit_rate(user_list, clf, num_rep, train_ratings_data=dev_train, test_ratings_data=dev_test, movies_data=movies_df, num_reshuffles=0):\n",
    "\n",
    "    '''Compute hit rate, f1 score and novelty score across diferent users'''\n",
    "    \n",
    "    hit_list = []\n",
    "    conf_matrix = {(0,0): 0, (0,1): 0, (1,0): 0, (1,1): 0}\n",
    "    novelty_list = []\n",
    "    for user_id in user_list:\n",
    "        hit, tup, novelty = run_clf(user_id, clf=clf, num_rep=num_rep, train_ratings_data=train_ratings_data, test_ratings_data=test_ratings_data, \n",
    "                            movies_data=movies_data, num_reshuffles=num_reshuffles)\n",
    "        hit_list.append(bool(hit))\n",
    "        conf_matrix[tup] += 1\n",
    "        novelty_list.append(novelty)\n",
    "    hit_rate = sum(hit_list) / len(hit_list)\n",
    "    precision = conf_matrix[(1,1)] / (conf_matrix[(1,1)] + conf_matrix[(1,0)])\n",
    "    recall = conf_matrix[(1,1)] / (conf_matrix[(1,1)] + conf_matrix[(0,1)])\n",
    "    f1_score = 0 if (precision + recall == 0) else 2 * (precision * recall) / (precision + recall)\n",
    "    novelty_score = sum(novelty_list) / len(novelty_list)\n",
    "    return hit_rate, f1_score, novelty_score"
   ]
  },
  {
   "cell_type": "code",
   "execution_count": 34,
   "id": "66d5de2a-329c-424d-a6fe-2fa9479f7aef",
   "metadata": {},
   "outputs": [],
   "source": [
    "def run_gmm(user_id, n_components, num_rep, train_ratings_data=dev_train, test_ratings_data=dev_test, movies_data=movies_df, num_reshuffles=0):\n",
    "    \n",
    "    '''Fit two GMMs, one for the positive and other for the negative examples, and use\n",
    "    the weighted log probabilities to compute the ranking and return the score'''\n",
    "    \n",
    "    # get movies and ratings from user training data\n",
    "    train_movies = train_ratings_data[train_ratings_data['userId']==user_id]['imdb_id']\n",
    "    train_ratings = train_ratings_data[train_ratings_data['userId']==user_id]['rating']\n",
    "    \n",
    "    # get movie and rating for hold out user test data\n",
    "    hold_out_movie = test_ratings_data[test_ratings_data['userId']==user_id]['imdb_id']\n",
    "    hold_out_rating = test_ratings_data[test_ratings_data['userId']==user_id]['rating']\n",
    "    \n",
    "    # complement test data with other 99 randomly selected movies\n",
    "    allowed_list = movies_data.loc[~movies_data.index.isin(train_movies.append(hold_out_movie))]\n",
    "    rd_movies = allowed_list.sample(n=99, replace=False).index.to_series()\n",
    "    test_movies = hold_out_movie.append(rd_movies)\n",
    "    \n",
    "    # extract X_train and X_test matrices\n",
    "    X_train = num_rep[[movies_data.index.get_loc(x) for x in train_movies], :].toarray()\n",
    "    X_test = num_rep[[movies_data.index.get_loc(x) for x in test_movies], :].toarray()\n",
    "    \n",
    "    # extract y_train vector\n",
    "    y_train = train_ratings.values\n",
    "    #print('y_train shape:', y_train.shape, '\\n')\n",
    "    \n",
    "    # fit two GMMs, one for the positive labels and one for the negative labels\n",
    "    gmm_0 = GaussianMixture(n_components=n_components, covariance_type='tied', random_state=100)\n",
    "    gmm_0.fit(X_train[y_train==0])\n",
    "    gmm_1 = GaussianMixture(n_components=n_components, covariance_type='tied', random_state=100)\n",
    "    gmm_1.fit(X_train[y_train==1])\n",
    "    \n",
    "    # compute the weighted log probabilities for each test example in both models\n",
    "    log_prob_0 = gmm_0.score_samples(X_test)\n",
    "    log_prob_1 = gmm_1.score_samples(X_test)\n",
    "    proba = np.vstack((log_prob_0, log_prob_1)).T\n",
    "    \n",
    "    # compute the ranking for class==test_ratings\n",
    "    ranking = np.argsort(proba, axis=0)[:,int(hold_out_rating)]\n",
    "    \n",
    "    # store the vote_count for each movie\n",
    "    popularity = movies_data.loc[movies_data.index.isin(test_movies)]['vote_count'].values.reshape(100,1)\n",
    "    \n",
    "    # for each reshuffle\n",
    "    for _ in np.arange(num_reshuffles):\n",
    "        # compute the most popular movie among the top-10 and least popular among the others\n",
    "        most_popular = ranking[(popularity == popularity[ranking > 89].max()) & (ranking > 89)][0]\n",
    "        least_popular = ranking[(popularity == popularity[(ranking > 70) & (ranking < 90)].min()) & (ranking > 70) & (ranking < 90)][0]\n",
    "        # reshuffle the ranks of the most popular among the top-10 with the least popular among the others\n",
    "        ranking[ranking == most_popular] = 1000\n",
    "        ranking[ranking == least_popular] = -1000\n",
    "        ranking[ranking == 1000] = least_popular\n",
    "        ranking[ranking == -1000] = most_popular    \n",
    "    \n",
    "    # apply a positive hit if test example ranked on top-10 in descending order\n",
    "    hit = ranking[0] > 89\n",
    "    \n",
    "    # compute tuple (true_label, predicted_label) for hold out test movie\n",
    "    true_label = int(hold_out_rating)\n",
    "    pred_label = 1 if proba[0,1] > proba[0,0] else 0 \n",
    "    tup = (pred_label, true_label)\n",
    "    \n",
    "    # compute the novelty score (average number of votes for the top-10 movies)\n",
    "    novelty = popularity[ranking > 89].mean()\n",
    "    \n",
    "    return hit, tup, novelty"
   ]
  },
  {
   "cell_type": "code",
   "execution_count": 35,
   "id": "dacaff57-b04c-4e07-93c1-4f3e0a52f1b8",
   "metadata": {},
   "outputs": [],
   "source": [
    "def get_hit_rate_gmm(user_list, n_components, num_rep, train_ratings_data=dev_train, \n",
    "                     test_ratings_data=dev_test, movies_data=movies_df, num_reshuffles=0):\n",
    "\n",
    "    '''Compute hit rate, f1 score and novelty score across diferent users for GMM'''\n",
    "    \n",
    "    hit_list = []\n",
    "    conf_matrix = {(0,0): 0, (0,1): 0, (1,0): 0, (1,1): 0}\n",
    "    novelty_list = []\n",
    "    for user_id in user_list:\n",
    "        hit, tup, novelty = run_gmm(user_id, n_components=n_components, num_rep=num_rep, train_ratings_data=train_ratings_data,\n",
    "                           test_ratings_data=test_ratings_data, movies_data=movies_data, num_reshuffles=num_reshuffles)\n",
    "        hit_list.append(bool(hit))\n",
    "        conf_matrix[tup] += 1\n",
    "        novelty_list.append(novelty)\n",
    "    hit_rate = sum(hit_list) / len(hit_list)\n",
    "    precision = conf_matrix[(1,1)] / (conf_matrix[(1,1)] + conf_matrix[(1,0)])\n",
    "    recall = conf_matrix[(1,1)] / (conf_matrix[(1,1)] + conf_matrix[(0,1)])\n",
    "    f1_score = 0 if (precision + recall == 0) else 2 * (precision * recall) / (precision + recall)\n",
    "    novelty_score = sum(novelty_list) / len(novelty_list)\n",
    "    return hit_rate, f1_score, novelty_score"
   ]
  },
  {
   "cell_type": "code",
   "execution_count": 36,
   "id": "5c3fc18d-eba2-4e09-99a4-20ad0ce48a45",
   "metadata": {},
   "outputs": [],
   "source": [
    "def run_cosim(user_id, num_rep, train_ratings_data=dev_train, test_ratings_data=dev_test, movies_data=movies_df, num_reshuffles=0):\n",
    "    \n",
    "    '''Compute two cosine similarity distances for each example in the test set, one against the positive examples in the training\n",
    "    set and other against the negative examples, and use the distances to compute the ranking and return the score'''\n",
    "    \n",
    "    # get movies and ratings from user training data\n",
    "    train_movies = train_ratings_data[train_ratings_data['userId']==user_id]['imdb_id']\n",
    "    train_ratings = train_ratings_data[train_ratings_data['userId']==user_id]['rating']\n",
    "    \n",
    "    # get movie and rating for hold out user test data\n",
    "    hold_out_movie = test_ratings_data[test_ratings_data['userId']==user_id]['imdb_id']\n",
    "    hold_out_rating = test_ratings_data[test_ratings_data['userId']==user_id]['rating']\n",
    "    \n",
    "    # complement test data with other 99 randomly selected movies\n",
    "    allowed_list = movies_data.loc[~movies_data.index.isin(train_movies.append(hold_out_movie))]\n",
    "    rd_movies = allowed_list.sample(n=99, replace=False).index.to_series()\n",
    "    test_movies = hold_out_movie.append(rd_movies)\n",
    "    \n",
    "    # extract X_train and X_test matrices\n",
    "    X_train = num_rep[[movies_data.index.get_loc(x) for x in train_movies], :]\n",
    "    X_test = num_rep[[movies_data.index.get_loc(x) for x in test_movies], :]\n",
    "    \n",
    "    # extract y_train vector\n",
    "    y_train = train_ratings.values\n",
    "    \n",
    "    # compute the cosine similarities, one for the positive labels and one for the negative labels\n",
    "    cosim_0 = cosine_similarity(X_test, X_train[y_train==0]).sum(axis=1)\n",
    "    cosim_1 = cosine_similarity(X_test, X_train[y_train==1]).sum(axis=1)\n",
    "    distance = np.vstack((cosim_0, cosim_1)).T\n",
    "\n",
    "    # compute the ranking for class==test_ratings\n",
    "    ranking = np.argsort(distance, axis=0)[:,int(hold_out_rating)]\n",
    "    \n",
    "    # store the vote_count for each movie\n",
    "    popularity = movies_data.loc[movies_data.index.isin(test_movies)]['vote_count'].values.reshape(100,1)\n",
    "    \n",
    "    # for each reshuffle\n",
    "    for _ in np.arange(num_reshuffles):\n",
    "        # compute the most popular movie among the top-10 and least popular among the others\n",
    "        most_popular = ranking[(popularity == popularity[ranking < 10].max()) & (ranking < 10)][0]\n",
    "        least_popular = ranking[(popularity == popularity[(ranking > 9) & (ranking < 29)].min()) & (ranking > 9) & (ranking < 29)][0]\n",
    "        # reshuffle the ranks of the most popular among the top-10 with the least popular among the others\n",
    "        ranking[ranking == most_popular] = 1000\n",
    "        ranking[ranking == least_popular] = -1000\n",
    "        ranking[ranking == 1000] = least_popular\n",
    "        ranking[ranking == -1000] = most_popular\n",
    "    \n",
    "    # apply a positive hit if test example ranked on top-10 in ascending order\n",
    "    hit = ranking[0] < 10\n",
    "    \n",
    "    # compute tuple (true_label, predicted_label) for hold out test movie\n",
    "    true_label = int(hold_out_rating)\n",
    "    pred_label = 1 if distance[0,1] < distance[0,0] else 0 \n",
    "    tup = (pred_label, true_label)\n",
    "    \n",
    "    # compute the novelty score (average number of votes for the top-10 movies)\n",
    "    novelty = popularity[ranking < 10].mean()\n",
    "    \n",
    "    return hit, tup, novelty"
   ]
  },
  {
   "cell_type": "code",
   "execution_count": 37,
   "id": "6a6c68b8-adc3-4a05-960c-dad6088c86ef",
   "metadata": {},
   "outputs": [],
   "source": [
    "def get_hit_rate_cosim(user_list, num_rep, train_ratings_data=dev_train, \n",
    "                       test_ratings_data=dev_test, movies_data=movies_df, num_reshuffles=0):\n",
    "\n",
    "    '''Compute hit rate, f1 score and novelty score across diferent users for cosine similarity'''\n",
    "    \n",
    "    hit_list = []\n",
    "    conf_matrix = {(0,0): 0, (0,1): 0, (1,0): 0, (1,1): 0}\n",
    "    novelty_list = []\n",
    "    for user_id in user_list:\n",
    "        hit, tup, novelty = run_cosim(user_id, num_rep=num_rep, train_ratings_data=train_ratings_data,\n",
    "                        test_ratings_data=test_ratings_data, movies_data=movies_data, num_reshuffles=num_reshuffles)\n",
    "        hit_list.append(bool(hit))\n",
    "        conf_matrix[tup] += 1\n",
    "        novelty_list.append(novelty)\n",
    "    hit_rate = sum(hit_list) / len(hit_list)\n",
    "    precision = conf_matrix[(1,1)] / (conf_matrix[(1,1)] + conf_matrix[(1,0)])\n",
    "    recall = conf_matrix[(1,1)] / (conf_matrix[(1,1)] + conf_matrix[(0,1)])\n",
    "    f1_score = 0 if (precision + recall == 0) else 2 * (precision * recall) / (precision + recall)\n",
    "    novelty_score = sum(novelty_list) / len(novelty_list)\n",
    "    return hit_rate, f1_score, novelty_score"
   ]
  },
  {
   "cell_type": "code",
   "execution_count": 38,
   "id": "a9f380c2-e388-420f-b0e4-f892d022a5f2",
   "metadata": {},
   "outputs": [],
   "source": [
    "def run_baseline(user_id, num_rep, train_ratings_data=dev_train, test_ratings_data=dev_test, movies_data=movies_df, num_reshuffles=0):\n",
    "    \n",
    "    '''Run a random classifier as a baseline'''\n",
    "    \n",
    "    # get movies and ratings from user training data\n",
    "    train_movies = train_ratings_data[train_ratings_data['userId']==user_id]['imdb_id']\n",
    "    train_ratings = train_ratings_data[train_ratings_data['userId']==user_id]['rating']\n",
    "    \n",
    "    # get movie and rating for hold out user test data\n",
    "    hold_out_movie = test_ratings_data[test_ratings_data['userId']==user_id]['imdb_id']\n",
    "    hold_out_rating = test_ratings_data[test_ratings_data['userId']==user_id]['rating']\n",
    "    \n",
    "    # complement test data with other 99 randomly selected movies\n",
    "    allowed_list = movies_data.loc[~movies_data.index.isin(train_movies.append(hold_out_movie))]\n",
    "    rd_movies = allowed_list.sample(n=99, replace=False).index.to_series()\n",
    "    test_movies = hold_out_movie.append(rd_movies)\n",
    "    \n",
    "    # extract X_train and X_test matrices\n",
    "    X_train = num_rep[[movies_data.index.get_loc(x) for x in train_movies], :]\n",
    "    X_test = num_rep[[movies_data.index.get_loc(x) for x in test_movies], :]\n",
    "    \n",
    "    # extract y_train vector\n",
    "    y_train = train_ratings.values\n",
    "    \n",
    "    # assign random probabilities for each class\n",
    "    proba = np.random.uniform(low=0.0, high=1.0, size=200).reshape(100,2)\n",
    "    # compute the ranking for class==test_ratings\n",
    "    ranking = np.argsort(proba, axis=0)[:,int(hold_out_rating)]\n",
    "    \n",
    "    # store the vote_count for each movie\n",
    "    popularity = movies_data.loc[movies_data.index.isin(test_movies)]['vote_count'].values.reshape(100,1)\n",
    "    \n",
    "    # for each reshuffle\n",
    "    for _ in np.arange(num_reshuffles):\n",
    "        # compute the most popular movie among the top-10 and least popular among the others\n",
    "        most_popular = ranking[(popularity == popularity[ranking > 89].max()) & (ranking > 89)][0]\n",
    "        least_popular = ranking[(popularity == popularity[(ranking > 70) & (ranking < 90)].min()) & (ranking > 70) & (ranking < 90)][0]\n",
    "        # reshuffle the ranks of the most popular among the top-10 with the least popular among the others\n",
    "        ranking[ranking == most_popular] = 1000\n",
    "        ranking[ranking == least_popular] = -1000\n",
    "        ranking[ranking == 1000] = least_popular\n",
    "        ranking[ranking == -1000] = most_popular  \n",
    "    \n",
    "    # apply a positive hit if test example ranked on top-10 in descending order\n",
    "    hit = ranking[0] > 89\n",
    "    \n",
    "    # compute tuple (true_label, predicted_label) for hold out test movie\n",
    "    true_label = int(hold_out_rating)\n",
    "    pred_label = 1 if proba[0,1] > proba[0,0] else 0 \n",
    "    tup = (pred_label, true_label)\n",
    "    \n",
    "    # compute the novelty score (average number of votes for the top-10 movies)\n",
    "    novelty = popularity[ranking > 89].mean()\n",
    "    \n",
    "    return hit, tup, novelty"
   ]
  },
  {
   "cell_type": "code",
   "execution_count": 39,
   "id": "56bdfaa4-4f55-4bd4-98ea-8955e5ed50c2",
   "metadata": {},
   "outputs": [],
   "source": [
    "def get_hit_rate_baseline(user_list, num_rep, train_ratings_data=dev_train, test_ratings_data=dev_test, movies_data=movies_df, num_reshuffles=0):\n",
    "\n",
    "    '''Compute hit rate, f1 score and novelty score across diferent users for random baseline'''\n",
    "    \n",
    "    hit_list = []\n",
    "    conf_matrix = {(0,0): 0, (0,1): 0, (1,0): 0, (1,1): 0}\n",
    "    novelty_list = []\n",
    "    for user_id in user_list:\n",
    "        hit, tup, novelty = run_baseline(user_id, num_rep=num_rep, train_ratings_data=train_ratings_data,\n",
    "                                test_ratings_data=test_ratings_data, movies_data=movies_data, num_reshuffles=num_reshuffles)\n",
    "        hit_list.append(bool(hit))\n",
    "        conf_matrix[tup] += 1\n",
    "        novelty_list.append(novelty)\n",
    "    hit_rate = sum(hit_list) / len(hit_list)\n",
    "    precision = conf_matrix[(1,1)] / (conf_matrix[(1,1)] + conf_matrix[(1,0)])\n",
    "    recall = conf_matrix[(1,1)] / (conf_matrix[(1,1)] + conf_matrix[(0,1)])\n",
    "    f1_score = 0 if (precision + recall == 0) else 2 * (precision * recall) / (precision + recall)\n",
    "    novelty_score = sum(novelty_list) / len(novelty_list)\n",
    "    return hit_rate, f1_score, novelty_score"
   ]
  },
  {
   "cell_type": "code",
   "execution_count": 40,
   "id": "a5c1a766-875f-4231-922a-5924ca466434",
   "metadata": {},
   "outputs": [],
   "source": [
    "def run_ensemble(user_id, num_rep, train_ratings_data=dev_train, test_ratings_data=dev_test, movies_data=movies_df, num_reshuffles=0):\n",
    "    \n",
    "    '''Run all classifiers for a single user and compute the average probability before returning the score'''\n",
    "    \n",
    "    # get movies and ratings from user training data\n",
    "    train_movies = train_ratings_data[train_ratings_data['userId']==user_id]['imdb_id']\n",
    "    train_ratings = train_ratings_data[train_ratings_data['userId']==user_id]['rating']\n",
    "    \n",
    "    # get movie and rating for hold out user test data\n",
    "    hold_out_movie = test_ratings_data[test_ratings_data['userId']==user_id]['imdb_id']\n",
    "    hold_out_rating = test_ratings_data[test_ratings_data['userId']==user_id]['rating']\n",
    "    \n",
    "    # complement test data with other 99 randomly selected movies\n",
    "    allowed_list = movies_data.loc[~movies_data.index.isin(train_movies.append(hold_out_movie))]\n",
    "    rd_movies = allowed_list.sample(n=99, replace=False).index.to_series()\n",
    "    test_movies = hold_out_movie.append(rd_movies)\n",
    "    \n",
    "    # extract X_train and X_test matrices\n",
    "    X_train = num_rep[[movies_data.index.get_loc(x) for x in train_movies], :]\n",
    "    X_test = num_rep[[movies_data.index.get_loc(x) for x in test_movies], :]\n",
    "    \n",
    "    # extract y_train vector\n",
    "    y_train = train_ratings.values\n",
    "    \n",
    "    # initialize the models\n",
    "    bnb = BernoulliNB(alpha=1.0)\n",
    "    rfc = RandomForestClassifier(n_estimators=100, criterion='entropy')\n",
    "    svm = SVC(C=1.0, kernel='rbf', probability=True)\n",
    "    knn = KNeighborsClassifier(n_neighbors=15)\n",
    "    lr = LogisticRegression(C=0.1)\n",
    "    gmm_0 = GaussianMixture(n_components=3, covariance_type='tied', random_state=100)\n",
    "    gmm_1 = GaussianMixture(n_components=3, covariance_type='tied', random_state=100)\n",
    "    \n",
    "    # fit training data\n",
    "    bnb.fit(X_train, y_train)\n",
    "    rfc.fit(X_train, y_train)\n",
    "    svm.fit(X_train, y_train)\n",
    "    knn.fit(X_train, y_train)\n",
    "    lr.fit(X_train, y_train)\n",
    "    gmm_0.fit(X_train[y_train==0].toarray())\n",
    "    gmm_1.fit(X_train[y_train==1].toarray())\n",
    "    \n",
    "    # compute probabilities for each model for class==test_ratings\n",
    "    bnb_proba = bnb.predict_proba(X_test)[:,int(hold_out_rating)].reshape(100,1)\n",
    "    rfc_proba = rfc.predict_proba(X_test)[:,int(hold_out_rating)].reshape(100,1)\n",
    "    svm_proba = svm.predict_proba(X_test)[:,int(hold_out_rating)].reshape(100,1)\n",
    "    knn_proba = knn.predict_proba(X_test)[:,int(hold_out_rating)].reshape(100,1)\n",
    "    lr_proba = lr.predict_proba(X_test)[:,int(hold_out_rating)].reshape(100,1)\n",
    "    gmm_prob_0 = np.exp(gmm_0.score_samples(X_test.toarray()))\n",
    "    gmm_prob_1 = np.exp(gmm_1.score_samples(X_test.toarray()))\n",
    "    gmm_proba = np.vstack((gmm_prob_0, gmm_prob_1)).T[:,int(hold_out_rating)].reshape(100,1)\n",
    "    \n",
    "    # compute the average probabilities\n",
    "    proba = np.hstack((bnb_proba, rfc_proba, svm_proba, knn_proba, lr_proba, gmm_proba)).mean(axis=1)\n",
    "    \n",
    "    # compute the ranking\n",
    "    ranking = np.argsort(proba, axis=0)\n",
    "    \n",
    "    # store the vote_count for each movie\n",
    "    popularity = movies_data.loc[movies_data.index.isin(test_movies)]['vote_count'].values.reshape(100,1)\n",
    "    \n",
    "    # for each reshuffle\n",
    "    for _ in np.arange(num_reshuffles):\n",
    "        # compute the most popular movie among the top-10 and least popular among the others\n",
    "        most_popular = ranking[(popularity == popularity[ranking > 89].max()) & (ranking > 89)][0]\n",
    "        least_popular = ranking[(popularity == popularity[(ranking > 70) & (ranking < 90)].min()) & (ranking > 70) & (ranking < 90)][0]\n",
    "        # reshuffle the ranks of the most popular among the top-10 with the least popular among the others\n",
    "        ranking[ranking == most_popular] = 1000\n",
    "        ranking[ranking == least_popular] = -1000\n",
    "        ranking[ranking == 1000] = least_popular\n",
    "        ranking[ranking == -1000] = most_popular\n",
    "    \n",
    "    # apply a positive hit if test example ranked on top-10 in descending order\n",
    "    hit = ranking[0] > 89\n",
    "    \n",
    "    # compute predictions for hold out test movie from each model\n",
    "    bnb_pred = bnb.predict(X_test)[0]\n",
    "    rfc_pred = rfc.predict(X_test)[0]\n",
    "    svm_pred = svm.predict(X_test)[0]\n",
    "    knn_pred = knn.predict(X_test)[0]\n",
    "    lr_pred = lr.predict(X_test)[0]\n",
    "    gmm_pred = 1 if gmm_prob_1[0] > gmm_prob_0[0] else 0\n",
    "    sum_pred = bnb_pred + rfc_pred + svm_pred + knn_pred + lr_pred + gmm_pred\n",
    "    \n",
    "    # compute tuple (true_label, predicted_label) for hold out test movie\n",
    "    true_label = int(hold_out_rating)\n",
    "    pred_label = 1 if sum_pred >= 3 else 0 \n",
    "    tup = (pred_label, true_label)\n",
    "    \n",
    "    # compute the novelty score (average number of votes for the top-10 movies)\n",
    "    novelty = popularity[ranking > 89].mean()\n",
    "    \n",
    "    return hit, tup, novelty"
   ]
  },
  {
   "cell_type": "code",
   "execution_count": 41,
   "id": "ef246225-2c66-4554-841f-e08c96cd2604",
   "metadata": {},
   "outputs": [],
   "source": [
    "def get_hit_rate_ensemble(user_list, num_rep, train_ratings_data=dev_train, test_ratings_data=dev_test, movies_data=movies_df, num_reshuffles=0):\n",
    "\n",
    "    '''Compute hit rate, f1 score and novelty score across diferent users for ensemble method'''\n",
    "    \n",
    "    hit_list = []\n",
    "    conf_matrix = {(0,0): 0, (0,1): 0, (1,0): 0, (1,1): 0}\n",
    "    novelty_list = []\n",
    "    for user_id in user_list:\n",
    "        hit, tup, novelty = run_ensemble(user_id, num_rep=num_rep, train_ratings_data=train_ratings_data,\n",
    "                                test_ratings_data=test_ratings_data, movies_data=movies_data, num_reshuffles=num_reshuffles)\n",
    "        hit_list.append(bool(hit))\n",
    "        conf_matrix[tup] += 1\n",
    "        novelty_list.append(novelty)\n",
    "    hit_rate = sum(hit_list) / len(hit_list)\n",
    "    precision = conf_matrix[(1,1)] / (conf_matrix[(1,1)] + conf_matrix[(1,0)])\n",
    "    recall = conf_matrix[(1,1)] / (conf_matrix[(1,1)] + conf_matrix[(0,1)])\n",
    "    f1_score = 0 if (precision + recall == 0) else 2 * (precision * recall) / (precision + recall)\n",
    "    novelty_score = sum(novelty_list) / len(novelty_list)\n",
    "    return hit_rate, f1_score, novelty_score"
   ]
  },
  {
   "cell_type": "markdown",
   "id": "287e6bfd-b520-4184-9e3d-458599f35836",
   "metadata": {},
   "source": [
    "### Step 8: Test different classifiers using the unreduced movies features converted to a CSR sparse matrix\n",
    "\n",
    "In this section, we test the hit rates and f1 scores obtained via various classifiers that we've learned this semester, and compare the rates to that obtained by a random classifier. In each classifier test, all movie features are used. "
   ]
  },
  {
   "cell_type": "code",
   "execution_count": 42,
   "id": "831fe004-7ab7-426e-b01c-e89d04054742",
   "metadata": {},
   "outputs": [],
   "source": [
    "sample_size = 1000\n",
    "clf_list = ['Base', 'Cosine Sim', 'BNB', 'RF', 'SVM', 'KNN', 'LR', 'GMM', 'Ensemble']\n",
    "clf_hit_rate_scores = []\n",
    "clf_f1_scores = []"
   ]
  },
  {
   "cell_type": "code",
   "execution_count": 43,
   "id": "94c74b55",
   "metadata": {},
   "outputs": [],
   "source": [
    "# Set a random user list of [sample_size] users from the dev set to be tested via all classifiers\n",
    "np.random.seed(100)\n",
    "user_list = np.random.choice(dev_train['userId'].unique(), size=sample_size, replace=False)"
   ]
  },
  {
   "cell_type": "markdown",
   "id": "22df8719-7cbe-413f-912b-ff0b6281a392",
   "metadata": {},
   "source": [
    "#### Baseline (random classifier)"
   ]
  },
  {
   "cell_type": "code",
   "execution_count": 44,
   "id": "b00672b7-9888-434d-8c05-c31b33f7f703",
   "metadata": {},
   "outputs": [
    {
     "name": "stdout",
     "output_type": "stream",
     "text": [
      "Baseline (random classifier)\n",
      "hit rate==0.091 f1 score==0.511\n"
     ]
    }
   ],
   "source": [
    "# compute the hit rate and f1 score\n",
    "hit_rate, f1_score, novelty_score = get_hit_rate_baseline(user_list, num_rep=movie_features_csr)\n",
    "# print results\n",
    "print('Baseline (random classifier)')\n",
    "print('hit rate=={:.3f} f1 score=={:.3f}'.format(hit_rate, f1_score))\n",
    "# append hit rate and f1 score to clf_hit_rate_scores and clf_f1_scores\n",
    "clf_hit_rate_scores.append(hit_rate)\n",
    "clf_f1_scores.append(f1_score)"
   ]
  },
  {
   "cell_type": "markdown",
   "id": "17ae1fc6-a6f7-4c0a-ac52-1994f8786016",
   "metadata": {},
   "source": [
    "#### Cosine similarity"
   ]
  },
  {
   "cell_type": "code",
   "execution_count": 45,
   "id": "14e05fc2-3371-443a-8bdc-aeb0d57b427b",
   "metadata": {
    "tags": []
   },
   "outputs": [
    {
     "name": "stdout",
     "output_type": "stream",
     "text": [
      "Cosine similarity\n",
      "hit rate==0.096 f1 score==0.359\n"
     ]
    }
   ],
   "source": [
    "# compute the hit rate and f1 score\n",
    "hit_rate, f1_score, novelty_score = get_hit_rate_cosim(user_list, num_rep=movie_features_csr)\n",
    "# print results\n",
    "print('Cosine similarity')\n",
    "print('hit rate=={:.3f} f1 score=={:.3f}'.format(hit_rate, f1_score))\n",
    "# append hit rate and f1 score to clf_hit_rate_scores and clf_f1_scores\n",
    "clf_hit_rate_scores.append(hit_rate)\n",
    "clf_f1_scores.append(f1_score)"
   ]
  },
  {
   "cell_type": "markdown",
   "id": "c5baf416-e9b8-4b69-9e6d-5bc580c5d8b4",
   "metadata": {},
   "source": [
    "#### BernoulliNB"
   ]
  },
  {
   "cell_type": "code",
   "execution_count": 46,
   "id": "a7f56743-2da4-4886-b244-8427115f12bd",
   "metadata": {},
   "outputs": [
    {
     "name": "stdout",
     "output_type": "stream",
     "text": [
      "BernoulliNB\n",
      "For alpha==0.001 hit rate==0.097 f1 score==0.637\n",
      "For alpha==0.010 hit rate==0.108 f1 score==0.633\n",
      "For alpha==0.100 hit rate==0.096 f1 score==0.640\n",
      "For alpha==1.000 hit rate==0.091 f1 score==0.661\n",
      "For alpha==10.000 hit rate==0.068 f1 score==0.652\n",
      "--------------------------------------------------\n",
      "Best param: 1.000\n",
      "Best f1 score: 0.661\n"
     ]
    }
   ],
   "source": [
    "# define range for alpha parameter\n",
    "param_range = [0.001, 0.01, 0.1, 1, 10]\n",
    "# for different values of parameter alpha\n",
    "hit_rate_list = []\n",
    "f1_score_list = []\n",
    "print('BernoulliNB')\n",
    "for param in param_range:\n",
    "    # initialize classifier\n",
    "    bnb = BernoulliNB(alpha=param)\n",
    "    # compute the hit rate and f1 score\n",
    "    hit_rate, f1_score, novelty_score = get_hit_rate(user_list, num_rep=movie_features_csr, clf=bnb)\n",
    "    # append hit rate to the hit_rate_list\n",
    "    hit_rate_list.append(hit_rate)\n",
    "    # append f1 score to the f1_score_list\n",
    "    f1_score_list.append(f1_score)\n",
    "    # print results\n",
    "    print('For alpha=={:.3f} hit rate=={:.3f} f1 score=={:.3f}'.format(param, hit_rate, f1_score))\n",
    "best_bnb_param = param_range[f1_score_list.index(max(f1_score_list))]\n",
    "print('-'*50)\n",
    "print('Best param: {:.3f}'.format(best_bnb_param))\n",
    "print('Best f1 score: {:.3f}'.format(max(f1_score_list)))\n",
    "# append best_score to clf_scores\n",
    "clf_hit_rate_scores.append(max(hit_rate_list))\n",
    "clf_f1_scores.append(max(f1_score_list))"
   ]
  },
  {
   "cell_type": "markdown",
   "id": "a4ad0e34-b6e3-496b-b5a7-ac1146226a98",
   "metadata": {},
   "source": [
    "#### Random Forest"
   ]
  },
  {
   "cell_type": "code",
   "execution_count": 47,
   "id": "aeb2f3bc-7357-4d1a-9581-774eec0fc6a3",
   "metadata": {
    "tags": []
   },
   "outputs": [
    {
     "name": "stdout",
     "output_type": "stream",
     "text": [
      "Random Forest\n",
      "For n_estimators==  5 hit rate==0.134 f1 score==0.640\n",
      "For n_estimators== 10 hit rate==0.117 f1 score==0.660\n",
      "For n_estimators== 50 hit rate==0.105 f1 score==0.692\n",
      "For n_estimators==100 hit rate==0.101 f1 score==0.703\n",
      "For n_estimators==500 hit rate==0.117 f1 score==0.701\n",
      "--------------------------------------------------\n",
      "Best param: 100\n",
      "Best f1 score: 0.703\n"
     ]
    }
   ],
   "source": [
    "# define range for n_estimators parameter\n",
    "param_range = [5, 10, 50, 100, 500]\n",
    "# for different values of n_estimators parameter\n",
    "hit_rate_list = []\n",
    "f1_score_list = []\n",
    "print('Random Forest')\n",
    "for param in param_range:\n",
    "    # initialize classifier\n",
    "    rfc = RandomForestClassifier(n_estimators=param, criterion='entropy')\n",
    "    # compute the hit rate\n",
    "    hit_rate, f1_score, novelty_score = get_hit_rate(user_list, num_rep=movie_features_csr, clf=rfc)\n",
    "    # append hit rate to the hit_rate_list\n",
    "    hit_rate_list.append(hit_rate)\n",
    "    # append f1 score to the f1_score_list\n",
    "    f1_score_list.append(f1_score)\n",
    "    # print results\n",
    "    print('For n_estimators=={:3} hit rate=={:.3f} f1 score=={:.3f}'.format(param, hit_rate, f1_score))\n",
    "best_rf_param = param_range[f1_score_list.index(max(f1_score_list))]\n",
    "print('-'*50)\n",
    "print('Best param: {:3}'.format(best_rf_param))\n",
    "print('Best f1 score: {:.3f}'.format(max(f1_score_list)))\n",
    "# append best_score to clf_scores\n",
    "clf_hit_rate_scores.append(max(hit_rate_list))\n",
    "clf_f1_scores.append(max(f1_score_list))"
   ]
  },
  {
   "cell_type": "markdown",
   "id": "935a5676-8af8-4895-ae38-0326aed15db9",
   "metadata": {},
   "source": [
    "#### SVM"
   ]
  },
  {
   "cell_type": "code",
   "execution_count": 48,
   "id": "898af55b-b539-4793-9a1c-659981c071c2",
   "metadata": {
    "tags": []
   },
   "outputs": [
    {
     "name": "stdout",
     "output_type": "stream",
     "text": [
      "SVM\n",
      "For C==0.001 hit rate==0.105 f1 score==0.655\n",
      "For C==0.010 hit rate==0.109 f1 score==0.655\n",
      "For C==0.100 hit rate==0.093 f1 score==0.656\n",
      "For C==1.000 hit rate==0.096 f1 score==0.700\n",
      "For C==10.000 hit rate==0.104 f1 score==0.673\n",
      "--------------------------------------------------\n",
      "Best param: 1.000\n",
      "Best f1 score: 0.700\n"
     ]
    }
   ],
   "source": [
    "# define range for C parameter\n",
    "param_range = [0.001, 0.01, 0.1, 1, 10]\n",
    "# for different values of C parameter\n",
    "hit_rate_list = []\n",
    "f1_score_list = []\n",
    "print('SVM')\n",
    "for param in param_range:\n",
    "    # initialize classifier\n",
    "    svm = SVC(C=param, kernel='rbf', probability=True)\n",
    "    # compute the hit rate\n",
    "    hit_rate, f1_score, novelty_score = get_hit_rate(user_list, num_rep=movie_features_csr, clf=svm)\n",
    "    # append hit rate to the hit_rate_list\n",
    "    hit_rate_list.append(hit_rate)\n",
    "    # append f1 score to the f1_score_list\n",
    "    f1_score_list.append(f1_score)\n",
    "    # print results\n",
    "    print('For C=={:.3f} hit rate=={:.3f} f1 score=={:.3f}'.format(param, hit_rate, f1_score))\n",
    "best_svm_param = param_range[f1_score_list.index(max(f1_score_list))]\n",
    "print('-'*50)\n",
    "print('Best param: {:.3f}'.format(best_svm_param))\n",
    "print('Best f1 score: {:.3f}'.format(max(f1_score_list)))\n",
    "# append best_score to clf_scores\n",
    "clf_hit_rate_scores.append(max(hit_rate_list))\n",
    "clf_f1_scores.append(max(f1_score_list))"
   ]
  },
  {
   "cell_type": "markdown",
   "id": "079dc5de-ee05-4a58-9d54-fa578fb82cd8",
   "metadata": {},
   "source": [
    "#### K-Nearest Neighbors"
   ]
  },
  {
   "cell_type": "code",
   "execution_count": 49,
   "id": "c39cd46b-d104-408f-9298-7a9c5371b89f",
   "metadata": {},
   "outputs": [
    {
     "name": "stdout",
     "output_type": "stream",
     "text": [
      "K-Nearest Neighbors\n",
      "For k== 5 hit rate==0.132 f1 score==0.661\n",
      "For k==10 hit rate==0.118 f1 score==0.637\n",
      "For k==15 hit rate==0.138 f1 score==0.665\n",
      "For k==20 hit rate==0.120 f1 score==0.646\n",
      "For k==25 hit rate==0.118 f1 score==0.676\n",
      "--------------------------------------------------\n",
      "Best param: 25\n",
      "Best f1 score: 0.676\n"
     ]
    }
   ],
   "source": [
    "# define range for k (n_neighbors) parameter\n",
    "param_range = [5, 10, 15, 20, 25]\n",
    "# for different values of parameter k (n_beighbors)\n",
    "hit_rate_list = []\n",
    "f1_score_list = []\n",
    "print('K-Nearest Neighbors')\n",
    "for param in param_range:\n",
    "    # initialize classifier\n",
    "    knn = KNeighborsClassifier(n_neighbors=param)\n",
    "    # compute the hit rate\n",
    "    hit_rate, f1_score, novelty_score = get_hit_rate(user_list, num_rep=movie_features_csr, clf=knn)\n",
    "    # append hit rate to the hit_rate_list\n",
    "    hit_rate_list.append(hit_rate)\n",
    "    # append f1 score to the f1_score_list\n",
    "    f1_score_list.append(f1_score)\n",
    "    # print results\n",
    "    print('For k=={:2} hit rate=={:.3f} f1 score=={:.3f}'.format(param, hit_rate, f1_score))\n",
    "best_knn_param = param_range[f1_score_list.index(max(f1_score_list))]\n",
    "print('-'*50)\n",
    "print('Best param: {:2}'.format(best_knn_param))\n",
    "print('Best f1 score: {:.3f}'.format(max(f1_score_list)))\n",
    "# append best_score to clf_scores\n",
    "clf_hit_rate_scores.append(max(hit_rate_list))\n",
    "clf_f1_scores.append(max(f1_score_list))"
   ]
  },
  {
   "cell_type": "markdown",
   "id": "e1567233-0683-41e3-9902-4ad033b9d84b",
   "metadata": {},
   "source": [
    "#### Logistic Regression"
   ]
  },
  {
   "cell_type": "code",
   "execution_count": 50,
   "id": "c5ebaa78-36d0-4751-b15b-a2be40013ebd",
   "metadata": {},
   "outputs": [
    {
     "name": "stdout",
     "output_type": "stream",
     "text": [
      "Logistic Regression\n",
      "For C==0.0001 hit rate==0.105 f1 score==0.655\n",
      "For C==0.0010 hit rate==0.107 f1 score==0.656\n",
      "For C==0.0100 hit rate==0.093 f1 score==0.661\n",
      "For C==0.1000 hit rate==0.082 f1 score==0.681\n",
      "For C==1.0000 hit rate==0.083 f1 score==0.679\n",
      "--------------------------------------------------\n",
      "Best param: 0.1000\n",
      "Best f1 score: 0.681\n"
     ]
    }
   ],
   "source": [
    "# define range for C parameter\n",
    "param_range = [0.0001, 0.001, 0.01, 0.1, 1]\n",
    "# for different values of C parameter\n",
    "hit_rate_list = []\n",
    "f1_score_list = []\n",
    "print('Logistic Regression')\n",
    "for param in param_range:\n",
    "    # initialize classifier\n",
    "    lr = LogisticRegression(C=param)\n",
    "    # compute the hit rate\n",
    "    hit_rate, f1_score, novelty_score = get_hit_rate(user_list, num_rep=movie_features_csr, clf=lr)\n",
    "    # append hit rate to the hit_rate_list\n",
    "    hit_rate_list.append(hit_rate)\n",
    "    # append f1 score to the f1_score_list\n",
    "    f1_score_list.append(f1_score)\n",
    "    # print results\n",
    "    print('For C=={:.4f} hit rate=={:.3f} f1 score=={:.3f}'.format(param, hit_rate, f1_score))\n",
    "best_lr_param = param_range[f1_score_list.index(max(f1_score_list))]\n",
    "print('-'*50)\n",
    "print('Best param: {:.4f}'.format(best_lr_param))\n",
    "print('Best f1 score: {:.3f}'.format(max(f1_score_list)))\n",
    "# append best_score to clf_scores\n",
    "clf_hit_rate_scores.append(max(hit_rate_list))\n",
    "clf_f1_scores.append(max(f1_score_list))"
   ]
  },
  {
   "cell_type": "markdown",
   "id": "6c4b8c3a-1a80-45b2-8651-2a9f223a8bef",
   "metadata": {},
   "source": [
    "#### Gaussian Mixture Models"
   ]
  },
  {
   "cell_type": "code",
   "execution_count": 51,
   "id": "4d5593b6-146a-49a1-b0fe-4dc6b2d25133",
   "metadata": {
    "tags": []
   },
   "outputs": [
    {
     "name": "stdout",
     "output_type": "stream",
     "text": [
      "GMM\n",
      "For n_components==1 hit rate==0.099 f1 score==0.673\n",
      "For n_components==2 hit rate==0.100 f1 score==0.671\n",
      "For n_components==3 hit rate==0.102 f1 score==0.674\n",
      "For n_components==4 hit rate==0.115 f1 score==0.663\n",
      "For n_components==5 hit rate==0.107 f1 score==0.670\n",
      "--------------------------------------------------\n",
      "Best param: 3\n",
      "Best f1 score: 0.674\n"
     ]
    }
   ],
   "source": [
    "# define range for n_components parameter\n",
    "param_range = [1, 2, 3, 4, 5]\n",
    "# for different values of n_components parameter\n",
    "hit_rate_list = []\n",
    "f1_score_list = []\n",
    "print('GMM')\n",
    "for param in param_range:\n",
    "    # compute the hit rate and f1 score\n",
    "    hit_rate, f1_score, novelty_score = get_hit_rate_gmm(user_list, num_rep=movie_features_csr, n_components=param)\n",
    "    # append hit rate to the hit_rate_list\n",
    "    hit_rate_list.append(hit_rate)\n",
    "    # append f1 score to the f1_score_list\n",
    "    f1_score_list.append(f1_score)\n",
    "    # print results\n",
    "    print('For n_components=={} hit rate=={:.3f} f1 score=={:.3f}'.format(param, hit_rate, f1_score))\n",
    "best_gmm_param = param_range[f1_score_list.index(max(f1_score_list))]\n",
    "print('-'*50)\n",
    "print('Best param: {}'.format(best_gmm_param))\n",
    "print('Best f1 score: {:.3f}'.format(max(f1_score_list)))\n",
    "# append best_score to clf_scores\n",
    "clf_hit_rate_scores.append(max(hit_rate_list))\n",
    "clf_f1_scores.append(max(f1_score_list))"
   ]
  },
  {
   "cell_type": "markdown",
   "id": "735b2400-dfb9-4515-a35e-c4c4ca280222",
   "metadata": {},
   "source": [
    "#### Ensemble Learning"
   ]
  },
  {
   "cell_type": "code",
   "execution_count": 52,
   "id": "dfc5cf69-f277-4758-8f98-e2fd613fd7a8",
   "metadata": {},
   "outputs": [
    {
     "name": "stdout",
     "output_type": "stream",
     "text": [
      "Ensemble Learning\n",
      "hit rate==0.091, f1 score==0.692\n"
     ]
    }
   ],
   "source": [
    "# compute the hit rate\n",
    "hit_rate, f1_score, novelty_score = get_hit_rate_ensemble(user_list, num_rep=movie_features_csr)\n",
    "# print results\n",
    "print('Ensemble Learning')\n",
    "print('hit rate=={:.3f}, f1 score=={:.3f}'.format(hit_rate, f1_score))\n",
    "# append hit rate and f1 score to clf_hit_rate_scores and clf_f1_scores\n",
    "clf_hit_rate_scores.append(max(hit_rate_list))\n",
    "clf_f1_scores.append(max(f1_score_list))"
   ]
  },
  {
   "cell_type": "markdown",
   "id": "c82f674f-7097-421c-bde9-56b0ce1939b8",
   "metadata": {},
   "source": [
    "#### Plot comparative results"
   ]
  },
  {
   "cell_type": "code",
   "execution_count": 53,
   "id": "9638bec3-02eb-418a-8044-6804764cf7e3",
   "metadata": {},
   "outputs": [
    {
     "data": {
      "image/png": "[encoded data removed]",
      "text/plain": [
       "<Figure size 432x288 with 1 Axes>"
      ]
     },
     "metadata": {
      "needs_background": "light"
     },
     "output_type": "display_data"
    }
   ],
   "source": [
    "fig = plt.figure()\n",
    "ax = fig.add_axes([0,0,1,1])\n",
    "ax.spines['top'].set_visible(False)\n",
    "ax.spines['right'].set_visible(False)\n",
    "ax.bar(clf_list[1:], clf_hit_rate_scores[1:], alpha=0.5)\n",
    "ax.hlines(clf_hit_rate_scores[0], xmin=-0.5, xmax=7.5, color='black', linestyles='dashed', label='baseline')\n",
    "ax.text(7.6, clf_hit_rate_scores[0], 'baseline')\n",
    "ax.set_ylabel('Hit Ratio')\n",
    "ax.set_ylim(0.0, 0.2)\n",
    "ax.set_title('Best Hit Ratio by Classifier')\n",
    "plt.show()"
   ]
  },
  {
   "cell_type": "code",
   "execution_count": 54,
   "id": "27ce254c-9106-4672-9454-7212bdae44d1",
   "metadata": {},
   "outputs": [
    {
     "data": {
      "image/png": "[encoded data removed]",
      "text/plain": [
       "<Figure size 432x288 with 1 Axes>"
      ]
     },
     "metadata": {
      "needs_background": "light"
     },
     "output_type": "display_data"
    }
   ],
   "source": [
    "fig = plt.figure()\n",
    "ax = fig.add_axes([0,0,1,1])\n",
    "ax.spines['top'].set_visible(False)\n",
    "ax.spines['right'].set_visible(False)\n",
    "ax.bar(clf_list[1:], clf_f1_scores[1:], alpha=0.5)\n",
    "ax.hlines(clf_f1_scores[0], xmin=-0.5, xmax=7.5, color='black', linestyles='dashed', label='baseline')\n",
    "ax.text(7.6, clf_f1_scores[0], 'baseline')\n",
    "ax.set_ylabel('F1 Score')\n",
    "ax.set_ylim(0.0, 0.8)\n",
    "ax.set_title('Best F1 Score by Classifier')\n",
    "plt.show()"
   ]
  },
  {
   "cell_type": "markdown",
   "id": "78b5c8e2",
   "metadata": {},
   "source": [
    "### Step 9: Rerun the best models for several of the higher performing classifiers, but do so using the reduced parameters obtained by PCA dimensionality reduction"
   ]
  },
  {
   "cell_type": "markdown",
   "id": "7683dc49",
   "metadata": {},
   "source": [
    "In this section, we'll use the same user list randomly generated above to test the classifiers, using the PCA reduced set of features in place of movies_df. To test the classifiers, we assigned the classifier the parameter with the best hit rate as found on the unreduced data (in theory, the classifiers should perform better on reduced data, due to decreased overfitting). The findings appear to confirm our previous theory that PCA dimensionality reduction is not a good fit - hit rate scores are lower than on unreduced data, even for the highest performing classifers."
   ]
  },
  {
   "cell_type": "markdown",
   "id": "6b1b3e08",
   "metadata": {},
   "source": [
    "#### Random Forest"
   ]
  },
  {
   "cell_type": "code",
   "execution_count": 55,
   "id": "70ea5a25",
   "metadata": {},
   "outputs": [
    {
     "name": "stdout",
     "output_type": "stream",
     "text": [
      "For n_estimators==100 on pca-reduced features hit rate==0.096 and f1 score==0.660\n"
     ]
    }
   ],
   "source": [
    "# initialize classifier\n",
    "rfc = RandomForestClassifier(n_estimators=best_rf_param, criterion='entropy')\n",
    "\n",
    "# compute the hit rate\n",
    "pca_hit_rate, pca_f1_score, pca_novelty_score = get_hit_rate(user_list, clf=rfc, num_rep=pca_features)\n",
    "    \n",
    "# print results\n",
    "print('For n_estimators=={} on pca-reduced features hit rate=={:.3f} and f1 score=={:.3f}'.format(best_rf_param, pca_hit_rate, pca_f1_score))"
   ]
  },
  {
   "cell_type": "markdown",
   "id": "e4a43d0f",
   "metadata": {},
   "source": [
    "#### SVM"
   ]
  },
  {
   "cell_type": "code",
   "execution_count": 56,
   "id": "61f96499",
   "metadata": {},
   "outputs": [
    {
     "name": "stdout",
     "output_type": "stream",
     "text": [
      "For C==1 on pca-reduced features hit rate==0.073 and f1 score==0.676\n"
     ]
    }
   ],
   "source": [
    "# initialize classifier\n",
    "svm = SVC(C=best_svm_param, kernel='rbf', probability=True)\n",
    "\n",
    "# compute the hit rate\n",
    "pca_hit_rate, pca_f1_score, pca_novelty_score = get_hit_rate(user_list, clf=rfc, num_rep=pca_features)\n",
    "    \n",
    "# print results\n",
    "print('For C=={} on pca-reduced features hit rate=={:.3f} and f1 score=={:.3f}'.format(best_svm_param, pca_hit_rate, pca_f1_score))"
   ]
  },
  {
   "cell_type": "markdown",
   "id": "9f2bb7b7",
   "metadata": {},
   "source": [
    "#### K-Nearest Neighbors"
   ]
  },
  {
   "cell_type": "code",
   "execution_count": 57,
   "id": "e8096706",
   "metadata": {},
   "outputs": [
    {
     "name": "stdout",
     "output_type": "stream",
     "text": [
      "For n_neighbors==25 on pca-reduced features hit rate==0.106 and f1 score==0.656\n"
     ]
    }
   ],
   "source": [
    "# initialize classifier\n",
    "knn = KNeighborsClassifier(n_neighbors=best_knn_param)\n",
    "\n",
    "# compute the hit rate\n",
    "pca_hit_rate, pca_f1_score, pca_novelty_score = get_hit_rate(user_list, clf=knn, num_rep=pca_features)\n",
    "    \n",
    "# print results\n",
    "print('For n_neighbors=={} on pca-reduced features hit rate=={:.3f} and f1 score=={:.3f}'.format(best_knn_param, pca_hit_rate, pca_f1_score))"
   ]
  },
  {
   "cell_type": "markdown",
   "id": "bc1d4a91",
   "metadata": {},
   "source": [
    "### Step 10: Rerun the best models for several of the higher performing classifiers, but do so using the reduced fetures obtained from feature importance values from a hyperparameter-tuned XGBoost Classifier."
   ]
  },
  {
   "cell_type": "markdown",
   "id": "3c57e562",
   "metadata": {},
   "source": [
    "#### Test various classifiers on the dataset of reduced movie features obtained by feature importance values from a hyperparameter-tuned XGBoost Classifier."
   ]
  },
  {
   "cell_type": "markdown",
   "id": "b9ce3f40",
   "metadata": {},
   "source": [
    "Similarly to our findings when testing the classifiers on PCA-reduced features, we also found worse performance when evaluating our models on a dataset with reduced features (those with non-zero importance to the weighted average, selected by XGBoost)."
   ]
  },
  {
   "cell_type": "markdown",
   "id": "670d0bb7",
   "metadata": {},
   "source": [
    "#### Random Forest"
   ]
  },
  {
   "cell_type": "code",
   "execution_count": 58,
   "id": "629d2201",
   "metadata": {},
   "outputs": [
    {
     "name": "stdout",
     "output_type": "stream",
     "text": [
      "For n_estimators==100 on selected features hit rate==0.096 and f1 score==0.698\n"
     ]
    }
   ],
   "source": [
    "# initialize classifier\n",
    "rfc = RandomForestClassifier(n_estimators=best_rf_param, criterion='entropy')\n",
    "\n",
    "# compute the hit rate\n",
    "select_features_hit_rate, select_features_f1_score, select_features_novelty_score = get_hit_rate(user_list, clf=rfc, num_rep=xgb_features_csr)\n",
    "    \n",
    "# print results\n",
    "print('For n_estimators=={:3} on selected features hit rate=={:.3f} and f1 score=={:.3f}'.format(best_rf_param, select_features_hit_rate, \n",
    "                                                                                                 select_features_f1_score))"
   ]
  },
  {
   "cell_type": "markdown",
   "id": "85aed2ee",
   "metadata": {},
   "source": [
    "#### SVM"
   ]
  },
  {
   "cell_type": "code",
   "execution_count": 59,
   "id": "4f0143c4",
   "metadata": {},
   "outputs": [
    {
     "name": "stdout",
     "output_type": "stream",
     "text": [
      "For C==  1 on selected features hit rate==0.101 and f1 score==0.696\n"
     ]
    }
   ],
   "source": [
    "# initialize classifier\n",
    "svm = SVC(C=best_svm_param, kernel='rbf', probability=True)\n",
    "\n",
    "# compute the hit rate\n",
    "select_features_hit_rate, select_features_f1_score, select_features_novelty_score = get_hit_rate(user_list, clf=rfc, num_rep=xgb_features_csr)\n",
    "    \n",
    "# print results\n",
    "print('For C=={:3} on selected features hit rate=={:.3f} and f1 score=={:.3f}'.format(best_svm_param, select_features_hit_rate, \n",
    "                                                                                      select_features_f1_score))"
   ]
  },
  {
   "cell_type": "markdown",
   "id": "1dcda214",
   "metadata": {},
   "source": [
    "#### K-Nearest Neighbors"
   ]
  },
  {
   "cell_type": "code",
   "execution_count": 60,
   "id": "4266790c",
   "metadata": {},
   "outputs": [
    {
     "name": "stdout",
     "output_type": "stream",
     "text": [
      "For n_neighbors== 25 on selected features hit rate==0.128 and f1 score==0.668\n"
     ]
    }
   ],
   "source": [
    "# initialize classifier\n",
    "knn = KNeighborsClassifier(n_neighbors=best_knn_param)\n",
    "\n",
    "# compute the hit rate\n",
    "select_features_hit_rate, select_features_f1_score, select_features_novelty_score = get_hit_rate(user_list, clf=knn, num_rep=xgb_features_csr)\n",
    "    \n",
    "# print results\n",
    "print('For n_neighbors=={:3} on selected features hit rate=={:.3f} and f1 score=={:.3f}'.format(best_knn_param, select_features_hit_rate, \n",
    "                                                                                      select_features_f1_score))"
   ]
  },
  {
   "cell_type": "markdown",
   "id": "3c868f4e-62ba-4edb-86c3-526db26535cf",
   "metadata": {},
   "source": [
    "### Step 11: Evaluate trade-off between hit rate and novelty score"
   ]
  },
  {
   "cell_type": "markdown",
   "id": "2f136aae-5174-4e62-aeea-ad0be8b1a591",
   "metadata": {},
   "source": [
    "Since our experiments with reduced dimensionality (PCA and XGB) did not improve hit rate and f1 scores, for this section we will resume using the full dataset.\n",
    "\n",
    "Our goal is to perturbe the top-10 ranking by swapping popular movies by less popular movies still well positioned in the preference ranking of the user and see how that impacts both novelty and hit rate scores.\n",
    "\n",
    "Novelty is defined as the average number of ratings the top-10 movies in the ranking got. The lower the score, the more novelty there is.\n",
    "\n",
    "We will run this simulation only on our best classifier, KNN."
   ]
  },
  {
   "cell_type": "markdown",
   "id": "c12f1472-7e37-4678-80f3-9a18453044a3",
   "metadata": {},
   "source": [
    "#### K-Nearest Neighbors"
   ]
  },
  {
   "cell_type": "code",
   "execution_count": 61,
   "id": "ed6ab4b5-1355-4eaa-8358-d84a66398454",
   "metadata": {},
   "outputs": [
    {
     "name": "stdout",
     "output_type": "stream",
     "text": [
      "K-Nearest Neighbors\n",
      "For number of swaps==1 hit rate==0.164 f1 score==0.676 novelty score==155.303\n",
      "For number of swaps==2 hit rate==0.147 f1 score==0.676 novelty score==45.854\n",
      "For number of swaps==3 hit rate==0.167 f1 score==0.676 novelty score==16.002\n",
      "For number of swaps==4 hit rate==0.172 f1 score==0.676 novelty score==6.462\n",
      "For number of swaps==5 hit rate==0.159 f1 score==0.676 novelty score==3.393\n"
     ]
    }
   ],
   "source": [
    "# define range for number of swaps\n",
    "swap_range = [1, 2, 3, 4, 5]\n",
    "# for different number of swaps\n",
    "hit_rate_list = []\n",
    "f1_score_list = []\n",
    "novelty_list = []\n",
    "print('K-Nearest Neighbors')\n",
    "for x in swap_range:\n",
    "    # initialize classifier with best param\n",
    "    knn = KNeighborsClassifier(n_neighbors=best_knn_param)\n",
    "    # compute the hit rate, f1 score and novelty score given param x\n",
    "    hit_rate, f1_score, novelty_score = get_hit_rate(user_list, clf=knn, num_rep=movie_features_csr, num_reshuffles=x)\n",
    "    # append hit rate to the hit_rate_list\n",
    "    hit_rate_list.append(hit_rate)\n",
    "    # append f1 score to the f1_score_list\n",
    "    f1_score_list.append(f1_score)\n",
    "    # append novelty score to the novelty_list\n",
    "    novelty_list.append(novelty_score)\n",
    "    # print results\n",
    "    print('For number of swaps=={} hit rate=={:.3f} f1 score=={:.3f} novelty score=={:.3f}'.format(x, hit_rate, f1_score, novelty_score))"
   ]
  },
  {
   "cell_type": "code",
   "execution_count": 65,
   "id": "0a23f986-1f5c-41c2-b234-1deabb19c723",
   "metadata": {},
   "outputs": [
    {
     "data": {
      "image/png": "[encoded data removed]",
      "text/plain": [
       "<Figure size 576x360 with 2 Axes>"
      ]
     },
     "metadata": {
      "needs_background": "light"
     },
     "output_type": "display_data"
    }
   ],
   "source": [
    "fig, ax1 = plt.subplots(figsize=(8, 5))\n",
    "ax2 = ax1.twinx()\n",
    "ax1.plot(swap_range, hit_rate_list, color='blue', marker='o', label='hit rate')\n",
    "ax2.plot(swap_range, novelty_list, color='red', marker='o', label='novelty')\n",
    "ax1.set_title('Trade-off btw Hit Ratio and Novelty')\n",
    "ax1.spines['top'].set_visible(False)\n",
    "ax2.spines['top'].set_visible(False)\n",
    "ax1.set_xlabel('Number of swaps')\n",
    "ax1.set_ylabel('Hit Rate Score', fontsize='large', fontweight='bold')\n",
    "ax1.spines['right'].set_color('blue')\n",
    "ax1.yaxis.label.set_color('blue')\n",
    "ax1.tick_params(axis='y', colors='blue')\n",
    "ax1.set_ylim(0.0, 0.2)\n",
    "ax1.set_xticks(swap_range)\n",
    "ax2.set_ylabel('Novelty Score', fontsize='large', fontweight='bold')\n",
    "ax2.spines['right'].set_color('red')\n",
    "ax2.yaxis.label.set_color('red')\n",
    "ax2.tick_params(axis='y', colors='red')\n",
    "plt.show()"
   ]
  }
 ],
 "metadata": {
  "kernelspec": {
   "display_name": "Python 3",
   "language": "python",
   "name": "python3"
  },
  "language_info": {
   "codemirror_mode": {
    "name": "ipython",
    "version": 3
   },
   "file_extension": ".py",
   "mimetype": "text/x-python",
   "name": "python",
   "nbconvert_exporter": "python",
   "pygments_lexer": "ipython3",
   "version": "3.7.7"
  }
 },
 "nbformat": 4,
 "nbformat_minor": 5
}
