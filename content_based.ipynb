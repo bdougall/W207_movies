{
 "cells": [
  {
   "cell_type": "markdown",
   "id": "e9533b06-7110-418e-9472-fc5b5117f953",
   "metadata": {},
   "source": [
    "### Import packages"
   ]
  },
  {
   "cell_type": "code",
   "execution_count": 1,
   "id": "8394217b-7ec5-47b9-92ab-fc212d6c00a7",
   "metadata": {},
   "outputs": [],
   "source": [
    "import pandas as pd\n",
    "import numpy as np"
   ]
  },
  {
   "cell_type": "markdown",
   "id": "60d7dd9b-c232-4dc4-bba3-f3b3d4576d55",
   "metadata": {},
   "source": [
    "### Define working directories"
   ]
  },
  {
   "cell_type": "code",
   "execution_count": 2,
   "id": "ab05abd0-103d-4964-96ab-b799df715b4c",
   "metadata": {},
   "outputs": [],
   "source": [
    "path_raw_data = 'C:/users/lbros/documents/mids/w207/final_project/raw_data/'\n",
    "path_clean_data = 'C:/users/lbros/documents/mids/w207/final_project/clean_data/'"
   ]
  },
  {
   "cell_type": "markdown",
   "id": "826754a3-e66a-490a-9394-c965033b75a2",
   "metadata": {},
   "source": [
    "### Load clean ratings data"
   ]
  },
  {
   "cell_type": "code",
   "execution_count": 3,
   "id": "77e3572a-528c-4b60-8958-770842618794",
   "metadata": {},
   "outputs": [],
   "source": [
    "# load ratings dataframe\n",
    "ratings_df = pd.read_csv(path_clean_data + 'ratings_final.csv')"
   ]
  },
  {
   "cell_type": "code",
   "execution_count": 4,
   "id": "60ecbdef-1d61-4601-8c73-0f34ca00b808",
   "metadata": {},
   "outputs": [
    {
     "data": {
      "text/plain": [
       "(24130205, 7)"
      ]
     },
     "execution_count": 4,
     "metadata": {},
     "output_type": "execute_result"
    }
   ],
   "source": [
    "# print dataframe shape\n",
    "ratings_df.shape"
   ]
  },
  {
   "cell_type": "code",
   "execution_count": 5,
   "id": "db0a4767-136b-4c42-9546-9eccfd51fe89",
   "metadata": {},
   "outputs": [
    {
     "data": {
      "text/plain": [
       "Index(['Unnamed: 0', 'userId', 'movieId', 'rating', 'timestamp', 'imdbId',\n",
       "       'tmdbId'],\n",
       "      dtype='object')"
      ]
     },
     "execution_count": 5,
     "metadata": {},
     "output_type": "execute_result"
    }
   ],
   "source": [
    "# print dataframe columns\n",
    "ratings_df.columns"
   ]
  },
  {
   "cell_type": "code",
   "execution_count": 6,
   "id": "ad94da31-0ba3-4f8d-8295-9cbf175485da",
   "metadata": {},
   "outputs": [
    {
     "data": {
      "text/html": [
       "<div>\n",
       "<style scoped>\n",
       "    .dataframe tbody tr th:only-of-type {\n",
       "        vertical-align: middle;\n",
       "    }\n",
       "\n",
       "    .dataframe tbody tr th {\n",
       "        vertical-align: top;\n",
       "    }\n",
       "\n",
       "    .dataframe thead th {\n",
       "        text-align: right;\n",
       "    }\n",
       "</style>\n",
       "<table border=\"1\" class=\"dataframe\">\n",
       "  <thead>\n",
       "    <tr style=\"text-align: right;\">\n",
       "      <th></th>\n",
       "      <th>Unnamed: 0</th>\n",
       "      <th>userId</th>\n",
       "      <th>movieId</th>\n",
       "      <th>rating</th>\n",
       "      <th>timestamp</th>\n",
       "      <th>imdbId</th>\n",
       "      <th>tmdbId</th>\n",
       "    </tr>\n",
       "  </thead>\n",
       "  <tbody>\n",
       "    <tr>\n",
       "      <th>0</th>\n",
       "      <td>59</td>\n",
       "      <td>4</td>\n",
       "      <td>223</td>\n",
       "      <td>1</td>\n",
       "      <td>1042668576</td>\n",
       "      <td>109445</td>\n",
       "      <td>2292.0</td>\n",
       "    </tr>\n",
       "    <tr>\n",
       "      <th>1</th>\n",
       "      <td>60</td>\n",
       "      <td>4</td>\n",
       "      <td>415</td>\n",
       "      <td>1</td>\n",
       "      <td>1042667925</td>\n",
       "      <td>106292</td>\n",
       "      <td>9409.0</td>\n",
       "    </tr>\n",
       "    <tr>\n",
       "      <th>2</th>\n",
       "      <td>61</td>\n",
       "      <td>4</td>\n",
       "      <td>648</td>\n",
       "      <td>1</td>\n",
       "      <td>1042674800</td>\n",
       "      <td>117060</td>\n",
       "      <td>954.0</td>\n",
       "    </tr>\n",
       "    <tr>\n",
       "      <th>3</th>\n",
       "      <td>62</td>\n",
       "      <td>4</td>\n",
       "      <td>1097</td>\n",
       "      <td>1</td>\n",
       "      <td>1042667925</td>\n",
       "      <td>83866</td>\n",
       "      <td>601.0</td>\n",
       "    </tr>\n",
       "    <tr>\n",
       "      <th>4</th>\n",
       "      <td>63</td>\n",
       "      <td>4</td>\n",
       "      <td>1197</td>\n",
       "      <td>1</td>\n",
       "      <td>1042667956</td>\n",
       "      <td>93779</td>\n",
       "      <td>2493.0</td>\n",
       "    </tr>\n",
       "  </tbody>\n",
       "</table>\n",
       "</div>"
      ],
      "text/plain": [
       "   Unnamed: 0  userId  movieId  rating   timestamp  imdbId  tmdbId\n",
       "0          59       4      223       1  1042668576  109445  2292.0\n",
       "1          60       4      415       1  1042667925  106292  9409.0\n",
       "2          61       4      648       1  1042674800  117060   954.0\n",
       "3          62       4     1097       1  1042667925   83866   601.0\n",
       "4          63       4     1197       1  1042667956   93779  2493.0"
      ]
     },
     "execution_count": 6,
     "metadata": {},
     "output_type": "execute_result"
    }
   ],
   "source": [
    "# inspect first five rows\n",
    "ratings_df.head()"
   ]
  },
  {
   "cell_type": "markdown",
   "id": "51c41bd1-7c18-4b9e-9b04-034e63cacc02",
   "metadata": {},
   "source": [
    "### Load clean movies data"
   ]
  },
  {
   "cell_type": "code",
   "execution_count": 7,
   "id": "2d71de53-21f0-49f7-8e62-a18b341ac1f7",
   "metadata": {},
   "outputs": [],
   "source": [
    "# load movies dataframe\n",
    "movies_df = pd.read_csv(path_clean_data + 'movies_final.csv')"
   ]
  },
  {
   "cell_type": "code",
   "execution_count": 8,
   "id": "b1c0f88d-ded9-4ee1-b79c-adae1708b011",
   "metadata": {},
   "outputs": [
    {
     "data": {
      "text/plain": [
       "(45464, 179)"
      ]
     },
     "execution_count": 8,
     "metadata": {},
     "output_type": "execute_result"
    }
   ],
   "source": [
    "# print dataframe shape\n",
    "movies_df.shape"
   ]
  },
  {
   "cell_type": "code",
   "execution_count": 9,
   "id": "b3e2d6a4-e61c-4d5c-92e9-45c4897ec0e9",
   "metadata": {},
   "outputs": [
    {
     "data": {
      "text/plain": [
       "Index(['Unnamed: 0', 'id', 'adult', 'belongs_to_collection', 'budget',\n",
       "       'originally_english', 'overview', 'popularity', 'production_companies',\n",
       "       'production_countries',\n",
       "       ...\n",
       "       'zu', 'canceled', 'in-production', 'planned', 'post-production',\n",
       "       'released', 'rumored', 'cast_names', 'crew_names', 'description'],\n",
       "      dtype='object', length=179)"
      ]
     },
     "execution_count": 9,
     "metadata": {},
     "output_type": "execute_result"
    }
   ],
   "source": [
    "# print dataframe columns\n",
    "movies_df.columns"
   ]
  },
  {
   "cell_type": "code",
   "execution_count": 10,
   "id": "4e38cc61-eade-4980-9b27-09716b98cdce",
   "metadata": {},
   "outputs": [
    {
     "data": {
      "text/html": [
       "<div>\n",
       "<style scoped>\n",
       "    .dataframe tbody tr th:only-of-type {\n",
       "        vertical-align: middle;\n",
       "    }\n",
       "\n",
       "    .dataframe tbody tr th {\n",
       "        vertical-align: top;\n",
       "    }\n",
       "\n",
       "    .dataframe thead th {\n",
       "        text-align: right;\n",
       "    }\n",
       "</style>\n",
       "<table border=\"1\" class=\"dataframe\">\n",
       "  <thead>\n",
       "    <tr style=\"text-align: right;\">\n",
       "      <th></th>\n",
       "      <th>Unnamed: 0</th>\n",
       "      <th>id</th>\n",
       "      <th>adult</th>\n",
       "      <th>belongs_to_collection</th>\n",
       "      <th>budget</th>\n",
       "      <th>originally_english</th>\n",
       "      <th>overview</th>\n",
       "      <th>popularity</th>\n",
       "      <th>production_companies</th>\n",
       "      <th>production_countries</th>\n",
       "      <th>...</th>\n",
       "      <th>zu</th>\n",
       "      <th>canceled</th>\n",
       "      <th>in-production</th>\n",
       "      <th>planned</th>\n",
       "      <th>post-production</th>\n",
       "      <th>released</th>\n",
       "      <th>rumored</th>\n",
       "      <th>cast_names</th>\n",
       "      <th>crew_names</th>\n",
       "      <th>description</th>\n",
       "    </tr>\n",
       "  </thead>\n",
       "  <tbody>\n",
       "    <tr>\n",
       "      <th>0</th>\n",
       "      <td>0</td>\n",
       "      <td>862</td>\n",
       "      <td>0</td>\n",
       "      <td>1</td>\n",
       "      <td>30000000</td>\n",
       "      <td>1</td>\n",
       "      <td>led woodi andi toy live happili room andi birt...</td>\n",
       "      <td>21.946943</td>\n",
       "      <td>pixar animation studios</td>\n",
       "      <td>us</td>\n",
       "      <td>...</td>\n",
       "      <td>0</td>\n",
       "      <td>0</td>\n",
       "      <td>0</td>\n",
       "      <td>0</td>\n",
       "      <td>0</td>\n",
       "      <td>1</td>\n",
       "      <td>0</td>\n",
       "      <td>johnratzenberger rleeermey donrickles erikvond...</td>\n",
       "      <td>annmrockwell jeffpratt ashbrannon mickiemcgowa...</td>\n",
       "      <td>boy next door boy friendship friend rivalri to...</td>\n",
       "    </tr>\n",
       "    <tr>\n",
       "      <th>1</th>\n",
       "      <td>1</td>\n",
       "      <td>8844</td>\n",
       "      <td>0</td>\n",
       "      <td>0</td>\n",
       "      <td>65000000</td>\n",
       "      <td>1</td>\n",
       "      <td>sibl judi peter discov enchant board game open...</td>\n",
       "      <td>17.015539</td>\n",
       "      <td>interscope communications teitler film tristar...</td>\n",
       "      <td>us</td>\n",
       "      <td>...</td>\n",
       "      <td>0</td>\n",
       "      <td>0</td>\n",
       "      <td>0</td>\n",
       "      <td>0</td>\n",
       "      <td>0</td>\n",
       "      <td>1</td>\n",
       "      <td>0</td>\n",
       "      <td>bonniehunt laurabellbundy jameshandy gillianba...</td>\n",
       "      <td>gregtaylor thomaseackerman williamteitler robe...</td>\n",
       "      <td>base children book board game giant insect new...</td>\n",
       "    </tr>\n",
       "    <tr>\n",
       "      <th>2</th>\n",
       "      <td>2</td>\n",
       "      <td>15602</td>\n",
       "      <td>0</td>\n",
       "      <td>1</td>\n",
       "      <td>0</td>\n",
       "      <td>1</td>\n",
       "      <td>famili wed reignit ancient feud nextdoor neigh...</td>\n",
       "      <td>11.712900</td>\n",
       "      <td>warner bros. lancaster gate</td>\n",
       "      <td>us</td>\n",
       "      <td>...</td>\n",
       "      <td>0</td>\n",
       "      <td>0</td>\n",
       "      <td>0</td>\n",
       "      <td>0</td>\n",
       "      <td>0</td>\n",
       "      <td>1</td>\n",
       "      <td>0</td>\n",
       "      <td>burgessmeredith annmargret darylhannah jacklem...</td>\n",
       "      <td>jackkeller howarddeutch markstevenjohnson</td>\n",
       "      <td>best friend old men duringcreditssting fish</td>\n",
       "    </tr>\n",
       "    <tr>\n",
       "      <th>3</th>\n",
       "      <td>3</td>\n",
       "      <td>31357</td>\n",
       "      <td>0</td>\n",
       "      <td>0</td>\n",
       "      <td>16000000</td>\n",
       "      <td>1</td>\n",
       "      <td>cheat mistreat step women hold breath wait elu...</td>\n",
       "      <td>3.859495</td>\n",
       "      <td>twentieth century fox film corporation</td>\n",
       "      <td>us</td>\n",
       "      <td>...</td>\n",
       "      <td>0</td>\n",
       "      <td>0</td>\n",
       "      <td>0</td>\n",
       "      <td>0</td>\n",
       "      <td>0</td>\n",
       "      <td>1</td>\n",
       "      <td>0</td>\n",
       "      <td>lamontjohnson angelabassett lelarochon whitney...</td>\n",
       "      <td>deborahschindler ezraswerdlow forestwhitaker c...</td>\n",
       "      <td>interraci relationship chick flick divorc sing...</td>\n",
       "    </tr>\n",
       "    <tr>\n",
       "      <th>4</th>\n",
       "      <td>4</td>\n",
       "      <td>11862</td>\n",
       "      <td>0</td>\n",
       "      <td>1</td>\n",
       "      <td>0</td>\n",
       "      <td>1</td>\n",
       "      <td>georg bank recov daughter wed receiv news she ...</td>\n",
       "      <td>8.387519</td>\n",
       "      <td>sandollar productions touchstone pictures</td>\n",
       "      <td>us</td>\n",
       "      <td>...</td>\n",
       "      <td>0</td>\n",
       "      <td>0</td>\n",
       "      <td>0</td>\n",
       "      <td>0</td>\n",
       "      <td>0</td>\n",
       "      <td>1</td>\n",
       "      <td>0</td>\n",
       "      <td>janeadams kieranculkin stevemartin lorialan ki...</td>\n",
       "      <td>adambernardi nancymeyers elliotdavis alansilve...</td>\n",
       "      <td>gynecologist daughter pregnanc midlif crisi ba...</td>\n",
       "    </tr>\n",
       "  </tbody>\n",
       "</table>\n",
       "<p>5 rows × 179 columns</p>\n",
       "</div>"
      ],
      "text/plain": [
       "   Unnamed: 0     id  adult  belongs_to_collection    budget  \\\n",
       "0           0    862      0                      1  30000000   \n",
       "1           1   8844      0                      0  65000000   \n",
       "2           2  15602      0                      1         0   \n",
       "3           3  31357      0                      0  16000000   \n",
       "4           4  11862      0                      1         0   \n",
       "\n",
       "   originally_english                                           overview  \\\n",
       "0                   1  led woodi andi toy live happili room andi birt...   \n",
       "1                   1  sibl judi peter discov enchant board game open...   \n",
       "2                   1  famili wed reignit ancient feud nextdoor neigh...   \n",
       "3                   1  cheat mistreat step women hold breath wait elu...   \n",
       "4                   1  georg bank recov daughter wed receiv news she ...   \n",
       "\n",
       "   popularity                               production_companies  \\\n",
       "0   21.946943                            pixar animation studios   \n",
       "1   17.015539  interscope communications teitler film tristar...   \n",
       "2   11.712900                        warner bros. lancaster gate   \n",
       "3    3.859495             twentieth century fox film corporation   \n",
       "4    8.387519          sandollar productions touchstone pictures   \n",
       "\n",
       "  production_countries  ...  zu  canceled in-production planned  \\\n",
       "0                   us  ...   0         0             0       0   \n",
       "1                   us  ...   0         0             0       0   \n",
       "2                   us  ...   0         0             0       0   \n",
       "3                   us  ...   0         0             0       0   \n",
       "4                   us  ...   0         0             0       0   \n",
       "\n",
       "   post-production  released  rumored  \\\n",
       "0                0         1        0   \n",
       "1                0         1        0   \n",
       "2                0         1        0   \n",
       "3                0         1        0   \n",
       "4                0         1        0   \n",
       "\n",
       "                                          cast_names  \\\n",
       "0  johnratzenberger rleeermey donrickles erikvond...   \n",
       "1  bonniehunt laurabellbundy jameshandy gillianba...   \n",
       "2  burgessmeredith annmargret darylhannah jacklem...   \n",
       "3  lamontjohnson angelabassett lelarochon whitney...   \n",
       "4  janeadams kieranculkin stevemartin lorialan ki...   \n",
       "\n",
       "                                          crew_names  \\\n",
       "0  annmrockwell jeffpratt ashbrannon mickiemcgowa...   \n",
       "1  gregtaylor thomaseackerman williamteitler robe...   \n",
       "2          jackkeller howarddeutch markstevenjohnson   \n",
       "3  deborahschindler ezraswerdlow forestwhitaker c...   \n",
       "4  adambernardi nancymeyers elliotdavis alansilve...   \n",
       "\n",
       "                                         description  \n",
       "0  boy next door boy friendship friend rivalri to...  \n",
       "1  base children book board game giant insect new...  \n",
       "2        best friend old men duringcreditssting fish  \n",
       "3  interraci relationship chick flick divorc sing...  \n",
       "4  gynecologist daughter pregnanc midlif crisi ba...  \n",
       "\n",
       "[5 rows x 179 columns]"
      ]
     },
     "execution_count": 10,
     "metadata": {},
     "output_type": "execute_result"
    }
   ],
   "source": [
    "# inspect first five rows\n",
    "movies_df.head()"
   ]
  },
  {
   "cell_type": "markdown",
   "id": "8ed123e8-99c5-483e-b8b0-b0cbd5f5b26e",
   "metadata": {},
   "source": [
    "### Evaluate ability to join dataframes based on movieId"
   ]
  },
  {
   "cell_type": "markdown",
   "id": "aecb2c58-1fcd-4d51-9220-2ee47e2d695f",
   "metadata": {},
   "source": [
    "The **movieId** on ratings_df seems to be a **different key** than **id** on movies_df."
   ]
  },
  {
   "cell_type": "code",
   "execution_count": 15,
   "id": "9d6b0852-e9dc-4028-a6b2-bd407c29e4cb",
   "metadata": {},
   "outputs": [
    {
     "name": "stdout",
     "output_type": "stream",
     "text": [
      "There are 44975 unique movies rated in the ratings_df.\n"
     ]
    }
   ],
   "source": [
    "rated_movies = ratings_df.movieId.unique()\n",
    "print('There are {} unique movies rated in the ratings_df.'.format(len(rated_movies)))"
   ]
  },
  {
   "cell_type": "code",
   "execution_count": 16,
   "id": "63368910-3863-46dc-b504-496024ead2d8",
   "metadata": {},
   "outputs": [
    {
     "name": "stdout",
     "output_type": "stream",
     "text": [
      "There are 45430 unique movies represented in the movies_df.\n"
     ]
    }
   ],
   "source": [
    "repr_movies = movies_df.id.unique()\n",
    "print('There are {} unique movies represented in the movies_df.'.format(len(repr_movies)))"
   ]
  },
  {
   "cell_type": "code",
   "execution_count": 27,
   "id": "dae6c846-2b53-45a4-97cf-ff6e3675f65f",
   "metadata": {},
   "outputs": [
    {
     "name": "stdout",
     "output_type": "stream",
     "text": [
      "There are 37419 movies in the ratings_df not in the movies_df.\n"
     ]
    },
    {
     "data": {
      "text/plain": [
       "array([  1097,   1197,   1210, ..., 165649, 171051, 171221], dtype=int64)"
      ]
     },
     "execution_count": 27,
     "metadata": {},
     "output_type": "execute_result"
    }
   ],
   "source": [
    "rated_not_in_repr = rated_movies[~np.isin(rated_movies, repr_movies)]\n",
    "print('There are {} movies in the ratings_df not in the movies_df.'.format(len(rated_not_in_repr)))\n",
    "rated_not_in_repr"
   ]
  },
  {
   "cell_type": "code",
   "execution_count": 28,
   "id": "d86ebff2-30d2-4f97-a0c4-a4d9d9f7f661",
   "metadata": {},
   "outputs": [
    {
     "name": "stdout",
     "output_type": "stream",
     "text": [
      "There are 37874 movies in the movies_df not in the ratings_df.\n"
     ]
    },
    {
     "data": {
      "text/plain": [
       "array([ 15602,  31357,  11862, ...,  67758, 227506, 461257], dtype=int64)"
      ]
     },
     "execution_count": 28,
     "metadata": {},
     "output_type": "execute_result"
    }
   ],
   "source": [
    "repr_not_in_rated = repr_movies[~np.isin(repr_movies, rated_movies)]\n",
    "print('There are {} movies in the movies_df not in the ratings_df.'.format(len(repr_not_in_rated)))\n",
    "repr_not_in_rated"
   ]
  },
  {
   "cell_type": "markdown",
   "id": "72cf1239-ea61-4275-b1bf-228bd0f0ac3d",
   "metadata": {},
   "source": []
  }
 ],
 "metadata": {
  "kernelspec": {
   "display_name": "Python 3",
   "language": "python",
   "name": "python3"
  },
  "language_info": {
   "codemirror_mode": {
    "name": "ipython",
    "version": 3
   },
   "file_extension": ".py",
   "mimetype": "text/x-python",
   "name": "python",
   "nbconvert_exporter": "python",
   "pygments_lexer": "ipython3",
   "version": "3.7.7"
  }
 },
 "nbformat": 4,
 "nbformat_minor": 5
}
